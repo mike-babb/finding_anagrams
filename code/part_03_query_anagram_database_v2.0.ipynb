{
 "cells": [
  {
   "cell_type": "markdown",
   "metadata": {},
   "source": [
    "# Mike Babb\n",
    "# babbm@uw.edu\n",
    "# Find anagrams\n",
    "## Part 3: Query the anagram database"
   ]
  },
  {
   "cell_type": "code",
   "execution_count": 1,
   "metadata": {},
   "outputs": [],
   "source": [
    "# standard libraries - installed by default\n",
    "import datetime\n",
    "import csv\n",
    "import os\n",
    "import sqlite3"
   ]
  },
  {
   "cell_type": "code",
   "execution_count": 2,
   "metadata": {},
   "outputs": [],
   "source": [
    "# external libraries - not installed by default\n",
    "import numpy as np\n",
    "import pandas as pd"
   ]
  },
  {
   "cell_type": "code",
   "execution_count": 3,
   "metadata": {},
   "outputs": [],
   "source": [
    "from part_00_process_functions import build_db_conn, query_db"
   ]
  },
  {
   "cell_type": "markdown",
   "metadata": {},
   "source": [
    "### set names and paths"
   ]
  },
  {
   "cell_type": "code",
   "execution_count": 4,
   "metadata": {},
   "outputs": [],
   "source": [
    "# database path and name\n",
    "db_path = '/project/finding_anagrams/db'\n",
    "db_name = 'words.db'"
   ]
  },
  {
   "cell_type": "code",
   "execution_count": 5,
   "metadata": {},
   "outputs": [],
   "source": [
    "# set up paths\n",
    "out_file_path = '/project/finding_anagrams/words'"
   ]
  },
  {
   "cell_type": "code",
   "execution_count": 6,
   "metadata": {},
   "outputs": [],
   "source": [
    "if os.path.exists(out_file_path):\n",
    "    pass\n",
    "else:\n",
    "    os.makedirs(out_file_path)"
   ]
  },
  {
   "cell_type": "markdown",
   "metadata": {},
   "source": [
    "### define focal word"
   ]
  },
  {
   "cell_type": "code",
   "execution_count": 7,
   "metadata": {},
   "outputs": [],
   "source": [
    "# select a focal word for testing\n",
    "focal_word = 'acromioscapular'"
   ]
  },
  {
   "cell_type": "markdown",
   "metadata": {},
   "source": [
    "### load the list of words"
   ]
  },
  {
   "cell_type": "code",
   "execution_count": 8,
   "metadata": {},
   "outputs": [
    {
     "name": "stdout",
     "output_type": "stream",
     "text": [
      "...query execution took: 0.289772 seconds...\n"
     ]
    }
   ],
   "source": [
    "sql = 'select lcase, word_id, word_group_id from words_v2;'\n",
    "word_df = query_db(sql=sql, db_path = db_path, db_name = db_name)"
   ]
  },
  {
   "cell_type": "code",
   "execution_count": 9,
   "metadata": {},
   "outputs": [],
   "source": [
    "# use dictionary comprehension to create a very fast lookup table\n",
    "word_id_dict = {word:(word_id, word_group_id) for word, word_id, word_group_id in \n",
    "                zip(word_df['lcase'], word_df['word_id'], word_df['word_group_id'])}\n"
   ]
  },
  {
   "cell_type": "code",
   "execution_count": 10,
   "metadata": {},
   "outputs": [],
   "source": [
    "focal_word_id, focal_word_group_id = word_id_dict[focal_word]"
   ]
  },
  {
   "cell_type": "markdown",
   "metadata": {},
   "source": [
    "### load from/parent word group id pairs"
   ]
  },
  {
   "cell_type": "code",
   "execution_count": 11,
   "metadata": {},
   "outputs": [],
   "source": [
    "sql = 'select from_word_group_id from anagram_groups where to_word_group_id = (?);'"
   ]
  },
  {
   "cell_type": "code",
   "execution_count": 12,
   "metadata": {},
   "outputs": [
    {
     "name": "stdout",
     "output_type": "stream",
     "text": [
      "...query execution took: 0.000947 seconds...\n"
     ]
    }
   ],
   "source": [
    "pw_df = query_db(sql = sql, db_path = db_path, db_name = db_name, params = (focal_word_group_id,))"
   ]
  },
  {
   "cell_type": "code",
   "execution_count": 13,
   "metadata": {},
   "outputs": [],
   "source": [
    "# parent word dataframe\n",
    "parent_word_df = word_df.loc[word_df['word_group_id'].isin(pw_df['from_word_group_id']), ['lcase']]"
   ]
  },
  {
   "cell_type": "markdown",
   "metadata": {},
   "source": [
    "### load to/child word group id pairs"
   ]
  },
  {
   "cell_type": "code",
   "execution_count": 14,
   "metadata": {},
   "outputs": [],
   "source": [
    "# get child words\n",
    "sql = 'select to_word_group_id from anagram_groups where from_word_group_id = (?);'"
   ]
  },
  {
   "cell_type": "code",
   "execution_count": 15,
   "metadata": {},
   "outputs": [
    {
     "name": "stdout",
     "output_type": "stream",
     "text": [
      "...query execution took: 0.009849 seconds...\n"
     ]
    }
   ],
   "source": [
    "cw_df = query_db(sql = sql, db_path = db_path, db_name = db_name, params = (focal_word_group_id,))"
   ]
  },
  {
   "cell_type": "code",
   "execution_count": 16,
   "metadata": {},
   "outputs": [],
   "source": [
    "child_word_df = word_df.loc[word_df['word_group_id'].isin(cw_df['to_word_group_id']), ['lcase']]"
   ]
  },
  {
   "cell_type": "markdown",
   "metadata": {},
   "source": [
    "### determine exact anagrams"
   ]
  },
  {
   "cell_type": "code",
   "execution_count": 17,
   "metadata": {},
   "outputs": [],
   "source": [
    "# compute exact anagrams\n",
    "pw_set = set(parent_word_df['lcase'].tolist())\n",
    "cw_set = set(child_word_df['lcase'].tolist())"
   ]
  },
  {
   "cell_type": "code",
   "execution_count": 18,
   "metadata": {},
   "outputs": [],
   "source": [
    "# compute the intersection\n",
    "ew_set = pw_set.intersection(cw_set)"
   ]
  },
  {
   "cell_type": "code",
   "execution_count": 19,
   "metadata": {},
   "outputs": [],
   "source": [
    "# now, remove the interesection from both the from and the to word group sets\n",
    "pw_set = pw_set.difference(ew_set)"
   ]
  },
  {
   "cell_type": "code",
   "execution_count": 20,
   "metadata": {},
   "outputs": [],
   "source": [
    "cw_set = cw_set.difference(ew_set)"
   ]
  },
  {
   "cell_type": "code",
   "execution_count": 21,
   "metadata": {},
   "outputs": [],
   "source": [
    "# now, remove the focal word from the exact word set\n",
    "if focal_word in ew_set:\n",
    "    ew_set.remove(focal_word)"
   ]
  },
  {
   "cell_type": "code",
   "execution_count": 22,
   "metadata": {},
   "outputs": [],
   "source": [
    "## Save the list of anagrams to disk"
   ]
  },
  {
   "cell_type": "code",
   "execution_count": 23,
   "metadata": {},
   "outputs": [],
   "source": [
    "# so, let's set up writing to disk\n",
    "out_file_name = focal_word + '_anagrams.txt'"
   ]
  },
  {
   "cell_type": "code",
   "execution_count": 24,
   "metadata": {},
   "outputs": [],
   "source": [
    "ofpn = os.path.join(out_file_path, out_file_name)"
   ]
  },
  {
   "cell_type": "code",
   "execution_count": 25,
   "metadata": {},
   "outputs": [],
   "source": [
    "pw_list = sorted(pw_set)\n",
    "ew_list = sorted(ew_set)\n",
    "cw_list = sorted(cw_set)"
   ]
  },
  {
   "cell_type": "code",
   "execution_count": 26,
   "metadata": {},
   "outputs": [],
   "source": [
    "# write the from, exact, and to anagram pairs to a text file.\n",
    "with open( ofpn, 'w', newline = '') as out_file:\n",
    "    # from anagrams\n",
    "    write_line = 'Parent/From anagrams for: ' + focal_word + '\\n'\n",
    "    out_file.writelines(write_line)\n",
    "    for pw in pw_list:\n",
    "        write_line = pw + '\\n'\n",
    "        out_file.writelines(write_line)\n",
    "    \n",
    "    # exact anagrams\n",
    "    out_file.writelines('\\n')    \n",
    "    write_line = 'Exact anagrams for: ' + focal_word + '\\n'\n",
    "    out_file.writelines(write_line)    \n",
    "    for ew in ew_list:\n",
    "        write_line = ew + '\\n'\n",
    "        out_file.writelines(write_line)\n",
    "    \n",
    "    # to anagrams\n",
    "    out_file.writelines('\\n')\n",
    "    write_line = 'Child/To anagrams for: ' + focal_word + '\\n'\n",
    "    out_file.writelines(write_line)    \n",
    "    for cw in cw_list:\n",
    "        write_line = cw + '\\n'\n",
    "        out_file.writelines(write_line)      "
   ]
  },
  {
   "cell_type": "code",
   "execution_count": null,
   "metadata": {},
   "outputs": [],
   "source": []
  }
 ],
 "metadata": {
  "kernelspec": {
   "display_name": "Python 3 (ipykernel)",
   "language": "python",
   "name": "python3"
  },
  "language_info": {
   "codemirror_mode": {
    "name": "ipython",
    "version": 3
   },
   "file_extension": ".py",
   "mimetype": "text/x-python",
   "name": "python",
   "nbconvert_exporter": "python",
   "pygments_lexer": "ipython3",
   "version": "3.11.3"
  }
 },
 "nbformat": 4,
 "nbformat_minor": 4
}
