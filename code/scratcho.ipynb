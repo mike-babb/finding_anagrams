{
 "cells": [
  {
   "cell_type": "code",
   "execution_count": 1,
   "id": "67a99fb0-4648-450a-bb7a-412571fe4838",
   "metadata": {},
   "outputs": [],
   "source": [
    "import numpy as np"
   ]
  },
  {
   "cell_type": "code",
   "execution_count": null,
   "id": "37764559-a3fe-4c72-bcbf-482378735916",
   "metadata": {},
   "outputs": [],
   "source": []
  },
  {
   "cell_type": "code",
   "execution_count": 2,
   "id": "9df41e55-abd5-4e9d-99b4-98cce8d8b70f",
   "metadata": {},
   "outputs": [],
   "source": [
    "ar1 = np.array([500, 501, 502, 503, 504])"
   ]
  },
  {
   "cell_type": "code",
   "execution_count": 3,
   "id": "e1d8c403-fa54-43f8-a1aa-682f22583980",
   "metadata": {},
   "outputs": [
    {
     "data": {
      "text/plain": [
       "array([500, 501, 502, 503, 504])"
      ]
     },
     "execution_count": 3,
     "metadata": {},
     "output_type": "execute_result"
    }
   ],
   "source": [
    "ar1"
   ]
  },
  {
   "cell_type": "code",
   "execution_count": 4,
   "id": "8b66a24f-24b9-49a1-8fc8-486193e829cc",
   "metadata": {},
   "outputs": [],
   "source": [
    "s1 = set(ar1)"
   ]
  },
  {
   "cell_type": "code",
   "execution_count": 5,
   "id": "df797b84-4b63-4424-974f-58d3d9c4f7be",
   "metadata": {},
   "outputs": [
    {
     "data": {
      "text/plain": [
       "{500, 501, 502, 503, 504}"
      ]
     },
     "execution_count": 5,
     "metadata": {},
     "output_type": "execute_result"
    }
   ],
   "source": [
    "s1"
   ]
  },
  {
   "cell_type": "code",
   "execution_count": 7,
   "id": "791e9e1c-74c7-4f22-ab2f-1f3c074566f9",
   "metadata": {},
   "outputs": [
    {
     "data": {
      "text/plain": [
       "numpy.int32"
      ]
     },
     "execution_count": 7,
     "metadata": {},
     "output_type": "execute_result"
    }
   ],
   "source": [
    "type(s1.pop())"
   ]
  },
  {
   "cell_type": "code",
   "execution_count": null,
   "id": "3380bf15-c6d7-4e47-899b-88a0b9dde57f",
   "metadata": {},
   "outputs": [],
   "source": []
  },
  {
   "cell_type": "code",
   "execution_count": null,
   "id": "1c8922b7-f60b-4575-b58e-580e7133e984",
   "metadata": {},
   "outputs": [],
   "source": []
  },
  {
   "cell_type": "code",
   "execution_count": 5,
   "id": "b8776973-aba7-4109-9ddc-6e87f1b4a0e4",
   "metadata": {},
   "outputs": [],
   "source": [
    "ar2 = np.array([503, 504])"
   ]
  },
  {
   "cell_type": "code",
   "execution_count": 8,
   "id": "8f14d0d7-706d-45d9-8213-02b3f1f9e4eb",
   "metadata": {},
   "outputs": [
    {
     "ename": "ValueError",
     "evalue": "operands could not be broadcast together with shapes (5,) (2,) ",
     "output_type": "error",
     "traceback": [
      "\u001b[1;31m---------------------------------------------------------------------------\u001b[0m",
      "\u001b[1;31mValueError\u001b[0m                                Traceback (most recent call last)",
      "Cell \u001b[1;32mIn[8], line 1\u001b[0m\n\u001b[1;32m----> 1\u001b[0m ar3 \u001b[38;5;241m=\u001b[39m np\u001b[38;5;241m.\u001b[39mwhere(ar1 \u001b[38;5;241m==\u001b[39m ar2)\n",
      "\u001b[1;31mValueError\u001b[0m: operands could not be broadcast together with shapes (5,) (2,) "
     ]
    }
   ],
   "source": [
    "ar3 = np.where(ar1 == ar2)"
   ]
  },
  {
   "cell_type": "code",
   "execution_count": null,
   "id": "478c6e88-06ad-4c2c-99e8-5f063b39585c",
   "metadata": {},
   "outputs": [],
   "source": []
  }
 ],
 "metadata": {
  "kernelspec": {
   "display_name": "Python 3 (ipykernel)",
   "language": "python",
   "name": "python3"
  },
  "language_info": {
   "codemirror_mode": {
    "name": "ipython",
    "version": 3
   },
   "file_extension": ".py",
   "mimetype": "text/x-python",
   "name": "python",
   "nbconvert_exporter": "python",
   "pygments_lexer": "ipython3",
   "version": "3.11.5"
  }
 },
 "nbformat": 4,
 "nbformat_minor": 5
}
