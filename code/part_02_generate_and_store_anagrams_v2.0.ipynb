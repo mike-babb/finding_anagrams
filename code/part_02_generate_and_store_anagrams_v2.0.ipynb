{
 "cells": [
  {
   "cell_type": "markdown",
   "metadata": {},
   "source": [
    "# Mike Babb\n",
    "# babbm@uw.edu\n",
    "# Find anagrams\n",
    "## Part 2: Generate and store the anagrams v2.0"
   ]
  },
  {
   "cell_type": "code",
   "execution_count": null,
   "metadata": {
    "tags": []
   },
   "outputs": [],
   "source": [
    "# standard libraries - installed by default\n",
    "import collections\n",
    "import datetime\n",
    "import pickle\n",
    "import sqlite3\n",
    "import string\n",
    "import os\n",
    "import timeit"
   ]
  },
  {
   "cell_type": "code",
   "execution_count": null,
   "metadata": {
    "tags": []
   },
   "outputs": [],
   "source": [
    "# external libraries - not installed by default\n",
    "import numpy as np\n",
    "import pandas as pd"
   ]
  },
  {
   "cell_type": "code",
   "execution_count": null,
   "metadata": {
    "tags": []
   },
   "outputs": [],
   "source": [
    "from part_00_file_db_utils import load_pickle, build_db_conn\n",
    "from part_00_process_functions import estimate_total_pairs, get_values, store_anagram_pairs, store_anagaram_processing_time"
   ]
  },
  {
   "cell_type": "markdown",
   "metadata": {},
   "source": [
    "### set input and output paths"
   ]
  },
  {
   "cell_type": "code",
   "execution_count": null,
   "metadata": {
    "tags": []
   },
   "outputs": [],
   "source": [
    "# base file path\n",
    "base_file_path = '/project/finding_anagrams'"
   ]
  },
  {
   "cell_type": "code",
   "execution_count": null,
   "metadata": {
    "tags": []
   },
   "outputs": [],
   "source": [
    "# input path\n",
    "in_file_path = 'data'\n",
    "in_file_path = os.path.join(base_file_path, in_file_path)"
   ]
  },
  {
   "cell_type": "code",
   "execution_count": null,
   "metadata": {
    "tags": []
   },
   "outputs": [],
   "source": [
    "# output db path and name\n",
    "db_path = 'db'\n",
    "db_path = os.path.join(base_file_path, db_path)"
   ]
  },
  {
   "cell_type": "code",
   "execution_count": null,
   "metadata": {
    "tags": []
   },
   "outputs": [],
   "source": [
    "if os.path.exists(db_path):\n",
    "    pass\n",
    "else:\n",
    "    os.makedirs(db_path)"
   ]
  },
  {
   "cell_type": "code",
   "execution_count": null,
   "metadata": {
    "tags": []
   },
   "outputs": [],
   "source": [
    "db_name = 'words.db'"
   ]
  },
  {
   "cell_type": "markdown",
   "metadata": {},
   "source": [
    "### process control flags"
   ]
  },
  {
   "cell_type": "code",
   "execution_count": null,
   "metadata": {
    "tags": []
   },
   "outputs": [],
   "source": [
    "# Use numpy to perform matrix opertions and determine from/to and exact anagram relationships\n",
    "# option 1 - work with the full char_matrix\n",
    "# option 2 - create submatrices by word length\n",
    "# option 3 - create submatrices by word length and letter\n",
    "# option 4 - create submatrices by word length and least common two letters\n",
    "\n",
    "matrix_extraction_option = 4\n",
    "\n",
    "# max number of letters to slice to use for the generation of sub-matrices for\n",
    "# option 4. More letters means more sub-matrices\n",
    "# 3 seems to be the sweet spot\n",
    "n_subset_letters = 2\n",
    "\n",
    "# set write_data to true to store the generated list of anagrams\n",
    "write_data = True\n",
    "\n",
    "# set to None to include all letters\n",
    "# test with a subset of letters by setting the letter_subset_list to ['q', 'x'] or \n",
    "# a different set of letters\n",
    "letter_subset_list = ['x']\n",
    "#letter_subset_list = None"
   ]
  },
  {
   "cell_type": "code",
   "execution_count": null,
   "metadata": {
    "tags": []
   },
   "outputs": [],
   "source": [
    "# start a timer to record the entire operation\n",
    "total_time_start = datetime.datetime.now()"
   ]
  },
  {
   "cell_type": "markdown",
   "metadata": {},
   "source": [
    "### load input data"
   ]
  },
  {
   "cell_type": "code",
   "execution_count": null,
   "metadata": {
    "tags": []
   },
   "outputs": [],
   "source": [
    "# load the word_df, the words from Part 1\n",
    "input_file_name = 'word_df.csv'\n",
    "# build the file path\n",
    "ipn = os.path.join(in_file_path, input_file_name)\n",
    "\n",
    "# specify the datatypes of the columns using a dictionary\n",
    "# because NA and NULL are reserved python words, but also words in our list of words,\n",
    "# we need to specify the data types of the columns\n",
    "dtype_dict = {'word': str,\n",
    "              'lcase': str,\n",
    "              'n_chars': int,\n",
    "              'first_letter': str,\n",
    "              'word_id': int,\n",
    "              'word_group_id': int,\n",
    "              'letter_group': str,\n",
    "              'letter_group_ranked': str}\n",
    "\n",
    "# read in the file and be careful of the NA and NULL values\n",
    "# https://pandas.pydata.org/pandas-docs/stable/reference/api/pandas.read_csv.html\n",
    "word_df = pd.read_csv(filepath_or_buffer = ipn, sep = '\\t', header = 0,\n",
    "                          dtype=dtype_dict, na_values = '!!', keep_default_na=False)   "
   ]
  },
  {
   "cell_type": "code",
   "execution_count": null,
   "metadata": {
    "tags": []
   },
   "outputs": [],
   "source": [
    "# extract the column of word ids as a numpy array\n",
    "word_id_list = word_df['word_id'].to_numpy()    "
   ]
  },
  {
   "cell_type": "code",
   "execution_count": null,
   "metadata": {
    "tags": []
   },
   "outputs": [],
   "source": [
    "# create a dataframe with the letters sorted by the frequency of words that\n",
    "# start with a particular letter\n",
    "agg_word_df = word_df['first_letter'].groupby(word_df['first_letter']).agg(np.size).to_frame()\n",
    "\n",
    "# set column names\n",
    "agg_word_df.columns = ['word_count']\n",
    "\n",
    "# reset the index to rename columns\n",
    "agg_word_df = agg_word_df.reset_index()\n",
    "\n",
    "# sort the dataframe by frequency\n",
    "agg_word_df = agg_word_df.sort_values(by='word_count')"
   ]
  },
  {
   "cell_type": "code",
   "execution_count": null,
   "metadata": {
    "tags": []
   },
   "outputs": [],
   "source": [
    "# extract the letters sorted by word frequency\n",
    "sorted_first_letters = agg_word_df['first_letter'].tolist()"
   ]
  },
  {
   "cell_type": "code",
   "execution_count": null,
   "metadata": {
    "tags": []
   },
   "outputs": [],
   "source": [
    "# load the letter dictionary from part 1\n",
    "in_file_name = 'letter_dict.pkl'\n",
    "letter_dict = load_pickle(in_file_path = in_file_path, in_file_name=in_file_name)"
   ]
  },
  {
   "cell_type": "code",
   "execution_count": null,
   "metadata": {
    "tags": []
   },
   "outputs": [],
   "source": [
    "# load the word dictionary from part 1\n",
    "in_file_name = 'word_dict.pkl'\n",
    "word_dict = load_pickle(in_file_path = in_file_path, in_file_name=in_file_name)"
   ]
  },
  {
   "cell_type": "code",
   "execution_count": null,
   "metadata": {
    "tags": []
   },
   "outputs": [],
   "source": [
    "# load the char matrix from part 1\n",
    "in_file_name = 'char_matrix.npy'\n",
    "ipn = os.path.join(in_file_path, in_file_name)\n",
    "char_matrix = np.load(file = ipn)"
   ]
  },
  {
   "cell_type": "markdown",
   "metadata": {},
   "source": [
    "### create the word group df: wg_df"
   ]
  },
  {
   "cell_type": "code",
   "execution_count": null,
   "metadata": {
    "tags": []
   },
   "outputs": [],
   "source": [
    "# drop duplicates based on the word group. \n",
    "# by default, this will only keep the first record and it will drop all others\n",
    "wg_df = word_df.drop_duplicates(subset = ['word_group_id']).copy()"
   ]
  },
  {
   "cell_type": "code",
   "execution_count": null,
   "metadata": {
    "tags": []
   },
   "outputs": [],
   "source": [
    "wg_df = wg_df.sort_values(by = 'word_id')"
   ]
  },
  {
   "cell_type": "code",
   "execution_count": null,
   "metadata": {
    "tags": []
   },
   "outputs": [],
   "source": [
    "# unique word groups\n",
    "wg_df.shape"
   ]
  },
  {
   "cell_type": "code",
   "execution_count": null,
   "metadata": {
    "tags": []
   },
   "outputs": [],
   "source": [
    "# get the word group ids\n",
    "word_group_id_list = wg_df['word_group_id'].to_numpy()\n",
    "# and the associated word_id\n",
    "word_id_list = wg_df['word_id'].to_numpy()"
   ]
  },
  {
   "cell_type": "code",
   "execution_count": null,
   "metadata": {
    "tags": []
   },
   "outputs": [],
   "source": [
    "# trim the char matrix by word id\n",
    "# and not the word_group id\n",
    "wchar_matrix = char_matrix[word_id_list, :]"
   ]
  },
  {
   "cell_type": "code",
   "execution_count": null,
   "metadata": {
    "tags": []
   },
   "outputs": [],
   "source": [
    "# i don't use these objects, but i can't delete them?\n",
    "# build a word_id to word_group_id dictionary\n",
    "word_id_wg_id_dict = dict()\n",
    "# and a word_group_id to word_id dictionary\n",
    "wg_id_word_id_dict = dict()\n",
    "\n",
    "for word_id, wg_id in zip(wg_df['word_id'], wg_df['word_group_id']):\n",
    "    word_id_wg_id_dict[word_id] = wg_id\n",
    "    wg_id_word_id_dict[wg_id] = word_id"
   ]
  },
  {
   "cell_type": "code",
   "execution_count": null,
   "metadata": {},
   "outputs": [],
   "source": [
    "wg_df.head()"
   ]
  },
  {
   "cell_type": "code",
   "execution_count": null,
   "metadata": {},
   "outputs": [],
   "source": [
    "wg_df['letter_selector'] = wg_df['letter_group_ranked'].str[:n_subset_letters]"
   ]
  },
  {
   "cell_type": "code",
   "execution_count": null,
   "metadata": {
    "tags": []
   },
   "outputs": [],
   "source": [
    "# the dictionary holding the sub-matrices\n",
    "n_char_matrix_dict = {}\n",
    "\n",
    "# by word length\n",
    "word_length_list = sorted(wg_df['n_chars'].unique().tolist())\n",
    "\n",
    "# python dictionaries work by storing the hash values of objects\n",
    "# Anything that can be hashed can be a dictionary key. \n",
    "# Computing the hash value of an object ahead of time can reduce dictionary access time.\n",
    "# we'll compute the associated hash value of the tuple used to identify the sub-matrices.\n",
    "\n",
    "wg_id_n_char_matrix_dict = {}\n",
    "wg_df['wg_id_n_char_matrix_key'] = wg_df['letter_selector']\n",
    "wg_df['wg_id_n_char_matrix_key_hash'] = wg_df['wg_id_n_char_matrix_key'].map(hash)\n",
    "for curr_word_id, curr_key_hash in zip(wg_df['word_group_id'], wg_df['wg_id_n_char_matrix_key_hash']):\n",
    "    wg_id_n_char_matrix_dict[curr_word_id] = curr_key_hash\n"
   ]
  },
  {
   "cell_type": "code",
   "execution_count": null,
   "metadata": {},
   "outputs": [],
   "source": [
    "# okay, now we need to populate three sets of dictionaries:\n",
    "# word length\n",
    "# letter selector\n",
    "# the intersection of the two"
   ]
  },
  {
   "cell_type": "code",
   "execution_count": null,
   "metadata": {},
   "outputs": [],
   "source": [
    "# there will be three parts to this function\n",
    "# The first part does a selection by a single character\n",
    "# The second part does the selection based on the newly created subselection\n",
    "\n",
    "# peforming selections on a dataframe is slow.\n",
    "# Especially so since we are comparing characters\n",
    "    \n",
    "# now, do it again, but this time use the dictionary\n",
    "# by word length and n least common letters\n",
    "wg_df['letter_selector'] = wg_df['letter_group_ranked'].str[:n_subset_letters]\n",
    "nc_ls_df = wg_df[['n_chars', 'letter_selector']].drop_duplicates()\n",
    "\n",
    "print(n_subset_letters)\n",
    "print('...creating', nc_ls_df.shape[0], 'sets of ids')"
   ]
  },
  {
   "cell_type": "code",
   "execution_count": null,
   "metadata": {},
   "outputs": [],
   "source": [
    "nc_ls_df.head()"
   ]
  },
  {
   "cell_type": "code",
   "execution_count": null,
   "metadata": {},
   "outputs": [],
   "source": [
    "# let's enumerate this fucker\n",
    "loop_count = 0\n",
    "s_time = datetime.datetime.now()\n",
    "# n char dictionaries\n",
    "n_char_dict = {}\n",
    "\n",
    "# single letter matrix dict\n",
    "single_letter_matrix_dict = {}\n",
    "\n",
    "# letter selector dictionary\n",
    "letter_selector_matrix_dict = {}\n",
    "\n",
    "# the intersection of the two\n",
    "nc_ls_matrix_dict = {}\n",
    "\n",
    "# enumerate these combinations only once\n",
    "# reduce the number of times we have to compute sets of ids\n",
    "\n",
    "for nc, ls in zip(nc_ls_df['n_chars'], nc_ls_df['letter_selector']):\n",
    "    \n",
    "    # build the number of characters splits\n",
    "    if nc not in n_char_dict:    \n",
    "    \n",
    "        nc_wg_id_list = wg_df.loc[(wg_df['n_chars']>=nc) , 'word_group_id'].tolist()        \n",
    "\n",
    "        # subset the wchar_matrix to get the sub matrix\n",
    "        nc_sub_wchar_matrix = wchar_matrix[nc_wg_id_list, ]\n",
    "        \n",
    "        n_char_dict[nc] = (nc_wg_id_list, nc_sub_wchar_matrix)\n",
    "    else:\n",
    "        nc_wg_id_list, nc_sub_wchar_matrix = n_char_dict[nc]\n",
    "        \n",
    "\n",
    "    ll = ls[0]\n",
    "\n",
    "    # check to see if sub-matrix with the first letter has already been created\n",
    "    if ll not in single_letter_matrix_dict:            \n",
    "    \n",
    "        # the submatrix has not been created, let's do it.\n",
    "        column_selector = [letter_dict[ll]]                \n",
    "        outcome = wchar_matrix[:, column_selector] > 0   \n",
    "        outcome_indices = np.all(outcome > 0, axis = 1)\n",
    "\n",
    "        # these indices match with the word_id_list, extract the subset        \n",
    "        single_letter_word_group_id_list = word_group_id_list[outcome_indices]\n",
    "\n",
    "        # subset the wchar_matrix to get the sub matrix\n",
    "        single_letter_sub_wchar_matrix = wchar_matrix[single_letter_word_group_id_list, ]            \n",
    "\n",
    "        single_letter_matrix_dict[ll] = (single_letter_word_group_id_list, single_letter_sub_wchar_matrix)\n",
    "    else:\n",
    "        # query the sub matrices split by individual letter to then get the smaller partitions\n",
    "        single_letter_word_group_id_list, single_letter_sub_wchar_matrix = single_letter_matrix_dict[ll]\n",
    "        \n",
    "\n",
    "    if ls not in letter_selector_matrix_dict:\n",
    "        \n",
    "        # build a column selector\n",
    "        column_selector = [letter_dict[curr_letter] for curr_letter in ls]        \n",
    "\n",
    "        # get the indices of the single_letter_sub_wchar_matrix that feature the n least common letters\n",
    "        outcome = single_letter_sub_wchar_matrix[:, column_selector] > 0        \n",
    "        outcome_indices = np.all(outcome > 0, axis = 1)\n",
    "        \n",
    "        # these are now the ids\n",
    "        ls_wg_id_list = single_letter_word_group_id_list[outcome_indices]    \n",
    "                \n",
    "        # subset the wchar_matrix to get the sub matrix - this contains the three least common letters for a group of words\n",
    "        ls_wchar_matrix = wchar_matrix[ls_wg_id_list, ]        \n",
    "        letter_selector_matrix_dict[ls] = (ls_wg_id_list, ls_wchar_matrix)\n",
    "    else:\n",
    "        # this is the submatrix by letter selector\n",
    "        ls_wg_id_list, ls_wchar_matrix = letter_selector_matrix_dict[ls]\n",
    "\n",
    "    # now, compute the intersection of the two\n",
    "    nc_ls_tuple = (nc, ls)\n",
    "    # hash that fucker\n",
    "    #nc_ls_tuple_hash = hash(nc_ls_tuple)    \n",
    "    \n",
    "    # perform the intersection\n",
    "    # this is incredibly slow.\n",
    "    #nc_ls_wg_id_list = np.intersect1d(ar1 = nc_wg_id_list, ar2 = ls_wg_id_list)\n",
    "    #nc_ls_wg_id_list = np.array(object = list(nc_wg_id_list.intersection(ls_wg_id_list)), dtype = int)\n",
    "\n",
    "    # now, get the rows\n",
    "    #curr_wchar_matrix = wchar_matrix[nc_ls_wg_id_list, ]\n",
    "    #nc_ls_matrix_dict[nc_ls_tuple] = (nc_ls_wg_id_list, curr_wchar_matrix)\n",
    "\n",
    "    loop_count += 1\n",
    "    if loop_count % 1000 == 0:\n",
    "        print(loop_count)\n",
    "\n",
    "e_time = datetime.datetime.now()\n",
    "p_time = e_time - s_time\n",
    "print(p_time.total_seconds())"
   ]
  },
  {
   "cell_type": "code",
   "execution_count": null,
   "metadata": {
    "tags": []
   },
   "outputs": [],
   "source": [
    "# let's examine what we've created"
   ]
  },
  {
   "cell_type": "code",
   "execution_count": null,
   "metadata": {
    "tags": []
   },
   "outputs": [],
   "source": [
    "# demontrate the look up with the word 'quiet'"
   ]
  },
  {
   "cell_type": "code",
   "execution_count": null,
   "metadata": {
    "tags": []
   },
   "outputs": [],
   "source": [
    "wg_id = word_df.loc[word_df['lcase'] == 'quiet', 'word_group_id'].iloc[0]\n",
    "letter_selector = wg_df.loc[wg_df['word_group_id'] == wg_id, 'letter_selector'].iloc[0]"
   ]
  },
  {
   "cell_type": "code",
   "execution_count": null,
   "metadata": {},
   "outputs": [],
   "source": [
    "def get_values(wg_id:int, \n",
    "               wchar_matrix:np.ndarray,\n",
    "              word_group_id_list:np.ndarray):\n",
    "    \"\"\" FIND ANAGRAMS FOR A SPECIFIC USING word_group_id AND MATRIX COMPARISONS    \n",
    "    This is the simplest technique\n",
    "    \"\"\" \n",
    "\n",
    "    outcome = wchar_matrix - wchar_matrix[wg_id, ]\n",
    "    \n",
    "    # compute the score by finding where rows, across all columns, are GTE 0\n",
    "    outcome_indices = np.all(outcome >= 0, axis = 1)\n",
    "    outcome = None        \n",
    "    \n",
    "    # extract anagrams based on index values\n",
    "    outcome_word_id_list = word_group_id_list[outcome_indices]    \n",
    "    \n",
    "    output_list = np.zeros(shape = (outcome_word_id_list.shape[0], 2),  dtype=int)\n",
    "    \n",
    "    # update the output list with the word_id_list - these are from/parent words    \n",
    "    output_list[:, 0] = outcome_word_id_list\n",
    "    \n",
    "    # update with the word_id - this is the to/child word\n",
    "    output_list[:, 1] = wg_id\n",
    "        \n",
    "    return output_list\n"
   ]
  },
  {
   "cell_type": "code",
   "execution_count": null,
   "metadata": {
    "tags": []
   },
   "outputs": [],
   "source": [
    "output = get_values(wg_id = wg_id, \n",
    "                    wchar_matrix = wchar_matrix,\n",
    "                   word_group_id_list = word_group_id_list)"
   ]
  },
  {
   "cell_type": "code",
   "execution_count": null,
   "metadata": {},
   "outputs": [],
   "source": [
    "def get_values_better(wg_id:int,\n",
    "                      letter_selector:str,\n",
    "                      letter_selector_matrix_dict:dict):\n",
    "\n",
    "    # this is the submatrix by letter selector\n",
    "    ls_wg_id_list, ls_wchar_matrix = letter_selector_matrix_dict[letter_selector]\n",
    "\n",
    "    new_word_id = ls_wg_id_list==wg_id    \n",
    "    \n",
    "    # now, perform the comparison    \n",
    "    outcome = ls_wchar_matrix - ls_wchar_matrix[new_word_id, ]\n",
    "\n",
    "    # compute the score by finding where rows, across all columns, are GTE 0\n",
    "    outcome_indices = np.all(outcome >= 0, axis = 1)\n",
    "    outcome = None        \n",
    "    \n",
    "    # extract anagrams based on index values\n",
    "    outcome_word_id_list = ls_wg_id_list[outcome_indices]    \n",
    "    \n",
    "    output_list = np.zeros(shape = (outcome_word_id_list.shape[0], 2),  dtype=int)\n",
    "    \n",
    "    # update the output list with the word_id_list - these are from/parent words    \n",
    "    output_list[:, 0] = outcome_word_id_list\n",
    "    \n",
    "    # update with the word_id - this is the to/child word\n",
    "    output_list[:, 1] = wg_id\n",
    "\n",
    "    return output_list"
   ]
  },
  {
   "cell_type": "code",
   "execution_count": null,
   "metadata": {},
   "outputs": [],
   "source": [
    "output = get_values_better(wg_id = wg_id,\n",
    "                      letter_selector = letter_selector,\n",
    "                      letter_selector_matrix_dict = letter_selector_matrix_dict)"
   ]
  },
  {
   "cell_type": "code",
   "execution_count": null,
   "metadata": {
    "tags": []
   },
   "outputs": [],
   "source": [
    "# how many parent/from words were found for the word 'quiet'?\n",
    "len(output)"
   ]
  },
  {
   "cell_type": "code",
   "execution_count": null,
   "metadata": {
    "tags": []
   },
   "outputs": [],
   "source": [
    "# this is an array of from words to the word 'quiet'\n",
    "output"
   ]
  },
  {
   "cell_type": "code",
   "execution_count": null,
   "metadata": {
    "tags": []
   },
   "outputs": [],
   "source": [
    "# and those words are...\n",
    "word_list = word_df.loc[word_df['word_group_id'].isin(output[:, 0]), 'lcase'].tolist()"
   ]
  },
  {
   "cell_type": "code",
   "execution_count": null,
   "metadata": {
    "scrolled": true,
    "tags": []
   },
   "outputs": [],
   "source": [
    "word_list"
   ]
  },
  {
   "cell_type": "code",
   "execution_count": null,
   "metadata": {
    "tags": []
   },
   "outputs": [],
   "source": [
    "len(word_list)"
   ]
  },
  {
   "cell_type": "code",
   "execution_count": null,
   "metadata": {
    "tags": []
   },
   "outputs": [],
   "source": [
    "# we've tested with one word, let's time many evaluations to get a sense of how quickly \n",
    "# the current matrix_extraction_option executes\n",
    "# use the timeit() function to evaluate how long, on average, a single matrix operation\n",
    "# takes to complete\n",
    "code_snippet = \"\"\"get_values(wg_id = wg_id, \n",
    "                    wchar_matrix = wchar_matrix,\n",
    "                   word_group_id_list = word_group_id_list)\"\"\""
   ]
  },
  {
   "cell_type": "code",
   "execution_count": null,
   "metadata": {
    "tags": []
   },
   "outputs": [],
   "source": [
    "n_trials = 1000\n",
    "total_time = timeit.timeit(code_snippet,\n",
    "              number=n_trials, globals=globals())"
   ]
  },
  {
   "cell_type": "code",
   "execution_count": null,
   "metadata": {
    "tags": []
   },
   "outputs": [],
   "source": [
    "# average number of seconds per trial\n",
    "print(total_time, total_time / n_trials)"
   ]
  },
  {
   "cell_type": "code",
   "execution_count": null,
   "metadata": {},
   "outputs": [],
   "source": [
    "# use the timeit() function to evaluate how long, on average, a single matrix operation\n",
    "# takes to complete\n",
    "code_snippet = \"\"\"get_values_better(wg_id = wg_id,\n",
    "                      letter_selector = letter_selector,\n",
    "                      letter_selector_matrix_dict = letter_selector_matrix_dict)\"\"\""
   ]
  },
  {
   "cell_type": "code",
   "execution_count": null,
   "metadata": {},
   "outputs": [],
   "source": [
    "n_trials = 1000\n",
    "total_time = timeit.timeit(code_snippet,\n",
    "              number=n_trials, globals=globals())"
   ]
  },
  {
   "cell_type": "code",
   "execution_count": null,
   "metadata": {},
   "outputs": [],
   "source": [
    "# average number of seconds per trial\n",
    "print(total_time, total_time / n_trials)"
   ]
  },
  {
   "cell_type": "code",
   "execution_count": null,
   "metadata": {},
   "outputs": [],
   "source": [
    "# here is where I left off: 2023/12/30"
   ]
  },
  {
   "cell_type": "markdown",
   "metadata": {},
   "source": [
    "### estimate total number of from/to word pairs"
   ]
  },
  {
   "cell_type": "code",
   "execution_count": null,
   "metadata": {
    "tags": []
   },
   "outputs": [],
   "source": [
    "# how many anagrams are there?\n",
    "# let's estimate the number of anagrams by assuming that the number of\n",
    "# parent/from words is a function of word length. \n",
    "# let's sample 10 words of each word length, compute the number of from/parent anagrams\n",
    "# for each word in the sample, compute the min, mean, and max, and apply those values\n",
    "# to the numbers of words by length and multiply accordingly\n",
    "# this will give us very generous upper bound of anagram pairs"
   ]
  },
  {
   "cell_type": "code",
   "execution_count": null,
   "metadata": {},
   "outputs": [],
   "source": [
    "n_possible_anagrams = estimate_total_pairs(word_df = word_df, wg_df = wg_df,\n",
    "                                          n_char_matrix_dict = n_char_matrix_dict,\n",
    "                                           wg_id_n_char_matrix_dict = wg_id_n_char_matrix_dict)"
   ]
  },
  {
   "cell_type": "markdown",
   "metadata": {},
   "source": [
    "### discover from/to word group id pairs"
   ]
  },
  {
   "cell_type": "code",
   "execution_count": null,
   "metadata": {
    "tags": []
   },
   "outputs": [],
   "source": [
    "# initialize counters to count the number of to (child words) from a focal word.\n",
    "# we could do this in post-processing, but the data are already in memory and it's a simple \n",
    "# calculation to make.\n",
    "# we want to minimize the number of trips through our data.\n",
    "\n",
    "# the number of candidate words examined for each focal word\n",
    "\n",
    "# a list to hold the dataframes generated for each letter\n",
    "proc_time_df_list = []\n",
    "\n",
    "# subset the list of leters\n",
    "if letter_subset_list:\n",
    "    letters = letter_subset_list[:]\n",
    "else:\n",
    "    letters = sorted_first_letters\n",
    "\n",
    "anagram_pair_count = 0 \n",
    "# use numpy to pre-allocate an array that will be updated while enumerating. \n",
    "# this eliminates list.append() calls\n",
    "\n",
    "output_list = np.full(shape = (n_possible_anagrams, 2), fill_value = -1,  dtype=int)\n",
    "\n",
    "wg_count = 0\n",
    "\n",
    "for i_cl, curr_letter in enumerate(letters):\n",
    "    # enumerate by each letter\n",
    "    # this isn't absolutely necessary, we could just enumerate by word id, \n",
    "    # but for testing and development, letters are a handy way to chunk up the data. \n",
    "\n",
    "    # this dictionary will store the calculations for each letter\n",
    "    proc_time_dict = {}    \n",
    "    \n",
    "    # the list of words that start with the focal letter     \n",
    "    curr_wg_df = wg_df.loc[wg_df['first_letter'] == curr_letter, :]\n",
    "    \n",
    "    # sort the dataframe by n_chars and letter_selector, if it exists.\n",
    "    # this will cut down on dictionary lookups for matrix_extraction_types 3 and 4.        \n",
    "    curr_wg_df = curr_wg_df.sort_values(by = ['n_chars', 'letter_selector'])        \n",
    "    curr_word_group_id_list = curr_wg_df['word_group_id'].tolist()\n",
    "    \n",
    "    wg_count += len(curr_word_group_id_list)\n",
    "    \n",
    "    n_curr_words = '{:,}'.format(len(curr_wg_df))    \n",
    "    print('...finding parent anagrams for', n_curr_words, 'words that start with', curr_letter)               \n",
    "    \n",
    "    # enumerate by word id, working with integers is faster than words    \n",
    "    for i_wi, word_group_id in enumerate(curr_word_group_id_list):            \n",
    "        # start timing to record processing for each word            \n",
    "        s_time = datetime.datetime.now()\n",
    "        \n",
    "        # get the current word length, from the word id\n",
    "        #to_word, to_word_length, curr_first_letter, clg, clgr = word_dict[word_group_id]   \n",
    "        to_word_length = word_dict[word_group_id][1]               \n",
    "\n",
    "        # get the tuple associated with the word id\n",
    "        # much faster to look up stored values for the hash value than it is to \n",
    "        # only look up if the hash value has changed            \n",
    "        key_hash = wg_id_n_char_matrix_dict[word_group_id]                \n",
    "        # get the possible candidate word_group_ids and char matrix\n",
    "        curr_word_id_index_list, curr_char_matrix = n_char_matrix_dict[key_hash]                                \n",
    "\n",
    "        # how many candidates?\n",
    "        n_possible_words = len(curr_word_id_index_list)\n",
    "\n",
    "        # subtract the curr_test_vector from every row in the matrix\n",
    "        # this produces a new matrix.        \n",
    "        new_word_id = curr_word_id_index_list == word_group_id            \n",
    "        outcome = curr_char_matrix - curr_char_matrix[new_word_id, ]\n",
    "        del new_word_id\n",
    "                        \n",
    "        # compute the score by finding where rows, across all columns, are GTE 0\n",
    "        outcome_indices = np.all(outcome >= 0, axis = 1)\n",
    "        outcome = None        \n",
    "        \n",
    "        # extract anagrams based on same index values\n",
    "        outcome_word_id_list = curr_word_id_index_list[outcome_indices].tolist()\n",
    "            \n",
    "        outcome_indices = None               \n",
    "        \n",
    "        # if the outcome is greater than or equal to zero, then the current word is an\n",
    "        # anagram of the other word    \n",
    "        # a value  >= 0 means that the current word contains the exact same number of focal letters\n",
    "        # mite --> time or miter --> time\n",
    "        # a value >= 1 means that current word contains at least the same number of focal letters\n",
    "        # terminator --> time\n",
    "        # a value of <=-1 means that the current word does not have the \n",
    "        # correct number of letters and is therefore not an anagram.\n",
    "        # trait <> time        \n",
    "\n",
    "        # number of parent words found\n",
    "        n_from_words = len(outcome_word_id_list)\n",
    "\n",
    "        if n_from_words > 1:\n",
    "            \n",
    "            # we have matches\n",
    "            # the focal word   \n",
    "                                    \n",
    "            # enumerate the from/parent words            \n",
    "            new_anagram_pair_count = anagram_pair_count + len(outcome_word_id_list)\n",
    "            # the from words\n",
    "            #print(anagram_pair_count)    \n",
    "            #print(new_anagram_pair_count)\n",
    "            #print(len(outcome_word_id_list))\n",
    "            #print(output_list.shape)\n",
    "            output_list[anagram_pair_count:new_anagram_pair_count, 0] = outcome_word_id_list      \n",
    "            \n",
    "            # the to word\n",
    "            output_list[anagram_pair_count:new_anagram_pair_count, 1] = word_group_id                                            \n",
    "            \n",
    "            # set the anagram pair count\n",
    "            anagram_pair_count = new_anagram_pair_count\n",
    "                    \n",
    "                \n",
    "        del outcome_word_id_list\n",
    "            \n",
    "        # record the time for the word\n",
    "        e_time = datetime.datetime.now()\n",
    "        p_time = e_time - s_time    \n",
    "        p_time = p_time.total_seconds()\n",
    "\n",
    "        proc_time_dict[word_group_id] = (p_time, n_from_words, n_possible_words)       \n",
    "    \n",
    "    # create a dataframe from the proc_time_dict\n",
    "    proc_time_df = pd.DataFrame.from_dict(data=proc_time_dict, orient='index')\n",
    "    proc_time_df = proc_time_df.reset_index()\n",
    "    proc_time_df.columns = ['word_group_id', 'n_seconds', 'n_from_word_groups', 'n_candidates']                \n",
    "    \n",
    "    # display processing time for the current letter\n",
    "    total_proc_time = round(proc_time_df['n_seconds'].sum(), 2)\n",
    "    print('...finding parent anagrams for', curr_letter, 'words took', total_proc_time, 'seconds...')\n",
    "    \n",
    "    proc_time_df_list.append(proc_time_df)"
   ]
  },
  {
   "cell_type": "markdown",
   "metadata": {},
   "source": [
    "### shape and store output data"
   ]
  },
  {
   "cell_type": "code",
   "execution_count": null,
   "metadata": {
    "tags": []
   },
   "outputs": [],
   "source": [
    "# truncate the output array to only include indices with a from/to word pair\n",
    "output_indices = np.all(output_list >= 0, axis = 1)\n",
    "output_list = output_list[output_indices, ]\n",
    "del output_indices"
   ]
  },
  {
   "cell_type": "code",
   "execution_count": null,
   "metadata": {
    "tags": []
   },
   "outputs": [],
   "source": [
    "# how many anagram pairs were found?\n",
    "n_total_anagrams = len(output_list)\n",
    "n_total_anagrams_formatted = '{:,}'.format(n_total_anagrams)\n",
    "print('...total anagrams', n_total_anagrams_formatted)"
   ]
  },
  {
   "cell_type": "code",
   "execution_count": null,
   "metadata": {
    "tags": []
   },
   "outputs": [],
   "source": [
    "## count the number of to words\n",
    "# https://docs.python.org/3/library/collections.html#collections.Counter\n",
    "# number of to words"
   ]
  },
  {
   "cell_type": "markdown",
   "metadata": {},
   "source": [
    "### write anagram pairs to SQLite"
   ]
  },
  {
   "cell_type": "code",
   "execution_count": null,
   "metadata": {
    "tags": []
   },
   "outputs": [],
   "source": [
    "# write the anagram pairs to the database\n",
    "if write_data:\n",
    "    store_anagram_pairs(output_list = output_list, db_path = db_path, db_name = db_name)    "
   ]
  },
  {
   "cell_type": "markdown",
   "metadata": {},
   "source": [
    "### store number of from/to word pairs and time related to processing"
   ]
  },
  {
   "cell_type": "code",
   "execution_count": null,
   "metadata": {
    "tags": []
   },
   "outputs": [],
   "source": [
    "store_anagaram_processing_time(output_list=output_list, proc_time_df_list=proc_time_df_list, word_df=word_df,\n",
    "                               wg_df = wg_df,\n",
    "                               matrix_extraction_option = matrix_extraction_option, db_path=db_path,\n",
    "                               db_name=db_name, total_time_start=total_time_start)"
   ]
  }
 ],
 "metadata": {
  "kernelspec": {
   "display_name": "Python 3 (ipykernel)",
   "language": "python",
   "name": "python3"
  },
  "language_info": {
   "codemirror_mode": {
    "name": "ipython",
    "version": 3
   },
   "file_extension": ".py",
   "mimetype": "text/x-python",
   "name": "python",
   "nbconvert_exporter": "python",
   "pygments_lexer": "ipython3",
   "version": "3.11.5"
  }
 },
 "nbformat": 4,
 "nbformat_minor": 4
}
