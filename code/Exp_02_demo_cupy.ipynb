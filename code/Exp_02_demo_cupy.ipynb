{
 "cells": [
  {
   "cell_type": "markdown",
   "id": "869eb4bb",
   "metadata": {},
   "source": [
    "# Exp 02: Try using CuPy with the matrices\n",
    "Can we find parent/child word relationships faster  \n",
    "One way to achieve this is to use the GPU via CuPy \n",
    "https://docs.cupy.dev/en/stable/index.html  \n",
    "CuPy is basically NumPy on the GPU. Let's start with a simple case.  "
   ]
  },
  {
   "cell_type": "code",
   "execution_count": 1,
   "id": "73fa58d5-75a5-41ea-8943-ebae8f18d273",
   "metadata": {
    "tags": []
   },
   "outputs": [],
   "source": [
    "# standard libraries\n",
    "from time import perf_counter_ns\n",
    "import time"
   ]
  },
  {
   "cell_type": "code",
   "execution_count": 2,
   "id": "42ce83e6",
   "metadata": {},
   "outputs": [],
   "source": [
    "# external libraries\n",
    "import pandas as pd\n",
    "import numpy as np\n",
    "\n",
    "# custom libraries\n",
    "from _run_constants import *\n",
    "from part_00_file_db_utils import *\n",
    "from part_00_process_functions import *"
   ]
  },
  {
   "cell_type": "markdown",
   "id": "7bbee031",
   "metadata": {},
   "source": [
    "# Load input data\n",
    "The char_matrix and the formatted words"
   ]
  },
  {
   "cell_type": "code",
   "execution_count": 3,
   "id": "247235e1",
   "metadata": {},
   "outputs": [
    {
     "name": "stdout",
     "output_type": "stream",
     "text": [
      "...loading words into a dataframe...\n",
      "...query execution took: 0.51 seconds...\n",
      "...loading word groups into a dataframe...\n",
      "...query execution took: 0.5 seconds...\n",
      "...loading the letter dictionary...\n",
      "...loading the char matrix...\n",
      "...subsetting the char matrix...\n"
     ]
    }
   ],
   "source": [
    "word_df, wg_df, letter_dict, char_matrix, \\\n",
    "    word_group_id_list, word_id_list, wchar_matrix = load_input_data(\n",
    "        db_path=rc.DB_PATH, db_name=rc.DB_NAME,\n",
    "        in_file_path=rc.IN_FILE_PATH)"
   ]
  },
  {
   "cell_type": "markdown",
   "id": "45ff2e4d",
   "metadata": {},
   "source": [
    "# let's process 1000 rows using a single lookup on the full wchar_matrix"
   ]
  },
  {
   "cell_type": "code",
   "execution_count": 4,
   "id": "96b36966",
   "metadata": {},
   "outputs": [
    {
     "name": "stdout",
     "output_type": "stream",
     "text": [
      "...query execution took: 0.0 seconds...\n"
     ]
    }
   ],
   "source": [
    "# load the total number of anagrams\n",
    "n_possible_anagrams = load_possible_anagrams(db_path=rc.DB_PATH,\n",
    "                                             db_name=rc.DB_NAME)"
   ]
  },
  {
   "cell_type": "code",
   "execution_count": 5,
   "id": "25610500",
   "metadata": {},
   "outputs": [
    {
     "data": {
      "text/plain": [
       "'99,421,122'"
      ]
     },
     "execution_count": 5,
     "metadata": {},
     "output_type": "execute_result"
    }
   ],
   "source": [
    "f\"{n_possible_anagrams :,}\""
   ]
  },
  {
   "cell_type": "markdown",
   "id": "a8f806b2",
   "metadata": {},
   "source": [
    "# Using the CPU\n",
    "Create a data extraction scenario that is very similar to Matrix Extraction Technique 1: Using the full matrix. I remove the excess code and create a simple loop. "
   ]
  },
  {
   "cell_type": "code",
   "execution_count": 6,
   "id": "cfb82534",
   "metadata": {},
   "outputs": [
    {
     "name": "stdout",
     "output_type": "stream",
     "text": [
      "0\n",
      "100\n",
      "200\n",
      "300\n",
      "400\n",
      "500\n",
      "600\n",
      "700\n",
      "800\n",
      "900\n",
      "1000\n",
      "...time to find parent words...\n",
      "Hours: 0 | minutes: 0 | seconds: 6.5234\n",
      "...truncating output list...\n",
      "(367672, 2)\n",
      "Hours: 0 | minutes: 0 | seconds: 7.2889\n"
     ]
    }
   ],
   "source": [
    "run_start_time = perf_counter_ns()\n",
    "# sample 1000 rows\n",
    "n_samples = 1000\n",
    "sample_wg_id = wg_df['word_group_id'].sample(n = n_samples, random_state = 42).to_list()\n",
    "\n",
    "# let's add a specific word: acanthology - the study of spines (as of sea urchins) especially as an adjunct of taxonomy\n",
    "# this is to ensure that extraction technique produces the correct values\n",
    "# On a complete run, there should by 26 parent words and 329 child words\n",
    "# This will find the 26 parent words, and depending on what else in the sample,\n",
    "# a number of child words\n",
    "\n",
    "if 746 not in sample_wg_id:\n",
    "    sample_wg_id.append(746)    \n",
    "\n",
    "# create an output object\n",
    "output_list = np.full(shape=(n_possible_anagrams, 2),\n",
    "                          fill_value=-1, dtype=np.int32)\n",
    "\n",
    "anagram_pair_count = 0\n",
    "\n",
    "for i_wg_id, wg_id in enumerate(sample_wg_id):\n",
    "    # identify parent words\n",
    "    outcome = wchar_matrix - wchar_matrix[wg_id, ]\n",
    "    \n",
    "    # compute the score by finding where rows, across all columns, are GTE 0\n",
    "    outcome_indices = np.all(outcome >= 0, axis=1)    \n",
    "\n",
    "    n_from_words = outcome_indices.sum()\n",
    "\n",
    "    if n_from_words >= 1:\n",
    "\n",
    "        outcome_word_id_list = word_group_id_list[outcome_indices]\n",
    "        # extract anagrams based on index values    \n",
    "        outcome_word_id_list = format_output_list(outcome_word_id_list=outcome_word_id_list,\n",
    "                                                  wg_id=wg_id)\n",
    "\n",
    "        # enumerate the from/parent words\n",
    "        new_anagram_pair_count = anagram_pair_count + n_from_words\n",
    "\n",
    "        output_list[anagram_pair_count:new_anagram_pair_count, :] = outcome_word_id_list\n",
    "        \n",
    "        # set the anagram pair count\n",
    "        anagram_pair_count = new_anagram_pair_count    \n",
    "    \n",
    "    if i_wg_id % 100 == 0:\n",
    "        print(i_wg_id)\n",
    "        \n",
    "print('...time to find parent words...')\n",
    "time_proc = calc_time(time_start=run_start_time, round_digits=4)\n",
    "compute_elapsed_time(seconds=time_proc)\n",
    "print('...truncating output list...')\n",
    "output_indices = np.all(output_list >= 0, axis=1)\n",
    "output_list = output_list[output_indices,]\n",
    "print(output_list.shape)\n",
    "time_proc = calc_time(time_start=run_start_time, round_digits=4)\n",
    "compute_elapsed_time(seconds=time_proc)"
   ]
  },
  {
   "cell_type": "code",
   "execution_count": 7,
   "id": "18f7e368",
   "metadata": {},
   "outputs": [],
   "source": [
    "from_word_counter, to_word_counter = build_counters(output_list=output_list)"
   ]
  },
  {
   "cell_type": "code",
   "execution_count": 8,
   "id": "2f2c2de3",
   "metadata": {},
   "outputs": [
    {
     "data": {
      "text/plain": [
       "np.int64(26)"
      ]
     },
     "execution_count": 8,
     "metadata": {},
     "output_type": "execute_result"
    }
   ],
   "source": [
    "# the number of from word groups: should be 26\n",
    "from_word_counter[746]"
   ]
  },
  {
   "cell_type": "markdown",
   "id": "9eeed954",
   "metadata": {},
   "source": [
    "# Setup a similar workflow, using CuPy"
   ]
  },
  {
   "cell_type": "code",
   "execution_count": 9,
   "id": "9b74d835",
   "metadata": {},
   "outputs": [],
   "source": [
    "# load the library\n",
    "import cupy as cp"
   ]
  },
  {
   "cell_type": "code",
   "execution_count": 10,
   "id": "47ac9c47",
   "metadata": {},
   "outputs": [
    {
     "name": "stdout",
     "output_type": "stream",
     "text": [
      "my_func             :    CPU:    63.820 us   +/- 17.857 (min:    48.200 / max:   127.700) us     GPU-0:   203.749 us   +/- 16.897 (min:   191.488 / max:   267.072) us\n"
     ]
    }
   ],
   "source": [
    "# perform a simple benchmark\n",
    "from cupyx.profiler import benchmark\n",
    "\n",
    "def my_func(a):\n",
    "    return cp.sqrt(cp.sum(a**2, axis=-1))\n",
    "\n",
    "a = cp.random.random((256, 1024))\n",
    "print(benchmark(my_func, (a,), n_repeat=20))  \n"
   ]
  },
  {
   "cell_type": "code",
   "execution_count": 11,
   "id": "8bade31f",
   "metadata": {},
   "outputs": [
    {
     "name": "stdout",
     "output_type": "stream",
     "text": [
      "0.7086079716682434 0.000685499999917738\n"
     ]
    }
   ],
   "source": [
    "# initialize some gpu stats\n",
    "# this page, https://docs.cupy.dev/en/stable/user_guide/performance.html,\n",
    "# talks about performance best practices\n",
    "start_gpu = cp.cuda.Event()\n",
    "end_gpu = cp.cuda.Event()\n",
    "\n",
    "start_gpu.record()\n",
    "start_cpu = time.perf_counter()\n",
    "out = my_func(a)\n",
    "end_cpu = time.perf_counter()\n",
    "end_gpu.record()\n",
    "end_gpu.synchronize()\n",
    "t_gpu = cp.cuda.get_elapsed_time(start_gpu, end_gpu)\n",
    "t_cpu = end_cpu - start_cpu\n",
    "print(t_gpu, t_cpu)"
   ]
  },
  {
   "cell_type": "markdown",
   "id": "69f7a5c8",
   "metadata": {},
   "source": [
    "## Create cupy objects"
   ]
  },
  {
   "cell_type": "code",
   "execution_count": 12,
   "id": "0552c4e8",
   "metadata": {},
   "outputs": [],
   "source": [
    "char_matrix_cp = cp.asarray(a = char_matrix, dtype = cp.int8)\n",
    "word_group_id_list_cp = cp.asarray(a = word_group_id_list, dtype = cp.int32)\n",
    "word_id_list = cp.asarray(a = word_id_list, dtype = cp.int32)\n",
    "wchar_matrix_cp = cp.asarray(a = wchar_matrix, dtype = cp.int8)\n",
    "word_group_id_list_cp = cp.asarray(a = word_group_id_list, dtype = cp.int32)\n"
   ]
  },
  {
   "cell_type": "code",
   "execution_count": 13,
   "id": "0413b631",
   "metadata": {},
   "outputs": [],
   "source": [
    "def format_output_list_cp(outcome_word_id_list_cp: cp.ndarray, wg_id: int) -> cp.ndarray:\n",
    "    output_list = cp.zeros(\n",
    "        shape=(outcome_word_id_list_cp.shape[0], 2), dtype=cp.int32)\n",
    "\n",
    "    # update the output list with the word_id_list - these are from/parent words\n",
    "    output_list[:, 0] = outcome_word_id_list_cp\n",
    "\n",
    "    # update with the word_id - this is the to/child word\n",
    "    output_list[:, 1] = wg_id\n",
    "\n",
    "    return output_list\n"
   ]
  },
  {
   "cell_type": "code",
   "execution_count": 14,
   "id": "93c5f42a",
   "metadata": {},
   "outputs": [
    {
     "name": "stdout",
     "output_type": "stream",
     "text": [
      "10000\n",
      "20000\n",
      "30000\n",
      "40000\n",
      "50000\n",
      "60000\n",
      "70000\n",
      "80000\n",
      "90000\n",
      "100000\n",
      "110000\n",
      "120000\n",
      "130000\n",
      "140000\n",
      "150000\n",
      "160000\n",
      "170000\n",
      "180000\n",
      "190000\n",
      "200000\n",
      "210000\n",
      "...time to find parent words...\n",
      "Hours: 0 | minutes: 2 | seconds: 41.6578\n",
      "...truncating output list...\n",
      "(73218235, 2)\n",
      "Hours: 0 | minutes: 2 | seconds: 41.8155\n"
     ]
    }
   ],
   "source": [
    "run_start_time = perf_counter_ns()\n",
    "# the naive approach\n",
    "# establish counters for record keeping\n",
    "# sample 1000 rows\n",
    "n_samples = 1000\n",
    "\n",
    "#sample_wg_id = wg_df['word_group_id'].sample(n = n_samples, random_state = 42)\n",
    "sample_wg_id = wg_df['word_group_id'].to_numpy(dtype = np.int32)\n",
    "sample_wg_id_cp = cp.asarray(a = sample_wg_id, dtype = cp.int32)\n",
    "\n",
    "output_list_cp = cp.full(shape=(n_possible_anagrams, 2),\n",
    "                          fill_value=-1, dtype = cp.int32)\n",
    "\n",
    "row_count = 0\n",
    "anagram_pair_count = 0\n",
    "intermediate_to_word_count = collections.Counter()\n",
    "\n",
    "for wg_id in sample_wg_id_cp:\n",
    "    outcome = wchar_matrix_cp - wchar_matrix_cp[wg_id, ]\n",
    "    \n",
    "    # compute the score by finding where rows, across all columns, are GTE 0\n",
    "    outcome_indices_cp = cp.all(outcome >= 0, axis=1)\n",
    "    outcome = None\n",
    "\n",
    "    n_from_words = outcome_indices_cp.sum()               \n",
    "    \n",
    "    if n_from_words >= 1:\n",
    "        # extract anagrams based on index values    \n",
    "        outcome_word_id_list_cp = word_group_id_list_cp[outcome_indices_cp]    \n",
    "        \n",
    "        # extract anagrams based on index values    \n",
    "        outcome_word_id_list_cp = format_output_list_cp(outcome_word_id_list_cp=outcome_word_id_list_cp,\n",
    "                                                  wg_id=wg_id)\n",
    "        \n",
    "        # enumerate the from/parent words\n",
    "        new_anagram_pair_count = anagram_pair_count + n_from_words\n",
    "\n",
    "        # update the total output list\n",
    "        output_list_cp[anagram_pair_count:new_anagram_pair_count,\n",
    "                    :] = outcome_word_id_list_cp\n",
    "\n",
    "        # set the anagram pair count\n",
    "        anagram_pair_count = new_anagram_pair_count\n",
    "    \n",
    "    row_count += 1\n",
    "\n",
    "    if row_count % 10000 == 0:\n",
    "        print(row_count)\n",
    "\n",
    "print('...time to find parent words...')\n",
    "time_proc = calc_time(time_start=run_start_time, round_digits=4)\n",
    "compute_elapsed_time(seconds=time_proc)\n",
    "print('...truncating output list...')\n",
    "output_indices = cp.all(output_list_cp >= 0, axis=1)\n",
    "output_list_cp = output_list_cp[output_indices,]\n",
    "print(output_list_cp.shape)\n",
    "time_proc = calc_time(time_start=run_start_time, round_digits=4)\n",
    "compute_elapsed_time(seconds=time_proc)"
   ]
  },
  {
   "cell_type": "code",
   "execution_count": 15,
   "id": "055869b0",
   "metadata": {},
   "outputs": [],
   "source": [
    "# very cool! this took about 1 second on a sample of 1000 words\n",
    "# as expected, the GPU is faster.\n",
    "# but, what about a full run?\n",
    "# on all ~216K words, it takes a little less than 3 minutes."
   ]
  },
  {
   "cell_type": "markdown",
   "id": "4412a91e",
   "metadata": {},
   "source": [
    "# Implement a variant of matrix extraction 5: using the three least common letters\n",
    "The variant here is that letter selectors are not stored - they are used once. With a max of three letters in each selector, there are 2,387 letter selectors. Each sub-matrix is created, words are queried against it, and the values are stored. This implementation, while similar to the existing version of matrix extraction technique 5, is a little faster than the existing version.\n",
    "\n",
    "['Exp_01_demo_numpy_data_types.ipynb'](Exp_01_demo_numpy_data_types.ipynb) Features the implementation for the CPU. Below is just for the GPU."
   ]
  },
  {
   "cell_type": "code",
   "execution_count": 16,
   "id": "248af44d",
   "metadata": {},
   "outputs": [],
   "source": [
    "# let's split the matrix, gather the values for each split, and then combine\n",
    "n_subset_letters = 3\n"
   ]
  },
  {
   "cell_type": "code",
   "execution_count": 17,
   "id": "01d678aa",
   "metadata": {},
   "outputs": [],
   "source": [
    "wg_df['n_records'] = int(1)"
   ]
  },
  {
   "cell_type": "code",
   "execution_count": 18,
   "id": "9d3b25f1",
   "metadata": {},
   "outputs": [],
   "source": [
    "ls_df = build_letter_selector_df(df = wg_df,\n",
    "                          ls_nchar = n_subset_letters,\n",
    "                          letter_selector_col_name = 'letter_selector',                          \n",
    "                          letter_selector_id_col_name = 'letter_selector_id')"
   ]
  },
  {
   "cell_type": "code",
   "execution_count": 19,
   "id": "48bc536f",
   "metadata": {},
   "outputs": [
    {
     "data": {
      "text/plain": [
       "(2387, 5)"
      ]
     },
     "execution_count": 19,
     "metadata": {},
     "output_type": "execute_result"
    }
   ],
   "source": [
    "ls_df.shape"
   ]
  },
  {
   "cell_type": "code",
   "execution_count": 20,
   "id": "a7cc649b",
   "metadata": {},
   "outputs": [
    {
     "data": {
      "text/html": [
       "<div>\n",
       "<style scoped>\n",
       "    .dataframe tbody tr th:only-of-type {\n",
       "        vertical-align: middle;\n",
       "    }\n",
       "\n",
       "    .dataframe tbody tr th {\n",
       "        vertical-align: top;\n",
       "    }\n",
       "\n",
       "    .dataframe thead th {\n",
       "        text-align: right;\n",
       "    }\n",
       "</style>\n",
       "<table border=\"1\" class=\"dataframe\">\n",
       "  <thead>\n",
       "    <tr style=\"text-align: right;\">\n",
       "      <th></th>\n",
       "      <th>letter_selector</th>\n",
       "      <th>ls_count</th>\n",
       "      <th>ls_nchar_iter</th>\n",
       "      <th>ls_nchar</th>\n",
       "      <th>letter_selector_id</th>\n",
       "    </tr>\n",
       "  </thead>\n",
       "  <tbody>\n",
       "    <tr>\n",
       "      <th>0</th>\n",
       "      <td>a</td>\n",
       "      <td>2</td>\n",
       "      <td>3</td>\n",
       "      <td>1</td>\n",
       "      <td>0</td>\n",
       "    </tr>\n",
       "    <tr>\n",
       "      <th>1</th>\n",
       "      <td>ae</td>\n",
       "      <td>1</td>\n",
       "      <td>3</td>\n",
       "      <td>2</td>\n",
       "      <td>1</td>\n",
       "    </tr>\n",
       "    <tr>\n",
       "      <th>2</th>\n",
       "      <td>ai</td>\n",
       "      <td>1</td>\n",
       "      <td>3</td>\n",
       "      <td>2</td>\n",
       "      <td>2</td>\n",
       "    </tr>\n",
       "    <tr>\n",
       "      <th>3</th>\n",
       "      <td>b</td>\n",
       "      <td>1</td>\n",
       "      <td>3</td>\n",
       "      <td>1</td>\n",
       "      <td>3</td>\n",
       "    </tr>\n",
       "    <tr>\n",
       "      <th>4</th>\n",
       "      <td>ba</td>\n",
       "      <td>4</td>\n",
       "      <td>3</td>\n",
       "      <td>2</td>\n",
       "      <td>4</td>\n",
       "    </tr>\n",
       "  </tbody>\n",
       "</table>\n",
       "</div>"
      ],
      "text/plain": [
       "  letter_selector  ls_count  ls_nchar_iter  ls_nchar  letter_selector_id\n",
       "0               a         2              3         1                   0\n",
       "1              ae         1              3         2                   1\n",
       "2              ai         1              3         2                   2\n",
       "3               b         1              3         1                   3\n",
       "4              ba         4              3         2                   4"
      ]
     },
     "execution_count": 20,
     "metadata": {},
     "output_type": "execute_result"
    }
   ],
   "source": [
    "ls_df.head()"
   ]
  },
  {
   "cell_type": "code",
   "execution_count": 21,
   "id": "b79512a1",
   "metadata": {},
   "outputs": [
    {
     "data": {
      "text/plain": [
       "np.int64(215842)"
      ]
     },
     "execution_count": 21,
     "metadata": {},
     "output_type": "execute_result"
    }
   ],
   "source": [
    "ls_df['ls_count'].sum()"
   ]
  },
  {
   "cell_type": "code",
   "execution_count": 22,
   "id": "bf0c3a1a",
   "metadata": {},
   "outputs": [
    {
     "data": {
      "text/plain": [
       "count    2387.000000\n",
       "mean       90.423963\n",
       "std       212.422095\n",
       "min         1.000000\n",
       "25%         3.000000\n",
       "50%        14.000000\n",
       "75%        75.000000\n",
       "max      2544.000000\n",
       "Name: ls_count, dtype: float64"
      ]
     },
     "execution_count": 22,
     "metadata": {},
     "output_type": "execute_result"
    }
   ],
   "source": [
    "ls_df['ls_count'].describe()"
   ]
  },
  {
   "cell_type": "code",
   "execution_count": 23,
   "id": "eea92baf",
   "metadata": {},
   "outputs": [
    {
     "name": "stdout",
     "output_type": "stream",
     "text": [
      "...loading the letter dictionary...\n"
     ]
    }
   ],
   "source": [
    "ls_df = get_ls_index(df = ls_df)"
   ]
  },
  {
   "cell_type": "code",
   "execution_count": 24,
   "id": "21a075cc",
   "metadata": {},
   "outputs": [
    {
     "data": {
      "text/html": [
       "<div>\n",
       "<style scoped>\n",
       "    .dataframe tbody tr th:only-of-type {\n",
       "        vertical-align: middle;\n",
       "    }\n",
       "\n",
       "    .dataframe tbody tr th {\n",
       "        vertical-align: top;\n",
       "    }\n",
       "\n",
       "    .dataframe thead th {\n",
       "        text-align: right;\n",
       "    }\n",
       "</style>\n",
       "<table border=\"1\" class=\"dataframe\">\n",
       "  <thead>\n",
       "    <tr style=\"text-align: right;\">\n",
       "      <th></th>\n",
       "      <th>letter_selector</th>\n",
       "      <th>ls_count</th>\n",
       "      <th>ls_nchar_iter</th>\n",
       "      <th>ls_nchar</th>\n",
       "      <th>letter_selector_id</th>\n",
       "      <th>ls_index</th>\n",
       "    </tr>\n",
       "  </thead>\n",
       "  <tbody>\n",
       "    <tr>\n",
       "      <th>0</th>\n",
       "      <td>a</td>\n",
       "      <td>2</td>\n",
       "      <td>3</td>\n",
       "      <td>1</td>\n",
       "      <td>0</td>\n",
       "      <td>[True, False, False, False, False, False, Fals...</td>\n",
       "    </tr>\n",
       "    <tr>\n",
       "      <th>1</th>\n",
       "      <td>ae</td>\n",
       "      <td>1</td>\n",
       "      <td>3</td>\n",
       "      <td>2</td>\n",
       "      <td>1</td>\n",
       "      <td>[True, False, False, False, True, False, False...</td>\n",
       "    </tr>\n",
       "    <tr>\n",
       "      <th>2</th>\n",
       "      <td>ai</td>\n",
       "      <td>1</td>\n",
       "      <td>3</td>\n",
       "      <td>2</td>\n",
       "      <td>2</td>\n",
       "      <td>[True, False, False, False, False, False, Fals...</td>\n",
       "    </tr>\n",
       "    <tr>\n",
       "      <th>3</th>\n",
       "      <td>b</td>\n",
       "      <td>1</td>\n",
       "      <td>3</td>\n",
       "      <td>1</td>\n",
       "      <td>3</td>\n",
       "      <td>[False, True, False, False, False, False, Fals...</td>\n",
       "    </tr>\n",
       "    <tr>\n",
       "      <th>4</th>\n",
       "      <td>ba</td>\n",
       "      <td>4</td>\n",
       "      <td>3</td>\n",
       "      <td>2</td>\n",
       "      <td>4</td>\n",
       "      <td>[True, True, False, False, False, False, False...</td>\n",
       "    </tr>\n",
       "  </tbody>\n",
       "</table>\n",
       "</div>"
      ],
      "text/plain": [
       "  letter_selector  ls_count  ls_nchar_iter  ls_nchar  letter_selector_id  \\\n",
       "0               a         2              3         1                   0   \n",
       "1              ae         1              3         2                   1   \n",
       "2              ai         1              3         2                   2   \n",
       "3               b         1              3         1                   3   \n",
       "4              ba         4              3         2                   4   \n",
       "\n",
       "                                            ls_index  \n",
       "0  [True, False, False, False, False, False, Fals...  \n",
       "1  [True, False, False, False, True, False, False...  \n",
       "2  [True, False, False, False, False, False, Fals...  \n",
       "3  [False, True, False, False, False, False, Fals...  \n",
       "4  [True, True, False, False, False, False, False...  "
      ]
     },
     "execution_count": 24,
     "metadata": {},
     "output_type": "execute_result"
    }
   ],
   "source": [
    "ls_df.head()"
   ]
  },
  {
   "cell_type": "code",
   "execution_count": 25,
   "id": "d4d68c07",
   "metadata": {},
   "outputs": [
    {
     "data": {
      "text/html": [
       "<div>\n",
       "<style scoped>\n",
       "    .dataframe tbody tr th:only-of-type {\n",
       "        vertical-align: middle;\n",
       "    }\n",
       "\n",
       "    .dataframe tbody tr th {\n",
       "        vertical-align: top;\n",
       "    }\n",
       "\n",
       "    .dataframe thead th {\n",
       "        text-align: right;\n",
       "    }\n",
       "</style>\n",
       "<table border=\"1\" class=\"dataframe\">\n",
       "  <thead>\n",
       "    <tr style=\"text-align: right;\">\n",
       "      <th></th>\n",
       "      <th>word</th>\n",
       "      <th>lcase</th>\n",
       "      <th>n_chars</th>\n",
       "      <th>first_letter</th>\n",
       "      <th>word_id</th>\n",
       "      <th>word_group_id</th>\n",
       "      <th>letter_group</th>\n",
       "      <th>letter_group_ranked</th>\n",
       "      <th>word_group_count</th>\n",
       "      <th>n_records</th>\n",
       "      <th>letter_selector</th>\n",
       "    </tr>\n",
       "  </thead>\n",
       "  <tbody>\n",
       "    <tr>\n",
       "      <th>0</th>\n",
       "      <td>A</td>\n",
       "      <td>a</td>\n",
       "      <td>1</td>\n",
       "      <td>a</td>\n",
       "      <td>0</td>\n",
       "      <td>0</td>\n",
       "      <td>a</td>\n",
       "      <td>a</td>\n",
       "      <td>1</td>\n",
       "      <td>1</td>\n",
       "      <td>a</td>\n",
       "    </tr>\n",
       "    <tr>\n",
       "      <th>1</th>\n",
       "      <td>aa</td>\n",
       "      <td>aa</td>\n",
       "      <td>2</td>\n",
       "      <td>a</td>\n",
       "      <td>1</td>\n",
       "      <td>1</td>\n",
       "      <td>a</td>\n",
       "      <td>a</td>\n",
       "      <td>1</td>\n",
       "      <td>1</td>\n",
       "      <td>a</td>\n",
       "    </tr>\n",
       "    <tr>\n",
       "      <th>2</th>\n",
       "      <td>aal</td>\n",
       "      <td>aal</td>\n",
       "      <td>3</td>\n",
       "      <td>a</td>\n",
       "      <td>2</td>\n",
       "      <td>2</td>\n",
       "      <td>al</td>\n",
       "      <td>la</td>\n",
       "      <td>2</td>\n",
       "      <td>1</td>\n",
       "      <td>la</td>\n",
       "    </tr>\n",
       "    <tr>\n",
       "      <th>3</th>\n",
       "      <td>aalii</td>\n",
       "      <td>aalii</td>\n",
       "      <td>5</td>\n",
       "      <td>a</td>\n",
       "      <td>3</td>\n",
       "      <td>3</td>\n",
       "      <td>ail</td>\n",
       "      <td>lai</td>\n",
       "      <td>1</td>\n",
       "      <td>1</td>\n",
       "      <td>lai</td>\n",
       "    </tr>\n",
       "    <tr>\n",
       "      <th>4</th>\n",
       "      <td>aam</td>\n",
       "      <td>aam</td>\n",
       "      <td>3</td>\n",
       "      <td>a</td>\n",
       "      <td>4</td>\n",
       "      <td>4</td>\n",
       "      <td>am</td>\n",
       "      <td>ma</td>\n",
       "      <td>2</td>\n",
       "      <td>1</td>\n",
       "      <td>ma</td>\n",
       "    </tr>\n",
       "  </tbody>\n",
       "</table>\n",
       "</div>"
      ],
      "text/plain": [
       "    word  lcase  n_chars first_letter  word_id  word_group_id letter_group  \\\n",
       "0      A      a        1            a        0              0            a   \n",
       "1     aa     aa        2            a        1              1            a   \n",
       "2    aal    aal        3            a        2              2           al   \n",
       "3  aalii  aalii        5            a        3              3          ail   \n",
       "4    aam    aam        3            a        4              4           am   \n",
       "\n",
       "  letter_group_ranked  word_group_count  n_records letter_selector  \n",
       "0                   a                 1          1               a  \n",
       "1                   a                 1          1               a  \n",
       "2                  la                 2          1              la  \n",
       "3                 lai                 1          1             lai  \n",
       "4                  ma                 2          1              ma  "
      ]
     },
     "execution_count": 25,
     "metadata": {},
     "output_type": "execute_result"
    }
   ],
   "source": [
    "wg_df.head()"
   ]
  },
  {
   "cell_type": "code",
   "execution_count": 26,
   "id": "837d825e",
   "metadata": {},
   "outputs": [],
   "source": [
    "col_names = ['letter_selector', 'letter_selector_id']\n",
    "wg_df = pd.merge(left = wg_df, right = ls_df[col_names])"
   ]
  },
  {
   "cell_type": "code",
   "execution_count": 27,
   "id": "46467870",
   "metadata": {},
   "outputs": [
    {
     "data": {
      "text/html": [
       "<div>\n",
       "<style scoped>\n",
       "    .dataframe tbody tr th:only-of-type {\n",
       "        vertical-align: middle;\n",
       "    }\n",
       "\n",
       "    .dataframe tbody tr th {\n",
       "        vertical-align: top;\n",
       "    }\n",
       "\n",
       "    .dataframe thead th {\n",
       "        text-align: right;\n",
       "    }\n",
       "</style>\n",
       "<table border=\"1\" class=\"dataframe\">\n",
       "  <thead>\n",
       "    <tr style=\"text-align: right;\">\n",
       "      <th></th>\n",
       "      <th>word</th>\n",
       "      <th>lcase</th>\n",
       "      <th>n_chars</th>\n",
       "      <th>first_letter</th>\n",
       "      <th>word_id</th>\n",
       "      <th>word_group_id</th>\n",
       "      <th>letter_group</th>\n",
       "      <th>letter_group_ranked</th>\n",
       "      <th>word_group_count</th>\n",
       "      <th>n_records</th>\n",
       "      <th>letter_selector</th>\n",
       "      <th>letter_selector_id</th>\n",
       "    </tr>\n",
       "  </thead>\n",
       "  <tbody>\n",
       "    <tr>\n",
       "      <th>0</th>\n",
       "      <td>A</td>\n",
       "      <td>a</td>\n",
       "      <td>1</td>\n",
       "      <td>a</td>\n",
       "      <td>0</td>\n",
       "      <td>0</td>\n",
       "      <td>a</td>\n",
       "      <td>a</td>\n",
       "      <td>1</td>\n",
       "      <td>1</td>\n",
       "      <td>a</td>\n",
       "      <td>0</td>\n",
       "    </tr>\n",
       "    <tr>\n",
       "      <th>1</th>\n",
       "      <td>aa</td>\n",
       "      <td>aa</td>\n",
       "      <td>2</td>\n",
       "      <td>a</td>\n",
       "      <td>1</td>\n",
       "      <td>1</td>\n",
       "      <td>a</td>\n",
       "      <td>a</td>\n",
       "      <td>1</td>\n",
       "      <td>1</td>\n",
       "      <td>a</td>\n",
       "      <td>0</td>\n",
       "    </tr>\n",
       "    <tr>\n",
       "      <th>2</th>\n",
       "      <td>aal</td>\n",
       "      <td>aal</td>\n",
       "      <td>3</td>\n",
       "      <td>a</td>\n",
       "      <td>2</td>\n",
       "      <td>2</td>\n",
       "      <td>al</td>\n",
       "      <td>la</td>\n",
       "      <td>2</td>\n",
       "      <td>1</td>\n",
       "      <td>la</td>\n",
       "      <td>1081</td>\n",
       "    </tr>\n",
       "    <tr>\n",
       "      <th>3</th>\n",
       "      <td>aalii</td>\n",
       "      <td>aalii</td>\n",
       "      <td>5</td>\n",
       "      <td>a</td>\n",
       "      <td>3</td>\n",
       "      <td>3</td>\n",
       "      <td>ail</td>\n",
       "      <td>lai</td>\n",
       "      <td>1</td>\n",
       "      <td>1</td>\n",
       "      <td>lai</td>\n",
       "      <td>1083</td>\n",
       "    </tr>\n",
       "    <tr>\n",
       "      <th>4</th>\n",
       "      <td>aam</td>\n",
       "      <td>aam</td>\n",
       "      <td>3</td>\n",
       "      <td>a</td>\n",
       "      <td>4</td>\n",
       "      <td>4</td>\n",
       "      <td>am</td>\n",
       "      <td>ma</td>\n",
       "      <td>2</td>\n",
       "      <td>1</td>\n",
       "      <td>ma</td>\n",
       "      <td>1114</td>\n",
       "    </tr>\n",
       "  </tbody>\n",
       "</table>\n",
       "</div>"
      ],
      "text/plain": [
       "    word  lcase  n_chars first_letter  word_id  word_group_id letter_group  \\\n",
       "0      A      a        1            a        0              0            a   \n",
       "1     aa     aa        2            a        1              1            a   \n",
       "2    aal    aal        3            a        2              2           al   \n",
       "3  aalii  aalii        5            a        3              3          ail   \n",
       "4    aam    aam        3            a        4              4           am   \n",
       "\n",
       "  letter_group_ranked  word_group_count  n_records letter_selector  \\\n",
       "0                   a                 1          1               a   \n",
       "1                   a                 1          1               a   \n",
       "2                  la                 2          1              la   \n",
       "3                 lai                 1          1             lai   \n",
       "4                  ma                 2          1              ma   \n",
       "\n",
       "   letter_selector_id  \n",
       "0                   0  \n",
       "1                   0  \n",
       "2                1081  \n",
       "3                1083  \n",
       "4                1114  "
      ]
     },
     "execution_count": 27,
     "metadata": {},
     "output_type": "execute_result"
    }
   ],
   "source": [
    "wg_df.head()"
   ]
  },
  {
   "cell_type": "code",
   "execution_count": 28,
   "id": "80cc466a",
   "metadata": {},
   "outputs": [],
   "source": [
    "# let's create another matrix that features the letter_selector_id and the corresponding id\n",
    "# of each word_group\n",
    "ls_id_wg_id, ls_index_array = build_ls_index_arrays(wg_df=wg_df, ls_df=ls_df)"
   ]
  },
  {
   "cell_type": "code",
   "execution_count": null,
   "id": "8f7d3be8",
   "metadata": {},
   "outputs": [],
   "source": []
  },
  {
   "cell_type": "markdown",
   "id": "12643b41",
   "metadata": {},
   "source": [
    "# Do it with CUPY"
   ]
  },
  {
   "cell_type": "code",
   "execution_count": 29,
   "id": "24751dd8",
   "metadata": {},
   "outputs": [],
   "source": [
    "def format_output_list_cp(outcome_word_id_list_cp: cp.ndarray, wg_id: int) -> cp.ndarray:\n",
    "        \n",
    "    output_list_cp = cp.zeros(shape=(outcome_word_id_list_cp.shape[0], 2), dtype=cp.int32)\n",
    "\n",
    "    # update the output list with the word_id_list - these are from/parent words\n",
    "    output_list_cp[:, 0] = outcome_word_id_list_cp\n",
    "\n",
    "    # update with the word_id - this is the to/child word\n",
    "    output_list_cp[:, 1] = wg_id\n",
    "\n",
    "    return output_list_cp"
   ]
  },
  {
   "cell_type": "code",
   "execution_count": 30,
   "id": "d0a52c76",
   "metadata": {},
   "outputs": [],
   "source": [
    "# create some more cupy objects\n",
    "ls_index_array_cp = cp.asarray(ls_index_array)\n",
    "ls_id_wg_id_cp = cp.asarray(ls_id_wg_id, dtype = cp.int32)  \n"
   ]
  },
  {
   "cell_type": "code",
   "execution_count": 31,
   "id": "3fc45f38",
   "metadata": {},
   "outputs": [
    {
     "name": "stdout",
     "output_type": "stream",
     "text": [
      "0\n",
      "100\n",
      "200\n",
      "300\n",
      "400\n",
      "500\n",
      "600\n",
      "700\n",
      "800\n",
      "900\n",
      "1000\n",
      "1100\n",
      "1200\n",
      "1300\n",
      "1400\n",
      "1500\n",
      "1600\n",
      "1700\n",
      "1800\n",
      "1900\n",
      "2000\n",
      "2100\n",
      "2200\n",
      "2300\n",
      "...time to find parent words...\n",
      "Hours: 0 | minutes: 1 | seconds: 59.201\n",
      "...truncating output list...\n",
      "(73218235, 2)\n",
      "Hours: 0 | minutes: 1 | seconds: 59.3799\n"
     ]
    }
   ],
   "source": [
    "run_start_time = perf_counter_ns()\n",
    "# create the output list\n",
    "output_list_cp = cp.full(shape = (n_possible_anagrams, 2), fill_value=-1, dtype = cp.int32)\n",
    "\n",
    "output_time_list = []\n",
    "\n",
    "# start counting\n",
    "anagram_pair_count = 0\n",
    "\n",
    "for ls_row_id, ls_row in enumerate(ls_index_array_cp):        \n",
    "    if ls_row_id % 100 == 0:\n",
    "        print(ls_row_id)\n",
    "    start_time = perf_counter_ns()\n",
    "        \n",
    "    ##\n",
    "    # SUBSET THE wchar_matrix by column selector\n",
    "    ##        \n",
    "    outcome_indices_cp = cp.all(wchar_matrix_cp[:, ls_row] >= 1, axis=1)    \n",
    "    \n",
    "    # this is the sub-matrix from which to query\n",
    "    ls_wchar_matrix_cp = wchar_matrix_cp[outcome_indices_cp, :]\n",
    "        \n",
    "    # this is the list of word group ids that correspond to the word group ids\n",
    "    # in the ls_wchar_matrix\n",
    "    temp_wg_id_list_cp = word_group_id_list_cp[outcome_indices_cp]\n",
    "    # place into a dictionary to go from wg_id to wg_index.\n",
    "    # What is the index of wg_id 675?    \n",
    "\n",
    "    # this is the number of word groups that meet certain criteria. \n",
    "    # for example, words that feature the letters: 'buc'    \n",
    "    n_search_space = temp_wg_id_list_cp.shape[0]        \n",
    "       \n",
    "    # the current list of words featuring the set of least common letters.\n",
    "    # these are the words have the least common letters of 'buc'    \n",
    "    curr_wg_id_list_cp = ls_id_wg_id_cp[ls_id_wg_id_cp[:, 0] == ls_row_id, 1]    \n",
    "    \n",
    "    # enumerate each word in the word group\n",
    "    for i_curr_wg_id, curr_wg_id in enumerate(curr_wg_id_list_cp):    \n",
    "        \n",
    "        temp_wg_id = cp.where(temp_wg_id_list_cp == curr_wg_id)[0][0]        \n",
    "        \n",
    "        outcome_word_id_list_cp = temp_wg_id_list_cp[cp.all(a = (ls_wchar_matrix_cp - ls_wchar_matrix_cp[temp_wg_id, :]) >= 0, axis = 1)]\n",
    "                \n",
    "        n_from_words = outcome_word_id_list_cp.shape[0]\n",
    "        \n",
    "        if n_from_words > 0:\n",
    "            outcome_word_id_list_cp = format_output_list_cp(outcome_word_id_list_cp=outcome_word_id_list_cp, wg_id=curr_wg_id)                       \n",
    "            \n",
    "            new_anagram_pair_count = anagram_pair_count + n_from_words            \n",
    "\n",
    "            output_list_cp[anagram_pair_count:new_anagram_pair_count, :] = outcome_word_id_list_cp\n",
    "\n",
    "            # update the anagram pair count\n",
    "            anagram_pair_count = new_anagram_pair_count\n",
    "\n",
    "    curr_time = calc_time(time_start=start_time, round_digits=8)\n",
    "    output_time_list.append([ls_row_id, n_search_space, curr_time])\n",
    "\n",
    "print('...time to find parent words...')\n",
    "time_proc = calc_time(time_start=run_start_time, round_digits=4)\n",
    "compute_elapsed_time(seconds=time_proc)\n",
    "print('...truncating output list...')\n",
    "output_indices = cp.all(output_list_cp >= 0, axis=1)\n",
    "output_list_cp = output_list_cp[output_indices,]\n",
    "print(output_list_cp.shape)\n",
    "time_proc = calc_time(time_start=run_start_time, round_digits=4)\n",
    "compute_elapsed_time(seconds=time_proc)"
   ]
  },
  {
   "cell_type": "code",
   "execution_count": 32,
   "id": "0c2fb5e5",
   "metadata": {},
   "outputs": [],
   "source": [
    "time_df = build_timing_and_output_objects(output_time_list, ls_df = ls_df)"
   ]
  },
  {
   "cell_type": "code",
   "execution_count": null,
   "id": "b3a5052c",
   "metadata": {},
   "outputs": [],
   "source": [
    "# yikes! That is slower!\n",
    "# CPU: 31 seconds, from the Exp_01\n",
    "# GPU: 119 seconds. \n",
    "# Not quite 90 seconds slower."
   ]
  },
  {
   "cell_type": "code",
   "execution_count": 34,
   "id": "9bb03fac",
   "metadata": {},
   "outputs": [],
   "source": [
    "# count using numpy, and then create a Counter object\n",
    "from_word_counter = cp.unique(ar=output_list[:, 1], return_counts=True)\n",
    "to_word_counter = cp.unique(ar=output_list[:, 0], return_counts=True)\n"
   ]
  },
  {
   "cell_type": "code",
   "execution_count": 35,
   "id": "f3551fd8",
   "metadata": {},
   "outputs": [],
   "source": [
    "# zip with asterisk notation won't work on CuPy data types\n",
    "from_word_counter = collections.Counter({wg_id: wg_count for wg_id, wg_count in zip(cp.asnumpy(from_word_counter[0]), cp.asnumpy(from_word_counter[1]))})\n",
    "to_word_counter = collections.Counter({wg_id: wg_count for wg_id, wg_count in zip(cp.asnumpy(to_word_counter[0]), cp.asnumpy(to_word_counter[1]))})"
   ]
  },
  {
   "cell_type": "code",
   "execution_count": 36,
   "id": "ca2b7d24",
   "metadata": {},
   "outputs": [
    {
     "name": "stdout",
     "output_type": "stream",
     "text": [
      "26\n",
      "4\n"
     ]
    }
   ],
   "source": [
    "# check to see if the word 'acanthology', with word_group_id 746 is in the counter\n",
    "print(from_word_counter[746]) # 26\n",
    "print(to_word_counter[746]) # 329"
   ]
  },
  {
   "cell_type": "code",
   "execution_count": 37,
   "id": "f799174d",
   "metadata": {},
   "outputs": [],
   "source": [
    "# the take away: using a GPU can be faster.\n",
    "# But, it seems to only be faster when working on large matrices. \n",
    "# On smaller matrices, there isn't any speed up. In fact, there is slow down."
   ]
  }
 ],
 "metadata": {
  "kernelspec": {
   "display_name": "analysis",
   "language": "python",
   "name": "python3"
  },
  "language_info": {
   "codemirror_mode": {
    "name": "ipython",
    "version": 3
   },
   "file_extension": ".py",
   "mimetype": "text/x-python",
   "name": "python",
   "nbconvert_exporter": "python",
   "pygments_lexer": "ipython3",
   "version": "3.13.2"
  }
 },
 "nbformat": 4,
 "nbformat_minor": 5
}
