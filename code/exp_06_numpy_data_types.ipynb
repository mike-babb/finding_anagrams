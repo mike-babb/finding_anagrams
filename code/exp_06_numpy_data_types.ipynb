{
 "cells": [
  {
   "cell_type": "markdown",
   "id": "e3f3f87e",
   "metadata": {},
   "source": [
    "# Exp 06: Hard code NumPy data types"
   ]
  },
  {
   "cell_type": "code",
   "execution_count": 24,
   "id": "7ee95900",
   "metadata": {},
   "outputs": [],
   "source": [
    "# standard libraries\n",
    "from time import perf_counter_ns\n",
    "import time"
   ]
  },
  {
   "cell_type": "code",
   "execution_count": 25,
   "id": "5a95a599",
   "metadata": {},
   "outputs": [],
   "source": [
    "# external libraries\n",
    "from matplotlib.patches import Rectangle\n",
    "import matplotlib as mpl\n",
    "import matplotlib.pyplot as plt\n",
    "import matplotlib.colors as mcolors\n",
    "import numpy as np\n",
    "import pandas as pd\n",
    "import seaborn as sns\n",
    "\n",
    "# custom libraries\n",
    "from _run_constants import *\n",
    "from part_00_file_db_utils import *\n",
    "from part_00_process_functions import *"
   ]
  },
  {
   "cell_type": "code",
   "execution_count": 26,
   "id": "1fb50fde",
   "metadata": {},
   "outputs": [
    {
     "name": "stdout",
     "output_type": "stream",
     "text": [
      "...loading words into a dataframe...\n",
      "...query execution took: 1.6 seconds...\n",
      "...loading word groups into a dataframe...\n",
      "...query execution took: 1.37 seconds...\n",
      "...loading the letter dictionary...\n",
      "...loading the char matrix...\n",
      "...subsetting the char matrix...\n"
     ]
    }
   ],
   "source": [
    "word_df, wg_df, letter_dict, char_matrix, \\\n",
    "    word_group_id_list, word_id_list, wchar_matrix = load_input_data(\n",
    "        db_path=rc.DB_PATH, db_name=rc.DB_NAME,\n",
    "        in_file_path=rc.IN_FILE_PATH)"
   ]
  },
  {
   "cell_type": "code",
   "execution_count": 27,
   "id": "877a797c",
   "metadata": {},
   "outputs": [],
   "source": [
    "col_names = ['letter_selector_mod', 'n_records']\n",
    "ls_df = build_letter_selector_df(df = wg_df, ls_nchar=3,                          \n",
    "                                 letter_selector_col_name='letter_selector',\n",
    "                                 letter_selector_id_col_name='letter_selector_id')"
   ]
  },
  {
   "cell_type": "code",
   "execution_count": 28,
   "id": "c22489ed",
   "metadata": {},
   "outputs": [],
   "source": [
    "# function to return the index position of each letter\n",
    "def get_ls_index(ls:str):\n",
    "    return [letter_dict[l] for l in ls]"
   ]
  },
  {
   "cell_type": "code",
   "execution_count": 29,
   "id": "383481f2",
   "metadata": {},
   "outputs": [],
   "source": [
    "ls_df['ls_index'] = ls_df['letter_selector'].map(get_ls_index)"
   ]
  },
  {
   "cell_type": "code",
   "execution_count": 30,
   "id": "2bfdbb57",
   "metadata": {},
   "outputs": [
    {
     "data": {
      "text/plain": [
       "ls_nchar\n",
       "3    2250\n",
       "2     111\n",
       "1      26\n",
       "Name: count, dtype: int64"
      ]
     },
     "execution_count": 30,
     "metadata": {},
     "output_type": "execute_result"
    }
   ],
   "source": [
    "ls_df['ls_nchar'].value_counts()"
   ]
  },
  {
   "cell_type": "code",
   "execution_count": 31,
   "id": "60ded439",
   "metadata": {},
   "outputs": [
    {
     "name": "stdout",
     "output_type": "stream",
     "text": [
      "...query execution took: 0.0 seconds...\n"
     ]
    }
   ],
   "source": [
    "# load the total number of anagrams\n",
    "n_possible_anagrams = load_possible_anagrams(db_path=rc.DB_PATH,\n",
    "                                             db_name=rc.DB_NAME)"
   ]
  },
  {
   "cell_type": "code",
   "execution_count": 32,
   "id": "dc40731f",
   "metadata": {},
   "outputs": [],
   "source": [
    "ls_df = ls_df.reset_index(drop = True)"
   ]
  },
  {
   "cell_type": "code",
   "execution_count": 33,
   "id": "ae2ff5a4",
   "metadata": {},
   "outputs": [],
   "source": [
    "col_names = ['letter_selector', 'letter_selector_id']\n",
    "wg_df = pd.merge(left = wg_df, right = ls_df[col_names])"
   ]
  },
  {
   "cell_type": "code",
   "execution_count": 34,
   "id": "dd6a6d9d",
   "metadata": {},
   "outputs": [
    {
     "data": {
      "text/html": [
       "<div>\n",
       "<style scoped>\n",
       "    .dataframe tbody tr th:only-of-type {\n",
       "        vertical-align: middle;\n",
       "    }\n",
       "\n",
       "    .dataframe tbody tr th {\n",
       "        vertical-align: top;\n",
       "    }\n",
       "\n",
       "    .dataframe thead th {\n",
       "        text-align: right;\n",
       "    }\n",
       "</style>\n",
       "<table border=\"1\" class=\"dataframe\">\n",
       "  <thead>\n",
       "    <tr style=\"text-align: right;\">\n",
       "      <th></th>\n",
       "      <th>word</th>\n",
       "      <th>lcase</th>\n",
       "      <th>n_chars</th>\n",
       "      <th>first_letter</th>\n",
       "      <th>word_id</th>\n",
       "      <th>word_group_id</th>\n",
       "      <th>letter_group</th>\n",
       "      <th>letter_group_ranked</th>\n",
       "      <th>word_group_count</th>\n",
       "      <th>letter_selector</th>\n",
       "      <th>n_records</th>\n",
       "      <th>letter_selector_id</th>\n",
       "    </tr>\n",
       "  </thead>\n",
       "  <tbody>\n",
       "    <tr>\n",
       "      <th>0</th>\n",
       "      <td>A</td>\n",
       "      <td>a</td>\n",
       "      <td>1</td>\n",
       "      <td>a</td>\n",
       "      <td>0</td>\n",
       "      <td>0</td>\n",
       "      <td>a</td>\n",
       "      <td>a</td>\n",
       "      <td>1</td>\n",
       "      <td>a</td>\n",
       "      <td>1</td>\n",
       "      <td>0</td>\n",
       "    </tr>\n",
       "    <tr>\n",
       "      <th>1</th>\n",
       "      <td>aa</td>\n",
       "      <td>aa</td>\n",
       "      <td>2</td>\n",
       "      <td>a</td>\n",
       "      <td>1</td>\n",
       "      <td>1</td>\n",
       "      <td>a</td>\n",
       "      <td>a</td>\n",
       "      <td>1</td>\n",
       "      <td>a</td>\n",
       "      <td>1</td>\n",
       "      <td>0</td>\n",
       "    </tr>\n",
       "    <tr>\n",
       "      <th>2</th>\n",
       "      <td>aal</td>\n",
       "      <td>aal</td>\n",
       "      <td>3</td>\n",
       "      <td>a</td>\n",
       "      <td>2</td>\n",
       "      <td>2</td>\n",
       "      <td>al</td>\n",
       "      <td>la</td>\n",
       "      <td>2</td>\n",
       "      <td>la</td>\n",
       "      <td>1</td>\n",
       "      <td>1081</td>\n",
       "    </tr>\n",
       "    <tr>\n",
       "      <th>3</th>\n",
       "      <td>aalii</td>\n",
       "      <td>aalii</td>\n",
       "      <td>5</td>\n",
       "      <td>a</td>\n",
       "      <td>3</td>\n",
       "      <td>3</td>\n",
       "      <td>ail</td>\n",
       "      <td>lai</td>\n",
       "      <td>1</td>\n",
       "      <td>lai</td>\n",
       "      <td>1</td>\n",
       "      <td>1083</td>\n",
       "    </tr>\n",
       "    <tr>\n",
       "      <th>4</th>\n",
       "      <td>aam</td>\n",
       "      <td>aam</td>\n",
       "      <td>3</td>\n",
       "      <td>a</td>\n",
       "      <td>4</td>\n",
       "      <td>4</td>\n",
       "      <td>am</td>\n",
       "      <td>ma</td>\n",
       "      <td>2</td>\n",
       "      <td>ma</td>\n",
       "      <td>1</td>\n",
       "      <td>1114</td>\n",
       "    </tr>\n",
       "  </tbody>\n",
       "</table>\n",
       "</div>"
      ],
      "text/plain": [
       "    word  lcase  n_chars first_letter  word_id  word_group_id letter_group  \\\n",
       "0      A      a        1            a        0              0            a   \n",
       "1     aa     aa        2            a        1              1            a   \n",
       "2    aal    aal        3            a        2              2           al   \n",
       "3  aalii  aalii        5            a        3              3          ail   \n",
       "4    aam    aam        3            a        4              4           am   \n",
       "\n",
       "  letter_group_ranked  word_group_count letter_selector  n_records  \\\n",
       "0                   a                 1               a          1   \n",
       "1                   a                 1               a          1   \n",
       "2                  la                 2              la          1   \n",
       "3                 lai                 1             lai          1   \n",
       "4                  ma                 2              ma          1   \n",
       "\n",
       "   letter_selector_id  \n",
       "0                   0  \n",
       "1                   0  \n",
       "2                1081  \n",
       "3                1083  \n",
       "4                1114  "
      ]
     },
     "execution_count": 34,
     "metadata": {},
     "output_type": "execute_result"
    }
   ],
   "source": [
    "wg_df.head()"
   ]
  },
  {
   "cell_type": "code",
   "execution_count": 35,
   "id": "738738f7",
   "metadata": {},
   "outputs": [
    {
     "data": {
      "text/plain": [
       "(2387,)"
      ]
     },
     "execution_count": 35,
     "metadata": {},
     "output_type": "execute_result"
    }
   ],
   "source": [
    "wg_df['letter_selector'].unique().shape"
   ]
  },
  {
   "cell_type": "code",
   "execution_count": 36,
   "id": "e2748f0c",
   "metadata": {},
   "outputs": [
    {
     "name": "stdout",
     "output_type": "stream",
     "text": [
      "Machine parameters for int8\n",
      "---------------------------------------------------------------\n",
      "min = -128\n",
      "max = 127\n",
      "---------------------------------------------------------------\n",
      "\n",
      "Machine parameters for int16\n",
      "---------------------------------------------------------------\n",
      "min = -32768\n",
      "max = 32767\n",
      "---------------------------------------------------------------\n",
      "\n",
      "Machine parameters for int32\n",
      "---------------------------------------------------------------\n",
      "min = -2147483648\n",
      "max = 2147483647\n",
      "---------------------------------------------------------------\n",
      "\n",
      "Machine parameters for int64\n",
      "---------------------------------------------------------------\n",
      "min = -9223372036854775808\n",
      "max = 9223372036854775807\n",
      "---------------------------------------------------------------\n",
      "\n"
     ]
    }
   ],
   "source": [
    "# get clever with the NumPy DataTypes\n",
    "print(np.iinfo(np.int8))\n",
    "print(np.iinfo(np.int16))\n",
    "print(np.iinfo(np.int32))\n",
    "print(np.iinfo(np.int64))"
   ]
  },
  {
   "cell_type": "code",
   "execution_count": 37,
   "id": "4d0a5518",
   "metadata": {},
   "outputs": [
    {
     "name": "stdout",
     "output_type": "stream",
     "text": [
      "int32\n",
      "8\n"
     ]
    }
   ],
   "source": [
    "print(wchar_matrix.dtype)\n",
    "print(wchar_matrix.max())"
   ]
  },
  {
   "cell_type": "code",
   "execution_count": 38,
   "id": "cc0a33c8",
   "metadata": {},
   "outputs": [
    {
     "name": "stdout",
     "output_type": "stream",
     "text": [
      "int64\n",
      "215841\n"
     ]
    }
   ],
   "source": [
    "print(word_group_id_list.dtype)\n",
    "print(word_group_id_list.max())"
   ]
  },
  {
   "cell_type": "code",
   "execution_count": 39,
   "id": "6e224cee",
   "metadata": {},
   "outputs": [],
   "source": [
    "# convert the wchar_matrix to int8 \n",
    "# convert the word_group_id_list to int32"
   ]
  },
  {
   "cell_type": "code",
   "execution_count": 40,
   "id": "5d855e48",
   "metadata": {},
   "outputs": [],
   "source": [
    "wchar_matrix = wchar_matrix.astype(np.int8)\n",
    "word_group_id_list = word_group_id_list.astype(np.int32)"
   ]
  },
  {
   "cell_type": "code",
   "execution_count": 41,
   "id": "607726a5",
   "metadata": {},
   "outputs": [
    {
     "data": {
      "text/plain": [
       "99421122.5"
      ]
     },
     "execution_count": 41,
     "metadata": {},
     "output_type": "execute_result"
    }
   ],
   "source": [
    "n_possible_anagrams / 2"
   ]
  },
  {
   "cell_type": "code",
   "execution_count": 42,
   "id": "63a8a004",
   "metadata": {},
   "outputs": [],
   "source": [
    "temp_matrix = wg_df[['letter_selector_id', 'word_group_id']].to_numpy(dtype = np.int32)"
   ]
  },
  {
   "cell_type": "code",
   "execution_count": 47,
   "id": "be7203d9",
   "metadata": {},
   "outputs": [
    {
     "name": "stdout",
     "output_type": "stream",
     "text": [
      "0\n",
      "100\n",
      "200\n",
      "300\n",
      "400\n",
      "500\n",
      "600\n",
      "700\n",
      "800\n",
      "900\n",
      "1000\n",
      "1100\n",
      "1200\n",
      "1300\n",
      "1400\n",
      "1500\n",
      "1600\n",
      "1700\n",
      "1800\n",
      "1900\n",
      "2000\n",
      "2100\n",
      "2200\n",
      "2300\n",
      "...time to find parent/child word relationships\n",
      "Hours: 0 | minutes: 1 | seconds: 32.4412\n",
      "...truncating output list...\n",
      "(73218235, 2)\n",
      "Hours: 0 | minutes: 1 | seconds: 37.145\n"
     ]
    }
   ],
   "source": [
    "# run it!\n",
    "run_start_time=perf_counter_ns()\n",
    "# create the output list\n",
    "output_list = np.full(shape = (int(n_possible_anagrams / 2), 2), fill_value=-1,dtype=np.int32)\n",
    "output_time_list = []\n",
    "\n",
    "# start counting\n",
    "anagram_pair_count = 0\n",
    "\n",
    "for ls_row_id, ls_row in ls_df.iloc[:None].iterrows():    \n",
    "    if ls_row_id % 100 == 0:\n",
    "        print(ls_row_id)\n",
    "    start_time = perf_counter_ns()\n",
    "    \n",
    "    # get letter selector id information    \n",
    "    ls_id = ls_row['letter_selector_id']\n",
    "    # this is a selector on a 26 column matrix\n",
    "    ls_id_index = np.array(object = ls_row['ls_index'], dtype = np.int8)        \n",
    "        \n",
    "    ##\n",
    "    # SUBSET THE wchar_matrix by column selector\n",
    "    ##    \n",
    "    outcome_indices = np.all(wchar_matrix[:, ls_id_index] >= 1, axis=1)\n",
    "    #print(outcome_indices.dtype)\n",
    "    \n",
    "    # this is the sub-matrix from which to query\n",
    "    ls_wchar_matrix = wchar_matrix[outcome_indices, :]\n",
    "    #print(ls_wchar_matrix.dtype)\n",
    "        \n",
    "    # this is the list of word group ids that correspond to the word group ids\n",
    "    # in the ls_wchar_matrix\n",
    "    temp_wg_id_list = word_group_id_list[outcome_indices]\n",
    "        \n",
    "    # this is the number of word groups that meet certain criteria. \n",
    "    # for example, words that feature the letters: 'buc'    \n",
    "    n_search_space = temp_wg_id_list.shape[0]        \n",
    "    \n",
    "    # the current list of words featuring the set of least common letters.\n",
    "    # these are the words have the least common letters of 'bro'    \n",
    "    #curr_wg_id_list = wg_df.loc[wg_df['letter_selector_id'] == ls_id, 'word_group_id'].to_numpy(dtype=np.int32)        \n",
    "    curr_wg_id_list = temp_matrix[temp_matrix[:, 0] == ls_id, 1]\n",
    "         \n",
    "    for i_curr_wg_id, curr_wg_id in enumerate(curr_wg_id_list):    \n",
    "            \n",
    "        # get different word group ids?\n",
    "        temp_wg_id = np.where(temp_wg_id_list == curr_wg_id)[0][0]\n",
    "        \n",
    "        #print(curr_wg_id, temp_wg_id)\n",
    "        \n",
    "        outcome_word_id_list = temp_wg_id_list[np.all(a = (ls_wchar_matrix - ls_wchar_matrix[temp_wg_id, :]) >= 0, axis = 1)]        \n",
    "                        \n",
    "        n_from_words = outcome_word_id_list.shape[0]\n",
    "        \n",
    "        if n_from_words > 0:\n",
    "            outcome_word_id_list = format_output_list(outcome_word_id_list=outcome_word_id_list, wg_id=curr_wg_id)\n",
    "            #print(outcome_word_id_list.dtype)\n",
    "                        \n",
    "            # enumerate the from/parent words\n",
    "            new_anagram_pair_count = anagram_pair_count + n_from_words\n",
    "            \n",
    "            output_list[anagram_pair_count:new_anagram_pair_count, :] = outcome_word_id_list\n",
    "            \n",
    "            # update the anagram pair count\n",
    "            anagram_pair_count = new_anagram_pair_count\n",
    "\n",
    "    curr_time = calc_time(time_start=start_time, round_digits=8)\n",
    "    output_time_list.append([ls_id, n_search_space, curr_time])\n",
    "\n",
    "print('...time to find parent/child word relationships')\n",
    "time_proc = calc_time(time_start=run_start_time, round_digits=4)\n",
    "compute_elapsed_time(seconds=time_proc)\n",
    "print('...truncating output list...')\n",
    "output_indices = np.all(output_list >= 0, axis=1)\n",
    "output_list = output_list[output_indices,]\n",
    "print(output_list.shape)\n",
    "time_proc = calc_time(time_start=run_start_time, round_digits=4)\n",
    "compute_elapsed_time(seconds=time_proc)"
   ]
  },
  {
   "cell_type": "code",
   "execution_count": 44,
   "id": "947a27aa",
   "metadata": {},
   "outputs": [],
   "source": [
    "# c2\n",
    "# current technique: 2 minutes, 37 seconds\n",
    "# setting the numpy data types: 1 minute, 41 seconds.\n",
    "# being even more strict with the data types: 1 minutes, 26 seconds"
   ]
  },
  {
   "cell_type": "code",
   "execution_count": 45,
   "id": "56ef125c",
   "metadata": {},
   "outputs": [],
   "source": [
    "# approximately 19 seconds\n",
    "from_word_counter = collections.Counter(output_list[:,1])\n",
    "to_word_counter = collections.Counter(output_list[:,0])"
   ]
  },
  {
   "cell_type": "code",
   "execution_count": 46,
   "id": "eed9f7df",
   "metadata": {},
   "outputs": [
    {
     "name": "stdout",
     "output_type": "stream",
     "text": [
      "0\n",
      "2\n"
     ]
    }
   ],
   "source": [
    "# the number of from word groups: should be 26\n",
    "print(from_word_counter[746]) # should be 26\n",
    "print(to_word_counter[746]) # should be 329"
   ]
  }
 ],
 "metadata": {
  "kernelspec": {
   "display_name": "analysis",
   "language": "python",
   "name": "python3"
  },
  "language_info": {
   "codemirror_mode": {
    "name": "ipython",
    "version": 3
   },
   "file_extension": ".py",
   "mimetype": "text/x-python",
   "name": "python",
   "nbconvert_exporter": "python",
   "pygments_lexer": "ipython3",
   "version": "3.12.7"
  }
 },
 "nbformat": 4,
 "nbformat_minor": 5
}
