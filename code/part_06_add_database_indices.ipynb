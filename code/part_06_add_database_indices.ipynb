{
 "cells": [
  {
   "cell_type": "markdown",
   "metadata": {},
   "source": [
    "# Find anagrams - Part 6\n",
    "# Add indices to database tables\n",
    "Mike Babb  \n",
    "babb.mike@outlook.com"
   ]
  },
  {
   "cell_type": "code",
   "execution_count": 1,
   "metadata": {},
   "outputs": [],
   "source": [
    "# standard libraries"
   ]
  },
  {
   "cell_type": "code",
   "execution_count": 2,
   "metadata": {},
   "outputs": [],
   "source": [
    "# external libraries"
   ]
  },
  {
   "cell_type": "code",
   "execution_count": 3,
   "metadata": {},
   "outputs": [],
   "source": [
    "# custom libraries\n",
    "from part_00_process_functions import execute_sql_statement\n",
    "import _run_constants as rc"
   ]
  },
  {
   "cell_type": "markdown",
   "metadata": {},
   "source": [
    "### add the word_id index to the words table"
   ]
  },
  {
   "cell_type": "code",
   "execution_count": 4,
   "metadata": {},
   "outputs": [
    {
     "name": "stdout",
     "output_type": "stream",
     "text": [
      "...SQL execution took: 0.26 seconds.\n"
     ]
    }
   ],
   "source": [
    "# create index on the word table:\n",
    "# database indices usually follow the form: idx_tablename_columns\n",
    "sql = 'create index if not exists idx_words_word_group_id on words (word_group_id);'\n",
    "execute_sql_statement(sql, db_path = rc.DB_PATH, db_name = rc.DB_NAME)"
   ]
  },
  {
   "cell_type": "markdown",
   "metadata": {},
   "source": [
    "### add the from_word_id index to the anagrams table"
   ]
  },
  {
   "cell_type": "code",
   "execution_count": 5,
   "metadata": {},
   "outputs": [
    {
     "name": "stdout",
     "output_type": "stream",
     "text": [
      "...SQL execution took: 65.9 seconds.\n"
     ]
    }
   ],
   "source": [
    "# create an index on the from_word_id:\n",
    "sql = 'create index if not exists idx_anagram_groups_from_word_group_id on anagram_groups (from_word_group_id);'\n",
    "execute_sql_statement(sql, db_path = rc.DB_PATH, db_name = rc.DB_NAME)"
   ]
  },
  {
   "cell_type": "markdown",
   "metadata": {},
   "source": [
    "### add the to_word_id index to the anagrams table"
   ]
  },
  {
   "cell_type": "code",
   "execution_count": 6,
   "metadata": {},
   "outputs": [
    {
     "name": "stdout",
     "output_type": "stream",
     "text": [
      "...SQL execution took: 55.61 seconds.\n"
     ]
    }
   ],
   "source": [
    "# create an index on the to_word_id:\n",
    "sql = 'create index if not exists idx_anagram_groups_to_word_group_id on anagram_groups (to_word_group_id);'\n",
    "execute_sql_statement(sql, db_path = rc.DB_PATH, db_name = rc.DB_NAME)"
   ]
  },
  {
   "cell_type": "code",
   "execution_count": null,
   "metadata": {},
   "outputs": [],
   "source": []
  }
 ],
 "metadata": {
  "kernelspec": {
   "display_name": "analysis",
   "language": "python",
   "name": "python3"
  },
  "language_info": {
   "codemirror_mode": {
    "name": "ipython",
    "version": 3
   },
   "file_extension": ".py",
   "mimetype": "text/x-python",
   "name": "python",
   "nbconvert_exporter": "python",
   "pygments_lexer": "ipython3",
   "version": "3.12.7"
  }
 },
 "nbformat": 4,
 "nbformat_minor": 4
}
