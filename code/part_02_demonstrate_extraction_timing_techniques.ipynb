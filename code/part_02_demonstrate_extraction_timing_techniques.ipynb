{
 "cells": [
  {
   "cell_type": "markdown",
   "metadata": {},
   "source": [
    "# Mike Babb\n",
    "# babb.mike@outlook.com\n",
    "# Find anagrams\n",
    "## Part 2: Demonstrate extraction timing techniques"
   ]
  },
  {
   "cell_type": "code",
   "execution_count": 1,
   "metadata": {
    "tags": []
   },
   "outputs": [],
   "source": [
    "# standard libraries\n",
    "#import collections\n",
    "from itertools import product\n",
    "import timeit"
   ]
  },
  {
   "cell_type": "code",
   "execution_count": 2,
   "metadata": {
    "tags": []
   },
   "outputs": [],
   "source": [
    "# external libraries"
   ]
  },
  {
   "cell_type": "code",
   "execution_count": 3,
   "metadata": {
    "tags": []
   },
   "outputs": [],
   "source": [
    "# custom, user-defined functions\n",
    "import _run_constants as rc\n",
    "from part_00_file_db_utils import *\n",
    "from part_00_process_functions import *"
   ]
  },
  {
   "cell_type": "markdown",
   "metadata": {},
   "source": [
    "### process control flags"
   ]
  },
  {
   "cell_type": "code",
   "execution_count": 4,
   "metadata": {
    "tags": []
   },
   "outputs": [],
   "source": [
    "# max number of letters to slice to use for the generation of sub-matrices for\n",
    "# options 5 and 6. More letters means more sub-matrices\n",
    "# 3 seems to be the sweet spot\n",
    "n_subset_letters = 3\n",
    "\n",
    "# set write_data to True to store the generated list of anagrams\n",
    "write_data = False"
   ]
  },
  {
   "cell_type": "markdown",
   "metadata": {},
   "source": [
    "### load input data"
   ]
  },
  {
   "cell_type": "code",
   "execution_count": 5,
   "metadata": {},
   "outputs": [
    {
     "name": "stdout",
     "output_type": "stream",
     "text": [
      "...loading words into a dataframe...\n",
      "...query execution took: 1.76 seconds...\n",
      "...loading word groups into a dataframe...\n",
      "...query execution took: 1.52 seconds...\n",
      "...loading the letter dictionary...\n",
      "...loading the char matrix...\n",
      "...subsetting the char matrix...\n"
     ]
    }
   ],
   "source": [
    "word_df, wg_df, letter_dict, char_matrix, word_group_id_list, word_id_list, wchar_matrix = load_input_data(db_path = rc.db_path,\n",
    "                                                                                                           db_name = rc.db_name,\n",
    "                                                                                                           in_file_path = rc.data_output_file_path)"
   ]
  },
  {
   "cell_type": "markdown",
   "metadata": {},
   "source": [
    "# Test the different matrix splitting techniques"
   ]
  },
  {
   "cell_type": "markdown",
   "metadata": {},
   "source": [
    "## There are 7 different matrix extraction techniques:\n",
    "* Option 0: Prepare matrix extraction techniques 1 through 6\n",
    "* Option 1: No sub-matrices\n",
    "* Option 2: Word-length - matrices split by the number of characters\n",
    "* Option 3: First letter - matrices split by each letter\n",
    "* Option 4: Single-least common letter - matrices split by each letter\n",
    "* Option 5: n least common letters - matrices split by N least common letters\n",
    "* Option 6: matrices split by word-length and N least common letters  \n",
    "See split_matrix() for a more elaborate description.  \n",
    "test_matrix_extraction_option() invokes the split_matrix() function 7 times to demonstrate the differences in timing and split_matrix() function output."
   ]
  },
  {
   "cell_type": "code",
   "execution_count": 6,
   "metadata": {
    "scrolled": true
   },
   "outputs": [
    {
     "name": "stdout",
     "output_type": "stream",
     "text": [
      "*** matrix extraction option: 0 ***\n",
      "...enumerating 16,101 records...\n",
      "...1,000 records enumerated...\n",
      "...2,000 records enumerated...\n",
      "...3,000 records enumerated...\n",
      "...4,000 records enumerated...\n",
      "...5,000 records enumerated...\n",
      "...6,000 records enumerated...\n",
      "...7,000 records enumerated...\n",
      "...8,000 records enumerated...\n",
      "...9,000 records enumerated...\n",
      "...10,000 records enumerated...\n",
      "...11,000 records enumerated...\n",
      "...12,000 records enumerated...\n",
      "...13,000 records enumerated...\n",
      "...14,000 records enumerated...\n",
      "...15,000 records enumerated...\n",
      "...16,000 records enumerated...\n",
      "...16,101 sub-matrices created...\n",
      "Total extraction time: 41.16 seconds.\n",
      "*** matrix extraction option: 1 ***\n",
      "...0 sub-matrices created...\n",
      "Total extraction time: 0.98 seconds.\n",
      "*** matrix extraction option: 2 ***\n",
      "...enumerating 16,101 records...\n",
      "...1,000 records enumerated...\n",
      "...2,000 records enumerated...\n",
      "...3,000 records enumerated...\n",
      "...4,000 records enumerated...\n",
      "...5,000 records enumerated...\n",
      "...6,000 records enumerated...\n",
      "...7,000 records enumerated...\n",
      "...8,000 records enumerated...\n",
      "...9,000 records enumerated...\n",
      "...10,000 records enumerated...\n",
      "...11,000 records enumerated...\n",
      "...12,000 records enumerated...\n",
      "...13,000 records enumerated...\n",
      "...14,000 records enumerated...\n",
      "...15,000 records enumerated...\n",
      "...16,000 records enumerated...\n",
      "...24 sub-matrices created...\n",
      "Total extraction time: 9.04 seconds.\n",
      "*** matrix extraction option: 3 ***\n",
      "...enumerating 16,101 records...\n",
      "...1,000 records enumerated...\n",
      "...2,000 records enumerated...\n",
      "...3,000 records enumerated...\n",
      "...4,000 records enumerated...\n",
      "...5,000 records enumerated...\n",
      "...6,000 records enumerated...\n",
      "...7,000 records enumerated...\n",
      "...8,000 records enumerated...\n",
      "...9,000 records enumerated...\n",
      "...10,000 records enumerated...\n",
      "...11,000 records enumerated...\n",
      "...12,000 records enumerated...\n",
      "...13,000 records enumerated...\n",
      "...14,000 records enumerated...\n",
      "...15,000 records enumerated...\n",
      "...16,000 records enumerated...\n",
      "...26 sub-matrices created...\n",
      "Total extraction time: 8.81 seconds.\n",
      "*** matrix extraction option: 4 ***\n",
      "...enumerating 16,101 records...\n",
      "...1,000 records enumerated...\n",
      "...2,000 records enumerated...\n",
      "...3,000 records enumerated...\n",
      "...4,000 records enumerated...\n",
      "...5,000 records enumerated...\n",
      "...6,000 records enumerated...\n",
      "...7,000 records enumerated...\n",
      "...8,000 records enumerated...\n",
      "...9,000 records enumerated...\n",
      "...10,000 records enumerated...\n",
      "...11,000 records enumerated...\n",
      "...12,000 records enumerated...\n",
      "...13,000 records enumerated...\n",
      "...14,000 records enumerated...\n",
      "...15,000 records enumerated...\n",
      "...16,000 records enumerated...\n",
      "...26 sub-matrices created...\n",
      "Total extraction time: 9.88 seconds.\n",
      "*** matrix extraction option: 5 ***\n",
      "...enumerating 16,101 records...\n",
      "...1,000 records enumerated...\n",
      "...2,000 records enumerated...\n",
      "...3,000 records enumerated...\n",
      "...4,000 records enumerated...\n",
      "...5,000 records enumerated...\n",
      "...6,000 records enumerated...\n",
      "...7,000 records enumerated...\n",
      "...8,000 records enumerated...\n",
      "...9,000 records enumerated...\n",
      "...10,000 records enumerated...\n",
      "...11,000 records enumerated...\n",
      "...12,000 records enumerated...\n",
      "...13,000 records enumerated...\n",
      "...14,000 records enumerated...\n",
      "...15,000 records enumerated...\n",
      "...16,000 records enumerated...\n",
      "...2,387 sub-matrices created...\n",
      "Total extraction time: 8.71 seconds.\n",
      "*** matrix extraction option: 6 ***\n",
      "...enumerating 16,101 records...\n",
      "...1,000 records enumerated...\n",
      "...2,000 records enumerated...\n",
      "...3,000 records enumerated...\n",
      "...4,000 records enumerated...\n",
      "...5,000 records enumerated...\n",
      "...6,000 records enumerated...\n",
      "...7,000 records enumerated...\n",
      "...8,000 records enumerated...\n",
      "...9,000 records enumerated...\n",
      "...10,000 records enumerated...\n",
      "...11,000 records enumerated...\n",
      "...12,000 records enumerated...\n",
      "...13,000 records enumerated...\n",
      "...14,000 records enumerated...\n",
      "...15,000 records enumerated...\n",
      "...16,000 records enumerated...\n",
      "...16,101 sub-matrices created...\n",
      "Total extraction time: 48.51 seconds.\n"
     ]
    }
   ],
   "source": [
    "mat_ext_df = test_matrix_extraction_option(wg_df = wg_df,\n",
    "                                  letter_dict = letter_dict,\n",
    "                                  word_group_id_list = word_group_id_list,\n",
    "                                  wchar_matrix = wchar_matrix,\n",
    "                                  n_subset_letters = n_subset_letters)"
   ]
  },
  {
   "cell_type": "code",
   "execution_count": 7,
   "metadata": {
    "scrolled": true
   },
   "outputs": [
    {
     "name": "stdout",
     "output_type": "stream",
     "text": [
      "...now writing: matrix_extraction_techniques\n"
     ]
    }
   ],
   "source": [
    "# save to sqlite for future reference\n",
    "write_data_to_sqlite(df = mat_ext_df, table_name = 'matrix_extraction_techniques', \n",
    "                     db_path = rc.db_path, db_name = rc.db_name)"
   ]
  },
  {
   "cell_type": "code",
   "execution_count": 8,
   "metadata": {},
   "outputs": [
    {
     "data": {
      "text/html": [
       "<div>\n",
       "<style scoped>\n",
       "    .dataframe tbody tr th:only-of-type {\n",
       "        vertical-align: middle;\n",
       "    }\n",
       "\n",
       "    .dataframe tbody tr th {\n",
       "        vertical-align: top;\n",
       "    }\n",
       "\n",
       "    .dataframe thead th {\n",
       "        text-align: right;\n",
       "    }\n",
       "</style>\n",
       "<table border=\"1\" class=\"dataframe\">\n",
       "  <thead>\n",
       "    <tr style=\"text-align: right;\">\n",
       "      <th></th>\n",
       "      <th>matrix_extraction_option</th>\n",
       "      <th>n_char_matrix_dict_type</th>\n",
       "      <th>single_letter_matrix_dict_type</th>\n",
       "      <th>letter_selector_matrix_dict_type</th>\n",
       "      <th>nc_ls_matrix_dict_type</th>\n",
       "      <th>n_char_matrix_dict_items</th>\n",
       "      <th>single_letter_matrix_dict_items</th>\n",
       "      <th>letter_selector_matrix_dict_items</th>\n",
       "      <th>nc_ls_matrix_dict_items</th>\n",
       "      <th>process_time</th>\n",
       "    </tr>\n",
       "  </thead>\n",
       "  <tbody>\n",
       "    <tr>\n",
       "      <th>0</th>\n",
       "      <td>0</td>\n",
       "      <td>&lt;class 'dict'&gt;</td>\n",
       "      <td>&lt;class 'dict'&gt;</td>\n",
       "      <td>&lt;class 'dict'&gt;</td>\n",
       "      <td>&lt;class 'dict'&gt;</td>\n",
       "      <td>24</td>\n",
       "      <td>26</td>\n",
       "      <td>2387</td>\n",
       "      <td>16101</td>\n",
       "      <td>41.16</td>\n",
       "    </tr>\n",
       "    <tr>\n",
       "      <th>1</th>\n",
       "      <td>1</td>\n",
       "      <td>&lt;class 'NoneType'&gt;</td>\n",
       "      <td>&lt;class 'NoneType'&gt;</td>\n",
       "      <td>&lt;class 'NoneType'&gt;</td>\n",
       "      <td>&lt;class 'NoneType'&gt;</td>\n",
       "      <td>-1</td>\n",
       "      <td>-1</td>\n",
       "      <td>-1</td>\n",
       "      <td>-1</td>\n",
       "      <td>0.98</td>\n",
       "    </tr>\n",
       "    <tr>\n",
       "      <th>2</th>\n",
       "      <td>2</td>\n",
       "      <td>&lt;class 'dict'&gt;</td>\n",
       "      <td>&lt;class 'NoneType'&gt;</td>\n",
       "      <td>&lt;class 'NoneType'&gt;</td>\n",
       "      <td>&lt;class 'NoneType'&gt;</td>\n",
       "      <td>24</td>\n",
       "      <td>-1</td>\n",
       "      <td>-1</td>\n",
       "      <td>-1</td>\n",
       "      <td>9.04</td>\n",
       "    </tr>\n",
       "    <tr>\n",
       "      <th>3</th>\n",
       "      <td>3</td>\n",
       "      <td>&lt;class 'NoneType'&gt;</td>\n",
       "      <td>&lt;class 'dict'&gt;</td>\n",
       "      <td>&lt;class 'NoneType'&gt;</td>\n",
       "      <td>&lt;class 'NoneType'&gt;</td>\n",
       "      <td>-1</td>\n",
       "      <td>26</td>\n",
       "      <td>-1</td>\n",
       "      <td>-1</td>\n",
       "      <td>8.81</td>\n",
       "    </tr>\n",
       "    <tr>\n",
       "      <th>4</th>\n",
       "      <td>4</td>\n",
       "      <td>&lt;class 'NoneType'&gt;</td>\n",
       "      <td>&lt;class 'dict'&gt;</td>\n",
       "      <td>&lt;class 'NoneType'&gt;</td>\n",
       "      <td>&lt;class 'NoneType'&gt;</td>\n",
       "      <td>-1</td>\n",
       "      <td>26</td>\n",
       "      <td>-1</td>\n",
       "      <td>-1</td>\n",
       "      <td>9.88</td>\n",
       "    </tr>\n",
       "    <tr>\n",
       "      <th>5</th>\n",
       "      <td>5</td>\n",
       "      <td>&lt;class 'NoneType'&gt;</td>\n",
       "      <td>&lt;class 'NoneType'&gt;</td>\n",
       "      <td>&lt;class 'dict'&gt;</td>\n",
       "      <td>&lt;class 'NoneType'&gt;</td>\n",
       "      <td>-1</td>\n",
       "      <td>-1</td>\n",
       "      <td>2387</td>\n",
       "      <td>-1</td>\n",
       "      <td>8.71</td>\n",
       "    </tr>\n",
       "    <tr>\n",
       "      <th>6</th>\n",
       "      <td>6</td>\n",
       "      <td>&lt;class 'NoneType'&gt;</td>\n",
       "      <td>&lt;class 'NoneType'&gt;</td>\n",
       "      <td>&lt;class 'NoneType'&gt;</td>\n",
       "      <td>&lt;class 'dict'&gt;</td>\n",
       "      <td>-1</td>\n",
       "      <td>-1</td>\n",
       "      <td>-1</td>\n",
       "      <td>16101</td>\n",
       "      <td>48.51</td>\n",
       "    </tr>\n",
       "  </tbody>\n",
       "</table>\n",
       "</div>"
      ],
      "text/plain": [
       "   matrix_extraction_option n_char_matrix_dict_type  \\\n",
       "0                         0          <class 'dict'>   \n",
       "1                         1      <class 'NoneType'>   \n",
       "2                         2          <class 'dict'>   \n",
       "3                         3      <class 'NoneType'>   \n",
       "4                         4      <class 'NoneType'>   \n",
       "5                         5      <class 'NoneType'>   \n",
       "6                         6      <class 'NoneType'>   \n",
       "\n",
       "  single_letter_matrix_dict_type letter_selector_matrix_dict_type  \\\n",
       "0                 <class 'dict'>                   <class 'dict'>   \n",
       "1             <class 'NoneType'>               <class 'NoneType'>   \n",
       "2             <class 'NoneType'>               <class 'NoneType'>   \n",
       "3                 <class 'dict'>               <class 'NoneType'>   \n",
       "4                 <class 'dict'>               <class 'NoneType'>   \n",
       "5             <class 'NoneType'>                   <class 'dict'>   \n",
       "6             <class 'NoneType'>               <class 'NoneType'>   \n",
       "\n",
       "  nc_ls_matrix_dict_type  n_char_matrix_dict_items  \\\n",
       "0         <class 'dict'>                        24   \n",
       "1     <class 'NoneType'>                        -1   \n",
       "2     <class 'NoneType'>                        24   \n",
       "3     <class 'NoneType'>                        -1   \n",
       "4     <class 'NoneType'>                        -1   \n",
       "5     <class 'NoneType'>                        -1   \n",
       "6         <class 'dict'>                        -1   \n",
       "\n",
       "   single_letter_matrix_dict_items  letter_selector_matrix_dict_items  \\\n",
       "0                               26                               2387   \n",
       "1                               -1                                 -1   \n",
       "2                               -1                                 -1   \n",
       "3                               26                                 -1   \n",
       "4                               26                                 -1   \n",
       "5                               -1                               2387   \n",
       "6                               -1                                 -1   \n",
       "\n",
       "   nc_ls_matrix_dict_items  process_time  \n",
       "0                    16101         41.16  \n",
       "1                       -1          0.98  \n",
       "2                       -1          9.04  \n",
       "3                       -1          8.81  \n",
       "4                       -1          9.88  \n",
       "5                       -1          8.71  \n",
       "6                    16101         48.51  "
      ]
     },
     "execution_count": 8,
     "metadata": {},
     "output_type": "execute_result"
    }
   ],
   "source": [
    "mat_ext_df.head(n=7)"
   ]
  },
  {
   "cell_type": "code",
   "execution_count": 9,
   "metadata": {},
   "outputs": [],
   "source": [
    "# scrolling through this output, it looks options 1-5 take about 10 seconds while\n",
    "# options 0 and 6 take about 60 seconds. We'll address that later through some profiling and\n",
    "# using snakeviz. "
   ]
  },
  {
   "cell_type": "code",
   "execution_count": 10,
   "metadata": {},
   "outputs": [
    {
     "name": "stdout",
     "output_type": "stream",
     "text": [
      "...enumerating 16,101 records...\n",
      "...1,000 records enumerated...\n",
      "...2,000 records enumerated...\n",
      "...3,000 records enumerated...\n",
      "...4,000 records enumerated...\n",
      "...5,000 records enumerated...\n",
      "...6,000 records enumerated...\n",
      "...7,000 records enumerated...\n",
      "...8,000 records enumerated...\n",
      "...9,000 records enumerated...\n",
      "...10,000 records enumerated...\n",
      "...11,000 records enumerated...\n",
      "...12,000 records enumerated...\n",
      "...13,000 records enumerated...\n",
      "...14,000 records enumerated...\n",
      "...15,000 records enumerated...\n",
      "...16,000 records enumerated...\n",
      "...16,101 sub-matrices created...\n",
      "Total extraction time: 47.85 seconds.\n"
     ]
    }
   ],
   "source": [
    "# Leaving the matrix extracton blank defaults to option 0: prepare all outputs\n",
    "wg_df, n_char_matrix_dict, single_letter_matrix_dict, letter_selector_matrix_dict, nc_ls_matrix_dict, p_time = split_matrix(\n",
    "    letter_dict = letter_dict,\n",
    "    word_group_id_list = word_group_id_list,\n",
    "        wg_df = wg_df,\n",
    "    wchar_matrix = wchar_matrix, \n",
    "    n_subset_letters = n_subset_letters    \n",
    ")"
   ]
  },
  {
   "cell_type": "code",
   "execution_count": 11,
   "metadata": {},
   "outputs": [],
   "source": [
    "# Compute the search space for each matrix extraction option.\n",
    "# The search space is how many candidates have to be evaluated\n",
    "# when finding parent/child word relationships. \n",
    "# The smaller the search space for a given word, the faster the\n",
    "# parent/child relationship determination. \n",
    "# compute_lookups() calculates this using the number of rows in each of the different matrices and sub-matrices"
   ]
  },
  {
   "cell_type": "code",
   "execution_count": 12,
   "metadata": {},
   "outputs": [
    {
     "name": "stdout",
     "output_type": "stream",
     "text": [
      "...now writing: word_group_lookup_counts\n"
     ]
    }
   ],
   "source": [
    "wg_lu_df = compute_lookups(wg_df=wg_df,\n",
    "                    n_char_matrix_dict = n_char_matrix_dict,\n",
    "                    single_letter_matrix_dict = single_letter_matrix_dict,\n",
    "                    letter_selector_matrix_dict = letter_selector_matrix_dict,\n",
    "                    nc_ls_matrix_dict = nc_ls_matrix_dict)\n",
    "\n",
    "# write this to disk\n",
    "write_data_to_sqlite(df=wg_lu_df, table_name='word_group_lookup_counts',\n",
    "                         db_path=rc.db_path, db_name=rc.db_name)                          "
   ]
  },
  {
   "cell_type": "markdown",
   "metadata": {
    "tags": []
   },
   "source": [
    "# demonstrate the different matrix extraction techniques using the word 'achiever'"
   ]
  },
  {
   "cell_type": "code",
   "execution_count": 13,
   "metadata": {
    "tags": []
   },
   "outputs": [],
   "source": [
    "demo_word = 'achiever'\n",
    "\n",
    "wg_id = word_df.loc[word_df['lcase'] == demo_word, 'word_group_id'].iloc[0]\n",
    "\n",
    "demo_wg_df = wg_df.loc[wg_df['word_group_id'] == wg_id, : ]\n",
    "\n",
    "# option 1 - Full matrix\n",
    "# No additional data needed\n",
    "\n",
    "# option 2 -  Number of characters\n",
    "n_char = demo_wg_df['n_chars'].iloc[0]\n",
    "\n",
    "# option 3 - First letter\n",
    "first_letter_id = demo_wg_df['first_letter_id'].iloc[0]\n",
    "\n",
    "# option 4 - Least common letter\n",
    "single_letter_id = demo_wg_df['single_letter_id'].iloc[0]\n",
    "\n",
    "# option 5 - Multiple least common letters\n",
    "letter_selector_id = demo_wg_df['letter_selector_id'].iloc[0]\n",
    "\n",
    "# option 6 - Number of characters and multiple least common letters\n",
    "nc_ls_id = demo_wg_df['nc_ls_id'].iloc[0]\n"
   ]
  },
  {
   "cell_type": "markdown",
   "metadata": {},
   "source": [
    "## Demontrate that the different matrix extraction options return identical results"
   ]
  },
  {
   "cell_type": "markdown",
   "metadata": {},
   "source": [
    "### Select on the full matrix: option 1"
   ]
  },
  {
   "cell_type": "code",
   "execution_count": 14,
   "metadata": {
    "tags": []
   },
   "outputs": [
    {
     "name": "stdout",
     "output_type": "stream",
     "text": [
      "There are 45 parent/from word groups for the word achiever\n",
      "There are 46 parent/from words for the word achiever\n",
      "The first five words are:\n",
      "1348               achiever\n",
      "12440          archdeceiver\n",
      "12445         archdetective\n",
      "12624          architective\n",
      "12737    archrepresentative\n",
      "Name: lcase, dtype: object\n",
      "The last five words are:\n",
      "224512       urethrovesical\n",
      "225856        vaucheriaceae\n",
      "225857       vaucheriaceous\n",
      "227047    vibrotherapeutics\n",
      "233655       zepharovichite\n",
      "Name: lcase, dtype: object\n"
     ]
    }
   ],
   "source": [
    "# demo the full matrix selection\n",
    "output = get_values_full_matrix(wg_id = wg_id, \n",
    "                    wchar_matrix = wchar_matrix,\n",
    "                   word_group_id_list = word_group_id_list)\n",
    "\n",
    "# this is an array of from words to the word 'achiever'\n",
    "format_demo_output(demo_word = demo_word,\n",
    "                   word_df = word_df,\n",
    "                   demo_output = output)"
   ]
  },
  {
   "cell_type": "markdown",
   "metadata": {},
   "source": [
    "### Select on the matrices split by word-length: option 2"
   ]
  },
  {
   "cell_type": "code",
   "execution_count": 15,
   "metadata": {},
   "outputs": [
    {
     "name": "stdout",
     "output_type": "stream",
     "text": [
      "There are 45 parent/from word groups for the word achiever\n",
      "There are 46 parent/from words for the word achiever\n",
      "The first five words are:\n",
      "1348               achiever\n",
      "12440          archdeceiver\n",
      "12445         archdetective\n",
      "12624          architective\n",
      "12737    archrepresentative\n",
      "Name: lcase, dtype: object\n",
      "The last five words are:\n",
      "224512       urethrovesical\n",
      "225856        vaucheriaceae\n",
      "225857       vaucheriaceous\n",
      "227047    vibrotherapeutics\n",
      "233655       zepharovichite\n",
      "Name: lcase, dtype: object\n"
     ]
    }
   ],
   "source": [
    "# demo the n char selection\n",
    "output = get_values_n_char(wg_id = wg_id,\n",
    "                      n_char = n_char,\n",
    "                      n_char_matrix_dict = n_char_matrix_dict)\n",
    "\n",
    "# this is an array of from words to the word 'achiever'\n",
    "format_demo_output(demo_word = demo_word,\n",
    "                   word_df = word_df,\n",
    "                   demo_output = output)"
   ]
  },
  {
   "cell_type": "markdown",
   "metadata": {},
   "source": [
    "### Select on the matrices split by the first letter: option 3"
   ]
  },
  {
   "cell_type": "code",
   "execution_count": 16,
   "metadata": {},
   "outputs": [
    {
     "name": "stdout",
     "output_type": "stream",
     "text": [
      "There are 45 parent/from word groups for the word achiever\n",
      "There are 46 parent/from words for the word achiever\n",
      "The first five words are:\n",
      "1348               achiever\n",
      "12440          archdeceiver\n",
      "12445         archdetective\n",
      "12624          architective\n",
      "12737    archrepresentative\n",
      "Name: lcase, dtype: object\n",
      "The last five words are:\n",
      "224512       urethrovesical\n",
      "225856        vaucheriaceae\n",
      "225857       vaucheriaceous\n",
      "227047    vibrotherapeutics\n",
      "233655       zepharovichite\n",
      "Name: lcase, dtype: object\n"
     ]
    }
   ],
   "source": [
    "# demo the first letter selection\n",
    "output = get_values_single_letter(wg_id = wg_id, single_letter_id = first_letter_id,\n",
    "                                                           single_letter_matrix_dict = single_letter_matrix_dict)         \n",
    "\n",
    "# this is an array of from words to the word 'achiever'\n",
    "format_demo_output(demo_word = demo_word,\n",
    "                   word_df = word_df,\n",
    "                   demo_output = output)"
   ]
  },
  {
   "cell_type": "markdown",
   "metadata": {},
   "source": [
    "### Select on the matrices split by the single least common letter: option 4"
   ]
  },
  {
   "cell_type": "code",
   "execution_count": 17,
   "metadata": {},
   "outputs": [
    {
     "name": "stdout",
     "output_type": "stream",
     "text": [
      "There are 45 parent/from word groups for the word achiever\n",
      "There are 46 parent/from words for the word achiever\n",
      "The first five words are:\n",
      "1348               achiever\n",
      "12440          archdeceiver\n",
      "12445         archdetective\n",
      "12624          architective\n",
      "12737    archrepresentative\n",
      "Name: lcase, dtype: object\n",
      "The last five words are:\n",
      "224512       urethrovesical\n",
      "225856        vaucheriaceae\n",
      "225857       vaucheriaceous\n",
      "227047    vibrotherapeutics\n",
      "233655       zepharovichite\n",
      "Name: lcase, dtype: object\n"
     ]
    }
   ],
   "source": [
    "# demo the first letter selection\n",
    "output = get_values_single_letter(wg_id = wg_id, single_letter_id = single_letter_id,\n",
    "                                                           single_letter_matrix_dict = single_letter_matrix_dict)         \n",
    "\n",
    "# this is an array of from words to the word 'achiever'\n",
    "format_demo_output(demo_word = demo_word,\n",
    "                   word_df = word_df,\n",
    "                   demo_output = output)"
   ]
  },
  {
   "cell_type": "markdown",
   "metadata": {},
   "source": [
    "### Select on the matrices split by the letter selector: option 5"
   ]
  },
  {
   "cell_type": "code",
   "execution_count": 18,
   "metadata": {},
   "outputs": [
    {
     "name": "stdout",
     "output_type": "stream",
     "text": [
      "There are 45 parent/from word groups for the word achiever\n",
      "There are 46 parent/from words for the word achiever\n",
      "The first five words are:\n",
      "1348               achiever\n",
      "12440          archdeceiver\n",
      "12445         archdetective\n",
      "12624          architective\n",
      "12737    archrepresentative\n",
      "Name: lcase, dtype: object\n",
      "The last five words are:\n",
      "224512       urethrovesical\n",
      "225856        vaucheriaceae\n",
      "225857       vaucheriaceous\n",
      "227047    vibrotherapeutics\n",
      "233655       zepharovichite\n",
      "Name: lcase, dtype: object\n"
     ]
    }
   ],
   "source": [
    "# demo with the letter selector\n",
    "output = get_values_letter_selector(wg_id = wg_id,\n",
    "                      letter_selector_id = letter_selector_id,\n",
    "                      letter_selector_matrix_dict = letter_selector_matrix_dict)\n",
    "\n",
    "# this is an array of from words to the word 'achiever'\n",
    "format_demo_output(demo_word = demo_word,\n",
    "                   word_df = word_df,\n",
    "                   demo_output = output)"
   ]
  },
  {
   "cell_type": "markdown",
   "metadata": {},
   "source": [
    "### Select on the matrices split by word-length and the letter selector: option 6"
   ]
  },
  {
   "cell_type": "code",
   "execution_count": 19,
   "metadata": {},
   "outputs": [
    {
     "name": "stdout",
     "output_type": "stream",
     "text": [
      "There are 45 parent/from word groups for the word achiever\n",
      "There are 46 parent/from words for the word achiever\n",
      "The first five words are:\n",
      "1348               achiever\n",
      "12440          archdeceiver\n",
      "12445         archdetective\n",
      "12624          architective\n",
      "12737    archrepresentative\n",
      "Name: lcase, dtype: object\n",
      "The last five words are:\n",
      "224512       urethrovesical\n",
      "225856        vaucheriaceae\n",
      "225857       vaucheriaceous\n",
      "227047    vibrotherapeutics\n",
      "233655       zepharovichite\n",
      "Name: lcase, dtype: object\n"
     ]
    }
   ],
   "source": [
    "# demo with the n_char letter selector\n",
    "output = get_values_n_char_letter_selector(wg_id = wg_id,\n",
    "                           nc_ls_id = nc_ls_id,                           \n",
    "                           nc_ls_matrix_dict=nc_ls_matrix_dict)\n",
    "\n",
    "# this is an array of from words to the word 'achiever'\n",
    "format_demo_output(demo_word = demo_word,\n",
    "                   word_df = word_df,\n",
    "                   demo_output = output)"
   ]
  },
  {
   "cell_type": "code",
   "execution_count": 20,
   "metadata": {},
   "outputs": [
    {
     "name": "stdout",
     "output_type": "stream",
     "text": [
      "Matrix Selection Option 1: Selecting by full matrix\n",
      "Total time: 3.56 seconds. Average time: 0.04 seconds.\n",
      "\n",
      "Matrix Selection Option 2: Selecting by word length\n",
      "Total time: 2.67 seconds. Average time: 0.03 seconds.\n",
      "\n",
      "Matrix Selection Option 3: Selecting by first letter\n",
      "Total time: 2.23 seconds. Average time: 0.02 seconds.\n",
      "\n",
      "Matrix Selection Option 4: Selecting by single least common letter\n",
      "Total time: 0.54 seconds. Average time: 0.01 seconds.\n",
      "\n",
      "Matrix Selection Option 5: Selecting by letter selector\n",
      "Total time: 0.05 seconds. Average time: 0.0 seconds.\n",
      "\n",
      "Matrix Selection Option 6: Selecting by word length and letter selector\n",
      "Total time: 0.03 seconds. Average time: 0.0 seconds.\n",
      "\n"
     ]
    }
   ],
   "source": [
    "# we've tested with one word, let's time many evaluations to get a sense of how quickly \n",
    "# the different matrix extraction options work\n",
    "# use the timeit() function to evaluate how long, on average, a single operation\n",
    "# takes to complete\n",
    "# we do this by writing python code encapsulated in quotes which is then sent to the function\n",
    "# we can store the quoted code in a dictionary and then enumerate. \n",
    "# we'll run each code chunk 100 times and then compute the average\n",
    "\n",
    "n_trials = 100\n",
    "\n",
    "code_snippet_dict = {\n",
    "    'Matrix Selection Option 1: Selecting by full matrix':\n",
    "\"\"\"get_values_full_matrix(wg_id = wg_id, wchar_matrix = wchar_matrix, word_group_id_list = word_group_id_list)\"\"\",\n",
    "    'Matrix Selection Option 2: Selecting by word length':\n",
    "\"\"\"get_values_n_char(wg_id = wg_id, n_char = n_char, n_char_matrix_dict = n_char_matrix_dict)\"\"\",\n",
    "    'Matrix Selection Option 3: Selecting by first letter':\n",
    "\"\"\"get_values_single_letter(wg_id = wg_id, single_letter_id = first_letter_id, single_letter_matrix_dict = single_letter_matrix_dict)\"\"\",    \n",
    "    'Matrix Selection Option 4: Selecting by single least common letter':\n",
    "\"\"\"get_values_single_letter(wg_id = wg_id, single_letter_id = single_letter_id, single_letter_matrix_dict = single_letter_matrix_dict)\"\"\",\n",
    "    'Matrix Selection Option 5: Selecting by letter selector':\n",
    "\"\"\"get_values_letter_selector(wg_id = wg_id, letter_selector_id = letter_selector_id, letter_selector_matrix_dict = letter_selector_matrix_dict)\"\"\",\n",
    "    'Matrix Selection Option 6: Selecting by word length and letter selector':\n",
    "\"\"\"get_values_n_char_letter_selector(wg_id = wg_id, nc_ls_id = nc_ls_id, nc_ls_matrix_dict=nc_ls_matrix_dict)\"\"\"\n",
    "}\n",
    "\n",
    "timing_list = []\n",
    "for csd, cs in code_snippet_dict.items():    \n",
    "\n",
    "    # here we time the code execution\n",
    "    total_time = timeit.timeit(cs, number=n_trials, globals=globals())\n",
    "    timing_list.append([csd, total_time])\n",
    "\n",
    "    # total time    \n",
    "    total_time_formatted = '{:,}'.format(round(total_time, 2))    \n",
    "\n",
    "    # average time\n",
    "    avg_time = total_time / n_trials\n",
    "    avg_time_formatted = '{:,}'.format(round(avg_time, 2)) \n",
    "        \n",
    "    print(csd)\n",
    "    # average number of seconds per trial\n",
    "    print('Total time:', total_time_formatted, 'seconds. Average time:', avg_time_formatted, 'seconds.')\n",
    "\n",
    "    # add a line break to make it easier to read\n",
    "    print()\n",
    "    \n",
    "    "
   ]
  },
  {
   "cell_type": "markdown",
   "metadata": {},
   "source": [
    "# Esimate total number of pairs"
   ]
  },
  {
   "cell_type": "code",
   "execution_count": 21,
   "metadata": {},
   "outputs": [],
   "source": [
    "# how many parent/child relationships are there?\n",
    "# let's estimate the number of anagrams by assuming that the number of\n",
    "# parent/from words is a function of word length. \n",
    "# estimate_total_pairs() estimates the total number of from/to word pairs\n",
    "# the reason for estimating the upper bound is that it is both just interesting \n",
    "# to know but it also means that we can use the estimated values to allocate an \n",
    "# object in memory as opposed to incrementally appending to a list - this is faster\n",
    "# the object in memory is a NumPy Array that will store integers: from word group id | to word group id"
   ]
  },
  {
   "cell_type": "code",
   "execution_count": 22,
   "metadata": {},
   "outputs": [
    {
     "name": "stdout",
     "output_type": "stream",
     "text": [
      "...estimated number of from/to pair word pairs: 198,842,245\n"
     ]
    }
   ],
   "source": [
    "n_possible_anagrams, agg_pos_df = estimate_total_pairs(wg_df = wg_df, letter_selector_matrix_dict = letter_selector_matrix_dict)"
   ]
  },
  {
   "cell_type": "code",
   "execution_count": 23,
   "metadata": {},
   "outputs": [
    {
     "name": "stdout",
     "output_type": "stream",
     "text": [
      "...now writing: n_possible_anagrams\n"
     ]
    }
   ],
   "source": [
    "# save this to disk for future reference\n",
    "write_data_to_sqlite(df = agg_pos_df, table_name = 'n_possible_anagrams', db_path = rc.db_path, db_name = rc.db_name,\n",
    "                         if_exists_option='replace',\n",
    "                         index_option=False, verbose=True)"
   ]
  },
  {
   "cell_type": "markdown",
   "metadata": {},
   "source": [
    "# Calculate the ratios amongst different timing techniques"
   ]
  },
  {
   "cell_type": "raw",
   "metadata": {},
   "source": [
    "# matrix extraction option 6 - the combination of the word length and letter selector - is the fastest\n",
    "# but how much faster is it compared to option 5 or option 3?"
   ]
  },
  {
   "cell_type": "code",
   "execution_count": 24,
   "metadata": {},
   "outputs": [],
   "source": [
    "# these numbers are orders of magnitude different and therefore hard to interpret.\n",
    "# let's rescale."
   ]
  },
  {
   "cell_type": "code",
   "execution_count": 25,
   "metadata": {},
   "outputs": [],
   "source": [
    "# we'll use product() to compute the cartesian product of the list of timings\n",
    "# from the timing list, we can compute the ratio of one timing to another\n",
    "# we can then build a dataframe and cross-tab\n",
    "\n",
    "expanded_timing_list = []\n",
    "for me_source, me_target in product(timing_list, repeat=2):    \n",
    "    # let's unpack this\n",
    "    me_source_option, me_source_timing = me_source\n",
    "    me_target_option, me_target_timing = me_target\n",
    "\n",
    "    me_source_option = me_source_option[17:25]\n",
    "    me_target_option = me_target_option[17:25]\n",
    "    me_source_target_timing_ratio = me_source_timing / me_target_timing\n",
    "    \n",
    "    # add to the list\n",
    "    expanded_timing_list.append([me_source_option, me_target_option, me_source_timing, me_target_timing, me_source_target_timing_ratio])    "
   ]
  },
  {
   "cell_type": "code",
   "execution_count": 26,
   "metadata": {},
   "outputs": [],
   "source": [
    "col_names = ['source', 'target', 'source_timing', 'target_timing', 'timing_ratio']"
   ]
  },
  {
   "cell_type": "code",
   "execution_count": 27,
   "metadata": {},
   "outputs": [],
   "source": [
    "timing_df = pd.DataFrame(data = expanded_timing_list, columns = col_names)"
   ]
  },
  {
   "cell_type": "code",
   "execution_count": 28,
   "metadata": {},
   "outputs": [
    {
     "data": {
      "text/html": [
       "<div>\n",
       "<style scoped>\n",
       "    .dataframe tbody tr th:only-of-type {\n",
       "        vertical-align: middle;\n",
       "    }\n",
       "\n",
       "    .dataframe tbody tr th {\n",
       "        vertical-align: top;\n",
       "    }\n",
       "\n",
       "    .dataframe thead th {\n",
       "        text-align: right;\n",
       "    }\n",
       "</style>\n",
       "<table border=\"1\" class=\"dataframe\">\n",
       "  <thead>\n",
       "    <tr style=\"text-align: right;\">\n",
       "      <th></th>\n",
       "      <th>source</th>\n",
       "      <th>target</th>\n",
       "      <th>source_timing</th>\n",
       "      <th>target_timing</th>\n",
       "      <th>timing_ratio</th>\n",
       "    </tr>\n",
       "  </thead>\n",
       "  <tbody>\n",
       "    <tr>\n",
       "      <th>0</th>\n",
       "      <td>Option 1</td>\n",
       "      <td>Option 1</td>\n",
       "      <td>3.561994</td>\n",
       "      <td>3.561994</td>\n",
       "      <td>1.000000</td>\n",
       "    </tr>\n",
       "    <tr>\n",
       "      <th>1</th>\n",
       "      <td>Option 1</td>\n",
       "      <td>Option 2</td>\n",
       "      <td>3.561994</td>\n",
       "      <td>2.669688</td>\n",
       "      <td>1.334236</td>\n",
       "    </tr>\n",
       "    <tr>\n",
       "      <th>2</th>\n",
       "      <td>Option 1</td>\n",
       "      <td>Option 3</td>\n",
       "      <td>3.561994</td>\n",
       "      <td>2.229025</td>\n",
       "      <td>1.598006</td>\n",
       "    </tr>\n",
       "    <tr>\n",
       "      <th>3</th>\n",
       "      <td>Option 1</td>\n",
       "      <td>Option 4</td>\n",
       "      <td>3.561994</td>\n",
       "      <td>0.537278</td>\n",
       "      <td>6.629701</td>\n",
       "    </tr>\n",
       "    <tr>\n",
       "      <th>4</th>\n",
       "      <td>Option 1</td>\n",
       "      <td>Option 5</td>\n",
       "      <td>3.561994</td>\n",
       "      <td>0.046924</td>\n",
       "      <td>75.910173</td>\n",
       "    </tr>\n",
       "  </tbody>\n",
       "</table>\n",
       "</div>"
      ],
      "text/plain": [
       "     source    target  source_timing  target_timing  timing_ratio\n",
       "0  Option 1  Option 1       3.561994       3.561994      1.000000\n",
       "1  Option 1  Option 2       3.561994       2.669688      1.334236\n",
       "2  Option 1  Option 3       3.561994       2.229025      1.598006\n",
       "3  Option 1  Option 4       3.561994       0.537278      6.629701\n",
       "4  Option 1  Option 5       3.561994       0.046924     75.910173"
      ]
     },
     "execution_count": 28,
     "metadata": {},
     "output_type": "execute_result"
    }
   ],
   "source": [
    "timing_df.head()"
   ]
  },
  {
   "cell_type": "code",
   "execution_count": 29,
   "metadata": {},
   "outputs": [],
   "source": [
    "# use the pd.pivot_table() function to display the ratios\n",
    "# we computed the product so all cells will be filled\n",
    "# but we only need to look at the top diagonal\n",
    "# the bottom diagonal is the inverse of the top diagonal\n",
    "# from left to right: we can see how much faster option 5 is than option 1\n",
    "# or how much faster option 4 is than option 3\n",
    "timing_table = timing_df.pivot_table(index = ['source'], columns = ['target'],\n",
    "                           values =['timing_ratio']).reset_index(drop = False, names = 'Matrix Extraction')"
   ]
  },
  {
   "cell_type": "code",
   "execution_count": 30,
   "metadata": {},
   "outputs": [],
   "source": [
    "# use a list comprehension to clean up the column names\n",
    "col_names = [''.join(cn).replace('timing_ratio', '') for cn in timing_table.columns.tolist()]"
   ]
  },
  {
   "cell_type": "code",
   "execution_count": 31,
   "metadata": {},
   "outputs": [],
   "source": [
    "timing_table.columns = col_names"
   ]
  },
  {
   "cell_type": "code",
   "execution_count": 32,
   "metadata": {},
   "outputs": [
    {
     "data": {
      "text/html": [
       "<div>\n",
       "<style scoped>\n",
       "    .dataframe tbody tr th:only-of-type {\n",
       "        vertical-align: middle;\n",
       "    }\n",
       "\n",
       "    .dataframe tbody tr th {\n",
       "        vertical-align: top;\n",
       "    }\n",
       "\n",
       "    .dataframe thead th {\n",
       "        text-align: right;\n",
       "    }\n",
       "</style>\n",
       "<table border=\"1\" class=\"dataframe\">\n",
       "  <thead>\n",
       "    <tr style=\"text-align: right;\">\n",
       "      <th></th>\n",
       "      <th>Matrix Extraction</th>\n",
       "      <th>Option 1</th>\n",
       "      <th>Option 2</th>\n",
       "      <th>Option 3</th>\n",
       "      <th>Option 4</th>\n",
       "      <th>Option 5</th>\n",
       "      <th>Option 6</th>\n",
       "    </tr>\n",
       "  </thead>\n",
       "  <tbody>\n",
       "    <tr>\n",
       "      <th>0</th>\n",
       "      <td>Option 1</td>\n",
       "      <td>1.000000</td>\n",
       "      <td>1.334236</td>\n",
       "      <td>1.598006</td>\n",
       "      <td>6.629701</td>\n",
       "      <td>75.910173</td>\n",
       "      <td>103.273737</td>\n",
       "    </tr>\n",
       "    <tr>\n",
       "      <th>1</th>\n",
       "      <td>Option 2</td>\n",
       "      <td>0.749493</td>\n",
       "      <td>1.000000</td>\n",
       "      <td>1.197693</td>\n",
       "      <td>4.968911</td>\n",
       "      <td>56.894107</td>\n",
       "      <td>77.402893</td>\n",
       "    </tr>\n",
       "    <tr>\n",
       "      <th>2</th>\n",
       "      <td>Option 3</td>\n",
       "      <td>0.625780</td>\n",
       "      <td>0.834938</td>\n",
       "      <td>1.000000</td>\n",
       "      <td>4.148734</td>\n",
       "      <td>47.503071</td>\n",
       "      <td>64.626642</td>\n",
       "    </tr>\n",
       "    <tr>\n",
       "      <th>3</th>\n",
       "      <td>Option 4</td>\n",
       "      <td>0.150836</td>\n",
       "      <td>0.201251</td>\n",
       "      <td>0.241037</td>\n",
       "      <td>1.000000</td>\n",
       "      <td>11.450015</td>\n",
       "      <td>15.577435</td>\n",
       "    </tr>\n",
       "    <tr>\n",
       "      <th>4</th>\n",
       "      <td>Option 5</td>\n",
       "      <td>0.013173</td>\n",
       "      <td>0.017577</td>\n",
       "      <td>0.021051</td>\n",
       "      <td>0.087336</td>\n",
       "      <td>1.000000</td>\n",
       "      <td>1.360473</td>\n",
       "    </tr>\n",
       "    <tr>\n",
       "      <th>5</th>\n",
       "      <td>Option 6</td>\n",
       "      <td>0.009683</td>\n",
       "      <td>0.012919</td>\n",
       "      <td>0.015473</td>\n",
       "      <td>0.064195</td>\n",
       "      <td>0.735039</td>\n",
       "      <td>1.000000</td>\n",
       "    </tr>\n",
       "  </tbody>\n",
       "</table>\n",
       "</div>"
      ],
      "text/plain": [
       "  Matrix Extraction  Option 1  Option 2  Option 3  Option 4   Option 5  \\\n",
       "0          Option 1  1.000000  1.334236  1.598006  6.629701  75.910173   \n",
       "1          Option 2  0.749493  1.000000  1.197693  4.968911  56.894107   \n",
       "2          Option 3  0.625780  0.834938  1.000000  4.148734  47.503071   \n",
       "3          Option 4  0.150836  0.201251  0.241037  1.000000  11.450015   \n",
       "4          Option 5  0.013173  0.017577  0.021051  0.087336   1.000000   \n",
       "5          Option 6  0.009683  0.012919  0.015473  0.064195   0.735039   \n",
       "\n",
       "     Option 6  \n",
       "0  103.273737  \n",
       "1   77.402893  \n",
       "2   64.626642  \n",
       "3   15.577435  \n",
       "4    1.360473  \n",
       "5    1.000000  "
      ]
     },
     "execution_count": 32,
     "metadata": {},
     "output_type": "execute_result"
    }
   ],
   "source": [
    "timing_table"
   ]
  },
  {
   "cell_type": "code",
   "execution_count": 33,
   "metadata": {},
   "outputs": [
    {
     "name": "stdout",
     "output_type": "stream",
     "text": [
      "...now writing: matrix_extraction_timing\n"
     ]
    }
   ],
   "source": [
    "# write to sqlite\n",
    "write_data_to_sqlite(df = timing_table, table_name='matrix_extraction_timing', db_path = rc.db_path, \n",
    "                     db_name = rc.db_name)"
   ]
  },
  {
   "cell_type": "code",
   "execution_count": 34,
   "metadata": {},
   "outputs": [],
   "source": [
    "# wow. So, based on this analysis of the different \n",
    "# matrix extraction options using the word 'achiever':\n",
    "# options 5 and 6 are the fastest, each over 100 times faster than option 1\n",
    "# option 4 - just using the single least common letter - is 10X faster than option 1\n",
    "# and 6X faster than option 3 - using the starting the letter of the word."
   ]
  },
  {
   "cell_type": "code",
   "execution_count": null,
   "metadata": {},
   "outputs": [],
   "source": []
  }
 ],
 "metadata": {
  "kernelspec": {
   "display_name": "Python 3 (ipykernel)",
   "language": "python",
   "name": "python3"
  },
  "language_info": {
   "codemirror_mode": {
    "name": "ipython",
    "version": 3
   },
   "file_extension": ".py",
   "mimetype": "text/x-python",
   "name": "python",
   "nbconvert_exporter": "python",
   "pygments_lexer": "ipython3",
   "version": "3.12.4"
  }
 },
 "nbformat": 4,
 "nbformat_minor": 4
}
