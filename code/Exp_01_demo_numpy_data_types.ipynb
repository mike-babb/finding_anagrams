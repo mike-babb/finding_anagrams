{
 "cells": [
  {
   "cell_type": "markdown",
   "id": "e3f3f87e",
   "metadata": {},
   "source": [
    "# Exp 01: Specify NumPy data types\n",
    "NumPy's default integer datatype is 64-bit. All NumPy objects have values that do not exceed the max 8-bit or 32-bit value.  \n",
    "Demonstrate the speed up from using smaller NumPy data type."
   ]
  },
  {
   "cell_type": "code",
   "execution_count": 91,
   "id": "7ee95900",
   "metadata": {},
   "outputs": [],
   "source": [
    "# standard libraries\n",
    "from time import perf_counter_ns\n",
    "import time"
   ]
  },
  {
   "cell_type": "code",
   "execution_count": 92,
   "id": "5a95a599",
   "metadata": {},
   "outputs": [],
   "source": [
    "# external libraries\n",
    "import numpy as np\n",
    "import pandas as pd\n",
    "\n",
    "# custom libraries\n",
    "from _run_constants import *\n",
    "from part_00_file_db_utils import *\n",
    "from part_00_process_functions import *"
   ]
  },
  {
   "cell_type": "markdown",
   "id": "abcec70c",
   "metadata": {},
   "source": [
    "# Control NumPy Data Type Usage"
   ]
  },
  {
   "cell_type": "code",
   "execution_count": 93,
   "id": "ddb21cf4",
   "metadata": {},
   "outputs": [],
   "source": [
    "# set to True to demonstrate the speed up gained from using smaller NumPy data types\n",
    "change_data_types = True"
   ]
  },
  {
   "cell_type": "markdown",
   "id": "b2a44e3f",
   "metadata": {},
   "source": [
    "# Load Data"
   ]
  },
  {
   "cell_type": "code",
   "execution_count": 94,
   "id": "1fb50fde",
   "metadata": {},
   "outputs": [
    {
     "name": "stdout",
     "output_type": "stream",
     "text": [
      "...loading words into a dataframe...\n",
      "...query execution took: 1.67 seconds...\n",
      "...loading word groups into a dataframe...\n",
      "...query execution took: 1.42 seconds...\n",
      "...loading the letter dictionary...\n",
      "...loading the char matrix...\n",
      "...subsetting the char matrix...\n"
     ]
    }
   ],
   "source": [
    "word_df, wg_df, letter_dict, char_matrix, \\\n",
    "    word_group_id_list, word_id_list, wchar_matrix = load_input_data(\n",
    "        db_path=rc.DB_PATH, db_name=rc.DB_NAME,\n",
    "        in_file_path=rc.IN_FILE_PATH, change_data_types=change_data_types)"
   ]
  },
  {
   "cell_type": "code",
   "execution_count": 95,
   "id": "877a797c",
   "metadata": {},
   "outputs": [],
   "source": [
    "col_names = ['letter_selector_mod', 'n_records']\n",
    "ls_df = build_letter_selector_df(df = wg_df, ls_nchar=3,                          \n",
    "                                 letter_selector_col_name='letter_selector',\n",
    "                                 letter_selector_id_col_name='letter_selector_id')"
   ]
  },
  {
   "cell_type": "code",
   "execution_count": 96,
   "id": "85297daf",
   "metadata": {},
   "outputs": [
    {
     "name": "stdout",
     "output_type": "stream",
     "text": [
      "...loading the letter dictionary...\n"
     ]
    }
   ],
   "source": [
    "# build a dataframe with the letter selectors\n",
    "ls_df = get_ls_index(df = ls_df)\n"
   ]
  },
  {
   "cell_type": "code",
   "execution_count": 97,
   "id": "2bfdbb57",
   "metadata": {},
   "outputs": [
    {
     "data": {
      "text/plain": [
       "ls_nchar\n",
       "3    2250\n",
       "2     111\n",
       "1      26\n",
       "Name: count, dtype: int64"
      ]
     },
     "execution_count": 97,
     "metadata": {},
     "output_type": "execute_result"
    }
   ],
   "source": [
    "# should total 2387\n",
    "ls_df['ls_nchar'].value_counts()\n"
   ]
  },
  {
   "cell_type": "code",
   "execution_count": 98,
   "id": "49366467",
   "metadata": {},
   "outputs": [
    {
     "data": {
      "text/plain": [
       "count    2387.000000\n",
       "mean       90.423963\n",
       "std       212.422095\n",
       "min         1.000000\n",
       "25%         3.000000\n",
       "50%        14.000000\n",
       "75%        75.000000\n",
       "max      2544.000000\n",
       "Name: ls_count, dtype: float64"
      ]
     },
     "execution_count": 98,
     "metadata": {},
     "output_type": "execute_result"
    }
   ],
   "source": [
    "# this is the count of lookups for each letter selector\n",
    "ls_df['ls_count'].describe()"
   ]
  },
  {
   "cell_type": "code",
   "execution_count": 99,
   "id": "20088cbf",
   "metadata": {},
   "outputs": [
    {
     "data": {
      "text/plain": [
       "np.float64(1038.5199999999977)"
      ]
     },
     "execution_count": 99,
     "metadata": {},
     "output_type": "execute_result"
    }
   ],
   "source": [
    "# how many are at 99-percent?\n",
    "np.quantile(a = ls_df['ls_count'], q = .99)"
   ]
  },
  {
   "cell_type": "code",
   "execution_count": 100,
   "id": "60ded439",
   "metadata": {},
   "outputs": [
    {
     "name": "stdout",
     "output_type": "stream",
     "text": [
      "...query execution took: 0.0 seconds...\n"
     ]
    }
   ],
   "source": [
    "# load the total number of anagrams\n",
    "n_possible_anagrams = load_possible_anagrams(db_path=rc.DB_PATH,\n",
    "                                             db_name=rc.DB_NAME)"
   ]
  },
  {
   "cell_type": "code",
   "execution_count": 101,
   "id": "dc40731f",
   "metadata": {},
   "outputs": [],
   "source": [
    "ls_df = ls_df.reset_index(drop = True)"
   ]
  },
  {
   "cell_type": "code",
   "execution_count": 102,
   "id": "ae2ff5a4",
   "metadata": {},
   "outputs": [],
   "source": [
    "# merge to identify each word's letter_selector\n",
    "col_names = ['letter_selector', 'letter_selector_id']\n",
    "wg_df = pd.merge(left = wg_df, right = ls_df[col_names])"
   ]
  },
  {
   "cell_type": "code",
   "execution_count": 103,
   "id": "dd6a6d9d",
   "metadata": {},
   "outputs": [
    {
     "data": {
      "text/html": [
       "<div>\n",
       "<style scoped>\n",
       "    .dataframe tbody tr th:only-of-type {\n",
       "        vertical-align: middle;\n",
       "    }\n",
       "\n",
       "    .dataframe tbody tr th {\n",
       "        vertical-align: top;\n",
       "    }\n",
       "\n",
       "    .dataframe thead th {\n",
       "        text-align: right;\n",
       "    }\n",
       "</style>\n",
       "<table border=\"1\" class=\"dataframe\">\n",
       "  <thead>\n",
       "    <tr style=\"text-align: right;\">\n",
       "      <th></th>\n",
       "      <th>word</th>\n",
       "      <th>lcase</th>\n",
       "      <th>n_chars</th>\n",
       "      <th>first_letter</th>\n",
       "      <th>word_id</th>\n",
       "      <th>word_group_id</th>\n",
       "      <th>letter_group</th>\n",
       "      <th>letter_group_ranked</th>\n",
       "      <th>word_group_count</th>\n",
       "      <th>letter_selector</th>\n",
       "      <th>n_records</th>\n",
       "      <th>letter_selector_id</th>\n",
       "    </tr>\n",
       "  </thead>\n",
       "  <tbody>\n",
       "    <tr>\n",
       "      <th>0</th>\n",
       "      <td>A</td>\n",
       "      <td>a</td>\n",
       "      <td>1</td>\n",
       "      <td>a</td>\n",
       "      <td>0</td>\n",
       "      <td>0</td>\n",
       "      <td>a</td>\n",
       "      <td>a</td>\n",
       "      <td>1</td>\n",
       "      <td>a</td>\n",
       "      <td>1</td>\n",
       "      <td>0</td>\n",
       "    </tr>\n",
       "    <tr>\n",
       "      <th>1</th>\n",
       "      <td>aa</td>\n",
       "      <td>aa</td>\n",
       "      <td>2</td>\n",
       "      <td>a</td>\n",
       "      <td>1</td>\n",
       "      <td>1</td>\n",
       "      <td>a</td>\n",
       "      <td>a</td>\n",
       "      <td>1</td>\n",
       "      <td>a</td>\n",
       "      <td>1</td>\n",
       "      <td>0</td>\n",
       "    </tr>\n",
       "    <tr>\n",
       "      <th>2</th>\n",
       "      <td>aal</td>\n",
       "      <td>aal</td>\n",
       "      <td>3</td>\n",
       "      <td>a</td>\n",
       "      <td>2</td>\n",
       "      <td>2</td>\n",
       "      <td>al</td>\n",
       "      <td>la</td>\n",
       "      <td>2</td>\n",
       "      <td>la</td>\n",
       "      <td>1</td>\n",
       "      <td>1081</td>\n",
       "    </tr>\n",
       "    <tr>\n",
       "      <th>3</th>\n",
       "      <td>aalii</td>\n",
       "      <td>aalii</td>\n",
       "      <td>5</td>\n",
       "      <td>a</td>\n",
       "      <td>3</td>\n",
       "      <td>3</td>\n",
       "      <td>ail</td>\n",
       "      <td>lai</td>\n",
       "      <td>1</td>\n",
       "      <td>lai</td>\n",
       "      <td>1</td>\n",
       "      <td>1083</td>\n",
       "    </tr>\n",
       "    <tr>\n",
       "      <th>4</th>\n",
       "      <td>aam</td>\n",
       "      <td>aam</td>\n",
       "      <td>3</td>\n",
       "      <td>a</td>\n",
       "      <td>4</td>\n",
       "      <td>4</td>\n",
       "      <td>am</td>\n",
       "      <td>ma</td>\n",
       "      <td>2</td>\n",
       "      <td>ma</td>\n",
       "      <td>1</td>\n",
       "      <td>1114</td>\n",
       "    </tr>\n",
       "  </tbody>\n",
       "</table>\n",
       "</div>"
      ],
      "text/plain": [
       "    word  lcase  n_chars first_letter  word_id  word_group_id letter_group  \\\n",
       "0      A      a        1            a        0              0            a   \n",
       "1     aa     aa        2            a        1              1            a   \n",
       "2    aal    aal        3            a        2              2           al   \n",
       "3  aalii  aalii        5            a        3              3          ail   \n",
       "4    aam    aam        3            a        4              4           am   \n",
       "\n",
       "  letter_group_ranked  word_group_count letter_selector  n_records  \\\n",
       "0                   a                 1               a          1   \n",
       "1                   a                 1               a          1   \n",
       "2                  la                 2              la          1   \n",
       "3                 lai                 1             lai          1   \n",
       "4                  ma                 2              ma          1   \n",
       "\n",
       "   letter_selector_id  \n",
       "0                   0  \n",
       "1                   0  \n",
       "2                1081  \n",
       "3                1083  \n",
       "4                1114  "
      ]
     },
     "execution_count": 103,
     "metadata": {},
     "output_type": "execute_result"
    }
   ],
   "source": [
    "wg_df.head()"
   ]
  },
  {
   "cell_type": "code",
   "execution_count": 104,
   "id": "f98f761b",
   "metadata": {},
   "outputs": [],
   "source": [
    "ls_id_wg_id, ls_index_array = build_ls_index_arrays(wg_df=wg_df, ls_df = ls_df,change_data_types=change_data_types)"
   ]
  },
  {
   "cell_type": "code",
   "execution_count": 105,
   "id": "738738f7",
   "metadata": {},
   "outputs": [
    {
     "data": {
      "text/plain": [
       "(2387,)"
      ]
     },
     "execution_count": 105,
     "metadata": {},
     "output_type": "execute_result"
    }
   ],
   "source": [
    "wg_df['letter_selector'].unique().shape"
   ]
  },
  {
   "cell_type": "code",
   "execution_count": 106,
   "id": "e2748f0c",
   "metadata": {},
   "outputs": [
    {
     "name": "stdout",
     "output_type": "stream",
     "text": [
      "Machine parameters for int8\n",
      "---------------------------------------------------------------\n",
      "min = -128\n",
      "max = 127\n",
      "---------------------------------------------------------------\n",
      "\n",
      "Machine parameters for int16\n",
      "---------------------------------------------------------------\n",
      "min = -32768\n",
      "max = 32767\n",
      "---------------------------------------------------------------\n",
      "\n",
      "Machine parameters for int32\n",
      "---------------------------------------------------------------\n",
      "min = -2147483648\n",
      "max = 2147483647\n",
      "---------------------------------------------------------------\n",
      "\n",
      "Machine parameters for int64\n",
      "---------------------------------------------------------------\n",
      "min = -9223372036854775808\n",
      "max = 9223372036854775807\n",
      "---------------------------------------------------------------\n",
      "\n"
     ]
    }
   ],
   "source": [
    "# what are the max values of the NumPy integer DataTypes\n",
    "print(np.iinfo(np.int8))\n",
    "print(np.iinfo(np.int16))\n",
    "print(np.iinfo(np.int32))\n",
    "print(np.iinfo(np.int64))"
   ]
  },
  {
   "cell_type": "code",
   "execution_count": 107,
   "id": "4d0a5518",
   "metadata": {},
   "outputs": [
    {
     "name": "stdout",
     "output_type": "stream",
     "text": [
      "int8\n",
      "8\n"
     ]
    }
   ],
   "source": [
    "# check the max value of the wchar_matrix\n",
    "print(wchar_matrix.dtype)\n",
    "print(wchar_matrix.max())"
   ]
  },
  {
   "cell_type": "code",
   "execution_count": 108,
   "id": "cc0a33c8",
   "metadata": {},
   "outputs": [
    {
     "name": "stdout",
     "output_type": "stream",
     "text": [
      "int32\n",
      "215841\n"
     ]
    }
   ],
   "source": [
    "# max value of the word_group_id_list\n",
    "print(word_group_id_list.dtype)\n",
    "print(word_group_id_list.max())"
   ]
  },
  {
   "cell_type": "code",
   "execution_count": 109,
   "id": "6e224cee",
   "metadata": {},
   "outputs": [],
   "source": [
    "# the only two numpy arrays in use in the code below - not created when\n",
    "# the code runs - are the wchar_matrix and the word_group_id_list\n",
    "# convert the wchar_matrix to int8 \n",
    "# convert the word_group_id_list to int32"
   ]
  },
  {
   "cell_type": "code",
   "execution_count": 110,
   "id": "be7203d9",
   "metadata": {},
   "outputs": [
    {
     "name": "stdout",
     "output_type": "stream",
     "text": [
      "0\n",
      "100\n",
      "200\n",
      "300\n",
      "400\n",
      "500\n",
      "600\n",
      "700\n",
      "800\n",
      "900\n",
      "1000\n",
      "1100\n",
      "1200\n",
      "1300\n",
      "1400\n",
      "1500\n",
      "1600\n",
      "1700\n",
      "1800\n",
      "1900\n",
      "2000\n",
      "2100\n",
      "2200\n",
      "2300\n",
      "...time to find parent/child word relationships\n",
      "Hours: 0 | minutes: 1 | seconds: 17.6848\n",
      "...truncating output list...\n",
      "(73218235, 2)\n",
      "Hours: 0 | minutes: 1 | seconds: 21.5421\n"
     ]
    }
   ],
   "source": [
    "# run it!\n",
    "run_start_time=perf_counter_ns()\n",
    "# create the output list\n",
    "output_list = np.full(shape = (n_possible_anagrams , 2), fill_value=-1, dtype=np.int32)\n",
    "output_time_list = np.zeros(shape = (ls_index_array.shape[0], 3), dtype = np.float32)\n",
    "\n",
    "# start counting\n",
    "anagram_pair_count = 0\n",
    "\n",
    "for ls_row_id, ls_row in enumerate(ls_index_array):    \n",
    "        \n",
    "    if ls_row_id % 100 == 0:\n",
    "        print(ls_row_id)\n",
    "    start_time = perf_counter_ns()\n",
    "        \n",
    "    ##\n",
    "    # SUBSET THE wchar_matrix by column selector\n",
    "    ##    \n",
    "    outcome_indices = np.all(wchar_matrix[:, ls_row] >= 1, axis=1)\n",
    "    \n",
    "    # sub-matrix that we will use to find parent words\n",
    "    ls_wchar_matrix = wchar_matrix[outcome_indices, :]\n",
    "            \n",
    "    # this is the list of word group ids that correspond to the word group ids\n",
    "    # in the ls_wchar_matrix\n",
    "    temp_wg_id_list = word_group_id_list[outcome_indices]\n",
    "        \n",
    "    # this is the number of word groups that meet certain criteria. \n",
    "    # for example, words that feature the letters: 'buc'    \n",
    "    n_search_space = temp_wg_id_list.shape[0]        \n",
    "    \n",
    "    # the current list of words featuring the set of least common letters.\n",
    "    # these are the words have the least common letters of 'buc'        \n",
    "    curr_wg_id_list = ls_id_wg_id[ls_id_wg_id[:, 0] == ls_row_id, 1]\n",
    "    # with a three-letter letter selector, ranges in size from 1 to 2544\n",
    "         \n",
    "    for i_curr_wg_id, curr_wg_id in enumerate(curr_wg_id_list):    \n",
    "            \n",
    "        # get the re-alignment of the word group id\n",
    "        temp_wg_id = np.where(temp_wg_id_list == curr_wg_id)[0][0]\n",
    "        \n",
    "        outcome_word_id_list = temp_wg_id_list[np.all(a = (ls_wchar_matrix - ls_wchar_matrix[temp_wg_id, :]) >= 0, axis = 1)]        \n",
    "                        \n",
    "        n_from_words = outcome_word_id_list.shape[0]\n",
    "        \n",
    "        if n_from_words > 0:\n",
    "            outcome_word_id_list = format_output_list(outcome_word_id_list=outcome_word_id_list, wg_id=curr_wg_id)\n",
    "                                    \n",
    "            # enumerate the from/parent words\n",
    "            new_anagram_pair_count = anagram_pair_count + n_from_words\n",
    "            \n",
    "            output_list[anagram_pair_count:new_anagram_pair_count, :] = outcome_word_id_list\n",
    "            \n",
    "            # update the anagram pair count\n",
    "            anagram_pair_count = new_anagram_pair_count\n",
    "\n",
    "    curr_time = calc_time(time_start=start_time, round_digits=8)\n",
    "    output_time_list[ls_row_id, :] = [ls_row_id, n_search_space, curr_time]\n",
    "\n",
    "print('...time to find parent/child word relationships')\n",
    "time_proc = calc_time(time_start=run_start_time, round_digits=4)\n",
    "compute_elapsed_time(seconds=time_proc)\n",
    "print('...truncating output list...')\n",
    "output_indices = np.all(output_list >= 0, axis=1)\n",
    "output_list = output_list[output_indices,]\n",
    "print(output_list.shape)\n",
    "time_proc = calc_time(time_start=run_start_time, round_digits=4)\n",
    "compute_elapsed_time(seconds=time_proc)"
   ]
  },
  {
   "cell_type": "code",
   "execution_count": 111,
   "id": "947a27aa",
   "metadata": {},
   "outputs": [],
   "source": [
    "# current technique: 1 minute, 25 seconds\n",
    "# setting the numpy data types: a little less than 34 seconds\n",
    "# a full minute and change faster just by being explicit with the data types.\n",
    "# this is the new standard!"
   ]
  },
  {
   "cell_type": "code",
   "execution_count": 112,
   "id": "56ef125c",
   "metadata": {},
   "outputs": [],
   "source": [
    "# count using numpy, and then create a Counter object\n",
    "from_word_counter, to_word_counter = build_counters(output_list=output_list)\n",
    "# this used to take 45 seconds, it now takes 6"
   ]
  },
  {
   "cell_type": "code",
   "execution_count": 113,
   "id": "eed9f7df",
   "metadata": {},
   "outputs": [
    {
     "name": "stdout",
     "output_type": "stream",
     "text": [
      "26\n",
      "329\n"
     ]
    }
   ],
   "source": [
    "# the number of from word groups: should be 26\n",
    "print(from_word_counter[746]) # should be 26\n",
    "print(to_word_counter[746]) # should be 329"
   ]
  },
  {
   "cell_type": "code",
   "execution_count": 114,
   "id": "46e8a8b5",
   "metadata": {},
   "outputs": [],
   "source": [
    "time_df = build_timing_and_output_objects(output_time_list=output_time_list,\n",
    "                                          ls_df = ls_df)"
   ]
  },
  {
   "cell_type": "code",
   "execution_count": 115,
   "id": "f4480b17",
   "metadata": {},
   "outputs": [],
   "source": [
    "# drop the ls_index field\n",
    "time_df = time_df.drop(labels = ['ls_index'], axis = 1)"
   ]
  },
  {
   "cell_type": "code",
   "execution_count": 116,
   "id": "91c54bbe",
   "metadata": {},
   "outputs": [],
   "source": [
    "# compute the total number of comps\n",
    "time_df['total_comps'] = time_df['n_search_space'] * time_df['ls_count']"
   ]
  },
  {
   "cell_type": "code",
   "execution_count": 117,
   "id": "2d1b9c06",
   "metadata": {},
   "outputs": [],
   "source": [
    "# change dtypes\n",
    "col_names = ['letter_selector_id',\n",
    " 'n_search_space', \n",
    " 'total_comps']\n",
    "for cn in col_names:\n",
    "    time_df[cn] = time_df[cn].astype(int)\n"
   ]
  },
  {
   "cell_type": "code",
   "execution_count": 118,
   "id": "b553fbc1",
   "metadata": {},
   "outputs": [
    {
     "data": {
      "text/plain": [
       "np.float32(77.38193)"
      ]
     },
     "execution_count": 118,
     "metadata": {},
     "output_type": "execute_result"
    }
   ],
   "source": [
    "time_df['total_time'].sum()"
   ]
  },
  {
   "cell_type": "code",
   "execution_count": 119,
   "id": "8ef35310",
   "metadata": {},
   "outputs": [
    {
     "name": "stdout",
     "output_type": "stream",
     "text": [
      "...now writing: exp_01_mod_meo_5\n"
     ]
    }
   ],
   "source": [
    "# let's save this experiment for later use\n",
    "write_data_to_sqlite(df = time_df, table_name = \"exp_01_mod_meo_5\", db_path = rc.DB_PATH, db_name = rc.DB_NAME)"
   ]
  },
  {
   "cell_type": "code",
   "execution_count": 120,
   "id": "e6a26cfe",
   "metadata": {},
   "outputs": [
    {
     "data": {
      "text/plain": [
       "array([False, False, False, False, False, False, False, False, False,\n",
       "       False, False, False, False, False, False, False, False, False,\n",
       "       False, False,  True, False, False, False,  True,  True])"
      ]
     },
     "execution_count": 120,
     "metadata": {},
     "output_type": "execute_result"
    }
   ],
   "source": [
    "ls_index_array[2386, :]"
   ]
  },
  {
   "cell_type": "code",
   "execution_count": 121,
   "id": "37e110e9",
   "metadata": {},
   "outputs": [
    {
     "data": {
      "text/plain": [
       "letter_selector                                                     zyu\n",
       "ls_count                                                             18\n",
       "ls_nchar_iter                                                         3\n",
       "ls_nchar                                                              3\n",
       "letter_selector_id                                                 2386\n",
       "ls_index              [False, False, False, False, False, False, Fal...\n",
       "Name: 2386, dtype: object"
      ]
     },
     "execution_count": 121,
     "metadata": {},
     "output_type": "execute_result"
    }
   ],
   "source": [
    "ls_df.loc[2386]"
   ]
  },
  {
   "cell_type": "code",
   "execution_count": 122,
   "id": "95bfbe06",
   "metadata": {},
   "outputs": [
    {
     "data": {
      "text/html": [
       "<div>\n",
       "<style scoped>\n",
       "    .dataframe tbody tr th:only-of-type {\n",
       "        vertical-align: middle;\n",
       "    }\n",
       "\n",
       "    .dataframe tbody tr th {\n",
       "        vertical-align: top;\n",
       "    }\n",
       "\n",
       "    .dataframe thead th {\n",
       "        text-align: right;\n",
       "    }\n",
       "</style>\n",
       "<table border=\"1\" class=\"dataframe\">\n",
       "  <thead>\n",
       "    <tr style=\"text-align: right;\">\n",
       "      <th></th>\n",
       "      <th>letter_selector_id</th>\n",
       "      <th>n_search_space</th>\n",
       "      <th>total_time</th>\n",
       "      <th>ls_count</th>\n",
       "      <th>ls_nchar_iter</th>\n",
       "      <th>ls_nchar</th>\n",
       "      <th>avg_lookup_time</th>\n",
       "      <th>total_comps</th>\n",
       "    </tr>\n",
       "  </thead>\n",
       "  <tbody>\n",
       "    <tr>\n",
       "      <th>count</th>\n",
       "      <td>2387.000000</td>\n",
       "      <td>2387.000000</td>\n",
       "      <td>2387.000000</td>\n",
       "      <td>2387.000000</td>\n",
       "      <td>2387.0</td>\n",
       "      <td>2387.000000</td>\n",
       "      <td>2.387000e+03</td>\n",
       "      <td>2.387000e+03</td>\n",
       "    </tr>\n",
       "    <tr>\n",
       "      <th>mean</th>\n",
       "      <td>1193.000000</td>\n",
       "      <td>7444.399665</td>\n",
       "      <td>0.032418</td>\n",
       "      <td>90.423963</td>\n",
       "      <td>3.0</td>\n",
       "      <td>2.931713</td>\n",
       "      <td>1.896248e-05</td>\n",
       "      <td>4.551921e+05</td>\n",
       "    </tr>\n",
       "    <tr>\n",
       "      <th>std</th>\n",
       "      <td>689.211869</td>\n",
       "      <td>13775.994922</td>\n",
       "      <td>0.089102</td>\n",
       "      <td>212.422095</td>\n",
       "      <td>0.0</td>\n",
       "      <td>0.292308</td>\n",
       "      <td>1.548320e-04</td>\n",
       "      <td>1.498844e+06</td>\n",
       "    </tr>\n",
       "    <tr>\n",
       "      <th>min</th>\n",
       "      <td>0.000000</td>\n",
       "      <td>1.000000</td>\n",
       "      <td>0.002196</td>\n",
       "      <td>1.000000</td>\n",
       "      <td>3.0</td>\n",
       "      <td>1.000000</td>\n",
       "      <td>5.262189e-08</td>\n",
       "      <td>1.000000e+00</td>\n",
       "    </tr>\n",
       "    <tr>\n",
       "      <th>25%</th>\n",
       "      <td>596.500000</td>\n",
       "      <td>340.000000</td>\n",
       "      <td>0.003585</td>\n",
       "      <td>3.000000</td>\n",
       "      <td>3.0</td>\n",
       "      <td>3.000000</td>\n",
       "      <td>9.925258e-08</td>\n",
       "      <td>3.254000e+03</td>\n",
       "    </tr>\n",
       "    <tr>\n",
       "      <th>50%</th>\n",
       "      <td>1193.000000</td>\n",
       "      <td>1665.000000</td>\n",
       "      <td>0.006524</td>\n",
       "      <td>14.000000</td>\n",
       "      <td>3.0</td>\n",
       "      <td>3.000000</td>\n",
       "      <td>2.102753e-07</td>\n",
       "      <td>3.149900e+04</td>\n",
       "    </tr>\n",
       "    <tr>\n",
       "      <th>75%</th>\n",
       "      <td>1789.500000</td>\n",
       "      <td>8655.500000</td>\n",
       "      <td>0.017777</td>\n",
       "      <td>75.000000</td>\n",
       "      <td>3.0</td>\n",
       "      <td>3.000000</td>\n",
       "      <td>1.033333e-06</td>\n",
       "      <td>1.745820e+05</td>\n",
       "    </tr>\n",
       "    <tr>\n",
       "      <th>max</th>\n",
       "      <td>2386.000000</td>\n",
       "      <td>145106.000000</td>\n",
       "      <td>1.319883</td>\n",
       "      <td>2544.000000</td>\n",
       "      <td>3.0</td>\n",
       "      <td>3.000000</td>\n",
       "      <td>3.013400e-03</td>\n",
       "      <td>1.984226e+07</td>\n",
       "    </tr>\n",
       "  </tbody>\n",
       "</table>\n",
       "</div>"
      ],
      "text/plain": [
       "       letter_selector_id  n_search_space   total_time     ls_count  \\\n",
       "count         2387.000000     2387.000000  2387.000000  2387.000000   \n",
       "mean          1193.000000     7444.399665     0.032418    90.423963   \n",
       "std            689.211869    13775.994922     0.089102   212.422095   \n",
       "min              0.000000        1.000000     0.002196     1.000000   \n",
       "25%            596.500000      340.000000     0.003585     3.000000   \n",
       "50%           1193.000000     1665.000000     0.006524    14.000000   \n",
       "75%           1789.500000     8655.500000     0.017777    75.000000   \n",
       "max           2386.000000   145106.000000     1.319883  2544.000000   \n",
       "\n",
       "       ls_nchar_iter     ls_nchar  avg_lookup_time   total_comps  \n",
       "count         2387.0  2387.000000     2.387000e+03  2.387000e+03  \n",
       "mean             3.0     2.931713     1.896248e-05  4.551921e+05  \n",
       "std              0.0     0.292308     1.548320e-04  1.498844e+06  \n",
       "min              3.0     1.000000     5.262189e-08  1.000000e+00  \n",
       "25%              3.0     3.000000     9.925258e-08  3.254000e+03  \n",
       "50%              3.0     3.000000     2.102753e-07  3.149900e+04  \n",
       "75%              3.0     3.000000     1.033333e-06  1.745820e+05  \n",
       "max              3.0     3.000000     3.013400e-03  1.984226e+07  "
      ]
     },
     "execution_count": 122,
     "metadata": {},
     "output_type": "execute_result"
    }
   ],
   "source": [
    "time_df.describe()"
   ]
  },
  {
   "cell_type": "code",
   "execution_count": 123,
   "id": "03acb71f",
   "metadata": {},
   "outputs": [
    {
     "data": {
      "text/html": [
       "<div>\n",
       "<style scoped>\n",
       "    .dataframe tbody tr th:only-of-type {\n",
       "        vertical-align: middle;\n",
       "    }\n",
       "\n",
       "    .dataframe tbody tr th {\n",
       "        vertical-align: top;\n",
       "    }\n",
       "\n",
       "    .dataframe thead th {\n",
       "        text-align: right;\n",
       "    }\n",
       "</style>\n",
       "<table border=\"1\" class=\"dataframe\">\n",
       "  <thead>\n",
       "    <tr style=\"text-align: right;\">\n",
       "      <th></th>\n",
       "      <th>letter_selector_id</th>\n",
       "      <th>n_search_space</th>\n",
       "      <th>total_time</th>\n",
       "      <th>letter_selector</th>\n",
       "      <th>ls_count</th>\n",
       "      <th>ls_nchar_iter</th>\n",
       "      <th>ls_nchar</th>\n",
       "      <th>avg_lookup_time</th>\n",
       "      <th>total_comps</th>\n",
       "    </tr>\n",
       "  </thead>\n",
       "  <tbody>\n",
       "    <tr>\n",
       "      <th>2100</th>\n",
       "      <td>2100</td>\n",
       "      <td>7956</td>\n",
       "      <td>1.319883</td>\n",
       "      <td>yhp</td>\n",
       "      <td>2494</td>\n",
       "      <td>3</td>\n",
       "      <td>3</td>\n",
       "      <td>6.651878e-08</td>\n",
       "      <td>19842264</td>\n",
       "    </tr>\n",
       "  </tbody>\n",
       "</table>\n",
       "</div>"
      ],
      "text/plain": [
       "      letter_selector_id  n_search_space  total_time letter_selector  \\\n",
       "2100                2100            7956    1.319883             yhp   \n",
       "\n",
       "      ls_count  ls_nchar_iter  ls_nchar  avg_lookup_time  total_comps  \n",
       "2100      2494              3         3     6.651878e-08     19842264  "
      ]
     },
     "execution_count": 123,
     "metadata": {},
     "output_type": "execute_result"
    }
   ],
   "source": [
    "time_df.loc[time_df['total_time'] >= 1, :]"
   ]
  }
 ],
 "metadata": {
  "kernelspec": {
   "display_name": "analysis",
   "language": "python",
   "name": "python3"
  },
  "language_info": {
   "codemirror_mode": {
    "name": "ipython",
    "version": 3
   },
   "file_extension": ".py",
   "mimetype": "text/x-python",
   "name": "python",
   "nbconvert_exporter": "python",
   "pygments_lexer": "ipython3",
   "version": "3.12.7"
  }
 },
 "nbformat": 4,
 "nbformat_minor": 5
}
