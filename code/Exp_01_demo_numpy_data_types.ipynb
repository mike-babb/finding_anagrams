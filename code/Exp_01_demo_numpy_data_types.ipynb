{
 "cells": [
  {
   "cell_type": "markdown",
   "id": "e3f3f87e",
   "metadata": {},
   "source": [
    "# Exp 06: Hard code NumPy data types\n",
    "NumPy's default integer datatype is 64-bit.\n",
    "Many of the operations have values that do not exceed the max 8-bit or 32-bit value."
   ]
  },
  {
   "cell_type": "code",
   "execution_count": 1,
   "id": "7ee95900",
   "metadata": {},
   "outputs": [],
   "source": [
    "# standard libraries\n",
    "from time import perf_counter_ns\n",
    "import time"
   ]
  },
  {
   "cell_type": "code",
   "execution_count": 2,
   "id": "5a95a599",
   "metadata": {},
   "outputs": [],
   "source": [
    "# external libraries\n",
    "import numpy as np\n",
    "import pandas as pd\n",
    "\n",
    "# custom libraries\n",
    "from _run_constants import *\n",
    "from part_00_file_db_utils import *\n",
    "from part_00_process_functions import *"
   ]
  },
  {
   "cell_type": "markdown",
   "id": "b2a44e3f",
   "metadata": {},
   "source": [
    "# Load Data"
   ]
  },
  {
   "cell_type": "code",
   "execution_count": 3,
   "id": "1fb50fde",
   "metadata": {},
   "outputs": [
    {
     "name": "stdout",
     "output_type": "stream",
     "text": [
      "...loading words into a dataframe...\n",
      "...query execution took: 1.17 seconds...\n",
      "...loading word groups into a dataframe...\n",
      "...query execution took: 1.14 seconds...\n",
      "...loading the letter dictionary...\n",
      "...loading the char matrix...\n",
      "...subsetting the char matrix...\n"
     ]
    }
   ],
   "source": [
    "word_df, wg_df, letter_dict, char_matrix, \\\n",
    "    word_group_id_list, word_id_list, wchar_matrix = load_input_data(\n",
    "        db_path=rc.DB_PATH, db_name=rc.DB_NAME,\n",
    "        in_file_path=rc.IN_FILE_PATH)"
   ]
  },
  {
   "cell_type": "code",
   "execution_count": 4,
   "id": "877a797c",
   "metadata": {},
   "outputs": [],
   "source": [
    "col_names = ['letter_selector_mod', 'n_records']\n",
    "ls_df = build_letter_selector_df(df = wg_df, ls_nchar=3,                          \n",
    "                                 letter_selector_col_name='letter_selector',\n",
    "                                 letter_selector_id_col_name='letter_selector_id')"
   ]
  },
  {
   "cell_type": "code",
   "execution_count": 5,
   "id": "85297daf",
   "metadata": {},
   "outputs": [
    {
     "name": "stdout",
     "output_type": "stream",
     "text": [
      "...loading the letter dictionary...\n"
     ]
    }
   ],
   "source": [
    "ls_df = get_ls_index(df = ls_df)\n"
   ]
  },
  {
   "cell_type": "code",
   "execution_count": 6,
   "id": "2bfdbb57",
   "metadata": {},
   "outputs": [
    {
     "data": {
      "text/plain": [
       "ls_nchar\n",
       "3    2250\n",
       "2     111\n",
       "1      26\n",
       "Name: count, dtype: int64"
      ]
     },
     "execution_count": 6,
     "metadata": {},
     "output_type": "execute_result"
    }
   ],
   "source": [
    "ls_df['ls_nchar'].value_counts()"
   ]
  },
  {
   "cell_type": "code",
   "execution_count": 7,
   "id": "49366467",
   "metadata": {},
   "outputs": [
    {
     "data": {
      "text/plain": [
       "count    2387.000000\n",
       "mean       90.423963\n",
       "std       212.422095\n",
       "min         1.000000\n",
       "25%         3.000000\n",
       "50%        14.000000\n",
       "75%        75.000000\n",
       "max      2544.000000\n",
       "Name: ls_count, dtype: float64"
      ]
     },
     "execution_count": 7,
     "metadata": {},
     "output_type": "execute_result"
    }
   ],
   "source": [
    "# this is the count of lookups for each letter selector\n",
    "ls_df['ls_count'].describe()"
   ]
  },
  {
   "cell_type": "code",
   "execution_count": 8,
   "id": "20088cbf",
   "metadata": {},
   "outputs": [
    {
     "data": {
      "text/plain": [
       "np.float64(1038.5199999999977)"
      ]
     },
     "execution_count": 8,
     "metadata": {},
     "output_type": "execute_result"
    }
   ],
   "source": [
    "# how many are at 99-percent?\n",
    "np.quantile(a = ls_df['ls_count'], q = .99)"
   ]
  },
  {
   "cell_type": "code",
   "execution_count": 9,
   "id": "60ded439",
   "metadata": {},
   "outputs": [
    {
     "name": "stdout",
     "output_type": "stream",
     "text": [
      "...query execution took: 0.0 seconds...\n"
     ]
    }
   ],
   "source": [
    "# load the total number of anagrams\n",
    "n_possible_anagrams = load_possible_anagrams(db_path=rc.DB_PATH,\n",
    "                                             db_name=rc.DB_NAME)"
   ]
  },
  {
   "cell_type": "code",
   "execution_count": 10,
   "id": "dc40731f",
   "metadata": {},
   "outputs": [],
   "source": [
    "ls_df = ls_df.reset_index(drop = True)"
   ]
  },
  {
   "cell_type": "code",
   "execution_count": 11,
   "id": "ae2ff5a4",
   "metadata": {},
   "outputs": [],
   "source": [
    "# merge to identify each word's letter_selector\n",
    "col_names = ['letter_selector', 'letter_selector_id']\n",
    "wg_df = pd.merge(left = wg_df, right = ls_df[col_names])"
   ]
  },
  {
   "cell_type": "code",
   "execution_count": 12,
   "id": "dd6a6d9d",
   "metadata": {},
   "outputs": [
    {
     "data": {
      "text/html": [
       "<div>\n",
       "<style scoped>\n",
       "    .dataframe tbody tr th:only-of-type {\n",
       "        vertical-align: middle;\n",
       "    }\n",
       "\n",
       "    .dataframe tbody tr th {\n",
       "        vertical-align: top;\n",
       "    }\n",
       "\n",
       "    .dataframe thead th {\n",
       "        text-align: right;\n",
       "    }\n",
       "</style>\n",
       "<table border=\"1\" class=\"dataframe\">\n",
       "  <thead>\n",
       "    <tr style=\"text-align: right;\">\n",
       "      <th></th>\n",
       "      <th>word</th>\n",
       "      <th>lcase</th>\n",
       "      <th>n_chars</th>\n",
       "      <th>first_letter</th>\n",
       "      <th>word_id</th>\n",
       "      <th>word_group_id</th>\n",
       "      <th>letter_group</th>\n",
       "      <th>letter_group_ranked</th>\n",
       "      <th>word_group_count</th>\n",
       "      <th>letter_selector</th>\n",
       "      <th>n_records</th>\n",
       "      <th>letter_selector_id</th>\n",
       "    </tr>\n",
       "  </thead>\n",
       "  <tbody>\n",
       "    <tr>\n",
       "      <th>0</th>\n",
       "      <td>A</td>\n",
       "      <td>a</td>\n",
       "      <td>1</td>\n",
       "      <td>a</td>\n",
       "      <td>0</td>\n",
       "      <td>0</td>\n",
       "      <td>a</td>\n",
       "      <td>a</td>\n",
       "      <td>1</td>\n",
       "      <td>a</td>\n",
       "      <td>1</td>\n",
       "      <td>0</td>\n",
       "    </tr>\n",
       "    <tr>\n",
       "      <th>1</th>\n",
       "      <td>aa</td>\n",
       "      <td>aa</td>\n",
       "      <td>2</td>\n",
       "      <td>a</td>\n",
       "      <td>1</td>\n",
       "      <td>1</td>\n",
       "      <td>a</td>\n",
       "      <td>a</td>\n",
       "      <td>1</td>\n",
       "      <td>a</td>\n",
       "      <td>1</td>\n",
       "      <td>0</td>\n",
       "    </tr>\n",
       "    <tr>\n",
       "      <th>2</th>\n",
       "      <td>aal</td>\n",
       "      <td>aal</td>\n",
       "      <td>3</td>\n",
       "      <td>a</td>\n",
       "      <td>2</td>\n",
       "      <td>2</td>\n",
       "      <td>al</td>\n",
       "      <td>la</td>\n",
       "      <td>2</td>\n",
       "      <td>la</td>\n",
       "      <td>1</td>\n",
       "      <td>1081</td>\n",
       "    </tr>\n",
       "    <tr>\n",
       "      <th>3</th>\n",
       "      <td>aalii</td>\n",
       "      <td>aalii</td>\n",
       "      <td>5</td>\n",
       "      <td>a</td>\n",
       "      <td>3</td>\n",
       "      <td>3</td>\n",
       "      <td>ail</td>\n",
       "      <td>lai</td>\n",
       "      <td>1</td>\n",
       "      <td>lai</td>\n",
       "      <td>1</td>\n",
       "      <td>1083</td>\n",
       "    </tr>\n",
       "    <tr>\n",
       "      <th>4</th>\n",
       "      <td>aam</td>\n",
       "      <td>aam</td>\n",
       "      <td>3</td>\n",
       "      <td>a</td>\n",
       "      <td>4</td>\n",
       "      <td>4</td>\n",
       "      <td>am</td>\n",
       "      <td>ma</td>\n",
       "      <td>2</td>\n",
       "      <td>ma</td>\n",
       "      <td>1</td>\n",
       "      <td>1114</td>\n",
       "    </tr>\n",
       "  </tbody>\n",
       "</table>\n",
       "</div>"
      ],
      "text/plain": [
       "    word  lcase  n_chars first_letter  word_id  word_group_id letter_group  \\\n",
       "0      A      a        1            a        0              0            a   \n",
       "1     aa     aa        2            a        1              1            a   \n",
       "2    aal    aal        3            a        2              2           al   \n",
       "3  aalii  aalii        5            a        3              3          ail   \n",
       "4    aam    aam        3            a        4              4           am   \n",
       "\n",
       "  letter_group_ranked  word_group_count letter_selector  n_records  \\\n",
       "0                   a                 1               a          1   \n",
       "1                   a                 1               a          1   \n",
       "2                  la                 2              la          1   \n",
       "3                 lai                 1             lai          1   \n",
       "4                  ma                 2              ma          1   \n",
       "\n",
       "   letter_selector_id  \n",
       "0                   0  \n",
       "1                   0  \n",
       "2                1081  \n",
       "3                1083  \n",
       "4                1114  "
      ]
     },
     "execution_count": 12,
     "metadata": {},
     "output_type": "execute_result"
    }
   ],
   "source": [
    "wg_df.head()"
   ]
  },
  {
   "cell_type": "code",
   "execution_count": 13,
   "id": "f98f761b",
   "metadata": {},
   "outputs": [],
   "source": [
    "ls_id_wg_id, ls_index_array = build_ls_index_arrays(wg_df=wg_df, ls_df = ls_df)"
   ]
  },
  {
   "cell_type": "code",
   "execution_count": 14,
   "id": "738738f7",
   "metadata": {},
   "outputs": [
    {
     "data": {
      "text/plain": [
       "(2387,)"
      ]
     },
     "execution_count": 14,
     "metadata": {},
     "output_type": "execute_result"
    }
   ],
   "source": [
    "wg_df['letter_selector'].unique().shape"
   ]
  },
  {
   "cell_type": "code",
   "execution_count": 15,
   "id": "e2748f0c",
   "metadata": {},
   "outputs": [
    {
     "name": "stdout",
     "output_type": "stream",
     "text": [
      "Machine parameters for int8\n",
      "---------------------------------------------------------------\n",
      "min = -128\n",
      "max = 127\n",
      "---------------------------------------------------------------\n",
      "\n",
      "Machine parameters for int16\n",
      "---------------------------------------------------------------\n",
      "min = -32768\n",
      "max = 32767\n",
      "---------------------------------------------------------------\n",
      "\n",
      "Machine parameters for int32\n",
      "---------------------------------------------------------------\n",
      "min = -2147483648\n",
      "max = 2147483647\n",
      "---------------------------------------------------------------\n",
      "\n",
      "Machine parameters for int64\n",
      "---------------------------------------------------------------\n",
      "min = -9223372036854775808\n",
      "max = 9223372036854775807\n",
      "---------------------------------------------------------------\n",
      "\n"
     ]
    }
   ],
   "source": [
    "# what are the max values of the NumPy integer DataTypes\n",
    "print(np.iinfo(np.int8))\n",
    "print(np.iinfo(np.int16))\n",
    "print(np.iinfo(np.int32))\n",
    "print(np.iinfo(np.int64))"
   ]
  },
  {
   "cell_type": "code",
   "execution_count": 16,
   "id": "4d0a5518",
   "metadata": {},
   "outputs": [
    {
     "name": "stdout",
     "output_type": "stream",
     "text": [
      "int32\n",
      "8\n"
     ]
    }
   ],
   "source": [
    "# check the max value of the wchar_matrix\n",
    "print(wchar_matrix.dtype)\n",
    "print(wchar_matrix.max())"
   ]
  },
  {
   "cell_type": "code",
   "execution_count": 17,
   "id": "cc0a33c8",
   "metadata": {},
   "outputs": [
    {
     "name": "stdout",
     "output_type": "stream",
     "text": [
      "int64\n",
      "215841\n"
     ]
    }
   ],
   "source": [
    "# max value of the word_group_id_list\n",
    "print(word_group_id_list.dtype)\n",
    "print(word_group_id_list.max())"
   ]
  },
  {
   "cell_type": "code",
   "execution_count": 18,
   "id": "6e224cee",
   "metadata": {},
   "outputs": [],
   "source": [
    "# the only two numpy arrays in use in the code below - not created when\n",
    "# the code runs - are the wchar_matrix and the word_group_id_list\n",
    "# convert the wchar_matrix to int8 \n",
    "# convert the word_group_id_list to int32"
   ]
  },
  {
   "cell_type": "code",
   "execution_count": 19,
   "id": "5d855e48",
   "metadata": {},
   "outputs": [],
   "source": [
    "wchar_matrix = wchar_matrix.astype(np.int8)\n",
    "word_group_id_list = word_group_id_list.astype(np.int32)\n",
    "ls_id_wg_id = ls_id_wg_id.astype(np.int32)\n"
   ]
  },
  {
   "cell_type": "code",
   "execution_count": 20,
   "id": "cbb779ca",
   "metadata": {},
   "outputs": [
    {
     "data": {
      "text/html": [
       "<div>\n",
       "<style scoped>\n",
       "    .dataframe tbody tr th:only-of-type {\n",
       "        vertical-align: middle;\n",
       "    }\n",
       "\n",
       "    .dataframe tbody tr th {\n",
       "        vertical-align: top;\n",
       "    }\n",
       "\n",
       "    .dataframe thead th {\n",
       "        text-align: right;\n",
       "    }\n",
       "</style>\n",
       "<table border=\"1\" class=\"dataframe\">\n",
       "  <thead>\n",
       "    <tr style=\"text-align: right;\">\n",
       "      <th></th>\n",
       "      <th>letter_selector</th>\n",
       "      <th>ls_count</th>\n",
       "      <th>ls_nchar_iter</th>\n",
       "      <th>ls_nchar</th>\n",
       "      <th>letter_selector_id</th>\n",
       "      <th>ls_index</th>\n",
       "    </tr>\n",
       "  </thead>\n",
       "  <tbody>\n",
       "    <tr>\n",
       "      <th>0</th>\n",
       "      <td>a</td>\n",
       "      <td>2</td>\n",
       "      <td>3</td>\n",
       "      <td>1</td>\n",
       "      <td>0</td>\n",
       "      <td>[True, False, False, False, False, False, Fals...</td>\n",
       "    </tr>\n",
       "    <tr>\n",
       "      <th>1</th>\n",
       "      <td>ae</td>\n",
       "      <td>1</td>\n",
       "      <td>3</td>\n",
       "      <td>2</td>\n",
       "      <td>1</td>\n",
       "      <td>[True, False, False, False, True, False, False...</td>\n",
       "    </tr>\n",
       "    <tr>\n",
       "      <th>2</th>\n",
       "      <td>ai</td>\n",
       "      <td>1</td>\n",
       "      <td>3</td>\n",
       "      <td>2</td>\n",
       "      <td>2</td>\n",
       "      <td>[True, False, False, False, False, False, Fals...</td>\n",
       "    </tr>\n",
       "    <tr>\n",
       "      <th>3</th>\n",
       "      <td>b</td>\n",
       "      <td>1</td>\n",
       "      <td>3</td>\n",
       "      <td>1</td>\n",
       "      <td>3</td>\n",
       "      <td>[False, True, False, False, False, False, Fals...</td>\n",
       "    </tr>\n",
       "    <tr>\n",
       "      <th>4</th>\n",
       "      <td>ba</td>\n",
       "      <td>4</td>\n",
       "      <td>3</td>\n",
       "      <td>2</td>\n",
       "      <td>4</td>\n",
       "      <td>[True, True, False, False, False, False, False...</td>\n",
       "    </tr>\n",
       "  </tbody>\n",
       "</table>\n",
       "</div>"
      ],
      "text/plain": [
       "  letter_selector  ls_count  ls_nchar_iter  ls_nchar  letter_selector_id  \\\n",
       "0               a         2              3         1                   0   \n",
       "1              ae         1              3         2                   1   \n",
       "2              ai         1              3         2                   2   \n",
       "3               b         1              3         1                   3   \n",
       "4              ba         4              3         2                   4   \n",
       "\n",
       "                                            ls_index  \n",
       "0  [True, False, False, False, False, False, Fals...  \n",
       "1  [True, False, False, False, True, False, False...  \n",
       "2  [True, False, False, False, False, False, Fals...  \n",
       "3  [False, True, False, False, False, False, Fals...  \n",
       "4  [True, True, False, False, False, False, False...  "
      ]
     },
     "execution_count": 20,
     "metadata": {},
     "output_type": "execute_result"
    }
   ],
   "source": [
    "ls_df.head()"
   ]
  },
  {
   "cell_type": "code",
   "execution_count": 21,
   "id": "be7203d9",
   "metadata": {},
   "outputs": [
    {
     "name": "stdout",
     "output_type": "stream",
     "text": [
      "0\n",
      "100\n",
      "200\n",
      "300\n",
      "400\n",
      "500\n",
      "600\n",
      "700\n",
      "800\n",
      "900\n",
      "1000\n",
      "1100\n",
      "1200\n",
      "1300\n",
      "1400\n",
      "1500\n",
      "1600\n",
      "1700\n",
      "1800\n",
      "1900\n",
      "2000\n",
      "2100\n",
      "2200\n",
      "2300\n",
      "...time to find parent/child word relationships\n",
      "Hours: 0 | minutes: 1 | seconds: 27.9575\n",
      "...truncating output list...\n",
      "(73218235, 2)\n",
      "Hours: 0 | minutes: 1 | seconds: 31.6505\n"
     ]
    }
   ],
   "source": [
    "# run it!\n",
    "run_start_time=perf_counter_ns()\n",
    "# create the output list\n",
    "output_list = np.full(shape = (n_possible_anagrams , 2), fill_value=-1, dtype=np.int32)\n",
    "output_time_list = []\n",
    "\n",
    "# start counting\n",
    "anagram_pair_count = 0\n",
    "\n",
    "for ls_row_id, ls_row in enumerate(ls_index_array):    \n",
    "        \n",
    "    if ls_row_id % 100 == 0:\n",
    "        print(ls_row_id)\n",
    "    start_time = perf_counter_ns()\n",
    "        \n",
    "    ##\n",
    "    # SUBSET THE wchar_matrix by column selector\n",
    "    ##    \n",
    "    outcome_indices = np.all(wchar_matrix[:, ls_row] >= 1, axis=1)    \n",
    "    \n",
    "    # sub-matrix that we will use to find parent words\n",
    "    ls_wchar_matrix = wchar_matrix[outcome_indices, :]\n",
    "            \n",
    "    # this is the list of word group ids that correspond to the word group ids\n",
    "    # in the ls_wchar_matrix\n",
    "    temp_wg_id_list = word_group_id_list[outcome_indices]\n",
    "        \n",
    "    # this is the number of word groups that meet certain criteria. \n",
    "    # for example, words that feature the letters: 'buc'    \n",
    "    n_search_space = temp_wg_id_list.shape[0]        \n",
    "    \n",
    "    # the current list of words featuring the set of least common letters.\n",
    "    # these are the words have the least common letters of 'buc'        \n",
    "    curr_wg_id_list = ls_id_wg_id[ls_id_wg_id[:, 0] == ls_row_id, 1]\n",
    "    # with a three-letter letter selector, ranges in size from 1 to 2544\n",
    "         \n",
    "    for i_curr_wg_id, curr_wg_id in enumerate(curr_wg_id_list):    \n",
    "            \n",
    "        # get the re-alignment of the word group id\n",
    "        temp_wg_id = np.where(temp_wg_id_list == curr_wg_id)[0][0]\n",
    "        \n",
    "        outcome_word_id_list = temp_wg_id_list[np.all(a = (ls_wchar_matrix - ls_wchar_matrix[temp_wg_id, :]) >= 0, axis = 1)]        \n",
    "                        \n",
    "        n_from_words = outcome_word_id_list.shape[0]\n",
    "        \n",
    "        if n_from_words > 0:\n",
    "            outcome_word_id_list = format_output_list(outcome_word_id_list=outcome_word_id_list, wg_id=curr_wg_id)\n",
    "                                    \n",
    "            # enumerate the from/parent words\n",
    "            new_anagram_pair_count = anagram_pair_count + n_from_words\n",
    "            \n",
    "            output_list[anagram_pair_count:new_anagram_pair_count, :] = outcome_word_id_list\n",
    "            \n",
    "            # update the anagram pair count\n",
    "            anagram_pair_count = new_anagram_pair_count\n",
    "\n",
    "    curr_time = calc_time(time_start=start_time, round_digits=8)\n",
    "    output_time_list.append([ls_row_id, n_search_space, curr_time])\n",
    "\n",
    "print('...time to find parent/child word relationships')\n",
    "time_proc = calc_time(time_start=run_start_time, round_digits=4)\n",
    "compute_elapsed_time(seconds=time_proc)\n",
    "print('...truncating output list...')\n",
    "output_indices = np.all(output_list >= 0, axis=1)\n",
    "output_list = output_list[output_indices,]\n",
    "print(output_list.shape)\n",
    "time_proc = calc_time(time_start=run_start_time, round_digits=4)\n",
    "compute_elapsed_time(seconds=time_proc)"
   ]
  },
  {
   "cell_type": "code",
   "execution_count": 22,
   "id": "947a27aa",
   "metadata": {},
   "outputs": [],
   "source": [
    "# c2\n",
    "# current technique: 2 minutes, 37 seconds\n",
    "# setting the numpy data types: 1 minute, 41 seconds.\n",
    "# being even more strict with the data types: 1 minutes, 26 seconds"
   ]
  },
  {
   "cell_type": "code",
   "execution_count": 23,
   "id": "56ef125c",
   "metadata": {},
   "outputs": [],
   "source": [
    "# count using numpy, and then create a Counter object\n",
    "from_word_counter, to_word_counter = build_counters(output_list=output_list)\n",
    "# this used to take 45 seconds, it now takes 6"
   ]
  },
  {
   "cell_type": "code",
   "execution_count": 24,
   "id": "eed9f7df",
   "metadata": {},
   "outputs": [
    {
     "name": "stdout",
     "output_type": "stream",
     "text": [
      "26\n",
      "329\n"
     ]
    }
   ],
   "source": [
    "# the number of from word groups: should be 26\n",
    "print(from_word_counter[746]) # should be 26\n",
    "print(to_word_counter[746]) # should be 329"
   ]
  },
  {
   "cell_type": "code",
   "execution_count": null,
   "id": "46e8a8b5",
   "metadata": {},
   "outputs": [],
   "source": []
  }
 ],
 "metadata": {
  "kernelspec": {
   "display_name": "analysis",
   "language": "python",
   "name": "python3"
  },
  "language_info": {
   "codemirror_mode": {
    "name": "ipython",
    "version": 3
   },
   "file_extension": ".py",
   "mimetype": "text/x-python",
   "name": "python",
   "nbconvert_exporter": "python",
   "pygments_lexer": "ipython3",
   "version": "3.12.7"
  }
 },
 "nbformat": 4,
 "nbformat_minor": 5
}
