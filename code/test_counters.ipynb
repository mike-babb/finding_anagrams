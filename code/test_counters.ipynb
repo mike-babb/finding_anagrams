{
 "cells": [
  {
   "cell_type": "code",
   "execution_count": 2,
   "id": "a93b7be8-3832-4809-bc9a-3fdb3044861e",
   "metadata": {},
   "outputs": [],
   "source": [
    "import collections"
   ]
  },
  {
   "cell_type": "code",
   "execution_count": 3,
   "id": "27fde0ff-7c0b-43d6-bdea-0ebb58e89478",
   "metadata": {},
   "outputs": [],
   "source": [
    "myc = collections.Counter()"
   ]
  },
  {
   "cell_type": "code",
   "execution_count": 4,
   "id": "7ddc60c7-65e2-48d5-a283-d99cad0a7402",
   "metadata": {},
   "outputs": [
    {
     "data": {
      "text/plain": [
       "Counter()"
      ]
     },
     "execution_count": 4,
     "metadata": {},
     "output_type": "execute_result"
    }
   ],
   "source": [
    "myc"
   ]
  },
  {
   "cell_type": "code",
   "execution_count": 18,
   "id": "cebedbdc-418e-468c-88a3-e398dfc38c84",
   "metadata": {},
   "outputs": [],
   "source": [
    "myc[5] = 543"
   ]
  },
  {
   "cell_type": "code",
   "execution_count": 19,
   "id": "635b7e67-c32b-4b20-9856-f41527377e69",
   "metadata": {},
   "outputs": [
    {
     "data": {
      "text/plain": [
       "Counter({5: 543})"
      ]
     },
     "execution_count": 19,
     "metadata": {},
     "output_type": "execute_result"
    }
   ],
   "source": [
    "myc"
   ]
  },
  {
   "cell_type": "code",
   "execution_count": 20,
   "id": "9135aca5-9e6c-4d6f-a43d-3903186ae182",
   "metadata": {},
   "outputs": [],
   "source": [
    "myc[5] += 76788"
   ]
  },
  {
   "cell_type": "code",
   "execution_count": 21,
   "id": "41de9a40-862b-4423-8459-48d2a3e56925",
   "metadata": {},
   "outputs": [
    {
     "data": {
      "text/plain": [
       "Counter({5: 77331})"
      ]
     },
     "execution_count": 21,
     "metadata": {},
     "output_type": "execute_result"
    }
   ],
   "source": [
    "myc"
   ]
  },
  {
   "cell_type": "code",
   "execution_count": 2,
   "id": "d926cca2-b245-4f79-9e4b-3b2595322178",
   "metadata": {},
   "outputs": [],
   "source": [
    "import numpy as np"
   ]
  },
  {
   "cell_type": "code",
   "execution_count": 3,
   "id": "3bfa66a2-fc40-4956-9435-d6557d6ba23f",
   "metadata": {},
   "outputs": [],
   "source": [
    "my_array = np.array([5, 1, 6, 1])"
   ]
  },
  {
   "cell_type": "code",
   "execution_count": 4,
   "id": "3a956be5-89bc-4bf4-87d7-6ae7a30f8227",
   "metadata": {},
   "outputs": [
    {
     "data": {
      "text/plain": [
       "(4,)"
      ]
     },
     "execution_count": 4,
     "metadata": {},
     "output_type": "execute_result"
    }
   ],
   "source": [
    "my_array.shape"
   ]
  },
  {
   "cell_type": "code",
   "execution_count": 6,
   "id": "c13d0810-85b6-4f39-8af3-4cce8b8ca5ad",
   "metadata": {},
   "outputs": [
    {
     "data": {
      "text/plain": [
       "array([0, 2, 0, 0, 0, 1, 1], dtype=int64)"
      ]
     },
     "execution_count": 6,
     "metadata": {},
     "output_type": "execute_result"
    }
   ],
   "source": [
    "np.bincount(my_array, minlength=np.size(my_array.max()))"
   ]
  },
  {
   "cell_type": "code",
   "execution_count": null,
   "id": "e87f09dc-b677-4db5-a33d-fdbe4c458e8e",
   "metadata": {},
   "outputs": [],
   "source": [
    "\n",
    "Ask"
   ]
  }
 ],
 "metadata": {
  "kernelspec": {
   "display_name": "Python 3 (ipykernel)",
   "language": "python",
   "name": "python3"
  },
  "language_info": {
   "codemirror_mode": {
    "name": "ipython",
    "version": 3
   },
   "file_extension": ".py",
   "mimetype": "text/x-python",
   "name": "python",
   "nbconvert_exporter": "python",
   "pygments_lexer": "ipython3",
   "version": "3.11.9"
  }
 },
 "nbformat": 4,
 "nbformat_minor": 5
}
