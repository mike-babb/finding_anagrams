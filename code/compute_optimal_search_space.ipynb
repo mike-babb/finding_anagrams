{
 "cells": [
  {
   "cell_type": "code",
   "execution_count": 1,
   "id": "7ee95900",
   "metadata": {},
   "outputs": [],
   "source": [
    "# standard libraries\n",
    "from time import perf_counter_ns\n",
    "import time"
   ]
  },
  {
   "cell_type": "code",
   "execution_count": 2,
   "id": "5a95a599",
   "metadata": {},
   "outputs": [],
   "source": [
    "# external libraries\n",
    "from matplotlib.patches import Rectangle\n",
    "import matplotlib as mpl\n",
    "import matplotlib.pyplot as plt\n",
    "import matplotlib.colors as mcolors\n",
    "import numpy as np\n",
    "import pandas as pd\n",
    "import seaborn as sns\n",
    "\n",
    "# custom libraries\n",
    "from _run_constants import *\n",
    "from part_00_file_db_utils import *\n",
    "from part_00_process_functions import *"
   ]
  },
  {
   "cell_type": "code",
   "execution_count": 3,
   "id": "1fb50fde",
   "metadata": {},
   "outputs": [
    {
     "name": "stdout",
     "output_type": "stream",
     "text": [
      "...loading words into a dataframe...\n",
      "...query execution took: 1.26 seconds...\n",
      "...loading word groups into a dataframe...\n",
      "...query execution took: 1.28 seconds...\n",
      "...loading the letter dictionary...\n",
      "...loading the char matrix...\n",
      "...subsetting the char matrix...\n"
     ]
    }
   ],
   "source": [
    "word_df, wg_df, letter_dict, char_matrix, \\\n",
    "    word_group_id_list, word_id_list, wchar_matrix = load_input_data(\n",
    "        db_path=rc.DB_PATH, db_name=rc.DB_NAME,\n",
    "        in_file_path=rc.IN_FILE_PATH)"
   ]
  },
  {
   "cell_type": "code",
   "execution_count": 4,
   "id": "40da8795",
   "metadata": {},
   "outputs": [],
   "source": [
    "# add a column to count records - because pandas is weird\n",
    "wg_df['n_records'] = int(1)"
   ]
  },
  {
   "cell_type": "code",
   "execution_count": 5,
   "id": "1373b838",
   "metadata": {},
   "outputs": [],
   "source": [
    "def build_letter_selector(df:pd.DataFrame,\n",
    "                          ls_nchar:int, col_names:str,\n",
    "                          letter_selector_col_name:str,                          \n",
    "                          letter_selector_id_col_name:str):\n",
    "    df[letter_selector_col_name] = df['letter_group_ranked'].str[:ls_nchar + 1]    \n",
    "    ls_df = df[col_names].groupby(col_names[:-1]).agg(ls_count = ('n_records', 'sum')).reset_index()    \n",
    "    ls_df['ls_nchar_iter'] = ls_nchar\n",
    "    ls_df['ls_nchar'] = ls_df[letter_selector_col_name].str.len()\n",
    "    ls_df[letter_selector_id_col_name] = range(0, ls_df.shape[0])\n",
    "\n",
    "    return ls_df"
   ]
  },
  {
   "cell_type": "code",
   "execution_count": 6,
   "id": "7ab08933",
   "metadata": {},
   "outputs": [],
   "source": [
    "# create the total list of different letter selector combinations based on\n",
    "# number of characters\n",
    "col_names = ['letter_selector_temp', 'n_records']\n",
    "ls_df_list = []\n",
    "for ls_nchar in range(1, 17):\n",
    "    ls_df = build_letter_selector(df = wg_df, ls_nchar=ls_nchar,\n",
    "                                  col_names = col_names, \n",
    "                                  letter_selector_col_name='letter_selector_temp',\n",
    "                                  letter_selector_id_col_name='letter_selector_temp_id')\n",
    "    \n",
    "    ls_df_list.append(ls_df)\n",
    "    \n",
    "tot_ls_df = pd.concat(objs=ls_df_list,axis = 0)"
   ]
  },
  {
   "cell_type": "code",
   "execution_count": 7,
   "id": "a33815dd",
   "metadata": {},
   "outputs": [],
   "source": [
    "# now, load the previously calculated search space counts"
   ]
  },
  {
   "cell_type": "code",
   "execution_count": 8,
   "metadata": {},
   "outputs": [],
   "source": [
    "ss_df = pd.read_csv(filepath_or_buffer='search_space_count.csv')\n",
    "# convert the list as string to a list\n",
    "ss_df['ls_index']= ss_df['ls_index'].map(eval)"
   ]
  },
  {
   "cell_type": "code",
   "execution_count": 9,
   "id": "edac7883",
   "metadata": {},
   "outputs": [
    {
     "data": {
      "text/html": [
       "<div>\n",
       "<style scoped>\n",
       "    .dataframe tbody tr th:only-of-type {\n",
       "        vertical-align: middle;\n",
       "    }\n",
       "\n",
       "    .dataframe tbody tr th {\n",
       "        vertical-align: top;\n",
       "    }\n",
       "\n",
       "    .dataframe thead th {\n",
       "        text-align: right;\n",
       "    }\n",
       "</style>\n",
       "<table border=\"1\" class=\"dataframe\">\n",
       "  <thead>\n",
       "    <tr style=\"text-align: right;\">\n",
       "      <th></th>\n",
       "      <th>letter_selector_temp</th>\n",
       "      <th>ls_count</th>\n",
       "      <th>ls_index</th>\n",
       "      <th>n_search_space</th>\n",
       "    </tr>\n",
       "  </thead>\n",
       "  <tbody>\n",
       "    <tr>\n",
       "      <th>0</th>\n",
       "      <td>a</td>\n",
       "      <td>2</td>\n",
       "      <td>[0]</td>\n",
       "      <td>133001</td>\n",
       "    </tr>\n",
       "    <tr>\n",
       "      <th>1</th>\n",
       "      <td>ae</td>\n",
       "      <td>1</td>\n",
       "      <td>[0, 4]</td>\n",
       "      <td>84952</td>\n",
       "    </tr>\n",
       "    <tr>\n",
       "      <th>2</th>\n",
       "      <td>ai</td>\n",
       "      <td>1</td>\n",
       "      <td>[0, 8]</td>\n",
       "      <td>82414</td>\n",
       "    </tr>\n",
       "    <tr>\n",
       "      <th>3</th>\n",
       "      <td>b</td>\n",
       "      <td>1</td>\n",
       "      <td>[1]</td>\n",
       "      <td>35319</td>\n",
       "    </tr>\n",
       "    <tr>\n",
       "      <th>4</th>\n",
       "      <td>ba</td>\n",
       "      <td>12</td>\n",
       "      <td>[1, 0]</td>\n",
       "      <td>23469</td>\n",
       "    </tr>\n",
       "  </tbody>\n",
       "</table>\n",
       "</div>"
      ],
      "text/plain": [
       "  letter_selector_temp  ls_count ls_index  n_search_space\n",
       "0                    a         2      [0]          133001\n",
       "1                   ae         1   [0, 4]           84952\n",
       "2                   ai         1   [0, 8]           82414\n",
       "3                    b         1      [1]           35319\n",
       "4                   ba        12   [1, 0]           23469"
      ]
     },
     "execution_count": 9,
     "metadata": {},
     "output_type": "execute_result"
    }
   ],
   "source": [
    "ss_df.head()"
   ]
  },
  {
   "cell_type": "code",
   "execution_count": 10,
   "id": "537bf38a",
   "metadata": {},
   "outputs": [],
   "source": [
    "tot_ls_df = pd.merge(left = tot_ls_df, right = ss_df)"
   ]
  },
  {
   "cell_type": "code",
   "execution_count": 11,
   "id": "7ef0e50b",
   "metadata": {},
   "outputs": [
    {
     "data": {
      "text/plain": [
       "(1196843, 7)"
      ]
     },
     "execution_count": 11,
     "metadata": {},
     "output_type": "execute_result"
    }
   ],
   "source": [
    "tot_ls_df.shape"
   ]
  },
  {
   "cell_type": "code",
   "execution_count": 12,
   "id": "9a925837",
   "metadata": {},
   "outputs": [
    {
     "data": {
      "text/html": [
       "<div>\n",
       "<style scoped>\n",
       "    .dataframe tbody tr th:only-of-type {\n",
       "        vertical-align: middle;\n",
       "    }\n",
       "\n",
       "    .dataframe tbody tr th {\n",
       "        vertical-align: top;\n",
       "    }\n",
       "\n",
       "    .dataframe thead th {\n",
       "        text-align: right;\n",
       "    }\n",
       "</style>\n",
       "<table border=\"1\" class=\"dataframe\">\n",
       "  <thead>\n",
       "    <tr style=\"text-align: right;\">\n",
       "      <th></th>\n",
       "      <th>letter_selector_temp</th>\n",
       "      <th>ls_count</th>\n",
       "      <th>ls_nchar_iter</th>\n",
       "      <th>ls_nchar</th>\n",
       "      <th>letter_selector_temp_id</th>\n",
       "      <th>ls_index</th>\n",
       "      <th>n_search_space</th>\n",
       "    </tr>\n",
       "  </thead>\n",
       "  <tbody>\n",
       "    <tr>\n",
       "      <th>0</th>\n",
       "      <td>a</td>\n",
       "      <td>2</td>\n",
       "      <td>1</td>\n",
       "      <td>1</td>\n",
       "      <td>0</td>\n",
       "      <td>[0]</td>\n",
       "      <td>133001</td>\n",
       "    </tr>\n",
       "    <tr>\n",
       "      <th>1</th>\n",
       "      <td>ae</td>\n",
       "      <td>1</td>\n",
       "      <td>1</td>\n",
       "      <td>2</td>\n",
       "      <td>1</td>\n",
       "      <td>[0, 4]</td>\n",
       "      <td>84952</td>\n",
       "    </tr>\n",
       "    <tr>\n",
       "      <th>2</th>\n",
       "      <td>ai</td>\n",
       "      <td>1</td>\n",
       "      <td>1</td>\n",
       "      <td>2</td>\n",
       "      <td>2</td>\n",
       "      <td>[0, 8]</td>\n",
       "      <td>82414</td>\n",
       "    </tr>\n",
       "    <tr>\n",
       "      <th>3</th>\n",
       "      <td>b</td>\n",
       "      <td>1</td>\n",
       "      <td>1</td>\n",
       "      <td>1</td>\n",
       "      <td>3</td>\n",
       "      <td>[1]</td>\n",
       "      <td>35319</td>\n",
       "    </tr>\n",
       "    <tr>\n",
       "      <th>4</th>\n",
       "      <td>ba</td>\n",
       "      <td>12</td>\n",
       "      <td>1</td>\n",
       "      <td>2</td>\n",
       "      <td>4</td>\n",
       "      <td>[1, 0]</td>\n",
       "      <td>23469</td>\n",
       "    </tr>\n",
       "  </tbody>\n",
       "</table>\n",
       "</div>"
      ],
      "text/plain": [
       "  letter_selector_temp  ls_count  ls_nchar_iter  ls_nchar  \\\n",
       "0                    a         2              1         1   \n",
       "1                   ae         1              1         2   \n",
       "2                   ai         1              1         2   \n",
       "3                    b         1              1         1   \n",
       "4                   ba        12              1         2   \n",
       "\n",
       "   letter_selector_temp_id ls_index  n_search_space  \n",
       "0                        0      [0]          133001  \n",
       "1                        1   [0, 4]           84952  \n",
       "2                        2   [0, 8]           82414  \n",
       "3                        3      [1]           35319  \n",
       "4                        4   [1, 0]           23469  "
      ]
     },
     "execution_count": 12,
     "metadata": {},
     "output_type": "execute_result"
    }
   ],
   "source": [
    "tot_ls_df.head()"
   ]
  },
  {
   "cell_type": "code",
   "execution_count": 13,
   "id": "1e7e75fa",
   "metadata": {},
   "outputs": [],
   "source": [
    "tot_ls_df['tot_comps'] = tot_ls_df['ls_count'] * tot_ls_df['n_search_space']\n",
    "tot_ls_df['ls_nchar'] = tot_ls_df['letter_selector_temp'].str.len()"
   ]
  },
  {
   "cell_type": "code",
   "execution_count": 14,
   "id": "324c83f4",
   "metadata": {},
   "outputs": [
    {
     "data": {
      "text/plain": [
       "np.int64(2387)"
      ]
     },
     "execution_count": 14,
     "metadata": {},
     "output_type": "execute_result"
    }
   ],
   "source": [
    "# check to make sure the counts are correct\n",
    "tot_ls_df.loc[tot_ls_df['ls_nchar_iter'] == 2, 'ls_nchar'].value_counts().sum()"
   ]
  },
  {
   "cell_type": "code",
   "execution_count": 15,
   "id": "92e3c2e9",
   "metadata": {},
   "outputs": [],
   "source": [
    "# let's select where ls_nchar_iter == 3\n",
    "new_ls_df = tot_ls_df.loc[(tot_ls_df['ls_nchar_iter']==2) &\n",
    "                      (tot_ls_df['ls_nchar'] == 3), :].copy()"
   ]
  },
  {
   "cell_type": "code",
   "execution_count": 16,
   "id": "588fbbd6",
   "metadata": {},
   "outputs": [],
   "source": [
    "# the graph suggests that search spaces greater than 30K are the issue"
   ]
  },
  {
   "cell_type": "code",
   "execution_count": 17,
   "id": "9e3f25db",
   "metadata": {},
   "outputs": [],
   "source": [
    "new_ls_df['n_search_space_cut'] = (new_ls_df['n_search_space'] >= 40000).astype(int)"
   ]
  },
  {
   "cell_type": "code",
   "execution_count": 18,
   "id": "46588452",
   "metadata": {},
   "outputs": [
    {
     "data": {
      "text/plain": [
       "np.int64(29)"
      ]
     },
     "execution_count": 18,
     "metadata": {},
     "output_type": "execute_result"
    }
   ],
   "source": [
    "new_ls_df['n_search_space_cut'].sum()\n",
    "# so, do we need to split up half of the records?\n",
    "# this will add how many records?"
   ]
  },
  {
   "cell_type": "code",
   "execution_count": 19,
   "id": "bfb4295a",
   "metadata": {},
   "outputs": [
    {
     "data": {
      "text/html": [
       "<div>\n",
       "<style scoped>\n",
       "    .dataframe tbody tr th:only-of-type {\n",
       "        vertical-align: middle;\n",
       "    }\n",
       "\n",
       "    .dataframe tbody tr th {\n",
       "        vertical-align: top;\n",
       "    }\n",
       "\n",
       "    .dataframe thead th {\n",
       "        text-align: right;\n",
       "    }\n",
       "</style>\n",
       "<table border=\"1\" class=\"dataframe\">\n",
       "  <thead>\n",
       "    <tr style=\"text-align: right;\">\n",
       "      <th></th>\n",
       "      <th>letter_selector_temp</th>\n",
       "      <th>ls_count</th>\n",
       "      <th>ls_nchar_iter</th>\n",
       "      <th>ls_nchar</th>\n",
       "      <th>letter_selector_temp_id</th>\n",
       "      <th>ls_index</th>\n",
       "      <th>n_search_space</th>\n",
       "      <th>tot_comps</th>\n",
       "      <th>n_search_space_cut</th>\n",
       "    </tr>\n",
       "  </thead>\n",
       "  <tbody>\n",
       "    <tr>\n",
       "      <th>346</th>\n",
       "      <td>bae</td>\n",
       "      <td>2</td>\n",
       "      <td>2</td>\n",
       "      <td>3</td>\n",
       "      <td>5</td>\n",
       "      <td>[1, 0, 4]</td>\n",
       "      <td>15662</td>\n",
       "      <td>31324</td>\n",
       "      <td>0</td>\n",
       "    </tr>\n",
       "    <tr>\n",
       "      <th>347</th>\n",
       "      <td>bai</td>\n",
       "      <td>6</td>\n",
       "      <td>2</td>\n",
       "      <td>3</td>\n",
       "      <td>6</td>\n",
       "      <td>[1, 0, 8]</td>\n",
       "      <td>13453</td>\n",
       "      <td>80718</td>\n",
       "      <td>0</td>\n",
       "    </tr>\n",
       "    <tr>\n",
       "      <th>348</th>\n",
       "      <td>bca</td>\n",
       "      <td>7</td>\n",
       "      <td>2</td>\n",
       "      <td>3</td>\n",
       "      <td>7</td>\n",
       "      <td>[1, 2, 0]</td>\n",
       "      <td>7893</td>\n",
       "      <td>55251</td>\n",
       "      <td>0</td>\n",
       "    </tr>\n",
       "    <tr>\n",
       "      <th>349</th>\n",
       "      <td>bci</td>\n",
       "      <td>2</td>\n",
       "      <td>2</td>\n",
       "      <td>3</td>\n",
       "      <td>8</td>\n",
       "      <td>[1, 2, 8]</td>\n",
       "      <td>6966</td>\n",
       "      <td>13932</td>\n",
       "      <td>0</td>\n",
       "    </tr>\n",
       "    <tr>\n",
       "      <th>350</th>\n",
       "      <td>bcl</td>\n",
       "      <td>553</td>\n",
       "      <td>2</td>\n",
       "      <td>3</td>\n",
       "      <td>9</td>\n",
       "      <td>[1, 2, 11]</td>\n",
       "      <td>6039</td>\n",
       "      <td>3339567</td>\n",
       "      <td>0</td>\n",
       "    </tr>\n",
       "  </tbody>\n",
       "</table>\n",
       "</div>"
      ],
      "text/plain": [
       "    letter_selector_temp  ls_count  ls_nchar_iter  ls_nchar  \\\n",
       "346                  bae         2              2         3   \n",
       "347                  bai         6              2         3   \n",
       "348                  bca         7              2         3   \n",
       "349                  bci         2              2         3   \n",
       "350                  bcl       553              2         3   \n",
       "\n",
       "     letter_selector_temp_id    ls_index  n_search_space  tot_comps  \\\n",
       "346                        5   [1, 0, 4]           15662      31324   \n",
       "347                        6   [1, 0, 8]           13453      80718   \n",
       "348                        7   [1, 2, 0]            7893      55251   \n",
       "349                        8   [1, 2, 8]            6966      13932   \n",
       "350                        9  [1, 2, 11]            6039    3339567   \n",
       "\n",
       "     n_search_space_cut  \n",
       "346                   0  \n",
       "347                   0  \n",
       "348                   0  \n",
       "349                   0  \n",
       "350                   0  "
      ]
     },
     "execution_count": 19,
     "metadata": {},
     "output_type": "execute_result"
    }
   ],
   "source": [
    "new_ls_df.head()"
   ]
  },
  {
   "cell_type": "code",
   "execution_count": 20,
   "id": "e42bad5d",
   "metadata": {},
   "outputs": [],
   "source": [
    "add_split = new_ls_df.loc[new_ls_df['n_search_space_cut'] == 1, 'letter_selector_temp'].tolist()"
   ]
  },
  {
   "cell_type": "code",
   "execution_count": 21,
   "id": "a226145b",
   "metadata": {},
   "outputs": [
    {
     "data": {
      "text/plain": [
       "29"
      ]
     },
     "execution_count": 21,
     "metadata": {},
     "output_type": "execute_result"
    }
   ],
   "source": [
    "len(add_split)"
   ]
  },
  {
   "cell_type": "code",
   "execution_count": 22,
   "id": "8f3fe8e9",
   "metadata": {},
   "outputs": [],
   "source": [
    "add_split = set(add_split)"
   ]
  },
  {
   "cell_type": "code",
   "execution_count": 23,
   "id": "3044c8e2",
   "metadata": {},
   "outputs": [
    {
     "data": {
      "text/plain": [
       "29"
      ]
     },
     "execution_count": 23,
     "metadata": {},
     "output_type": "execute_result"
    }
   ],
   "source": [
    "len(add_split)"
   ]
  },
  {
   "cell_type": "code",
   "execution_count": 24,
   "id": "0a672547",
   "metadata": {},
   "outputs": [],
   "source": [
    "def compute_letter_selector(lgr):\n",
    "    ls = lgr[:3]\n",
    "    if ls in add_split:\n",
    "        ls = lgr[:4]\n",
    "    return ls"
   ]
  },
  {
   "cell_type": "code",
   "execution_count": 25,
   "id": "b6cd2974",
   "metadata": {},
   "outputs": [
    {
     "data": {
      "text/html": [
       "<div>\n",
       "<style scoped>\n",
       "    .dataframe tbody tr th:only-of-type {\n",
       "        vertical-align: middle;\n",
       "    }\n",
       "\n",
       "    .dataframe tbody tr th {\n",
       "        vertical-align: top;\n",
       "    }\n",
       "\n",
       "    .dataframe thead th {\n",
       "        text-align: right;\n",
       "    }\n",
       "</style>\n",
       "<table border=\"1\" class=\"dataframe\">\n",
       "  <thead>\n",
       "    <tr style=\"text-align: right;\">\n",
       "      <th></th>\n",
       "      <th>word</th>\n",
       "      <th>lcase</th>\n",
       "      <th>n_chars</th>\n",
       "      <th>first_letter</th>\n",
       "      <th>word_id</th>\n",
       "      <th>word_group_id</th>\n",
       "      <th>letter_group</th>\n",
       "      <th>letter_group_ranked</th>\n",
       "      <th>word_group_count</th>\n",
       "      <th>n_records</th>\n",
       "      <th>letter_selector_temp</th>\n",
       "    </tr>\n",
       "  </thead>\n",
       "  <tbody>\n",
       "    <tr>\n",
       "      <th>0</th>\n",
       "      <td>A</td>\n",
       "      <td>a</td>\n",
       "      <td>1</td>\n",
       "      <td>a</td>\n",
       "      <td>0</td>\n",
       "      <td>0</td>\n",
       "      <td>a</td>\n",
       "      <td>a</td>\n",
       "      <td>1</td>\n",
       "      <td>1</td>\n",
       "      <td>a</td>\n",
       "    </tr>\n",
       "    <tr>\n",
       "      <th>1</th>\n",
       "      <td>aa</td>\n",
       "      <td>aa</td>\n",
       "      <td>2</td>\n",
       "      <td>a</td>\n",
       "      <td>1</td>\n",
       "      <td>1</td>\n",
       "      <td>a</td>\n",
       "      <td>a</td>\n",
       "      <td>1</td>\n",
       "      <td>1</td>\n",
       "      <td>a</td>\n",
       "    </tr>\n",
       "    <tr>\n",
       "      <th>2</th>\n",
       "      <td>aal</td>\n",
       "      <td>aal</td>\n",
       "      <td>3</td>\n",
       "      <td>a</td>\n",
       "      <td>2</td>\n",
       "      <td>2</td>\n",
       "      <td>al</td>\n",
       "      <td>la</td>\n",
       "      <td>2</td>\n",
       "      <td>1</td>\n",
       "      <td>la</td>\n",
       "    </tr>\n",
       "    <tr>\n",
       "      <th>3</th>\n",
       "      <td>aalii</td>\n",
       "      <td>aalii</td>\n",
       "      <td>5</td>\n",
       "      <td>a</td>\n",
       "      <td>3</td>\n",
       "      <td>3</td>\n",
       "      <td>ail</td>\n",
       "      <td>lai</td>\n",
       "      <td>1</td>\n",
       "      <td>1</td>\n",
       "      <td>lai</td>\n",
       "    </tr>\n",
       "    <tr>\n",
       "      <th>4</th>\n",
       "      <td>aam</td>\n",
       "      <td>aam</td>\n",
       "      <td>3</td>\n",
       "      <td>a</td>\n",
       "      <td>4</td>\n",
       "      <td>4</td>\n",
       "      <td>am</td>\n",
       "      <td>ma</td>\n",
       "      <td>2</td>\n",
       "      <td>1</td>\n",
       "      <td>ma</td>\n",
       "    </tr>\n",
       "  </tbody>\n",
       "</table>\n",
       "</div>"
      ],
      "text/plain": [
       "    word  lcase  n_chars first_letter  word_id  word_group_id letter_group  \\\n",
       "0      A      a        1            a        0              0            a   \n",
       "1     aa     aa        2            a        1              1            a   \n",
       "2    aal    aal        3            a        2              2           al   \n",
       "3  aalii  aalii        5            a        3              3          ail   \n",
       "4    aam    aam        3            a        4              4           am   \n",
       "\n",
       "  letter_group_ranked  word_group_count  n_records letter_selector_temp  \n",
       "0                   a                 1          1                    a  \n",
       "1                   a                 1          1                    a  \n",
       "2                  la                 2          1                   la  \n",
       "3                 lai                 1          1                  lai  \n",
       "4                  ma                 2          1                   ma  "
      ]
     },
     "execution_count": 25,
     "metadata": {},
     "output_type": "execute_result"
    }
   ],
   "source": [
    "wg_df.head()"
   ]
  },
  {
   "cell_type": "code",
   "execution_count": 26,
   "id": "f8f5ef36",
   "metadata": {},
   "outputs": [],
   "source": [
    "wg_df['letter_selector_temp'] = wg_df['letter_group_ranked'].map(compute_letter_selector)"
   ]
  },
  {
   "cell_type": "code",
   "execution_count": 27,
   "id": "832be121",
   "metadata": {},
   "outputs": [],
   "source": [
    "# create a new letter_selector\n",
    "col_names = ['letter_selector_temp', 'n_records']\n",
    "new_ls_df = wg_df[col_names].groupby(col_names[:-1]).agg(ls_count = ('n_records', 'sum')).reset_index()\n",
    "new_ls_df['ls_nchar'] = new_ls_df['letter_selector_temp'].str.len()"
   ]
  },
  {
   "cell_type": "code",
   "execution_count": 28,
   "id": "5743b293",
   "metadata": {},
   "outputs": [
    {
     "data": {
      "text/plain": [
       "(2403, 3)"
      ]
     },
     "execution_count": 28,
     "metadata": {},
     "output_type": "execute_result"
    }
   ],
   "source": [
    "new_ls_df.shape"
   ]
  },
  {
   "cell_type": "code",
   "execution_count": 29,
   "id": "a66c61aa",
   "metadata": {},
   "outputs": [
    {
     "data": {
      "text/html": [
       "<div>\n",
       "<style scoped>\n",
       "    .dataframe tbody tr th:only-of-type {\n",
       "        vertical-align: middle;\n",
       "    }\n",
       "\n",
       "    .dataframe tbody tr th {\n",
       "        vertical-align: top;\n",
       "    }\n",
       "\n",
       "    .dataframe thead th {\n",
       "        text-align: right;\n",
       "    }\n",
       "</style>\n",
       "<table border=\"1\" class=\"dataframe\">\n",
       "  <thead>\n",
       "    <tr style=\"text-align: right;\">\n",
       "      <th></th>\n",
       "      <th>letter_selector_temp</th>\n",
       "      <th>ls_count</th>\n",
       "      <th>ls_nchar</th>\n",
       "    </tr>\n",
       "  </thead>\n",
       "  <tbody>\n",
       "    <tr>\n",
       "      <th>0</th>\n",
       "      <td>a</td>\n",
       "      <td>2</td>\n",
       "      <td>1</td>\n",
       "    </tr>\n",
       "    <tr>\n",
       "      <th>1</th>\n",
       "      <td>ae</td>\n",
       "      <td>1</td>\n",
       "      <td>2</td>\n",
       "    </tr>\n",
       "    <tr>\n",
       "      <th>2</th>\n",
       "      <td>ai</td>\n",
       "      <td>1</td>\n",
       "      <td>2</td>\n",
       "    </tr>\n",
       "    <tr>\n",
       "      <th>3</th>\n",
       "      <td>b</td>\n",
       "      <td>1</td>\n",
       "      <td>1</td>\n",
       "    </tr>\n",
       "    <tr>\n",
       "      <th>4</th>\n",
       "      <td>ba</td>\n",
       "      <td>4</td>\n",
       "      <td>2</td>\n",
       "    </tr>\n",
       "  </tbody>\n",
       "</table>\n",
       "</div>"
      ],
      "text/plain": [
       "  letter_selector_temp  ls_count  ls_nchar\n",
       "0                    a         2         1\n",
       "1                   ae         1         2\n",
       "2                   ai         1         2\n",
       "3                    b         1         1\n",
       "4                   ba         4         2"
      ]
     },
     "execution_count": 29,
     "metadata": {},
     "output_type": "execute_result"
    }
   ],
   "source": [
    "new_ls_df.head()"
   ]
  },
  {
   "cell_type": "code",
   "execution_count": 30,
   "id": "8979387c",
   "metadata": {},
   "outputs": [],
   "source": [
    "new_ls_df = pd.merge(left = new_ls_df, right = ss_df)"
   ]
  },
  {
   "cell_type": "code",
   "execution_count": 31,
   "id": "8b04f49b",
   "metadata": {},
   "outputs": [
    {
     "data": {
      "text/plain": [
       "(2403, 5)"
      ]
     },
     "execution_count": 31,
     "metadata": {},
     "output_type": "execute_result"
    }
   ],
   "source": [
    "new_ls_df.shape"
   ]
  },
  {
   "cell_type": "code",
   "execution_count": 32,
   "metadata": {},
   "outputs": [
    {
     "data": {
      "text/html": [
       "<div>\n",
       "<style scoped>\n",
       "    .dataframe tbody tr th:only-of-type {\n",
       "        vertical-align: middle;\n",
       "    }\n",
       "\n",
       "    .dataframe tbody tr th {\n",
       "        vertical-align: top;\n",
       "    }\n",
       "\n",
       "    .dataframe thead th {\n",
       "        text-align: right;\n",
       "    }\n",
       "</style>\n",
       "<table border=\"1\" class=\"dataframe\">\n",
       "  <thead>\n",
       "    <tr style=\"text-align: right;\">\n",
       "      <th></th>\n",
       "      <th>letter_selector_temp</th>\n",
       "      <th>ls_count</th>\n",
       "      <th>ls_nchar</th>\n",
       "      <th>ls_index</th>\n",
       "      <th>n_search_space</th>\n",
       "    </tr>\n",
       "  </thead>\n",
       "  <tbody>\n",
       "    <tr>\n",
       "      <th>0</th>\n",
       "      <td>a</td>\n",
       "      <td>2</td>\n",
       "      <td>1</td>\n",
       "      <td>[0]</td>\n",
       "      <td>133001</td>\n",
       "    </tr>\n",
       "    <tr>\n",
       "      <th>1</th>\n",
       "      <td>ae</td>\n",
       "      <td>1</td>\n",
       "      <td>2</td>\n",
       "      <td>[0, 4]</td>\n",
       "      <td>84952</td>\n",
       "    </tr>\n",
       "    <tr>\n",
       "      <th>2</th>\n",
       "      <td>ai</td>\n",
       "      <td>1</td>\n",
       "      <td>2</td>\n",
       "      <td>[0, 8]</td>\n",
       "      <td>82414</td>\n",
       "    </tr>\n",
       "    <tr>\n",
       "      <th>3</th>\n",
       "      <td>b</td>\n",
       "      <td>1</td>\n",
       "      <td>1</td>\n",
       "      <td>[1]</td>\n",
       "      <td>35319</td>\n",
       "    </tr>\n",
       "    <tr>\n",
       "      <th>4</th>\n",
       "      <td>ba</td>\n",
       "      <td>4</td>\n",
       "      <td>2</td>\n",
       "      <td>[1, 0]</td>\n",
       "      <td>23469</td>\n",
       "    </tr>\n",
       "  </tbody>\n",
       "</table>\n",
       "</div>"
      ],
      "text/plain": [
       "  letter_selector_temp  ls_count  ls_nchar ls_index  n_search_space\n",
       "0                    a         2         1      [0]          133001\n",
       "1                   ae         1         2   [0, 4]           84952\n",
       "2                   ai         1         2   [0, 8]           82414\n",
       "3                    b         1         1      [1]           35319\n",
       "4                   ba         4         2   [1, 0]           23469"
      ]
     },
     "execution_count": 32,
     "metadata": {},
     "output_type": "execute_result"
    }
   ],
   "source": [
    "new_ls_df.head()"
   ]
  },
  {
   "cell_type": "code",
   "execution_count": 33,
   "id": "97d5bb5d",
   "metadata": {},
   "outputs": [],
   "source": [
    "new_ls_df['tot_comps'] = new_ls_df['ls_count'] * new_ls_df['n_search_space']"
   ]
  },
  {
   "cell_type": "code",
   "execution_count": 34,
   "id": "cf55624f",
   "metadata": {},
   "outputs": [
    {
     "data": {
      "text/plain": [
       "19842264"
      ]
     },
     "execution_count": 34,
     "metadata": {},
     "output_type": "execute_result"
    }
   ],
   "source": [
    "new_ls_df.loc[new_ls_df['ls_nchar'] >= 3, 'tot_comps'].max()"
   ]
  },
  {
   "cell_type": "code",
   "execution_count": 35,
   "id": "60ded439",
   "metadata": {},
   "outputs": [
    {
     "name": "stdout",
     "output_type": "stream",
     "text": [
      "...query execution took: 0.0 seconds...\n"
     ]
    }
   ],
   "source": [
    "# load the total number of anagrams\n",
    "n_possible_anagrams = load_possible_anagrams(db_path=rc.DB_PATH,\n",
    "                                             db_name=rc.DB_NAME)"
   ]
  },
  {
   "cell_type": "code",
   "execution_count": 36,
   "id": "dc40731f",
   "metadata": {},
   "outputs": [],
   "source": [
    "new_ls_df = new_ls_df.reset_index(drop = True)"
   ]
  },
  {
   "cell_type": "code",
   "execution_count": 37,
   "id": "7d6440bd",
   "metadata": {},
   "outputs": [
    {
     "data": {
      "text/html": [
       "<div>\n",
       "<style scoped>\n",
       "    .dataframe tbody tr th:only-of-type {\n",
       "        vertical-align: middle;\n",
       "    }\n",
       "\n",
       "    .dataframe tbody tr th {\n",
       "        vertical-align: top;\n",
       "    }\n",
       "\n",
       "    .dataframe thead th {\n",
       "        text-align: right;\n",
       "    }\n",
       "</style>\n",
       "<table border=\"1\" class=\"dataframe\">\n",
       "  <thead>\n",
       "    <tr style=\"text-align: right;\">\n",
       "      <th></th>\n",
       "      <th>letter_selector_temp</th>\n",
       "      <th>ls_count</th>\n",
       "      <th>ls_nchar</th>\n",
       "      <th>ls_index</th>\n",
       "      <th>n_search_space</th>\n",
       "      <th>tot_comps</th>\n",
       "    </tr>\n",
       "  </thead>\n",
       "  <tbody>\n",
       "    <tr>\n",
       "      <th>0</th>\n",
       "      <td>a</td>\n",
       "      <td>2</td>\n",
       "      <td>1</td>\n",
       "      <td>[0]</td>\n",
       "      <td>133001</td>\n",
       "      <td>266002</td>\n",
       "    </tr>\n",
       "    <tr>\n",
       "      <th>1</th>\n",
       "      <td>ae</td>\n",
       "      <td>1</td>\n",
       "      <td>2</td>\n",
       "      <td>[0, 4]</td>\n",
       "      <td>84952</td>\n",
       "      <td>84952</td>\n",
       "    </tr>\n",
       "    <tr>\n",
       "      <th>2</th>\n",
       "      <td>ai</td>\n",
       "      <td>1</td>\n",
       "      <td>2</td>\n",
       "      <td>[0, 8]</td>\n",
       "      <td>82414</td>\n",
       "      <td>82414</td>\n",
       "    </tr>\n",
       "    <tr>\n",
       "      <th>3</th>\n",
       "      <td>b</td>\n",
       "      <td>1</td>\n",
       "      <td>1</td>\n",
       "      <td>[1]</td>\n",
       "      <td>35319</td>\n",
       "      <td>35319</td>\n",
       "    </tr>\n",
       "    <tr>\n",
       "      <th>4</th>\n",
       "      <td>ba</td>\n",
       "      <td>4</td>\n",
       "      <td>2</td>\n",
       "      <td>[1, 0]</td>\n",
       "      <td>23469</td>\n",
       "      <td>93876</td>\n",
       "    </tr>\n",
       "  </tbody>\n",
       "</table>\n",
       "</div>"
      ],
      "text/plain": [
       "  letter_selector_temp  ls_count  ls_nchar ls_index  n_search_space  tot_comps\n",
       "0                    a         2         1      [0]          133001     266002\n",
       "1                   ae         1         2   [0, 4]           84952      84952\n",
       "2                   ai         1         2   [0, 8]           82414      82414\n",
       "3                    b         1         1      [1]           35319      35319\n",
       "4                   ba         4         2   [1, 0]           23469      93876"
      ]
     },
     "execution_count": 37,
     "metadata": {},
     "output_type": "execute_result"
    }
   ],
   "source": [
    "new_ls_df.head()"
   ]
  },
  {
   "cell_type": "code",
   "execution_count": 38,
   "id": "289de9ad",
   "metadata": {},
   "outputs": [
    {
     "data": {
      "text/html": [
       "<div>\n",
       "<style scoped>\n",
       "    .dataframe tbody tr th:only-of-type {\n",
       "        vertical-align: middle;\n",
       "    }\n",
       "\n",
       "    .dataframe tbody tr th {\n",
       "        vertical-align: top;\n",
       "    }\n",
       "\n",
       "    .dataframe thead th {\n",
       "        text-align: right;\n",
       "    }\n",
       "</style>\n",
       "<table border=\"1\" class=\"dataframe\">\n",
       "  <thead>\n",
       "    <tr style=\"text-align: right;\">\n",
       "      <th></th>\n",
       "      <th>word</th>\n",
       "      <th>lcase</th>\n",
       "      <th>n_chars</th>\n",
       "      <th>first_letter</th>\n",
       "      <th>word_id</th>\n",
       "      <th>word_group_id</th>\n",
       "      <th>letter_group</th>\n",
       "      <th>letter_group_ranked</th>\n",
       "      <th>word_group_count</th>\n",
       "      <th>n_records</th>\n",
       "      <th>letter_selector_temp</th>\n",
       "    </tr>\n",
       "  </thead>\n",
       "  <tbody>\n",
       "    <tr>\n",
       "      <th>0</th>\n",
       "      <td>A</td>\n",
       "      <td>a</td>\n",
       "      <td>1</td>\n",
       "      <td>a</td>\n",
       "      <td>0</td>\n",
       "      <td>0</td>\n",
       "      <td>a</td>\n",
       "      <td>a</td>\n",
       "      <td>1</td>\n",
       "      <td>1</td>\n",
       "      <td>a</td>\n",
       "    </tr>\n",
       "    <tr>\n",
       "      <th>1</th>\n",
       "      <td>aa</td>\n",
       "      <td>aa</td>\n",
       "      <td>2</td>\n",
       "      <td>a</td>\n",
       "      <td>1</td>\n",
       "      <td>1</td>\n",
       "      <td>a</td>\n",
       "      <td>a</td>\n",
       "      <td>1</td>\n",
       "      <td>1</td>\n",
       "      <td>a</td>\n",
       "    </tr>\n",
       "    <tr>\n",
       "      <th>2</th>\n",
       "      <td>aal</td>\n",
       "      <td>aal</td>\n",
       "      <td>3</td>\n",
       "      <td>a</td>\n",
       "      <td>2</td>\n",
       "      <td>2</td>\n",
       "      <td>al</td>\n",
       "      <td>la</td>\n",
       "      <td>2</td>\n",
       "      <td>1</td>\n",
       "      <td>la</td>\n",
       "    </tr>\n",
       "    <tr>\n",
       "      <th>3</th>\n",
       "      <td>aalii</td>\n",
       "      <td>aalii</td>\n",
       "      <td>5</td>\n",
       "      <td>a</td>\n",
       "      <td>3</td>\n",
       "      <td>3</td>\n",
       "      <td>ail</td>\n",
       "      <td>lai</td>\n",
       "      <td>1</td>\n",
       "      <td>1</td>\n",
       "      <td>lai</td>\n",
       "    </tr>\n",
       "    <tr>\n",
       "      <th>4</th>\n",
       "      <td>aam</td>\n",
       "      <td>aam</td>\n",
       "      <td>3</td>\n",
       "      <td>a</td>\n",
       "      <td>4</td>\n",
       "      <td>4</td>\n",
       "      <td>am</td>\n",
       "      <td>ma</td>\n",
       "      <td>2</td>\n",
       "      <td>1</td>\n",
       "      <td>ma</td>\n",
       "    </tr>\n",
       "  </tbody>\n",
       "</table>\n",
       "</div>"
      ],
      "text/plain": [
       "    word  lcase  n_chars first_letter  word_id  word_group_id letter_group  \\\n",
       "0      A      a        1            a        0              0            a   \n",
       "1     aa     aa        2            a        1              1            a   \n",
       "2    aal    aal        3            a        2              2           al   \n",
       "3  aalii  aalii        5            a        3              3          ail   \n",
       "4    aam    aam        3            a        4              4           am   \n",
       "\n",
       "  letter_group_ranked  word_group_count  n_records letter_selector_temp  \n",
       "0                   a                 1          1                    a  \n",
       "1                   a                 1          1                    a  \n",
       "2                  la                 2          1                   la  \n",
       "3                 lai                 1          1                  lai  \n",
       "4                  ma                 2          1                   ma  "
      ]
     },
     "execution_count": 38,
     "metadata": {},
     "output_type": "execute_result"
    }
   ],
   "source": [
    "wg_df.head()"
   ]
  },
  {
   "cell_type": "code",
   "execution_count": 39,
   "id": "0a8bdceb",
   "metadata": {},
   "outputs": [
    {
     "data": {
      "text/html": [
       "<div>\n",
       "<style scoped>\n",
       "    .dataframe tbody tr th:only-of-type {\n",
       "        vertical-align: middle;\n",
       "    }\n",
       "\n",
       "    .dataframe tbody tr th {\n",
       "        vertical-align: top;\n",
       "    }\n",
       "\n",
       "    .dataframe thead th {\n",
       "        text-align: right;\n",
       "    }\n",
       "</style>\n",
       "<table border=\"1\" class=\"dataframe\">\n",
       "  <thead>\n",
       "    <tr style=\"text-align: right;\">\n",
       "      <th></th>\n",
       "      <th>letter_selector_temp</th>\n",
       "      <th>ls_count</th>\n",
       "      <th>ls_nchar</th>\n",
       "      <th>ls_index</th>\n",
       "      <th>n_search_space</th>\n",
       "      <th>tot_comps</th>\n",
       "    </tr>\n",
       "  </thead>\n",
       "  <tbody>\n",
       "    <tr>\n",
       "      <th>0</th>\n",
       "      <td>a</td>\n",
       "      <td>2</td>\n",
       "      <td>1</td>\n",
       "      <td>[0]</td>\n",
       "      <td>133001</td>\n",
       "      <td>266002</td>\n",
       "    </tr>\n",
       "    <tr>\n",
       "      <th>1</th>\n",
       "      <td>ae</td>\n",
       "      <td>1</td>\n",
       "      <td>2</td>\n",
       "      <td>[0, 4]</td>\n",
       "      <td>84952</td>\n",
       "      <td>84952</td>\n",
       "    </tr>\n",
       "    <tr>\n",
       "      <th>2</th>\n",
       "      <td>ai</td>\n",
       "      <td>1</td>\n",
       "      <td>2</td>\n",
       "      <td>[0, 8]</td>\n",
       "      <td>82414</td>\n",
       "      <td>82414</td>\n",
       "    </tr>\n",
       "    <tr>\n",
       "      <th>3</th>\n",
       "      <td>b</td>\n",
       "      <td>1</td>\n",
       "      <td>1</td>\n",
       "      <td>[1]</td>\n",
       "      <td>35319</td>\n",
       "      <td>35319</td>\n",
       "    </tr>\n",
       "    <tr>\n",
       "      <th>4</th>\n",
       "      <td>ba</td>\n",
       "      <td>4</td>\n",
       "      <td>2</td>\n",
       "      <td>[1, 0]</td>\n",
       "      <td>23469</td>\n",
       "      <td>93876</td>\n",
       "    </tr>\n",
       "  </tbody>\n",
       "</table>\n",
       "</div>"
      ],
      "text/plain": [
       "  letter_selector_temp  ls_count  ls_nchar ls_index  n_search_space  tot_comps\n",
       "0                    a         2         1      [0]          133001     266002\n",
       "1                   ae         1         2   [0, 4]           84952      84952\n",
       "2                   ai         1         2   [0, 8]           82414      82414\n",
       "3                    b         1         1      [1]           35319      35319\n",
       "4                   ba         4         2   [1, 0]           23469      93876"
      ]
     },
     "execution_count": 39,
     "metadata": {},
     "output_type": "execute_result"
    }
   ],
   "source": [
    "new_ls_df.head()"
   ]
  },
  {
   "cell_type": "code",
   "execution_count": 40,
   "id": "5603c8cc",
   "metadata": {},
   "outputs": [],
   "source": [
    "new_ls_df['letter_selector_id'] = range(0, new_ls_df.shape[0])"
   ]
  },
  {
   "cell_type": "code",
   "execution_count": 41,
   "id": "ae2ff5a4",
   "metadata": {},
   "outputs": [],
   "source": [
    "col_names = ['letter_selector_temp', 'letter_selector_id']\n",
    "wg_df = pd.merge(left = wg_df, right = new_ls_df[col_names])"
   ]
  },
  {
   "cell_type": "code",
   "execution_count": 42,
   "id": "dd6a6d9d",
   "metadata": {},
   "outputs": [
    {
     "data": {
      "text/html": [
       "<div>\n",
       "<style scoped>\n",
       "    .dataframe tbody tr th:only-of-type {\n",
       "        vertical-align: middle;\n",
       "    }\n",
       "\n",
       "    .dataframe tbody tr th {\n",
       "        vertical-align: top;\n",
       "    }\n",
       "\n",
       "    .dataframe thead th {\n",
       "        text-align: right;\n",
       "    }\n",
       "</style>\n",
       "<table border=\"1\" class=\"dataframe\">\n",
       "  <thead>\n",
       "    <tr style=\"text-align: right;\">\n",
       "      <th></th>\n",
       "      <th>word</th>\n",
       "      <th>lcase</th>\n",
       "      <th>n_chars</th>\n",
       "      <th>first_letter</th>\n",
       "      <th>word_id</th>\n",
       "      <th>word_group_id</th>\n",
       "      <th>letter_group</th>\n",
       "      <th>letter_group_ranked</th>\n",
       "      <th>word_group_count</th>\n",
       "      <th>n_records</th>\n",
       "      <th>letter_selector_temp</th>\n",
       "      <th>letter_selector_id</th>\n",
       "    </tr>\n",
       "  </thead>\n",
       "  <tbody>\n",
       "    <tr>\n",
       "      <th>0</th>\n",
       "      <td>A</td>\n",
       "      <td>a</td>\n",
       "      <td>1</td>\n",
       "      <td>a</td>\n",
       "      <td>0</td>\n",
       "      <td>0</td>\n",
       "      <td>a</td>\n",
       "      <td>a</td>\n",
       "      <td>1</td>\n",
       "      <td>1</td>\n",
       "      <td>a</td>\n",
       "      <td>0</td>\n",
       "    </tr>\n",
       "    <tr>\n",
       "      <th>1</th>\n",
       "      <td>aa</td>\n",
       "      <td>aa</td>\n",
       "      <td>2</td>\n",
       "      <td>a</td>\n",
       "      <td>1</td>\n",
       "      <td>1</td>\n",
       "      <td>a</td>\n",
       "      <td>a</td>\n",
       "      <td>1</td>\n",
       "      <td>1</td>\n",
       "      <td>a</td>\n",
       "      <td>0</td>\n",
       "    </tr>\n",
       "    <tr>\n",
       "      <th>2</th>\n",
       "      <td>aal</td>\n",
       "      <td>aal</td>\n",
       "      <td>3</td>\n",
       "      <td>a</td>\n",
       "      <td>2</td>\n",
       "      <td>2</td>\n",
       "      <td>al</td>\n",
       "      <td>la</td>\n",
       "      <td>2</td>\n",
       "      <td>1</td>\n",
       "      <td>la</td>\n",
       "      <td>1081</td>\n",
       "    </tr>\n",
       "    <tr>\n",
       "      <th>3</th>\n",
       "      <td>aalii</td>\n",
       "      <td>aalii</td>\n",
       "      <td>5</td>\n",
       "      <td>a</td>\n",
       "      <td>3</td>\n",
       "      <td>3</td>\n",
       "      <td>ail</td>\n",
       "      <td>lai</td>\n",
       "      <td>1</td>\n",
       "      <td>1</td>\n",
       "      <td>lai</td>\n",
       "      <td>1083</td>\n",
       "    </tr>\n",
       "    <tr>\n",
       "      <th>4</th>\n",
       "      <td>aam</td>\n",
       "      <td>aam</td>\n",
       "      <td>3</td>\n",
       "      <td>a</td>\n",
       "      <td>4</td>\n",
       "      <td>4</td>\n",
       "      <td>am</td>\n",
       "      <td>ma</td>\n",
       "      <td>2</td>\n",
       "      <td>1</td>\n",
       "      <td>ma</td>\n",
       "      <td>1115</td>\n",
       "    </tr>\n",
       "  </tbody>\n",
       "</table>\n",
       "</div>"
      ],
      "text/plain": [
       "    word  lcase  n_chars first_letter  word_id  word_group_id letter_group  \\\n",
       "0      A      a        1            a        0              0            a   \n",
       "1     aa     aa        2            a        1              1            a   \n",
       "2    aal    aal        3            a        2              2           al   \n",
       "3  aalii  aalii        5            a        3              3          ail   \n",
       "4    aam    aam        3            a        4              4           am   \n",
       "\n",
       "  letter_group_ranked  word_group_count  n_records letter_selector_temp  \\\n",
       "0                   a                 1          1                    a   \n",
       "1                   a                 1          1                    a   \n",
       "2                  la                 2          1                   la   \n",
       "3                 lai                 1          1                  lai   \n",
       "4                  ma                 2          1                   ma   \n",
       "\n",
       "   letter_selector_id  \n",
       "0                   0  \n",
       "1                   0  \n",
       "2                1081  \n",
       "3                1083  \n",
       "4                1115  "
      ]
     },
     "execution_count": 42,
     "metadata": {},
     "output_type": "execute_result"
    }
   ],
   "source": [
    "wg_df.head()"
   ]
  },
  {
   "cell_type": "code",
   "execution_count": 43,
   "id": "8db4a9bd",
   "metadata": {},
   "outputs": [
    {
     "data": {
      "text/html": [
       "<div>\n",
       "<style scoped>\n",
       "    .dataframe tbody tr th:only-of-type {\n",
       "        vertical-align: middle;\n",
       "    }\n",
       "\n",
       "    .dataframe tbody tr th {\n",
       "        vertical-align: top;\n",
       "    }\n",
       "\n",
       "    .dataframe thead th {\n",
       "        text-align: right;\n",
       "    }\n",
       "</style>\n",
       "<table border=\"1\" class=\"dataframe\">\n",
       "  <thead>\n",
       "    <tr style=\"text-align: right;\">\n",
       "      <th></th>\n",
       "      <th>letter_selector_temp</th>\n",
       "      <th>ls_count</th>\n",
       "      <th>ls_nchar</th>\n",
       "      <th>ls_index</th>\n",
       "      <th>n_search_space</th>\n",
       "      <th>tot_comps</th>\n",
       "      <th>letter_selector_id</th>\n",
       "    </tr>\n",
       "  </thead>\n",
       "  <tbody>\n",
       "    <tr>\n",
       "      <th>0</th>\n",
       "      <td>a</td>\n",
       "      <td>2</td>\n",
       "      <td>1</td>\n",
       "      <td>[0]</td>\n",
       "      <td>133001</td>\n",
       "      <td>266002</td>\n",
       "      <td>0</td>\n",
       "    </tr>\n",
       "    <tr>\n",
       "      <th>1</th>\n",
       "      <td>ae</td>\n",
       "      <td>1</td>\n",
       "      <td>2</td>\n",
       "      <td>[0, 4]</td>\n",
       "      <td>84952</td>\n",
       "      <td>84952</td>\n",
       "      <td>1</td>\n",
       "    </tr>\n",
       "    <tr>\n",
       "      <th>2</th>\n",
       "      <td>ai</td>\n",
       "      <td>1</td>\n",
       "      <td>2</td>\n",
       "      <td>[0, 8]</td>\n",
       "      <td>82414</td>\n",
       "      <td>82414</td>\n",
       "      <td>2</td>\n",
       "    </tr>\n",
       "    <tr>\n",
       "      <th>3</th>\n",
       "      <td>b</td>\n",
       "      <td>1</td>\n",
       "      <td>1</td>\n",
       "      <td>[1]</td>\n",
       "      <td>35319</td>\n",
       "      <td>35319</td>\n",
       "      <td>3</td>\n",
       "    </tr>\n",
       "    <tr>\n",
       "      <th>4</th>\n",
       "      <td>ba</td>\n",
       "      <td>4</td>\n",
       "      <td>2</td>\n",
       "      <td>[1, 0]</td>\n",
       "      <td>23469</td>\n",
       "      <td>93876</td>\n",
       "      <td>4</td>\n",
       "    </tr>\n",
       "  </tbody>\n",
       "</table>\n",
       "</div>"
      ],
      "text/plain": [
       "  letter_selector_temp  ls_count  ls_nchar ls_index  n_search_space  \\\n",
       "0                    a         2         1      [0]          133001   \n",
       "1                   ae         1         2   [0, 4]           84952   \n",
       "2                   ai         1         2   [0, 8]           82414   \n",
       "3                    b         1         1      [1]           35319   \n",
       "4                   ba         4         2   [1, 0]           23469   \n",
       "\n",
       "   tot_comps  letter_selector_id  \n",
       "0     266002                   0  \n",
       "1      84952                   1  \n",
       "2      82414                   2  \n",
       "3      35319                   3  \n",
       "4      93876                   4  "
      ]
     },
     "execution_count": 43,
     "metadata": {},
     "output_type": "execute_result"
    }
   ],
   "source": [
    "new_ls_df.head()"
   ]
  },
  {
   "cell_type": "code",
   "execution_count": 44,
   "id": "aa117808",
   "metadata": {},
   "outputs": [],
   "source": [
    "# TODO: here!"
   ]
  },
  {
   "cell_type": "code",
   "execution_count": 45,
   "id": "be7203d9",
   "metadata": {},
   "outputs": [
    {
     "name": "stdout",
     "output_type": "stream",
     "text": [
      "0\n",
      "100\n",
      "200\n",
      "300\n",
      "400\n",
      "500\n",
      "600\n",
      "700\n",
      "800\n",
      "900\n",
      "1000\n",
      "1100\n",
      "1200\n",
      "1300\n",
      "1400\n",
      "1500\n",
      "1600\n",
      "1700\n",
      "1800\n",
      "1900\n",
      "2000\n",
      "2100\n",
      "2200\n",
      "2300\n",
      "2400\n",
      "...truncating output list...\n",
      "(73218235, 2)\n"
     ]
    }
   ],
   "source": [
    "# run it!\n",
    "run_start_time=perf_counter_ns()\n",
    "# create the output list\n",
    "output_list = np.full(shape = (n_possible_anagrams, 2), fill_value=-1)\n",
    "output_time_list = []\n",
    "\n",
    "# start counting\n",
    "anagram_pair_count = 0\n",
    "\n",
    "#for ls_id_index in range(0, 10):\n",
    "for ls_row_id, ls_row in new_ls_df.iloc[:None].iterrows():    \n",
    "    if ls_row_id % 100 == 0:\n",
    "        print(ls_row_id)\n",
    "    start_time = perf_counter_ns()\n",
    "    \n",
    "    # get letter selector id information    \n",
    "    ls_id = ls_row['letter_selector_id']\n",
    "    ls_id_index = np.array(ls_row['ls_index'])    \n",
    "\n",
    "    ##\n",
    "    # BUILD A COLUMN SELECTOR\n",
    "    ##\n",
    "    # make sure that only values GTE 0 are selected so that the right number of\n",
    "    # columns are return.\n",
    "    #curr_ls_id = ls_id_index[ls_id_index >= 0]\n",
    "    \n",
    "    ##\n",
    "    # SUBSET THE wchar_matrix by column selector\n",
    "    ##    \n",
    "    outcome_indices = np.all(wchar_matrix[:, ls_id_index] >= 1, axis=1)\n",
    "    \n",
    "    # this is the sub-matrix from which to query\n",
    "    ls_wchar_matrix = wchar_matrix[outcome_indices, :]\n",
    "        \n",
    "    # this is the list of word group ids that correspond to the word group ids\n",
    "    # in the ls_wchar_matrix\n",
    "    temp_wg_id_list = word_group_id_list[outcome_indices]\n",
    "    # place into a dictionary to go from wg_id to wg_index. What is the index\n",
    "    # of wg_id 675?\n",
    "    # wg_id_dict = {wg_id:wg_index for wg_index, wg_id in enumerate(temp_wg_id_list)}\n",
    "\n",
    "    # this is the number of word groups that meet certain criteria. \n",
    "    # for example, words that feature the letters: 'bro'    \n",
    "    n_search_space = temp_wg_id_list.shape[0]\n",
    "        \n",
    "    #def my_func(row):\n",
    "    #    return temp_wg_id_list[np.all(a = (ls_wchar_matrix - ls_wchar_matrix[row, :]) >= 0, axis = 1)]\n",
    "\n",
    "    #for ii in range(0, ls_wchar_matrix.shape[0]):    \n",
    "    #for i_curr_wg_id, curr_wg_id in enumerate(temp_wg_id_list):\n",
    "    # the current list of words featuring the set of least common letters.\n",
    "    # these are the words have the least common letters of 'bro'    \n",
    "    curr_wg_id_list = wg_df.loc[wg_df['letter_selector_id'] == ls_id, 'word_group_id'].to_numpy()\n",
    "    # n_lookups = curr_wg_id_list.shape[0]\n",
    "    # n_search_space >= n_lookups, always. \n",
    "    for i_curr_wg_id, curr_wg_id in enumerate(curr_wg_id_list):\n",
    "    \n",
    "        \n",
    "        #temp_wg_id = wg_id_dict[curr_wg_id]\n",
    "        temp_wg_id = np.where(temp_wg_id_list == curr_wg_id)[0][0]\n",
    "        #print(curr_wg_id, temp_wg_id)\n",
    "\n",
    "        #outcome_word_id_list = my_func(row = temp_wg_id)\n",
    "        outcome_word_id_list = temp_wg_id_list[np.all(a = (ls_wchar_matrix - ls_wchar_matrix[temp_wg_id, :]) >= 0, axis = 1)]\n",
    "                \n",
    "        n_from_words = outcome_word_id_list.shape[0]\n",
    "        \n",
    "        if n_from_words > 0:\n",
    "            outcome_word_id_list = format_output_list(outcome_word_id_list=outcome_word_id_list, wg_id=curr_wg_id)\n",
    "            #print(outcome_word_id_list.shape)\n",
    "            \n",
    "            # enumerate the from/parent words\n",
    "            new_anagram_pair_count = anagram_pair_count + n_from_words\n",
    "            #print(anagram_pair_count, new_anagram_pair_count)\n",
    "\n",
    "            output_list[anagram_pair_count:new_anagram_pair_count, :] = outcome_word_id_list\n",
    "\n",
    "            # update the anagram pair count\n",
    "            anagram_pair_count = new_anagram_pair_count\n",
    "\n",
    "    curr_time = calc_time(time_start=start_time, round_digits=8)\n",
    "    output_time_list.append([ls_id, n_search_space, curr_time])\n",
    "\n",
    "print('...truncating output list...')\n",
    "output_indices = np.all(output_list >= 0, axis=1)\n",
    "output_list = output_list[output_indices,]\n",
    "print(output_list.shape)\n",
    "time_proc = calc_time(time_start=run_start_time, round_digits=4)\n",
    "#compute_el_time(seconds=time_proc)"
   ]
  },
  {
   "cell_type": "code",
   "execution_count": null,
   "id": "fae378c2",
   "metadata": {},
   "outputs": [],
   "source": [
    "# the \"simple\" letter connect"
   ]
  },
  {
   "cell_type": "code",
   "execution_count": null,
   "id": "781cf287",
   "metadata": {},
   "outputs": [],
   "source": [
    "def get_ls_index(ls:str):\n",
    "    return [letter_dict[l] for l in ls]"
   ]
  },
  {
   "cell_type": "code",
   "execution_count": null,
   "id": "02d0cbba",
   "metadata": {},
   "outputs": [],
   "source": [
    "col_names = ['letter_selector', 'n_records']\n",
    "wg_df['letter_selector'] = wg_df['letter_group_ranked'].str[:3]    \n",
    "simple_ls_df = wg_df[col_names].groupby(col_names[:-1]).agg(ls_count = ('n_records', 'sum')).reset_index()\n",
    "simple_ls_df['simple_letter_selector_id'] = range(0, simple_ls_df.shape[0])\n",
    "simple_ls_df['ls_index_simple'] = simple_ls_df['letter_selector'].map(get_ls_index)\n"
   ]
  },
  {
   "cell_type": "code",
   "execution_count": null,
   "id": "e2450c28",
   "metadata": {},
   "outputs": [],
   "source": [
    "simple_ls_df.head()"
   ]
  },
  {
   "cell_type": "code",
   "execution_count": null,
   "id": "480494a3",
   "metadata": {},
   "outputs": [],
   "source": [
    "wg_df.head()"
   ]
  },
  {
   "cell_type": "code",
   "execution_count": null,
   "id": "ff30013d",
   "metadata": {},
   "outputs": [],
   "source": [
    "wg_df['letter_selector'] = wg_df['letter_group_ranked'].str[:3]"
   ]
  },
  {
   "cell_type": "code",
   "execution_count": null,
   "id": "5901f3fe",
   "metadata": {},
   "outputs": [],
   "source": [
    "simple_ls_df.head()"
   ]
  },
  {
   "cell_type": "code",
   "execution_count": null,
   "id": "c31446ea",
   "metadata": {},
   "outputs": [],
   "source": [
    "drop_col_names = ['letter_selector', 'ls_count', 'simple_letter_selector_id',\n",
    "                  'ls_index', 'ls_index_simple']\n",
    "#wg_df = wg_df.drop(labels = drop_col_names, axis = 1)"
   ]
  },
  {
   "cell_type": "code",
   "execution_count": null,
   "id": "30adf2e0",
   "metadata": {},
   "outputs": [],
   "source": [
    "wg_df = pd.merge(left=wg_df, right = simple_ls_df)"
   ]
  },
  {
   "cell_type": "code",
   "execution_count": null,
   "id": "2440715e",
   "metadata": {},
   "outputs": [],
   "source": [
    "wg_df.head()"
   ]
  },
  {
   "cell_type": "code",
   "execution_count": null,
   "id": "ead7477e",
   "metadata": {},
   "outputs": [],
   "source": [
    "simple_ls_df.head()"
   ]
  },
  {
   "cell_type": "code",
   "execution_count": null,
   "id": "981df173",
   "metadata": {},
   "outputs": [],
   "source": [
    "# run it!\n",
    "run_start_time=perf_counter_ns()\n",
    "# create the output list\n",
    "output_list = np.full(shape = (n_possible_anagrams, 2), fill_value=-1)\n",
    "output_time_list = []\n",
    "\n",
    "# start counting\n",
    "anagram_pair_count = 0\n",
    "\n",
    "#for ls_id_index in range(0, 10):\n",
    "for ls_row_id, ls_row in simple_ls_df.iloc[:None].iterrows():    \n",
    "    if ls_row_id % 100 == 0:\n",
    "        print(ls_row_id)\n",
    "    start_time = perf_counter_ns()\n",
    "    \n",
    "    # get letter selector id information    \n",
    "    ls_id = ls_row['simple_letter_selector_id']\n",
    "    ls_id_index = np.array(ls_row['ls_index_simple'])    \n",
    "\n",
    "    ##\n",
    "    # BUILD A COLUMN SELECTOR\n",
    "    ##\n",
    "    # make sure that only values GTE 0 are selected so that the right number of\n",
    "    # columns are return.\n",
    "    #curr_ls_id = ls_id_index[ls_id_index >= 0]\n",
    "    \n",
    "    ##\n",
    "    # SUBSET THE wchar_matrix by column selector\n",
    "    ##    \n",
    "    outcome_indices = np.all(wchar_matrix[:, ls_id_index] >= 1, axis=1)\n",
    "    \n",
    "    # this is the sub-matrix from which to query\n",
    "    ls_wchar_matrix = wchar_matrix[outcome_indices, :]\n",
    "        \n",
    "    # this is the list of word group ids that correspond to the word group ids\n",
    "    # in the ls_wchar_matrix\n",
    "    temp_wg_id_list = word_group_id_list[outcome_indices]\n",
    "    # place into a dictionary to go from wg_id to wg_index. What is the index\n",
    "    # of wg_id 675?\n",
    "    # wg_id_dict = {wg_id:wg_index for wg_index, wg_id in enumerate(temp_wg_id_list)}\n",
    "\n",
    "    # this is the number of word groups that meet certain criteria. \n",
    "    # for example, words that feature the letters: 'bro'    \n",
    "    n_search_space = temp_wg_id_list.shape[0]\n",
    "        \n",
    "    #def my_func(row):\n",
    "    #    return temp_wg_id_list[np.all(a = (ls_wchar_matrix - ls_wchar_matrix[row, :]) >= 0, axis = 1)]\n",
    "\n",
    "    #for ii in range(0, ls_wchar_matrix.shape[0]):    \n",
    "    #for i_curr_wg_id, curr_wg_id in enumerate(temp_wg_id_list):\n",
    "    # the current list of words featuring the set of least common letters.\n",
    "    # these are the words have the least common letters of 'bro'    \n",
    "    curr_wg_id_list = wg_df.loc[wg_df['simple_letter_selector_id'] == ls_id, 'word_group_id'].to_numpy()\n",
    "    # n_lookups = curr_wg_id_list.shape[0]\n",
    "    # n_search_space >= n_lookups, always. \n",
    "    for i_curr_wg_id, curr_wg_id in enumerate(curr_wg_id_list):\n",
    "    \n",
    "        \n",
    "        #temp_wg_id = wg_id_dict[curr_wg_id]\n",
    "        temp_wg_id = np.where(temp_wg_id_list == curr_wg_id)[0][0]\n",
    "        #print(curr_wg_id, temp_wg_id)\n",
    "\n",
    "        #outcome_word_id_list = my_func(row = temp_wg_id)\n",
    "        outcome_word_id_list = temp_wg_id_list[np.all(a = (ls_wchar_matrix - ls_wchar_matrix[temp_wg_id, :]) >= 0, axis = 1)]\n",
    "                \n",
    "        n_from_words = outcome_word_id_list.shape[0]\n",
    "        \n",
    "        if n_from_words > 0:\n",
    "            outcome_word_id_list = format_output_list(outcome_word_id_list=outcome_word_id_list, wg_id=curr_wg_id)\n",
    "            #print(outcome_word_id_list.shape)\n",
    "            \n",
    "            # enumerate the from/parent words\n",
    "            new_anagram_pair_count = anagram_pair_count + n_from_words\n",
    "            #print(anagram_pair_count, new_anagram_pair_count)\n",
    "\n",
    "            output_list[anagram_pair_count:new_anagram_pair_count, :] = outcome_word_id_list\n",
    "\n",
    "            # update the anagram pair count\n",
    "            anagram_pair_count = new_anagram_pair_count\n",
    "\n",
    "    curr_time = calc_time(time_start=start_time, round_digits=8)\n",
    "    output_time_list.append([ls_id, n_search_space, curr_time])\n",
    "\n",
    "print('...truncating output list...')\n",
    "output_indices = np.all(output_list >= 0, axis=1)\n",
    "output_list = output_list[output_indices,]\n",
    "print(output_list.shape)\n",
    "time_proc = calc_time(time_start=run_start_time, round_digits=4)\n",
    "#compute_el_time(seconds=time_proc)"
   ]
  },
  {
   "cell_type": "markdown",
   "id": "46274b1b",
   "metadata": {},
   "source": [
    "# old stuff"
   ]
  },
  {
   "cell_type": "code",
   "execution_count": null,
   "id": "815c3c6c",
   "metadata": {},
   "outputs": [],
   "source": [
    "# let's split the matrix, gather the values for each split, and then combine\n",
    "n_subset_letters = 3\n",
    "wg_df[\"letter_selector\"] = wg_df[\"letter_group_ranked\"].str[:n_subset_letters]\n",
    "\n",
    "letter_selector_list = wg_df[\"letter_selector\"].unique()\n",
    "letter_selector_list.sort()\n",
    "letter_selector_id_dict = {ls: i_ls for i_ls, ls in enumerate(letter_selector_list)}\n",
    "\n",
    "wg_df[\"letter_selector_id\"] = wg_df[\"letter_selector\"].map(letter_selector_id_dict)\n",
    "# here's the thing: I need to be able to identify on a single matrix the rows that match various conditions.\n",
    "# I can't step through it and create objects at abandon. \n",
    "# so, given our wchar_matrix: what are the rows that match to such and such?\n",
    "# we can add three columns to track this... "
   ]
  },
  {
   "cell_type": "code",
   "execution_count": null,
   "id": "0b674ad0",
   "metadata": {},
   "outputs": [],
   "source": [
    "wg_df['n_records'] = int(1)"
   ]
  },
  {
   "cell_type": "code",
   "execution_count": null,
   "id": "72050719",
   "metadata": {},
   "outputs": [],
   "source": [
    "wg_df.head()"
   ]
  },
  {
   "cell_type": "code",
   "execution_count": null,
   "id": "cff40d9c",
   "metadata": {},
   "outputs": [],
   "source": [
    "col_names = ['letter_selector_id', 'letter_selector', 'n_records']"
   ]
  },
  {
   "cell_type": "code",
   "execution_count": null,
   "id": "4425bd06",
   "metadata": {},
   "outputs": [],
   "source": [
    "ls_df = wg_df[col_names].groupby(col_names[:-1]).agg(ls_count = ('n_records', 'sum')).reset_index()"
   ]
  },
  {
   "cell_type": "code",
   "execution_count": null,
   "id": "69a73fd9",
   "metadata": {},
   "outputs": [],
   "source": [
    "ls_df.head()"
   ]
  },
  {
   "cell_type": "code",
   "execution_count": null,
   "id": "0ba1eef2",
   "metadata": {},
   "outputs": [],
   "source": [
    "def get_ls_index(ls:str):\n",
    "    return [letter_dict[l] for l in ls]"
   ]
  },
  {
   "cell_type": "code",
   "execution_count": null,
   "id": "f80d27bc",
   "metadata": {},
   "outputs": [],
   "source": [
    "# this is effectively a column selector\n",
    "ls_df['ls_index'] = ls_df['letter_selector'].map(get_ls_index)"
   ]
  },
  {
   "cell_type": "code",
   "execution_count": null,
   "id": "5739cf0f",
   "metadata": {},
   "outputs": [],
   "source": [
    "run_start_time=perf_counter_ns()\n",
    "# create the output list\n",
    "output_list = np.full(shape = (n_possible_anagrams, 2), fill_value=-1)\n",
    "output_time_list = []\n",
    "\n",
    "# start counting\n",
    "anagram_pair_count = 0\n",
    "\n",
    "#for ls_id_index in range(0, 10):\n",
    "for ls_row_id, ls_row in ls_df.iloc[:None].iterrows():    \n",
    "    if ls_row_id % 100 == 0:\n",
    "        print(ls_row_id)\n",
    "    start_time = perf_counter_ns()\n",
    "    \n",
    "    # get letter selector id information\n",
    "    ls_id = ls_row['letter_selector_id']\n",
    "    ls_id_index = np.array(ls_row['ls_index'])    \n",
    "\n",
    "    ##\n",
    "    # BUILD A COLUMN SELECTOR\n",
    "    ##\n",
    "    # make sure that only values GTE 0 are selected so that the right number of\n",
    "    # columns are return.\n",
    "    #curr_ls_id = ls_id_index[ls_id_index >= 0]\n",
    "    \n",
    "    ##\n",
    "    # SUBSET THE wchar_matrix by column selector\n",
    "    ##    \n",
    "    outcome_indices = np.all(wchar_matrix[:, ls_id_index] >= 1, axis=1)\n",
    "    \n",
    "    # this is the sub-matrix from which to query\n",
    "    ls_wchar_matrix = wchar_matrix[outcome_indices, :]\n",
    "        \n",
    "    # this is the list of word group ids that correspond to the word group ids\n",
    "    # in the ls_wchar_matrix\n",
    "    temp_wg_id_list = word_group_id_list[outcome_indices]\n",
    "    # place into a dictionary to go from wg_id to wg_index. What is the index\n",
    "    # of wg_id 675?\n",
    "    # wg_id_dict = {wg_id:wg_index for wg_index, wg_id in enumerate(temp_wg_id_list)}\n",
    "\n",
    "    # this is the number of word groups that meet certain criteria. \n",
    "    # for example, words that feature the letters: 'bro'    \n",
    "    n_search_space = temp_wg_id_list.shape[0]\n",
    "        \n",
    "    #def my_func(row):\n",
    "    #    return temp_wg_id_list[np.all(a = (ls_wchar_matrix - ls_wchar_matrix[row, :]) >= 0, axis = 1)]\n",
    "\n",
    "    #for ii in range(0, ls_wchar_matrix.shape[0]):    \n",
    "    #for i_curr_wg_id, curr_wg_id in enumerate(temp_wg_id_list):\n",
    "    # the current list of words featuring the set of least common letters.\n",
    "    # these are the words have the least common letters of 'bro'    \n",
    "    curr_wg_id_list = wg_df.loc[wg_df['letter_selector_id'] == ls_id, 'word_group_id'].to_numpy()\n",
    "    # n_lookups = curr_wg_id_list.shape[0]\n",
    "    # n_search_space >= n_lookups, always. \n",
    "    for i_curr_wg_id, curr_wg_id in enumerate(curr_wg_id_list):\n",
    "    \n",
    "        \n",
    "        #temp_wg_id = wg_id_dict[curr_wg_id]\n",
    "        temp_wg_id = np.where(temp_wg_id_list == curr_wg_id)[0][0]\n",
    "        #print(curr_wg_id, temp_wg_id)\n",
    "\n",
    "        #outcome_word_id_list = my_func(row = temp_wg_id)\n",
    "        outcome_word_id_list = temp_wg_id_list[np.all(a = (ls_wchar_matrix - ls_wchar_matrix[temp_wg_id, :]) >= 0, axis = 1)]\n",
    "                \n",
    "        n_from_words = outcome_word_id_list.shape[0]\n",
    "        \n",
    "        if n_from_words > 0:\n",
    "            outcome_word_id_list = format_output_list(outcome_word_id_list=outcome_word_id_list, wg_id=curr_wg_id)\n",
    "            #print(outcome_word_id_list.shape)\n",
    "            \n",
    "            # enumerate the from/parent words\n",
    "            new_anagram_pair_count = anagram_pair_count + n_from_words\n",
    "            #print(anagram_pair_count, new_anagram_pair_count)\n",
    "\n",
    "            output_list[anagram_pair_count:new_anagram_pair_count, :] = outcome_word_id_list\n",
    "\n",
    "            # update the anagram pair count\n",
    "            anagram_pair_count = new_anagram_pair_count\n",
    "\n",
    "    curr_time = calc_time(time_start=start_time, round_digits=8)\n",
    "    output_time_list.append([ls_id, n_search_space, curr_time])\n",
    "\n",
    "print('...truncating output list...')\n",
    "output_indices = np.all(output_list >= 0, axis=1)\n",
    "output_list = output_list[output_indices,]\n",
    "print(output_list.shape)\n",
    "time_proc = calc_time(time_start=run_start_time, round_digits=4)\n",
    "compute_elapase_time(seconds=time_proc)"
   ]
  },
  {
   "cell_type": "code",
   "execution_count": null,
   "id": "ea6049df",
   "metadata": {},
   "outputs": [],
   "source": [
    "def build_timing_and_output_objects(output_time_list:list, ls_df:pd.DataFrame):\n",
    "    \n",
    "    col_names =['letter_selector_id', 'n_search_space', 'total_time']\n",
    "    time_df = pd.DataFrame(data = output_time_list, columns=col_names)\n",
    "    get_hms(seconds = time_df['total_time'].sum(),round_seconds_digits=4)\n",
    "    # join in the other information\n",
    "    time_df = pd.merge(left = time_df, right = ls_df)    \n",
    "\n",
    "    time_df['avg_lookup_time'] = time_df['total_time'] / (time_df['ls_count'])\n",
    "\n",
    "    return time_df   "
   ]
  },
  {
   "cell_type": "code",
   "execution_count": null,
   "id": "7671104f",
   "metadata": {},
   "outputs": [],
   "source": [
    "time_df = build_timing_and_output_objects(output_time_list=output_time_list,\n",
    "                                          ls_df = ls_df)"
   ]
  },
  {
   "cell_type": "code",
   "execution_count": null,
   "id": "c2899550",
   "metadata": {},
   "outputs": [],
   "source": [
    "time_df.head()"
   ]
  },
  {
   "cell_type": "code",
   "execution_count": null,
   "id": "5c6b3aec",
   "metadata": {},
   "outputs": [],
   "source": [
    "time_df['ls_count'].describe()"
   ]
  },
  {
   "cell_type": "code",
   "execution_count": null,
   "id": "a7f45551",
   "metadata": {},
   "outputs": [],
   "source": [
    "time_df['ls_n_chars'] = time_df['letter_selector'].str.len()"
   ]
  },
  {
   "cell_type": "code",
   "execution_count": null,
   "id": "0f1b8844",
   "metadata": {},
   "outputs": [],
   "source": [
    "time_df.head()"
   ]
  },
  {
   "cell_type": "code",
   "execution_count": null,
   "id": "bc0842d3",
   "metadata": {},
   "outputs": [],
   "source": [
    "# so, what is the relationship between total time and number of characters?\n",
    "# n_search_space: the size of the letter selector\n",
    "# ls_count: the number of look-ups of a search space of that size"
   ]
  },
  {
   "cell_type": "code",
   "execution_count": null,
   "id": "c6700ad7",
   "metadata": {},
   "outputs": [],
   "source": [
    "time_df['ls_count'].sum()"
   ]
  },
  {
   "cell_type": "code",
   "execution_count": null,
   "id": "bc86d3cd",
   "metadata": {},
   "outputs": [],
   "source": [
    "time_df['n_ss_ls_ratio'] = time_df['n_search_space'] /  time_df['ls_count']"
   ]
  },
  {
   "cell_type": "code",
   "execution_count": null,
   "id": "ac529066",
   "metadata": {},
   "outputs": [],
   "source": [
    "time_df['n_ss_ls_ratio'].describe()"
   ]
  },
  {
   "cell_type": "code",
   "execution_count": null,
   "id": "97a87c97",
   "metadata": {},
   "outputs": [],
   "source": [
    "w_time_df = time_df.loc[time_df['ls_n_chars'] == 3, :].copy()"
   ]
  },
  {
   "cell_type": "code",
   "execution_count": null,
   "id": "651acaf0",
   "metadata": {},
   "outputs": [],
   "source": [
    "w_time_df['n_ss_ls_ratio'].describe()"
   ]
  },
  {
   "cell_type": "code",
   "execution_count": null,
   "id": "fd421f91",
   "metadata": {},
   "outputs": [],
   "source": [
    "w_time_df.head()"
   ]
  },
  {
   "cell_type": "code",
   "execution_count": null,
   "id": "e21ac418",
   "metadata": {},
   "outputs": [],
   "source": [
    "w_time_df['total_comps'] = w_time_df['n_search_space'] * w_time_df['ls_count']"
   ]
  },
  {
   "cell_type": "code",
   "execution_count": null,
   "id": "69c0696d",
   "metadata": {},
   "outputs": [],
   "source": [
    "w_time_df['total_comps'].describe()"
   ]
  },
  {
   "cell_type": "code",
   "execution_count": null,
   "id": "c93b6221",
   "metadata": {},
   "outputs": [],
   "source": [
    "w_time_df['total_comps_log'] = np.log10(w_time_df['total_comps'])"
   ]
  },
  {
   "cell_type": "code",
   "execution_count": null,
   "id": "b0ec7b20",
   "metadata": {},
   "outputs": [],
   "source": [
    "w_time_df['total_comps_log'].describe()"
   ]
  },
  {
   "cell_type": "code",
   "execution_count": null,
   "id": "22731bf7",
   "metadata": {},
   "outputs": [],
   "source": [
    "w_time_df['total_time'].describe()"
   ]
  },
  {
   "cell_type": "code",
   "execution_count": null,
   "id": "f29025bc",
   "metadata": {},
   "outputs": [],
   "source": [
    "w_time_df['n_ss_ls_ratio'].describe()"
   ]
  },
  {
   "cell_type": "code",
   "execution_count": null,
   "id": "1fd63808",
   "metadata": {},
   "outputs": [],
   "source": [
    "10, 100, 500, 1000, 10000, 20000, 40000"
   ]
  },
  {
   "cell_type": "code",
   "execution_count": null,
   "id": "cc7076ca",
   "metadata": {},
   "outputs": [],
   "source": [
    "w_time_df['n_ss_ls_ratio_log'] = np.log10(w_time_df['n_ss_ls_ratio'])\n",
    "w_time_df['total_time_log'] = np.log10(w_time_df['total_time'])"
   ]
  },
  {
   "cell_type": "code",
   "execution_count": null,
   "id": "7d11d354",
   "metadata": {},
   "outputs": [],
   "source": [
    "w_time_df['n_ss_ls_ratio_log'].describe()"
   ]
  },
  {
   "cell_type": "code",
   "execution_count": null,
   "id": "742eb6fe",
   "metadata": {},
   "outputs": [],
   "source": [
    "w_time_df['total_time_log'].describe()"
   ]
  },
  {
   "cell_type": "code",
   "execution_count": null,
   "id": "07a04b9a",
   "metadata": {},
   "outputs": [],
   "source": []
  },
  {
   "cell_type": "code",
   "execution_count": null,
   "id": "99061d78",
   "metadata": {},
   "outputs": [],
   "source": [
    "w_time_df['total_time'].describe()"
   ]
  },
  {
   "cell_type": "code",
   "execution_count": null,
   "id": "d2c1ed43",
   "metadata": {},
   "outputs": [],
   "source": []
  },
  {
   "cell_type": "code",
   "execution_count": null,
   "id": "0480d17b",
   "metadata": {},
   "outputs": [],
   "source": [
    "sns.set_theme(style = \"whitegrid\")\n",
    "f, ax = plt.subplots(figsize = (20, 5))\n",
    "\n",
    "# define the color map\n",
    "\n",
    "my_plot = sns.scatterplot(data=w_time_df, x=\"n_ss_ls_ratio_log\", y=\"total_time_log\",                          \n",
    "                         marker='o')\n",
    "\n",
    "y_ticks = [0.001, .05, .01, .025, .05, .1, .25, .5, 1, 1.5]\n",
    "y_ticks_log = [np.log10(yt) for yt in y_ticks]\n",
    "y_tick_labels_formatted = ['{:.3f}'.format(ytl) for ytl in y_ticks]   \n",
    "\n",
    "\n",
    "x_ticks = [10, 100, 500, 1000, 10000, 20000, 40000]\n",
    "x_ticks_log = [np.log10(xt) for xt in x_ticks]\n",
    "print(x_ticks)\n",
    "x_tick_labels_formatted = ['{:,}'.format(xtl) for xtl in x_ticks]   \n",
    "\n",
    "my_plot.set_yticks(ticks = y_ticks_log)\n",
    "my_plot.set_yticklabels(labels = y_tick_labels_formatted, rotation=0)\n",
    "\n",
    "my_plot.set_xticks(ticks = x_ticks_log)\n",
    "my_plot.set_xticklabels(labels = x_tick_labels_formatted, rotation=0)\n",
    "\n",
    "plt.title(label = \"Total time by search space size over number of lookups\")\n",
    "plt.xlabel(xlabel = 'Search space size over number of lookups')\n",
    "plt.ylabel(ylabel = \"Total Time (seconds)\")\n",
    "output_file_name = '..\\\\graphics\\\\test_graphic_total_time_by_search_space_size_over_number_of_lookups.png'\n",
    "output_file_name = os.path.normpath(output_file_name)\n",
    "print(output_file_name)\n",
    "my_plot.get_figure().savefig(fname = output_file_name)\n",
    "plt.show()"
   ]
  },
  {
   "cell_type": "code",
   "execution_count": null,
   "id": "8efa8316",
   "metadata": {},
   "outputs": [],
   "source": [
    "w_time_df.head()"
   ]
  },
  {
   "cell_type": "code",
   "execution_count": null,
   "id": "3021f05e",
   "metadata": {},
   "outputs": [],
   "source": [
    "w_time_df['avg_lookup_time'].describe()"
   ]
  },
  {
   "cell_type": "code",
   "execution_count": null,
   "id": "331b8cc1",
   "metadata": {},
   "outputs": [],
   "source": [
    "w_time_df['n_search_space'].describe()"
   ]
  },
  {
   "cell_type": "code",
   "execution_count": null,
   "id": "52854289",
   "metadata": {},
   "outputs": [],
   "source": [
    "w_time_df['n_search_space_log'] = np.log10(w_time_df['n_search_space'])\n",
    "w_time_df['avg_lookup_time_log'] = np.log10(w_time_df['avg_lookup_time'])"
   ]
  },
  {
   "cell_type": "code",
   "execution_count": null,
   "id": "94ce3c9c",
   "metadata": {},
   "outputs": [],
   "source": [
    "sns.set_theme(style = \"whitegrid\")\n",
    "f, ax = plt.subplots(figsize = (20, 5))\n",
    "\n",
    "# define the color map\n",
    "\n",
    "my_plot = sns.scatterplot(data=w_time_df, x=\"n_search_space_log\", y=\"avg_lookup_time_log\",\n",
    "                          hue='total_time',\n",
    "                         marker='o')\n",
    "\n",
    "y_ticks = [0.00001, .0001, .001, .01, .1, .2]\n",
    "y_ticks_log = [np.log10(yt) for yt in y_ticks]\n",
    "y_tick_labels_formatted = ['{:.5f}'.format(ytl) for ytl in y_ticks]   \n",
    "\n",
    "\n",
    "x_ticks = [10, 100, 500, 1000, 10000, 20000, 50000]\n",
    "x_ticks_log = [np.log10(xt) for xt in x_ticks]\n",
    "print(x_ticks)\n",
    "x_tick_labels_formatted = ['{:,}'.format(xtl) for xtl in x_ticks]   \n",
    "\n",
    "my_plot.set_yticks(ticks = y_ticks_log)\n",
    "my_plot.set_yticklabels(labels = y_tick_labels_formatted, rotation=0)\n",
    "\n",
    "my_plot.set_xticks(ticks = x_ticks_log)\n",
    "my_plot.set_xticklabels(labels = x_tick_labels_formatted, rotation=0)\n",
    "\n",
    "plt.title(label = \"Avg lookup time by search space size\")\n",
    "plt.xlabel(xlabel = 'Search space size')\n",
    "plt.ylabel(ylabel = \"Average time (seconds)\")\n",
    "output_file_name = '..\\\\graphics\\\\test_graphic_total_time_by_search_space_size_over_number_of_lookups.png'\n",
    "output_file_name = os.path.normpath(output_file_name)\n",
    "print(output_file_name)\n",
    "my_plot.get_figure().savefig(fname = output_file_name)\n",
    "plt.show()"
   ]
  },
  {
   "cell_type": "code",
   "execution_count": null,
   "id": "794e2cbc",
   "metadata": {},
   "outputs": [],
   "source": [
    "w_time_df.head()"
   ]
  },
  {
   "cell_type": "code",
   "execution_count": null,
   "id": "1004d72c",
   "metadata": {},
   "outputs": [],
   "source": [
    "sns.set_theme(style = \"whitegrid\")\n",
    "f, ax = plt.subplots(figsize = (20, 5))\n",
    "\n",
    "# define the color map\n",
    "\n",
    "my_plot = sns.scatterplot(data=w_time_df, x=\"total_comps_log\", y=\"total_time_log\",  \n",
    "                          hue='n_search_space', size = \n",
    "                         marker='o')\n",
    "\n",
    "y_ticks = [0.001, .05, .01, .025, .05, .1, .25, .5, 1, 1.5]\n",
    "y_ticks_log = [np.log10(yt) for yt in y_ticks]\n",
    "y_tick_labels_formatted = ['{:.3f}'.format(ytl) for ytl in y_ticks]   \n",
    "\n",
    "\n",
    "x_ticks = [0, 1, 2, 3, 4, 5, 6, 7, 8]\n",
    "x_ticks_log = [10 ** xt for xt in x_ticks]\n",
    "x_tick_labels_formatted = ['{:,}'.format(xtl) for xtl in x_ticks_log]   \n",
    "\n",
    "my_plot.set_yticks(ticks = y_ticks_log)\n",
    "my_plot.set_yticklabels(labels = y_tick_labels_formatted, rotation=0)\n",
    "\n",
    "my_plot.set_xticks(ticks = x_ticks)\n",
    "my_plot.set_xticklabels(labels = x_tick_labels_formatted, rotation=0)\n",
    "\n",
    "plt.title(label = \"Total time by total comps\")\n",
    "plt.xlabel(xlabel = 'Total comparisons')\n",
    "plt.ylabel(ylabel = \"Total Time (seconds)\")\n",
    "output_file_name = '..\\\\graphics\\\\test_graphic_total_time_by_total_comps.png'\n",
    "output_file_name = os.path.normpath(output_file_name)\n",
    "print(output_file_name)\n",
    "my_plot.get_figure().savefig(fname = output_file_name)\n",
    "plt.show()"
   ]
  },
  {
   "cell_type": "code",
   "execution_count": null,
   "id": "a89ac409",
   "metadata": {},
   "outputs": [],
   "source": [
    "# let's try to keep the total comps to less than 30K\n",
    "w_time_df.loc[w_time_df['total_comps'] < 30000, 'total_time'].describe()"
   ]
  },
  {
   "cell_type": "code",
   "execution_count": null,
   "id": "5e1e7c40",
   "metadata": {},
   "outputs": [],
   "source": [
    "wg_df.head()"
   ]
  },
  {
   "cell_type": "code",
   "execution_count": null,
   "id": "dea711cf",
   "metadata": {},
   "outputs": [],
   "source": [
    "ls_df.shape"
   ]
  },
  {
   "cell_type": "code",
   "execution_count": null,
   "id": "38b0190a",
   "metadata": {},
   "outputs": [],
   "source": [
    "wg_df['n_chars'].describe()"
   ]
  },
  {
   "cell_type": "code",
   "execution_count": null,
   "id": "b45d87e7",
   "metadata": {},
   "outputs": [],
   "source": [
    "n_char_split_dict = []"
   ]
  },
  {
   "cell_type": "code",
   "execution_count": null,
   "id": "281b306d",
   "metadata": {},
   "outputs": [],
   "source": [
    "# UPDATE THE SELECTORS\n",
    "# let's split the matrix, gather the values for each split, and then combine\n",
    "n_subset_letters = 4\n",
    "wg_df[\"letter_selector\"] = wg_df[\"letter_group_ranked\"].str[:n_subset_letters]\n",
    "\n",
    "letter_selector_list = wg_df[\"letter_selector\"].unique()\n",
    "letter_selector_list.sort()\n",
    "letter_selector_id_dict = {ls: i_ls for i_ls, ls in enumerate(letter_selector_list)}\n",
    "\n",
    "wg_df[\"letter_selector_id\"] = wg_df[\"letter_selector\"].map(letter_selector_id_dict)\n",
    "# here's the thing: I need to be able to identify on a single matrix the rows that match various conditions.\n",
    "# I can't step through it and create objects at abandon. \n",
    "# so, given our wchar_matrix: what are the rows that match to such and such?\n",
    "# we can add three columns to track this... "
   ]
  },
  {
   "cell_type": "code",
   "execution_count": null,
   "id": "e1a32e9e",
   "metadata": {},
   "outputs": [],
   "source": [
    "# let's get cute and compute splits for all characters!"
   ]
  },
  {
   "cell_type": "code",
   "execution_count": null,
   "id": "98325251",
   "metadata": {},
   "outputs": [],
   "source": [
    "sorted(wg_df['letter_group_ranked'].str.len().unique().tolist())"
   ]
  },
  {
   "cell_type": "code",
   "execution_count": null,
   "id": "dc862146",
   "metadata": {},
   "outputs": [],
   "source": [
    "col_names = ['letter_selector_temp', 'n_records']\n",
    "ls_df_list = []\n",
    "for ls_nchar in range(1, 17):\n",
    "    wg_df['letter_selector_temp'] = wg_df['letter_group_ranked'].str[:ls_nchar + 1]    \n",
    "    ls_df = wg_df[col_names].groupby(col_names[:-1]).agg(ls_count = ('n_records', 'sum')).reset_index()    \n",
    "    ls_df_list.append(ls_df)\n",
    "    \n",
    "tot_ls_df = pd.concat(objs=ls_df_list,axis = 0)"
   ]
  },
  {
   "cell_type": "code",
   "execution_count": null,
   "id": "18bd6ae5",
   "metadata": {},
   "outputs": [],
   "source": [
    "tot_ls_df.shape"
   ]
  },
  {
   "cell_type": "code",
   "execution_count": null,
   "id": "699c1766",
   "metadata": {},
   "outputs": [],
   "source": [
    "tot_ls_df.head()"
   ]
  },
  {
   "cell_type": "code",
   "execution_count": null,
   "id": "421e1522",
   "metadata": {},
   "outputs": [],
   "source": [
    "tot_ls_df.head()"
   ]
  },
  {
   "cell_type": "code",
   "execution_count": null,
   "id": "88ed74f4",
   "metadata": {},
   "outputs": [],
   "source": [
    "tot_ls_df.shape"
   ]
  },
  {
   "cell_type": "code",
   "execution_count": null,
   "id": "8c8bcec2",
   "metadata": {},
   "outputs": [],
   "source": [
    "tot_ls_df = tot_ls_df.drop_duplicates(subset = ['letter_selector_temp', 'ls_count'])"
   ]
  },
  {
   "cell_type": "code",
   "execution_count": null,
   "id": "ffc71861",
   "metadata": {},
   "outputs": [],
   "source": [
    "tot_ls_df.shape"
   ]
  },
  {
   "cell_type": "code",
   "execution_count": null,
   "id": "347890d7",
   "metadata": {},
   "outputs": [],
   "source": [
    "tot_ls_df.head()"
   ]
  },
  {
   "cell_type": "code",
   "execution_count": null,
   "id": "c594ec06",
   "metadata": {},
   "outputs": [],
   "source": [
    "wg_df.head()"
   ]
  },
  {
   "cell_type": "code",
   "execution_count": null,
   "id": "d8709054",
   "metadata": {},
   "outputs": [],
   "source": [
    "col_names = ['letter_selector_id', 'letter_selector', 'n_records']\n",
    "ls_df = wg_df[col_names].groupby(col_names[:-1]).agg(ls_count = ('n_records', 'sum')).reset_index()\n",
    "# this is effectively a column selector\n",
    "ls_df['ls_index'] = ls_df['letter_selector'].map(get_ls_index)"
   ]
  },
  {
   "cell_type": "code",
   "execution_count": null,
   "id": "5de101fd",
   "metadata": {},
   "outputs": [],
   "source": [
    "ls_df.shape"
   ]
  },
  {
   "cell_type": "code",
   "execution_count": null,
   "id": "e79bdd59",
   "metadata": {},
   "outputs": [],
   "source": [
    "ls_df.head()"
   ]
  },
  {
   "cell_type": "code",
   "execution_count": null,
   "id": "e3293b82",
   "metadata": {},
   "outputs": [],
   "source": [
    "tot_ls_df['ls_index'] = tot_ls_df['letter_selector_temp'].map(get_ls_index)"
   ]
  },
  {
   "cell_type": "code",
   "execution_count": null,
   "id": "4bda7bb5",
   "metadata": {},
   "outputs": [],
   "source": [
    "tot_ls_df.head()"
   ]
  },
  {
   "cell_type": "code",
   "execution_count": null,
   "id": "a8ef453d",
   "metadata": {},
   "outputs": [],
   "source": [
    "tot_ls_df = tot_ls_df.reset_index(drop=True)"
   ]
  },
  {
   "cell_type": "code",
   "execution_count": null,
   "id": "7749e8aa",
   "metadata": {},
   "outputs": [],
   "source": [
    "tot_ls_df.shape"
   ]
  },
  {
   "cell_type": "code",
   "execution_count": null,
   "id": "05c0dd87",
   "metadata": {},
   "outputs": [],
   "source": [
    "tot_ls_df.index"
   ]
  },
  {
   "cell_type": "code",
   "execution_count": null,
   "id": "d183bbda",
   "metadata": {},
   "outputs": [],
   "source": [
    "n_search_space_list = []\n",
    "for ls_row_id, ls_row in tot_ls_df.iloc[:None].iterrows():    \n",
    "    if ls_row_id % 1000 == 0:\n",
    "        print(ls_row_id)    \n",
    "    \n",
    "    # get letter selector id information    \n",
    "    ls_id_index = np.array(ls_row['ls_index'])    \n",
    "\n",
    "    ##\n",
    "    # BUILD A COLUMN SELECTOR\n",
    "    ##\n",
    "    # make sure that only values GTE 0 are selected so that the right number of\n",
    "    # columns are return.\n",
    "    #curr_ls_id = ls_id_index[ls_id_index >= 0]\n",
    "    \n",
    "    ##\n",
    "    # SUBSET THE wchar_matrix by column selector\n",
    "    ##    \n",
    "    outcome_indices = np.all(wchar_matrix[:, ls_id_index] >= 1, axis=1)\n",
    "    #print(outcome_indices.sum())\n",
    "    \n",
    "    # this is the sub-matrix from which to query\n",
    "    #ls_wchar_matrix = wchar_matrix[outcome_indices, :]\n",
    "        \n",
    "    # this is the list of word group ids that correspond to the word group ids\n",
    "    # in the ls_wchar_matrix\n",
    "    #temp_wg_id_list = word_group_id_list[outcome_indices]\n",
    "    # place into a dictionary to go from wg_id to wg_index. What is the index\n",
    "    # of wg_id 675?\n",
    "    # wg_id_dict = {wg_id:wg_index for wg_index, wg_id in enumerate(temp_wg_id_list)}\n",
    "\n",
    "    # this is the number of word groups that meet certain criteria. \n",
    "    # for example, words that feature the letters: 'bro'    \n",
    "    #n_search_space = temp_wg_id_list.shape[0]\n",
    "    n_search_space_list.append(outcome_indices.sum())"
   ]
  },
  {
   "cell_type": "code",
   "execution_count": null,
   "id": "00e5e35b",
   "metadata": {},
   "outputs": [],
   "source": [
    "tot_ls_df['n_search_space'] = n_search_space_list"
   ]
  },
  {
   "cell_type": "code",
   "execution_count": null,
   "id": "eb8758ea",
   "metadata": {},
   "outputs": [],
   "source": [
    "tot_ls_df.head()"
   ]
  },
  {
   "cell_type": "code",
   "execution_count": null,
   "id": "4dfdeec1",
   "metadata": {},
   "outputs": [],
   "source": [
    "tot_ls_df.to_csv(path_or_buf='search_space_count.csv', index = False)"
   ]
  },
  {
   "cell_type": "code",
   "execution_count": null,
   "id": "0f6b31de",
   "metadata": {},
   "outputs": [],
   "source": [
    "# try the above with cupy!\n",
    "import cupy as cp"
   ]
  },
  {
   "cell_type": "code",
   "execution_count": null,
   "id": "a37d0304",
   "metadata": {},
   "outputs": [],
   "source": [
    "wchar_matrix_cp = cp.asarray(a=wchar_matrix)"
   ]
  },
  {
   "cell_type": "code",
   "execution_count": null,
   "id": "50856776",
   "metadata": {},
   "outputs": [],
   "source": [
    "n_search_space_list = []\n",
    "for ls_row_id, ls_row in tot_ls_df.iloc[:None].iterrows():    \n",
    "    if ls_row_id % 1000 == 0:\n",
    "        print(ls_row_id)    \n",
    "    \n",
    "    # get letter selector id information    \n",
    "    ls_id_index = cp.asarray(ls_row['ls_index'])    \n",
    "\n",
    "    ##\n",
    "    # BUILD A COLUMN SELECTOR\n",
    "    ##\n",
    "    # make sure that only values GTE 0 are selected so that the right number of\n",
    "    # columns are return.\n",
    "    #curr_ls_id = ls_id_index[ls_id_index >= 0]\n",
    "    \n",
    "    ##\n",
    "    # SUBSET THE wchar_matrix by column selector\n",
    "    ##    \n",
    "    outcome_indices = cp.all(wchar_matrix_cp[:, ls_id_index] >= 1, axis=1)\n",
    "    #print(outcome_indices.sum())\n",
    "    \n",
    "    # this is the sub-matrix from which to query\n",
    "    #ls_wchar_matrix = wchar_matrix[outcome_indices, :]\n",
    "        \n",
    "    # this is the list of word group ids that correspond to the word group ids\n",
    "    # in the ls_wchar_matrix\n",
    "    #temp_wg_id_list = word_group_id_list[outcome_indices]\n",
    "    # place into a dictionary to go from wg_id to wg_index. What is the index\n",
    "    # of wg_id 675?\n",
    "    # wg_id_dict = {wg_id:wg_index for wg_index, wg_id in enumerate(temp_wg_id_list)}\n",
    "\n",
    "    # this is the number of word groups that meet certain criteria. \n",
    "    # for example, words that feature the letters: 'bro'    \n",
    "    #n_search_space = temp_wg_id_list.shape[0]\n",
    "    n_search_space_list.append(outcome_indices.sum())"
   ]
  },
  {
   "cell_type": "code",
   "execution_count": null,
   "id": "0331232d",
   "metadata": {},
   "outputs": [],
   "source": []
  },
  {
   "cell_type": "code",
   "execution_count": null,
   "id": "4cb0c0a9",
   "metadata": {},
   "outputs": [],
   "source": []
  },
  {
   "cell_type": "code",
   "execution_count": null,
   "id": "d783d564",
   "metadata": {},
   "outputs": [],
   "source": []
  },
  {
   "cell_type": "code",
   "execution_count": null,
   "id": "8b343941",
   "metadata": {},
   "outputs": [],
   "source": [
    "w_time_df.head()"
   ]
  },
  {
   "cell_type": "code",
   "execution_count": null,
   "id": "d8975a7a",
   "metadata": {},
   "outputs": [],
   "source": [
    "ls_df['n_search_space'] = n_search_space_list"
   ]
  },
  {
   "cell_type": "code",
   "execution_count": null,
   "id": "a6d201b4",
   "metadata": {},
   "outputs": [],
   "source": [
    "ls_df.head()\n"
   ]
  },
  {
   "cell_type": "code",
   "execution_count": null,
   "id": "da1da83d",
   "metadata": {},
   "outputs": [],
   "source": [
    "ls_df['ls_n_chars'] = ls_df['letter_selector'].str.len()"
   ]
  },
  {
   "cell_type": "code",
   "execution_count": null,
   "id": "39f892a0",
   "metadata": {},
   "outputs": [],
   "source": [
    "ls_df['ls_n_chars'].value_counts()"
   ]
  },
  {
   "cell_type": "code",
   "execution_count": null,
   "id": "fce096d6",
   "metadata": {},
   "outputs": [],
   "source": [
    "ls_df['total_comps'] = ls_df['ls_count'] * ls_df['n_search_space']"
   ]
  },
  {
   "cell_type": "code",
   "execution_count": null,
   "id": "980a7f1f",
   "metadata": {},
   "outputs": [],
   "source": [
    "ls_df.loc[ls_df['ls_n_chars'] >= 3, 'total_comps'].describe()"
   ]
  }
 ],
 "metadata": {
  "kernelspec": {
   "display_name": "analysis",
   "language": "python",
   "name": "python3"
  },
  "language_info": {
   "codemirror_mode": {
    "name": "ipython",
    "version": 3
   },
   "file_extension": ".py",
   "mimetype": "text/x-python",
   "name": "python",
   "nbconvert_exporter": "python",
   "pygments_lexer": "ipython3",
   "version": "3.12.7"
  }
 },
 "nbformat": 4,
 "nbformat_minor": 5
}
