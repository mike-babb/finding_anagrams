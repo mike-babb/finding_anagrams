{
 "cells": [
  {
   "cell_type": "markdown",
   "metadata": {},
   "source": [
    "# Find anagrams: part 11\n",
    "# Get the parent / child words of the top 5 word groups by character length\n",
    "## Mike Babb\n",
    "## babb.mike@outlook.com\n"
   ]
  },
  {
   "cell_type": "code",
   "execution_count": 1,
   "metadata": {},
   "outputs": [],
   "source": [
    "# standard libraries\n",
    "from collections import Counter\n",
    "import os\n",
    "import sqlite3"
   ]
  },
  {
   "cell_type": "code",
   "execution_count": 2,
   "metadata": {},
   "outputs": [],
   "source": [
    "# external\n",
    "import json\n",
    "import pandas as pd"
   ]
  },
  {
   "cell_type": "code",
   "execution_count": 3,
   "metadata": {},
   "outputs": [],
   "source": [
    "# custom\n",
    "import _run_constants as rc\n",
    "from part_00_file_db_utils import query_db\n",
    "from part_00_process_functions import *"
   ]
  },
  {
   "cell_type": "markdown",
   "metadata": {},
   "source": [
    "# WORD COUNTS BY WORD GROUP"
   ]
  },
  {
   "cell_type": "code",
   "execution_count": 4,
   "metadata": {},
   "outputs": [
    {
     "name": "stdout",
     "output_type": "stream",
     "text": [
      "...query execution took: 2.03 seconds...\n"
     ]
    }
   ],
   "source": [
    "# join in word_group_id\n",
    "sql = 'select * from word_counts;'\n",
    "word_df = query_db(sql = sql, db_path=rc.db_path, db_name=rc.db_name)"
   ]
  },
  {
   "cell_type": "code",
   "execution_count": 5,
   "metadata": {},
   "outputs": [
    {
     "data": {
      "text/html": [
       "<div>\n",
       "<style scoped>\n",
       "    .dataframe tbody tr th:only-of-type {\n",
       "        vertical-align: middle;\n",
       "    }\n",
       "\n",
       "    .dataframe tbody tr th {\n",
       "        vertical-align: top;\n",
       "    }\n",
       "\n",
       "    .dataframe thead th {\n",
       "        text-align: right;\n",
       "    }\n",
       "</style>\n",
       "<table border=\"1\" class=\"dataframe\">\n",
       "  <thead>\n",
       "    <tr style=\"text-align: right;\">\n",
       "      <th></th>\n",
       "      <th>word</th>\n",
       "      <th>lcase</th>\n",
       "      <th>n_chars</th>\n",
       "      <th>first_letter</th>\n",
       "      <th>word_id</th>\n",
       "      <th>word_group_id</th>\n",
       "      <th>letter_group</th>\n",
       "      <th>letter_group_ranked</th>\n",
       "      <th>n_from_words</th>\n",
       "      <th>n_to_words</th>\n",
       "      <th>n_from_word_groups</th>\n",
       "      <th>n_to_word_groups</th>\n",
       "    </tr>\n",
       "  </thead>\n",
       "  <tbody>\n",
       "    <tr>\n",
       "      <th>0</th>\n",
       "      <td>A</td>\n",
       "      <td>a</td>\n",
       "      <td>1</td>\n",
       "      <td>a</td>\n",
       "      <td>0</td>\n",
       "      <td>0</td>\n",
       "      <td>a</td>\n",
       "      <td>a</td>\n",
       "      <td>144511</td>\n",
       "      <td>1</td>\n",
       "      <td>133001</td>\n",
       "      <td>1</td>\n",
       "    </tr>\n",
       "    <tr>\n",
       "      <th>1</th>\n",
       "      <td>aa</td>\n",
       "      <td>aa</td>\n",
       "      <td>2</td>\n",
       "      <td>a</td>\n",
       "      <td>1</td>\n",
       "      <td>1</td>\n",
       "      <td>a</td>\n",
       "      <td>a</td>\n",
       "      <td>45451</td>\n",
       "      <td>2</td>\n",
       "      <td>43229</td>\n",
       "      <td>2</td>\n",
       "    </tr>\n",
       "    <tr>\n",
       "      <th>2</th>\n",
       "      <td>aal</td>\n",
       "      <td>aal</td>\n",
       "      <td>3</td>\n",
       "      <td>a</td>\n",
       "      <td>2</td>\n",
       "      <td>2</td>\n",
       "      <td>al</td>\n",
       "      <td>la</td>\n",
       "      <td>24276</td>\n",
       "      <td>7</td>\n",
       "      <td>23271</td>\n",
       "      <td>5</td>\n",
       "    </tr>\n",
       "    <tr>\n",
       "      <th>3</th>\n",
       "      <td>aalii</td>\n",
       "      <td>aalii</td>\n",
       "      <td>5</td>\n",
       "      <td>a</td>\n",
       "      <td>3</td>\n",
       "      <td>3</td>\n",
       "      <td>ail</td>\n",
       "      <td>lai</td>\n",
       "      <td>5358</td>\n",
       "      <td>15</td>\n",
       "      <td>5263</td>\n",
       "      <td>11</td>\n",
       "    </tr>\n",
       "    <tr>\n",
       "      <th>4</th>\n",
       "      <td>aam</td>\n",
       "      <td>aam</td>\n",
       "      <td>3</td>\n",
       "      <td>a</td>\n",
       "      <td>4</td>\n",
       "      <td>4</td>\n",
       "      <td>am</td>\n",
       "      <td>ma</td>\n",
       "      <td>14107</td>\n",
       "      <td>7</td>\n",
       "      <td>13497</td>\n",
       "      <td>5</td>\n",
       "    </tr>\n",
       "  </tbody>\n",
       "</table>\n",
       "</div>"
      ],
      "text/plain": [
       "    word  lcase  n_chars first_letter  word_id  word_group_id letter_group  \\\n",
       "0      A      a        1            a        0              0            a   \n",
       "1     aa     aa        2            a        1              1            a   \n",
       "2    aal    aal        3            a        2              2           al   \n",
       "3  aalii  aalii        5            a        3              3          ail   \n",
       "4    aam    aam        3            a        4              4           am   \n",
       "\n",
       "  letter_group_ranked  n_from_words  n_to_words  n_from_word_groups  \\\n",
       "0                   a        144511           1              133001   \n",
       "1                   a         45451           2               43229   \n",
       "2                  la         24276           7               23271   \n",
       "3                 lai          5358          15                5263   \n",
       "4                  ma         14107           7               13497   \n",
       "\n",
       "   n_to_word_groups  \n",
       "0                 1  \n",
       "1                 2  \n",
       "2                 5  \n",
       "3                11  \n",
       "4                 5  "
      ]
     },
     "execution_count": 5,
     "metadata": {},
     "output_type": "execute_result"
    }
   ],
   "source": [
    "word_df.head()"
   ]
  },
  {
   "cell_type": "code",
   "execution_count": 6,
   "metadata": {},
   "outputs": [],
   "source": [
    "# turn this into the word_group_df\n",
    "col_names = ['word_group_id', 'lcase']\n",
    "wg_df = word_df.sort_values(by = col_names).drop_duplicates(subset = 'word_group_id').copy()\n",
    "\n",
    "# dictionary of words!\n",
    "word_group_dict = {wg_id:word for wg_id, word in zip(wg_df['word_group_id'],\n",
    "                                                     wg_df['lcase'])}\n",
    "\n"
   ]
  },
  {
   "cell_type": "code",
   "execution_count": 7,
   "metadata": {},
   "outputs": [
    {
     "data": {
      "text/html": [
       "<div>\n",
       "<style scoped>\n",
       "    .dataframe tbody tr th:only-of-type {\n",
       "        vertical-align: middle;\n",
       "    }\n",
       "\n",
       "    .dataframe tbody tr th {\n",
       "        vertical-align: top;\n",
       "    }\n",
       "\n",
       "    .dataframe thead th {\n",
       "        text-align: right;\n",
       "    }\n",
       "</style>\n",
       "<table border=\"1\" class=\"dataframe\">\n",
       "  <thead>\n",
       "    <tr style=\"text-align: right;\">\n",
       "      <th></th>\n",
       "      <th>word</th>\n",
       "      <th>lcase</th>\n",
       "      <th>n_chars</th>\n",
       "      <th>first_letter</th>\n",
       "      <th>word_id</th>\n",
       "      <th>word_group_id</th>\n",
       "      <th>letter_group</th>\n",
       "      <th>letter_group_ranked</th>\n",
       "      <th>n_from_words</th>\n",
       "      <th>n_to_words</th>\n",
       "      <th>n_from_word_groups</th>\n",
       "      <th>n_to_word_groups</th>\n",
       "    </tr>\n",
       "  </thead>\n",
       "  <tbody>\n",
       "    <tr>\n",
       "      <th>0</th>\n",
       "      <td>A</td>\n",
       "      <td>a</td>\n",
       "      <td>1</td>\n",
       "      <td>a</td>\n",
       "      <td>0</td>\n",
       "      <td>0</td>\n",
       "      <td>a</td>\n",
       "      <td>a</td>\n",
       "      <td>144511</td>\n",
       "      <td>1</td>\n",
       "      <td>133001</td>\n",
       "      <td>1</td>\n",
       "    </tr>\n",
       "    <tr>\n",
       "      <th>1</th>\n",
       "      <td>aa</td>\n",
       "      <td>aa</td>\n",
       "      <td>2</td>\n",
       "      <td>a</td>\n",
       "      <td>1</td>\n",
       "      <td>1</td>\n",
       "      <td>a</td>\n",
       "      <td>a</td>\n",
       "      <td>45451</td>\n",
       "      <td>2</td>\n",
       "      <td>43229</td>\n",
       "      <td>2</td>\n",
       "    </tr>\n",
       "    <tr>\n",
       "      <th>2</th>\n",
       "      <td>aal</td>\n",
       "      <td>aal</td>\n",
       "      <td>3</td>\n",
       "      <td>a</td>\n",
       "      <td>2</td>\n",
       "      <td>2</td>\n",
       "      <td>al</td>\n",
       "      <td>la</td>\n",
       "      <td>24276</td>\n",
       "      <td>7</td>\n",
       "      <td>23271</td>\n",
       "      <td>5</td>\n",
       "    </tr>\n",
       "    <tr>\n",
       "      <th>3</th>\n",
       "      <td>aalii</td>\n",
       "      <td>aalii</td>\n",
       "      <td>5</td>\n",
       "      <td>a</td>\n",
       "      <td>3</td>\n",
       "      <td>3</td>\n",
       "      <td>ail</td>\n",
       "      <td>lai</td>\n",
       "      <td>5358</td>\n",
       "      <td>15</td>\n",
       "      <td>5263</td>\n",
       "      <td>11</td>\n",
       "    </tr>\n",
       "    <tr>\n",
       "      <th>4</th>\n",
       "      <td>aam</td>\n",
       "      <td>aam</td>\n",
       "      <td>3</td>\n",
       "      <td>a</td>\n",
       "      <td>4</td>\n",
       "      <td>4</td>\n",
       "      <td>am</td>\n",
       "      <td>ma</td>\n",
       "      <td>14107</td>\n",
       "      <td>7</td>\n",
       "      <td>13497</td>\n",
       "      <td>5</td>\n",
       "    </tr>\n",
       "  </tbody>\n",
       "</table>\n",
       "</div>"
      ],
      "text/plain": [
       "    word  lcase  n_chars first_letter  word_id  word_group_id letter_group  \\\n",
       "0      A      a        1            a        0              0            a   \n",
       "1     aa     aa        2            a        1              1            a   \n",
       "2    aal    aal        3            a        2              2           al   \n",
       "3  aalii  aalii        5            a        3              3          ail   \n",
       "4    aam    aam        3            a        4              4           am   \n",
       "\n",
       "  letter_group_ranked  n_from_words  n_to_words  n_from_word_groups  \\\n",
       "0                   a        144511           1              133001   \n",
       "1                   a         45451           2               43229   \n",
       "2                  la         24276           7               23271   \n",
       "3                 lai          5358          15                5263   \n",
       "4                  ma         14107           7               13497   \n",
       "\n",
       "   n_to_word_groups  \n",
       "0                 1  \n",
       "1                 2  \n",
       "2                 5  \n",
       "3                11  \n",
       "4                 5  "
      ]
     },
     "execution_count": 7,
     "metadata": {},
     "output_type": "execute_result"
    }
   ],
   "source": [
    "wg_df.head()"
   ]
  },
  {
   "cell_type": "code",
   "execution_count": 8,
   "metadata": {},
   "outputs": [
    {
     "data": {
      "text/plain": [
       "(215842, 12)"
      ]
     },
     "execution_count": 8,
     "metadata": {},
     "output_type": "execute_result"
    }
   ],
   "source": [
    "wg_df.shape"
   ]
  },
  {
   "cell_type": "markdown",
   "metadata": {},
   "source": [
    "# the top five words by from/to status by character length"
   ]
  },
  {
   "cell_type": "code",
   "execution_count": 9,
   "metadata": {},
   "outputs": [],
   "source": [
    "# ranks for words\n",
    "wg_df['n_from_rank'] = wg_df[['n_chars', 'n_from_words']].groupby(['n_chars']).rank(method = 'first', ascending=False)\n",
    "wg_df['n_to_rank'] = wg_df[['n_chars', 'n_to_words']].groupby(['n_chars']).rank(method = 'first',ascending=False)\n",
    "\n",
    "# melt to get the word count\n",
    "wc_df = pd.melt(frame = wg_df, id_vars = ['word_id', 'word_group_id', 'lcase', 'n_chars'],\n",
    "                  value_vars = ['n_from_words','n_to_words'],\n",
    "                  var_name = 'direction', value_name = 'n_words')\n",
    "\t\t\t\t  \n",
    "# word count\t\t\t\t  \n",
    "recode_dict = {'n_from_words':'from',\n",
    "               'n_to_words':'to'}\n",
    "\n",
    "wc_df['direction'] = wc_df['direction'].map(recode_dict)\t\t\t   \n",
    "\t\t\t\t  \n",
    "# melt to get the ranks\n",
    "rank_df = pd.melt(frame = wg_df, id_vars = ['word_id', 'word_group_id', 'lcase', 'n_chars'],\n",
    "                  value_vars = ['n_from_rank','n_to_rank'],\n",
    "                  var_name = 'direction', value_name = 'word_rank')\t\t\t  \n",
    "\t\t\t\t  \n",
    "recode_dict = {'n_from_rank':'from',\n",
    "               'n_to_rank':'to'}\n",
    "\n",
    "rank_df['direction'] = rank_df['direction'].map(recode_dict)\t\t   \n",
    "\t\t\t\t  \t\t\t\t  \n",
    "# overwrite the wg_df by joining\n",
    "wg_df = pd.merge(left = wc_df, right = rank_df)\t\t\t\t  "
   ]
  },
  {
   "cell_type": "code",
   "execution_count": 10,
   "metadata": {},
   "outputs": [
    {
     "data": {
      "text/html": [
       "<div>\n",
       "<style scoped>\n",
       "    .dataframe tbody tr th:only-of-type {\n",
       "        vertical-align: middle;\n",
       "    }\n",
       "\n",
       "    .dataframe tbody tr th {\n",
       "        vertical-align: top;\n",
       "    }\n",
       "\n",
       "    .dataframe thead th {\n",
       "        text-align: right;\n",
       "    }\n",
       "</style>\n",
       "<table border=\"1\" class=\"dataframe\">\n",
       "  <thead>\n",
       "    <tr style=\"text-align: right;\">\n",
       "      <th></th>\n",
       "      <th>word_id</th>\n",
       "      <th>word_group_id</th>\n",
       "      <th>lcase</th>\n",
       "      <th>n_chars</th>\n",
       "      <th>direction</th>\n",
       "      <th>n_words</th>\n",
       "      <th>word_rank</th>\n",
       "    </tr>\n",
       "  </thead>\n",
       "  <tbody>\n",
       "    <tr>\n",
       "      <th>0</th>\n",
       "      <td>0</td>\n",
       "      <td>0</td>\n",
       "      <td>a</td>\n",
       "      <td>1</td>\n",
       "      <td>from</td>\n",
       "      <td>144511</td>\n",
       "      <td>3.0</td>\n",
       "    </tr>\n",
       "    <tr>\n",
       "      <th>1</th>\n",
       "      <td>1</td>\n",
       "      <td>1</td>\n",
       "      <td>aa</td>\n",
       "      <td>2</td>\n",
       "      <td>from</td>\n",
       "      <td>45451</td>\n",
       "      <td>30.0</td>\n",
       "    </tr>\n",
       "    <tr>\n",
       "      <th>2</th>\n",
       "      <td>2</td>\n",
       "      <td>2</td>\n",
       "      <td>aal</td>\n",
       "      <td>3</td>\n",
       "      <td>from</td>\n",
       "      <td>24276</td>\n",
       "      <td>110.0</td>\n",
       "    </tr>\n",
       "    <tr>\n",
       "      <th>3</th>\n",
       "      <td>3</td>\n",
       "      <td>3</td>\n",
       "      <td>aalii</td>\n",
       "      <td>5</td>\n",
       "      <td>from</td>\n",
       "      <td>5358</td>\n",
       "      <td>757.0</td>\n",
       "    </tr>\n",
       "    <tr>\n",
       "      <th>4</th>\n",
       "      <td>4</td>\n",
       "      <td>4</td>\n",
       "      <td>aam</td>\n",
       "      <td>3</td>\n",
       "      <td>from</td>\n",
       "      <td>14107</td>\n",
       "      <td>284.0</td>\n",
       "    </tr>\n",
       "  </tbody>\n",
       "</table>\n",
       "</div>"
      ],
      "text/plain": [
       "   word_id  word_group_id  lcase  n_chars direction  n_words  word_rank\n",
       "0        0              0      a        1      from   144511        3.0\n",
       "1        1              1     aa        2      from    45451       30.0\n",
       "2        2              2    aal        3      from    24276      110.0\n",
       "3        3              3  aalii        5      from     5358      757.0\n",
       "4        4              4    aam        3      from    14107      284.0"
      ]
     },
     "execution_count": 10,
     "metadata": {},
     "output_type": "execute_result"
    }
   ],
   "source": [
    "wg_df.head()"
   ]
  },
  {
   "cell_type": "code",
   "execution_count": 11,
   "metadata": {},
   "outputs": [],
   "source": [
    "# select the top 5\n",
    "curr_wg_df = wg_df.loc[wg_df['word_rank'] <= 5, :].copy()"
   ]
  },
  {
   "cell_type": "code",
   "execution_count": 12,
   "metadata": {},
   "outputs": [
    {
     "data": {
      "text/plain": [
       "(240, 7)"
      ]
     },
     "execution_count": 12,
     "metadata": {},
     "output_type": "execute_result"
    }
   ],
   "source": [
    "curr_wg_df.shape"
   ]
  },
  {
   "cell_type": "code",
   "execution_count": 13,
   "metadata": {},
   "outputs": [],
   "source": [
    "# count how many words are in each word group\n",
    "word_group_id_counter = Counter(word_df['word_group_id'])"
   ]
  },
  {
   "cell_type": "code",
   "execution_count": 14,
   "metadata": {},
   "outputs": [],
   "source": [
    "curr_wg_df['word_group_size'] = curr_wg_df['word_group_id'].map(word_group_id_counter)"
   ]
  },
  {
   "cell_type": "code",
   "execution_count": 15,
   "metadata": {},
   "outputs": [
    {
     "data": {
      "text/html": [
       "<div>\n",
       "<style scoped>\n",
       "    .dataframe tbody tr th:only-of-type {\n",
       "        vertical-align: middle;\n",
       "    }\n",
       "\n",
       "    .dataframe tbody tr th {\n",
       "        vertical-align: top;\n",
       "    }\n",
       "\n",
       "    .dataframe thead th {\n",
       "        text-align: right;\n",
       "    }\n",
       "</style>\n",
       "<table border=\"1\" class=\"dataframe\">\n",
       "  <thead>\n",
       "    <tr style=\"text-align: right;\">\n",
       "      <th></th>\n",
       "      <th>word_id</th>\n",
       "      <th>word_group_id</th>\n",
       "      <th>lcase</th>\n",
       "      <th>n_chars</th>\n",
       "      <th>direction</th>\n",
       "      <th>n_words</th>\n",
       "      <th>word_rank</th>\n",
       "      <th>word_group_size</th>\n",
       "    </tr>\n",
       "  </thead>\n",
       "  <tbody>\n",
       "    <tr>\n",
       "      <th>0</th>\n",
       "      <td>0</td>\n",
       "      <td>0</td>\n",
       "      <td>a</td>\n",
       "      <td>1</td>\n",
       "      <td>from</td>\n",
       "      <td>144511</td>\n",
       "      <td>3.0</td>\n",
       "      <td>1</td>\n",
       "    </tr>\n",
       "    <tr>\n",
       "      <th>1194</th>\n",
       "      <td>1212</td>\n",
       "      <td>1194</td>\n",
       "      <td>acetoin</td>\n",
       "      <td>7</td>\n",
       "      <td>from</td>\n",
       "      <td>5188</td>\n",
       "      <td>3.0</td>\n",
       "      <td>5</td>\n",
       "    </tr>\n",
       "    <tr>\n",
       "      <th>2024</th>\n",
       "      <td>2054</td>\n",
       "      <td>2024</td>\n",
       "      <td>actioner</td>\n",
       "      <td>8</td>\n",
       "      <td>from</td>\n",
       "      <td>3206</td>\n",
       "      <td>1.0</td>\n",
       "      <td>5</td>\n",
       "    </tr>\n",
       "    <tr>\n",
       "      <th>2989</th>\n",
       "      <td>3028</td>\n",
       "      <td>2989</td>\n",
       "      <td>ae</td>\n",
       "      <td>2</td>\n",
       "      <td>from</td>\n",
       "      <td>91948</td>\n",
       "      <td>3.0</td>\n",
       "      <td>2</td>\n",
       "    </tr>\n",
       "    <tr>\n",
       "      <th>3092</th>\n",
       "      <td>3133</td>\n",
       "      <td>3092</td>\n",
       "      <td>aer</td>\n",
       "      <td>3</td>\n",
       "      <td>from</td>\n",
       "      <td>55024</td>\n",
       "      <td>1.0</td>\n",
       "      <td>5</td>\n",
       "    </tr>\n",
       "  </tbody>\n",
       "</table>\n",
       "</div>"
      ],
      "text/plain": [
       "      word_id  word_group_id     lcase  n_chars direction  n_words  word_rank  \\\n",
       "0           0              0         a        1      from   144511        3.0   \n",
       "1194     1212           1194   acetoin        7      from     5188        3.0   \n",
       "2024     2054           2024  actioner        8      from     3206        1.0   \n",
       "2989     3028           2989        ae        2      from    91948        3.0   \n",
       "3092     3133           3092       aer        3      from    55024        1.0   \n",
       "\n",
       "      word_group_size  \n",
       "0                   1  \n",
       "1194                5  \n",
       "2024                5  \n",
       "2989                2  \n",
       "3092                5  "
      ]
     },
     "execution_count": 15,
     "metadata": {},
     "output_type": "execute_result"
    }
   ],
   "source": [
    "curr_wg_df.head()"
   ]
  },
  {
   "cell_type": "code",
   "execution_count": 16,
   "metadata": {},
   "outputs": [],
   "source": [
    "# sort, select columns, and save to disk\n",
    "# this is the data that populates the grid\n",
    "curr_wg_df['word_rank'] = curr_wg_df['word_rank'].round(0).astype(int)\n",
    "\n",
    "curr_wg_df = curr_wg_df.sort_values(by = ['n_chars', 'lcase'])\n",
    "temp_output_df = curr_wg_df[['lcase', 'n_chars', 'direction', 'n_words', 'word_rank', 'word_group_size']]\n",
    "\n",
    "temp_output_df.columns = ['word', 'number of characters','direction', 'number of words', 'word rank', 'word group size']\n",
    "temp_output_df.to_json('../webpage/word_groups.json',orient='records')"
   ]
  },
  {
   "cell_type": "markdown",
   "metadata": {},
   "source": [
    "# generate the list of words for each word group"
   ]
  },
  {
   "cell_type": "code",
   "execution_count": 17,
   "metadata": {},
   "outputs": [
    {
     "data": {
      "text/plain": [
       "(240, 8)"
      ]
     },
     "execution_count": 17,
     "metadata": {},
     "output_type": "execute_result"
    }
   ],
   "source": [
    "curr_wg_df.shape"
   ]
  },
  {
   "cell_type": "code",
   "execution_count": 18,
   "metadata": {},
   "outputs": [
    {
     "data": {
      "text/html": [
       "<div>\n",
       "<style scoped>\n",
       "    .dataframe tbody tr th:only-of-type {\n",
       "        vertical-align: middle;\n",
       "    }\n",
       "\n",
       "    .dataframe tbody tr th {\n",
       "        vertical-align: top;\n",
       "    }\n",
       "\n",
       "    .dataframe thead th {\n",
       "        text-align: right;\n",
       "    }\n",
       "</style>\n",
       "<table border=\"1\" class=\"dataframe\">\n",
       "  <thead>\n",
       "    <tr style=\"text-align: right;\">\n",
       "      <th></th>\n",
       "      <th>word_id</th>\n",
       "      <th>word_group_id</th>\n",
       "      <th>lcase</th>\n",
       "      <th>n_chars</th>\n",
       "      <th>direction</th>\n",
       "      <th>n_words</th>\n",
       "      <th>word_rank</th>\n",
       "      <th>word_group_size</th>\n",
       "    </tr>\n",
       "  </thead>\n",
       "  <tbody>\n",
       "    <tr>\n",
       "      <th>0</th>\n",
       "      <td>0</td>\n",
       "      <td>0</td>\n",
       "      <td>a</td>\n",
       "      <td>1</td>\n",
       "      <td>from</td>\n",
       "      <td>144511</td>\n",
       "      <td>3</td>\n",
       "      <td>1</td>\n",
       "    </tr>\n",
       "    <tr>\n",
       "      <th>215842</th>\n",
       "      <td>0</td>\n",
       "      <td>0</td>\n",
       "      <td>a</td>\n",
       "      <td>1</td>\n",
       "      <td>to</td>\n",
       "      <td>1</td>\n",
       "      <td>1</td>\n",
       "      <td>1</td>\n",
       "    </tr>\n",
       "    <tr>\n",
       "      <th>232355</th>\n",
       "      <td>16974</td>\n",
       "      <td>16513</td>\n",
       "      <td>b</td>\n",
       "      <td>1</td>\n",
       "      <td>to</td>\n",
       "      <td>1</td>\n",
       "      <td>2</td>\n",
       "      <td>1</td>\n",
       "    </tr>\n",
       "    <tr>\n",
       "      <th>242718</th>\n",
       "      <td>27937</td>\n",
       "      <td>26876</td>\n",
       "      <td>c</td>\n",
       "      <td>1</td>\n",
       "      <td>to</td>\n",
       "      <td>1</td>\n",
       "      <td>3</td>\n",
       "      <td>1</td>\n",
       "    </tr>\n",
       "    <tr>\n",
       "      <th>261526</th>\n",
       "      <td>47720</td>\n",
       "      <td>45684</td>\n",
       "      <td>d</td>\n",
       "      <td>1</td>\n",
       "      <td>to</td>\n",
       "      <td>1</td>\n",
       "      <td>4</td>\n",
       "      <td>1</td>\n",
       "    </tr>\n",
       "  </tbody>\n",
       "</table>\n",
       "</div>"
      ],
      "text/plain": [
       "        word_id  word_group_id lcase  n_chars direction  n_words  word_rank  \\\n",
       "0             0              0     a        1      from   144511          3   \n",
       "215842        0              0     a        1        to        1          1   \n",
       "232355    16974          16513     b        1        to        1          2   \n",
       "242718    27937          26876     c        1        to        1          3   \n",
       "261526    47720          45684     d        1        to        1          4   \n",
       "\n",
       "        word_group_size  \n",
       "0                     1  \n",
       "215842                1  \n",
       "232355                1  \n",
       "242718                1  \n",
       "261526                1  "
      ]
     },
     "execution_count": 18,
     "metadata": {},
     "output_type": "execute_result"
    }
   ],
   "source": [
    "curr_wg_df.head()"
   ]
  },
  {
   "cell_type": "code",
   "execution_count": 19,
   "metadata": {},
   "outputs": [
    {
     "name": "stdout",
     "output_type": "stream",
     "text": [
      "...query execution took: 0.83 seconds...\n",
      "...query execution took: 0.69 seconds...\n"
     ]
    }
   ],
   "source": [
    "# create the from word id df\n",
    "sql = 'select word_group_id, word_id, lcase, n_chars from words;'\n",
    "fw_df = query_db(sql = sql, db_path=rc.db_path, db_name=rc.db_name)\n",
    "fw_df.columns = ['from_word_group_id', 'from_word_id', 'from_word', 'from_n_chars']\n",
    "\n",
    "# create the to word id df\n",
    "sql = 'select word_group_id, word_id, lcase, n_chars from words;'\n",
    "tw_df = query_db(sql = sql, db_path=rc.db_path, db_name=rc.db_name)\n",
    "tw_df.columns = ['to_word_group_id', 'to_word_id', 'to_word', 'to_n_chars']"
   ]
  },
  {
   "cell_type": "code",
   "execution_count": 20,
   "metadata": {},
   "outputs": [],
   "source": [
    "# output path to save the generated word lists\n",
    "word_list_output_path = '../webpage/wordlists'"
   ]
  },
  {
   "cell_type": "code",
   "execution_count": 21,
   "metadata": {},
   "outputs": [],
   "source": [
    "def build_list_of_parent_words(word_group_id: int, db_path: str, db_name: str):\n",
    "\n",
    "    # build the list of parent words\n",
    "    sql = f'select from_word_group_id, to_word_group_id from anagram_groups where to_word_group_id = {word_group_id};'\n",
    "\n",
    "    pwg_df = query_db(sql=sql, db_path=db_path, db_name=db_name)\n",
    "\n",
    "    # now, get the word list\n",
    "    sql = 'select word_id as from_word_id, word_group_id as from_word_group_id, lcase as from_word from words;'\n",
    "    word_df = query_db(sql=sql, db_path=db_path, db_name=db_name)\n",
    "    pw_df = pd.merge(left=word_df, right=pwg_df)\n",
    "\n",
    "    # let's add information to highlight the focal word\n",
    "    # select\n",
    "    col_names = ['from_word_group_id', 'from_word_id', 'from_word']\n",
    "\n",
    "    # get a single row - the focal word\n",
    "    id_df = pw_df.loc[pw_df['from_word_group_id']\n",
    "                      == word_group_id, col_names].copy()\n",
    "\n",
    "    # rename\n",
    "    id_df.columns = ['to_word_group_id', 'to_word_id', 'to_word']\n",
    "    # merge\n",
    "    pw_df = pd.merge(left=pw_df, right=id_df)\n",
    "\n",
    "    # reorder\n",
    "    col_names = ['from_word_id', 'to_word_id',\n",
    "                 'from_word_group_id', 'to_word_group_id',\n",
    "                 'from_word', 'to_word']\n",
    "\n",
    "    # drop duplicates, if any\n",
    "    pw_df = pw_df[col_names].drop_duplicates(\n",
    "        subset=['from_word_id', 'from_word_group_id', 'from_word'])\n",
    "\n",
    "    return pw_df\n"
   ]
  },
  {
   "cell_type": "code",
   "execution_count": null,
   "metadata": {},
   "outputs": [],
   "source": [
    "def build_list_of_child_words(word_group_id: int, db_path: str, db_name: str):\n",
    "\n",
    "    # build the list of parent words\n",
    "    sql = f'select from_word_group_id, to_word_group_id from anagram_groups where from_word_group_id = {word_group_id};'\n",
    "\n",
    "    cwg_df = query_db(sql=sql, db_path=db_path, db_name=db_name)\n",
    "\n",
    "    # now, get the word list\n",
    "    sql = 'select word_id as to_word_id, word_group_id as to_word_group_id, lcase as to_word from words;'\n",
    "    word_df = query_db(sql=sql, db_path=db_path, db_name=db_name)\n",
    "\n",
    "    cw_df = pd.merge(left=word_df, right=cwg_df)\n",
    "    print(cw_df.shape)\n",
    "    \n",
    "    print(cw_df.tail())\n",
    "\n",
    "    # let's add information to highlight the focal word\n",
    "    col_names = ['to_word_group_id', 'to_word_id', 'to_word']\n",
    "\n",
    "    id_df = cw_df.loc[cw_df['from_word_group_id']\n",
    "                      == word_group_id, col_names].copy()\n",
    "    #print(id_df.head())\n",
    "    \n",
    "\n",
    "    id_df.columns = ['from_word_group_id', 'from_word_id', 'from_word']\n",
    "    cw_df = pd.merge(left=cw_df, right=id_df)  \n",
    "\n",
    "    col_names = ['from_word_id', 'to_word_id',\n",
    "                 'from_word_group_id', 'to_word_group_id',\n",
    "                 'from_word', 'to_word']\n",
    "\n",
    "    cw_df = cw_df[col_names].drop_duplicates(\n",
    "        subset=['to_word_id', 'to_word_group_id', 'to_word'])\n",
    "\n",
    "    return cw_df\n"
   ]
  },
  {
   "cell_type": "code",
   "execution_count": 49,
   "metadata": {},
   "outputs": [
    {
     "data": {
      "text/plain": [
       "69032"
      ]
     },
     "execution_count": 49,
     "metadata": {},
     "output_type": "execute_result"
    }
   ],
   "source": [
    "test_word = 'formaldehydesulphoxylate'\n",
    "wg_id = word_df.loc[word_df['lcase'] == test_word, 'word_group_id'].iloc[0]\n",
    "wg_id"
   ]
  },
  {
   "cell_type": "code",
   "execution_count": 50,
   "metadata": {},
   "outputs": [
    {
     "name": "stdout",
     "output_type": "stream",
     "text": [
      "...query execution took: 0.09 seconds...\n",
      "...query execution took: 0.62 seconds...\n",
      "(8213, 4)\n",
      "      to_word_id  to_word_group_id to_word  from_word_group_id\n",
      "8208      233399            214926    yule               69032\n",
      "8209      233402            214929    yuma               69032\n",
      "8210      233412            214938    yurt               69032\n",
      "8211      233413            214939   yurta               69032\n",
      "8212      233421            214947     yus               69032\n",
      "(0, 6)\n"
     ]
    }
   ],
   "source": [
    "#pw_df = build_list_of_parent_words(word_group_id=wg_id, db_path=rc.db_path, db_name=rc.db_name)\n",
    "#print(pw_df.shape)\n",
    "cw_df = build_list_of_child_words(word_group_id=wg_id, db_path=rc.db_path, db_name=rc.db_name)\n",
    "print(cw_df.shape)"
   ]
  },
  {
   "cell_type": "code",
   "execution_count": null,
   "metadata": {},
   "outputs": [],
   "source": [
    "pw_df.head()"
   ]
  },
  {
   "cell_type": "code",
   "execution_count": null,
   "metadata": {},
   "outputs": [],
   "source": [
    "pw_df.shape"
   ]
  },
  {
   "cell_type": "code",
   "execution_count": null,
   "metadata": {},
   "outputs": [],
   "source": [
    "cw_df.shape"
   ]
  },
  {
   "cell_type": "code",
   "execution_count": null,
   "metadata": {},
   "outputs": [],
   "source": [
    "# counters\n",
    "to_word_counter = Counter()\n",
    "from_word_counter = Counter()\n",
    "for i_c, row in curr_wg_df.iterrows():\n",
    "    \n",
    "    # the current word\n",
    "    curr_word_group_id = row['word_group_id']\n",
    "    curr_word = word_group_dict[curr_word_group_id]        \n",
    "\n",
    "    if row['direction'] == 'from':\n",
    "        print('####', curr_word, 'FROM WORDS')\n",
    "        \n",
    "        pw_df = build_list_of_parent_words(word_group_id=curr_word_group_id,\n",
    "                                          db_path = rc.db_path, db_name = rc.db_name)               \n",
    "                \n",
    "        # save it\n",
    "        format_and_save_words_json(df = pw_df, r_direction='from',\n",
    "                                   curr_word=curr_word, output_path=word_list_output_path)\n",
    "        \n",
    "\n",
    "        # distinct to words\n",
    "        to_word_counter.update(pw_df['to_word_id'])\n",
    "\n",
    "\n",
    "    if row['direction'] == 'to':\n",
    "        print('####', curr_word, 'TO WORDS')        \n",
    "        \n",
    "        cw_df = build_list_of_child_words(word_group_id=curr_word_group_id,\n",
    "                                          db_path = rc.db_path, db_name = rc.db_name)        \n",
    "        \n",
    "        # save it\n",
    "        format_and_save_words_json(df = cw_df, r_direction='to',\n",
    "                                   curr_word=curr_word, output_path=word_list_output_path)\n",
    "        \n",
    "        # distinct from words\n",
    "        from_word_counter.update(cw_df['from_word_id'])\n",
    "\n",
    "    \n"
   ]
  },
  {
   "cell_type": "code",
   "execution_count": null,
   "metadata": {},
   "outputs": [],
   "source": []
  },
  {
   "cell_type": "code",
   "execution_count": null,
   "metadata": {},
   "outputs": [],
   "source": [
    "wg_df.head()"
   ]
  },
  {
   "cell_type": "code",
   "execution_count": null,
   "metadata": {},
   "outputs": [],
   "source": [
    "word_df.head()"
   ]
  },
  {
   "cell_type": "code",
   "execution_count": null,
   "metadata": {},
   "outputs": [],
   "source": [
    "# the letters in the top five from words by word length can be found in:\n",
    "print(len(from_word_counter)) \n",
    "# which is:\n",
    "print(len(from_word_counter) / word_df.shape[0])\n",
    "# of words\n",
    "\n"
   ]
  },
  {
   "cell_type": "code",
   "execution_count": null,
   "metadata": {},
   "outputs": [],
   "source": [
    "# the letters in the top five words by word length can be rearraged to spell:\n",
    "print(len(to_word_counter))\n",
    "# which is:\n",
    "print(len(to_word_counter) / word_df.shape[0])\n",
    "# of words\n"
   ]
  },
  {
   "cell_type": "code",
   "execution_count": null,
   "metadata": {},
   "outputs": [],
   "source": [
    "# what letters are represented?\n",
    "from_letter_counter = Counter()\n",
    "to_letter_counter = Counter()\n"
   ]
  },
  {
   "cell_type": "code",
   "execution_count": null,
   "metadata": {},
   "outputs": [],
   "source": [
    "for ir, row in curr_wg_df.iterrows():\n",
    "    if row['direction'] == 'from':\n",
    "        from_letter_counter.update(row['lcase'])\n",
    "    if row['direction'] == 'to':\n",
    "        to_letter_counter.update(row['lcase'])"
   ]
  },
  {
   "cell_type": "code",
   "execution_count": null,
   "metadata": {},
   "outputs": [],
   "source": [
    "from string import ascii_lowercase"
   ]
  },
  {
   "cell_type": "code",
   "execution_count": null,
   "metadata": {},
   "outputs": [],
   "source": [
    "from_letter_counter"
   ]
  },
  {
   "cell_type": "code",
   "execution_count": null,
   "metadata": {},
   "outputs": [],
   "source": [
    "set(ascii_lowercase).difference(from_letter_counter.keys())"
   ]
  },
  {
   "cell_type": "code",
   "execution_count": null,
   "metadata": {},
   "outputs": [],
   "source": [
    "curr_wg_df.shape"
   ]
  },
  {
   "cell_type": "code",
   "execution_count": null,
   "metadata": {},
   "outputs": [],
   "source": [
    "set(ascii_lowercase).difference(to_letter_counter.keys())"
   ]
  },
  {
   "cell_type": "code",
   "execution_count": null,
   "metadata": {},
   "outputs": [],
   "source": [
    "to_letter_counter"
   ]
  }
 ],
 "metadata": {
  "kernelspec": {
   "display_name": "analysis",
   "language": "python",
   "name": "python3"
  },
  "language_info": {
   "codemirror_mode": {
    "name": "ipython",
    "version": 3
   },
   "file_extension": ".py",
   "mimetype": "text/x-python",
   "name": "python",
   "nbconvert_exporter": "python",
   "pygments_lexer": "ipython3",
   "version": "3.12.7"
  }
 },
 "nbformat": 4,
 "nbformat_minor": 2
}
