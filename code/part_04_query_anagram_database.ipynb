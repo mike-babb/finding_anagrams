{
 "cells": [
  {
   "cell_type": "markdown",
   "metadata": {},
   "source": [
    "# Mike Babb\n",
    "# babb.mike@outlook.com\n",
    "# Find anagrams\n",
    "## Part 4: Query the anagram database"
   ]
  },
  {
   "cell_type": "code",
   "execution_count": 1,
   "metadata": {},
   "outputs": [],
   "source": [
    "# standard libraries\n",
    "import os"
   ]
  },
  {
   "cell_type": "code",
   "execution_count": 2,
   "metadata": {},
   "outputs": [],
   "source": [
    "# external libraries"
   ]
  },
  {
   "cell_type": "code",
   "execution_count": 3,
   "metadata": {},
   "outputs": [],
   "source": [
    "# custom librariesw\n",
    "from part_00_process_functions import query_db\n",
    "import _run_constants as rc"
   ]
  },
  {
   "cell_type": "markdown",
   "metadata": {},
   "source": [
    "### define focal word"
   ]
  },
  {
   "cell_type": "code",
   "execution_count": 4,
   "metadata": {},
   "outputs": [],
   "source": [
    "# select a focal word for testing\n",
    "focal_word = 'achiever'"
   ]
  },
  {
   "cell_type": "markdown",
   "metadata": {},
   "source": [
    "### load the list of words"
   ]
  },
  {
   "cell_type": "code",
   "execution_count": 5,
   "metadata": {},
   "outputs": [
    {
     "name": "stdout",
     "output_type": "stream",
     "text": [
      "...query execution took: 0.87 seconds...\n"
     ]
    }
   ],
   "source": [
    "sql = 'select lcase, word_id, word_group_id from word_groups;'\n",
    "word_df = query_db(sql=sql, db_path = rc.db_path, db_name = rc.db_name)"
   ]
  },
  {
   "cell_type": "code",
   "execution_count": 6,
   "metadata": {},
   "outputs": [],
   "source": [
    "# use dictionary comprehension to create a very fast lookup table\n",
    "word_id_dict = {word:(word_id, word_group_id) for word, word_id, word_group_id in \n",
    "                zip(word_df['lcase'], word_df['word_id'], word_df['word_group_id'])}\n"
   ]
  },
  {
   "cell_type": "code",
   "execution_count": 7,
   "metadata": {},
   "outputs": [],
   "source": [
    "focal_word_id, focal_word_group_id = word_id_dict[focal_word]"
   ]
  },
  {
   "cell_type": "markdown",
   "metadata": {},
   "source": [
    "### load from/parent word group id pairs"
   ]
  },
  {
   "cell_type": "code",
   "execution_count": 8,
   "metadata": {},
   "outputs": [],
   "source": [
    "sql = 'select from_word_group_id from anagram_groups where to_word_group_id = (?);'"
   ]
  },
  {
   "cell_type": "code",
   "execution_count": 9,
   "metadata": {},
   "outputs": [
    {
     "name": "stdout",
     "output_type": "stream",
     "text": [
      "...query execution took: 0.01 seconds...\n"
     ]
    }
   ],
   "source": [
    "pw_df = query_db(sql = sql, db_path = rc.db_path, db_name = rc.db_name, params = (focal_word_group_id,))"
   ]
  },
  {
   "cell_type": "code",
   "execution_count": 10,
   "metadata": {},
   "outputs": [],
   "source": [
    "# parent word dataframe\n",
    "parent_word_df = word_df.loc[word_df['word_group_id'].isin(pw_df['from_word_group_id']), ['lcase']]"
   ]
  },
  {
   "cell_type": "markdown",
   "metadata": {},
   "source": [
    "### load to/child word group id pairs"
   ]
  },
  {
   "cell_type": "code",
   "execution_count": 11,
   "metadata": {},
   "outputs": [],
   "source": [
    "# get child words\n",
    "sql = 'select to_word_group_id from anagram_groups where from_word_group_id = (?);'"
   ]
  },
  {
   "cell_type": "code",
   "execution_count": 12,
   "metadata": {},
   "outputs": [
    {
     "name": "stdout",
     "output_type": "stream",
     "text": [
      "...query execution took: 0.04 seconds...\n"
     ]
    }
   ],
   "source": [
    "cw_df = query_db(sql = sql, db_path = rc.db_path, db_name = rc.db_name, params = (focal_word_group_id,))"
   ]
  },
  {
   "cell_type": "code",
   "execution_count": 13,
   "metadata": {},
   "outputs": [],
   "source": [
    "child_word_df = word_df.loc[word_df['word_group_id'].isin(cw_df['to_word_group_id']), ['lcase']]"
   ]
  },
  {
   "cell_type": "markdown",
   "metadata": {},
   "source": [
    "### determine exact anagrams"
   ]
  },
  {
   "cell_type": "code",
   "execution_count": 14,
   "metadata": {},
   "outputs": [],
   "source": [
    "# compute exact anagrams\n",
    "pw_set = set(parent_word_df['lcase'].tolist())\n",
    "cw_set = set(child_word_df['lcase'].tolist())"
   ]
  },
  {
   "cell_type": "code",
   "execution_count": 15,
   "metadata": {},
   "outputs": [],
   "source": [
    "# compute the intersection\n",
    "ew_set = pw_set.intersection(cw_set)"
   ]
  },
  {
   "cell_type": "code",
   "execution_count": 16,
   "metadata": {},
   "outputs": [],
   "source": [
    "# now, remove the interesection from both the from and the to word group sets\n",
    "pw_set = pw_set.difference(ew_set)"
   ]
  },
  {
   "cell_type": "code",
   "execution_count": 17,
   "metadata": {},
   "outputs": [],
   "source": [
    "cw_set = cw_set.difference(ew_set)"
   ]
  },
  {
   "cell_type": "code",
   "execution_count": 18,
   "metadata": {},
   "outputs": [],
   "source": [
    "# now, remove the focal word from the exact word set\n",
    "if focal_word in ew_set:\n",
    "    ew_set.remove(focal_word)"
   ]
  },
  {
   "cell_type": "code",
   "execution_count": 19,
   "metadata": {},
   "outputs": [],
   "source": [
    "## Save the list of anagrams to disk"
   ]
  },
  {
   "cell_type": "code",
   "execution_count": 20,
   "metadata": {},
   "outputs": [],
   "source": [
    "# so, let's set up writing to disk\n",
    "out_file_name = f'{focal_word}.txt'"
   ]
  },
  {
   "cell_type": "code",
   "execution_count": 21,
   "metadata": {},
   "outputs": [],
   "source": [
    "ofpn = os.path.join(rc.word_output_file_path, out_file_name)"
   ]
  },
  {
   "cell_type": "code",
   "execution_count": 22,
   "metadata": {},
   "outputs": [],
   "source": [
    "# sort the sets and in do doing, create lists\n",
    "pw_list = sorted(pw_set)\n",
    "ew_list = sorted(ew_set)\n",
    "cw_list = sorted(cw_set)"
   ]
  },
  {
   "cell_type": "code",
   "execution_count": 23,
   "metadata": {},
   "outputs": [],
   "source": [
    "# write the from, exact, and to anagram pairs to a text file.\n",
    "with open( ofpn, 'w', newline = '') as out_file:\n",
    "    # from anagrams\n",
    "    write_line = 'Parent/From words for: ' + focal_word + '\\n'\n",
    "    out_file.writelines(write_line)\n",
    "    for pw in pw_list:\n",
    "        write_line = pw + '\\n'\n",
    "        out_file.writelines(write_line)\n",
    "    \n",
    "    # exact anagrams\n",
    "    out_file.writelines('\\n')    \n",
    "    write_line = 'Exact anagrams for: ' + focal_word + '\\n'\n",
    "    out_file.writelines(write_line)    \n",
    "    for ew in ew_list:\n",
    "        write_line = ew + '\\n'\n",
    "        out_file.writelines(write_line)\n",
    "    \n",
    "    # to anagrams\n",
    "    out_file.writelines('\\n')\n",
    "    write_line = 'Child/To words for: ' + focal_word + '\\n'\n",
    "    out_file.writelines(write_line)    \n",
    "    for cw in cw_list:\n",
    "        if len(cw) == 1:\n",
    "            write_line = '**' + cw + '** \\n'\n",
    "        else:\n",
    "            write_line = cw + '\\n'\n",
    "        out_file.writelines(write_line)      "
   ]
  },
  {
   "cell_type": "code",
   "execution_count": null,
   "metadata": {},
   "outputs": [],
   "source": []
  }
 ],
 "metadata": {
  "kernelspec": {
   "display_name": "Python 3 (ipykernel)",
   "language": "python",
   "name": "python3"
  },
  "language_info": {
   "codemirror_mode": {
    "name": "ipython",
    "version": 3
   },
   "file_extension": ".py",
   "mimetype": "text/x-python",
   "name": "python",
   "nbconvert_exporter": "python",
   "pygments_lexer": "ipython3",
   "version": "3.12.4"
  }
 },
 "nbformat": 4,
 "nbformat_minor": 4
}
