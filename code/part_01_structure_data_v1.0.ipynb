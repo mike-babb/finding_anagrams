{
 "cells": [
  {
   "cell_type": "markdown",
   "metadata": {},
   "source": [
    "# Mike Babb\n",
    "# babbm@uw.edu\n",
    "# Find Anagrams\n",
    "## Part 1: Structure the data"
   ]
  },
  {
   "cell_type": "code",
   "execution_count": 1,
   "metadata": {},
   "outputs": [],
   "source": [
    "# standard libraries - installed by default\n",
    "import collections\n",
    "import itertools\n",
    "import os\n",
    "import string"
   ]
  },
  {
   "cell_type": "code",
   "execution_count": 2,
   "metadata": {},
   "outputs": [],
   "source": [
    "# external libraries - not installed by default\n",
    "import numpy as np\n",
    "import pandas as pd"
   ]
  },
  {
   "cell_type": "code",
   "execution_count": 3,
   "metadata": {},
   "outputs": [],
   "source": [
    "# custom, user-defined functions\n",
    "from part_00_process_functions import save_pickle"
   ]
  },
  {
   "cell_type": "markdown",
   "metadata": {},
   "source": [
    "### set input and output paths"
   ]
  },
  {
   "cell_type": "code",
   "execution_count": 4,
   "metadata": {},
   "outputs": [],
   "source": [
    "# path and name of input data\n",
    "in_file_path = '/git/finding_anagrams/data/'\n",
    "in_file_name = 'words.txt'"
   ]
  },
  {
   "cell_type": "code",
   "execution_count": 5,
   "metadata": {},
   "outputs": [],
   "source": [
    "# construct the input file path\n",
    "in_fpn = os.path.join(in_file_path, in_file_name)"
   ]
  },
  {
   "cell_type": "code",
   "execution_count": 6,
   "metadata": {},
   "outputs": [],
   "source": [
    "# paths to output directories\n",
    "base_output_file_path = '/project/finding_anagrams'\n",
    "data_output_file_path = os.path.join(base_output_file_path, 'data')\n",
    "tabulation_output_file_path = os.path.join(base_output_file_path, 'tabulations')"
   ]
  },
  {
   "cell_type": "code",
   "execution_count": 7,
   "metadata": {},
   "outputs": [],
   "source": [
    "# setup the data output path\n",
    "if os.path.exists(data_output_file_path):\n",
    "    pass\n",
    "else:\n",
    "    os.makedirs(data_output_file_path)"
   ]
  },
  {
   "cell_type": "code",
   "execution_count": 8,
   "metadata": {},
   "outputs": [],
   "source": [
    "# setup the tabulation output path\n",
    "if os.path.exists(tabulation_output_file_path):\n",
    "    pass\n",
    "else:\n",
    "    os.makedirs(tabulation_output_file_path)"
   ]
  },
  {
   "cell_type": "markdown",
   "metadata": {},
   "source": [
    "### import list of words, shape data"
   ]
  },
  {
   "cell_type": "code",
   "execution_count": 9,
   "metadata": {},
   "outputs": [
    {
     "name": "stdout",
     "output_type": "stream",
     "text": [
      "...Reading in list of words...\n"
     ]
    }
   ],
   "source": [
    "# use pandas to load the data\n",
    "# htps://pandas.pydata.org/pandas-docs/stable/reference/api/pandas.read_csv.html\n",
    "print('...Reading in list of words...')\n",
    "word_df = pd.read_csv(filepath_or_buffer = in_fpn, sep = ',', header = None)"
   ]
  },
  {
   "cell_type": "code",
   "execution_count": 10,
   "metadata": {},
   "outputs": [
    {
     "data": {
      "text/html": [
       "<div>\n",
       "<style scoped>\n",
       "    .dataframe tbody tr th:only-of-type {\n",
       "        vertical-align: middle;\n",
       "    }\n",
       "\n",
       "    .dataframe tbody tr th {\n",
       "        vertical-align: top;\n",
       "    }\n",
       "\n",
       "    .dataframe thead th {\n",
       "        text-align: right;\n",
       "    }\n",
       "</style>\n",
       "<table border=\"1\" class=\"dataframe\">\n",
       "  <thead>\n",
       "    <tr style=\"text-align: right;\">\n",
       "      <th></th>\n",
       "      <th>0</th>\n",
       "    </tr>\n",
       "  </thead>\n",
       "  <tbody>\n",
       "    <tr>\n",
       "      <th>0</th>\n",
       "      <td>A</td>\n",
       "    </tr>\n",
       "    <tr>\n",
       "      <th>1</th>\n",
       "      <td>a</td>\n",
       "    </tr>\n",
       "    <tr>\n",
       "      <th>2</th>\n",
       "      <td>aa</td>\n",
       "    </tr>\n",
       "    <tr>\n",
       "      <th>3</th>\n",
       "      <td>aal</td>\n",
       "    </tr>\n",
       "    <tr>\n",
       "      <th>4</th>\n",
       "      <td>aalii</td>\n",
       "    </tr>\n",
       "  </tbody>\n",
       "</table>\n",
       "</div>"
      ],
      "text/plain": [
       "       0\n",
       "0      A\n",
       "1      a\n",
       "2     aa\n",
       "3    aal\n",
       "4  aalii"
      ]
     },
     "execution_count": 10,
     "metadata": {},
     "output_type": "execute_result"
    }
   ],
   "source": [
    "# check the first few rows\n",
    "word_df.head()"
   ]
  },
  {
   "cell_type": "code",
   "execution_count": 11,
   "metadata": {},
   "outputs": [],
   "source": [
    "# specify a a more appropriate column name\n",
    "col_names = ['word']\n",
    "word_df.columns = col_names"
   ]
  },
  {
   "cell_type": "code",
   "execution_count": 12,
   "metadata": {},
   "outputs": [
    {
     "name": "stdout",
     "output_type": "stream",
     "text": [
      "...found 235,886 words to find anagrams for...\n"
     ]
    }
   ],
   "source": [
    "# how many words are we working with?\n",
    "n_words = len(word_df)\n",
    "print('...found', '{:,}'.format(n_words), 'words to find anagrams for...')"
   ]
  },
  {
   "cell_type": "code",
   "execution_count": 13,
   "metadata": {},
   "outputs": [
    {
     "name": "stderr",
     "output_type": "stream",
     "text": [
      "<ipython-input-13-566e04bfc641>:4: DeprecationWarning: `np.str` is a deprecated alias for the builtin `str`. To silence this warning, use `str` by itself. Doing this will not modify any behavior and is safe. If you specifically wanted the numpy scalar type, use `np.str_` here.\n",
      "Deprecated in NumPy 1.20; for more details and guidance: https://numpy.org/devdocs/release/1.20.0-notes.html#deprecations\n",
      "  word_df['word'] = word_df['word'].astype(np.str)\n"
     ]
    }
   ],
   "source": [
    "# convert the only column to a string - just to be safe.\n",
    "# 'nan' is a word in the dictionary. 'nan' is an internal python value.\n",
    "# same with 'null'\n",
    "word_df['word'] = word_df['word'].astype(str)"
   ]
  },
  {
   "cell_type": "code",
   "execution_count": 14,
   "metadata": {},
   "outputs": [],
   "source": [
    "# create lower case values of the words\n",
    "word_df['lcase'] = word_df['word'].str.lower()"
   ]
  },
  {
   "cell_type": "code",
   "execution_count": 15,
   "metadata": {},
   "outputs": [],
   "source": [
    "# remove hyphens\n",
    "word_df['lcase'] = word_df['lcase'].str.replace('-', '')"
   ]
  },
  {
   "cell_type": "code",
   "execution_count": 16,
   "metadata": {},
   "outputs": [],
   "source": [
    "# and now drop duplicates, based on the lowercase version of each word\n",
    "word_df = word_df.drop_duplicates('lcase')"
   ]
  },
  {
   "cell_type": "code",
   "execution_count": 17,
   "metadata": {},
   "outputs": [],
   "source": [
    "# find word length\n",
    "word_df['n_chars'] = word_df['lcase'].str.len()"
   ]
  },
  {
   "cell_type": "code",
   "execution_count": 18,
   "metadata": {},
   "outputs": [],
   "source": [
    "# extract the first letter of each word\n",
    "word_df['first_letter'] = word_df['lcase'].str[:1]"
   ]
  },
  {
   "cell_type": "code",
   "execution_count": 19,
   "metadata": {},
   "outputs": [],
   "source": [
    "# create an index\n",
    "word_df['word_id'] = range(0, len(word_df))"
   ]
  },
  {
   "cell_type": "code",
   "execution_count": 20,
   "metadata": {},
   "outputs": [],
   "source": [
    "# add a hash id to capture the sorted letters in each word\n",
    "# use map() with a lambda function to chain several operations together\n",
    "# https://pandas.pydata.org/pandas-docs/stable/reference/api/pandas.Series.map.html\n",
    "word_df['hash_id'] = word_df['lcase'].map(lambda x: hash(''.join(sorted(x))))"
   ]
  },
  {
   "cell_type": "code",
   "execution_count": 21,
   "metadata": {},
   "outputs": [
    {
     "data": {
      "text/html": [
       "<div>\n",
       "<style scoped>\n",
       "    .dataframe tbody tr th:only-of-type {\n",
       "        vertical-align: middle;\n",
       "    }\n",
       "\n",
       "    .dataframe tbody tr th {\n",
       "        vertical-align: top;\n",
       "    }\n",
       "\n",
       "    .dataframe thead th {\n",
       "        text-align: right;\n",
       "    }\n",
       "</style>\n",
       "<table border=\"1\" class=\"dataframe\">\n",
       "  <thead>\n",
       "    <tr style=\"text-align: right;\">\n",
       "      <th></th>\n",
       "      <th>word</th>\n",
       "      <th>lcase</th>\n",
       "      <th>n_chars</th>\n",
       "      <th>first_letter</th>\n",
       "      <th>word_id</th>\n",
       "      <th>hash_id</th>\n",
       "    </tr>\n",
       "  </thead>\n",
       "  <tbody>\n",
       "    <tr>\n",
       "      <th>0</th>\n",
       "      <td>A</td>\n",
       "      <td>a</td>\n",
       "      <td>1</td>\n",
       "      <td>a</td>\n",
       "      <td>0</td>\n",
       "      <td>-9144218192760223962</td>\n",
       "    </tr>\n",
       "    <tr>\n",
       "      <th>2</th>\n",
       "      <td>aa</td>\n",
       "      <td>aa</td>\n",
       "      <td>2</td>\n",
       "      <td>a</td>\n",
       "      <td>1</td>\n",
       "      <td>4026245254588369834</td>\n",
       "    </tr>\n",
       "    <tr>\n",
       "      <th>3</th>\n",
       "      <td>aal</td>\n",
       "      <td>aal</td>\n",
       "      <td>3</td>\n",
       "      <td>a</td>\n",
       "      <td>2</td>\n",
       "      <td>8941231830840609756</td>\n",
       "    </tr>\n",
       "    <tr>\n",
       "      <th>4</th>\n",
       "      <td>aalii</td>\n",
       "      <td>aalii</td>\n",
       "      <td>5</td>\n",
       "      <td>a</td>\n",
       "      <td>3</td>\n",
       "      <td>5603671830354132068</td>\n",
       "    </tr>\n",
       "    <tr>\n",
       "      <th>5</th>\n",
       "      <td>aam</td>\n",
       "      <td>aam</td>\n",
       "      <td>3</td>\n",
       "      <td>a</td>\n",
       "      <td>4</td>\n",
       "      <td>-1994003346442777947</td>\n",
       "    </tr>\n",
       "  </tbody>\n",
       "</table>\n",
       "</div>"
      ],
      "text/plain": [
       "    word  lcase  n_chars first_letter  word_id              hash_id\n",
       "0      A      a        1            a        0 -9144218192760223962\n",
       "2     aa     aa        2            a        1  4026245254588369834\n",
       "3    aal    aal        3            a        2  8941231830840609756\n",
       "4  aalii  aalii        5            a        3  5603671830354132068\n",
       "5    aam    aam        3            a        4 -1994003346442777947"
      ]
     },
     "execution_count": 21,
     "metadata": {},
     "output_type": "execute_result"
    }
   ],
   "source": [
    "word_df.head()"
   ]
  },
  {
   "cell_type": "code",
   "execution_count": 22,
   "metadata": {},
   "outputs": [],
   "source": [
    "word_id_hash_id_df = word_df['hash_id'].drop_duplicates().to_frame()"
   ]
  },
  {
   "cell_type": "code",
   "execution_count": 23,
   "metadata": {},
   "outputs": [],
   "source": [
    "word_id_hash_id_df['word_group_id'] = range(0, len(word_id_hash_id_df))"
   ]
  },
  {
   "cell_type": "code",
   "execution_count": 24,
   "metadata": {},
   "outputs": [],
   "source": [
    "# create a dictionary of the hash values using zip\n",
    "# https://docs.python.org/3/library/functions.html#zip\n",
    "hash_id_dict = {hash_id:word_group_id for word_group_id, hash_id in zip(word_id_hash_id_df['word_group_id'], word_id_hash_id_df['hash_id'])}"
   ]
  },
  {
   "cell_type": "code",
   "execution_count": 25,
   "metadata": {},
   "outputs": [],
   "source": [
    "word_df['word_group_id'] = word_df['hash_id'].map(hash_id_dict)"
   ]
  },
  {
   "cell_type": "code",
   "execution_count": 26,
   "metadata": {},
   "outputs": [],
   "source": [
    "# drop the hash id, no longer needed\n",
    "word_df = word_df.drop('hash_id', 1)"
   ]
  },
  {
   "cell_type": "code",
   "execution_count": 27,
   "metadata": {},
   "outputs": [
    {
     "data": {
      "text/html": [
       "<div>\n",
       "<style scoped>\n",
       "    .dataframe tbody tr th:only-of-type {\n",
       "        vertical-align: middle;\n",
       "    }\n",
       "\n",
       "    .dataframe tbody tr th {\n",
       "        vertical-align: top;\n",
       "    }\n",
       "\n",
       "    .dataframe thead th {\n",
       "        text-align: right;\n",
       "    }\n",
       "</style>\n",
       "<table border=\"1\" class=\"dataframe\">\n",
       "  <thead>\n",
       "    <tr style=\"text-align: right;\">\n",
       "      <th></th>\n",
       "      <th>word</th>\n",
       "      <th>lcase</th>\n",
       "      <th>n_chars</th>\n",
       "      <th>first_letter</th>\n",
       "      <th>word_id</th>\n",
       "      <th>word_group_id</th>\n",
       "    </tr>\n",
       "  </thead>\n",
       "  <tbody>\n",
       "    <tr>\n",
       "      <th>235881</th>\n",
       "      <td>zythem</td>\n",
       "      <td>zythem</td>\n",
       "      <td>6</td>\n",
       "      <td>z</td>\n",
       "      <td>234365</td>\n",
       "      <td>215837</td>\n",
       "    </tr>\n",
       "    <tr>\n",
       "      <th>235882</th>\n",
       "      <td>Zythia</td>\n",
       "      <td>zythia</td>\n",
       "      <td>6</td>\n",
       "      <td>z</td>\n",
       "      <td>234366</td>\n",
       "      <td>215838</td>\n",
       "    </tr>\n",
       "    <tr>\n",
       "      <th>235883</th>\n",
       "      <td>zythum</td>\n",
       "      <td>zythum</td>\n",
       "      <td>6</td>\n",
       "      <td>z</td>\n",
       "      <td>234367</td>\n",
       "      <td>215839</td>\n",
       "    </tr>\n",
       "    <tr>\n",
       "      <th>235884</th>\n",
       "      <td>Zyzomys</td>\n",
       "      <td>zyzomys</td>\n",
       "      <td>7</td>\n",
       "      <td>z</td>\n",
       "      <td>234368</td>\n",
       "      <td>215840</td>\n",
       "    </tr>\n",
       "    <tr>\n",
       "      <th>235885</th>\n",
       "      <td>Zyzzogeton</td>\n",
       "      <td>zyzzogeton</td>\n",
       "      <td>10</td>\n",
       "      <td>z</td>\n",
       "      <td>234369</td>\n",
       "      <td>215841</td>\n",
       "    </tr>\n",
       "  </tbody>\n",
       "</table>\n",
       "</div>"
      ],
      "text/plain": [
       "              word       lcase  n_chars first_letter  word_id  word_group_id\n",
       "235881      zythem      zythem        6            z   234365         215837\n",
       "235882      Zythia      zythia        6            z   234366         215838\n",
       "235883      zythum      zythum        6            z   234367         215839\n",
       "235884     Zyzomys     zyzomys        7            z   234368         215840\n",
       "235885  Zyzzogeton  zyzzogeton       10            z   234369         215841"
      ]
     },
     "execution_count": 27,
     "metadata": {},
     "output_type": "execute_result"
    }
   ],
   "source": [
    "word_df.tail()"
   ]
  },
  {
   "cell_type": "code",
   "execution_count": 28,
   "metadata": {},
   "outputs": [],
   "source": [
    "# use dictionary comprehension to store the letter and the\n",
    "# index of the letter for fast look ups\n",
    "letter_dict = {l:li for li, l in enumerate(string.ascii_lowercase)}"
   ]
  },
  {
   "cell_type": "code",
   "execution_count": 29,
   "metadata": {},
   "outputs": [],
   "source": [
    "# generate a sorted list of letters from the dictionary keys\n",
    "letters = sorted(letter_dict.keys())"
   ]
  },
  {
   "cell_type": "code",
   "execution_count": 30,
   "metadata": {},
   "outputs": [],
   "source": [
    "# get the unique letters in each word and then sort those letters\n",
    "word_df['letter_group'] = word_df['lcase'].map(lambda x: ''.join(sorted(set(x))))"
   ]
  },
  {
   "cell_type": "code",
   "execution_count": 31,
   "metadata": {},
   "outputs": [
    {
     "data": {
      "text/html": [
       "<div>\n",
       "<style scoped>\n",
       "    .dataframe tbody tr th:only-of-type {\n",
       "        vertical-align: middle;\n",
       "    }\n",
       "\n",
       "    .dataframe tbody tr th {\n",
       "        vertical-align: top;\n",
       "    }\n",
       "\n",
       "    .dataframe thead th {\n",
       "        text-align: right;\n",
       "    }\n",
       "</style>\n",
       "<table border=\"1\" class=\"dataframe\">\n",
       "  <thead>\n",
       "    <tr style=\"text-align: right;\">\n",
       "      <th></th>\n",
       "      <th>word</th>\n",
       "      <th>lcase</th>\n",
       "      <th>n_chars</th>\n",
       "      <th>first_letter</th>\n",
       "      <th>word_id</th>\n",
       "      <th>word_group_id</th>\n",
       "      <th>letter_group</th>\n",
       "    </tr>\n",
       "  </thead>\n",
       "  <tbody>\n",
       "    <tr>\n",
       "      <th>0</th>\n",
       "      <td>A</td>\n",
       "      <td>a</td>\n",
       "      <td>1</td>\n",
       "      <td>a</td>\n",
       "      <td>0</td>\n",
       "      <td>0</td>\n",
       "      <td>a</td>\n",
       "    </tr>\n",
       "    <tr>\n",
       "      <th>2</th>\n",
       "      <td>aa</td>\n",
       "      <td>aa</td>\n",
       "      <td>2</td>\n",
       "      <td>a</td>\n",
       "      <td>1</td>\n",
       "      <td>1</td>\n",
       "      <td>a</td>\n",
       "    </tr>\n",
       "    <tr>\n",
       "      <th>3</th>\n",
       "      <td>aal</td>\n",
       "      <td>aal</td>\n",
       "      <td>3</td>\n",
       "      <td>a</td>\n",
       "      <td>2</td>\n",
       "      <td>2</td>\n",
       "      <td>al</td>\n",
       "    </tr>\n",
       "    <tr>\n",
       "      <th>4</th>\n",
       "      <td>aalii</td>\n",
       "      <td>aalii</td>\n",
       "      <td>5</td>\n",
       "      <td>a</td>\n",
       "      <td>3</td>\n",
       "      <td>3</td>\n",
       "      <td>ail</td>\n",
       "    </tr>\n",
       "    <tr>\n",
       "      <th>5</th>\n",
       "      <td>aam</td>\n",
       "      <td>aam</td>\n",
       "      <td>3</td>\n",
       "      <td>a</td>\n",
       "      <td>4</td>\n",
       "      <td>4</td>\n",
       "      <td>am</td>\n",
       "    </tr>\n",
       "  </tbody>\n",
       "</table>\n",
       "</div>"
      ],
      "text/plain": [
       "    word  lcase  n_chars first_letter  word_id  word_group_id letter_group\n",
       "0      A      a        1            a        0              0            a\n",
       "2     aa     aa        2            a        1              1            a\n",
       "3    aal    aal        3            a        2              2           al\n",
       "4  aalii  aalii        5            a        3              3          ail\n",
       "5    aam    aam        3            a        4              4           am"
      ]
     },
     "execution_count": 31,
     "metadata": {},
     "output_type": "execute_result"
    }
   ],
   "source": [
    "word_df.head()"
   ]
  },
  {
   "cell_type": "markdown",
   "metadata": {},
   "source": [
    "### count letter frequency"
   ]
  },
  {
   "cell_type": "code",
   "execution_count": 32,
   "metadata": {},
   "outputs": [],
   "source": [
    "# several versions of the anagram determination require subsetting by letters in each word. \n",
    "# generate those data and use a ranking technique to help with anagram group identification"
   ]
  },
  {
   "cell_type": "code",
   "execution_count": 33,
   "metadata": {},
   "outputs": [],
   "source": [
    "# use a counter object to count the occurence of each letter\n",
    "# counters are a special type of dictionary. \n",
    "# https://docs.python.org/3/library/collections.html#collections.Counter\n",
    "# very fast\n",
    "letter_counter = collections.Counter()\n",
    "# enumerate each word and then each letter\n",
    "for i_cw, curr_word in enumerate(word_df['lcase']):    \n",
    "    for i_cl, cl in enumerate(curr_word):\n",
    "        letter_counter[cl] += 1"
   ]
  },
  {
   "cell_type": "code",
   "execution_count": 34,
   "metadata": {},
   "outputs": [],
   "source": [
    "# make a dataframe from the counter object and then order from low to high\n",
    "letter_count_df = pd.DataFrame.from_dict(data=letter_counter, orient = 'index')"
   ]
  },
  {
   "cell_type": "code",
   "execution_count": 35,
   "metadata": {},
   "outputs": [],
   "source": [
    "letter_count_df = letter_count_df.reset_index()"
   ]
  },
  {
   "cell_type": "code",
   "execution_count": 36,
   "metadata": {},
   "outputs": [],
   "source": [
    "letter_count_df.columns = ['letter', 'letter_count']"
   ]
  },
  {
   "cell_type": "code",
   "execution_count": 37,
   "metadata": {},
   "outputs": [],
   "source": [
    "letter_count_df = letter_count_df.sort_values(by = 'letter_count', ascending = False)"
   ]
  },
  {
   "cell_type": "code",
   "execution_count": 38,
   "metadata": {},
   "outputs": [],
   "source": [
    "letter_count_df['rank'] = range(1, len(letter_count_df) + 1)"
   ]
  },
  {
   "cell_type": "code",
   "execution_count": 39,
   "metadata": {},
   "outputs": [],
   "source": [
    "letter_count_df['letter_percent'] = letter_count_df['letter_count'] / letter_count_df['letter_count'].sum()"
   ]
  },
  {
   "cell_type": "code",
   "execution_count": 40,
   "metadata": {},
   "outputs": [
    {
     "data": {
      "text/html": [
       "<div>\n",
       "<style scoped>\n",
       "    .dataframe tbody tr th:only-of-type {\n",
       "        vertical-align: middle;\n",
       "    }\n",
       "\n",
       "    .dataframe tbody tr th {\n",
       "        vertical-align: top;\n",
       "    }\n",
       "\n",
       "    .dataframe thead th {\n",
       "        text-align: right;\n",
       "    }\n",
       "</style>\n",
       "<table border=\"1\" class=\"dataframe\">\n",
       "  <thead>\n",
       "    <tr style=\"text-align: right;\">\n",
       "      <th></th>\n",
       "      <th>letter</th>\n",
       "      <th>letter_count</th>\n",
       "      <th>rank</th>\n",
       "      <th>letter_percent</th>\n",
       "    </tr>\n",
       "  </thead>\n",
       "  <tbody>\n",
       "    <tr>\n",
       "      <th>14</th>\n",
       "      <td>e</td>\n",
       "      <td>234526</td>\n",
       "      <td>1</td>\n",
       "      <td>0.104326</td>\n",
       "    </tr>\n",
       "    <tr>\n",
       "      <th>2</th>\n",
       "      <td>i</td>\n",
       "      <td>200272</td>\n",
       "      <td>2</td>\n",
       "      <td>0.089089</td>\n",
       "    </tr>\n",
       "    <tr>\n",
       "      <th>0</th>\n",
       "      <td>a</td>\n",
       "      <td>198359</td>\n",
       "      <td>3</td>\n",
       "      <td>0.088238</td>\n",
       "    </tr>\n",
       "    <tr>\n",
       "      <th>10</th>\n",
       "      <td>o</td>\n",
       "      <td>170115</td>\n",
       "      <td>4</td>\n",
       "      <td>0.075674</td>\n",
       "    </tr>\n",
       "    <tr>\n",
       "      <th>5</th>\n",
       "      <td>r</td>\n",
       "      <td>160284</td>\n",
       "      <td>5</td>\n",
       "      <td>0.071301</td>\n",
       "    </tr>\n",
       "    <tr>\n",
       "      <th>4</th>\n",
       "      <td>n</td>\n",
       "      <td>158116</td>\n",
       "      <td>6</td>\n",
       "      <td>0.070336</td>\n",
       "    </tr>\n",
       "    <tr>\n",
       "      <th>13</th>\n",
       "      <td>t</td>\n",
       "      <td>152237</td>\n",
       "      <td>7</td>\n",
       "      <td>0.067721</td>\n",
       "    </tr>\n",
       "    <tr>\n",
       "      <th>19</th>\n",
       "      <td>s</td>\n",
       "      <td>138993</td>\n",
       "      <td>8</td>\n",
       "      <td>0.061829</td>\n",
       "    </tr>\n",
       "    <tr>\n",
       "      <th>1</th>\n",
       "      <td>l</td>\n",
       "      <td>129962</td>\n",
       "      <td>9</td>\n",
       "      <td>0.057812</td>\n",
       "    </tr>\n",
       "    <tr>\n",
       "      <th>12</th>\n",
       "      <td>c</td>\n",
       "      <td>103021</td>\n",
       "      <td>10</td>\n",
       "      <td>0.045828</td>\n",
       "    </tr>\n",
       "    <tr>\n",
       "      <th>15</th>\n",
       "      <td>u</td>\n",
       "      <td>87021</td>\n",
       "      <td>11</td>\n",
       "      <td>0.038710</td>\n",
       "    </tr>\n",
       "    <tr>\n",
       "      <th>20</th>\n",
       "      <td>p</td>\n",
       "      <td>77879</td>\n",
       "      <td>12</td>\n",
       "      <td>0.034644</td>\n",
       "    </tr>\n",
       "    <tr>\n",
       "      <th>3</th>\n",
       "      <td>m</td>\n",
       "      <td>70358</td>\n",
       "      <td>13</td>\n",
       "      <td>0.031298</td>\n",
       "    </tr>\n",
       "    <tr>\n",
       "      <th>6</th>\n",
       "      <td>d</td>\n",
       "      <td>67966</td>\n",
       "      <td>14</td>\n",
       "      <td>0.030234</td>\n",
       "    </tr>\n",
       "    <tr>\n",
       "      <th>17</th>\n",
       "      <td>h</td>\n",
       "      <td>64115</td>\n",
       "      <td>15</td>\n",
       "      <td>0.028521</td>\n",
       "    </tr>\n",
       "    <tr>\n",
       "      <th>18</th>\n",
       "      <td>y</td>\n",
       "      <td>51475</td>\n",
       "      <td>16</td>\n",
       "      <td>0.022898</td>\n",
       "    </tr>\n",
       "    <tr>\n",
       "      <th>21</th>\n",
       "      <td>g</td>\n",
       "      <td>46889</td>\n",
       "      <td>17</td>\n",
       "      <td>0.020858</td>\n",
       "    </tr>\n",
       "    <tr>\n",
       "      <th>16</th>\n",
       "      <td>b</td>\n",
       "      <td>40214</td>\n",
       "      <td>18</td>\n",
       "      <td>0.017889</td>\n",
       "    </tr>\n",
       "    <tr>\n",
       "      <th>11</th>\n",
       "      <td>f</td>\n",
       "      <td>24104</td>\n",
       "      <td>19</td>\n",
       "      <td>0.010722</td>\n",
       "    </tr>\n",
       "    <tr>\n",
       "      <th>7</th>\n",
       "      <td>v</td>\n",
       "      <td>20109</td>\n",
       "      <td>20</td>\n",
       "      <td>0.008945</td>\n",
       "    </tr>\n",
       "    <tr>\n",
       "      <th>8</th>\n",
       "      <td>k</td>\n",
       "      <td>16032</td>\n",
       "      <td>21</td>\n",
       "      <td>0.007132</td>\n",
       "    </tr>\n",
       "    <tr>\n",
       "      <th>9</th>\n",
       "      <td>w</td>\n",
       "      <td>13803</td>\n",
       "      <td>22</td>\n",
       "      <td>0.006140</td>\n",
       "    </tr>\n",
       "    <tr>\n",
       "      <th>22</th>\n",
       "      <td>z</td>\n",
       "      <td>8428</td>\n",
       "      <td>23</td>\n",
       "      <td>0.003749</td>\n",
       "    </tr>\n",
       "    <tr>\n",
       "      <th>23</th>\n",
       "      <td>x</td>\n",
       "      <td>6898</td>\n",
       "      <td>24</td>\n",
       "      <td>0.003068</td>\n",
       "    </tr>\n",
       "    <tr>\n",
       "      <th>25</th>\n",
       "      <td>q</td>\n",
       "      <td>3717</td>\n",
       "      <td>25</td>\n",
       "      <td>0.001653</td>\n",
       "    </tr>\n",
       "    <tr>\n",
       "      <th>24</th>\n",
       "      <td>j</td>\n",
       "      <td>3112</td>\n",
       "      <td>26</td>\n",
       "      <td>0.001384</td>\n",
       "    </tr>\n",
       "  </tbody>\n",
       "</table>\n",
       "</div>"
      ],
      "text/plain": [
       "   letter  letter_count  rank  letter_percent\n",
       "14      e        234526     1        0.104326\n",
       "2       i        200272     2        0.089089\n",
       "0       a        198359     3        0.088238\n",
       "10      o        170115     4        0.075674\n",
       "5       r        160284     5        0.071301\n",
       "4       n        158116     6        0.070336\n",
       "13      t        152237     7        0.067721\n",
       "19      s        138993     8        0.061829\n",
       "1       l        129962     9        0.057812\n",
       "12      c        103021    10        0.045828\n",
       "15      u         87021    11        0.038710\n",
       "20      p         77879    12        0.034644\n",
       "3       m         70358    13        0.031298\n",
       "6       d         67966    14        0.030234\n",
       "17      h         64115    15        0.028521\n",
       "18      y         51475    16        0.022898\n",
       "21      g         46889    17        0.020858\n",
       "16      b         40214    18        0.017889\n",
       "11      f         24104    19        0.010722\n",
       "7       v         20109    20        0.008945\n",
       "8       k         16032    21        0.007132\n",
       "9       w         13803    22        0.006140\n",
       "22      z          8428    23        0.003749\n",
       "23      x          6898    24        0.003068\n",
       "25      q          3717    25        0.001653\n",
       "24      j          3112    26        0.001384"
      ]
     },
     "execution_count": 40,
     "metadata": {},
     "output_type": "execute_result"
    }
   ],
   "source": [
    "letter_count_df.head(n=30)\n",
    "# j is the least common letter while e is the most common letter"
   ]
  },
  {
   "cell_type": "code",
   "execution_count": 41,
   "metadata": {},
   "outputs": [],
   "source": [
    "# join with the count of words that start with a focal letter. "
   ]
  },
  {
   "cell_type": "code",
   "execution_count": 42,
   "metadata": {},
   "outputs": [],
   "source": [
    "word_count_df = word_df['first_letter'].groupby(word_df['first_letter']).agg(np.size).to_frame()"
   ]
  },
  {
   "cell_type": "code",
   "execution_count": 43,
   "metadata": {},
   "outputs": [],
   "source": [
    "word_count_df.columns = ['n_words']"
   ]
  },
  {
   "cell_type": "code",
   "execution_count": 44,
   "metadata": {},
   "outputs": [],
   "source": [
    "word_count_df = word_count_df.reset_index()"
   ]
  },
  {
   "cell_type": "code",
   "execution_count": 45,
   "metadata": {},
   "outputs": [],
   "source": [
    "word_count_df['word_percent'] = word_count_df['n_words'] / word_count_df['n_words'].sum()"
   ]
  },
  {
   "cell_type": "code",
   "execution_count": 46,
   "metadata": {},
   "outputs": [
    {
     "data": {
      "text/html": [
       "<div>\n",
       "<style scoped>\n",
       "    .dataframe tbody tr th:only-of-type {\n",
       "        vertical-align: middle;\n",
       "    }\n",
       "\n",
       "    .dataframe tbody tr th {\n",
       "        vertical-align: top;\n",
       "    }\n",
       "\n",
       "    .dataframe thead th {\n",
       "        text-align: right;\n",
       "    }\n",
       "</style>\n",
       "<table border=\"1\" class=\"dataframe\">\n",
       "  <thead>\n",
       "    <tr style=\"text-align: right;\">\n",
       "      <th></th>\n",
       "      <th>first_letter</th>\n",
       "      <th>n_words</th>\n",
       "      <th>word_percent</th>\n",
       "    </tr>\n",
       "  </thead>\n",
       "  <tbody>\n",
       "    <tr>\n",
       "      <th>0</th>\n",
       "      <td>a</td>\n",
       "      <td>16974</td>\n",
       "      <td>0.072424</td>\n",
       "    </tr>\n",
       "    <tr>\n",
       "      <th>1</th>\n",
       "      <td>b</td>\n",
       "      <td>10963</td>\n",
       "      <td>0.046776</td>\n",
       "    </tr>\n",
       "    <tr>\n",
       "      <th>2</th>\n",
       "      <td>c</td>\n",
       "      <td>19783</td>\n",
       "      <td>0.084409</td>\n",
       "    </tr>\n",
       "    <tr>\n",
       "      <th>3</th>\n",
       "      <td>d</td>\n",
       "      <td>10849</td>\n",
       "      <td>0.046290</td>\n",
       "    </tr>\n",
       "    <tr>\n",
       "      <th>4</th>\n",
       "      <td>e</td>\n",
       "      <td>8703</td>\n",
       "      <td>0.037134</td>\n",
       "    </tr>\n",
       "  </tbody>\n",
       "</table>\n",
       "</div>"
      ],
      "text/plain": [
       "  first_letter  n_words  word_percent\n",
       "0            a    16974      0.072424\n",
       "1            b    10963      0.046776\n",
       "2            c    19783      0.084409\n",
       "3            d    10849      0.046290\n",
       "4            e     8703      0.037134"
      ]
     },
     "execution_count": 46,
     "metadata": {},
     "output_type": "execute_result"
    }
   ],
   "source": [
    "word_count_df.head()"
   ]
  },
  {
   "cell_type": "code",
   "execution_count": 47,
   "metadata": {},
   "outputs": [
    {
     "data": {
      "text/html": [
       "<div>\n",
       "<style scoped>\n",
       "    .dataframe tbody tr th:only-of-type {\n",
       "        vertical-align: middle;\n",
       "    }\n",
       "\n",
       "    .dataframe tbody tr th {\n",
       "        vertical-align: top;\n",
       "    }\n",
       "\n",
       "    .dataframe thead th {\n",
       "        text-align: right;\n",
       "    }\n",
       "</style>\n",
       "<table border=\"1\" class=\"dataframe\">\n",
       "  <thead>\n",
       "    <tr style=\"text-align: right;\">\n",
       "      <th></th>\n",
       "      <th>letter</th>\n",
       "      <th>letter_count</th>\n",
       "      <th>rank</th>\n",
       "      <th>letter_percent</th>\n",
       "    </tr>\n",
       "  </thead>\n",
       "  <tbody>\n",
       "    <tr>\n",
       "      <th>14</th>\n",
       "      <td>e</td>\n",
       "      <td>234526</td>\n",
       "      <td>1</td>\n",
       "      <td>0.104326</td>\n",
       "    </tr>\n",
       "    <tr>\n",
       "      <th>2</th>\n",
       "      <td>i</td>\n",
       "      <td>200272</td>\n",
       "      <td>2</td>\n",
       "      <td>0.089089</td>\n",
       "    </tr>\n",
       "    <tr>\n",
       "      <th>0</th>\n",
       "      <td>a</td>\n",
       "      <td>198359</td>\n",
       "      <td>3</td>\n",
       "      <td>0.088238</td>\n",
       "    </tr>\n",
       "    <tr>\n",
       "      <th>10</th>\n",
       "      <td>o</td>\n",
       "      <td>170115</td>\n",
       "      <td>4</td>\n",
       "      <td>0.075674</td>\n",
       "    </tr>\n",
       "    <tr>\n",
       "      <th>5</th>\n",
       "      <td>r</td>\n",
       "      <td>160284</td>\n",
       "      <td>5</td>\n",
       "      <td>0.071301</td>\n",
       "    </tr>\n",
       "  </tbody>\n",
       "</table>\n",
       "</div>"
      ],
      "text/plain": [
       "   letter  letter_count  rank  letter_percent\n",
       "14      e        234526     1        0.104326\n",
       "2       i        200272     2        0.089089\n",
       "0       a        198359     3        0.088238\n",
       "10      o        170115     4        0.075674\n",
       "5       r        160284     5        0.071301"
      ]
     },
     "execution_count": 47,
     "metadata": {},
     "output_type": "execute_result"
    }
   ],
   "source": [
    "letter_count_df.head()"
   ]
  },
  {
   "cell_type": "code",
   "execution_count": 48,
   "metadata": {},
   "outputs": [],
   "source": [
    "word_count_df = word_count_df.sort_values(by='n_words', ascending = False)"
   ]
  },
  {
   "cell_type": "code",
   "execution_count": 49,
   "metadata": {},
   "outputs": [],
   "source": [
    "word_count_df['word_count_rank'] = range(1, len(word_count_df) + 1)"
   ]
  },
  {
   "cell_type": "code",
   "execution_count": 50,
   "metadata": {},
   "outputs": [],
   "source": [
    "# joins\n",
    "letter_count_df = pd.merge(left=letter_count_df, right = word_count_df,\n",
    "                          left_on=['letter'], right_on = ['first_letter'])"
   ]
  },
  {
   "cell_type": "code",
   "execution_count": 51,
   "metadata": {},
   "outputs": [],
   "source": [
    "letter_count_df = letter_count_df.drop('first_letter', axis = 1)"
   ]
  },
  {
   "cell_type": "code",
   "execution_count": 52,
   "metadata": {},
   "outputs": [
    {
     "data": {
      "text/html": [
       "<div>\n",
       "<style scoped>\n",
       "    .dataframe tbody tr th:only-of-type {\n",
       "        vertical-align: middle;\n",
       "    }\n",
       "\n",
       "    .dataframe tbody tr th {\n",
       "        vertical-align: top;\n",
       "    }\n",
       "\n",
       "    .dataframe thead th {\n",
       "        text-align: right;\n",
       "    }\n",
       "</style>\n",
       "<table border=\"1\" class=\"dataframe\">\n",
       "  <thead>\n",
       "    <tr style=\"text-align: right;\">\n",
       "      <th></th>\n",
       "      <th>letter</th>\n",
       "      <th>letter_count</th>\n",
       "      <th>rank</th>\n",
       "      <th>letter_percent</th>\n",
       "      <th>n_words</th>\n",
       "      <th>word_percent</th>\n",
       "      <th>word_count_rank</th>\n",
       "    </tr>\n",
       "  </thead>\n",
       "  <tbody>\n",
       "    <tr>\n",
       "      <th>0</th>\n",
       "      <td>e</td>\n",
       "      <td>234526</td>\n",
       "      <td>1</td>\n",
       "      <td>0.104326</td>\n",
       "      <td>8703</td>\n",
       "      <td>0.037134</td>\n",
       "      <td>13</td>\n",
       "    </tr>\n",
       "    <tr>\n",
       "      <th>1</th>\n",
       "      <td>i</td>\n",
       "      <td>200272</td>\n",
       "      <td>2</td>\n",
       "      <td>0.089089</td>\n",
       "      <td>8786</td>\n",
       "      <td>0.037488</td>\n",
       "      <td>12</td>\n",
       "    </tr>\n",
       "    <tr>\n",
       "      <th>2</th>\n",
       "      <td>a</td>\n",
       "      <td>198359</td>\n",
       "      <td>3</td>\n",
       "      <td>0.088238</td>\n",
       "      <td>16974</td>\n",
       "      <td>0.072424</td>\n",
       "      <td>4</td>\n",
       "    </tr>\n",
       "    <tr>\n",
       "      <th>3</th>\n",
       "      <td>o</td>\n",
       "      <td>170115</td>\n",
       "      <td>4</td>\n",
       "      <td>0.075674</td>\n",
       "      <td>7830</td>\n",
       "      <td>0.033409</td>\n",
       "      <td>14</td>\n",
       "    </tr>\n",
       "    <tr>\n",
       "      <th>4</th>\n",
       "      <td>r</td>\n",
       "      <td>160284</td>\n",
       "      <td>5</td>\n",
       "      <td>0.071301</td>\n",
       "      <td>9613</td>\n",
       "      <td>0.041016</td>\n",
       "      <td>10</td>\n",
       "    </tr>\n",
       "  </tbody>\n",
       "</table>\n",
       "</div>"
      ],
      "text/plain": [
       "  letter  letter_count  rank  letter_percent  n_words  word_percent  \\\n",
       "0      e        234526     1        0.104326     8703      0.037134   \n",
       "1      i        200272     2        0.089089     8786      0.037488   \n",
       "2      a        198359     3        0.088238    16974      0.072424   \n",
       "3      o        170115     4        0.075674     7830      0.033409   \n",
       "4      r        160284     5        0.071301     9613      0.041016   \n",
       "\n",
       "   word_count_rank  \n",
       "0               13  \n",
       "1               12  \n",
       "2                4  \n",
       "3               14  \n",
       "4               10  "
      ]
     },
     "execution_count": 52,
     "metadata": {},
     "output_type": "execute_result"
    }
   ],
   "source": [
    "letter_count_df.head()"
   ]
  },
  {
   "cell_type": "code",
   "execution_count": 53,
   "metadata": {},
   "outputs": [],
   "source": [
    "# sort and reorder the columns\n",
    "letter_count_df = letter_count_df.sort_values(by = 'letter')\n",
    "col_names = ['letter','letter_count','letter_percent','rank','n_words','word_percent','word_count_rank']\n",
    "letter_count_df = letter_count_df[col_names]"
   ]
  },
  {
   "cell_type": "code",
   "execution_count": 54,
   "metadata": {},
   "outputs": [],
   "source": [
    "# place the letter and its rank into a dictionary \n",
    "# as well as the rank and the corresponding letter\n",
    "# {'k':21, 21:'k'}\n",
    "letter_count_rank_dict = {}\n",
    "for cl, clr in zip(letter_count_df['letter'], letter_count_df['rank']):\n",
    "    letter_count_rank_dict[cl] = clr\n",
    "    letter_count_rank_dict[clr] = cl"
   ]
  },
  {
   "cell_type": "code",
   "execution_count": 55,
   "metadata": {},
   "outputs": [
    {
     "data": {
      "text/plain": [
       "'k'"
      ]
     },
     "execution_count": 55,
     "metadata": {},
     "output_type": "execute_result"
    }
   ],
   "source": [
    "# what letter is ranked 21st?\n",
    "letter_count_rank_dict[21]"
   ]
  },
  {
   "cell_type": "code",
   "execution_count": 56,
   "metadata": {},
   "outputs": [
    {
     "data": {
      "text/plain": [
       "21"
      ]
     },
     "execution_count": 56,
     "metadata": {},
     "output_type": "execute_result"
    }
   ],
   "source": [
    "# what is the rank of letter k?\n",
    "letter_count_rank_dict['k']"
   ]
  },
  {
   "cell_type": "code",
   "execution_count": 57,
   "metadata": {},
   "outputs": [],
   "source": [
    "# write a function to order the unique letters in each word by\n",
    "# least common letter to most common letter\n",
    "def get_least_common_letters(x):    \n",
    "    if len(x) == 1:\n",
    "        lcl = x\n",
    "    else:\n",
    "        # ranking of each letter\n",
    "        rank_list = [letter_count_rank_dict[curr_letter] for curr_letter in x]        \n",
    "        # sort the ranking\n",
    "        rank_list = sorted(rank_list, reverse = True)\n",
    "        # generate the letters sorted by rank\n",
    "        rank_list = [letter_count_rank_dict[curr_letter] for curr_letter in rank_list]\n",
    "        lcl = ''.join(rank_list)\n",
    "    return lcl\n",
    "    "
   ]
  },
  {
   "cell_type": "code",
   "execution_count": 58,
   "metadata": {},
   "outputs": [],
   "source": [
    "# extract letters by ranking\n",
    "word_df['letter_group_ranked'] = word_df['letter_group'].map(get_least_common_letters)"
   ]
  },
  {
   "cell_type": "code",
   "execution_count": 59,
   "metadata": {},
   "outputs": [
    {
     "data": {
      "text/html": [
       "<div>\n",
       "<style scoped>\n",
       "    .dataframe tbody tr th:only-of-type {\n",
       "        vertical-align: middle;\n",
       "    }\n",
       "\n",
       "    .dataframe tbody tr th {\n",
       "        vertical-align: top;\n",
       "    }\n",
       "\n",
       "    .dataframe thead th {\n",
       "        text-align: right;\n",
       "    }\n",
       "</style>\n",
       "<table border=\"1\" class=\"dataframe\">\n",
       "  <thead>\n",
       "    <tr style=\"text-align: right;\">\n",
       "      <th></th>\n",
       "      <th>word</th>\n",
       "      <th>lcase</th>\n",
       "      <th>n_chars</th>\n",
       "      <th>first_letter</th>\n",
       "      <th>word_id</th>\n",
       "      <th>word_group_id</th>\n",
       "      <th>letter_group</th>\n",
       "      <th>letter_group_ranked</th>\n",
       "    </tr>\n",
       "  </thead>\n",
       "  <tbody>\n",
       "    <tr>\n",
       "      <th>235881</th>\n",
       "      <td>zythem</td>\n",
       "      <td>zythem</td>\n",
       "      <td>6</td>\n",
       "      <td>z</td>\n",
       "      <td>234365</td>\n",
       "      <td>215837</td>\n",
       "      <td>ehmtyz</td>\n",
       "      <td>zyhmte</td>\n",
       "    </tr>\n",
       "    <tr>\n",
       "      <th>235882</th>\n",
       "      <td>Zythia</td>\n",
       "      <td>zythia</td>\n",
       "      <td>6</td>\n",
       "      <td>z</td>\n",
       "      <td>234366</td>\n",
       "      <td>215838</td>\n",
       "      <td>ahityz</td>\n",
       "      <td>zyhtai</td>\n",
       "    </tr>\n",
       "    <tr>\n",
       "      <th>235883</th>\n",
       "      <td>zythum</td>\n",
       "      <td>zythum</td>\n",
       "      <td>6</td>\n",
       "      <td>z</td>\n",
       "      <td>234367</td>\n",
       "      <td>215839</td>\n",
       "      <td>hmtuyz</td>\n",
       "      <td>zyhmut</td>\n",
       "    </tr>\n",
       "    <tr>\n",
       "      <th>235884</th>\n",
       "      <td>Zyzomys</td>\n",
       "      <td>zyzomys</td>\n",
       "      <td>7</td>\n",
       "      <td>z</td>\n",
       "      <td>234368</td>\n",
       "      <td>215840</td>\n",
       "      <td>mosyz</td>\n",
       "      <td>zymso</td>\n",
       "    </tr>\n",
       "    <tr>\n",
       "      <th>235885</th>\n",
       "      <td>Zyzzogeton</td>\n",
       "      <td>zyzzogeton</td>\n",
       "      <td>10</td>\n",
       "      <td>z</td>\n",
       "      <td>234369</td>\n",
       "      <td>215841</td>\n",
       "      <td>egnotyz</td>\n",
       "      <td>zgytnoe</td>\n",
       "    </tr>\n",
       "  </tbody>\n",
       "</table>\n",
       "</div>"
      ],
      "text/plain": [
       "              word       lcase  n_chars first_letter  word_id  word_group_id  \\\n",
       "235881      zythem      zythem        6            z   234365         215837   \n",
       "235882      Zythia      zythia        6            z   234366         215838   \n",
       "235883      zythum      zythum        6            z   234367         215839   \n",
       "235884     Zyzomys     zyzomys        7            z   234368         215840   \n",
       "235885  Zyzzogeton  zyzzogeton       10            z   234369         215841   \n",
       "\n",
       "       letter_group letter_group_ranked  \n",
       "235881       ehmtyz              zyhmte  \n",
       "235882       ahityz              zyhtai  \n",
       "235883       hmtuyz              zyhmut  \n",
       "235884        mosyz               zymso  \n",
       "235885      egnotyz             zgytnoe  "
      ]
     },
     "execution_count": 59,
     "metadata": {},
     "output_type": "execute_result"
    }
   ],
   "source": [
    "word_df.tail()"
   ]
  },
  {
   "cell_type": "markdown",
   "metadata": {},
   "source": [
    "### generate the character matrix"
   ]
  },
  {
   "cell_type": "code",
   "execution_count": 60,
   "metadata": {},
   "outputs": [],
   "source": [
    "# count the occurences of each letter in each word and store the results in a matrix\n",
    "# populate the char_matrix and the word_id dictionary\n",
    "# Use the apply function to the word_df. Effectively, apply a function to each row in the \n",
    "# dataframe\n",
    "# https://pandas.pydata.org/pandas-docs/stable/reference/api/pandas.DataFrame.apply.html\n",
    "\n",
    "# Upon intialization, the char_matrix is all zero.\n",
    "# the entry for emit (as do the entriees for time, mite, item) has the following value:\n",
    "# ['a','b','c','d','e','f','g','h','i','j','k','l','m','n','o','p','q','r','s','t','u','v','w','x','y','z']\n",
    "# [0, 0, 0, 0, 1, 0, 0, 0, 1, 0, 0, 0, 1, 0, 0, 0, 0, 0, 0, 1, 0, 0, 0, 0, 0, 0]\n",
    "# we need to find all words that have matching rows with at least these values.\n",
    "# for example, 'terminator'.\n",
    "# ['a','b','c','d','e','f','g','h','i','j','k','l','m','n','o','p','q','r','s','t','u','v','w','x','y','z']\n",
    "# [1, 0, 0, 0, 1, 0, 0, 0, 1, 0, 0, 0, 1, 1, 1, 0, 0, 2, 0, 2, 0, 0, 0, 0, 0, 0]\n",
    "\n",
    "# the zero-filled matrix will be populated once the \n",
    "# score_row() function is applied to the word_df\n",
    "char_matrix = np.zeros(shape=(len(word_df), 26), dtype=np.int32)\n",
    "# same with the word_dict.\n",
    "word_dict = {}\n",
    "def score_word(row):\n",
    "    # get a word from the current row\n",
    "    curr_word = row['lcase']    \n",
    "    ri = row['word_id'] # row index / word index\n",
    "    word_length = row['n_chars'] # number of character in each word\n",
    "    first_letter = row['first_letter'] # first letter of the word\n",
    "    letter_group = row['letter_group'] # letter group\n",
    "    letter_group_ranked = row['letter_group_ranked'] # letter group ranked\n",
    "    word_dict[ri] = (curr_word, word_length, first_letter, letter_group, letter_group_ranked)\n",
    "    # populate the char matrix\n",
    "    for i_letter, letter in enumerate(curr_word):\n",
    "        if letter in letter_dict:\n",
    "            # find the corresponding column index of that letter\n",
    "            li = letter_dict[letter]\n",
    "            # increment the count of letters in the current row and current column\n",
    "            char_matrix[ri, li] += 1\n",
    "    return None\n",
    "\n",
    "# catch the output from the function and delete\n",
    "output = word_df.apply(score_word, 1)\n",
    "del output"
   ]
  },
  {
   "cell_type": "code",
   "execution_count": 61,
   "metadata": {},
   "outputs": [
    {
     "data": {
      "text/plain": [
       "2248005"
      ]
     },
     "execution_count": 61,
     "metadata": {},
     "output_type": "execute_result"
    }
   ],
   "source": [
    "# how many letters are in use in our words?\n",
    "char_matrix.sum()"
   ]
  },
  {
   "cell_type": "code",
   "execution_count": 62,
   "metadata": {},
   "outputs": [
    {
     "data": {
      "text/plain": [
       "234526"
      ]
     },
     "execution_count": 62,
     "metadata": {},
     "output_type": "execute_result"
    }
   ],
   "source": [
    "# what about if we wanted to see how many times the letter 'e' is used?\n",
    "char_matrix[:, 4].sum()"
   ]
  },
  {
   "cell_type": "code",
   "execution_count": 63,
   "metadata": {},
   "outputs": [
    {
     "data": {
      "text/plain": [
       "234526"
      ]
     },
     "execution_count": 63,
     "metadata": {},
     "output_type": "execute_result"
    }
   ],
   "source": [
    "# this is the same as:\n",
    "letter_counter['e']"
   ]
  },
  {
   "cell_type": "code",
   "execution_count": 64,
   "metadata": {},
   "outputs": [
    {
     "data": {
      "text/plain": [
       "0.10432628041307737"
      ]
     },
     "execution_count": 64,
     "metadata": {},
     "output_type": "execute_result"
    }
   ],
   "source": [
    "# what is the percentage of characters that feature the letter 'e'?\n",
    "char_matrix[:, 4].sum() / char_matrix.sum()"
   ]
  },
  {
   "cell_type": "code",
   "execution_count": 65,
   "metadata": {},
   "outputs": [
    {
     "name": "stdout",
     "output_type": "stream",
     "text": [
      "a 144511\n",
      "b 37353\n",
      "c 85776\n",
      "d 60650\n",
      "e 157437\n",
      "f 21743\n",
      "g 43074\n",
      "h 56937\n",
      "i 144651\n",
      "j 3073\n",
      "k 15153\n",
      "l 104989\n",
      "m 62486\n",
      "n 120538\n",
      "o 122891\n",
      "p 67333\n",
      "q 3624\n",
      "r 128458\n",
      "s 103107\n",
      "t 119832\n",
      "u 75262\n",
      "v 19346\n",
      "w 13158\n",
      "x 6870\n",
      "y 48370\n",
      "z 8012\n"
     ]
    }
   ],
   "source": [
    "# let's see how many words have the letter 'a' in them or the letter 's'. \n",
    "for curr_letter, letter_index in letter_dict.items():    \n",
    "    outcome = np.where(char_matrix[:, letter_index] > 0)\n",
    "    n_rows = np.shape(outcome)[1]        \n",
    "    print(curr_letter, n_rows)"
   ]
  },
  {
   "cell_type": "markdown",
   "metadata": {},
   "source": [
    "### save data to disk"
   ]
  },
  {
   "cell_type": "code",
   "execution_count": 66,
   "metadata": {},
   "outputs": [],
   "source": [
    "# save the char matrix\n",
    "output_name = 'char_matrix.npy'\n",
    "opn = os.path.join(data_output_file_path, output_name)\n",
    "np.save(file = opn, arr = char_matrix)"
   ]
  },
  {
   "cell_type": "code",
   "execution_count": 67,
   "metadata": {},
   "outputs": [],
   "source": [
    "# letter dictionary\n",
    "output_name = 'letter_dict.pkl'\n",
    "save_pickle(file_path = data_output_file_path, file_name = output_name, obj = letter_dict)"
   ]
  },
  {
   "cell_type": "code",
   "execution_count": 68,
   "metadata": {},
   "outputs": [],
   "source": [
    "# word dictionary\n",
    "output_name = 'word_dict.pkl'\n",
    "save_pickle(file_path = data_output_file_path, file_name = output_name, obj = word_dict)"
   ]
  },
  {
   "cell_type": "code",
   "execution_count": 69,
   "metadata": {},
   "outputs": [],
   "source": [
    "# save the word df\n",
    "output_name = 'word_df.csv'\n",
    "opn = os.path.join(data_output_file_path, output_name)\n",
    "word_df.to_csv(path_or_buf = opn, sep = '\\t', header = True, index = False)       "
   ]
  },
  {
   "cell_type": "markdown",
   "metadata": {},
   "source": [
    "### count sub-matrices for processing option 2"
   ]
  },
  {
   "cell_type": "code",
   "execution_count": 70,
   "metadata": {},
   "outputs": [],
   "source": [
    "# option 2: by letter count\n",
    "df02 = word_df['n_chars'].groupby(word_df['n_chars']).agg(np.size).to_frame()\n",
    "df02.columns = ['n_words']\n",
    "df02 = df02.reset_index()"
   ]
  },
  {
   "cell_type": "code",
   "execution_count": 71,
   "metadata": {},
   "outputs": [],
   "source": [
    "df02 = df02.sort_values(by='n_chars', ascending = False)"
   ]
  },
  {
   "cell_type": "code",
   "execution_count": 72,
   "metadata": {},
   "outputs": [],
   "source": [
    "# this determines the number of rows in each submatrix\n",
    "df02['total_words'] = df02['n_words'].cumsum()"
   ]
  },
  {
   "cell_type": "code",
   "execution_count": 73,
   "metadata": {},
   "outputs": [],
   "source": [
    "df02 = df02.sort_values(by='n_chars')"
   ]
  },
  {
   "cell_type": "code",
   "execution_count": 74,
   "metadata": {},
   "outputs": [
    {
     "data": {
      "text/html": [
       "<div>\n",
       "<style scoped>\n",
       "    .dataframe tbody tr th:only-of-type {\n",
       "        vertical-align: middle;\n",
       "    }\n",
       "\n",
       "    .dataframe tbody tr th {\n",
       "        vertical-align: top;\n",
       "    }\n",
       "\n",
       "    .dataframe thead th {\n",
       "        text-align: right;\n",
       "    }\n",
       "</style>\n",
       "<table border=\"1\" class=\"dataframe\">\n",
       "  <thead>\n",
       "    <tr style=\"text-align: right;\">\n",
       "      <th></th>\n",
       "      <th>n_chars</th>\n",
       "      <th>n_words</th>\n",
       "      <th>total_words</th>\n",
       "    </tr>\n",
       "  </thead>\n",
       "  <tbody>\n",
       "    <tr>\n",
       "      <th>0</th>\n",
       "      <td>1</td>\n",
       "      <td>26</td>\n",
       "      <td>234370</td>\n",
       "    </tr>\n",
       "    <tr>\n",
       "      <th>1</th>\n",
       "      <td>2</td>\n",
       "      <td>139</td>\n",
       "      <td>234344</td>\n",
       "    </tr>\n",
       "    <tr>\n",
       "      <th>2</th>\n",
       "      <td>3</td>\n",
       "      <td>1294</td>\n",
       "      <td>234205</td>\n",
       "    </tr>\n",
       "    <tr>\n",
       "      <th>3</th>\n",
       "      <td>4</td>\n",
       "      <td>4993</td>\n",
       "      <td>232911</td>\n",
       "    </tr>\n",
       "    <tr>\n",
       "      <th>4</th>\n",
       "      <td>5</td>\n",
       "      <td>9972</td>\n",
       "      <td>227918</td>\n",
       "    </tr>\n",
       "  </tbody>\n",
       "</table>\n",
       "</div>"
      ],
      "text/plain": [
       "   n_chars  n_words  total_words\n",
       "0        1       26       234370\n",
       "1        2      139       234344\n",
       "2        3     1294       234205\n",
       "3        4     4993       232911\n",
       "4        5     9972       227918"
      ]
     },
     "execution_count": 74,
     "metadata": {},
     "output_type": "execute_result"
    }
   ],
   "source": [
    "df02.head()"
   ]
  },
  {
   "cell_type": "markdown",
   "metadata": {},
   "source": [
    "### count sub-matrices for processing option 3"
   ]
  },
  {
   "cell_type": "code",
   "execution_count": 75,
   "metadata": {},
   "outputs": [],
   "source": [
    "# extract the word_ids as an numpy arry\n",
    "word_id_list = word_df['word_id'].to_numpy()"
   ]
  },
  {
   "cell_type": "code",
   "execution_count": 76,
   "metadata": {},
   "outputs": [],
   "source": [
    "# option 3: by letter count and presence of first letter\n",
    "first_letter_df = word_df[['n_chars', 'first_letter']].drop_duplicates()"
   ]
  },
  {
   "cell_type": "code",
   "execution_count": 77,
   "metadata": {},
   "outputs": [
    {
     "name": "stdout",
     "output_type": "stream",
     "text": [
      "...creating 543 sub matrices\n",
      "100\n",
      "200\n",
      "300\n",
      "400\n",
      "500\n"
     ]
    }
   ],
   "source": [
    "# how many sub-matrices?\n",
    "n_sub_matrices = len(first_letter_df)\n",
    "print('...creating', n_sub_matrices, 'sub matrices')\n",
    "output_list = []\n",
    "\n",
    "# create dictionaries to expedite this. We only need to determine the sets of rows of each component\n",
    "# once. After determination, we can store in a dictionary and then look up.\n",
    "# this will hold the set of rows by word length\n",
    "n_char_word_id_list_dict = {}\n",
    "# this will hold the set of rows by presence of the first letter\n",
    "fl_word_id_list_dict = {}\n",
    "\n",
    "loop_count = 0\n",
    "for n_chars, fl in zip(first_letter_df['n_chars'], first_letter_df['first_letter']):\n",
    "        \n",
    "    # word id by character length - check if the set of row ids have already been identified\n",
    "    # if not, create it and store it\n",
    "    if n_chars in n_char_word_id_list_dict:\n",
    "        curr_n_char_word_id_set = n_char_word_id_list_dict[n_chars]\n",
    "    else:\n",
    "        # extract the row ids that meet the criteria,\n",
    "        # use the word_df for this.\n",
    "        curr_n_char_word_id_set  = word_df.loc[(word_df['n_chars']>=n_chars), 'word_id'].tolist()\n",
    "        # create a set\n",
    "        curr_n_char_word_id_set = set(curr_n_char_word_id_set)\n",
    "        # store\n",
    "        n_char_word_id_list_dict[n_chars] = curr_n_char_word_id_set\n",
    "    \n",
    "    # word id by letter match\n",
    "    # use the char_matrix to identify these rows\n",
    "    if fl in fl_word_id_list_dict:\n",
    "        curr_letter_select_word_id_set = fl_word_id_list_dict[fl]\n",
    "    else:                       \n",
    "        # build the oolumn selector using list comprehension\n",
    "        column_selector = [letter_dict[curr_letter] for curr_letter in fl]\n",
    "        \n",
    "        # create a true-false matrix where only certain columns, corresponding to\n",
    "        # letter indices, have a value of 1 or more\n",
    "        outcome = char_matrix[:, column_selector] > 0    \n",
    "        \n",
    "        # which rows in the above matrix evaluate to all True\n",
    "        outcome_indices = np.all(a = outcome, axis = 1)\n",
    "        \n",
    "        # these indices match with the word_id_list, perform the subset        \n",
    "        curr_letter_select_word_id_set = word_id_list[outcome_indices]\n",
    "        curr_letter_select_word_id_set = set(curr_letter_select_word_id_set)\n",
    "        fl_word_id_list_dict[fl] = curr_letter_select_word_id_set        \n",
    "        \n",
    "    # perform the intersection\n",
    "    curr_word_id_set = curr_n_char_word_id_set.intersection(curr_letter_select_word_id_set)\n",
    "    curr_nrows = len(curr_word_id_set)\n",
    "    curr_list = [fl, n_chars, curr_nrows]\n",
    "    output_list.append(curr_list)\n",
    "    \n",
    "    loop_count += 1\n",
    "    if loop_count % 100 == 0:\n",
    "        print(loop_count)          "
   ]
  },
  {
   "cell_type": "code",
   "execution_count": 78,
   "metadata": {},
   "outputs": [],
   "source": [
    "df03 = pd.DataFrame(data=output_list, columns = ['focal_letter', 'n_chars', 'n_words'])"
   ]
  },
  {
   "cell_type": "code",
   "execution_count": 79,
   "metadata": {},
   "outputs": [],
   "source": [
    "# make it wide\n",
    "df03_wide =  pd.pivot_table(data = df03,\n",
    "                            values = 'n_words',\n",
    "                            index = 'focal_letter',\n",
    "                            columns = 'n_chars',\n",
    "                            fill_value = 0\n",
    "                           )"
   ]
  },
  {
   "cell_type": "code",
   "execution_count": 80,
   "metadata": {},
   "outputs": [],
   "source": [
    "df03_wide = df03_wide.reset_index()"
   ]
  },
  {
   "cell_type": "code",
   "execution_count": 81,
   "metadata": {},
   "outputs": [
    {
     "data": {
      "text/html": [
       "<div>\n",
       "<style scoped>\n",
       "    .dataframe tbody tr th:only-of-type {\n",
       "        vertical-align: middle;\n",
       "    }\n",
       "\n",
       "    .dataframe tbody tr th {\n",
       "        vertical-align: top;\n",
       "    }\n",
       "\n",
       "    .dataframe thead th {\n",
       "        text-align: right;\n",
       "    }\n",
       "</style>\n",
       "<table border=\"1\" class=\"dataframe\">\n",
       "  <thead>\n",
       "    <tr style=\"text-align: right;\">\n",
       "      <th>n_chars</th>\n",
       "      <th>focal_letter</th>\n",
       "      <th>1</th>\n",
       "      <th>2</th>\n",
       "      <th>3</th>\n",
       "      <th>4</th>\n",
       "      <th>5</th>\n",
       "      <th>6</th>\n",
       "      <th>7</th>\n",
       "      <th>8</th>\n",
       "      <th>9</th>\n",
       "      <th>...</th>\n",
       "      <th>15</th>\n",
       "      <th>16</th>\n",
       "      <th>17</th>\n",
       "      <th>18</th>\n",
       "      <th>19</th>\n",
       "      <th>20</th>\n",
       "      <th>21</th>\n",
       "      <th>22</th>\n",
       "      <th>23</th>\n",
       "      <th>24</th>\n",
       "    </tr>\n",
       "  </thead>\n",
       "  <tbody>\n",
       "    <tr>\n",
       "      <th>0</th>\n",
       "      <td>a</td>\n",
       "      <td>144511</td>\n",
       "      <td>144510</td>\n",
       "      <td>144475</td>\n",
       "      <td>144048</td>\n",
       "      <td>142022</td>\n",
       "      <td>137229</td>\n",
       "      <td>128533</td>\n",
       "      <td>115710</td>\n",
       "      <td>98781</td>\n",
       "      <td>...</td>\n",
       "      <td>10353</td>\n",
       "      <td>5664</td>\n",
       "      <td>2916</td>\n",
       "      <td>1397</td>\n",
       "      <td>676</td>\n",
       "      <td>297</td>\n",
       "      <td>123</td>\n",
       "      <td>54</td>\n",
       "      <td>21</td>\n",
       "      <td>0</td>\n",
       "    </tr>\n",
       "    <tr>\n",
       "      <th>1</th>\n",
       "      <td>b</td>\n",
       "      <td>37353</td>\n",
       "      <td>37352</td>\n",
       "      <td>37346</td>\n",
       "      <td>37224</td>\n",
       "      <td>36687</td>\n",
       "      <td>35455</td>\n",
       "      <td>33012</td>\n",
       "      <td>29423</td>\n",
       "      <td>24752</td>\n",
       "      <td>...</td>\n",
       "      <td>2477</td>\n",
       "      <td>1352</td>\n",
       "      <td>672</td>\n",
       "      <td>306</td>\n",
       "      <td>144</td>\n",
       "      <td>66</td>\n",
       "      <td>26</td>\n",
       "      <td>8</td>\n",
       "      <td>4</td>\n",
       "      <td>0</td>\n",
       "    </tr>\n",
       "    <tr>\n",
       "      <th>2</th>\n",
       "      <td>c</td>\n",
       "      <td>85776</td>\n",
       "      <td>85775</td>\n",
       "      <td>85773</td>\n",
       "      <td>85693</td>\n",
       "      <td>85170</td>\n",
       "      <td>83481</td>\n",
       "      <td>79817</td>\n",
       "      <td>73704</td>\n",
       "      <td>65225</td>\n",
       "      <td>...</td>\n",
       "      <td>7919</td>\n",
       "      <td>4473</td>\n",
       "      <td>2350</td>\n",
       "      <td>1151</td>\n",
       "      <td>555</td>\n",
       "      <td>252</td>\n",
       "      <td>110</td>\n",
       "      <td>50</td>\n",
       "      <td>0</td>\n",
       "      <td>0</td>\n",
       "    </tr>\n",
       "    <tr>\n",
       "      <th>3</th>\n",
       "      <td>d</td>\n",
       "      <td>60650</td>\n",
       "      <td>60649</td>\n",
       "      <td>60639</td>\n",
       "      <td>60486</td>\n",
       "      <td>59809</td>\n",
       "      <td>58269</td>\n",
       "      <td>54910</td>\n",
       "      <td>49604</td>\n",
       "      <td>41697</td>\n",
       "      <td>...</td>\n",
       "      <td>3739</td>\n",
       "      <td>2038</td>\n",
       "      <td>1064</td>\n",
       "      <td>516</td>\n",
       "      <td>243</td>\n",
       "      <td>115</td>\n",
       "      <td>53</td>\n",
       "      <td>23</td>\n",
       "      <td>0</td>\n",
       "      <td>0</td>\n",
       "    </tr>\n",
       "    <tr>\n",
       "      <th>4</th>\n",
       "      <td>e</td>\n",
       "      <td>157437</td>\n",
       "      <td>157436</td>\n",
       "      <td>157409</td>\n",
       "      <td>157105</td>\n",
       "      <td>155490</td>\n",
       "      <td>151370</td>\n",
       "      <td>141778</td>\n",
       "      <td>127876</td>\n",
       "      <td>108824</td>\n",
       "      <td>...</td>\n",
       "      <td>10385</td>\n",
       "      <td>5615</td>\n",
       "      <td>2851</td>\n",
       "      <td>1363</td>\n",
       "      <td>645</td>\n",
       "      <td>284</td>\n",
       "      <td>118</td>\n",
       "      <td>52</td>\n",
       "      <td>17</td>\n",
       "      <td>0</td>\n",
       "    </tr>\n",
       "  </tbody>\n",
       "</table>\n",
       "<p>5 rows × 25 columns</p>\n",
       "</div>"
      ],
      "text/plain": [
       "n_chars focal_letter       1       2       3       4       5       6       7  \\\n",
       "0                  a  144511  144510  144475  144048  142022  137229  128533   \n",
       "1                  b   37353   37352   37346   37224   36687   35455   33012   \n",
       "2                  c   85776   85775   85773   85693   85170   83481   79817   \n",
       "3                  d   60650   60649   60639   60486   59809   58269   54910   \n",
       "4                  e  157437  157436  157409  157105  155490  151370  141778   \n",
       "\n",
       "n_chars       8       9  ...     15    16    17    18   19   20   21  22  23  \\\n",
       "0        115710   98781  ...  10353  5664  2916  1397  676  297  123  54  21   \n",
       "1         29423   24752  ...   2477  1352   672   306  144   66   26   8   4   \n",
       "2         73704   65225  ...   7919  4473  2350  1151  555  252  110  50   0   \n",
       "3         49604   41697  ...   3739  2038  1064   516  243  115   53  23   0   \n",
       "4        127876  108824  ...  10385  5615  2851  1363  645  284  118  52  17   \n",
       "\n",
       "n_chars  24  \n",
       "0         0  \n",
       "1         0  \n",
       "2         0  \n",
       "3         0  \n",
       "4         0  \n",
       "\n",
       "[5 rows x 25 columns]"
      ]
     },
     "execution_count": 81,
     "metadata": {},
     "output_type": "execute_result"
    }
   ],
   "source": [
    "df03_wide.head()"
   ]
  },
  {
   "cell_type": "code",
   "execution_count": 82,
   "metadata": {},
   "outputs": [
    {
     "data": {
      "text/plain": [
       "count       543.000000\n",
       "mean      33400.215470\n",
       "std       42634.064202\n",
       "min           1.000000\n",
       "25%        1135.500000\n",
       "50%       11153.000000\n",
       "75%       56838.500000\n",
       "max      157437.000000\n",
       "Name: n_words, dtype: float64"
      ]
     },
     "execution_count": 82,
     "metadata": {},
     "output_type": "execute_result"
    }
   ],
   "source": [
    "df03['n_words'].describe()"
   ]
  },
  {
   "cell_type": "markdown",
   "metadata": {},
   "source": [
    "### count sub-matrices for processing option 4"
   ]
  },
  {
   "cell_type": "code",
   "execution_count": 83,
   "metadata": {},
   "outputs": [],
   "source": [
    "# option 4: by letter count and presence of least two common letters\n",
    "n_common_letters = 2\n",
    "word_df['letter_selector'] = word_df['letter_group_ranked'].str[:n_common_letters]\n",
    "letter_selector_df = word_df[['n_chars', 'letter_selector']].drop_duplicates()"
   ]
  },
  {
   "cell_type": "code",
   "execution_count": 84,
   "metadata": {},
   "outputs": [
    {
     "name": "stdout",
     "output_type": "stream",
     "text": [
      "...creating 3488 sub matrices\n",
      "100\n",
      "200\n",
      "300\n",
      "400\n",
      "500\n",
      "600\n",
      "700\n",
      "800\n",
      "900\n",
      "1000\n",
      "1100\n",
      "1200\n",
      "1300\n",
      "1400\n",
      "1500\n",
      "1600\n",
      "1700\n",
      "1800\n",
      "1900\n",
      "2000\n",
      "2100\n",
      "2200\n",
      "2300\n",
      "2400\n",
      "2500\n",
      "2600\n",
      "2700\n",
      "2800\n",
      "2900\n",
      "3000\n",
      "3100\n",
      "3200\n",
      "3300\n",
      "3400\n"
     ]
    }
   ],
   "source": [
    "n_sub_matrices = len(letter_selector_df)\n",
    "print('...creating', n_sub_matrices, 'sub matrices')\n",
    "\n",
    "output_list = []\n",
    "# same as above - store the set of row ids that match the words of at least a given length\n",
    "n_char_word_id_list_dict = {}\n",
    "# the set of rows ids that contain the words with the n_common_letters\n",
    "ls_word_id_list_dict = {}\n",
    "\n",
    "loop_count = 0\n",
    "for n_chars, ls in zip(letter_selector_df['n_chars'], letter_selector_df['letter_selector']):\n",
    "        \n",
    "    # word id by character length\n",
    "    if n_chars in n_char_word_id_list_dict:\n",
    "        curr_n_char_word_id_set = n_char_word_id_list_dict[n_chars]\n",
    "    else:\n",
    "        curr_n_char_word_id_set  = word_df.loc[(word_df['n_chars']>=n_chars) , 'word_id'].tolist()\n",
    "        curr_n_char_word_id_set = set(curr_n_char_word_id_set)\n",
    "        n_char_word_id_list_dict[n_chars] = curr_n_char_word_id_set\n",
    "    \n",
    "    # word id by presense of least common letters\n",
    "    if ls in ls_word_id_list_dict:\n",
    "        curr_letter_select_word_id_set = ls_word_id_list_dict[ls]\n",
    "    else:                       \n",
    "        # build the oolumn selector using list comprehension\n",
    "        column_selector = [letter_dict[curr_letter] for curr_letter in ls]\n",
    "        \n",
    "        # create a true-false matrix where only certain columns, corresponding to\n",
    "        # letter indices, have a value of 1 or more\n",
    "        outcome = char_matrix[:, column_selector] > 0    \n",
    "        \n",
    "        # which rows in the above matrix evaluate to all True\n",
    "        outcome_indices = np.all(a = outcome, axis = 1)\n",
    "        \n",
    "        # these indices match with the word_is_list, perform the subset        \n",
    "        curr_letter_select_word_id_set = word_id_list[outcome_indices]\n",
    "        curr_letter_select_word_id_set = set(curr_letter_select_word_id_set)\n",
    "        ls_word_id_list_dict[ls] = curr_letter_select_word_id_set        \n",
    "        \n",
    "    # perform the intersection\n",
    "    curr_word_id_set = curr_n_char_word_id_set.intersection(curr_letter_select_word_id_set)\n",
    "    curr_nrows = len(curr_word_id_set)\n",
    "    # store the counts in the list\n",
    "    curr_list = [ls, n_chars, curr_nrows]\n",
    "    output_list.append(curr_list)\n",
    "    \n",
    "    loop_count += 1\n",
    "    if loop_count % 100 == 0:\n",
    "        print(loop_count)          "
   ]
  },
  {
   "cell_type": "code",
   "execution_count": 85,
   "metadata": {},
   "outputs": [],
   "source": [
    "df04 = pd.DataFrame(data=output_list, columns = ['letter_group', 'n_chars', 'n_words'])"
   ]
  },
  {
   "cell_type": "code",
   "execution_count": 86,
   "metadata": {},
   "outputs": [],
   "source": [
    "# make it wide\n",
    "df04_wide =  pd.pivot_table(data = df04,\n",
    "                            values = 'n_words',\n",
    "                            index = 'letter_group',\n",
    "                            columns = 'n_chars',\n",
    "                            fill_value = 0\n",
    "                           )\n",
    "df04_wide = df04_wide.reset_index()"
   ]
  },
  {
   "cell_type": "code",
   "execution_count": 87,
   "metadata": {},
   "outputs": [
    {
     "data": {
      "text/html": [
       "<div>\n",
       "<style scoped>\n",
       "    .dataframe tbody tr th:only-of-type {\n",
       "        vertical-align: middle;\n",
       "    }\n",
       "\n",
       "    .dataframe tbody tr th {\n",
       "        vertical-align: top;\n",
       "    }\n",
       "\n",
       "    .dataframe thead th {\n",
       "        text-align: right;\n",
       "    }\n",
       "</style>\n",
       "<table border=\"1\" class=\"dataframe\">\n",
       "  <thead>\n",
       "    <tr style=\"text-align: right;\">\n",
       "      <th>n_chars</th>\n",
       "      <th>letter_group</th>\n",
       "      <th>1</th>\n",
       "      <th>2</th>\n",
       "      <th>3</th>\n",
       "      <th>4</th>\n",
       "      <th>5</th>\n",
       "      <th>6</th>\n",
       "      <th>7</th>\n",
       "      <th>8</th>\n",
       "      <th>9</th>\n",
       "      <th>...</th>\n",
       "      <th>15</th>\n",
       "      <th>16</th>\n",
       "      <th>17</th>\n",
       "      <th>18</th>\n",
       "      <th>19</th>\n",
       "      <th>20</th>\n",
       "      <th>21</th>\n",
       "      <th>22</th>\n",
       "      <th>23</th>\n",
       "      <th>24</th>\n",
       "    </tr>\n",
       "  </thead>\n",
       "  <tbody>\n",
       "    <tr>\n",
       "      <th>0</th>\n",
       "      <td>a</td>\n",
       "      <td>144511</td>\n",
       "      <td>144510</td>\n",
       "      <td>0</td>\n",
       "      <td>0</td>\n",
       "      <td>0</td>\n",
       "      <td>0</td>\n",
       "      <td>0</td>\n",
       "      <td>0</td>\n",
       "      <td>0</td>\n",
       "      <td>...</td>\n",
       "      <td>0</td>\n",
       "      <td>0</td>\n",
       "      <td>0</td>\n",
       "      <td>0</td>\n",
       "      <td>0</td>\n",
       "      <td>0</td>\n",
       "      <td>0</td>\n",
       "      <td>0</td>\n",
       "      <td>0</td>\n",
       "      <td>0</td>\n",
       "    </tr>\n",
       "    <tr>\n",
       "      <th>1</th>\n",
       "      <td>ae</td>\n",
       "      <td>0</td>\n",
       "      <td>91948</td>\n",
       "      <td>0</td>\n",
       "      <td>0</td>\n",
       "      <td>0</td>\n",
       "      <td>0</td>\n",
       "      <td>0</td>\n",
       "      <td>0</td>\n",
       "      <td>0</td>\n",
       "      <td>...</td>\n",
       "      <td>0</td>\n",
       "      <td>0</td>\n",
       "      <td>0</td>\n",
       "      <td>0</td>\n",
       "      <td>0</td>\n",
       "      <td>0</td>\n",
       "      <td>0</td>\n",
       "      <td>0</td>\n",
       "      <td>0</td>\n",
       "      <td>0</td>\n",
       "    </tr>\n",
       "    <tr>\n",
       "      <th>2</th>\n",
       "      <td>ai</td>\n",
       "      <td>0</td>\n",
       "      <td>88006</td>\n",
       "      <td>0</td>\n",
       "      <td>0</td>\n",
       "      <td>0</td>\n",
       "      <td>0</td>\n",
       "      <td>0</td>\n",
       "      <td>0</td>\n",
       "      <td>0</td>\n",
       "      <td>...</td>\n",
       "      <td>0</td>\n",
       "      <td>0</td>\n",
       "      <td>0</td>\n",
       "      <td>0</td>\n",
       "      <td>0</td>\n",
       "      <td>0</td>\n",
       "      <td>0</td>\n",
       "      <td>0</td>\n",
       "      <td>0</td>\n",
       "      <td>0</td>\n",
       "    </tr>\n",
       "    <tr>\n",
       "      <th>3</th>\n",
       "      <td>b</td>\n",
       "      <td>37353</td>\n",
       "      <td>0</td>\n",
       "      <td>0</td>\n",
       "      <td>0</td>\n",
       "      <td>0</td>\n",
       "      <td>0</td>\n",
       "      <td>0</td>\n",
       "      <td>0</td>\n",
       "      <td>0</td>\n",
       "      <td>...</td>\n",
       "      <td>0</td>\n",
       "      <td>0</td>\n",
       "      <td>0</td>\n",
       "      <td>0</td>\n",
       "      <td>0</td>\n",
       "      <td>0</td>\n",
       "      <td>0</td>\n",
       "      <td>0</td>\n",
       "      <td>0</td>\n",
       "      <td>0</td>\n",
       "    </tr>\n",
       "    <tr>\n",
       "      <th>4</th>\n",
       "      <td>ba</td>\n",
       "      <td>0</td>\n",
       "      <td>24833</td>\n",
       "      <td>24831</td>\n",
       "      <td>24793</td>\n",
       "      <td>24582</td>\n",
       "      <td>23985</td>\n",
       "      <td>0</td>\n",
       "      <td>0</td>\n",
       "      <td>0</td>\n",
       "      <td>...</td>\n",
       "      <td>0</td>\n",
       "      <td>0</td>\n",
       "      <td>0</td>\n",
       "      <td>0</td>\n",
       "      <td>0</td>\n",
       "      <td>0</td>\n",
       "      <td>0</td>\n",
       "      <td>0</td>\n",
       "      <td>0</td>\n",
       "      <td>0</td>\n",
       "    </tr>\n",
       "  </tbody>\n",
       "</table>\n",
       "<p>5 rows × 25 columns</p>\n",
       "</div>"
      ],
      "text/plain": [
       "n_chars letter_group       1       2      3      4      5      6  7  8  9  \\\n",
       "0                  a  144511  144510      0      0      0      0  0  0  0   \n",
       "1                 ae       0   91948      0      0      0      0  0  0  0   \n",
       "2                 ai       0   88006      0      0      0      0  0  0  0   \n",
       "3                  b   37353       0      0      0      0      0  0  0  0   \n",
       "4                 ba       0   24833  24831  24793  24582  23985  0  0  0   \n",
       "\n",
       "n_chars  ...  15  16  17  18  19  20  21  22  23  24  \n",
       "0        ...   0   0   0   0   0   0   0   0   0   0  \n",
       "1        ...   0   0   0   0   0   0   0   0   0   0  \n",
       "2        ...   0   0   0   0   0   0   0   0   0   0  \n",
       "3        ...   0   0   0   0   0   0   0   0   0   0  \n",
       "4        ...   0   0   0   0   0   0   0   0   0   0  \n",
       "\n",
       "[5 rows x 25 columns]"
      ]
     },
     "execution_count": 87,
     "metadata": {},
     "output_type": "execute_result"
    }
   ],
   "source": [
    "df04_wide.head()"
   ]
  },
  {
   "cell_type": "markdown",
   "metadata": {},
   "source": [
    "### save the counts of sub-matrices to an excel file"
   ]
  },
  {
   "cell_type": "code",
   "execution_count": 88,
   "metadata": {},
   "outputs": [],
   "source": [
    "# save the dataframes statistics to an excel file\n",
    "e_writer_file_name = 'matrix_extraction_option_counts.xlsx'\n",
    "e_writer_file_path_name = os.path.join(tabulation_output_file_path, e_writer_file_name)\n",
    "e_writer = pd.ExcelWriter(path=e_writer_file_path_name)"
   ]
  },
  {
   "cell_type": "code",
   "execution_count": 89,
   "metadata": {},
   "outputs": [],
   "source": [
    "df02.to_excel(excel_writer = e_writer, sheet_name = 'me_02', index = False)"
   ]
  },
  {
   "cell_type": "code",
   "execution_count": 90,
   "metadata": {},
   "outputs": [],
   "source": [
    "df03.to_excel(excel_writer = e_writer, sheet_name = 'me_03', index = False)"
   ]
  },
  {
   "cell_type": "code",
   "execution_count": 91,
   "metadata": {},
   "outputs": [],
   "source": [
    "df03_wide.to_excel(excel_writer = e_writer, sheet_name = 'me_03_wide', index = False)"
   ]
  },
  {
   "cell_type": "code",
   "execution_count": 92,
   "metadata": {},
   "outputs": [],
   "source": [
    "df04.to_excel(excel_writer = e_writer, sheet_name = 'me_04', index = False)"
   ]
  },
  {
   "cell_type": "code",
   "execution_count": 93,
   "metadata": {},
   "outputs": [],
   "source": [
    "df04_wide.to_excel(excel_writer = e_writer, sheet_name = 'me_04_wide', index = False)"
   ]
  },
  {
   "cell_type": "code",
   "execution_count": 94,
   "metadata": {},
   "outputs": [],
   "source": [
    "# sort and reorder the the letter count df columns"
   ]
  },
  {
   "cell_type": "code",
   "execution_count": 95,
   "metadata": {},
   "outputs": [],
   "source": [
    "letter_count_df = letter_count_df.sort_values(by = 'letter')\n",
    "\n",
    "col_names = ['letter','letter_count','letter_percent','rank','n_words','word_percent','word_count_rank']\n",
    "\n",
    "letter_count_df = letter_count_df[col_names]"
   ]
  },
  {
   "cell_type": "code",
   "execution_count": 96,
   "metadata": {},
   "outputs": [],
   "source": [
    "letter_count_df.to_excel(excel_writer = e_writer, sheet_name = 'letter_rank', index = False)"
   ]
  },
  {
   "cell_type": "code",
   "execution_count": 97,
   "metadata": {},
   "outputs": [],
   "source": [
    "# save and close the excel file object\n",
    "e_writer.save()\n",
    "e_writer.close()"
   ]
  }
 ],
 "metadata": {
  "kernelspec": {
   "display_name": "Python 3",
   "language": "python",
   "name": "python3"
  },
  "language_info": {
   "codemirror_mode": {
    "name": "ipython",
    "version": 3
   },
   "file_extension": ".py",
   "mimetype": "text/x-python",
   "name": "python",
   "nbconvert_exporter": "python",
   "pygments_lexer": "ipython3",
   "version": "3.8.8"
  }
 },
 "nbformat": 4,
 "nbformat_minor": 2
}
