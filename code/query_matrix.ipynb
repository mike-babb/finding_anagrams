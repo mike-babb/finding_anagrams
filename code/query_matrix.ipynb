{
 "cells": [
  {
   "cell_type": "code",
   "execution_count": 1,
   "id": "a6ce545e",
   "metadata": {},
   "outputs": [],
   "source": [
    "# mike babb\n",
    "# query the word matrix"
   ]
  },
  {
   "cell_type": "code",
   "execution_count": 20,
   "id": "2258d550",
   "metadata": {},
   "outputs": [],
   "source": [
    "import os\n",
    "import string"
   ]
  },
  {
   "cell_type": "code",
   "execution_count": 3,
   "id": "f956b58a",
   "metadata": {},
   "outputs": [],
   "source": [
    "import pandas as pd\n",
    "import numpy as np"
   ]
  },
  {
   "cell_type": "code",
   "execution_count": 5,
   "id": "63ced595",
   "metadata": {},
   "outputs": [],
   "source": [
    "file_path = 'H:/project/finding_anagrams/data'"
   ]
  },
  {
   "cell_type": "code",
   "execution_count": 6,
   "id": "2ec2773b",
   "metadata": {},
   "outputs": [],
   "source": [
    "file_name = 'char_matrix.npy'"
   ]
  },
  {
   "cell_type": "code",
   "execution_count": 7,
   "id": "e321fa3c",
   "metadata": {},
   "outputs": [],
   "source": [
    "fpn = os.path.join(file_path, file_name)"
   ]
  },
  {
   "cell_type": "code",
   "execution_count": 8,
   "id": "ab1bb75c",
   "metadata": {},
   "outputs": [],
   "source": [
    "char_matrix = np.load(file = fpn)"
   ]
  },
  {
   "cell_type": "code",
   "execution_count": 9,
   "id": "47ff976d",
   "metadata": {},
   "outputs": [
    {
     "data": {
      "text/plain": [
       "(234370, 26)"
      ]
     },
     "execution_count": 9,
     "metadata": {},
     "output_type": "execute_result"
    }
   ],
   "source": [
    "char_matrix.shape"
   ]
  },
  {
   "cell_type": "code",
   "execution_count": 10,
   "id": "2c141abe",
   "metadata": {},
   "outputs": [],
   "source": [
    "# load the word df\n",
    "file_name = 'word_df.csv'"
   ]
  },
  {
   "cell_type": "code",
   "execution_count": 11,
   "id": "d6ed808b",
   "metadata": {},
   "outputs": [],
   "source": [
    "fpn =  os.path.join(file_path, file_name)"
   ]
  },
  {
   "cell_type": "code",
   "execution_count": 13,
   "id": "9a015999",
   "metadata": {},
   "outputs": [],
   "source": [
    "dtype_dict = {'word': str,\n",
    "              'lcase': str,\n",
    "              'n_chars': int,\n",
    "              'first_letter': str,\n",
    "              'word_id': int,\n",
    "              'word_group_id': int,\n",
    "              'letter_group': str,\n",
    "              'letter_group_ranked': str}\n",
    "\n",
    "# read in the file and be careful of the NA and NULL values\n",
    "# https://pandas.pydata.org/pandas-docs/stable/reference/api/pandas.read_csv.html\n",
    "word_df = pd.read_csv(filepath_or_buffer = fpn, sep = '\\t',header = 0,\n",
    "                          dtype=dtype_dict, na_values = '!!', keep_default_na=False) "
   ]
  },
  {
   "cell_type": "code",
   "execution_count": 14,
   "id": "4cc4f9ba",
   "metadata": {},
   "outputs": [
    {
     "data": {
      "text/html": [
       "<div>\n",
       "<style scoped>\n",
       "    .dataframe tbody tr th:only-of-type {\n",
       "        vertical-align: middle;\n",
       "    }\n",
       "\n",
       "    .dataframe tbody tr th {\n",
       "        vertical-align: top;\n",
       "    }\n",
       "\n",
       "    .dataframe thead th {\n",
       "        text-align: right;\n",
       "    }\n",
       "</style>\n",
       "<table border=\"1\" class=\"dataframe\">\n",
       "  <thead>\n",
       "    <tr style=\"text-align: right;\">\n",
       "      <th></th>\n",
       "      <th>word</th>\n",
       "      <th>lcase</th>\n",
       "      <th>n_chars</th>\n",
       "      <th>first_letter</th>\n",
       "      <th>word_id</th>\n",
       "      <th>word_group_id</th>\n",
       "      <th>letter_group</th>\n",
       "      <th>letter_group_ranked</th>\n",
       "    </tr>\n",
       "  </thead>\n",
       "  <tbody>\n",
       "    <tr>\n",
       "      <th>0</th>\n",
       "      <td>A</td>\n",
       "      <td>a</td>\n",
       "      <td>1</td>\n",
       "      <td>a</td>\n",
       "      <td>0</td>\n",
       "      <td>0</td>\n",
       "      <td>a</td>\n",
       "      <td>a</td>\n",
       "    </tr>\n",
       "    <tr>\n",
       "      <th>1</th>\n",
       "      <td>aa</td>\n",
       "      <td>aa</td>\n",
       "      <td>2</td>\n",
       "      <td>a</td>\n",
       "      <td>1</td>\n",
       "      <td>1</td>\n",
       "      <td>a</td>\n",
       "      <td>a</td>\n",
       "    </tr>\n",
       "    <tr>\n",
       "      <th>2</th>\n",
       "      <td>aal</td>\n",
       "      <td>aal</td>\n",
       "      <td>3</td>\n",
       "      <td>a</td>\n",
       "      <td>2</td>\n",
       "      <td>2</td>\n",
       "      <td>al</td>\n",
       "      <td>la</td>\n",
       "    </tr>\n",
       "    <tr>\n",
       "      <th>3</th>\n",
       "      <td>aalii</td>\n",
       "      <td>aalii</td>\n",
       "      <td>5</td>\n",
       "      <td>a</td>\n",
       "      <td>3</td>\n",
       "      <td>3</td>\n",
       "      <td>ail</td>\n",
       "      <td>lai</td>\n",
       "    </tr>\n",
       "    <tr>\n",
       "      <th>4</th>\n",
       "      <td>aam</td>\n",
       "      <td>aam</td>\n",
       "      <td>3</td>\n",
       "      <td>a</td>\n",
       "      <td>4</td>\n",
       "      <td>4</td>\n",
       "      <td>am</td>\n",
       "      <td>ma</td>\n",
       "    </tr>\n",
       "  </tbody>\n",
       "</table>\n",
       "</div>"
      ],
      "text/plain": [
       "    word  lcase  n_chars first_letter  word_id  word_group_id letter_group  \\\n",
       "0      A      a        1            a        0              0            a   \n",
       "1     aa     aa        2            a        1              1            a   \n",
       "2    aal    aal        3            a        2              2           al   \n",
       "3  aalii  aalii        5            a        3              3          ail   \n",
       "4    aam    aam        3            a        4              4           am   \n",
       "\n",
       "  letter_group_ranked  \n",
       "0                   a  \n",
       "1                   a  \n",
       "2                  la  \n",
       "3                 lai  \n",
       "4                  ma  "
      ]
     },
     "execution_count": 14,
     "metadata": {},
     "output_type": "execute_result"
    }
   ],
   "source": [
    "word_df.head()"
   ]
  },
  {
   "cell_type": "code",
   "execution_count": 38,
   "id": "da87b2cc",
   "metadata": {},
   "outputs": [],
   "source": [
    "letter_dict = {cl:i_cl for i_cl, cl in enumerate(string.ascii_lowercase)}"
   ]
  },
  {
   "cell_type": "code",
   "execution_count": 70,
   "id": "d4a13cc5",
   "metadata": {},
   "outputs": [],
   "source": [
    "curr_letters = [\"w\",\n",
    "\"c\",\n",
    "\"w\",\n",
    "\"y\",\n",
    "\"j\"]\n"
   ]
  },
  {
   "cell_type": "code",
   "execution_count": 71,
   "id": "adaa5a73",
   "metadata": {},
   "outputs": [],
   "source": [
    "curr_query = [0] * 26"
   ]
  },
  {
   "cell_type": "code",
   "execution_count": 72,
   "id": "99d5d0cb",
   "metadata": {},
   "outputs": [],
   "source": [
    "for cl in curr_letters:    \n",
    "    curr_query[letter_dict[cl]] += 1"
   ]
  },
  {
   "cell_type": "code",
   "execution_count": 73,
   "id": "47b128e2",
   "metadata": {},
   "outputs": [
    {
     "data": {
      "text/plain": [
       "[0, 0, 1, 0, 0, 0, 0, 0, 0, 1, 0, 0, 0, 0, 0, 0, 0, 0, 0, 0, 0, 0, 2, 0, 1, 0]"
      ]
     },
     "execution_count": 73,
     "metadata": {},
     "output_type": "execute_result"
    }
   ],
   "source": [
    "curr_query"
   ]
  },
  {
   "cell_type": "code",
   "execution_count": 74,
   "id": "c7ce1a91",
   "metadata": {},
   "outputs": [],
   "source": [
    " outcome = char_matrix - curr_query"
   ]
  },
  {
   "cell_type": "code",
   "execution_count": 75,
   "id": "bdf55080",
   "metadata": {},
   "outputs": [],
   "source": [
    "outcome_indices = np.all(outcome >= 0, axis = 1)"
   ]
  },
  {
   "cell_type": "code",
   "execution_count": 76,
   "id": "5e2440de",
   "metadata": {},
   "outputs": [],
   "source": [
    "potential_words = word_df.loc[outcome_indices, :].sort_values(by = ['n_chars', 'first_letter'])"
   ]
  },
  {
   "cell_type": "code",
   "execution_count": 77,
   "id": "5b838e33",
   "metadata": {},
   "outputs": [
    {
     "data": {
      "text/html": [
       "<div>\n",
       "<style scoped>\n",
       "    .dataframe tbody tr th:only-of-type {\n",
       "        vertical-align: middle;\n",
       "    }\n",
       "\n",
       "    .dataframe tbody tr th {\n",
       "        vertical-align: top;\n",
       "    }\n",
       "\n",
       "    .dataframe thead th {\n",
       "        text-align: right;\n",
       "    }\n",
       "</style>\n",
       "<table border=\"1\" class=\"dataframe\">\n",
       "  <thead>\n",
       "    <tr style=\"text-align: right;\">\n",
       "      <th></th>\n",
       "      <th>word</th>\n",
       "      <th>lcase</th>\n",
       "      <th>n_chars</th>\n",
       "      <th>first_letter</th>\n",
       "      <th>word_id</th>\n",
       "      <th>word_group_id</th>\n",
       "      <th>letter_group</th>\n",
       "      <th>letter_group_ranked</th>\n",
       "    </tr>\n",
       "  </thead>\n",
       "  <tbody>\n",
       "  </tbody>\n",
       "</table>\n",
       "</div>"
      ],
      "text/plain": [
       "Empty DataFrame\n",
       "Columns: [word, lcase, n_chars, first_letter, word_id, word_group_id, letter_group, letter_group_ranked]\n",
       "Index: []"
      ]
     },
     "execution_count": 77,
     "metadata": {},
     "output_type": "execute_result"
    }
   ],
   "source": [
    "potential_words.head()"
   ]
  },
  {
   "cell_type": "code",
   "execution_count": 68,
   "id": "a9f11616",
   "metadata": {},
   "outputs": [
    {
     "data": {
      "text/plain": [
       "(50, 8)"
      ]
     },
     "execution_count": 68,
     "metadata": {},
     "output_type": "execute_result"
    }
   ],
   "source": [
    "potential_words.shape"
   ]
  },
  {
   "cell_type": "code",
   "execution_count": null,
   "id": "2c7e6c57",
   "metadata": {},
   "outputs": [],
   "source": []
  }
 ],
 "metadata": {
  "kernelspec": {
   "display_name": "Python 3.7.6 64-bit ('analysis': conda)",
   "language": "python",
   "name": "python37664bitanalysisconda9de0f707a5a443ea87ec25563936da81"
  },
  "language_info": {
   "codemirror_mode": {
    "name": "ipython",
    "version": 3
   },
   "file_extension": ".py",
   "mimetype": "text/x-python",
   "name": "python",
   "nbconvert_exporter": "python",
   "pygments_lexer": "ipython3",
   "version": "3.8.10"
  }
 },
 "nbformat": 4,
 "nbformat_minor": 5
}
