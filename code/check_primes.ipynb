{
 "cells": [
  {
   "cell_type": "code",
   "execution_count": 1,
   "id": "591e7c9c-fac9-439d-8e6f-4288a4c14882",
   "metadata": {},
   "outputs": [],
   "source": [
    "import numpy as np\n",
    "import pandas as pd"
   ]
  },
  {
   "cell_type": "code",
   "execution_count": 2,
   "id": "3d2c1c79-19a6-493b-92a8-19693fdb4474",
   "metadata": {},
   "outputs": [],
   "source": [
    "# what about primes?"
   ]
  },
  {
   "cell_type": "code",
   "execution_count": 3,
   "id": "3a5ffd72-1bab-4f22-97a4-136c188e4402",
   "metadata": {},
   "outputs": [],
   "source": [
    "def my_function(x, y):\n",
    "    y_out = (y**2) + y\n",
    "    x_out = (x**3) - (x**2)\n",
    "\n",
    "    return y_out, x_out"
   ]
  },
  {
   "cell_type": "code",
   "execution_count": 4,
   "id": "660dae40-0dad-4269-b350-bc47ad28080f",
   "metadata": {},
   "outputs": [],
   "source": [
    "def prime_check(x):\n",
    "    is_prime = 1\n",
    "    for ii in range(2, int(np.ceil(np.sqrt(x))) + 1):        \n",
    "        if x % ii == 0:\n",
    "            is_prime = 0\n",
    "            break\n",
    "    return is_prime\n",
    "            "
   ]
  },
  {
   "cell_type": "code",
   "execution_count": 5,
   "id": "6e6fd076-5e3d-4a2b-a086-dd4996059b2d",
   "metadata": {},
   "outputs": [],
   "source": [
    "prime_list = [2]\n",
    "for ii in range(3, 100):\n",
    "    if prime_check(ii) == 1:\n",
    "        prime_list.append(ii)"
   ]
  },
  {
   "cell_type": "code",
   "execution_count": 17,
   "id": "0b05bd8a-2bfb-4c53-abd4-b527e37e071f",
   "metadata": {},
   "outputs": [
    {
     "name": "stdout",
     "output_type": "stream",
     "text": [
      "[13, 0, 0, 0, 0]\n",
      "[13, 0, 12, 156, 0]\n",
      "[13, 1, 0, 0, 0]\n",
      "[13, 1, 12, 156, 0]\n"
     ]
    }
   ],
   "source": [
    "# end point\n",
    "#ep = 100\n",
    "sol_list = []\n",
    "prime_list = [13]\n",
    "for mp in prime_list:    \n",
    "    for ii in range(0, mp):\n",
    "        for jj in range(0, mp):\n",
    "            x_out, y_out = my_function(ii, jj)            \n",
    "            if x_out % mp == 0 and y_out % mp == 0:\n",
    "                print([mp, ii, jj, x_out, y_out])\n",
    "                sol_list.append([mp, ii, jj, x_out, y_out])"
   ]
  },
  {
   "cell_type": "code",
   "execution_count": 7,
   "id": "179a93d8-d8cd-4638-aac7-2764d059ad43",
   "metadata": {},
   "outputs": [],
   "source": [
    "df = pd.DataFrame(data = sol_list, columns = ['prime', 'x', 'y', 'x_out', 'y_out'])"
   ]
  },
  {
   "cell_type": "code",
   "execution_count": 8,
   "id": "c8a7066a-64c8-43ae-8513-212535d38736",
   "metadata": {},
   "outputs": [
    {
     "data": {
      "text/plain": [
       "(100, 5)"
      ]
     },
     "execution_count": 8,
     "metadata": {},
     "output_type": "execute_result"
    }
   ],
   "source": [
    "df.shape"
   ]
  },
  {
   "cell_type": "code",
   "execution_count": 9,
   "id": "4207ccfd-6a78-4de6-9b36-c00dedbc8dbb",
   "metadata": {},
   "outputs": [
    {
     "data": {
      "text/html": [
       "<div>\n",
       "<style scoped>\n",
       "    .dataframe tbody tr th:only-of-type {\n",
       "        vertical-align: middle;\n",
       "    }\n",
       "\n",
       "    .dataframe tbody tr th {\n",
       "        vertical-align: top;\n",
       "    }\n",
       "\n",
       "    .dataframe thead th {\n",
       "        text-align: right;\n",
       "    }\n",
       "</style>\n",
       "<table border=\"1\" class=\"dataframe\">\n",
       "  <thead>\n",
       "    <tr style=\"text-align: right;\">\n",
       "      <th></th>\n",
       "      <th>prime</th>\n",
       "      <th>x</th>\n",
       "      <th>y</th>\n",
       "      <th>x_out</th>\n",
       "      <th>y_out</th>\n",
       "    </tr>\n",
       "  </thead>\n",
       "  <tbody>\n",
       "    <tr>\n",
       "      <th>0</th>\n",
       "      <td>2</td>\n",
       "      <td>0</td>\n",
       "      <td>0</td>\n",
       "      <td>0</td>\n",
       "      <td>0</td>\n",
       "    </tr>\n",
       "    <tr>\n",
       "      <th>1</th>\n",
       "      <td>2</td>\n",
       "      <td>0</td>\n",
       "      <td>1</td>\n",
       "      <td>2</td>\n",
       "      <td>0</td>\n",
       "    </tr>\n",
       "    <tr>\n",
       "      <th>2</th>\n",
       "      <td>2</td>\n",
       "      <td>1</td>\n",
       "      <td>0</td>\n",
       "      <td>0</td>\n",
       "      <td>0</td>\n",
       "    </tr>\n",
       "    <tr>\n",
       "      <th>3</th>\n",
       "      <td>2</td>\n",
       "      <td>1</td>\n",
       "      <td>1</td>\n",
       "      <td>2</td>\n",
       "      <td>0</td>\n",
       "    </tr>\n",
       "    <tr>\n",
       "      <th>4</th>\n",
       "      <td>3</td>\n",
       "      <td>0</td>\n",
       "      <td>0</td>\n",
       "      <td>0</td>\n",
       "      <td>0</td>\n",
       "    </tr>\n",
       "  </tbody>\n",
       "</table>\n",
       "</div>"
      ],
      "text/plain": [
       "   prime  x  y  x_out  y_out\n",
       "0      2  0  0      0      0\n",
       "1      2  0  1      2      0\n",
       "2      2  1  0      0      0\n",
       "3      2  1  1      2      0\n",
       "4      3  0  0      0      0"
      ]
     },
     "execution_count": 9,
     "metadata": {},
     "output_type": "execute_result"
    }
   ],
   "source": [
    "df.head()"
   ]
  },
  {
   "cell_type": "code",
   "execution_count": 10,
   "id": "c8be1b43-6a20-4be1-8eb5-677798d0fcdc",
   "metadata": {},
   "outputs": [],
   "source": [
    "e_writer = pd.ExcelWriter('check_the_equation.xlsx')"
   ]
  },
  {
   "cell_type": "code",
   "execution_count": 11,
   "id": "ff51e13c-6bfa-4190-9e4f-fc09de87d2fa",
   "metadata": {},
   "outputs": [],
   "source": [
    "df.to_excel(e_writer, sheet_name = 'sols', index = False)"
   ]
  },
  {
   "cell_type": "code",
   "execution_count": 12,
   "id": "6f85d373-f04c-4cd9-9849-0dac54ce1142",
   "metadata": {},
   "outputs": [],
   "source": [
    "df_agg = df['prime'].groupby(df['prime']).agg(np.size).to_frame(name = 'n_sols').reset_index()"
   ]
  },
  {
   "cell_type": "code",
   "execution_count": 13,
   "id": "04b027f6-06a1-4e60-ae78-d06a2f987d3a",
   "metadata": {},
   "outputs": [
    {
     "data": {
      "text/html": [
       "<div>\n",
       "<style scoped>\n",
       "    .dataframe tbody tr th:only-of-type {\n",
       "        vertical-align: middle;\n",
       "    }\n",
       "\n",
       "    .dataframe tbody tr th {\n",
       "        vertical-align: top;\n",
       "    }\n",
       "\n",
       "    .dataframe thead th {\n",
       "        text-align: right;\n",
       "    }\n",
       "</style>\n",
       "<table border=\"1\" class=\"dataframe\">\n",
       "  <thead>\n",
       "    <tr style=\"text-align: right;\">\n",
       "      <th></th>\n",
       "      <th>prime</th>\n",
       "      <th>n_sols</th>\n",
       "    </tr>\n",
       "  </thead>\n",
       "  <tbody>\n",
       "    <tr>\n",
       "      <th>0</th>\n",
       "      <td>2</td>\n",
       "      <td>4</td>\n",
       "    </tr>\n",
       "    <tr>\n",
       "      <th>1</th>\n",
       "      <td>3</td>\n",
       "      <td>4</td>\n",
       "    </tr>\n",
       "    <tr>\n",
       "      <th>2</th>\n",
       "      <td>5</td>\n",
       "      <td>4</td>\n",
       "    </tr>\n",
       "    <tr>\n",
       "      <th>3</th>\n",
       "      <td>7</td>\n",
       "      <td>4</td>\n",
       "    </tr>\n",
       "    <tr>\n",
       "      <th>4</th>\n",
       "      <td>11</td>\n",
       "      <td>4</td>\n",
       "    </tr>\n",
       "  </tbody>\n",
       "</table>\n",
       "</div>"
      ],
      "text/plain": [
       "   prime  n_sols\n",
       "0      2       4\n",
       "1      3       4\n",
       "2      5       4\n",
       "3      7       4\n",
       "4     11       4"
      ]
     },
     "execution_count": 13,
     "metadata": {},
     "output_type": "execute_result"
    }
   ],
   "source": [
    "df_agg.head()"
   ]
  },
  {
   "cell_type": "code",
   "execution_count": 14,
   "id": "31be56c6-4ab0-4e29-be44-f860be1cf8c5",
   "metadata": {},
   "outputs": [],
   "source": [
    "df_agg.to_excel(e_writer, sheet_name = 'sol_count', index = False)"
   ]
  },
  {
   "cell_type": "code",
   "execution_count": 15,
   "id": "c364275b-7ac6-44af-adce-f1612b94ae57",
   "metadata": {},
   "outputs": [],
   "source": [
    "e_writer.close()"
   ]
  },
  {
   "cell_type": "code",
   "execution_count": null,
   "id": "f750e4aa-90b4-4260-8c59-f297b30b41ce",
   "metadata": {},
   "outputs": [],
   "source": []
  }
 ],
 "metadata": {
  "kernelspec": {
   "display_name": "Python 3 (ipykernel)",
   "language": "python",
   "name": "python3"
  },
  "language_info": {
   "codemirror_mode": {
    "name": "ipython",
    "version": 3
   },
   "file_extension": ".py",
   "mimetype": "text/x-python",
   "name": "python",
   "nbconvert_exporter": "python",
   "pygments_lexer": "ipython3",
   "version": "3.11.5"
  }
 },
 "nbformat": 4,
 "nbformat_minor": 5
}
