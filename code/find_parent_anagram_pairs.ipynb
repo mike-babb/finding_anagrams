{
 "cells": [
  {
   "cell_type": "code",
   "execution_count": null,
   "id": "identified-surge",
   "metadata": {},
   "outputs": [],
   "source": [
    "# mike babb\n",
    "# find all anagram pairs"
   ]
  },
  {
   "cell_type": "code",
   "execution_count": null,
   "id": "sitting-bahamas",
   "metadata": {},
   "outputs": [],
   "source": [
    "import datetime\n",
    "import os\n",
    "import sqlite3"
   ]
  },
  {
   "cell_type": "code",
   "execution_count": null,
   "id": "administrative-purpose",
   "metadata": {},
   "outputs": [],
   "source": [
    "import pandas as pd\n",
    "import numpy as np"
   ]
  },
  {
   "cell_type": "code",
   "execution_count": null,
   "id": "casual-popularity",
   "metadata": {},
   "outputs": [],
   "source": [
    "from part_00_process_functions import build_db_conn, query_db"
   ]
  },
  {
   "cell_type": "code",
   "execution_count": null,
   "id": "sacred-administrator",
   "metadata": {},
   "outputs": [],
   "source": [
    "sql = 'select * from words_v1;'"
   ]
  },
  {
   "cell_type": "code",
   "execution_count": null,
   "id": "collaborative-weekly",
   "metadata": {},
   "outputs": [],
   "source": [
    "db_path = '/project/finding_anagrams/db'\n",
    "db_name = 'words.db'"
   ]
  },
  {
   "cell_type": "code",
   "execution_count": null,
   "id": "graduate-aluminum",
   "metadata": {},
   "outputs": [],
   "source": [
    "df = query_db(sql = sql, db_path = db_path, db_name = db_name)"
   ]
  },
  {
   "cell_type": "code",
   "execution_count": null,
   "id": "manual-creek",
   "metadata": {},
   "outputs": [],
   "source": [
    "len(df)"
   ]
  },
  {
   "cell_type": "code",
   "execution_count": null,
   "id": "ongoing-choir",
   "metadata": {},
   "outputs": [],
   "source": [
    "df.head()"
   ]
  },
  {
   "cell_type": "code",
   "execution_count": null,
   "id": "separated-cedar",
   "metadata": {},
   "outputs": [],
   "source": [
    "# create the hash of the sorted letter group"
   ]
  },
  {
   "cell_type": "code",
   "execution_count": null,
   "id": "martial-reviewer",
   "metadata": {},
   "outputs": [],
   "source": [
    "df['lcase_sorted'] = df['lcase'].map(lambda x: ''.join(sorted(x)))"
   ]
  },
  {
   "cell_type": "code",
   "execution_count": null,
   "id": "interpreted-fleet",
   "metadata": {},
   "outputs": [],
   "source": [
    "df['lcase_s_hash'] = df['lcase_sorted'].map(hash)"
   ]
  },
  {
   "cell_type": "code",
   "execution_count": null,
   "id": "defensive-wireless",
   "metadata": {},
   "outputs": [],
   "source": [
    "df.head()"
   ]
  },
  {
   "cell_type": "code",
   "execution_count": null,
   "id": "economic-poultry",
   "metadata": {},
   "outputs": [],
   "source": [
    "df.loc[df['lcase']=='time']"
   ]
  },
  {
   "cell_type": "code",
   "execution_count": null,
   "id": "spoken-bibliography",
   "metadata": {},
   "outputs": [],
   "source": [
    "# find the complete anagrams\n",
    "# anagram: nag, a, ram"
   ]
  },
  {
   "cell_type": "code",
   "execution_count": null,
   "id": "veterinary-leader",
   "metadata": {},
   "outputs": [],
   "source": [
    "# let's assign a prime number to each letter\n",
    "# calculate the first 26 prime numbers\n",
    "# https://web.nmsu.edu/~pbaggett/Lessons/primeNumbers/primeNumbers.html\n",
    "prime_list = []\n",
    "curr_value = 2\n",
    "while len(prime_list) < 26:\n",
    "    is_prime = True\n",
    "    cut_off = int(np.ceil(np.sqrt(curr_value)))\n",
    "    cut_off += 1\n",
    "    #print(curr_value, cut_off)\n",
    "    for i in range(2, cut_off):        \n",
    "        if curr_value != i: \n",
    "            if curr_value % i == 0 :\n",
    "                is_prime = False\n",
    "    \n",
    "    if is_prime:\n",
    "        prime_list.append(curr_value)\n",
    "    \n",
    "    curr_value += 1\n",
    "    "
   ]
  },
  {
   "cell_type": "code",
   "execution_count": null,
   "id": "adjusted-example",
   "metadata": {},
   "outputs": [],
   "source": [
    "# letter list\n",
    "letter_list = sorted(df['first_letter'].unique().tolist())"
   ]
  },
  {
   "cell_type": "code",
   "execution_count": null,
   "id": "automotive-furniture",
   "metadata": {},
   "outputs": [],
   "source": [
    "letter_prime_dict = {x:y for x,y in zip(letter_list, prime_list)}"
   ]
  },
  {
   "cell_type": "code",
   "execution_count": null,
   "id": "valuable-bride",
   "metadata": {},
   "outputs": [],
   "source": [
    "def score_word(x):\n",
    "    running_total = int(0)\n",
    "    for curr_char in x:\n",
    "        running_total += letter_prime_dict[curr_char]\n",
    "    return running_total"
   ]
  },
  {
   "cell_type": "code",
   "execution_count": null,
   "id": "subsequent-ceiling",
   "metadata": {},
   "outputs": [],
   "source": [
    "df['l_score'] = df['lcase'].map(score_word)"
   ]
  },
  {
   "cell_type": "code",
   "execution_count": null,
   "id": "worst-universal",
   "metadata": {},
   "outputs": [],
   "source": []
  },
  {
   "cell_type": "code",
   "execution_count": null,
   "id": "normal-german",
   "metadata": {},
   "outputs": [],
   "source": [
    "# basically, find all of the valid permutations"
   ]
  },
  {
   "cell_type": "code",
   "execution_count": null,
   "id": "opponent-rubber",
   "metadata": {},
   "outputs": [],
   "source": [
    "focal_word = 'formaldehydesulphoxylate'\n",
    "#focal_word = 'anagram'"
   ]
  },
  {
   "cell_type": "code",
   "execution_count": null,
   "id": "southern-coral",
   "metadata": {},
   "outputs": [],
   "source": [
    "fw_df = df.loc[df['word'] == focal_word, ]"
   ]
  },
  {
   "cell_type": "code",
   "execution_count": null,
   "id": "appreciated-thousand",
   "metadata": {},
   "outputs": [],
   "source": [
    "fw_id = fw_df['word_id'].iloc[0]"
   ]
  },
  {
   "cell_type": "code",
   "execution_count": null,
   "id": "heated-cocktail",
   "metadata": {},
   "outputs": [],
   "source": [
    "fw_n_char = fw_df['n_chars'].iloc[0]"
   ]
  },
  {
   "cell_type": "code",
   "execution_count": null,
   "id": "killing-outreach",
   "metadata": {},
   "outputs": [],
   "source": [
    "fw_hash = fw_df['lcase_s_hash'].iloc[0]"
   ]
  },
  {
   "cell_type": "code",
   "execution_count": null,
   "id": "northern-consensus",
   "metadata": {},
   "outputs": [],
   "source": [
    "fw_sum = fw_df['l_score'].iloc[0]"
   ]
  },
  {
   "cell_type": "code",
   "execution_count": null,
   "id": "friendly-commander",
   "metadata": {},
   "outputs": [],
   "source": [
    "fw_sum"
   ]
  },
  {
   "cell_type": "code",
   "execution_count": null,
   "id": "adopted-spectrum",
   "metadata": {},
   "outputs": [],
   "source": []
  },
  {
   "cell_type": "code",
   "execution_count": null,
   "id": "worse-evening",
   "metadata": {},
   "outputs": [],
   "source": [
    "# to words\n",
    "sql = 'select distinct * from anagrams where from_word_id = ' + str(fw_id)"
   ]
  },
  {
   "cell_type": "code",
   "execution_count": null,
   "id": "fatal-queue",
   "metadata": {},
   "outputs": [],
   "source": [
    "cc_df = query_db(sql = sql, db_path = db_path, db_name = db_name)"
   ]
  },
  {
   "cell_type": "code",
   "execution_count": null,
   "id": "according-daughter",
   "metadata": {},
   "outputs": [],
   "source": [
    "len(cc_df['to_word_id'].unique())"
   ]
  },
  {
   "cell_type": "code",
   "execution_count": null,
   "id": "manufactured-novelty",
   "metadata": {},
   "outputs": [],
   "source": [
    "# we need to use all of the letters\n",
    "# how many ways can we group combinations of the to_words,\n",
    "# that do not exceed the total number of characters in the anagram word"
   ]
  },
  {
   "cell_type": "code",
   "execution_count": null,
   "id": "least-resort",
   "metadata": {},
   "outputs": [],
   "source": [
    "df.head()"
   ]
  },
  {
   "cell_type": "code",
   "execution_count": null,
   "id": "solar-branch",
   "metadata": {},
   "outputs": [],
   "source": [
    "temp_df = df[['word_id', 'lcase', 'lcase_s_hash', 'n_chars', 'l_score']]"
   ]
  },
  {
   "cell_type": "code",
   "execution_count": null,
   "id": "noble-china",
   "metadata": {},
   "outputs": [],
   "source": [
    "cc_df = pd.merge(left = cc_df, right = temp_df, left_on = 'to_word_id', right_on = 'word_id')"
   ]
  },
  {
   "cell_type": "code",
   "execution_count": null,
   "id": "cardiovascular-target",
   "metadata": {},
   "outputs": [],
   "source": [
    "#grand_list = []\n",
    "def call_do_it(num_list, total_sum):\n",
    "    combo_list = []\n",
    "    grand_list = []    \n",
    "    \n",
    "    def do_it(num_list, total_sum, curr_sum = 0, curr_start = 0, combo_list = [], grand_list = []):                \n",
    "                            \n",
    "        if(total_sum == curr_sum):\n",
    "            #print(combo_list)\n",
    "            # so, they reason why it needs to be copied is that combo_list changes scope\n",
    "            # recursively. Once all items are removed, all items are removed everywhere.\n",
    "            # hence, the empty lists\n",
    "            grand_list.append(combo_list.copy())\n",
    "            if(len(grand_list) % 10000 == 0):\n",
    "                print(combo_list[-1])\n",
    "            #print(grand_list)\n",
    "            #print(combo_list)\n",
    "        else:        \n",
    "            prev_element = -1             \n",
    "            for i in range(curr_start, len(num_list)):\n",
    "                if(prev_element != num_list[i]):\n",
    "                    if(curr_sum + num_list[i] > total_sum): #array is sorted, no need to check further                    \n",
    "                        break           \n",
    "                    combo_list.append(num_list[i])            \n",
    "                    do_it(num_list=num_list, total_sum=total_sum,\n",
    "                          curr_sum = curr_sum + num_list[i], curr_start = i + 1,\n",
    "                          combo_list = combo_list,\n",
    "                          grand_list = grand_list)\n",
    "                    #combinationList.remove(combinationList.size() - 1);\n",
    "                    #print(combo_list)\n",
    "                    #print(len(combo_list) - 1)\n",
    "                    del combo_list[(len(combo_list) - 1)]\n",
    "                    #prevElement = arrA[i];\n",
    "                    prev_element = num_list[i]\n",
    "        return grand_list                    \n",
    "    output_list = do_it(num_list = num_list, total_sum = total_sum)\n",
    "    return output_list"
   ]
  },
  {
   "cell_type": "code",
   "execution_count": null,
   "id": "exotic-polish",
   "metadata": {},
   "outputs": [],
   "source": [
    "num_list = sorted(cc_df['l_score'].tolist())"
   ]
  },
  {
   "cell_type": "code",
   "execution_count": null,
   "id": "certain-relaxation",
   "metadata": {},
   "outputs": [],
   "source": [
    "my_list = [6, 2, 7, 8, 2, 4, 1, 3, 7, 5]"
   ]
  },
  {
   "cell_type": "code",
   "execution_count": null,
   "id": "congressional-lounge",
   "metadata": {},
   "outputs": [],
   "source": [
    "my_list = sorted(my_list)"
   ]
  },
  {
   "cell_type": "code",
   "execution_count": null,
   "id": "broken-pilot",
   "metadata": {},
   "outputs": [],
   "source": [
    "my_list"
   ]
  },
  {
   "cell_type": "code",
   "execution_count": null,
   "id": "early-israeli",
   "metadata": {},
   "outputs": [],
   "source": [
    "s_time = datetime.datetime.now()\n",
    "output = call_do_it(num_list = my_list, total_sum = 8)\n",
    "e_time = datetime.datetime.now()\n",
    "p_time = e_time - s_time\n",
    "p_time = p_time.total_seconds()\n",
    "print(p_time)\n",
    "print(len(output))"
   ]
  },
  {
   "cell_type": "code",
   "execution_count": null,
   "id": "regulation-heart",
   "metadata": {},
   "outputs": [],
   "source": [
    "output"
   ]
  },
  {
   "cell_type": "code",
   "execution_count": null,
   "id": "caroline-median",
   "metadata": {},
   "outputs": [],
   "source": [
    "df = df.sort_values(by = 'l_score', ascending=False)"
   ]
  },
  {
   "cell_type": "code",
   "execution_count": null,
   "id": "white-richmond",
   "metadata": {},
   "outputs": [],
   "source": [
    "df.head()"
   ]
  },
  {
   "cell_type": "code",
   "execution_count": null,
   "id": "working-violation",
   "metadata": {},
   "outputs": [],
   "source": [
    "len(cc_df)"
   ]
  },
  {
   "cell_type": "code",
   "execution_count": null,
   "id": "reflected-suspect",
   "metadata": {},
   "outputs": [],
   "source": [
    "s_time = datetime.datetime.now()\n",
    "output = call_do_it(num_list = num_list, total_sum = fw_sum)\n",
    "e_time = datetime.datetime.now()\n",
    "p_time = e_time - s_time\n",
    "p_time = p_time.total_seconds()\n",
    "print(p_time)\n",
    "print(len(output))"
   ]
  },
  {
   "cell_type": "code",
   "execution_count": null,
   "id": "manual-simpson",
   "metadata": {},
   "outputs": [],
   "source": []
  },
  {
   "cell_type": "code",
   "execution_count": null,
   "id": "invisible-logan",
   "metadata": {},
   "outputs": [],
   "source": []
  },
  {
   "cell_type": "code",
   "execution_count": null,
   "id": "middle-australian",
   "metadata": {},
   "outputs": [],
   "source": [
    "output = do_it(num_list = my_list, total_sum = 8, curr_start=0, combo_list=[], grand_list = [])"
   ]
  },
  {
   "cell_type": "code",
   "execution_count": null,
   "id": "demographic-methodology",
   "metadata": {},
   "outputs": [],
   "source": [
    "output = do_it(num_list = num_list, total_sum = fw_sum)"
   ]
  },
  {
   "cell_type": "code",
   "execution_count": null,
   "id": "american-grass",
   "metadata": {},
   "outputs": [],
   "source": [
    "len(output)"
   ]
  },
  {
   "cell_type": "code",
   "execution_count": null,
   "id": "exclusive-agreement",
   "metadata": {},
   "outputs": [],
   "source": [
    "other_words = cc_df['lcase'].tolist()"
   ]
  },
  {
   "cell_type": "code",
   "execution_count": null,
   "id": "adopted-alberta",
   "metadata": {},
   "outputs": [],
   "source": []
  },
  {
   "cell_type": "code",
   "execution_count": null,
   "id": "molecular-bikini",
   "metadata": {},
   "outputs": [],
   "source": []
  },
  {
   "cell_type": "code",
   "execution_count": null,
   "id": "serious-blair",
   "metadata": {},
   "outputs": [],
   "source": [
    "output_pairs = []\n",
    "for ow in other_words:\n",
    "    ow_length = len(ow)\n",
    "    curr_other_words = cc_df.loc[(cc_df['lcase'] != ow) & \\\n",
    "                                 (cc_df['n_chars'] <= (fw_n_char - ow_length)), 'lcase']\n",
    "    print(ow, len(curr_other_words))\n",
    "    "
   ]
  },
  {
   "cell_type": "code",
   "execution_count": null,
   "id": "grateful-chemistry",
   "metadata": {},
   "outputs": [],
   "source": [
    "sorted(focal_word)"
   ]
  },
  {
   "cell_type": "code",
   "execution_count": null,
   "id": "killing-parliament",
   "metadata": {},
   "outputs": [],
   "source": []
  },
  {
   "cell_type": "code",
   "execution_count": null,
   "id": "suited-customs",
   "metadata": {},
   "outputs": [],
   "source": []
  },
  {
   "cell_type": "code",
   "execution_count": null,
   "id": "competitive-simulation",
   "metadata": {},
   "outputs": [],
   "source": [
    "n_char_list = sorted(cc_df['n_chars'].unique().tolist())"
   ]
  },
  {
   "cell_type": "code",
   "execution_count": null,
   "id": "described-debate",
   "metadata": {},
   "outputs": [],
   "source": [
    "n_char_list"
   ]
  },
  {
   "cell_type": "code",
   "execution_count": null,
   "id": "removed-agriculture",
   "metadata": {},
   "outputs": [],
   "source": [
    "# use a simple loop to discover the partitions\n",
    "part_pairs = []"
   ]
  },
  {
   "cell_type": "code",
   "execution_count": null,
   "id": "bottom-edgar",
   "metadata": {},
   "outputs": [],
   "source": [
    "# find all of the ways to sum to 7"
   ]
  },
  {
   "cell_type": "code",
   "execution_count": null,
   "id": "first-paint",
   "metadata": {},
   "outputs": [],
   "source": [
    "from itertools import combinations, product, combinations_with_replacement"
   ]
  },
  {
   "cell_type": "code",
   "execution_count": null,
   "id": "proud-commerce",
   "metadata": {},
   "outputs": [],
   "source": [
    "# theoretically, we're only gonna have to do this once for each count of letters"
   ]
  },
  {
   "cell_type": "code",
   "execution_count": null,
   "id": "breeding-postage",
   "metadata": {},
   "outputs": [],
   "source": [
    "# now, let's score each word by assigning each letter a prime number and adding up the value"
   ]
  },
  {
   "cell_type": "code",
   "execution_count": null,
   "id": "crucial-annotation",
   "metadata": {},
   "outputs": [],
   "source": [
    "letter_prime_dict"
   ]
  },
  {
   "cell_type": "code",
   "execution_count": null,
   "id": "extended-boundary",
   "metadata": {},
   "outputs": [],
   "source": [
    "df.head()"
   ]
  },
  {
   "cell_type": "code",
   "execution_count": null,
   "id": "excited-belle",
   "metadata": {},
   "outputs": [],
   "source": [
    "testo = df.loc[df['lcase']=='anagram', ]"
   ]
  },
  {
   "cell_type": "code",
   "execution_count": null,
   "id": "median-function",
   "metadata": {},
   "outputs": [],
   "source": [
    "testo.head()"
   ]
  },
  {
   "cell_type": "code",
   "execution_count": null,
   "id": "tribal-assault",
   "metadata": {},
   "outputs": [],
   "source": []
  },
  {
   "cell_type": "code",
   "execution_count": null,
   "id": "better-movement",
   "metadata": {},
   "outputs": [],
   "source": [
    "# n character sets\n",
    "n_sets = [x for x in combinations_with_replacement(n_char_list, r = fw_n_char) if sum(x) == fw_n_char]"
   ]
  },
  {
   "cell_type": "code",
   "execution_count": null,
   "id": "musical-stock",
   "metadata": {},
   "outputs": [],
   "source": [
    "n_sets"
   ]
  },
  {
   "cell_type": "code",
   "execution_count": null,
   "id": "proprietary-factor",
   "metadata": {},
   "outputs": [],
   "source": [
    "len(list(product([1,2,3,4], repeat = 7)))"
   ]
  },
  {
   "cell_type": "code",
   "execution_count": null,
   "id": "intellectual-pantyhose",
   "metadata": {},
   "outputs": [],
   "source": [
    "output_list = []\n",
    "for i in n_char_list:\n",
    "    n_sets = [x for x in combinations_with_replacement(n_char_list, r = i) if sum(x) == fw_n_char]\n",
    "    output_list.extend(n_sets)\n",
    "    \n",
    "        "
   ]
  },
  {
   "cell_type": "code",
   "execution_count": null,
   "id": "least-chocolate",
   "metadata": {},
   "outputs": [],
   "source": [
    "len(output_list)"
   ]
  },
  {
   "cell_type": "code",
   "execution_count": null,
   "id": "surrounded-deficit",
   "metadata": {},
   "outputs": [],
   "source": [
    "output_list"
   ]
  },
  {
   "cell_type": "code",
   "execution_count": null,
   "id": "thrown-immigration",
   "metadata": {},
   "outputs": [],
   "source": []
  },
  {
   "cell_type": "code",
   "execution_count": null,
   "id": "impaired-madonna",
   "metadata": {},
   "outputs": [],
   "source": [
    "s_time = datetime.datetime.now()\n",
    "pair_list = []\n",
    "count_list = 0\n",
    "for curr_n_char_group in output_list:\n",
    "    print(curr_n_char_group)\n",
    "    curr_word_list = []\n",
    "    for i_char in curr_n_char_group:\n",
    "        print(i_char)\n",
    "        curr_to_word_list = cc_df.loc[cc_df['n_chars']==i_char, 'lcase'].tolist()\n",
    "        #curr_word_list.append(curr_to_word_list)\n",
    "        curr_word_list.extend(curr_to_word_list)\n",
    "        print(len(curr_word_list))\n",
    "        temp_output = []\n",
    "        for curr_letter_tuple in combinations(curr_word_list, r = len(curr_n_char_group)):\n",
    "            curr_flat = ''.join(sorted(''.join(curr_letter_tuple)))\n",
    "            #print(curr_flat)\n",
    "            curr_hash = hash(curr_flat)\n",
    "            if(curr_hash == fw_hash):\n",
    "                count_list += 1\n",
    "                pair_list.append(curr_letter_tuple)\n",
    "                \n",
    "            \n",
    "            \n",
    "    \n",
    "    \n",
    "    \n",
    "    \n",
    "    \n",
    "    "
   ]
  },
  {
   "cell_type": "code",
   "execution_count": null,
   "id": "breeding-drinking",
   "metadata": {},
   "outputs": [],
   "source": [
    "pair_list[:5]"
   ]
  },
  {
   "cell_type": "code",
   "execution_count": null,
   "id": "domestic-lucas",
   "metadata": {},
   "outputs": [],
   "source": [
    "len(pair_list)"
   ]
  }
 ],
 "metadata": {
  "kernelspec": {
   "display_name": "Python 3.7.6 64-bit ('analysis': conda)",
   "language": "python",
   "name": "python37664bitanalysisconda9de0f707a5a443ea87ec25563936da81"
  },
  "language_info": {
   "codemirror_mode": {
    "name": "ipython",
    "version": 3
   },
   "file_extension": ".py",
   "mimetype": "text/x-python",
   "name": "python",
   "nbconvert_exporter": "python",
   "pygments_lexer": "ipython3",
   "version": "3.8.8"
  }
 },
 "nbformat": 4,
 "nbformat_minor": 5
}
