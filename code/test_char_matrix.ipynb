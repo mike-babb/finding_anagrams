{
 "cells": [
  {
   "cell_type": "code",
   "execution_count": 1,
   "metadata": {},
   "outputs": [],
   "source": [
    "# check my matrix\n",
    "import os\n",
    "import numpy"
   ]
  },
  {
   "cell_type": "code",
   "execution_count": 2,
   "metadata": {},
   "outputs": [],
   "source": [
    "import _run_constants as rc\n",
    "from part_00_file_db_utils import *\n",
    "from part_00_process_functions import *"
   ]
  },
  {
   "cell_type": "code",
   "execution_count": 3,
   "metadata": {},
   "outputs": [
    {
     "name": "stdout",
     "output_type": "stream",
     "text": [
      "...loading words into a dataframe...\n",
      "...query execution took: 1.19 seconds...\n",
      "...loading word groups into a dataframe...\n",
      "...query execution took: 1.29 seconds...\n",
      "...loading the letter dictionary...\n",
      "...loading the char matrix...\n",
      "...subsetting the char matrix...\n"
     ]
    }
   ],
   "source": [
    "word_df, wg_df, letter_dict, char_matrix, word_group_id_list, word_id_list, wchar_matrix = load_input_data(db_path=rc.DB_PATH,\n",
    "                                                                                                               db_name=rc.DB_NAME,\n",
    "                                                                                                               in_file_path=rc.DATA_OUTPUT_FILE_PATH)\n",
    "    "
   ]
  },
  {
   "cell_type": "code",
   "execution_count": 4,
   "metadata": {},
   "outputs": [
    {
     "data": {
      "text/plain": [
       "10"
      ]
     },
     "execution_count": 4,
     "metadata": {},
     "output_type": "execute_result"
    }
   ],
   "source": [
    "letter_dict['k']"
   ]
  },
  {
   "cell_type": "code",
   "execution_count": 10,
   "metadata": {},
   "outputs": [
    {
     "data": {
      "text/plain": [
       "(234370, 26)"
      ]
     },
     "execution_count": 10,
     "metadata": {},
     "output_type": "execute_result"
    }
   ],
   "source": [
    "char_matrix.shape"
   ]
  },
  {
   "cell_type": "code",
   "execution_count": 11,
   "metadata": {},
   "outputs": [
    {
     "data": {
      "text/plain": [
       "(215842,)"
      ]
     },
     "execution_count": 11,
     "metadata": {},
     "output_type": "execute_result"
    }
   ],
   "source": [
    "word_id_list.shape"
   ]
  },
  {
   "cell_type": "code",
   "execution_count": 12,
   "metadata": {},
   "outputs": [
    {
     "data": {
      "text/plain": [
       "(215842,)"
      ]
     },
     "execution_count": 12,
     "metadata": {},
     "output_type": "execute_result"
    }
   ],
   "source": [
    "word_group_id_list.shape"
   ]
  },
  {
   "cell_type": "code",
   "execution_count": 9,
   "metadata": {},
   "outputs": [
    {
     "ename": "IndexError",
     "evalue": "boolean index did not match indexed array along dimension 0; dimension is 215842 but corresponding boolean dimension is 234370",
     "output_type": "error",
     "traceback": [
      "\u001b[1;31m---------------------------------------------------------------------------\u001b[0m",
      "\u001b[1;31mIndexError\u001b[0m                                Traceback (most recent call last)",
      "Cell \u001b[1;32mIn[9], line 5\u001b[0m\n\u001b[0;32m      3\u001b[0m \u001b[38;5;28;01mfor\u001b[39;00m cc \u001b[38;5;129;01min\u001b[39;00m char_list:\n\u001b[0;32m      4\u001b[0m     temp_outcome \u001b[38;5;241m=\u001b[39m char_matrix[:, letter_dict[cc]] \u001b[38;5;241m==\u001b[39m \u001b[38;5;241m0\u001b[39m\n\u001b[1;32m----> 5\u001b[0m     temp_outcome \u001b[38;5;241m=\u001b[39m word_id_list[temp_outcome]\n\u001b[0;32m      7\u001b[0m     outcome\u001b[38;5;241m.\u001b[39mupdate(temp_outcome)\n",
      "\u001b[1;31mIndexError\u001b[0m: boolean index did not match indexed array along dimension 0; dimension is 215842 but corresponding boolean dimension is 234370"
     ]
    }
   ],
   "source": [
    "outcome = set()\n",
    "char_list = ['k', 'w']\n",
    "for cc in char_list:\n",
    "    temp_outcome = char_matrix[:, letter_dict[cc]] == 0\n",
    "    temp_outcome = word_id_list[temp_outcome]\n",
    "\n",
    "    outcome.update(temp_outcome)"
   ]
  },
  {
   "cell_type": "code",
   "execution_count": 8,
   "metadata": {},
   "outputs": [
    {
     "data": {
      "text/plain": [
       "2"
      ]
     },
     "execution_count": 8,
     "metadata": {},
     "output_type": "execute_result"
    }
   ],
   "source": [
    "len(outcome)"
   ]
  },
  {
   "cell_type": "code",
   "execution_count": 4,
   "metadata": {},
   "outputs": [
    {
     "name": "stdout",
     "output_type": "stream",
     "text": [
      "...enumerating 16,101 records...\n",
      "...1,000 records enumerated...\n",
      "...2,000 records enumerated...\n",
      "...3,000 records enumerated...\n",
      "...4,000 records enumerated...\n",
      "...5,000 records enumerated...\n",
      "...6,000 records enumerated...\n",
      "...7,000 records enumerated...\n",
      "...8,000 records enumerated...\n",
      "...9,000 records enumerated...\n",
      "...10,000 records enumerated...\n",
      "...11,000 records enumerated...\n",
      "...12,000 records enumerated...\n",
      "...13,000 records enumerated...\n",
      "...14,000 records enumerated...\n",
      "...15,000 records enumerated...\n",
      "...16,000 records enumerated...\n",
      "...2,387 sub-matrices created...\n",
      "Total extraction time: 10.7 seconds.\n"
     ]
    }
   ],
   "source": [
    "\n",
    "n_subset_letters = 3\n",
    "matrix_extraction_option = 5\n",
    "wg_df, n_char_matrix_dict, single_letter_matrix_dict, letter_selector_matrix_dict, nc_ls_matrix_dict, p_time = split_matrix(\n",
    "    letter_dict=letter_dict,\n",
    "    word_group_id_list=word_group_id_list,\n",
    "    wg_df=wg_df,\n",
    "    wchar_matrix=wchar_matrix,\n",
    "    n_subset_letters=n_subset_letters,\n",
    "    matrix_extraction_option=matrix_extraction_option\n",
    ")"
   ]
  },
  {
   "cell_type": "code",
   "execution_count": 6,
   "metadata": {},
   "outputs": [],
   "source": [
    "test_keys = letter_selector_matrix_dict.keys()"
   ]
  },
  {
   "cell_type": "code",
   "execution_count": 7,
   "metadata": {},
   "outputs": [
    {
     "data": {
      "text/plain": [
       "dict_keys([0, 1081, 1083, 1114, 1188, 1049, 1684, 1199, 155, 147, 1421, 174, 1456, 4, 47, 113, 7, 14, 125, 114, 13, 891, 9, 26, 267, 281, 104, 25, 65, 61, 66, 72, 21, 19, 126, 20, 10, 105, 92, 73, 54, 99, 74, 41, 128, 48, 49, 903, 102, 2179, 106, 75, 111, 109, 122, 1479, 1856, 2177, 67, 15, 124, 6, 110, 117, 52, 1492, 1494, 1493, 76, 16, 1481, 31, 1483, 27, 5, 95, 33, 58, 898, 30, 87, 136, 269, 895, 53, 46, 55, 24, 44, 121, 2188, 35, 42, 43, 62, 129, 103, 89, 642, 643, 807, 656, 654, 644, 655, 648, 902, 63, 1485, 2183, 64, 88, 133, 1730, 69, 1649, 56, 137, 899, 81, 130, 2184, 83, 98, 22, 71, 70, 37, 80, 268, 1491, 1488, 1047, 1517, 1859, 1862, 12, 94, 2191, 1489, 1271, 1480, 118, 120, 282, 283, 1643, 135, 551, 546, 141, 152, 202, 2082, 2205, 212, 181, 184, 185, 798, 598, 560, 2071, 2166, 2100, 2136, 1123, 1147, 1437, 629, 553, 607, 564, 577, 442, 530, 2093, 557, 1922, 583, 550, 1213, 1212, 1257, 160, 1216, 187, 169, 344, 167, 149, 421, 527, 1872, 151, 170, 171, 2076, 253, 1433, 139, 2078, 1497, 450, 1120, 150, 1438, 1217, 223, 2085, 1590, 164, 2075, 1501, 1626, 189, 422, 1176, 2116, 2289, 1618, 148, 432, 528, 1508, 2120, 1577, 428, 188, 587, 517, 1155, 2073, 1125, 176, 1502, 549, 1436, 2333, 1581, 1631, 2089, 1638, 1996, 539, 140, 1296, 287, 275, 2094, 2195, 2376, 291, 401, 2200, 175, 2178, 1953, 2036, 2039, 2192, 402, 2373, 2037, 2097, 543, 547, 454, 2268, 1716, 1484, 1549, 1553, 2248, 1719, 1916, 2181, 2253, 2104, 304, 293, 2202, 186, 300, 424, 392, 2072, 913, 1066, 987, 1731, 1735, 144, 1117, 1121, 912, 154, 1122, 1214, 163, 1124, 2124, 1320, 1294, 1362, 1276, 1310, 1290, 1272, 1336, 1337, 2074, 1661, 2198, 290, 443, 1518, 1215, 1434, 476, 532, 466, 2379, 208, 426, 1970, 535, 1571, 2340, 354, 1546, 178, 427, 431, 438, 434, 180, 2201, 201, 211, 210, 205, 206, 240, 222, 230, 231, 23, 226, 1511, 232, 1627, 233, 209, 245, 261, 1667, 1679, 1673, 1876, 2077, 2087, 2204, 1873, 179, 2081, 213, 323, 1678, 248, 200, 2088, 243, 260, 1514, 193, 556, 199, 242, 252, 1515, 196, 563, 562, 297, 2211, 2083, 437, 439, 216, 256, 257, 1358, 1330, 1889, 965, 561, 1550, 1628, 1884, 435, 228, 1880, 917, 858, 664, 692, 809, 823, 668, 673, 674, 667, 708, 1877, 1507, 1878, 1882, 219, 2206, 198, 236, 217, 241, 1879, 1874, 1913, 2207, 303, 229, 250, 1677, 259, 2086, 308, 320, 1504, 2212, 928, 1535, 1547, 1509, 1513, 1519, 2339, 2005, 1815, 2209, 2264, 1, 1187, 425, 237, 296, 490, 524, 477, 481, 436, 463, 512, 491, 464, 514, 502, 446, 453, 447, 457, 538, 1464, 475, 1093, 1090, 197, 1225, 1104, 1135, 1106, 1228, 1149, 2139, 1055, 1193, 1407, 2143, 404, 1319, 1324, 1313, 1323, 1375, 498, 1196, 1182, 1426, 1429, 1096, 2113, 2111, 1103, 1376, 398, 351, 411, 1380, 340, 462, 505, 531, 537, 473, 521, 1112, 575, 1141, 1173, 2123, 1472, 1183, 359, 1241, 1252, 602, 601, 604, 1224, 1227, 1402, 1105, 605, 1245, 1409, 1167, 1989, 1171, 1153, 523, 2147, 1385, 619, 1404, 586, 635, 1417, 1110, 1467, 1478, 284, 388, 374, 301, 274, 338, 342, 264, 385, 307, 286, 1532, 353, 328, 367, 355, 298, 406, 1530, 413, 1524, 407, 1886, 1893, 1900, 1898, 1895, 1901, 394, 414, 289, 384, 352, 322, 325, 309, 302, 318, 317, 1529, 400, 266, 939, 311, 347, 932, 1689, 935, 332, 349, 389, 377, 390, 383, 381, 330, 2216, 944, 933, 940, 316, 313, 1691, 272, 1682, 280, 271, 365, 312, 399, 1686, 1520, 319, 350, 1734, 341, 1523, 372, 371, 942, 315, 410, 373, 945, 936, 1690, 331, 1696, 1687, 1695, 2222, 416, 508, 1701, 1906, 460, 469, 465, 470, 36, 474, 472, 483, 433, 486, 495, 494, 1704, 509, 1711, 452, 952, 2244, 516, 1533, 1544, 1705, 2231, 2233, 417, 520, 1538, 1545, 507, 418, 1539, 2245, 496, 2180, 1534, 1543, 536, 441, 448, 451, 29, 513, 1911, 950, 2237, 2239, 2232, 423, 449, 480, 2246, 533, 501, 525, 487, 493, 961, 526, 541, 588, 969, 1069, 1552, 552, 597, 576, 971, 621, 2092, 585, 558, 624, 608, 1726, 324, 594, 582, 618, 2099, 581, 616, 628, 632, 636, 634, 1718, 2, 1386, 1706, 1289, 1032, 1087, 1091, 1107, 1136, 2112, 1446, 1258, 1447, 1671, 1116, 986, 1157, 2117, 1160, 571, 1450, 1152, 1664, 1758, 1394, 983, 1134, 994, 1014, 1254, 370, 1665, 914, 1248, 1676, 1842, 1838, 1762, 1724, 1836, 1100, 1465, 1413, 1420, 1045, 1769, 1849, 2280, 2197, 2302, 640, 696, 780, 804, 806, 713, 734, 699, 794, 834, 704, 755, 887, 978, 997, 991, 998, 1041, 911, 1021, 1022, 1729, 2267, 964, 888, 890, 889, 1071, 904, 1034, 1065, 963, 973, 968, 974, 920, 1025, 915, 995, 1073, 916, 922, 926, 921, 1004, 975, 955, 1040, 1058, 1007, 1018, 1027, 1028, 1056, 1061, 1036, 1739, 910, 1067, 568, 1132, 1133, 580, 2109, 1179, 984, 1444, 1749, 1672, 1082, 335, 666, 1129, 2255, 1448, 1565, 1944, 1950, 1947, 1867, 1919, 2044, 1997, 681, 1283, 938, 461, 953, 1267, 2283, 1738, 946, 1574, 574, 1562, 1568, 2096, 2287, 2285, 647, 967, 990, 931, 947, 1072, 981, 2269, 2262, 1017, 985, 1011, 982, 1930, 1943, 2279, 962, 1569, 2106, 1441, 1630, 1837, 1037, 1111, 2311, 1567, 1753, 1658, 1834, 1754, 1951, 1962, 2110, 1620, 1761, 339, 2167, 1221, 1972, 1708, 1008, 771, 1755, 2298, 2345, 1566, 1161, 1137, 2238, 1175, 1146, 1166, 2122, 1184, 1168, 1580, 1579, 2288, 2374, 2223, 2297, 2291, 2292, 2296, 1852, 1865, 1486, 1857, 1115, 207, 1570, 1164, 1154, 1952, 584, 2249, 471, 1140, 1293, 996, 2041, 2121, 1143, 348, 753, 1180, 992, 1165, 1181, 954, 1576, 2119, 2118, 1150, 1359, 1958, 1894, 2115, 1186, 77, 2187, 2185, 2257, 633, 1044, 2378, 1390, 2241, 1229, 2130, 2323, 1993, 1262, 1963, 1908, 2053, 1965, 2126, 2338, 1715, 1273, 1960, 1453, 2254, 1540, 1905, 959, 949, 1702, 1647, 1393, 756, 801, 1002, 897, 720, 906, 1075, 1079, 1259, 1966, 2012, 1961, 1998, 1606, 1636, 1613, 2162, 2129, 2334, 2168, 2172, 1232, 2042, 606, 1452, 1956, 1868, 1795, 1713, 1977, 2144, 1609, 1802, 2235, 2103, 1924, 1925, 2258, 1291, 1521, 1918, 1915, 2050, 1853, 894, 1634, 1883, 1976, 1909, 2157, 2228, 2219, 1940, 960, 1907, 2001, 2052, 1764, 2145, 1263, 1527, 1328, 1370, 1327, 2326, 2308, 2315, 993, 1623, 1798, 1786, 905, 2047, 2000, 2048, 1839, 1843, 2196, 2299, 1201, 361, 1955, 1423, 1408, 258, 1445, 1206, 1209, 227, 492, 1238, 768, 1249, 2141, 1207, 1233, 1242, 1598, 1261, 2142, 1969, 901, 1208, 1015, 1235, 1246, 1599, 712, 818, 1226, 1308, 1247, 2294, 2135, 1597, 1593, 2316, 729, 1693, 1556, 2314, 93, 1361, 1596, 2011, 2018, 1975, 1253, 2140, 1326, 1281, 1339, 1268, 1325, 1374, 134, 1745, 778, 2164, 803, 1788, 1743, 1740, 1863, 2190, 1536, 735, 1053, 1736, 1668, 1099, 702, 626, 2303, 1399, 1466, 2329, 1748, 1766, 131, 1791, 2040, 1350, 1078, 592, 2252, 2259, 1797, 1600, 1608, 1648, 1756, 1781, 1804, 1765, 2150, 2102, 2199, 2189, 1615, 1043, 1586, 1979, 2385, 2380, 2349, 2367, 2335, 1384, 2063, 613, 1558, 1744, 1026, 924, 2156, 2151, 2154, 412, 2321, 2325, 2286, 2384, 1710, 1411, 1995, 1610, 1990, 2331, 1412, 1559, 1725, 1722, 1029, 1172, 1033, 1474, 1624, 1732, 2033, 1803, 1431, 1473, 883, 2171, 1459, 1461, 1978, 2337, 1469, 1560, 2386, 1768, 1542, 1912, 1864, 1476, 1548, 1582, 1500, 1477, 1621, 1557, 1635, 1604, 2351, 2347, 1637, 2016, 1498, 1048, 1503, 1531, 1607, 2341, 1587, 1512, 1510, 1824, 1813, 1821, 1814, 1828, 1830, 1826, 1640, 1699, 1799, 1645, 1811, 1812, 1832, 1654, 1641, 1697, 1698, 1723, 1642, 1773, 1741, 1847, 1928, 1848, 1983, 1891, 1890, 1949, 1903, 1957, 2057, 1936, 1933, 2022, 2032, 2067, 2068, 2165, 2224, 2382, 870, 2247, 2284, 2305, 2226, 2342, 2217, 2230, 2225, 2330, 2059, 2056, 2058, 2065, 2336, 3, 50, 11, 892, 831, 719, 1851, 279, 40, 38, 39, 45, 51, 1656, 649, 652, 1644, 1657, 278, 276, 1487, 1651, 653, 1655, 1266, 86, 1650, 1887, 1265, 119, 1490, 2186, 28, 17, 108, 90, 270, 893, 78, 96, 97, 100, 2020, 107, 1482, 2215, 32, 8, 18, 34, 641, 825, 900, 59, 60, 1363, 79, 1357, 91, 1653, 2362, 101, 2354, 127, 2182, 645, 57, 85, 2003, 273, 843, 896, 1854, 68, 1850, 1858, 82, 132, 650, 277, 1861, 1652, 2026, 1329, 1338, 112, 115, 1277, 123, 138, 659, 157, 907, 419, 658, 657, 745, 857, 691, 705, 1666, 1778, 1675, 2013, 660, 661, 1833, 1662, 1870, 1888, 1742, 1825, 168, 1806, 1712, 1845, 1495, 1059, 1659, 1346, 2069, 2193, 142, 146, 182, 145, 1210, 162, 161, 2004, 165, 172, 173, 548, 2023, 707, 2220, 1926, 544, 2009, 1819, 545, 1286, 1333, 859, 716, 2360, 183, 420, 153, 1278, 861, 166, 1496, 2353, 1869, 1683, 689, 682, 2017, 1700, 844, 159, 156, 158, 1871, 288, 1902, 2317, 662, 808, 868, 811, 697, 822, 764, 1841, 1304, 1435, 1746, 751, 2352, 1829, 1499, 1663, 2355, 2030, 1343, 2021, 2372, 1432, 1064, 2208, 2344, 2278, 177, 292, 669, 925, 927, 721, 2356, 2210, 190, 1674, 220, 2079, 203, 204, 224, 234, 429, 235, 875, 923, 194, 214, 249, 238, 239, 1505, 2343, 1669, 1904, 191, 195, 2080, 192, 215, 221, 247, 295, 430, 919, 1052, 225, 1364, 672, 670, 1284, 1285, 1274, 1349, 1506, 1875, 218, 2084, 299, 671, 1817, 1818, 251, 254, 262, 573, 832, 1301, 1300, 2031, 1709, 84, 2194, 554, 1084, 1097, 980, 2107, 1377, 1378, 2229, 386, 334, 937, 440, 499, 479, 529, 484, 2240, 2242, 565, 630, 1089, 1159, 1198, 504, 744, 761, 929, 1019, 1006, 1131, 336, 1086, 709, 1109, 979, 1088, 1130, 572, 1101, 1108, 1126, 1118, 1158, 2295, 1163, 1128, 1170, 1169, 1151, 1177, 1189, 749, 358, 1525, 357, 739, 860, 758, 759, 754, 862, 1000, 1451, 1772, 1391, 1077, 1785, 1418, 1844, 1767, 1594, 1575, 1632, 1752, 1782, 1194, 1218, 1211, 1231, 1016, 2060, 2313, 2312, 1236, 1220, 2137, 1366, 1360, 1354, 1355, 1356, 1288, 1335, 1269, 1332, 1334, 1020, 2320, 1197, 1428, 1381, 1400, 2045, 1387, 1987, 1392, 1984, 1389, 1471, 1439, 518, 1454, 2348, 1516, 819, 1583, 1827, 1601, 1578, 1564, 1588, 1060, 1680, 1789, 1885, 2008, 1988, 2010, 1860, 1351, 845, 1881, 1910, 2007, 1946, 1992, 1945, 1959, 1935, 2051, 1897, 1973, 2035, 1352, 2046, 2015, 2062, 1348, 855, 2064, 2090, 2127, 2148, 2163, 2149, 2318, 263, 2266, 265, 306, 930, 943, 941, 343, 408, 1694, 378, 688, 395, 1528, 2214, 305, 294, 375, 2218, 684, 337, 380, 345, 356, 362, 326, 376, 329, 397, 379, 393, 1051, 1685, 403, 2358, 333, 285, 677, 363, 310, 680, 683, 368, 366, 387, 1522, 1892, 2221, 679, 722, 1932, 360, 314, 369, 2227, 382, 396, 1526, 1692, 1896, 1899, 409, 675, 1279, 1331, 686, 391, 415, 957, 690, 1287, 698, 2359, 693, 951, 510, 2234, 948, 703, 956, 458, 467, 478, 503, 506, 444, 455, 456, 500, 511, 459, 468, 485, 489, 1537, 2236, 482, 701, 1541, 522, 534, 958, 2243, 497, 515, 519, 540, 321, 559, 2101, 706, 970, 694, 591, 1554, 611, 972, 1367, 1714, 1720, 2256, 569, 609, 2250, 2251, 567, 555, 445, 590, 610, 874, 578, 589, 2098, 599, 622, 623, 1551, 1717, 1917, 1914, 1934, 2054, 1920, 1923, 2095, 566, 542, 723, 724, 966, 570, 579, 600, 603, 615, 593, 1921, 595, 596, 617, 625, 327, 1555, 1721, 830, 627, 631, 2091, 637, 1202, 1855, 143, 2070, 638, 405, 1727, 762, 743, 783, 977, 1070, 1001, 1085, 1102, 1223, 2108, 1127, 1139, 1760, 1954, 1148, 2346, 1178, 1190, 2301, 1195, 1419, 1012, 867, 871, 790, 1822, 1584, 1057, 1823, 1204, 1775, 1314, 1311, 1401, 1388, 1792, 1398, 2061, 1406, 1463, 1415, 1425, 2327, 1629, 1794, 1866, 1982, 2134, 2282, 2377, 639, 726, 847, 776, 663, 812, 736, 741, 742, 725, 748, 826, 718, 731, 728, 733, 766, 864, 800, 752, 767, 866, 852, 878, 885, 727, 787, 881, 715, 805, 763, 769, 777, 779, 879, 700, 774, 873, 865, 820, 784, 791, 732, 795, 814, 816, 821, 824, 828, 842, 856, 882, 869, 880, 665, 737, 765, 781, 685, 678, 687, 676, 746, 877, 757, 872, 710, 815, 730, 782, 796, 785, 786, 838, 792, 839, 827, 829, 833, 876, 717, 646, 695, 738, 747, 849, 793, 813, 846, 760, 740, 863, 711, 714, 775, 884, 750, 788, 789, 817, 835, 837, 836, 797, 772, 810, 853, 848, 850, 854, 886, 1299, 1013, 2270, 1076, 1063, 1046, 1074, 2261, 2272, 908, 918, 999, 1009, 1023, 1030, 1050, 934, 1010, 2276, 1931, 1068, 909, 976, 1039, 989, 1938, 1024, 1031, 1054, 1737, 1941, 2271, 1937, 1942, 1003, 1042, 2263, 1939, 2277, 1035, 1302, 1062, 1080, 1807, 1222, 1751, 1094, 1442, 1563, 1750, 1098, 1443, 1092, 1747, 1948, 1440, 2105, 1113, 2028, 1344, 1757, 988, 1162, 1145, 1144, 1138, 1572, 1759, 2293, 1763, 1119, 346, 1309, 1142, 1156, 1174, 1342, 2114, 1185, 1307, 1230, 2300, 1191, 1986, 1585, 1770, 2364, 2128, 1964, 1192, 2365, 1449, 1200, 1396, 1203, 1397, 1095, 1614, 1005, 2306, 2381, 1379, 2274, 2383, 1395, 1422, 802, 1810, 1787, 1603, 841, 1305, 2350, 2371, 1633, 1774, 1776, 1796, 1967, 1968, 1994, 2043, 2025, 2024, 2324, 1205, 1784, 651, 1777, 2307, 1974, 1340, 1256, 1589, 1595, 1239, 1240, 1591, 1779, 488, 1244, 770, 1243, 1250, 1251, 1219, 364, 2273, 1780, 2138, 1971, 2310, 1234, 1237, 1312, 1783, 1282, 1255, 1264, 1275, 1315, 1316, 1317, 1292, 1306, 1298, 1297, 1368, 1345, 1365, 1372, 773, 1280, 1322, 1321, 1303, 1347, 1369, 1373, 1427, 1602, 1622, 1790, 1980, 1382, 1981, 1457, 1455, 1999, 1383, 2275, 1270, 2322, 851, 1405, 1793, 2152, 612, 614, 1295, 1605, 2153, 1985, 2055, 2368, 2155, 1460, 1403, 2363, 1462, 1353, 1410, 1318, 2159, 244, 1414, 246, 2160, 1611, 1800, 1801, 1991, 2328, 620, 1416, 2161, 2369, 1424, 1468, 1470, 2158, 1430, 116, 255, 799, 1038, 1808, 840, 2034, 1260, 1458, 1617, 1475, 2014, 1561, 1371, 1612, 1619, 2006, 1820, 1573, 1592, 2002, 1616, 1639, 1681, 1341, 1707, 1809, 2019, 2029, 1840, 1646, 1733, 2357, 1728, 1816, 1835, 1660, 1670, 1771, 1688, 1703, 2361, 2027, 1805, 2370, 1831, 1846, 1927, 1929, 2066, 2132, 2170, 1625, 2133, 2038, 2375, 2125, 2131, 2169, 2146, 2173, 2174, 2049, 2175, 2203, 2213, 2265, 2281, 2290, 2309, 2319, 2176, 2260, 2304, 2366, 2332])"
      ]
     },
     "execution_count": 7,
     "metadata": {},
     "output_type": "execute_result"
    }
   ],
   "source": [
    "test_keys"
   ]
  },
  {
   "cell_type": "code",
   "execution_count": 8,
   "metadata": {},
   "outputs": [
    {
     "data": {
      "text/plain": [
       "(215842, 14)"
      ]
     },
     "execution_count": 8,
     "metadata": {},
     "output_type": "execute_result"
    }
   ],
   "source": [
    "wg_df.shape"
   ]
  },
  {
   "cell_type": "code",
   "execution_count": 9,
   "metadata": {},
   "outputs": [
    {
     "data": {
      "text/html": [
       "<div>\n",
       "<style scoped>\n",
       "    .dataframe tbody tr th:only-of-type {\n",
       "        vertical-align: middle;\n",
       "    }\n",
       "\n",
       "    .dataframe tbody tr th {\n",
       "        vertical-align: top;\n",
       "    }\n",
       "\n",
       "    .dataframe thead th {\n",
       "        text-align: right;\n",
       "    }\n",
       "</style>\n",
       "<table border=\"1\" class=\"dataframe\">\n",
       "  <thead>\n",
       "    <tr style=\"text-align: right;\">\n",
       "      <th></th>\n",
       "      <th>word</th>\n",
       "      <th>lcase</th>\n",
       "      <th>n_chars</th>\n",
       "      <th>first_letter</th>\n",
       "      <th>word_id</th>\n",
       "      <th>word_group_id</th>\n",
       "      <th>letter_group</th>\n",
       "      <th>letter_group_ranked</th>\n",
       "      <th>word_group_count</th>\n",
       "      <th>letter_selector</th>\n",
       "      <th>first_letter_id</th>\n",
       "      <th>single_letter_id</th>\n",
       "      <th>letter_selector_id</th>\n",
       "      <th>nc_ls_id</th>\n",
       "    </tr>\n",
       "  </thead>\n",
       "  <tbody>\n",
       "    <tr>\n",
       "      <th>0</th>\n",
       "      <td>A</td>\n",
       "      <td>a</td>\n",
       "      <td>1</td>\n",
       "      <td>a</td>\n",
       "      <td>0</td>\n",
       "      <td>0</td>\n",
       "      <td>a</td>\n",
       "      <td>a</td>\n",
       "      <td>1</td>\n",
       "      <td>a</td>\n",
       "      <td>0</td>\n",
       "      <td>0</td>\n",
       "      <td>0</td>\n",
       "      <td>0</td>\n",
       "    </tr>\n",
       "    <tr>\n",
       "      <th>1</th>\n",
       "      <td>aa</td>\n",
       "      <td>aa</td>\n",
       "      <td>2</td>\n",
       "      <td>a</td>\n",
       "      <td>1</td>\n",
       "      <td>1</td>\n",
       "      <td>a</td>\n",
       "      <td>a</td>\n",
       "      <td>1</td>\n",
       "      <td>a</td>\n",
       "      <td>0</td>\n",
       "      <td>0</td>\n",
       "      <td>0</td>\n",
       "      <td>1</td>\n",
       "    </tr>\n",
       "    <tr>\n",
       "      <th>2</th>\n",
       "      <td>aal</td>\n",
       "      <td>aal</td>\n",
       "      <td>3</td>\n",
       "      <td>a</td>\n",
       "      <td>2</td>\n",
       "      <td>2</td>\n",
       "      <td>al</td>\n",
       "      <td>la</td>\n",
       "      <td>2</td>\n",
       "      <td>la</td>\n",
       "      <td>0</td>\n",
       "      <td>11</td>\n",
       "      <td>1081</td>\n",
       "      <td>2</td>\n",
       "    </tr>\n",
       "    <tr>\n",
       "      <th>3</th>\n",
       "      <td>aalii</td>\n",
       "      <td>aalii</td>\n",
       "      <td>5</td>\n",
       "      <td>a</td>\n",
       "      <td>3</td>\n",
       "      <td>3</td>\n",
       "      <td>ail</td>\n",
       "      <td>lai</td>\n",
       "      <td>1</td>\n",
       "      <td>lai</td>\n",
       "      <td>0</td>\n",
       "      <td>11</td>\n",
       "      <td>1083</td>\n",
       "      <td>3</td>\n",
       "    </tr>\n",
       "    <tr>\n",
       "      <th>4</th>\n",
       "      <td>aam</td>\n",
       "      <td>aam</td>\n",
       "      <td>3</td>\n",
       "      <td>a</td>\n",
       "      <td>4</td>\n",
       "      <td>4</td>\n",
       "      <td>am</td>\n",
       "      <td>ma</td>\n",
       "      <td>2</td>\n",
       "      <td>ma</td>\n",
       "      <td>0</td>\n",
       "      <td>12</td>\n",
       "      <td>1114</td>\n",
       "      <td>4</td>\n",
       "    </tr>\n",
       "  </tbody>\n",
       "</table>\n",
       "</div>"
      ],
      "text/plain": [
       "    word  lcase  n_chars first_letter  word_id  word_group_id letter_group  \\\n",
       "0      A      a        1            a        0              0            a   \n",
       "1     aa     aa        2            a        1              1            a   \n",
       "2    aal    aal        3            a        2              2           al   \n",
       "3  aalii  aalii        5            a        3              3          ail   \n",
       "4    aam    aam        3            a        4              4           am   \n",
       "\n",
       "  letter_group_ranked  word_group_count letter_selector  first_letter_id  \\\n",
       "0                   a                 1               a                0   \n",
       "1                   a                 1               a                0   \n",
       "2                  la                 2              la                0   \n",
       "3                 lai                 1             lai                0   \n",
       "4                  ma                 2              ma                0   \n",
       "\n",
       "   single_letter_id  letter_selector_id  nc_ls_id  \n",
       "0                 0                   0         0  \n",
       "1                 0                   0         1  \n",
       "2                11                1081         2  \n",
       "3                11                1083         3  \n",
       "4                12                1114         4  "
      ]
     },
     "execution_count": 9,
     "metadata": {},
     "output_type": "execute_result"
    }
   ],
   "source": [
    "wg_df.head()"
   ]
  },
  {
   "cell_type": "code",
   "execution_count": 10,
   "metadata": {},
   "outputs": [
    {
     "ename": "AttributeError",
     "evalue": "'NoneType' object has no attribute 'keys'",
     "output_type": "error",
     "traceback": [
      "\u001b[1;31m---------------------------------------------------------------------------\u001b[0m",
      "\u001b[1;31mAttributeError\u001b[0m                            Traceback (most recent call last)",
      "Cell \u001b[1;32mIn[10], line 1\u001b[0m\n\u001b[1;32m----> 1\u001b[0m single_letter_matrix_dict\u001b[38;5;241m.\u001b[39mkeys()\n",
      "\u001b[1;31mAttributeError\u001b[0m: 'NoneType' object has no attribute 'keys'"
     ]
    }
   ],
   "source": [
    "single_letter_matrix_dict.keys()"
   ]
  },
  {
   "cell_type": "code",
   "execution_count": 11,
   "metadata": {},
   "outputs": [
    {
     "ename": "TypeError",
     "evalue": "'NoneType' object is not subscriptable",
     "output_type": "error",
     "traceback": [
      "\u001b[1;31m---------------------------------------------------------------------------\u001b[0m",
      "\u001b[1;31mTypeError\u001b[0m                                 Traceback (most recent call last)",
      "Cell \u001b[1;32mIn[11], line 1\u001b[0m\n\u001b[1;32m----> 1\u001b[0m testo \u001b[38;5;241m=\u001b[39m single_letter_matrix_dict[letter_dict[\u001b[38;5;124m'\u001b[39m\u001b[38;5;124mr\u001b[39m\u001b[38;5;124m'\u001b[39m]]\n",
      "\u001b[1;31mTypeError\u001b[0m: 'NoneType' object is not subscriptable"
     ]
    }
   ],
   "source": [
    "testo = single_letter_matrix_dict[letter_dict['r']]"
   ]
  },
  {
   "cell_type": "code",
   "execution_count": null,
   "metadata": {},
   "outputs": [],
   "source": [
    "len(testo)"
   ]
  },
  {
   "cell_type": "code",
   "execution_count": null,
   "metadata": {},
   "outputs": [],
   "source": [
    "a1, a2 = testo"
   ]
  },
  {
   "cell_type": "code",
   "execution_count": null,
   "metadata": {},
   "outputs": [],
   "source": [
    "a1.shape"
   ]
  },
  {
   "cell_type": "code",
   "execution_count": null,
   "metadata": {},
   "outputs": [],
   "source": [
    "a2.shape"
   ]
  },
  {
   "cell_type": "code",
   "execution_count": null,
   "metadata": {},
   "outputs": [],
   "source": [
    "flarcho = word_df.loc[word_df['word_group_id'].isin(a1), :]"
   ]
  },
  {
   "cell_type": "code",
   "execution_count": null,
   "metadata": {},
   "outputs": [],
   "source": [
    "flarcho.shape"
   ]
  },
  {
   "cell_type": "code",
   "execution_count": null,
   "metadata": {},
   "outputs": [],
   "source": [
    "18391 / 19346"
   ]
  },
  {
   "cell_type": "code",
   "execution_count": null,
   "metadata": {},
   "outputs": [],
   "source": [
    "type(letter_selector_matrix_dict)"
   ]
  },
  {
   "cell_type": "code",
   "execution_count": null,
   "metadata": {},
   "outputs": [],
   "source": [
    "type(nc_ls_matrix_dict)"
   ]
  },
  {
   "cell_type": "code",
   "execution_count": null,
   "metadata": {},
   "outputs": [],
   "source": [
    "wg_df.head()"
   ]
  },
  {
   "cell_type": "code",
   "execution_count": null,
   "metadata": {},
   "outputs": [],
   "source": [
    "wg_df.loc[(wg_df['first_letter'] == 'a') &\n",
    "    (wg_df['letter_selector'].str[:1] == 'v'), ].shape"
   ]
  },
  {
   "cell_type": "code",
   "execution_count": null,
   "metadata": {},
   "outputs": [],
   "source": [
    "wg_df.loc[(wg_df['first_letter'] == 'r') , ].shape"
   ]
  },
  {
   "cell_type": "code",
   "execution_count": null,
   "metadata": {},
   "outputs": [],
   "source": [
    "wchar_matrix.sum(0)"
   ]
  },
  {
   "cell_type": "code",
   "execution_count": null,
   "metadata": {},
   "outputs": [],
   "source": [
    "wchar_matrix.sum(0)[letter_dict['r']]"
   ]
  },
  {
   "cell_type": "code",
   "execution_count": null,
   "metadata": {},
   "outputs": [],
   "source": [
    "wchar_matrix_single = wchar_matrix >= 1"
   ]
  },
  {
   "cell_type": "code",
   "execution_count": null,
   "metadata": {},
   "outputs": [],
   "source": [
    "wchar_matrix_single.sum(0)[letter_dict['r']]"
   ]
  },
  {
   "cell_type": "code",
   "execution_count": 12,
   "metadata": {},
   "outputs": [],
   "source": [
    "import numpy as np\n",
    "import timeit"
   ]
  },
  {
   "cell_type": "code",
   "execution_count": 13,
   "metadata": {},
   "outputs": [],
   "source": [
    "d1_size = 2387\n",
    "d2_size = 16101\n",
    "\n",
    "def make_dict(n):\n",
    "    return {n:n for n in range(0, n + 1)}\n",
    "\n",
    "d1 = make_dict(n = d1_size)\n",
    "d2 = make_dict(n = d2_size)"
   ]
  },
  {
   "cell_type": "code",
   "execution_count": 14,
   "metadata": {},
   "outputs": [],
   "source": [
    "# now, perform some sampling to get the values\n",
    "# 10K samples\n",
    "rand_list = np.random.randint(low = 0, high = d1_size, size = 216000)"
   ]
  },
  {
   "cell_type": "code",
   "execution_count": 15,
   "metadata": {},
   "outputs": [
    {
     "data": {
      "text/plain": [
       "0.06067030019999947"
      ]
     },
     "execution_count": 15,
     "metadata": {},
     "output_type": "execute_result"
    }
   ],
   "source": [
    "code_statement = \"[d1[n] for n in rand_list]\"\n",
    "\n",
    "timeit.timeit(stmt = code_statement, number=1000, globals=globals()) / 1000\n"
   ]
  },
  {
   "cell_type": "code",
   "execution_count": 16,
   "metadata": {},
   "outputs": [
    {
     "data": {
      "text/plain": [
       "0.05404677030000312"
      ]
     },
     "execution_count": 16,
     "metadata": {},
     "output_type": "execute_result"
    }
   ],
   "source": [
    "code_statement = \"[d2[n] for n in rand_list]\"\n",
    "timeit.timeit(stmt = code_statement, number=1000, globals=globals()) / 1000\n"
   ]
  },
  {
   "cell_type": "code",
   "execution_count": null,
   "metadata": {},
   "outputs": [],
   "source": []
  },
  {
   "cell_type": "code",
   "execution_count": null,
   "metadata": {},
   "outputs": [
    {
     "name": "stdout",
     "output_type": "stream",
     "text": [
      "(1,)\n",
      "(2,)\n"
     ]
    }
   ],
   "source": [
    "for ii in zip([1,2):\n",
    "    print(ii)"
   ]
  },
  {
   "cell_type": "code",
   "execution_count": null,
   "metadata": {},
   "outputs": [],
   "source": []
  }
 ],
 "metadata": {
  "kernelspec": {
   "display_name": "analysis",
   "language": "python",
   "name": "python3"
  },
  "language_info": {
   "codemirror_mode": {
    "name": "ipython",
    "version": 3
   },
   "file_extension": ".py",
   "mimetype": "text/x-python",
   "name": "python",
   "nbconvert_exporter": "python",
   "pygments_lexer": "ipython3",
   "version": "3.12.7"
  }
 },
 "nbformat": 4,
 "nbformat_minor": 2
}
