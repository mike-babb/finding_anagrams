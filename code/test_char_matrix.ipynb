{
 "cells": [
  {
   "cell_type": "code",
   "execution_count": 1,
   "metadata": {},
   "outputs": [],
   "source": [
    "# check my matrix\n",
    "import os\n",
    "import numpy"
   ]
  },
  {
   "cell_type": "code",
   "execution_count": 2,
   "metadata": {},
   "outputs": [],
   "source": [
    "import _run_constants as rc\n",
    "from part_00_file_db_utils import *\n",
    "from part_00_process_functions import *"
   ]
  },
  {
   "cell_type": "code",
   "execution_count": 3,
   "metadata": {},
   "outputs": [
    {
     "name": "stdout",
     "output_type": "stream",
     "text": [
      "...loading words into a dataframe...\n",
      "...query execution took: 1.34 seconds...\n",
      "...loading word groups into a dataframe...\n",
      "...query execution took: 1.27 seconds...\n",
      "...loading the letter dictionary...\n",
      "...loading the char matrix...\n",
      "...subsetting the char matrix...\n"
     ]
    }
   ],
   "source": [
    "word_df, wg_df, letter_dict, char_matrix, word_group_id_list, word_id_list, wchar_matrix = load_input_data(db_path=rc.DB_PATH,\n",
    "                                                                                                               db_name=rc.DB_NAME,\n",
    "                                                                                                               in_file_path=rc.DATA_OUTPUT_FILE_PATH)\n",
    "    "
   ]
  },
  {
   "cell_type": "code",
   "execution_count": 4,
   "metadata": {},
   "outputs": [
    {
     "data": {
      "text/plain": [
       "(234370, 26)"
      ]
     },
     "execution_count": 4,
     "metadata": {},
     "output_type": "execute_result"
    }
   ],
   "source": [
    "char_matrix.shape"
   ]
  },
  {
   "cell_type": "code",
   "execution_count": 5,
   "metadata": {},
   "outputs": [
    {
     "data": {
      "text/plain": [
       "(215842,)"
      ]
     },
     "execution_count": 5,
     "metadata": {},
     "output_type": "execute_result"
    }
   ],
   "source": [
    "word_id_list.shape"
   ]
  },
  {
   "cell_type": "code",
   "execution_count": 6,
   "metadata": {},
   "outputs": [
    {
     "data": {
      "text/plain": [
       "(215842,)"
      ]
     },
     "execution_count": 6,
     "metadata": {},
     "output_type": "execute_result"
    }
   ],
   "source": [
    "word_group_id_list.shape"
   ]
  },
  {
   "cell_type": "code",
   "execution_count": 7,
   "metadata": {},
   "outputs": [
    {
     "data": {
      "text/plain": [
       "array([     0,      1,      2, ..., 234367, 234368, 234369], dtype=int64)"
      ]
     },
     "execution_count": 7,
     "metadata": {},
     "output_type": "execute_result"
    }
   ],
   "source": [
    "word_id_list"
   ]
  },
  {
   "cell_type": "code",
   "execution_count": 8,
   "metadata": {},
   "outputs": [],
   "source": [
    "# how many words have anagrams"
   ]
  },
  {
   "cell_type": "code",
   "execution_count": 9,
   "metadata": {},
   "outputs": [
    {
     "data": {
      "text/plain": [
       "(215842, 9)"
      ]
     },
     "execution_count": 9,
     "metadata": {},
     "output_type": "execute_result"
    }
   ],
   "source": [
    "wg_df.shape"
   ]
  },
  {
   "cell_type": "code",
   "execution_count": 10,
   "metadata": {},
   "outputs": [
    {
     "data": {
      "text/html": [
       "<div>\n",
       "<style scoped>\n",
       "    .dataframe tbody tr th:only-of-type {\n",
       "        vertical-align: middle;\n",
       "    }\n",
       "\n",
       "    .dataframe tbody tr th {\n",
       "        vertical-align: top;\n",
       "    }\n",
       "\n",
       "    .dataframe thead th {\n",
       "        text-align: right;\n",
       "    }\n",
       "</style>\n",
       "<table border=\"1\" class=\"dataframe\">\n",
       "  <thead>\n",
       "    <tr style=\"text-align: right;\">\n",
       "      <th></th>\n",
       "      <th>word</th>\n",
       "      <th>lcase</th>\n",
       "      <th>n_chars</th>\n",
       "      <th>first_letter</th>\n",
       "      <th>word_id</th>\n",
       "      <th>word_group_id</th>\n",
       "      <th>letter_group</th>\n",
       "      <th>letter_group_ranked</th>\n",
       "      <th>word_group_count</th>\n",
       "    </tr>\n",
       "  </thead>\n",
       "  <tbody>\n",
       "    <tr>\n",
       "      <th>0</th>\n",
       "      <td>A</td>\n",
       "      <td>a</td>\n",
       "      <td>1</td>\n",
       "      <td>a</td>\n",
       "      <td>0</td>\n",
       "      <td>0</td>\n",
       "      <td>a</td>\n",
       "      <td>a</td>\n",
       "      <td>1</td>\n",
       "    </tr>\n",
       "    <tr>\n",
       "      <th>1</th>\n",
       "      <td>aa</td>\n",
       "      <td>aa</td>\n",
       "      <td>2</td>\n",
       "      <td>a</td>\n",
       "      <td>1</td>\n",
       "      <td>1</td>\n",
       "      <td>a</td>\n",
       "      <td>a</td>\n",
       "      <td>1</td>\n",
       "    </tr>\n",
       "    <tr>\n",
       "      <th>2</th>\n",
       "      <td>aal</td>\n",
       "      <td>aal</td>\n",
       "      <td>3</td>\n",
       "      <td>a</td>\n",
       "      <td>2</td>\n",
       "      <td>2</td>\n",
       "      <td>al</td>\n",
       "      <td>la</td>\n",
       "      <td>2</td>\n",
       "    </tr>\n",
       "    <tr>\n",
       "      <th>3</th>\n",
       "      <td>aalii</td>\n",
       "      <td>aalii</td>\n",
       "      <td>5</td>\n",
       "      <td>a</td>\n",
       "      <td>3</td>\n",
       "      <td>3</td>\n",
       "      <td>ail</td>\n",
       "      <td>lai</td>\n",
       "      <td>1</td>\n",
       "    </tr>\n",
       "    <tr>\n",
       "      <th>4</th>\n",
       "      <td>aam</td>\n",
       "      <td>aam</td>\n",
       "      <td>3</td>\n",
       "      <td>a</td>\n",
       "      <td>4</td>\n",
       "      <td>4</td>\n",
       "      <td>am</td>\n",
       "      <td>ma</td>\n",
       "      <td>2</td>\n",
       "    </tr>\n",
       "  </tbody>\n",
       "</table>\n",
       "</div>"
      ],
      "text/plain": [
       "    word  lcase  n_chars first_letter  word_id  word_group_id letter_group  \\\n",
       "0      A      a        1            a        0              0            a   \n",
       "1     aa     aa        2            a        1              1            a   \n",
       "2    aal    aal        3            a        2              2           al   \n",
       "3  aalii  aalii        5            a        3              3          ail   \n",
       "4    aam    aam        3            a        4              4           am   \n",
       "\n",
       "  letter_group_ranked  word_group_count  \n",
       "0                   a                 1  \n",
       "1                   a                 1  \n",
       "2                  la                 2  \n",
       "3                 lai                 1  \n",
       "4                  ma                 2  "
      ]
     },
     "execution_count": 10,
     "metadata": {},
     "output_type": "execute_result"
    }
   ],
   "source": [
    "wg_df.head()"
   ]
  },
  {
   "cell_type": "code",
   "execution_count": 11,
   "metadata": {},
   "outputs": [],
   "source": [
    "no_wg_df = wg_df.loc[wg_df['word_group_count'] == 1, :]"
   ]
  },
  {
   "cell_type": "code",
   "execution_count": 12,
   "metadata": {},
   "outputs": [
    {
     "data": {
      "text/plain": [
       "(201480, 9)"
      ]
     },
     "execution_count": 12,
     "metadata": {},
     "output_type": "execute_result"
    }
   ],
   "source": [
    "no_wg_df.shape"
   ]
  },
  {
   "cell_type": "code",
   "execution_count": 13,
   "metadata": {},
   "outputs": [],
   "source": [
    "has_wg_df = wg_df.loc[wg_df['word_group_count'] > 1, :]"
   ]
  },
  {
   "cell_type": "code",
   "execution_count": 15,
   "metadata": {},
   "outputs": [
    {
     "data": {
      "text/plain": [
       "(14362, 9)"
      ]
     },
     "execution_count": 15,
     "metadata": {},
     "output_type": "execute_result"
    }
   ],
   "source": [
    "has_wg_df.shape"
   ]
  },
  {
   "cell_type": "code",
   "execution_count": 16,
   "metadata": {},
   "outputs": [
    {
     "data": {
      "text/plain": [
       "count    14362.000000\n",
       "mean         2.290071\n",
       "std          0.683526\n",
       "min          2.000000\n",
       "25%          2.000000\n",
       "50%          2.000000\n",
       "75%          2.000000\n",
       "max         10.000000\n",
       "Name: word_group_count, dtype: float64"
      ]
     },
     "execution_count": 16,
     "metadata": {},
     "output_type": "execute_result"
    }
   ],
   "source": [
    "has_wg_df['word_group_count'].describe()"
   ]
  },
  {
   "cell_type": "code",
   "execution_count": 27,
   "metadata": {},
   "outputs": [
    {
     "data": {
      "text/html": [
       "<div>\n",
       "<style scoped>\n",
       "    .dataframe tbody tr th:only-of-type {\n",
       "        vertical-align: middle;\n",
       "    }\n",
       "\n",
       "    .dataframe tbody tr th {\n",
       "        vertical-align: top;\n",
       "    }\n",
       "\n",
       "    .dataframe thead th {\n",
       "        text-align: right;\n",
       "    }\n",
       "</style>\n",
       "<table border=\"1\" class=\"dataframe\">\n",
       "  <thead>\n",
       "    <tr style=\"text-align: right;\">\n",
       "      <th></th>\n",
       "      <th>word</th>\n",
       "      <th>lcase</th>\n",
       "      <th>n_chars</th>\n",
       "      <th>first_letter</th>\n",
       "      <th>word_id</th>\n",
       "      <th>word_group_id</th>\n",
       "      <th>letter_group</th>\n",
       "      <th>letter_group_ranked</th>\n",
       "      <th>word_group_count</th>\n",
       "    </tr>\n",
       "  </thead>\n",
       "  <tbody>\n",
       "    <tr>\n",
       "      <th>8297</th>\n",
       "      <td>angor</td>\n",
       "      <td>angor</td>\n",
       "      <td>5</td>\n",
       "      <td>a</td>\n",
       "      <td>8468</td>\n",
       "      <td>8297</td>\n",
       "      <td>agnor</td>\n",
       "      <td>gnroa</td>\n",
       "      <td>10</td>\n",
       "    </tr>\n",
       "    <tr>\n",
       "      <th>57049</th>\n",
       "      <td>Elaps</td>\n",
       "      <td>elaps</td>\n",
       "      <td>5</td>\n",
       "      <td>e</td>\n",
       "      <td>59711</td>\n",
       "      <td>57049</td>\n",
       "      <td>aelps</td>\n",
       "      <td>plsae</td>\n",
       "      <td>10</td>\n",
       "    </tr>\n",
       "  </tbody>\n",
       "</table>\n",
       "</div>"
      ],
      "text/plain": [
       "        word  lcase  n_chars first_letter  word_id  word_group_id  \\\n",
       "8297   angor  angor        5            a     8468           8297   \n",
       "57049  Elaps  elaps        5            e    59711          57049   \n",
       "\n",
       "      letter_group letter_group_ranked  word_group_count  \n",
       "8297         agnor               gnroa                10  \n",
       "57049        aelps               plsae                10  "
      ]
     },
     "execution_count": 27,
     "metadata": {},
     "output_type": "execute_result"
    }
   ],
   "source": [
    "has_wg_df.loc[has_wg_df['word_group_count'] == 10]"
   ]
  },
  {
   "cell_type": "code",
   "execution_count": 17,
   "metadata": {},
   "outputs": [
    {
     "data": {
      "text/plain": [
       "234370"
      ]
     },
     "execution_count": 17,
     "metadata": {},
     "output_type": "execute_result"
    }
   ],
   "source": [
    "no_wg_df.shape[0] + has_wg_df['word_group_count'].sum()"
   ]
  },
  {
   "cell_type": "code",
   "execution_count": 19,
   "metadata": {},
   "outputs": [
    {
     "data": {
      "text/html": [
       "<div>\n",
       "<style scoped>\n",
       "    .dataframe tbody tr th:only-of-type {\n",
       "        vertical-align: middle;\n",
       "    }\n",
       "\n",
       "    .dataframe tbody tr th {\n",
       "        vertical-align: top;\n",
       "    }\n",
       "\n",
       "    .dataframe thead th {\n",
       "        text-align: right;\n",
       "    }\n",
       "</style>\n",
       "<table border=\"1\" class=\"dataframe\">\n",
       "  <thead>\n",
       "    <tr style=\"text-align: right;\">\n",
       "      <th></th>\n",
       "      <th>word</th>\n",
       "      <th>lcase</th>\n",
       "      <th>n_chars</th>\n",
       "      <th>first_letter</th>\n",
       "      <th>word_id</th>\n",
       "      <th>word_group_id</th>\n",
       "      <th>letter_group</th>\n",
       "      <th>letter_group_ranked</th>\n",
       "      <th>word_group_count</th>\n",
       "    </tr>\n",
       "  </thead>\n",
       "  <tbody>\n",
       "    <tr>\n",
       "      <th>2</th>\n",
       "      <td>aal</td>\n",
       "      <td>aal</td>\n",
       "      <td>3</td>\n",
       "      <td>a</td>\n",
       "      <td>2</td>\n",
       "      <td>2</td>\n",
       "      <td>al</td>\n",
       "      <td>la</td>\n",
       "      <td>2</td>\n",
       "    </tr>\n",
       "    <tr>\n",
       "      <th>4</th>\n",
       "      <td>aam</td>\n",
       "      <td>aam</td>\n",
       "      <td>3</td>\n",
       "      <td>a</td>\n",
       "      <td>4</td>\n",
       "      <td>4</td>\n",
       "      <td>am</td>\n",
       "      <td>ma</td>\n",
       "      <td>2</td>\n",
       "    </tr>\n",
       "    <tr>\n",
       "      <th>9</th>\n",
       "      <td>Aaronic</td>\n",
       "      <td>aaronic</td>\n",
       "      <td>7</td>\n",
       "      <td>a</td>\n",
       "      <td>9</td>\n",
       "      <td>9</td>\n",
       "      <td>acinor</td>\n",
       "      <td>cnroai</td>\n",
       "      <td>3</td>\n",
       "    </tr>\n",
       "    <tr>\n",
       "      <th>11</th>\n",
       "      <td>Aaronite</td>\n",
       "      <td>aaronite</td>\n",
       "      <td>8</td>\n",
       "      <td>a</td>\n",
       "      <td>11</td>\n",
       "      <td>11</td>\n",
       "      <td>aeinort</td>\n",
       "      <td>tnroaie</td>\n",
       "      <td>2</td>\n",
       "    </tr>\n",
       "    <tr>\n",
       "      <th>13</th>\n",
       "      <td>Aaru</td>\n",
       "      <td>aaru</td>\n",
       "      <td>4</td>\n",
       "      <td>a</td>\n",
       "      <td>13</td>\n",
       "      <td>13</td>\n",
       "      <td>aru</td>\n",
       "      <td>ura</td>\n",
       "      <td>2</td>\n",
       "    </tr>\n",
       "    <tr>\n",
       "      <th>14</th>\n",
       "      <td>Ab</td>\n",
       "      <td>ab</td>\n",
       "      <td>2</td>\n",
       "      <td>a</td>\n",
       "      <td>14</td>\n",
       "      <td>14</td>\n",
       "      <td>ab</td>\n",
       "      <td>ba</td>\n",
       "      <td>2</td>\n",
       "    </tr>\n",
       "    <tr>\n",
       "      <th>15</th>\n",
       "      <td>aba</td>\n",
       "      <td>aba</td>\n",
       "      <td>3</td>\n",
       "      <td>a</td>\n",
       "      <td>15</td>\n",
       "      <td>15</td>\n",
       "      <td>ab</td>\n",
       "      <td>ba</td>\n",
       "      <td>2</td>\n",
       "    </tr>\n",
       "    <tr>\n",
       "      <th>18</th>\n",
       "      <td>abac</td>\n",
       "      <td>abac</td>\n",
       "      <td>4</td>\n",
       "      <td>a</td>\n",
       "      <td>18</td>\n",
       "      <td>18</td>\n",
       "      <td>abc</td>\n",
       "      <td>bca</td>\n",
       "      <td>2</td>\n",
       "    </tr>\n",
       "    <tr>\n",
       "      <th>30</th>\n",
       "      <td>abactor</td>\n",
       "      <td>abactor</td>\n",
       "      <td>7</td>\n",
       "      <td>a</td>\n",
       "      <td>30</td>\n",
       "      <td>30</td>\n",
       "      <td>abcort</td>\n",
       "      <td>bctroa</td>\n",
       "      <td>2</td>\n",
       "    </tr>\n",
       "    <tr>\n",
       "      <th>35</th>\n",
       "      <td>abaft</td>\n",
       "      <td>abaft</td>\n",
       "      <td>5</td>\n",
       "      <td>a</td>\n",
       "      <td>35</td>\n",
       "      <td>35</td>\n",
       "      <td>abft</td>\n",
       "      <td>fbta</td>\n",
       "      <td>2</td>\n",
       "    </tr>\n",
       "    <tr>\n",
       "      <th>41</th>\n",
       "      <td>abalone</td>\n",
       "      <td>abalone</td>\n",
       "      <td>7</td>\n",
       "      <td>a</td>\n",
       "      <td>41</td>\n",
       "      <td>41</td>\n",
       "      <td>abelno</td>\n",
       "      <td>blnoae</td>\n",
       "      <td>2</td>\n",
       "    </tr>\n",
       "    <tr>\n",
       "      <th>49</th>\n",
       "      <td>abandoner</td>\n",
       "      <td>abandoner</td>\n",
       "      <td>9</td>\n",
       "      <td>a</td>\n",
       "      <td>49</td>\n",
       "      <td>49</td>\n",
       "      <td>abdenor</td>\n",
       "      <td>bdnroae</td>\n",
       "      <td>2</td>\n",
       "    </tr>\n",
       "    <tr>\n",
       "      <th>51</th>\n",
       "      <td>Abanic</td>\n",
       "      <td>abanic</td>\n",
       "      <td>6</td>\n",
       "      <td>a</td>\n",
       "      <td>51</td>\n",
       "      <td>51</td>\n",
       "      <td>abcin</td>\n",
       "      <td>bcnai</td>\n",
       "      <td>2</td>\n",
       "    </tr>\n",
       "    <tr>\n",
       "      <th>55</th>\n",
       "      <td>Abaris</td>\n",
       "      <td>abaris</td>\n",
       "      <td>6</td>\n",
       "      <td>a</td>\n",
       "      <td>55</td>\n",
       "      <td>55</td>\n",
       "      <td>abirs</td>\n",
       "      <td>bsrai</td>\n",
       "      <td>2</td>\n",
       "    </tr>\n",
       "    <tr>\n",
       "      <th>59</th>\n",
       "      <td>abas</td>\n",
       "      <td>abas</td>\n",
       "      <td>4</td>\n",
       "      <td>a</td>\n",
       "      <td>59</td>\n",
       "      <td>59</td>\n",
       "      <td>abs</td>\n",
       "      <td>bsa</td>\n",
       "      <td>2</td>\n",
       "    </tr>\n",
       "    <tr>\n",
       "      <th>65</th>\n",
       "      <td>abaser</td>\n",
       "      <td>abaser</td>\n",
       "      <td>6</td>\n",
       "      <td>a</td>\n",
       "      <td>65</td>\n",
       "      <td>65</td>\n",
       "      <td>abers</td>\n",
       "      <td>bsrae</td>\n",
       "      <td>2</td>\n",
       "    </tr>\n",
       "    <tr>\n",
       "      <th>80</th>\n",
       "      <td>abate</td>\n",
       "      <td>abate</td>\n",
       "      <td>5</td>\n",
       "      <td>a</td>\n",
       "      <td>80</td>\n",
       "      <td>80</td>\n",
       "      <td>abet</td>\n",
       "      <td>btae</td>\n",
       "      <td>4</td>\n",
       "    </tr>\n",
       "    <tr>\n",
       "      <th>82</th>\n",
       "      <td>abater</td>\n",
       "      <td>abater</td>\n",
       "      <td>6</td>\n",
       "      <td>a</td>\n",
       "      <td>82</td>\n",
       "      <td>82</td>\n",
       "      <td>abert</td>\n",
       "      <td>btrae</td>\n",
       "      <td>4</td>\n",
       "    </tr>\n",
       "    <tr>\n",
       "      <th>94</th>\n",
       "      <td>abb</td>\n",
       "      <td>abb</td>\n",
       "      <td>3</td>\n",
       "      <td>a</td>\n",
       "      <td>94</td>\n",
       "      <td>94</td>\n",
       "      <td>ab</td>\n",
       "      <td>ba</td>\n",
       "      <td>2</td>\n",
       "    </tr>\n",
       "    <tr>\n",
       "      <th>95</th>\n",
       "      <td>Abba</td>\n",
       "      <td>abba</td>\n",
       "      <td>4</td>\n",
       "      <td>a</td>\n",
       "      <td>95</td>\n",
       "      <td>95</td>\n",
       "      <td>ab</td>\n",
       "      <td>ba</td>\n",
       "      <td>2</td>\n",
       "    </tr>\n",
       "  </tbody>\n",
       "</table>\n",
       "</div>"
      ],
      "text/plain": [
       "         word      lcase  n_chars first_letter  word_id  word_group_id  \\\n",
       "2         aal        aal        3            a        2              2   \n",
       "4         aam        aam        3            a        4              4   \n",
       "9     Aaronic    aaronic        7            a        9              9   \n",
       "11   Aaronite   aaronite        8            a       11             11   \n",
       "13       Aaru       aaru        4            a       13             13   \n",
       "14         Ab         ab        2            a       14             14   \n",
       "15        aba        aba        3            a       15             15   \n",
       "18       abac       abac        4            a       18             18   \n",
       "30    abactor    abactor        7            a       30             30   \n",
       "35      abaft      abaft        5            a       35             35   \n",
       "41    abalone    abalone        7            a       41             41   \n",
       "49  abandoner  abandoner        9            a       49             49   \n",
       "51     Abanic     abanic        6            a       51             51   \n",
       "55     Abaris     abaris        6            a       55             55   \n",
       "59       abas       abas        4            a       59             59   \n",
       "65     abaser     abaser        6            a       65             65   \n",
       "80      abate      abate        5            a       80             80   \n",
       "82     abater     abater        6            a       82             82   \n",
       "94        abb        abb        3            a       94             94   \n",
       "95       Abba       abba        4            a       95             95   \n",
       "\n",
       "   letter_group letter_group_ranked  word_group_count  \n",
       "2            al                  la                 2  \n",
       "4            am                  ma                 2  \n",
       "9        acinor              cnroai                 3  \n",
       "11      aeinort             tnroaie                 2  \n",
       "13          aru                 ura                 2  \n",
       "14           ab                  ba                 2  \n",
       "15           ab                  ba                 2  \n",
       "18          abc                 bca                 2  \n",
       "30       abcort              bctroa                 2  \n",
       "35         abft                fbta                 2  \n",
       "41       abelno              blnoae                 2  \n",
       "49      abdenor             bdnroae                 2  \n",
       "51        abcin               bcnai                 2  \n",
       "55        abirs               bsrai                 2  \n",
       "59          abs                 bsa                 2  \n",
       "65        abers               bsrae                 2  \n",
       "80         abet                btae                 4  \n",
       "82        abert               btrae                 4  \n",
       "94           ab                  ba                 2  \n",
       "95           ab                  ba                 2  "
      ]
     },
     "execution_count": 19,
     "metadata": {},
     "output_type": "execute_result"
    }
   ],
   "source": [
    "has_wg_df.head(n=20)"
   ]
  },
  {
   "cell_type": "code",
   "execution_count": 23,
   "metadata": {},
   "outputs": [
    {
     "data": {
      "text/html": [
       "<div>\n",
       "<style scoped>\n",
       "    .dataframe tbody tr th:only-of-type {\n",
       "        vertical-align: middle;\n",
       "    }\n",
       "\n",
       "    .dataframe tbody tr th {\n",
       "        vertical-align: top;\n",
       "    }\n",
       "\n",
       "    .dataframe thead th {\n",
       "        text-align: right;\n",
       "    }\n",
       "</style>\n",
       "<table border=\"1\" class=\"dataframe\">\n",
       "  <thead>\n",
       "    <tr style=\"text-align: right;\">\n",
       "      <th></th>\n",
       "      <th>word</th>\n",
       "      <th>lcase</th>\n",
       "      <th>n_chars</th>\n",
       "      <th>first_letter</th>\n",
       "      <th>word_id</th>\n",
       "      <th>word_group_id</th>\n",
       "      <th>letter_group</th>\n",
       "      <th>letter_group_ranked</th>\n",
       "    </tr>\n",
       "  </thead>\n",
       "  <tbody>\n",
       "    <tr>\n",
       "      <th>30</th>\n",
       "      <td>abactor</td>\n",
       "      <td>abactor</td>\n",
       "      <td>7</td>\n",
       "      <td>a</td>\n",
       "      <td>30</td>\n",
       "      <td>30</td>\n",
       "      <td>abcort</td>\n",
       "      <td>bctroa</td>\n",
       "    </tr>\n",
       "    <tr>\n",
       "      <th>1760</th>\n",
       "      <td>acrobat</td>\n",
       "      <td>acrobat</td>\n",
       "      <td>7</td>\n",
       "      <td>a</td>\n",
       "      <td>1760</td>\n",
       "      <td>30</td>\n",
       "      <td>abcort</td>\n",
       "      <td>bctroa</td>\n",
       "    </tr>\n",
       "  </tbody>\n",
       "</table>\n",
       "</div>"
      ],
      "text/plain": [
       "         word    lcase  n_chars first_letter  word_id  word_group_id  \\\n",
       "30    abactor  abactor        7            a       30             30   \n",
       "1760  acrobat  acrobat        7            a     1760             30   \n",
       "\n",
       "     letter_group letter_group_ranked  \n",
       "30         abcort              bctroa  \n",
       "1760       abcort              bctroa  "
      ]
     },
     "execution_count": 23,
     "metadata": {},
     "output_type": "execute_result"
    }
   ],
   "source": [
    "word_df.loc[word_df['word_group_id'] == 30, :]"
   ]
  },
  {
   "cell_type": "code",
   "execution_count": null,
   "metadata": {},
   "outputs": [],
   "source": [
    "outcome = set()\n",
    "char_list = ['k', 'w']\n",
    "word_count = {}\n",
    "for cc in char_list:\n",
    "    temp_outcome = wchar_matrix[:, letter_dict[cc]] == 0\n",
    "    temp_outcome = word_group_id_list[temp_outcome]\n",
    "    outcome.update(temp_outcome)\n",
    "    \n",
    "    temp_outcome = wchar_matrix[:, letter_dict[cc]] >= 1\n",
    "    word_count[cc] = temp_outcome.sum()\n",
    "\n",
    "    "
   ]
  },
  {
   "cell_type": "code",
   "execution_count": null,
   "metadata": {},
   "outputs": [],
   "source": [
    "len(outcome) / wg_df.shape[0]"
   ]
  },
  {
   "cell_type": "code",
   "execution_count": null,
   "metadata": {},
   "outputs": [],
   "source": [
    "word_count"
   ]
  },
  {
   "cell_type": "code",
   "execution_count": null,
   "metadata": {},
   "outputs": [],
   "source": [
    "\n",
    "n_subset_letters = 3\n",
    "matrix_extraction_option = 5\n",
    "wg_df, n_char_matrix_dict, single_letter_matrix_dict, letter_selector_matrix_dict, nc_ls_matrix_dict, p_time = split_matrix(\n",
    "    letter_dict=letter_dict,\n",
    "    word_group_id_list=word_group_id_list,\n",
    "    wg_df=wg_df,\n",
    "    wchar_matrix=wchar_matrix,\n",
    "    n_subset_letters=n_subset_letters,\n",
    "    matrix_extraction_option=matrix_extraction_option\n",
    ")"
   ]
  },
  {
   "cell_type": "code",
   "execution_count": null,
   "metadata": {},
   "outputs": [],
   "source": [
    "test_keys = letter_selector_matrix_dict.keys()"
   ]
  },
  {
   "cell_type": "code",
   "execution_count": null,
   "metadata": {},
   "outputs": [],
   "source": [
    "test_keys"
   ]
  },
  {
   "cell_type": "code",
   "execution_count": null,
   "metadata": {},
   "outputs": [],
   "source": [
    "wg_df.shape"
   ]
  },
  {
   "cell_type": "code",
   "execution_count": null,
   "metadata": {},
   "outputs": [],
   "source": [
    "wg_df.head()"
   ]
  },
  {
   "cell_type": "code",
   "execution_count": null,
   "metadata": {},
   "outputs": [],
   "source": [
    "single_letter_matrix_dict.keys()"
   ]
  },
  {
   "cell_type": "code",
   "execution_count": null,
   "metadata": {},
   "outputs": [],
   "source": [
    "testo = single_letter_matrix_dict[letter_dict['r']]"
   ]
  },
  {
   "cell_type": "code",
   "execution_count": null,
   "metadata": {},
   "outputs": [],
   "source": [
    "len(testo)"
   ]
  },
  {
   "cell_type": "code",
   "execution_count": null,
   "metadata": {},
   "outputs": [],
   "source": [
    "a1, a2 = testo"
   ]
  },
  {
   "cell_type": "code",
   "execution_count": null,
   "metadata": {},
   "outputs": [],
   "source": [
    "a1.shape"
   ]
  },
  {
   "cell_type": "code",
   "execution_count": null,
   "metadata": {},
   "outputs": [],
   "source": [
    "a2.shape"
   ]
  },
  {
   "cell_type": "code",
   "execution_count": null,
   "metadata": {},
   "outputs": [],
   "source": [
    "flarcho = word_df.loc[word_df['word_group_id'].isin(a1), :]"
   ]
  },
  {
   "cell_type": "code",
   "execution_count": null,
   "metadata": {},
   "outputs": [],
   "source": [
    "flarcho.shape"
   ]
  },
  {
   "cell_type": "code",
   "execution_count": null,
   "metadata": {},
   "outputs": [],
   "source": [
    "18391 / 19346"
   ]
  },
  {
   "cell_type": "code",
   "execution_count": null,
   "metadata": {},
   "outputs": [],
   "source": [
    "type(letter_selector_matrix_dict)"
   ]
  },
  {
   "cell_type": "code",
   "execution_count": null,
   "metadata": {},
   "outputs": [],
   "source": [
    "type(nc_ls_matrix_dict)"
   ]
  },
  {
   "cell_type": "code",
   "execution_count": null,
   "metadata": {},
   "outputs": [],
   "source": [
    "wg_df.head()"
   ]
  },
  {
   "cell_type": "code",
   "execution_count": null,
   "metadata": {},
   "outputs": [],
   "source": [
    "wg_df.loc[(wg_df['first_letter'] == 'a') &\n",
    "    (wg_df['letter_selector'].str[:1] == 'v'), ].shape"
   ]
  },
  {
   "cell_type": "code",
   "execution_count": null,
   "metadata": {},
   "outputs": [],
   "source": [
    "wg_df.loc[(wg_df['first_letter'] == 'r') , ].shape"
   ]
  },
  {
   "cell_type": "code",
   "execution_count": null,
   "metadata": {},
   "outputs": [],
   "source": [
    "wchar_matrix.sum(0)"
   ]
  },
  {
   "cell_type": "code",
   "execution_count": null,
   "metadata": {},
   "outputs": [],
   "source": [
    "wchar_matrix.sum(0)[letter_dict['r']]"
   ]
  },
  {
   "cell_type": "code",
   "execution_count": null,
   "metadata": {},
   "outputs": [],
   "source": [
    "wchar_matrix_single = wchar_matrix >= 1"
   ]
  },
  {
   "cell_type": "code",
   "execution_count": null,
   "metadata": {},
   "outputs": [],
   "source": [
    "wchar_matrix_single.sum(0)[letter_dict['r']]"
   ]
  },
  {
   "cell_type": "code",
   "execution_count": null,
   "metadata": {},
   "outputs": [],
   "source": [
    "import numpy as np\n",
    "import timeit"
   ]
  },
  {
   "cell_type": "code",
   "execution_count": null,
   "metadata": {},
   "outputs": [],
   "source": [
    "d1_size = 2387\n",
    "d2_size = 16101\n",
    "\n",
    "def make_dict(n):\n",
    "    return {n:n for n in range(0, n + 1)}\n",
    "\n",
    "d1 = make_dict(n = d1_size)\n",
    "d2 = make_dict(n = d2_size)"
   ]
  },
  {
   "cell_type": "code",
   "execution_count": null,
   "metadata": {},
   "outputs": [],
   "source": [
    "# now, perform some sampling to get the values\n",
    "# 10K samples\n",
    "rand_list = np.random.randint(low = 0, high = d1_size, size = 216000)"
   ]
  },
  {
   "cell_type": "code",
   "execution_count": null,
   "metadata": {},
   "outputs": [],
   "source": [
    "code_statement = \"[d1[n] for n in rand_list]\"\n",
    "\n",
    "timeit.timeit(stmt = code_statement, number=1000, globals=globals()) / 1000\n"
   ]
  },
  {
   "cell_type": "code",
   "execution_count": null,
   "metadata": {},
   "outputs": [],
   "source": [
    "code_statement = \"[d2[n] for n in rand_list]\"\n",
    "timeit.timeit(stmt = code_statement, number=1000, globals=globals()) / 1000\n"
   ]
  },
  {
   "cell_type": "code",
   "execution_count": null,
   "metadata": {},
   "outputs": [],
   "source": []
  },
  {
   "cell_type": "code",
   "execution_count": null,
   "metadata": {},
   "outputs": [],
   "source": [
    "for ii in zip([1,2):\n",
    "    print(ii)"
   ]
  },
  {
   "cell_type": "code",
   "execution_count": null,
   "metadata": {},
   "outputs": [],
   "source": []
  }
 ],
 "metadata": {
  "kernelspec": {
   "display_name": "analysis",
   "language": "python",
   "name": "python3"
  },
  "language_info": {
   "codemirror_mode": {
    "name": "ipython",
    "version": 3
   },
   "file_extension": ".py",
   "mimetype": "text/x-python",
   "name": "python",
   "nbconvert_exporter": "python",
   "pygments_lexer": "ipython3",
   "version": "3.12.7"
  }
 },
 "nbformat": 4,
 "nbformat_minor": 2
}
