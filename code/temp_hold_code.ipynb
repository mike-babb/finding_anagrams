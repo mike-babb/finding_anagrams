{
 "cells": [
  {
   "cell_type": "code",
   "execution_count": null,
   "id": "e08a8af7-207f-4712-bc30-f4540669b3e3",
   "metadata": {},
   "outputs": [],
   "source": []
  },
  {
   "cell_type": "code",
   "execution_count": null,
   "id": "86fc132c-371b-4696-9ccd-9c8d3ad1f554",
   "metadata": {},
   "outputs": [],
   "source": [
    "def compute_lookups(wg_df:pd.Data\n",
    "                    n_char_matrix_dict,\n",
    "        single_letter_matrix_dict,\n",
    "        letter_selector_matrix_dict,\n",
    "        nc_ls_matrix_dict,)\n",
    "\n",
    "n_char_lu_dict = dict.fromkeys(wg_df[\"n_chars\"].unique())\n",
    "\n",
    "single_letter_lu_dict = dict.fromkeys(wg_df[\"first_letter_id\"].unique())\n",
    "\n",
    "letter_selector_lu_dict = dict.fromkeys(nc_ls_df[\"letter_selector_id\"].unique())\n",
    "\n",
    "# nc_ls_lu_dict = dict.fromkeys(nc_ls_df['nc_ls_id'].to_numpy())\n",
    "\n",
    "# count the number of look ups for a letter\n",
    "            n_char_lu_dict[nc] = nc_wg_id_list.shape[0]\n",
    "\n",
    "# count the number of look ups\n",
    "            single_letter_lu_dict[ll_id] = single_letter_word_group_id_list.shape[0]\n",
    "\n",
    "# count the number of possible values for a given letter select\n",
    "            letter_selector_lu_dict[ls_id] = ls_wg_id_list.shape[0]\n",
    "\n",
    "# count the number of lookups\n",
    "        nc_ls_lu_dict[nc_ls_id] = nc_ls_wg_id_list.shape[0]\n",
    "\n",
    "\n",
    "    # count the look-ups!\n",
    "    wg_df[\"me_01_full_matrix_lookup\"] = wchar_matrix.shape[0]\n",
    "    wg_df[\"me_02_n_char_lookup\"] = wg_df[\"n_chars\"].map(n_char_lu_dict)\n",
    "    wg_df[\"me_03_first_letter_lookup\"] = wg_df[\"first_letter_id\"].map(\n",
    "        single_letter_lu_dict\n",
    "    )\n",
    "    wg_df[\"me_04_single_letter_lookup\"] = wg_df[\"single_letter_id\"].map(\n",
    "        single_letter_lu_dict\n",
    "    )\n",
    "    wg_df[\"me_05_letter_selector_lookup\"] = wg_df[\"letter_selector_id\"].map(\n",
    "        letter_selector_lu_dict\n",
    "    )\n",
    "    wg_df[\"me_06_nc_ls_lookup\"] = wg_df[\"nc_ls_id\"].map(nc_ls_lu_dict)\n"
   ]
  }
 ],
 "metadata": {
  "kernelspec": {
   "display_name": "Python 3 (ipykernel)",
   "language": "python",
   "name": "python3"
  },
  "language_info": {
   "codemirror_mode": {
    "name": "ipython",
    "version": 3
   },
   "file_extension": ".py",
   "mimetype": "text/x-python",
   "name": "python",
   "nbconvert_exporter": "python",
   "pygments_lexer": "ipython3",
   "version": "3.11.5"
  }
 },
 "nbformat": 4,
 "nbformat_minor": 5
}
