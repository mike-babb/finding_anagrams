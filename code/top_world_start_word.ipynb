{
 "cells": [
  {
   "cell_type": "code",
   "execution_count": 1,
   "id": "2da60781",
   "metadata": {},
   "outputs": [],
   "source": [
    "# mike babb\n",
    "# 2022 02 25\n",
    "# find the top wordle starting word"
   ]
  },
  {
   "cell_type": "code",
   "execution_count": 2,
   "id": "50dd7ff8",
   "metadata": {},
   "outputs": [],
   "source": [
    "# standard\n",
    "import os\n",
    "import sqlite3"
   ]
  },
  {
   "cell_type": "code",
   "execution_count": 4,
   "id": "c393ed2d",
   "metadata": {},
   "outputs": [],
   "source": [
    "import pandas as pd\n",
    "import numpy as np"
   ]
  },
  {
   "cell_type": "code",
   "execution_count": 5,
   "id": "16e4c0aa",
   "metadata": {},
   "outputs": [],
   "source": [
    "from part_00_process_functions import query_db"
   ]
  },
  {
   "cell_type": "code",
   "execution_count": 6,
   "id": "3346fe11",
   "metadata": {},
   "outputs": [],
   "source": [
    "# database path and name\n",
    "db_path = '/project/finding_anagrams/db'\n",
    "db_name = 'words.db'"
   ]
  },
  {
   "cell_type": "code",
   "execution_count": 11,
   "id": "4b63661d",
   "metadata": {},
   "outputs": [],
   "source": [
    "# load all of the words\n",
    "sql = 'select * from words_v2;'"
   ]
  },
  {
   "cell_type": "code",
   "execution_count": 12,
   "id": "1aaef706",
   "metadata": {},
   "outputs": [
    {
     "name": "stdout",
     "output_type": "stream",
     "text": [
      "...query execution took: 2.758298 seconds...\n"
     ]
    }
   ],
   "source": [
    "df = query_db(sql = sql, db_path = db_path, db_name = db_name)"
   ]
  },
  {
   "cell_type": "code",
   "execution_count": 13,
   "id": "bec971d7",
   "metadata": {},
   "outputs": [
    {
     "data": {
      "text/html": [
       "<div>\n",
       "<style scoped>\n",
       "    .dataframe tbody tr th:only-of-type {\n",
       "        vertical-align: middle;\n",
       "    }\n",
       "\n",
       "    .dataframe tbody tr th {\n",
       "        vertical-align: top;\n",
       "    }\n",
       "\n",
       "    .dataframe thead th {\n",
       "        text-align: right;\n",
       "    }\n",
       "</style>\n",
       "<table border=\"1\" class=\"dataframe\">\n",
       "  <thead>\n",
       "    <tr style=\"text-align: right;\">\n",
       "      <th></th>\n",
       "      <th>word</th>\n",
       "      <th>lcase</th>\n",
       "      <th>n_chars</th>\n",
       "      <th>first_letter</th>\n",
       "      <th>word_id</th>\n",
       "      <th>word_group_id</th>\n",
       "      <th>letter_group</th>\n",
       "      <th>letter_group_ranked</th>\n",
       "      <th>n_seconds</th>\n",
       "      <th>n_from_word_groups</th>\n",
       "      <th>n_to_word_groups</th>\n",
       "      <th>n_candidates</th>\n",
       "      <th>word_processed</th>\n",
       "      <th>matrix_extraction_option</th>\n",
       "    </tr>\n",
       "  </thead>\n",
       "  <tbody>\n",
       "    <tr>\n",
       "      <th>0</th>\n",
       "      <td>A</td>\n",
       "      <td>a</td>\n",
       "      <td>1</td>\n",
       "      <td>a</td>\n",
       "      <td>0</td>\n",
       "      <td>0</td>\n",
       "      <td>a</td>\n",
       "      <td>a</td>\n",
       "      <td>0.035973</td>\n",
       "      <td>133001</td>\n",
       "      <td>1</td>\n",
       "      <td>133001</td>\n",
       "      <td>1</td>\n",
       "      <td>5</td>\n",
       "    </tr>\n",
       "    <tr>\n",
       "      <th>1</th>\n",
       "      <td>aa</td>\n",
       "      <td>aa</td>\n",
       "      <td>2</td>\n",
       "      <td>a</td>\n",
       "      <td>1</td>\n",
       "      <td>1</td>\n",
       "      <td>a</td>\n",
       "      <td>a</td>\n",
       "      <td>0.045971</td>\n",
       "      <td>43229</td>\n",
       "      <td>2</td>\n",
       "      <td>133000</td>\n",
       "      <td>1</td>\n",
       "      <td>5</td>\n",
       "    </tr>\n",
       "    <tr>\n",
       "      <th>2</th>\n",
       "      <td>aal</td>\n",
       "      <td>aal</td>\n",
       "      <td>3</td>\n",
       "      <td>a</td>\n",
       "      <td>2</td>\n",
       "      <td>2</td>\n",
       "      <td>al</td>\n",
       "      <td>la</td>\n",
       "      <td>0.034979</td>\n",
       "      <td>23271</td>\n",
       "      <td>5</td>\n",
       "      <td>65527</td>\n",
       "      <td>1</td>\n",
       "      <td>5</td>\n",
       "    </tr>\n",
       "    <tr>\n",
       "      <th>3</th>\n",
       "      <td>ala</td>\n",
       "      <td>ala</td>\n",
       "      <td>3</td>\n",
       "      <td>a</td>\n",
       "      <td>4557</td>\n",
       "      <td>2</td>\n",
       "      <td>al</td>\n",
       "      <td>la</td>\n",
       "      <td>0.034979</td>\n",
       "      <td>23271</td>\n",
       "      <td>5</td>\n",
       "      <td>65527</td>\n",
       "      <td>0</td>\n",
       "      <td>5</td>\n",
       "    </tr>\n",
       "    <tr>\n",
       "      <th>4</th>\n",
       "      <td>aalii</td>\n",
       "      <td>aalii</td>\n",
       "      <td>5</td>\n",
       "      <td>a</td>\n",
       "      <td>3</td>\n",
       "      <td>3</td>\n",
       "      <td>ail</td>\n",
       "      <td>lai</td>\n",
       "      <td>0.006995</td>\n",
       "      <td>5263</td>\n",
       "      <td>11</td>\n",
       "      <td>42731</td>\n",
       "      <td>1</td>\n",
       "      <td>5</td>\n",
       "    </tr>\n",
       "  </tbody>\n",
       "</table>\n",
       "</div>"
      ],
      "text/plain": [
       "    word  lcase  n_chars first_letter  word_id  word_group_id letter_group  \\\n",
       "0      A      a        1            a        0              0            a   \n",
       "1     aa     aa        2            a        1              1            a   \n",
       "2    aal    aal        3            a        2              2           al   \n",
       "3    ala    ala        3            a     4557              2           al   \n",
       "4  aalii  aalii        5            a        3              3          ail   \n",
       "\n",
       "  letter_group_ranked  n_seconds  n_from_word_groups  n_to_word_groups  \\\n",
       "0                   a   0.035973              133001                 1   \n",
       "1                   a   0.045971               43229                 2   \n",
       "2                  la   0.034979               23271                 5   \n",
       "3                  la   0.034979               23271                 5   \n",
       "4                 lai   0.006995                5263                11   \n",
       "\n",
       "   n_candidates  word_processed  matrix_extraction_option  \n",
       "0        133001               1                         5  \n",
       "1        133000               1                         5  \n",
       "2         65527               1                         5  \n",
       "3         65527               0                         5  \n",
       "4         42731               1                         5  "
      ]
     },
     "execution_count": 13,
     "metadata": {},
     "output_type": "execute_result"
    }
   ],
   "source": [
    "df.head()"
   ]
  },
  {
   "cell_type": "code",
   "execution_count": 14,
   "id": "99250550",
   "metadata": {},
   "outputs": [],
   "source": [
    "# let's go with the five letter words\n",
    "wdf = df.loc[df['n_chars']==5, :]"
   ]
  },
  {
   "cell_type": "code",
   "execution_count": 15,
   "id": "77d562bb",
   "metadata": {},
   "outputs": [
    {
     "data": {
      "text/plain": [
       "9972"
      ]
     },
     "execution_count": 15,
     "metadata": {},
     "output_type": "execute_result"
    }
   ],
   "source": [
    "len(wdf)"
   ]
  },
  {
   "cell_type": "code",
   "execution_count": null,
   "id": "5e971336",
   "metadata": {},
   "outputs": [],
   "source": [
    "# convert to a matrix, load, do the thing"
   ]
  }
 ],
 "metadata": {
  "kernelspec": {
   "display_name": "Python 3 (ipykernel)",
   "language": "python",
   "name": "python3"
  },
  "language_info": {
   "codemirror_mode": {
    "name": "ipython",
    "version": 3
   },
   "file_extension": ".py",
   "mimetype": "text/x-python",
   "name": "python",
   "nbconvert_exporter": "python",
   "pygments_lexer": "ipython3",
   "version": "3.8.12"
  }
 },
 "nbformat": 4,
 "nbformat_minor": 5
}
