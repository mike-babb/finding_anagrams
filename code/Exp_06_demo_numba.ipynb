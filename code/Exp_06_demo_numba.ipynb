{
 "cells": [
  {
   "cell_type": "markdown",
   "id": "e3f3f87e",
   "metadata": {},
   "source": [
    "# Exp 05: Demonstrate Numba\n",
    "Let's build upon the \n"
   ]
  },
  {
   "cell_type": "code",
   "execution_count": null,
   "id": "7ee95900",
   "metadata": {},
   "outputs": [],
   "source": [
    "# standard libraries\n",
    "from time import perf_counter_ns\n",
    "import time"
   ]
  },
  {
   "cell_type": "code",
   "execution_count": null,
   "id": "5a95a599",
   "metadata": {},
   "outputs": [],
   "source": [
    "# external libraries\n",
    "import numpy as np\n",
    "import pandas as pd\n",
    "\n",
    "# custom libraries\n",
    "from _run_constants import *\n",
    "from part_00_file_db_utils import *\n",
    "from part_00_process_functions import *"
   ]
  },
  {
   "cell_type": "code",
   "execution_count": null,
   "id": "1fb50fde",
   "metadata": {},
   "outputs": [],
   "source": [
    "word_df, wg_df, letter_dict, char_matrix, \\\n",
    "    word_group_id_list, word_id_list, wchar_matrix = load_input_data(\n",
    "        db_path=rc.DB_PATH, db_name=rc.DB_NAME,\n",
    "        in_file_path=rc.IN_FILE_PATH)"
   ]
  },
  {
   "cell_type": "code",
   "execution_count": null,
   "id": "954af2fb",
   "metadata": {},
   "outputs": [],
   "source": [
    "ls_df = build_letter_selector_df(df = wg_df, \n",
    "                                 ls_nchar=3, letter_selector_col_name='letter_selector',\n",
    "                                 letter_selector_id_col_name='letter_selector_id')\n",
    "ls_df = get_ls_index(df = ls_df)"
   ]
  },
  {
   "cell_type": "code",
   "execution_count": null,
   "id": "80678ff9",
   "metadata": {},
   "outputs": [],
   "source": [
    "ls_df.head()"
   ]
  },
  {
   "cell_type": "code",
   "execution_count": null,
   "id": "60ded439",
   "metadata": {},
   "outputs": [],
   "source": [
    "# load the total number of anagrams\n",
    "n_possible_anagrams = load_possible_anagrams(db_path=rc.DB_PATH,\n",
    "                                             db_name=rc.DB_NAME)"
   ]
  },
  {
   "cell_type": "code",
   "execution_count": null,
   "id": "3c2aba76",
   "metadata": {},
   "outputs": [],
   "source": [
    "wg_df.head()"
   ]
  },
  {
   "cell_type": "code",
   "execution_count": null,
   "id": "9d453cc6",
   "metadata": {},
   "outputs": [],
   "source": [
    "col_names = ['letter_selector', 'letter_selector_id']\n",
    "wg_df = pd.merge(left = wg_df, right = ls_df[col_names])"
   ]
  },
  {
   "cell_type": "code",
   "execution_count": null,
   "id": "7c066f7a",
   "metadata": {},
   "outputs": [],
   "source": []
  },
  {
   "cell_type": "code",
   "execution_count": null,
   "id": "c585a3ff",
   "metadata": {},
   "outputs": [],
   "source": [
    "ls_id_wg_id, ls_index_array = build_ls_index_arrays(wg_df=wg_df, ls_df = ls_df)"
   ]
  },
  {
   "cell_type": "code",
   "execution_count": null,
   "id": "5136c9b5",
   "metadata": {},
   "outputs": [],
   "source": [
    "from numba import njit, int8, int32"
   ]
  },
  {
   "cell_type": "code",
   "execution_count": null,
   "id": "459b9b82",
   "metadata": {},
   "outputs": [],
   "source": [
    "# build a numba function\n",
    "#@njit(int32[:](int32[:], int8[:,:], int32))\n",
    "@njit()\n",
    "def build_output_wg_id_list(temp_wg_id_list:np.ndarray, ls_wchar_matrix:np.ndarray, temp_wg_id:int) -> np.ndarray:\n",
    "    # numba doesn't have the equivalent of np.all which means I need \n",
    "    # to implement a work around.\n",
    "    rows, cols = ls_wchar_matrix.shape\n",
    "    temp_matrix = (ls_wchar_matrix - ls_wchar_matrix[temp_wg_id, :]) >= 0    \n",
    "    zero_list = np.zeros(shape = rows, dtype=np.bool)\n",
    "    for i in range(rows):\n",
    "        zero_list[i] = temp_matrix[i, :].sum() == cols\n",
    "    #zero_list = zero_list.astype(np.bool)\n",
    "    return temp_wg_id_list[zero_list]"
   ]
  },
  {
   "cell_type": "code",
   "execution_count": null,
   "id": "be7203d9",
   "metadata": {},
   "outputs": [],
   "source": [
    "# run it!\n",
    "run_start_time=perf_counter_ns()\n",
    "# create the output list\n",
    "output_list = np.full(shape = (n_possible_anagrams, 2), fill_value=-1, dtype=np.int32)\n",
    "output_time_list = []\n",
    "\n",
    "# start counting\n",
    "anagram_pair_count = 0\n",
    "\n",
    "for ls_row_id, ls_row in enumerate(ls_index_array):    \n",
    "    if ls_row_id % 100 == 0:\n",
    "        print(ls_row_id)\n",
    "    start_time = perf_counter_ns()    \n",
    "            \n",
    "    ##\n",
    "    # SUBSET THE wchar_matrix by column selector\n",
    "    ##    \n",
    "    outcome_indices = np.all(wchar_matrix[:, ls_row] >= 1, axis=1)\n",
    "    \n",
    "    # this is the sub-matrix from which to query\n",
    "    ls_wchar_matrix = wchar_matrix[outcome_indices, :]\n",
    "        \n",
    "    # this is the list of word group ids that correspond to the word group ids\n",
    "    # in the ls_wchar_matrix\n",
    "    temp_wg_id_list = word_group_id_list[outcome_indices]\n",
    "    \n",
    "    # this is the number of word groups that meet certain criteria. \n",
    "    # for example, words that feature the letters: 'buc'    \n",
    "    n_search_space = temp_wg_id_list.shape[0]\n",
    "    \n",
    "    curr_wg_id_list = ls_id_wg_id[ls_id_wg_id[:, 0] == ls_row_id, 1]\n",
    "    \n",
    "    for i_curr_wg_id, curr_wg_id in enumerate(curr_wg_id_list):    \n",
    "            \n",
    "        # get different word group ids?\n",
    "        temp_wg_id = np.where(temp_wg_id_list == curr_wg_id)[0][0]\n",
    "                \n",
    "        outcome_word_id_list = build_output_wg_id_list(temp_wg_id_list=temp_wg_id_list,\n",
    "                                                       ls_wchar_matrix=ls_wchar_matrix,\n",
    "                                                       temp_wg_id=temp_wg_id)\n",
    "                \n",
    "        n_from_words = outcome_word_id_list.shape[0]\n",
    "        \n",
    "        if n_from_words > 0:\n",
    "            outcome_word_id_list = format_output_list(outcome_word_id_list=outcome_word_id_list, wg_id=curr_wg_id)\n",
    "                        \n",
    "            # enumerate the from/parent words\n",
    "            new_anagram_pair_count = anagram_pair_count + n_from_words\n",
    "            \n",
    "            output_list[anagram_pair_count:new_anagram_pair_count, :] = outcome_word_id_list\n",
    "\n",
    "            # update the anagram pair count\n",
    "            anagram_pair_count = new_anagram_pair_count\n",
    "\n",
    "    curr_time = calc_time(time_start=start_time, round_digits=8)\n",
    "    output_time_list.append([ls_row_id, n_search_space, curr_time])\n",
    "\n",
    "print('...time to find parent/child word relationships')\n",
    "time_proc = calc_time(time_start=run_start_time, round_digits=4)\n",
    "compute_elapsed_time(seconds=time_proc)\n",
    "print('...truncating output list...')\n",
    "output_indices = np.all(output_list >= 0, axis=1)\n",
    "output_list = output_list[output_indices,]\n",
    "print(output_list.shape)\n",
    "time_proc = calc_time(time_start=run_start_time, round_digits=4)\n",
    "compute_elapsed_time(seconds=time_proc)"
   ]
  },
  {
   "cell_type": "code",
   "execution_count": null,
   "id": "56ef125c",
   "metadata": {},
   "outputs": [],
   "source": [
    "# approximately 19 seconds\n",
    "from_word_counter, to_word_counter = build_counters(output_list=output_list)"
   ]
  },
  {
   "cell_type": "code",
   "execution_count": null,
   "id": "eed9f7df",
   "metadata": {},
   "outputs": [],
   "source": [
    "# the number of from word groups: should be 26\n",
    "print(from_word_counter[746])\n",
    "print(to_word_counter[746])"
   ]
  },
  {
   "cell_type": "code",
   "execution_count": null,
   "id": "30511804",
   "metadata": {},
   "outputs": [],
   "source": [
    "# using numba: 2 minutes, 29 seconds. "
   ]
  }
 ],
 "metadata": {
  "kernelspec": {
   "display_name": "analysis",
   "language": "python",
   "name": "python3"
  },
  "language_info": {
   "codemirror_mode": {
    "name": "ipython",
    "version": 3
   },
   "file_extension": ".py",
   "mimetype": "text/x-python",
   "name": "python",
   "nbconvert_exporter": "python",
   "pygments_lexer": "ipython3",
   "version": "3.12.7"
  }
 },
 "nbformat": 4,
 "nbformat_minor": 5
}
