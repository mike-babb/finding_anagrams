{
 "cells": [
  {
   "cell_type": "markdown",
   "id": "e3f3f87e",
   "metadata": {},
   "source": [
    "# Exp 06: Demonstrate Numba\n",
    "Numba, https://numba.pydata.org/, is a high-performance jit compiler.  \n",
    "What that means is that functions using NumPy can be optimized into machine code.  \n",
    "Is that faster?\n"
   ]
  },
  {
   "cell_type": "code",
   "execution_count": 1,
   "id": "7ee95900",
   "metadata": {},
   "outputs": [],
   "source": [
    "# standard libraries\n",
    "from time import perf_counter_ns\n",
    "import time"
   ]
  },
  {
   "cell_type": "code",
   "execution_count": 2,
   "id": "5a95a599",
   "metadata": {},
   "outputs": [],
   "source": [
    "# external libraries\n",
    "import numpy as np\n",
    "import pandas as pd\n",
    "\n",
    "# custom libraries\n",
    "from _run_constants import *\n",
    "from part_00_file_db_utils import *\n",
    "from part_00_process_functions import *"
   ]
  },
  {
   "cell_type": "code",
   "execution_count": 3,
   "id": "1fb50fde",
   "metadata": {},
   "outputs": [
    {
     "name": "stdout",
     "output_type": "stream",
     "text": [
      "...loading words into a dataframe...\n",
      "...query execution took: 1.25 seconds...\n",
      "...loading word groups into a dataframe...\n",
      "...query execution took: 1.25 seconds...\n",
      "...loading the letter dictionary...\n",
      "...loading the char matrix...\n",
      "...subsetting the char matrix...\n"
     ]
    }
   ],
   "source": [
    "word_df, wg_df, letter_dict, char_matrix, \\\n",
    "    word_group_id_list, word_id_list, wchar_matrix = load_input_data(\n",
    "        db_path=rc.DB_PATH, db_name=rc.DB_NAME,\n",
    "        in_file_path=rc.IN_FILE_PATH)"
   ]
  },
  {
   "cell_type": "code",
   "execution_count": 4,
   "id": "954af2fb",
   "metadata": {},
   "outputs": [
    {
     "name": "stdout",
     "output_type": "stream",
     "text": [
      "...loading the letter dictionary...\n"
     ]
    }
   ],
   "source": [
    "ls_df = build_letter_selector_df(df = wg_df, \n",
    "                                 ls_nchar=3, letter_selector_col_name='letter_selector',\n",
    "                                 letter_selector_id_col_name='letter_selector_id')\n",
    "ls_df = get_ls_index(df = ls_df)"
   ]
  },
  {
   "cell_type": "code",
   "execution_count": 5,
   "id": "80678ff9",
   "metadata": {},
   "outputs": [
    {
     "data": {
      "text/html": [
       "<div>\n",
       "<style scoped>\n",
       "    .dataframe tbody tr th:only-of-type {\n",
       "        vertical-align: middle;\n",
       "    }\n",
       "\n",
       "    .dataframe tbody tr th {\n",
       "        vertical-align: top;\n",
       "    }\n",
       "\n",
       "    .dataframe thead th {\n",
       "        text-align: right;\n",
       "    }\n",
       "</style>\n",
       "<table border=\"1\" class=\"dataframe\">\n",
       "  <thead>\n",
       "    <tr style=\"text-align: right;\">\n",
       "      <th></th>\n",
       "      <th>letter_selector</th>\n",
       "      <th>ls_count</th>\n",
       "      <th>ls_nchar_iter</th>\n",
       "      <th>ls_nchar</th>\n",
       "      <th>letter_selector_id</th>\n",
       "      <th>ls_index</th>\n",
       "    </tr>\n",
       "  </thead>\n",
       "  <tbody>\n",
       "    <tr>\n",
       "      <th>0</th>\n",
       "      <td>a</td>\n",
       "      <td>2</td>\n",
       "      <td>3</td>\n",
       "      <td>1</td>\n",
       "      <td>0</td>\n",
       "      <td>[True, False, False, False, False, False, Fals...</td>\n",
       "    </tr>\n",
       "    <tr>\n",
       "      <th>1</th>\n",
       "      <td>ae</td>\n",
       "      <td>1</td>\n",
       "      <td>3</td>\n",
       "      <td>2</td>\n",
       "      <td>1</td>\n",
       "      <td>[True, False, False, False, True, False, False...</td>\n",
       "    </tr>\n",
       "    <tr>\n",
       "      <th>2</th>\n",
       "      <td>ai</td>\n",
       "      <td>1</td>\n",
       "      <td>3</td>\n",
       "      <td>2</td>\n",
       "      <td>2</td>\n",
       "      <td>[True, False, False, False, False, False, Fals...</td>\n",
       "    </tr>\n",
       "    <tr>\n",
       "      <th>3</th>\n",
       "      <td>b</td>\n",
       "      <td>1</td>\n",
       "      <td>3</td>\n",
       "      <td>1</td>\n",
       "      <td>3</td>\n",
       "      <td>[False, True, False, False, False, False, Fals...</td>\n",
       "    </tr>\n",
       "    <tr>\n",
       "      <th>4</th>\n",
       "      <td>ba</td>\n",
       "      <td>4</td>\n",
       "      <td>3</td>\n",
       "      <td>2</td>\n",
       "      <td>4</td>\n",
       "      <td>[True, True, False, False, False, False, False...</td>\n",
       "    </tr>\n",
       "  </tbody>\n",
       "</table>\n",
       "</div>"
      ],
      "text/plain": [
       "  letter_selector  ls_count  ls_nchar_iter  ls_nchar  letter_selector_id  \\\n",
       "0               a         2              3         1                   0   \n",
       "1              ae         1              3         2                   1   \n",
       "2              ai         1              3         2                   2   \n",
       "3               b         1              3         1                   3   \n",
       "4              ba         4              3         2                   4   \n",
       "\n",
       "                                            ls_index  \n",
       "0  [True, False, False, False, False, False, Fals...  \n",
       "1  [True, False, False, False, True, False, False...  \n",
       "2  [True, False, False, False, False, False, Fals...  \n",
       "3  [False, True, False, False, False, False, Fals...  \n",
       "4  [True, True, False, False, False, False, False...  "
      ]
     },
     "execution_count": 5,
     "metadata": {},
     "output_type": "execute_result"
    }
   ],
   "source": [
    "ls_df.head()"
   ]
  },
  {
   "cell_type": "code",
   "execution_count": 6,
   "id": "60ded439",
   "metadata": {},
   "outputs": [
    {
     "name": "stdout",
     "output_type": "stream",
     "text": [
      "...query execution took: 0.0 seconds...\n"
     ]
    }
   ],
   "source": [
    "# load the total number of anagrams\n",
    "n_possible_anagrams = load_possible_anagrams(db_path=rc.DB_PATH,\n",
    "                                             db_name=rc.DB_NAME)"
   ]
  },
  {
   "cell_type": "code",
   "execution_count": 7,
   "id": "3c2aba76",
   "metadata": {},
   "outputs": [
    {
     "data": {
      "text/html": [
       "<div>\n",
       "<style scoped>\n",
       "    .dataframe tbody tr th:only-of-type {\n",
       "        vertical-align: middle;\n",
       "    }\n",
       "\n",
       "    .dataframe tbody tr th {\n",
       "        vertical-align: top;\n",
       "    }\n",
       "\n",
       "    .dataframe thead th {\n",
       "        text-align: right;\n",
       "    }\n",
       "</style>\n",
       "<table border=\"1\" class=\"dataframe\">\n",
       "  <thead>\n",
       "    <tr style=\"text-align: right;\">\n",
       "      <th></th>\n",
       "      <th>word</th>\n",
       "      <th>lcase</th>\n",
       "      <th>n_chars</th>\n",
       "      <th>first_letter</th>\n",
       "      <th>word_id</th>\n",
       "      <th>word_group_id</th>\n",
       "      <th>letter_group</th>\n",
       "      <th>letter_group_ranked</th>\n",
       "      <th>word_group_count</th>\n",
       "      <th>letter_selector</th>\n",
       "      <th>n_records</th>\n",
       "    </tr>\n",
       "  </thead>\n",
       "  <tbody>\n",
       "    <tr>\n",
       "      <th>0</th>\n",
       "      <td>A</td>\n",
       "      <td>a</td>\n",
       "      <td>1</td>\n",
       "      <td>a</td>\n",
       "      <td>0</td>\n",
       "      <td>0</td>\n",
       "      <td>a</td>\n",
       "      <td>a</td>\n",
       "      <td>1</td>\n",
       "      <td>a</td>\n",
       "      <td>1</td>\n",
       "    </tr>\n",
       "    <tr>\n",
       "      <th>1</th>\n",
       "      <td>aa</td>\n",
       "      <td>aa</td>\n",
       "      <td>2</td>\n",
       "      <td>a</td>\n",
       "      <td>1</td>\n",
       "      <td>1</td>\n",
       "      <td>a</td>\n",
       "      <td>a</td>\n",
       "      <td>1</td>\n",
       "      <td>a</td>\n",
       "      <td>1</td>\n",
       "    </tr>\n",
       "    <tr>\n",
       "      <th>2</th>\n",
       "      <td>aal</td>\n",
       "      <td>aal</td>\n",
       "      <td>3</td>\n",
       "      <td>a</td>\n",
       "      <td>2</td>\n",
       "      <td>2</td>\n",
       "      <td>al</td>\n",
       "      <td>la</td>\n",
       "      <td>2</td>\n",
       "      <td>la</td>\n",
       "      <td>1</td>\n",
       "    </tr>\n",
       "    <tr>\n",
       "      <th>3</th>\n",
       "      <td>aalii</td>\n",
       "      <td>aalii</td>\n",
       "      <td>5</td>\n",
       "      <td>a</td>\n",
       "      <td>3</td>\n",
       "      <td>3</td>\n",
       "      <td>ail</td>\n",
       "      <td>lai</td>\n",
       "      <td>1</td>\n",
       "      <td>lai</td>\n",
       "      <td>1</td>\n",
       "    </tr>\n",
       "    <tr>\n",
       "      <th>4</th>\n",
       "      <td>aam</td>\n",
       "      <td>aam</td>\n",
       "      <td>3</td>\n",
       "      <td>a</td>\n",
       "      <td>4</td>\n",
       "      <td>4</td>\n",
       "      <td>am</td>\n",
       "      <td>ma</td>\n",
       "      <td>2</td>\n",
       "      <td>ma</td>\n",
       "      <td>1</td>\n",
       "    </tr>\n",
       "  </tbody>\n",
       "</table>\n",
       "</div>"
      ],
      "text/plain": [
       "    word  lcase  n_chars first_letter  word_id  word_group_id letter_group  \\\n",
       "0      A      a        1            a        0              0            a   \n",
       "1     aa     aa        2            a        1              1            a   \n",
       "2    aal    aal        3            a        2              2           al   \n",
       "3  aalii  aalii        5            a        3              3          ail   \n",
       "4    aam    aam        3            a        4              4           am   \n",
       "\n",
       "  letter_group_ranked  word_group_count letter_selector  n_records  \n",
       "0                   a                 1               a          1  \n",
       "1                   a                 1               a          1  \n",
       "2                  la                 2              la          1  \n",
       "3                 lai                 1             lai          1  \n",
       "4                  ma                 2              ma          1  "
      ]
     },
     "execution_count": 7,
     "metadata": {},
     "output_type": "execute_result"
    }
   ],
   "source": [
    "wg_df.head()"
   ]
  },
  {
   "cell_type": "code",
   "execution_count": 8,
   "id": "9d453cc6",
   "metadata": {},
   "outputs": [],
   "source": [
    "col_names = ['letter_selector', 'letter_selector_id']\n",
    "wg_df = pd.merge(left = wg_df, right = ls_df[col_names])"
   ]
  },
  {
   "cell_type": "code",
   "execution_count": 9,
   "id": "c585a3ff",
   "metadata": {},
   "outputs": [],
   "source": [
    "ls_id_wg_id, ls_index_array = build_ls_index_arrays(wg_df=wg_df, ls_df = ls_df)"
   ]
  },
  {
   "cell_type": "code",
   "execution_count": 10,
   "id": "5136c9b5",
   "metadata": {},
   "outputs": [],
   "source": [
    "# import numba and types\n",
    "from numba import njit, int8, int32"
   ]
  },
  {
   "cell_type": "code",
   "execution_count": 11,
   "id": "459b9b82",
   "metadata": {},
   "outputs": [],
   "source": [
    "# decorate a function that encapsulates several NumPy operations\n",
    "# notably, numba cannot be used with np.all(), so we have to get creative\n",
    "# with a replacement that involves a loop. NumPy's strength is that so many\n",
    "# operations work along the dimensions of arrays.\n",
    "@njit\n",
    "def build_output_wg_id_list(temp_wg_id_list:np.ndarray, ls_wchar_matrix:np.ndarray, temp_wg_id:int) -> np.ndarray:\n",
    "    # numba doesn't have the equivalent of np.all which means I need \n",
    "    # to implement a work around.\n",
    "    rows, cols = ls_wchar_matrix.shape\n",
    "    temp_matrix = (ls_wchar_matrix - ls_wchar_matrix[temp_wg_id, :]) >= 0    \n",
    "    zero_list = np.zeros(shape = rows, dtype=np.bool)\n",
    "    for i in range(rows):\n",
    "        zero_list[i] = temp_matrix[i, :].sum() == cols    \n",
    "    return temp_wg_id_list[zero_list]"
   ]
  },
  {
   "cell_type": "code",
   "execution_count": 12,
   "id": "a2532df4",
   "metadata": {},
   "outputs": [],
   "source": [
    "# Build functions to contain operations. In theory, the just-in-time compilation\n",
    "# of Numba should make this faster. \n",
    "@njit\n",
    "def numbafunc01(wchar_matrix:np.ndarray, outcome_indices:np.ndarray):\n",
    "    # this is the sub-matrix from which to query\n",
    "    return wchar_matrix[outcome_indices, :]\n",
    "\n",
    "@njit\n",
    "def numbafunc02(word_group_id_list:np.ndarray, outcome_indices:np.ndarray):\n",
    "    return word_group_id_list[outcome_indices]\n",
    "\n",
    "@njit\n",
    "def numbafunc03(ls_id_wg_id:np.ndarray, ls_row_id:int):\n",
    "    return ls_id_wg_id[ls_id_wg_id[:, 0] == ls_row_id, 1]\n",
    "\n",
    "@njit\n",
    "def numbafunc04(temp_wg_id_list:np.ndarray, curr_wg_id:np.ndarray):\n",
    "    return np.where(temp_wg_id_list == curr_wg_id)[0][0]\n",
    "\n",
    "@njit\n",
    "def numbafunc05(ls_wchar_matrix:np.ndarray, temp_wg_id:int):\n",
    "    return ls_wchar_matrix - ls_wchar_matrix[temp_wg_id, :]\n"
   ]
  },
  {
   "cell_type": "code",
   "execution_count": 13,
   "id": "b3ad5e80",
   "metadata": {},
   "outputs": [],
   "source": [
    "# finally, decorate the format_output_list() function.\n",
    "@njit\n",
    "def format_output_list(outcome_word_id_list: np.ndarray, wg_id: int) -> np.ndarray:\n",
    "    output_list = np.zeros(\n",
    "        shape=(outcome_word_id_list.shape[0], 2), dtype=np.int32)\n",
    "\n",
    "    # update the output list with the word_id_list - these are from/parent words\n",
    "    output_list[:, 0] = outcome_word_id_list\n",
    "\n",
    "    # update with the word_id - this is the to/child word\n",
    "    output_list[:, 1] = wg_id\n",
    "\n",
    "    return output_list\n"
   ]
  },
  {
   "cell_type": "code",
   "execution_count": null,
   "id": "57024f03",
   "metadata": {},
   "outputs": [],
   "source": []
  },
  {
   "cell_type": "code",
   "execution_count": null,
   "id": "b0abaf34",
   "metadata": {},
   "outputs": [],
   "source": []
  },
  {
   "cell_type": "code",
   "execution_count": null,
   "id": "38e4079b",
   "metadata": {},
   "outputs": [],
   "source": []
  },
  {
   "cell_type": "code",
   "execution_count": 14,
   "id": "be7203d9",
   "metadata": {},
   "outputs": [
    {
     "name": "stdout",
     "output_type": "stream",
     "text": [
      "...running once to compile code...\n",
      "0\n",
      "...time to find parent/child word relationships\n",
      "Hours: 0 | minutes: 0 | seconds: 7.9557\n",
      "...truncating output list...\n",
      "(176230, 2)\n",
      "Hours: 0 | minutes: 0 | seconds: 10.1699\n",
      "...running all letter selectors...\n",
      "0\n",
      "100\n",
      "200\n",
      "300\n",
      "400\n",
      "500\n",
      "600\n",
      "700\n",
      "800\n",
      "900\n",
      "1000\n",
      "1100\n",
      "1200\n",
      "1300\n",
      "1400\n",
      "1500\n",
      "1600\n",
      "1700\n",
      "1800\n",
      "1900\n",
      "2000\n",
      "2100\n",
      "2200\n",
      "2300\n",
      "...time to find parent/child word relationships\n",
      "Hours: 0 | minutes: 1 | seconds: 58.3989\n",
      "...truncating output list...\n",
      "(73218235, 2)\n",
      "Hours: 0 | minutes: 2 | seconds: 2.2738\n"
     ]
    }
   ],
   "source": [
    "# run it!\n",
    "# we need to compile the function, so, let's run this once, toss those results,\n",
    "# and then actually run it\n",
    "for time_counter in range(2):\n",
    "    if time_counter == 0:\n",
    "        slices = 1\n",
    "        print('...running once to compile code...')\n",
    "    else:\n",
    "        slices = None\n",
    "        print('...running all letter selectors...')\n",
    "\n",
    "\n",
    "    run_start_time=perf_counter_ns()\n",
    "    # create the output list\n",
    "    output_list = np.full(shape = (n_possible_anagrams, 2), fill_value=-1, dtype=np.int32)\n",
    "    output_time_list = []\n",
    "\n",
    "    # start counting\n",
    "    anagram_pair_count = 0\n",
    "\n",
    "    for ls_row_id, ls_row in enumerate(ls_index_array[:slices, :]):    \n",
    "        if ls_row_id % 100 == 0:\n",
    "            print(ls_row_id)\n",
    "        start_time = perf_counter_ns()    \n",
    "                \n",
    "        ##\n",
    "        # SUBSET THE wchar_matrix by column selector\n",
    "        ##    \n",
    "        outcome_indices = np.all(wchar_matrix[:, ls_row] >= 1, axis=1)\n",
    "        \n",
    "        # leaving the lines in to show what's been decorated with Numba\n",
    "        #ls_wchar_matrix = wchar_matrix[outcome_indices, :]\n",
    "        ls_wchar_matrix = numbafunc01(wchar_matrix = wchar_matrix, outcome_indices = outcome_indices)\n",
    "            \n",
    "        # this is the list of word group ids that correspond to the word group ids\n",
    "        # in the ls_wchar_matrix\n",
    "        #temp_wg_id_list = word_group_id_list[outcome_indices]\n",
    "        temp_wg_id_list = numbafunc02(word_group_id_list=word_group_id_list,\n",
    "                                    outcome_indices=outcome_indices)\n",
    "        \n",
    "        # this is the number of word groups that meet certain criteria. \n",
    "        # for example, words that feature the letters: 'buc'    \n",
    "        n_search_space = temp_wg_id_list.shape[0]    \n",
    "    \n",
    "        #curr_wg_id_list = ls_id_wg_id[ls_id_wg_id[:, 0] == ls_row_id, 1]\n",
    "        curr_wg_id_list = numbafunc03(ls_id_wg_id=ls_id_wg_id, ls_row_id=ls_row_id)    \n",
    "        \n",
    "        for i_curr_wg_id, curr_wg_id in enumerate(curr_wg_id_list):    \n",
    "                \n",
    "            # get different word group ids?\n",
    "            #temp_wg_id = np.where(temp_wg_id_list == curr_wg_id)[0][0]\n",
    "            temp_wg_id = numbafunc04(temp_wg_id_list=temp_wg_id_list, curr_wg_id=curr_wg_id)        \n",
    "                    \n",
    "            #outcome_word_id_list = temp_wg_id_list[np.all(a = (ls_wchar_matrix - ls_wchar_matrix[temp_wg_id, :]) >= 0, axis = 1)]        \n",
    "            temp_matrix = numbafunc05(ls_wchar_matrix=ls_wchar_matrix, temp_wg_id=temp_wg_id)\n",
    "            outcome_word_id_list = temp_wg_id_list[np.all(a = temp_matrix >= 0, axis = 1)]\n",
    "                    \n",
    "            n_from_words = outcome_word_id_list.shape[0]\n",
    "            \n",
    "            if n_from_words > 0:\n",
    "                outcome_word_id_list = format_output_list(outcome_word_id_list=outcome_word_id_list, wg_id=curr_wg_id)\n",
    "                            \n",
    "                # enumerate the from/parent words\n",
    "                new_anagram_pair_count = anagram_pair_count + n_from_words\n",
    "                \n",
    "                output_list[anagram_pair_count:new_anagram_pair_count, :] = outcome_word_id_list\n",
    "\n",
    "                # update the anagram pair count\n",
    "                anagram_pair_count = new_anagram_pair_count\n",
    "\n",
    "        curr_time = calc_time(time_start=start_time, round_digits=8)\n",
    "        output_time_list.append([ls_row_id, n_search_space, curr_time])\n",
    "\n",
    "    print('...time to find parent/child word relationships')\n",
    "    time_proc = calc_time(time_start=run_start_time, round_digits=4)\n",
    "    compute_elapsed_time(seconds=time_proc)\n",
    "    print('...truncating output list...')\n",
    "    output_indices = np.all(output_list >= 0, axis=1)\n",
    "    output_list = output_list[output_indices,]\n",
    "    print(output_list.shape)\n",
    "    time_proc = calc_time(time_start=run_start_time, round_digits=4)\n",
    "    compute_elapsed_time(seconds=time_proc)"
   ]
  },
  {
   "cell_type": "code",
   "execution_count": 15,
   "id": "4fb3d9f5",
   "metadata": {},
   "outputs": [],
   "source": [
    "# current technique: 1 minute, 19 seconds\n",
    "# using Numba: 1 minute, 50 seconds. Not faster!"
   ]
  },
  {
   "cell_type": "code",
   "execution_count": 16,
   "id": "56ef125c",
   "metadata": {},
   "outputs": [],
   "source": [
    "# check the counters, just to confirm\n",
    "from_word_counter, to_word_counter = build_counters(output_list=output_list)"
   ]
  },
  {
   "cell_type": "code",
   "execution_count": 17,
   "id": "eed9f7df",
   "metadata": {},
   "outputs": [
    {
     "name": "stdout",
     "output_type": "stream",
     "text": [
      "26\n",
      "329\n"
     ]
    }
   ],
   "source": [
    "# the number of from word groups: should be 26\n",
    "print(from_word_counter[746])\n",
    "print(to_word_counter[746])"
   ]
  },
  {
   "cell_type": "code",
   "execution_count": 18,
   "id": "310a9265",
   "metadata": {},
   "outputs": [],
   "source": [
    "# the take away: Numba - in this example - is not faster. "
   ]
  }
 ],
 "metadata": {
  "kernelspec": {
   "display_name": "analysis",
   "language": "python",
   "name": "python3"
  },
  "language_info": {
   "codemirror_mode": {
    "name": "ipython",
    "version": 3
   },
   "file_extension": ".py",
   "mimetype": "text/x-python",
   "name": "python",
   "nbconvert_exporter": "python",
   "pygments_lexer": "ipython3",
   "version": "3.12.7"
  }
 },
 "nbformat": 4,
 "nbformat_minor": 5
}
