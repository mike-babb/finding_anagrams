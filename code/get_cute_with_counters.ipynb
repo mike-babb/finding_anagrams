{
 "cells": [
  {
   "cell_type": "code",
   "execution_count": 1,
   "id": "2d79242f-9610-4770-b1a6-1a48a56c5359",
   "metadata": {},
   "outputs": [],
   "source": [
    "import collections"
   ]
  },
  {
   "cell_type": "code",
   "execution_count": 19,
   "id": "bf94cc94-6dbe-444b-ba2e-1fac955263bd",
   "metadata": {},
   "outputs": [],
   "source": [
    "import numpy as np"
   ]
  },
  {
   "cell_type": "code",
   "execution_count": 12,
   "id": "cde4069b-83e3-4087-8ec2-4f05c903b8ee",
   "metadata": {},
   "outputs": [],
   "source": [
    "my_counter = collections.Counter([1,2,2,3,3,4])"
   ]
  },
  {
   "cell_type": "code",
   "execution_count": 13,
   "id": "64ddb4be-e204-4898-84f9-34513d2bbda9",
   "metadata": {},
   "outputs": [
    {
     "data": {
      "text/plain": [
       "[(2, 2), (3, 2)]"
      ]
     },
     "execution_count": 13,
     "metadata": {},
     "output_type": "execute_result"
    }
   ],
   "source": [
    "my_counter.most_common(2)"
   ]
  },
  {
   "cell_type": "code",
   "execution_count": 14,
   "id": "5099d13c-271f-414b-b166-960e38e943cd",
   "metadata": {},
   "outputs": [],
   "source": [
    "my_counter.update([5,5])"
   ]
  },
  {
   "cell_type": "code",
   "execution_count": 17,
   "id": "6b5fde14-85b9-4458-a64b-59013733ca74",
   "metadata": {},
   "outputs": [
    {
     "data": {
      "text/plain": [
       "[(2, 2), (3, 2), (5, 2)]"
      ]
     },
     "execution_count": 17,
     "metadata": {},
     "output_type": "execute_result"
    }
   ],
   "source": [
    "my_counter.most_common(3)"
   ]
  },
  {
   "cell_type": "code",
   "execution_count": 42,
   "id": "87d6a23e-bb31-4412-b43a-3affb2c6bc01",
   "metadata": {},
   "outputs": [],
   "source": [
    "ar1 = np.array(list(my_counter.items()))"
   ]
  },
  {
   "cell_type": "code",
   "execution_count": 43,
   "id": "5009599a-fe62-4d5f-ab8d-6c072e06bb9e",
   "metadata": {},
   "outputs": [],
   "source": [
    "outcome = ar1[:, 1] ==2"
   ]
  },
  {
   "cell_type": "code",
   "execution_count": 44,
   "id": "9aa6326c-881a-47be-8394-38e89eb0f466",
   "metadata": {},
   "outputs": [
    {
     "data": {
      "text/plain": [
       "array([False,  True,  True, False,  True])"
      ]
     },
     "execution_count": 44,
     "metadata": {},
     "output_type": "execute_result"
    }
   ],
   "source": [
    "outcome"
   ]
  },
  {
   "cell_type": "code",
   "execution_count": 48,
   "id": "97dbf83b-1a8e-4d48-b5a3-6860df98442d",
   "metadata": {},
   "outputs": [],
   "source": [
    "ar2 = ar1[outcome, 0]"
   ]
  },
  {
   "cell_type": "code",
   "execution_count": 49,
   "id": "6da880e3-a128-4233-90e9-5756d9ca29fc",
   "metadata": {},
   "outputs": [
    {
     "data": {
      "text/plain": [
       "(3,)"
      ]
     },
     "execution_count": 49,
     "metadata": {},
     "output_type": "execute_result"
    }
   ],
   "source": [
    "ar2.shape"
   ]
  },
  {
   "cell_type": "code",
   "execution_count": 50,
   "id": "a7631df4-c6c6-4c5f-8e91-09a6ff45df53",
   "metadata": {},
   "outputs": [
    {
     "data": {
      "text/plain": [
       "array([2, 3, 5])"
      ]
     },
     "execution_count": 50,
     "metadata": {},
     "output_type": "execute_result"
    }
   ],
   "source": [
    "ar2"
   ]
  },
  {
   "cell_type": "code",
   "execution_count": 16,
   "id": "4e2406fc-ddc5-4418-bba0-8a4d7ae41893",
   "metadata": {},
   "outputs": [
    {
     "data": {
      "text/plain": [
       "Counter({2: 2, 3: 2, 5: 2, 1: 1, 4: 1})"
      ]
     },
     "execution_count": 16,
     "metadata": {},
     "output_type": "execute_result"
    }
   ],
   "source": [
    "my_counter"
   ]
  },
  {
   "cell_type": "code",
   "execution_count": null,
   "id": "50a1d9e9-9631-4c3f-9609-ab08859ac78a",
   "metadata": {},
   "outputs": [],
   "source": []
  }
 ],
 "metadata": {
  "kernelspec": {
   "display_name": "Python 3 (ipykernel)",
   "language": "python",
   "name": "python3"
  },
  "language_info": {
   "codemirror_mode": {
    "name": "ipython",
    "version": 3
   },
   "file_extension": ".py",
   "mimetype": "text/x-python",
   "name": "python",
   "nbconvert_exporter": "python",
   "pygments_lexer": "ipython3",
   "version": "3.11.5"
  }
 },
 "nbformat": 4,
 "nbformat_minor": 5
}
