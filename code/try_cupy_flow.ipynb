{
 "cells": [
  {
   "cell_type": "code",
   "execution_count": 1,
   "id": "966bc4dd",
   "metadata": {},
   "outputs": [],
   "source": [
    "# Find anagrams. But use cupy. On Studio3? Perfect the workflow."
   ]
  },
  {
   "cell_type": "code",
   "execution_count": 2,
   "id": "73fa58d5-75a5-41ea-8943-ebae8f18d273",
   "metadata": {
    "tags": []
   },
   "outputs": [],
   "source": [
    "# standard libraries\n",
    "from time import perf_counter_ns\n",
    "import time"
   ]
  },
  {
   "cell_type": "code",
   "execution_count": 3,
   "id": "42ce83e6",
   "metadata": {},
   "outputs": [],
   "source": [
    "\n",
    "# external libraries\n",
    "import pandas as pd\n",
    "import numpy as np\n",
    "\n",
    "# custom libraries\n",
    "from _run_constants import *\n",
    "from part_00_file_db_utils import *\n",
    "from part_00_process_functions import *\n"
   ]
  },
  {
   "cell_type": "markdown",
   "id": "7bbee031",
   "metadata": {},
   "source": [
    "# LOAD INPUT DATA"
   ]
  },
  {
   "cell_type": "code",
   "execution_count": 4,
   "id": "247235e1",
   "metadata": {},
   "outputs": [
    {
     "name": "stdout",
     "output_type": "stream",
     "text": [
      "...loading words into a dataframe...\n",
      "...query execution took: 0.46 seconds...\n",
      "...loading word groups into a dataframe...\n",
      "...query execution took: 0.45 seconds...\n",
      "...loading the letter dictionary...\n",
      "...loading the char matrix...\n",
      "...subsetting the char matrix...\n"
     ]
    }
   ],
   "source": [
    "word_df, wg_df, letter_dict, char_matrix, \\\n",
    "    word_group_id_list, word_id_list, wchar_matrix = load_input_data(\n",
    "        db_path=rc.DB_PATH, db_name=rc.DB_NAME,\n",
    "        in_file_path=rc.IN_FILE_PATH)\n"
   ]
  },
  {
   "cell_type": "markdown",
   "id": "45ff2e4d",
   "metadata": {},
   "source": [
    "# let's process 1000 rows using a single lookup using the full matrix"
   ]
  },
  {
   "cell_type": "code",
   "execution_count": 5,
   "id": "96b36966",
   "metadata": {},
   "outputs": [],
   "source": [
    "n_possible_anagrams = int(1e6)"
   ]
  },
  {
   "cell_type": "code",
   "execution_count": 6,
   "id": "25610500",
   "metadata": {},
   "outputs": [
    {
     "data": {
      "text/plain": [
       "'1,000,000'"
      ]
     },
     "execution_count": 6,
     "metadata": {},
     "output_type": "execute_result"
    }
   ],
   "source": [
    "f\"{n_possible_anagrams :,}\""
   ]
  },
  {
   "cell_type": "markdown",
   "id": "a8f806b2",
   "metadata": {},
   "source": [
    "# Using the CPU"
   ]
  },
  {
   "cell_type": "code",
   "execution_count": 7,
   "id": "cfb82534",
   "metadata": {},
   "outputs": [
    {
     "name": "stdout",
     "output_type": "stream",
     "text": [
      "100\n",
      "200\n",
      "300\n",
      "400\n",
      "500\n",
      "600\n",
      "700\n",
      "800\n",
      "900\n",
      "1000\n",
      "truncating list\n"
     ]
    },
    {
     "data": {
      "text/plain": [
       "(367672, 2)"
      ]
     },
     "execution_count": 7,
     "metadata": {},
     "output_type": "execute_result"
    }
   ],
   "source": [
    "# sample 1000 rows\n",
    "n_samples = 1000\n",
    "sample_wg_id = wg_df['word_group_id'].sample(n = n_samples, random_state = 42).to_list()\n",
    "if 746 not in sample_wg_id:\n",
    "    sample_wg_id.append(746)\n",
    "    #sample_wg_id = np.aray(sample_wg_id)\n",
    "\n",
    "# establish counters for record keeping\n",
    "output_list = np.full(shape=(n_possible_anagrams, 2),\n",
    "                          fill_value=-1, dtype=int)\n",
    "\n",
    "row_count = 0\n",
    "anagram_pair_count = 0\n",
    "intermediate_to_word_count = collections.Counter()\n",
    "\n",
    "for wg_id in sample_wg_id:\n",
    "    # identify parent words\n",
    "    outcome = wchar_matrix - wchar_matrix[wg_id, ]\n",
    "    \n",
    "    # compute the score by finding where rows, across all columns, are GTE 0\n",
    "    outcome_indices = np.all(outcome >= 0, axis=1)\n",
    "    outcome = None\n",
    "\n",
    "    n_from_words = outcome_indices.sum()\n",
    "\n",
    "    if n_from_words >= 1:\n",
    "        # extract anagrams based on index values    \n",
    "        outcome_word_id_list = word_group_id_list[outcome_indices]    \n",
    "\n",
    "        # we have matches\n",
    "        # the focal word\n",
    "        curr_output_list = np.zeros(shape=(n_from_words, 2), dtype=int)\n",
    "\n",
    "        # update the output list with the word_id_list - these are from/parent words\n",
    "        curr_output_list[:, 0] = outcome_word_id_list\n",
    "\n",
    "        # update with the word_id - this is the to/child word\n",
    "        curr_output_list[:, 1] = wg_id\n",
    "\n",
    "        # enumerate the from/parent wordsds\n",
    "        new_anagram_pair_count = anagram_pair_count + n_from_words\n",
    "\n",
    "        output_list[anagram_pair_count:new_anagram_pair_count,\n",
    "                    :] = curr_output_list\n",
    "\n",
    "        # n_to_word_counter = collections.Counter(output_list[:, 0])\n",
    "        intermediate_to_word_count.update(outcome_word_id_list.tolist())\n",
    "\n",
    "        # set the anagram pair count\n",
    "        anagram_pair_count = new_anagram_pair_count\n",
    "    \n",
    "    row_count += 1\n",
    "\n",
    "    if row_count % 100 == 0:\n",
    "        print(row_count)\n",
    "print('truncating list')\n",
    "output_indices = np.all(output_list >= 0, axis=1)\n",
    "output_list = output_list[output_indices,]\n",
    "del output_indices\n",
    "output_list.shape"
   ]
  },
  {
   "cell_type": "code",
   "execution_count": 8,
   "id": "62bf651e",
   "metadata": {},
   "outputs": [],
   "source": [
    "from_word_counter = collections.Counter(output_list[:,1])\n",
    "to_word_counter = collections.Counter(output_list[:,0])"
   ]
  },
  {
   "cell_type": "code",
   "execution_count": 9,
   "id": "2f7663cf",
   "metadata": {},
   "outputs": [
    {
     "data": {
      "text/plain": [
       "26"
      ]
     },
     "execution_count": 9,
     "metadata": {},
     "output_type": "execute_result"
    }
   ],
   "source": [
    "# the number of from word groups\n",
    "from_word_counter[746]"
   ]
  },
  {
   "cell_type": "markdown",
   "id": "4412a91e",
   "metadata": {},
   "source": [
    "# build a selector"
   ]
  },
  {
   "cell_type": "code",
   "execution_count": 10,
   "id": "248af44d",
   "metadata": {},
   "outputs": [],
   "source": [
    "# let's split the matrix, gather the values for each split, and then combine\n",
    "n_subset_letters = 3\n",
    "wg_df[\"letter_selector\"] = wg_df[\"letter_group_ranked\"].str[:n_subset_letters]\n",
    "\n",
    "letter_selector_list = wg_df[\"letter_selector\"].unique()\n",
    "letter_selector_list.sort()\n",
    "letter_selector_id_dict = {ls: i_ls for i_ls, ls in enumerate(letter_selector_list)}\n",
    "\n",
    "wg_df[\"letter_selector_id\"] = wg_df[\"letter_selector\"].map(letter_selector_id_dict)\n",
    "# here's the thing: I need to be able to identify on a single matrix the rows that match various conditions.\n",
    "# I can't step through it and create objects at abandon. \n",
    "# so, given our wchar_matrix: what are the rows that match to such and such?\n",
    "# we can add three columns to track this... "
   ]
  },
  {
   "cell_type": "code",
   "execution_count": 11,
   "id": "e8eb0c36",
   "metadata": {},
   "outputs": [
    {
     "data": {
      "text/html": [
       "<div>\n",
       "<style scoped>\n",
       "    .dataframe tbody tr th:only-of-type {\n",
       "        vertical-align: middle;\n",
       "    }\n",
       "\n",
       "    .dataframe tbody tr th {\n",
       "        vertical-align: top;\n",
       "    }\n",
       "\n",
       "    .dataframe thead th {\n",
       "        text-align: right;\n",
       "    }\n",
       "</style>\n",
       "<table border=\"1\" class=\"dataframe\">\n",
       "  <thead>\n",
       "    <tr style=\"text-align: right;\">\n",
       "      <th></th>\n",
       "      <th>word</th>\n",
       "      <th>lcase</th>\n",
       "      <th>n_chars</th>\n",
       "      <th>first_letter</th>\n",
       "      <th>word_id</th>\n",
       "      <th>word_group_id</th>\n",
       "      <th>letter_group</th>\n",
       "      <th>letter_group_ranked</th>\n",
       "      <th>word_group_count</th>\n",
       "      <th>letter_selector</th>\n",
       "      <th>letter_selector_id</th>\n",
       "    </tr>\n",
       "  </thead>\n",
       "  <tbody>\n",
       "    <tr>\n",
       "      <th>0</th>\n",
       "      <td>A</td>\n",
       "      <td>a</td>\n",
       "      <td>1</td>\n",
       "      <td>a</td>\n",
       "      <td>0</td>\n",
       "      <td>0</td>\n",
       "      <td>a</td>\n",
       "      <td>a</td>\n",
       "      <td>1</td>\n",
       "      <td>a</td>\n",
       "      <td>0</td>\n",
       "    </tr>\n",
       "    <tr>\n",
       "      <th>1</th>\n",
       "      <td>aa</td>\n",
       "      <td>aa</td>\n",
       "      <td>2</td>\n",
       "      <td>a</td>\n",
       "      <td>1</td>\n",
       "      <td>1</td>\n",
       "      <td>a</td>\n",
       "      <td>a</td>\n",
       "      <td>1</td>\n",
       "      <td>a</td>\n",
       "      <td>0</td>\n",
       "    </tr>\n",
       "    <tr>\n",
       "      <th>2</th>\n",
       "      <td>aal</td>\n",
       "      <td>aal</td>\n",
       "      <td>3</td>\n",
       "      <td>a</td>\n",
       "      <td>2</td>\n",
       "      <td>2</td>\n",
       "      <td>al</td>\n",
       "      <td>la</td>\n",
       "      <td>2</td>\n",
       "      <td>la</td>\n",
       "      <td>1081</td>\n",
       "    </tr>\n",
       "    <tr>\n",
       "      <th>3</th>\n",
       "      <td>aalii</td>\n",
       "      <td>aalii</td>\n",
       "      <td>5</td>\n",
       "      <td>a</td>\n",
       "      <td>3</td>\n",
       "      <td>3</td>\n",
       "      <td>ail</td>\n",
       "      <td>lai</td>\n",
       "      <td>1</td>\n",
       "      <td>lai</td>\n",
       "      <td>1083</td>\n",
       "    </tr>\n",
       "    <tr>\n",
       "      <th>4</th>\n",
       "      <td>aam</td>\n",
       "      <td>aam</td>\n",
       "      <td>3</td>\n",
       "      <td>a</td>\n",
       "      <td>4</td>\n",
       "      <td>4</td>\n",
       "      <td>am</td>\n",
       "      <td>ma</td>\n",
       "      <td>2</td>\n",
       "      <td>ma</td>\n",
       "      <td>1114</td>\n",
       "    </tr>\n",
       "  </tbody>\n",
       "</table>\n",
       "</div>"
      ],
      "text/plain": [
       "    word  lcase  n_chars first_letter  word_id  word_group_id letter_group  \\\n",
       "0      A      a        1            a        0              0            a   \n",
       "1     aa     aa        2            a        1              1            a   \n",
       "2    aal    aal        3            a        2              2           al   \n",
       "3  aalii  aalii        5            a        3              3          ail   \n",
       "4    aam    aam        3            a        4              4           am   \n",
       "\n",
       "  letter_group_ranked  word_group_count letter_selector  letter_selector_id  \n",
       "0                   a                 1               a                   0  \n",
       "1                   a                 1               a                   0  \n",
       "2                  la                 2              la                1081  \n",
       "3                 lai                 1             lai                1083  \n",
       "4                  ma                 2              ma                1114  "
      ]
     },
     "execution_count": 11,
     "metadata": {},
     "output_type": "execute_result"
    }
   ],
   "source": [
    "wg_df.head()"
   ]
  },
  {
   "cell_type": "code",
   "execution_count": 12,
   "id": "1b38675c",
   "metadata": {},
   "outputs": [],
   "source": [
    "# load letter ranks\n",
    "sql = 'select letter, total_letter_rank from letter_count;'"
   ]
  },
  {
   "cell_type": "code",
   "execution_count": 13,
   "id": "5c9c281e",
   "metadata": {},
   "outputs": [
    {
     "name": "stdout",
     "output_type": "stream",
     "text": [
      "...query execution took: 0.0 seconds...\n"
     ]
    }
   ],
   "source": [
    "lr_df = query_db(sql = sql, db_path=rc.DB_PATH, db_name=rc.DB_NAME)"
   ]
  },
  {
   "cell_type": "code",
   "execution_count": 14,
   "id": "c09152a4",
   "metadata": {},
   "outputs": [],
   "source": [
    "lr_dict = {l:r for l, r in zip(lr_df['letter'], lr_df['total_letter_rank'])}"
   ]
  },
  {
   "cell_type": "code",
   "execution_count": 15,
   "id": "01d678aa",
   "metadata": {},
   "outputs": [],
   "source": [
    "wg_df['n_records'] = int(1)"
   ]
  },
  {
   "cell_type": "code",
   "execution_count": 16,
   "id": "35a891d0",
   "metadata": {},
   "outputs": [],
   "source": [
    "col_names = ['letter_selector_id', 'letter_selector', 'n_records']"
   ]
  },
  {
   "cell_type": "code",
   "execution_count": 17,
   "id": "9c9ac54b",
   "metadata": {},
   "outputs": [],
   "source": [
    "ls_df = wg_df[col_names].groupby(col_names[:-1]).agg(ls_count = ('n_records', 'sum')).reset_index()"
   ]
  },
  {
   "cell_type": "code",
   "execution_count": 18,
   "id": "a7cc649b",
   "metadata": {},
   "outputs": [
    {
     "data": {
      "text/html": [
       "<div>\n",
       "<style scoped>\n",
       "    .dataframe tbody tr th:only-of-type {\n",
       "        vertical-align: middle;\n",
       "    }\n",
       "\n",
       "    .dataframe tbody tr th {\n",
       "        vertical-align: top;\n",
       "    }\n",
       "\n",
       "    .dataframe thead th {\n",
       "        text-align: right;\n",
       "    }\n",
       "</style>\n",
       "<table border=\"1\" class=\"dataframe\">\n",
       "  <thead>\n",
       "    <tr style=\"text-align: right;\">\n",
       "      <th></th>\n",
       "      <th>letter_selector_id</th>\n",
       "      <th>letter_selector</th>\n",
       "      <th>ls_count</th>\n",
       "    </tr>\n",
       "  </thead>\n",
       "  <tbody>\n",
       "    <tr>\n",
       "      <th>0</th>\n",
       "      <td>0</td>\n",
       "      <td>a</td>\n",
       "      <td>2</td>\n",
       "    </tr>\n",
       "    <tr>\n",
       "      <th>1</th>\n",
       "      <td>1</td>\n",
       "      <td>ae</td>\n",
       "      <td>1</td>\n",
       "    </tr>\n",
       "    <tr>\n",
       "      <th>2</th>\n",
       "      <td>2</td>\n",
       "      <td>ai</td>\n",
       "      <td>1</td>\n",
       "    </tr>\n",
       "    <tr>\n",
       "      <th>3</th>\n",
       "      <td>3</td>\n",
       "      <td>b</td>\n",
       "      <td>1</td>\n",
       "    </tr>\n",
       "    <tr>\n",
       "      <th>4</th>\n",
       "      <td>4</td>\n",
       "      <td>ba</td>\n",
       "      <td>4</td>\n",
       "    </tr>\n",
       "  </tbody>\n",
       "</table>\n",
       "</div>"
      ],
      "text/plain": [
       "   letter_selector_id letter_selector  ls_count\n",
       "0                   0               a         2\n",
       "1                   1              ae         1\n",
       "2                   2              ai         1\n",
       "3                   3               b         1\n",
       "4                   4              ba         4"
      ]
     },
     "execution_count": 18,
     "metadata": {},
     "output_type": "execute_result"
    }
   ],
   "source": [
    "ls_df.head()"
   ]
  },
  {
   "cell_type": "code",
   "execution_count": 19,
   "id": "b79512a1",
   "metadata": {},
   "outputs": [
    {
     "data": {
      "text/plain": [
       "np.int64(215842)"
      ]
     },
     "execution_count": 19,
     "metadata": {},
     "output_type": "execute_result"
    }
   ],
   "source": [
    "ls_df['ls_count'].sum()"
   ]
  },
  {
   "cell_type": "code",
   "execution_count": 20,
   "id": "bf0c3a1a",
   "metadata": {},
   "outputs": [
    {
     "data": {
      "text/plain": [
       "count    2387.000000\n",
       "mean       90.423963\n",
       "std       212.422095\n",
       "min         1.000000\n",
       "25%         3.000000\n",
       "50%        14.000000\n",
       "75%        75.000000\n",
       "max      2544.000000\n",
       "Name: ls_count, dtype: float64"
      ]
     },
     "execution_count": 20,
     "metadata": {},
     "output_type": "execute_result"
    }
   ],
   "source": [
    "ls_df['ls_count'].describe()"
   ]
  },
  {
   "cell_type": "code",
   "execution_count": 21,
   "id": "8bc8990d",
   "metadata": {},
   "outputs": [],
   "source": [
    "def get_ls_index(ls:str):\n",
    "    return [letter_dict[l] for l in ls]"
   ]
  },
  {
   "cell_type": "code",
   "execution_count": 22,
   "id": "d46577b8",
   "metadata": {},
   "outputs": [],
   "source": [
    "# this is effectively a column selector\n",
    "ls_df['ls_index'] = ls_df['letter_selector'].map(get_ls_index)"
   ]
  },
  {
   "cell_type": "code",
   "execution_count": 23,
   "id": "d7db74a1",
   "metadata": {},
   "outputs": [
    {
     "data": {
      "text/html": [
       "<div>\n",
       "<style scoped>\n",
       "    .dataframe tbody tr th:only-of-type {\n",
       "        vertical-align: middle;\n",
       "    }\n",
       "\n",
       "    .dataframe tbody tr th {\n",
       "        vertical-align: top;\n",
       "    }\n",
       "\n",
       "    .dataframe thead th {\n",
       "        text-align: right;\n",
       "    }\n",
       "</style>\n",
       "<table border=\"1\" class=\"dataframe\">\n",
       "  <thead>\n",
       "    <tr style=\"text-align: right;\">\n",
       "      <th></th>\n",
       "      <th>letter_selector_id</th>\n",
       "      <th>letter_selector</th>\n",
       "      <th>ls_count</th>\n",
       "      <th>ls_index</th>\n",
       "    </tr>\n",
       "  </thead>\n",
       "  <tbody>\n",
       "    <tr>\n",
       "      <th>0</th>\n",
       "      <td>0</td>\n",
       "      <td>a</td>\n",
       "      <td>2</td>\n",
       "      <td>[0]</td>\n",
       "    </tr>\n",
       "    <tr>\n",
       "      <th>1</th>\n",
       "      <td>1</td>\n",
       "      <td>ae</td>\n",
       "      <td>1</td>\n",
       "      <td>[0, 4]</td>\n",
       "    </tr>\n",
       "    <tr>\n",
       "      <th>2</th>\n",
       "      <td>2</td>\n",
       "      <td>ai</td>\n",
       "      <td>1</td>\n",
       "      <td>[0, 8]</td>\n",
       "    </tr>\n",
       "    <tr>\n",
       "      <th>3</th>\n",
       "      <td>3</td>\n",
       "      <td>b</td>\n",
       "      <td>1</td>\n",
       "      <td>[1]</td>\n",
       "    </tr>\n",
       "    <tr>\n",
       "      <th>4</th>\n",
       "      <td>4</td>\n",
       "      <td>ba</td>\n",
       "      <td>4</td>\n",
       "      <td>[1, 0]</td>\n",
       "    </tr>\n",
       "  </tbody>\n",
       "</table>\n",
       "</div>"
      ],
      "text/plain": [
       "   letter_selector_id letter_selector  ls_count ls_index\n",
       "0                   0               a         2      [0]\n",
       "1                   1              ae         1   [0, 4]\n",
       "2                   2              ai         1   [0, 8]\n",
       "3                   3               b         1      [1]\n",
       "4                   4              ba         4   [1, 0]"
      ]
     },
     "execution_count": 23,
     "metadata": {},
     "output_type": "execute_result"
    }
   ],
   "source": [
    "ls_df.head()"
   ]
  },
  {
   "cell_type": "code",
   "execution_count": 24,
   "id": "1469b1d8",
   "metadata": {},
   "outputs": [
    {
     "data": {
      "text/html": [
       "<div>\n",
       "<style scoped>\n",
       "    .dataframe tbody tr th:only-of-type {\n",
       "        vertical-align: middle;\n",
       "    }\n",
       "\n",
       "    .dataframe tbody tr th {\n",
       "        vertical-align: top;\n",
       "    }\n",
       "\n",
       "    .dataframe thead th {\n",
       "        text-align: right;\n",
       "    }\n",
       "</style>\n",
       "<table border=\"1\" class=\"dataframe\">\n",
       "  <thead>\n",
       "    <tr style=\"text-align: right;\">\n",
       "      <th></th>\n",
       "      <th>letter_selector_id</th>\n",
       "      <th>letter_selector</th>\n",
       "      <th>ls_count</th>\n",
       "      <th>ls_index</th>\n",
       "    </tr>\n",
       "  </thead>\n",
       "  <tbody>\n",
       "    <tr>\n",
       "      <th>0</th>\n",
       "      <td>0</td>\n",
       "      <td>a</td>\n",
       "      <td>2</td>\n",
       "      <td>[0]</td>\n",
       "    </tr>\n",
       "    <tr>\n",
       "      <th>1</th>\n",
       "      <td>1</td>\n",
       "      <td>ae</td>\n",
       "      <td>1</td>\n",
       "      <td>[0, 4]</td>\n",
       "    </tr>\n",
       "    <tr>\n",
       "      <th>2</th>\n",
       "      <td>2</td>\n",
       "      <td>ai</td>\n",
       "      <td>1</td>\n",
       "      <td>[0, 8]</td>\n",
       "    </tr>\n",
       "    <tr>\n",
       "      <th>3</th>\n",
       "      <td>3</td>\n",
       "      <td>b</td>\n",
       "      <td>1</td>\n",
       "      <td>[1]</td>\n",
       "    </tr>\n",
       "    <tr>\n",
       "      <th>4</th>\n",
       "      <td>4</td>\n",
       "      <td>ba</td>\n",
       "      <td>4</td>\n",
       "      <td>[1, 0]</td>\n",
       "    </tr>\n",
       "  </tbody>\n",
       "</table>\n",
       "</div>"
      ],
      "text/plain": [
       "   letter_selector_id letter_selector  ls_count ls_index\n",
       "0                   0               a         2      [0]\n",
       "1                   1              ae         1   [0, 4]\n",
       "2                   2              ai         1   [0, 8]\n",
       "3                   3               b         1      [1]\n",
       "4                   4              ba         4   [1, 0]"
      ]
     },
     "execution_count": 24,
     "metadata": {},
     "output_type": "execute_result"
    }
   ],
   "source": [
    "ls_df.head()"
   ]
  },
  {
   "cell_type": "code",
   "execution_count": 25,
   "id": "c513ae3c",
   "metadata": {},
   "outputs": [
    {
     "name": "stdout",
     "output_type": "stream",
     "text": [
      "...query execution took: 0.0 seconds...\n"
     ]
    }
   ],
   "source": [
    "n_possible_anagrams = load_possible_anagrams(db_path=rc.DB_PATH, db_name=rc.DB_NAME)"
   ]
  },
  {
   "cell_type": "code",
   "execution_count": 26,
   "id": "dfe9ebe4",
   "metadata": {},
   "outputs": [
    {
     "name": "stdout",
     "output_type": "stream",
     "text": [
      "0\n",
      "100\n",
      "200\n",
      "300\n",
      "400\n",
      "500\n",
      "600\n",
      "700\n",
      "800\n",
      "900\n",
      "1000\n",
      "1100\n",
      "1200\n",
      "1300\n",
      "1400\n",
      "1500\n",
      "1600\n",
      "1700\n",
      "1800\n",
      "1900\n",
      "2000\n",
      "2100\n",
      "2200\n",
      "2300\n"
     ]
    }
   ],
   "source": [
    "# create the output list\n",
    "output_list = np.full(shape = (n_possible_anagrams, 2), fill_value=-1)\n",
    "output_time_list = []\n",
    "\n",
    "# start counting\n",
    "anagram_pair_count = 0\n",
    "\n",
    "#for ls_id_index in range(0, 10):\n",
    "for ls_row_id, ls_row in ls_df.iloc[:None].iterrows():    \n",
    "    if ls_row_id % 100 == 0:\n",
    "        print(ls_row_id)\n",
    "    start_time = perf_counter_ns()\n",
    "    \n",
    "    # get letter selector id information\n",
    "    ls_id = ls_row['letter_selector_id']\n",
    "    ls_id_index = np.array(ls_row['ls_index'])    \n",
    "\n",
    "    ##\n",
    "    # BUILD A COLUMN SELECTOR\n",
    "    ##\n",
    "    # make sure that only values GTE 0 are selected so that the right number of\n",
    "    # columns are return.\n",
    "    #curr_ls_id = ls_id_index[ls_id_index >= 0]\n",
    "    \n",
    "    ##\n",
    "    # SUBSET THE wchar_matrix by column selector\n",
    "    ##    \n",
    "    outcome_indices = np.all(wchar_matrix[:, ls_id_index] >= 1, axis=1)\n",
    "    \n",
    "    # this is the sub-matrix from which to query\n",
    "    ls_wchar_matrix = wchar_matrix[outcome_indices, :]\n",
    "        \n",
    "    # this is the list of word group ids that correspond to the word group ids\n",
    "    # in the ls_wchar_matrix\n",
    "    temp_wg_id_list = word_group_id_list[outcome_indices]\n",
    "    # place into a dictionary to go from wg_id to wg_index. What is the index\n",
    "    # of wg_id 675?\n",
    "    # wg_id_dict = {wg_id:wg_index for wg_index, wg_id in enumerate(temp_wg_id_list)}\n",
    "\n",
    "    # this is the number of word groups that meet certain criteria. \n",
    "    # for example, words that feature the letters: 'bro'    \n",
    "    n_search_space = temp_wg_id_list.shape[0]\n",
    "        \n",
    "    #def my_func(row):\n",
    "    #    return temp_wg_id_list[np.all(a = (ls_wchar_matrix - ls_wchar_matrix[row, :]) >= 0, axis = 1)]\n",
    "\n",
    "    #for ii in range(0, ls_wchar_matrix.shape[0]):    \n",
    "    #for i_curr_wg_id, curr_wg_id in enumerate(temp_wg_id_list):\n",
    "    # the current list of words featuring the set of least common letters.\n",
    "    # these are the words have the least common letters of 'bro'    \n",
    "    curr_wg_id_list = wg_df.loc[wg_df['letter_selector_id'] == ls_id, 'word_group_id'].to_numpy()\n",
    "    # n_lookups = curr_wg_id_list.shape[0]\n",
    "    # n_search_space >= n_lookups, always. \n",
    "    for i_curr_wg_id, curr_wg_id in enumerate(curr_wg_id_list):\n",
    "    \n",
    "        \n",
    "        #temp_wg_id = wg_id_dict[curr_wg_id]\n",
    "        temp_wg_id = np.where(temp_wg_id_list == curr_wg_id)[0][0]\n",
    "        #print(curr_wg_id, temp_wg_id)\n",
    "\n",
    "        #outcome_word_id_list = my_func(row = temp_wg_id)\n",
    "        outcome_word_id_list = temp_wg_id_list[np.all(a = (ls_wchar_matrix - ls_wchar_matrix[temp_wg_id, :]) >= 0, axis = 1)]\n",
    "                \n",
    "        n_from_words = outcome_word_id_list.shape[0]\n",
    "        \n",
    "        if n_from_words > 0:\n",
    "            outcome_word_id_list = format_output_list(outcome_word_id_list=outcome_word_id_list, wg_id=curr_wg_id)\n",
    "            #print(outcome_word_id_list.shape)\n",
    "            \n",
    "            # enumerate the from/parent words\n",
    "            new_anagram_pair_count = anagram_pair_count + n_from_words\n",
    "            #print(anagram_pair_count, new_anagram_pair_count)\n",
    "\n",
    "            output_list[anagram_pair_count:new_anagram_pair_count, :] = outcome_word_id_list\n",
    "\n",
    "            # update the anagram pair count\n",
    "            anagram_pair_count = new_anagram_pair_count\n",
    "\n",
    "    curr_time = calc_time(time_start=start_time, round_digits=8)\n",
    "    output_time_list.append([ls_id, n_search_space, curr_time])"
   ]
  },
  {
   "cell_type": "code",
   "execution_count": 27,
   "id": "fa8df620",
   "metadata": {},
   "outputs": [],
   "source": [
    "col_names =['letter_selector_id', 'n_search_space', 'curr_time']\n",
    "time_df = pd.DataFrame(data = output_time_list, columns=col_names)"
   ]
  },
  {
   "cell_type": "code",
   "execution_count": 28,
   "id": "f1847ed0",
   "metadata": {},
   "outputs": [
    {
     "data": {
      "text/plain": [
       "('0', '1', '24.6488')"
      ]
     },
     "execution_count": 28,
     "metadata": {},
     "output_type": "execute_result"
    }
   ],
   "source": [
    "get_hms(seconds = time_df['curr_time'].sum(),round_seconds_digits=4)"
   ]
  },
  {
   "cell_type": "code",
   "execution_count": 29,
   "id": "31ea511d",
   "metadata": {},
   "outputs": [],
   "source": [
    "# join in the other information\n",
    "time_df = pd.merge(left = time_df, right = ls_df)"
   ]
  },
  {
   "cell_type": "code",
   "execution_count": 30,
   "id": "ef1b71f8",
   "metadata": {},
   "outputs": [
    {
     "data": {
      "text/html": [
       "<div>\n",
       "<style scoped>\n",
       "    .dataframe tbody tr th:only-of-type {\n",
       "        vertical-align: middle;\n",
       "    }\n",
       "\n",
       "    .dataframe tbody tr th {\n",
       "        vertical-align: top;\n",
       "    }\n",
       "\n",
       "    .dataframe thead th {\n",
       "        text-align: right;\n",
       "    }\n",
       "</style>\n",
       "<table border=\"1\" class=\"dataframe\">\n",
       "  <thead>\n",
       "    <tr style=\"text-align: right;\">\n",
       "      <th></th>\n",
       "      <th>letter_selector_id</th>\n",
       "      <th>n_search_space</th>\n",
       "      <th>curr_time</th>\n",
       "      <th>letter_selector</th>\n",
       "      <th>ls_count</th>\n",
       "      <th>ls_index</th>\n",
       "    </tr>\n",
       "  </thead>\n",
       "  <tbody>\n",
       "    <tr>\n",
       "      <th>0</th>\n",
       "      <td>0</td>\n",
       "      <td>133001</td>\n",
       "      <td>0.031666</td>\n",
       "      <td>a</td>\n",
       "      <td>2</td>\n",
       "      <td>[0]</td>\n",
       "    </tr>\n",
       "    <tr>\n",
       "      <th>1</th>\n",
       "      <td>1</td>\n",
       "      <td>84952</td>\n",
       "      <td>0.017679</td>\n",
       "      <td>ae</td>\n",
       "      <td>1</td>\n",
       "      <td>[0, 4]</td>\n",
       "    </tr>\n",
       "    <tr>\n",
       "      <th>2</th>\n",
       "      <td>2</td>\n",
       "      <td>82414</td>\n",
       "      <td>0.016360</td>\n",
       "      <td>ai</td>\n",
       "      <td>1</td>\n",
       "      <td>[0, 8]</td>\n",
       "    </tr>\n",
       "    <tr>\n",
       "      <th>3</th>\n",
       "      <td>3</td>\n",
       "      <td>35319</td>\n",
       "      <td>0.007622</td>\n",
       "      <td>b</td>\n",
       "      <td>1</td>\n",
       "      <td>[1]</td>\n",
       "    </tr>\n",
       "    <tr>\n",
       "      <th>4</th>\n",
       "      <td>4</td>\n",
       "      <td>23469</td>\n",
       "      <td>0.012168</td>\n",
       "      <td>ba</td>\n",
       "      <td>4</td>\n",
       "      <td>[1, 0]</td>\n",
       "    </tr>\n",
       "  </tbody>\n",
       "</table>\n",
       "</div>"
      ],
      "text/plain": [
       "   letter_selector_id  n_search_space  curr_time letter_selector  ls_count  \\\n",
       "0                   0          133001   0.031666               a         2   \n",
       "1                   1           84952   0.017679              ae         1   \n",
       "2                   2           82414   0.016360              ai         1   \n",
       "3                   3           35319   0.007622               b         1   \n",
       "4                   4           23469   0.012168              ba         4   \n",
       "\n",
       "  ls_index  \n",
       "0      [0]  \n",
       "1   [0, 4]  \n",
       "2   [0, 8]  \n",
       "3      [1]  \n",
       "4   [1, 0]  "
      ]
     },
     "execution_count": 30,
     "metadata": {},
     "output_type": "execute_result"
    }
   ],
   "source": [
    "time_df.head()"
   ]
  },
  {
   "cell_type": "code",
   "execution_count": 31,
   "id": "0ff6b16d",
   "metadata": {},
   "outputs": [
    {
     "data": {
      "text/html": [
       "<div>\n",
       "<style scoped>\n",
       "    .dataframe tbody tr th:only-of-type {\n",
       "        vertical-align: middle;\n",
       "    }\n",
       "\n",
       "    .dataframe tbody tr th {\n",
       "        vertical-align: top;\n",
       "    }\n",
       "\n",
       "    .dataframe thead th {\n",
       "        text-align: right;\n",
       "    }\n",
       "</style>\n",
       "<table border=\"1\" class=\"dataframe\">\n",
       "  <thead>\n",
       "    <tr style=\"text-align: right;\">\n",
       "      <th></th>\n",
       "      <th>letter_selector_id</th>\n",
       "      <th>n_search_space</th>\n",
       "      <th>curr_time</th>\n",
       "      <th>letter_selector</th>\n",
       "      <th>ls_count</th>\n",
       "      <th>ls_index</th>\n",
       "    </tr>\n",
       "  </thead>\n",
       "  <tbody>\n",
       "    <tr>\n",
       "      <th>2382</th>\n",
       "      <td>2382</td>\n",
       "      <td>397</td>\n",
       "      <td>0.005323</td>\n",
       "      <td>zyp</td>\n",
       "      <td>59</td>\n",
       "      <td>[25, 24, 15]</td>\n",
       "    </tr>\n",
       "    <tr>\n",
       "      <th>2383</th>\n",
       "      <td>2383</td>\n",
       "      <td>584</td>\n",
       "      <td>0.004198</td>\n",
       "      <td>zyr</td>\n",
       "      <td>1</td>\n",
       "      <td>[25, 24, 17]</td>\n",
       "    </tr>\n",
       "    <tr>\n",
       "      <th>2384</th>\n",
       "      <td>2384</td>\n",
       "      <td>412</td>\n",
       "      <td>0.004667</td>\n",
       "      <td>zys</td>\n",
       "      <td>12</td>\n",
       "      <td>[25, 24, 18]</td>\n",
       "    </tr>\n",
       "    <tr>\n",
       "      <th>2385</th>\n",
       "      <td>2385</td>\n",
       "      <td>631</td>\n",
       "      <td>0.004468</td>\n",
       "      <td>zyt</td>\n",
       "      <td>9</td>\n",
       "      <td>[25, 24, 19]</td>\n",
       "    </tr>\n",
       "    <tr>\n",
       "      <th>2386</th>\n",
       "      <td>2386</td>\n",
       "      <td>197</td>\n",
       "      <td>0.004716</td>\n",
       "      <td>zyu</td>\n",
       "      <td>18</td>\n",
       "      <td>[25, 24, 20]</td>\n",
       "    </tr>\n",
       "  </tbody>\n",
       "</table>\n",
       "</div>"
      ],
      "text/plain": [
       "      letter_selector_id  n_search_space  curr_time letter_selector  ls_count  \\\n",
       "2382                2382             397   0.005323             zyp        59   \n",
       "2383                2383             584   0.004198             zyr         1   \n",
       "2384                2384             412   0.004667             zys        12   \n",
       "2385                2385             631   0.004468             zyt         9   \n",
       "2386                2386             197   0.004716             zyu        18   \n",
       "\n",
       "          ls_index  \n",
       "2382  [25, 24, 15]  \n",
       "2383  [25, 24, 17]  \n",
       "2384  [25, 24, 18]  \n",
       "2385  [25, 24, 19]  \n",
       "2386  [25, 24, 20]  "
      ]
     },
     "execution_count": 31,
     "metadata": {},
     "output_type": "execute_result"
    }
   ],
   "source": [
    "time_df.tail()"
   ]
  },
  {
   "cell_type": "code",
   "execution_count": 32,
   "id": "ad12f6bd",
   "metadata": {},
   "outputs": [
    {
     "data": {
      "text/plain": [
       "count      2387.000000\n",
       "mean       7444.399665\n",
       "std       13775.994922\n",
       "min           1.000000\n",
       "25%         340.000000\n",
       "50%        1665.000000\n",
       "75%        8655.500000\n",
       "max      145106.000000\n",
       "Name: n_search_space, dtype: float64"
      ]
     },
     "execution_count": 32,
     "metadata": {},
     "output_type": "execute_result"
    }
   ],
   "source": [
    "time_df['n_search_space'].describe()"
   ]
  },
  {
   "cell_type": "code",
   "execution_count": 33,
   "id": "1dcc2689",
   "metadata": {},
   "outputs": [],
   "source": [
    "testo = time_df['n_search_space'] >= time_df['ls_count']"
   ]
  },
  {
   "cell_type": "code",
   "execution_count": 34,
   "id": "6d31a913",
   "metadata": {},
   "outputs": [
    {
     "data": {
      "text/plain": [
       "np.int64(2387)"
      ]
     },
     "execution_count": 34,
     "metadata": {},
     "output_type": "execute_result"
    }
   ],
   "source": [
    "testo.sum()"
   ]
  },
  {
   "cell_type": "code",
   "execution_count": 35,
   "id": "a34c7e3f",
   "metadata": {},
   "outputs": [
    {
     "data": {
      "text/plain": [
       "np.int64(215842)"
      ]
     },
     "execution_count": 35,
     "metadata": {},
     "output_type": "execute_result"
    }
   ],
   "source": [
    "time_df['ls_count'].sum()"
   ]
  },
  {
   "cell_type": "code",
   "execution_count": 36,
   "id": "fd8b0c2a",
   "metadata": {},
   "outputs": [],
   "source": [
    "time_df['avg_lookup_time'] = time_df['curr_time'] / (time_df['ls_count'] * time_df['n_search_space'])"
   ]
  },
  {
   "cell_type": "code",
   "execution_count": 37,
   "id": "31e5e213",
   "metadata": {},
   "outputs": [
    {
     "data": {
      "text/plain": [
       "count    2.387000e+03\n",
       "mean     2.870869e-05\n",
       "std      2.423333e-04\n",
       "min      3.623823e-08\n",
       "25%      9.609277e-08\n",
       "50%      2.225363e-07\n",
       "75%      1.419267e-06\n",
       "max      4.599100e-03\n",
       "Name: avg_lookup_time, dtype: float64"
      ]
     },
     "execution_count": 37,
     "metadata": {},
     "output_type": "execute_result"
    }
   ],
   "source": [
    "time_df['avg_lookup_time'].describe()"
   ]
  },
  {
   "cell_type": "code",
   "execution_count": 38,
   "id": "fb6b32a2",
   "metadata": {},
   "outputs": [
    {
     "name": "stdout",
     "output_type": "stream",
     "text": [
      "...truncating output list...\n"
     ]
    }
   ],
   "source": [
    "print('...truncating output list...')\n",
    "output_indices = np.all(output_list >= 0, axis=1)\n",
    "output_list = output_list[output_indices,]"
   ]
  },
  {
   "cell_type": "code",
   "execution_count": 39,
   "id": "b639213b",
   "metadata": {},
   "outputs": [
    {
     "data": {
      "text/plain": [
       "(73218235, 2)"
      ]
     },
     "execution_count": 39,
     "metadata": {},
     "output_type": "execute_result"
    }
   ],
   "source": [
    "output_list.shape"
   ]
  },
  {
   "cell_type": "code",
   "execution_count": 40,
   "id": "4c6071d2",
   "metadata": {},
   "outputs": [],
   "source": [
    "from_word_counter = collections.Counter(output_list[:,1])\n",
    "to_word_counter = collections.Counter(output_list[:,0])"
   ]
  },
  {
   "cell_type": "code",
   "execution_count": 41,
   "id": "5cfacedc",
   "metadata": {},
   "outputs": [
    {
     "name": "stdout",
     "output_type": "stream",
     "text": [
      "26\n",
      "329\n"
     ]
    }
   ],
   "source": [
    "# check to see if the word 'acanthology', with word_group_id 746 is in the counter\n",
    "print(from_word_counter[746])\n",
    "print(to_word_counter[746])"
   ]
  },
  {
   "cell_type": "markdown",
   "id": "12643b41",
   "metadata": {},
   "source": [
    "# Do it with CUPY"
   ]
  },
  {
   "cell_type": "code",
   "execution_count": 42,
   "id": "25b68f1b",
   "metadata": {},
   "outputs": [],
   "source": [
    "import cupy as cp"
   ]
  },
  {
   "cell_type": "code",
   "execution_count": 43,
   "id": "05f1fee6",
   "metadata": {},
   "outputs": [
    {
     "name": "stdout",
     "output_type": "stream",
     "text": [
      "my_func             :    CPU:    58.995 us   +/- 12.949 (min:    41.600 / max:   101.700) us     GPU-0:   195.998 us   +/-  9.537 (min:   189.152 / max:   226.272) us\n"
     ]
    }
   ],
   "source": [
    "from cupyx.profiler import benchmark\n",
    "\n",
    "def my_func(a):\n",
    "    return cp.sqrt(cp.sum(a**2, axis=-1))\n",
    "\n",
    "a = cp.random.random((256, 1024))\n",
    "print(benchmark(my_func, (a,), n_repeat=20))  \n"
   ]
  },
  {
   "cell_type": "code",
   "execution_count": 44,
   "id": "b0030046",
   "metadata": {},
   "outputs": [
    {
     "name": "stdout",
     "output_type": "stream",
     "text": [
      "0.5140479803085327 0.0004891999997198582\n"
     ]
    }
   ],
   "source": [
    "# initialize some gpu stats\n",
    "start_gpu = cp.cuda.Event()\n",
    "end_gpu = cp.cuda.Event()\n",
    "\n",
    "start_gpu.record()\n",
    "start_cpu = time.perf_counter()\n",
    "out = my_func(a)\n",
    "end_cpu = time.perf_counter()\n",
    "end_gpu.record()\n",
    "end_gpu.synchronize()\n",
    "t_gpu = cp.cuda.get_elapsed_time(start_gpu, end_gpu)\n",
    "t_cpu = end_cpu - start_cpu\n",
    "print(t_gpu, t_cpu)"
   ]
  },
  {
   "cell_type": "code",
   "execution_count": 45,
   "id": "1bdc5074",
   "metadata": {},
   "outputs": [],
   "source": [
    "# create cupy objects"
   ]
  },
  {
   "cell_type": "code",
   "execution_count": 46,
   "id": "1de5e981",
   "metadata": {},
   "outputs": [],
   "source": [
    "wchar_matrix_cp = cp.asarray(a = wchar_matrix)\n",
    "word_group_id_list_cp = cp.asarray(a = word_group_id_list)"
   ]
  },
  {
   "cell_type": "code",
   "execution_count": 61,
   "id": "24751dd8",
   "metadata": {},
   "outputs": [],
   "source": [
    "def format_output_list_cp(outcome_word_id_list: cp.ndarray, wg_id: int) -> cp.ndarray:\n",
    "        \n",
    "    output_list = cp.zeros(shape=(outcome_word_id_list.shape[0], 2), dtype=int)\n",
    "\n",
    "    # update the output list with the word_id_list - these are from/parent words\n",
    "    output_list[:, 0] = outcome_word_id_list\n",
    "    \n",
    "\n",
    "    # update with the word_id - this is the to/child word\n",
    "    output_list[:, 1] = wg_id\n",
    "\n",
    "    return output_list\n"
   ]
  },
  {
   "cell_type": "code",
   "execution_count": 62,
   "id": "3fc45f38",
   "metadata": {},
   "outputs": [
    {
     "name": "stdout",
     "output_type": "stream",
     "text": [
      "0\n"
     ]
    }
   ],
   "source": [
    "# create the output list\n",
    "output_list_cp = cp.full(shape = (n_possible_anagrams, 2), fill_value=-1)\n",
    "output_time_list = []\n",
    "\n",
    "# start counting\n",
    "anagram_pair_count = 0\n",
    "\n",
    "#for ls_id_index in range(0, 10):\n",
    "for ls_row_id, ls_row in ls_df.iloc[:100].iterrows():    \n",
    "    if ls_row_id % 100 == 0:\n",
    "        print(ls_row_id)\n",
    "    start_time = perf_counter_ns()\n",
    "    \n",
    "    # get letter selector id information\n",
    "    ls_id = ls_row['letter_selector_id']\n",
    "    #ls_id_index = cp.array(ls_row['ls_index'])    \n",
    "    ls_id_index = ls_row['ls_index']\n",
    "\n",
    "    ##\n",
    "    # BUILD A COLUMN SELECTOR\n",
    "    ##\n",
    "    # make sure that only values GTE 0 are selected so that the right number of\n",
    "    # columns are return.\n",
    "    #curr_ls_id = ls_id_index[ls_id_index >= 0]\n",
    "    \n",
    "    ##\n",
    "    # SUBSET THE wchar_matrix by column selector\n",
    "    ##    \n",
    "    outcome_indices_cp = cp.all(wchar_matrix_cp[:, ls_id_index] >= 1, axis=1)\n",
    "    \n",
    "    # this is the sub-matrix from which to query\n",
    "    ls_wchar_matrix_cp = wchar_matrix_cp[outcome_indices_cp, :]\n",
    "        \n",
    "    # this is the list of word group ids that correspond to the word group ids\n",
    "    # in the ls_wchar_matrix\n",
    "    temp_wg_id_list_cp = word_group_id_list_cp[outcome_indices_cp]\n",
    "    # place into a dictionary to go from wg_id to wg_index. What is the index\n",
    "    # of wg_id 675?\n",
    "    # wg_id_dict = {wg_id:wg_index for wg_index, wg_id in enumerate(temp_wg_id_list)}\n",
    "\n",
    "    # this is the number of word groups that meet certain criteria. \n",
    "    # for example, words that feature the letters: 'bro'    \n",
    "    n_search_space = temp_wg_id_list_cp.shape[0]\n",
    "        \n",
    "    #def my_func(row):\n",
    "    #    return temp_wg_id_list[np.all(a = (ls_wchar_matrix - ls_wchar_matrix[row, :]) >= 0, axis = 1)]\n",
    "\n",
    "    #for ii in range(0, ls_wchar_matrix.shape[0]):    \n",
    "    #for i_curr_wg_id, curr_wg_id in enumerate(temp_wg_id_list):\n",
    "    # the current list of words featuring the set of least common letters.\n",
    "    # these are the words have the least common letters of 'bro'    \n",
    "    curr_wg_id_list = wg_df.loc[wg_df['letter_selector_id'] == ls_id, 'word_group_id'].to_list()\n",
    "    # n_lookups = curr_wg_id_list.shape[0]\n",
    "    # n_search_space >= n_lookups, always. \n",
    "    for i_curr_wg_id, curr_wg_id in enumerate(curr_wg_id_list):    \n",
    "        \n",
    "        #temp_wg_id = wg_id_dict[curr_wg_id]\n",
    "        temp_wg_id = cp.where(temp_wg_id_list_cp == curr_wg_id)[0][0]\n",
    "        #print(curr_wg_id, temp_wg_id)\n",
    "\n",
    "        #outcome_word_id_list = my_func(row = temp_wg_id)\n",
    "        outcome_word_id_list_cp = temp_wg_id_list_cp[cp.all(a = (ls_wchar_matrix_cp - ls_wchar_matrix_cp[temp_wg_id, :]) >= 0, axis = 1)]\n",
    "                \n",
    "        n_from_words = outcome_word_id_list_cp.shape[0]\n",
    "        \n",
    "        if n_from_words > 0:\n",
    "            outcome_word_id_list = format_output_list_cp(outcome_word_id_list=outcome_word_id_list_cp, wg_id=curr_wg_id)\n",
    "            #print(outcome_word_id_list.shape)\n",
    "            \n",
    "            # enumerate the from/parent words\n",
    "            new_anagram_pair_count = anagram_pair_count + n_from_words\n",
    "            #print(anagram_pair_count, new_anagram_pair_count)\n",
    "\n",
    "            output_list_cp[anagram_pair_count:new_anagram_pair_count, :] = outcome_word_id_list\n",
    "\n",
    "            # update the anagram pair count\n",
    "            anagram_pair_count = new_anagram_pair_count\n",
    "\n",
    "    curr_time = calc_time(time_start=start_time, round_digits=8)\n",
    "    output_time_list.append([ls_id, n_search_space, curr_time])"
   ]
  },
  {
   "cell_type": "code",
   "execution_count": 63,
   "id": "0c2fb5e5",
   "metadata": {},
   "outputs": [],
   "source": [
    "col_names =['letter_selector_id', 'n_search_space', 'curr_time']\n",
    "time_df = pd.DataFrame(data = output_time_list, columns=col_names)"
   ]
  },
  {
   "cell_type": "code",
   "execution_count": 64,
   "id": "03285ef0",
   "metadata": {},
   "outputs": [
    {
     "data": {
      "text/plain": [
       "('0', '0', '8.5176')"
      ]
     },
     "execution_count": 64,
     "metadata": {},
     "output_type": "execute_result"
    }
   ],
   "source": [
    "get_hms(seconds = time_df['curr_time'].sum(),round_seconds_digits=4)"
   ]
  },
  {
   "cell_type": "code",
   "execution_count": 65,
   "id": "ab46f872",
   "metadata": {},
   "outputs": [
    {
     "data": {
      "text/plain": [
       "count       100.000000\n",
       "mean       8983.270000\n",
       "std       17556.425612\n",
       "min         447.000000\n",
       "25%        2678.000000\n",
       "50%        4210.500000\n",
       "75%        9260.500000\n",
       "max      133001.000000\n",
       "Name: n_search_space, dtype: float64"
      ]
     },
     "execution_count": 65,
     "metadata": {},
     "output_type": "execute_result"
    }
   ],
   "source": [
    "# join in the other information\n",
    "time_df = pd.merge(left = time_df, right = ls_df)\n",
    "time_df['n_search_space'].describe()"
   ]
  },
  {
   "cell_type": "code",
   "execution_count": 66,
   "id": "3119649b",
   "metadata": {},
   "outputs": [
    {
     "name": "stdout",
     "output_type": "stream",
     "text": [
      "...truncating output list...\n"
     ]
    },
    {
     "data": {
      "text/plain": [
       "(3112755, 2)"
      ]
     },
     "execution_count": 66,
     "metadata": {},
     "output_type": "execute_result"
    }
   ],
   "source": [
    "print('...truncating output list...')\n",
    "output_indices_cp = cp.all(output_list_cp >= 0, axis=1)\n",
    "output_list_cp = output_list_cp[output_indices_cp,]\n",
    "\n",
    "output_list_cp.shape"
   ]
  },
  {
   "cell_type": "code",
   "execution_count": null,
   "id": "ca2b7d24",
   "metadata": {},
   "outputs": [],
   "source": [
    "from_word_counter = collections.Counter(cp.asnumpy(output_list_cp)[:,1])\n",
    "to_word_counter = collections.Counter(cp.asnumpy(output_list_cp)[:,0])\n",
    "\n",
    "# check to see if the word 'acanthology', with word_group_id 746 is in the counter\n",
    "print(from_word_counter[746])\n",
    "print(to_word_counter[746])\n"
   ]
  },
  {
   "cell_type": "code",
   "execution_count": null,
   "id": "28f4d0b7",
   "metadata": {},
   "outputs": [],
   "source": []
  },
  {
   "cell_type": "code",
   "execution_count": null,
   "id": "89be5aae",
   "metadata": {},
   "outputs": [],
   "source": []
  },
  {
   "cell_type": "code",
   "execution_count": null,
   "id": "f799174d",
   "metadata": {},
   "outputs": [],
   "source": []
  }
 ],
 "metadata": {
  "kernelspec": {
   "display_name": "analysis",
   "language": "python",
   "name": "python3"
  },
  "language_info": {
   "codemirror_mode": {
    "name": "ipython",
    "version": 3
   },
   "file_extension": ".py",
   "mimetype": "text/x-python",
   "name": "python",
   "nbconvert_exporter": "python",
   "pygments_lexer": "ipython3",
   "version": "3.13.2"
  }
 },
 "nbformat": 4,
 "nbformat_minor": 5
}
