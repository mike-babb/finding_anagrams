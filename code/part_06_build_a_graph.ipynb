{
 "cells": [
  {
   "cell_type": "markdown",
   "metadata": {},
   "source": [
    "# Mike Babb\n",
    "# babb.mike@outlook.com\n",
    "# Find anagrams\n",
    "## Part 6: Generate a graph of word relationships"
   ]
  },
  {
   "cell_type": "code",
   "execution_count": 1,
   "metadata": {},
   "outputs": [],
   "source": [
    "# standard libraries - installed by default\n",
    "import csv\n",
    "import os\n",
    "import sqlite3\n",
    "import time"
   ]
  },
  {
   "cell_type": "code",
   "execution_count": 2,
   "metadata": {},
   "outputs": [],
   "source": [
    "# external libraries - not installed by default\n",
    "import networkx as nx\n",
    "import numpy as np\n",
    "import pandas as pd"
   ]
  },
  {
   "cell_type": "code",
   "execution_count": 3,
   "metadata": {},
   "outputs": [],
   "source": [
    "from part_00_process_functions import build_db_conn, query_db\n",
    "import _run_constants as rc"
   ]
  },
  {
   "cell_type": "markdown",
   "metadata": {},
   "source": [
    "### paths"
   ]
  },
  {
   "cell_type": "code",
   "execution_count": 4,
   "metadata": {},
   "outputs": [],
   "source": [
    "output_file_name = 'sample_graph.gexf'"
   ]
  },
  {
   "cell_type": "code",
   "execution_count": 5,
   "metadata": {},
   "outputs": [],
   "source": [
    "ofpn = os.path.join(rc.data_output_file_path, output_file_name)"
   ]
  },
  {
   "cell_type": "code",
   "execution_count": 6,
   "metadata": {},
   "outputs": [
    {
     "data": {
      "text/plain": [
       "'/project/finding_anagrams\\\\data\\\\sample_graph.gexf'"
      ]
     },
     "execution_count": 6,
     "metadata": {},
     "output_type": "execute_result"
    }
   ],
   "source": [
    "ofpn"
   ]
  },
  {
   "cell_type": "markdown",
   "metadata": {},
   "source": [
    "### load words"
   ]
  },
  {
   "cell_type": "code",
   "execution_count": 7,
   "metadata": {},
   "outputs": [
    {
     "name": "stdout",
     "output_type": "stream",
     "text": [
      "...query execution took: 0.79 seconds...\n"
     ]
    }
   ],
   "source": [
    "sql = 'select lcase, word_id, word_group_id from words;'\n",
    "word_df = query_db(sql=sql, db_path = rc.db_path, db_name = rc.db_name)"
   ]
  },
  {
   "cell_type": "code",
   "execution_count": 8,
   "metadata": {},
   "outputs": [],
   "source": [
    "# we now need to manipulate the list of words so that when we join, the values are expanded with the \n",
    "# appropriate names\n",
    "from_word_df = word_df.rename(columns = {'lcase':'from_word', 'word_id':'from_word_id', \n",
    "                                        'word_group_id':'from_word_group_id'}).copy()\n",
    "to_word_df = word_df.rename(columns = {'lcase':'to_word', 'word_id':'to_word_id', \n",
    "                                        'word_group_id':'to_word_group_id'}).copy()\n",
    "\n"
   ]
  },
  {
   "cell_type": "code",
   "execution_count": 9,
   "metadata": {},
   "outputs": [
    {
     "data": {
      "text/html": [
       "<div>\n",
       "<style scoped>\n",
       "    .dataframe tbody tr th:only-of-type {\n",
       "        vertical-align: middle;\n",
       "    }\n",
       "\n",
       "    .dataframe tbody tr th {\n",
       "        vertical-align: top;\n",
       "    }\n",
       "\n",
       "    .dataframe thead th {\n",
       "        text-align: right;\n",
       "    }\n",
       "</style>\n",
       "<table border=\"1\" class=\"dataframe\">\n",
       "  <thead>\n",
       "    <tr style=\"text-align: right;\">\n",
       "      <th></th>\n",
       "      <th>to_word</th>\n",
       "      <th>to_word_id</th>\n",
       "      <th>to_word_group_id</th>\n",
       "    </tr>\n",
       "  </thead>\n",
       "  <tbody>\n",
       "    <tr>\n",
       "      <th>0</th>\n",
       "      <td>a</td>\n",
       "      <td>0</td>\n",
       "      <td>0</td>\n",
       "    </tr>\n",
       "    <tr>\n",
       "      <th>1</th>\n",
       "      <td>aa</td>\n",
       "      <td>1</td>\n",
       "      <td>1</td>\n",
       "    </tr>\n",
       "    <tr>\n",
       "      <th>2</th>\n",
       "      <td>aal</td>\n",
       "      <td>2</td>\n",
       "      <td>2</td>\n",
       "    </tr>\n",
       "    <tr>\n",
       "      <th>3</th>\n",
       "      <td>aalii</td>\n",
       "      <td>3</td>\n",
       "      <td>3</td>\n",
       "    </tr>\n",
       "    <tr>\n",
       "      <th>4</th>\n",
       "      <td>aam</td>\n",
       "      <td>4</td>\n",
       "      <td>4</td>\n",
       "    </tr>\n",
       "  </tbody>\n",
       "</table>\n",
       "</div>"
      ],
      "text/plain": [
       "  to_word  to_word_id  to_word_group_id\n",
       "0       a           0                 0\n",
       "1      aa           1                 1\n",
       "2     aal           2                 2\n",
       "3   aalii           3                 3\n",
       "4     aam           4                 4"
      ]
     },
     "execution_count": 9,
     "metadata": {},
     "output_type": "execute_result"
    }
   ],
   "source": [
    "to_word_df.head()"
   ]
  },
  {
   "cell_type": "code",
   "execution_count": 10,
   "metadata": {},
   "outputs": [],
   "source": [
    "# build a graph starting with the word terminator\n",
    "focal_word = 'terminator'"
   ]
  },
  {
   "cell_type": "code",
   "execution_count": 11,
   "metadata": {},
   "outputs": [],
   "source": [
    "focal_word_group_id = word_df.loc[word_df['lcase'] == focal_word, 'word_group_id'].iloc[0]"
   ]
  },
  {
   "cell_type": "code",
   "execution_count": 12,
   "metadata": {},
   "outputs": [
    {
     "data": {
      "text/plain": [
       "183984"
      ]
     },
     "execution_count": 12,
     "metadata": {},
     "output_type": "execute_result"
    }
   ],
   "source": [
    "focal_word_group_id"
   ]
  },
  {
   "cell_type": "code",
   "execution_count": 13,
   "metadata": {},
   "outputs": [
    {
     "data": {
      "text/plain": [
       "numpy.int64"
      ]
     },
     "execution_count": 13,
     "metadata": {},
     "output_type": "execute_result"
    }
   ],
   "source": [
    "type(focal_word_group_id)"
   ]
  },
  {
   "cell_type": "code",
   "execution_count": 14,
   "metadata": {},
   "outputs": [],
   "source": [
    "# now, start making calls to build the graph"
   ]
  },
  {
   "cell_type": "code",
   "execution_count": 15,
   "metadata": {},
   "outputs": [],
   "source": [
    "# get parent words\n",
    "sql = 'select * from anagram_groups where from_word_group_id = ?'"
   ]
  },
  {
   "cell_type": "code",
   "execution_count": 16,
   "metadata": {},
   "outputs": [
    {
     "name": "stdout",
     "output_type": "stream",
     "text": [
      "...query execution took: 0.1 seconds...\n"
     ]
    }
   ],
   "source": [
    "# get the parent words\n",
    "pw_df = query_db(sql = sql, db_path = rc.db_path, db_name = rc.db_name, params = (int(focal_word_group_id), ))\n",
    "#pw_df = query_db(sql = sql, db_path = rc.db_path, db_name = rc.db_name)"
   ]
  },
  {
   "cell_type": "code",
   "execution_count": 17,
   "metadata": {
    "scrolled": true
   },
   "outputs": [
    {
     "name": "stdout",
     "output_type": "stream",
     "text": [
      "...query execution took: 0.0 seconds...\n",
      "...query execution took: 0.0 seconds...\n",
      "...query execution took: 0.0 seconds...\n",
      "...query execution took: 0.0 seconds...\n",
      "...query execution took: 0.0 seconds...\n",
      "...query execution took: 0.0 seconds...\n",
      "...query execution took: 0.0 seconds...\n",
      "...query execution took: 0.0 seconds...\n",
      "...query execution took: 0.0 seconds...\n",
      "...query execution took: 0.0 seconds...\n",
      "...query execution took: 0.0 seconds...\n",
      "...query execution took: 0.0 seconds...\n",
      "...query execution took: 0.0 seconds...\n",
      "...query execution took: 0.0 seconds...\n",
      "...query execution took: 0.01 seconds...\n",
      "...query execution took: 0.01 seconds...\n",
      "...query execution took: 0.01 seconds...\n",
      "...query execution took: 0.0 seconds...\n",
      "...query execution took: 0.01 seconds...\n",
      "...query execution took: 0.01 seconds...\n",
      "...query execution took: 0.01 seconds...\n",
      "...query execution took: 0.01 seconds...\n",
      "...query execution took: 0.02 seconds...\n",
      "...query execution took: 0.0 seconds...\n",
      "...query execution took: 0.0 seconds...\n",
      "...query execution took: 0.0 seconds...\n",
      "...query execution took: 0.0 seconds...\n",
      "...query execution took: 0.0 seconds...\n",
      "...query execution took: 0.0 seconds...\n",
      "...query execution took: 0.01 seconds...\n",
      "...query execution took: 0.01 seconds...\n",
      "...query execution took: 0.01 seconds...\n",
      "...query execution took: 0.01 seconds...\n",
      "...query execution took: 0.01 seconds...\n",
      "...query execution took: 0.0 seconds...\n",
      "...query execution took: 0.0 seconds...\n",
      "...query execution took: 0.01 seconds...\n",
      "...query execution took: 0.02 seconds...\n",
      "...query execution took: 0.02 seconds...\n",
      "...query execution took: 0.0 seconds...\n",
      "...query execution took: 0.0 seconds...\n",
      "...query execution took: 0.0 seconds...\n",
      "...query execution took: 0.0 seconds...\n",
      "...query execution took: 0.0 seconds...\n",
      "...query execution took: 0.0 seconds...\n",
      "...query execution took: 0.0 seconds...\n",
      "...query execution took: 0.01 seconds...\n",
      "...query execution took: 0.01 seconds...\n",
      "...query execution took: 0.0 seconds...\n",
      "...query execution took: 0.0 seconds...\n",
      "...query execution took: 0.01 seconds...\n",
      "...query execution took: 0.01 seconds...\n",
      "...query execution took: 0.01 seconds...\n",
      "...query execution took: 0.01 seconds...\n",
      "...query execution took: 0.01 seconds...\n",
      "...query execution took: 0.01 seconds...\n",
      "...query execution took: 0.01 seconds...\n",
      "...query execution took: 0.0 seconds...\n",
      "...query execution took: 0.0 seconds...\n",
      "...query execution took: 0.0 seconds...\n",
      "...query execution took: 0.0 seconds...\n",
      "...query execution took: 0.0 seconds...\n",
      "...query execution took: 0.0 seconds...\n",
      "...query execution took: 0.0 seconds...\n",
      "...query execution took: 0.0 seconds...\n",
      "...query execution took: 0.0 seconds...\n",
      "...query execution took: 0.0 seconds...\n",
      "...query execution took: 0.0 seconds...\n",
      "...query execution took: 0.0 seconds...\n",
      "...query execution took: 0.0 seconds...\n",
      "...query execution took: 0.0 seconds...\n",
      "...query execution took: 0.01 seconds...\n",
      "...query execution took: 0.0 seconds...\n",
      "...query execution took: 0.0 seconds...\n",
      "...query execution took: 0.01 seconds...\n",
      "...query execution took: 0.01 seconds...\n",
      "...query execution took: 0.01 seconds...\n",
      "...query execution took: 0.01 seconds...\n",
      "...query execution took: 0.02 seconds...\n",
      "...query execution took: 0.0 seconds...\n",
      "...query execution took: 0.01 seconds...\n",
      "...query execution took: 0.02 seconds...\n",
      "...query execution took: 0.03 seconds...\n",
      "...query execution took: 0.0 seconds...\n",
      "...query execution took: 0.0 seconds...\n",
      "...query execution took: 0.0 seconds...\n",
      "...query execution took: 0.0 seconds...\n",
      "...query execution took: 0.0 seconds...\n",
      "...query execution took: 0.0 seconds...\n",
      "...query execution took: 0.0 seconds...\n",
      "...query execution took: 0.0 seconds...\n",
      "...query execution took: 0.0 seconds...\n",
      "...query execution took: 0.0 seconds...\n",
      "...query execution took: 0.0 seconds...\n",
      "...query execution took: 0.0 seconds...\n",
      "...query execution took: 0.01 seconds...\n",
      "...query execution took: 0.0 seconds...\n",
      "...query execution took: 0.0 seconds...\n",
      "...query execution took: 0.01 seconds...\n",
      "...query execution took: 0.0 seconds...\n",
      "...query execution took: 0.01 seconds...\n",
      "...query execution took: 0.0 seconds...\n",
      "...query execution took: 0.01 seconds...\n",
      "...query execution took: 0.01 seconds...\n",
      "...query execution took: 0.01 seconds...\n",
      "...query execution took: 0.01 seconds...\n",
      "...query execution took: 0.01 seconds...\n",
      "...query execution took: 0.0 seconds...\n",
      "...query execution took: 0.01 seconds...\n",
      "...query execution took: 0.01 seconds...\n",
      "...query execution took: 0.01 seconds...\n",
      "...query execution took: 0.01 seconds...\n",
      "...query execution took: 0.02 seconds...\n",
      "...query execution took: 0.03 seconds...\n",
      "...query execution took: 0.0 seconds...\n",
      "...query execution took: 0.0 seconds...\n",
      "...query execution took: 0.0 seconds...\n",
      "...query execution took: 0.0 seconds...\n",
      "...query execution took: 0.0 seconds...\n",
      "...query execution took: 0.0 seconds...\n",
      "...query execution took: 0.0 seconds...\n",
      "...query execution took: 0.0 seconds...\n",
      "...query execution took: 0.0 seconds...\n",
      "...query execution took: 0.0 seconds...\n",
      "...query execution took: 0.0 seconds...\n",
      "...query execution took: 0.0 seconds...\n",
      "...query execution took: 0.0 seconds...\n",
      "...query execution took: 0.0 seconds...\n",
      "...query execution took: 0.0 seconds...\n",
      "...query execution took: 0.0 seconds...\n",
      "...query execution took: 0.0 seconds...\n",
      "...query execution took: 0.0 seconds...\n",
      "...query execution took: 0.0 seconds...\n",
      "...query execution took: 0.0 seconds...\n",
      "...query execution took: 0.0 seconds...\n",
      "...query execution took: 0.0 seconds...\n",
      "...query execution took: 0.0 seconds...\n",
      "...query execution took: 0.0 seconds...\n",
      "...query execution took: 0.0 seconds...\n",
      "...query execution took: 0.01 seconds...\n",
      "...query execution took: 0.0 seconds...\n",
      "...query execution took: 0.0 seconds...\n",
      "...query execution took: 0.0 seconds...\n",
      "...query execution took: 0.01 seconds...\n",
      "...query execution took: 0.0 seconds...\n",
      "...query execution took: 0.0 seconds...\n",
      "...query execution took: 0.0 seconds...\n",
      "...query execution took: 0.0 seconds...\n",
      "...query execution took: 0.0 seconds...\n",
      "...query execution took: 0.0 seconds...\n",
      "...query execution took: 0.01 seconds...\n",
      "...query execution took: 0.0 seconds...\n",
      "...query execution took: 0.01 seconds...\n",
      "...query execution took: 0.01 seconds...\n",
      "...query execution took: 0.0 seconds...\n",
      "...query execution took: 0.0 seconds...\n",
      "...query execution took: 0.01 seconds...\n",
      "...query execution took: 0.0 seconds...\n",
      "...query execution took: 0.01 seconds...\n",
      "...query execution took: 0.0 seconds...\n",
      "...query execution took: 0.01 seconds...\n",
      "...query execution took: 0.0 seconds...\n",
      "...query execution took: 0.01 seconds...\n",
      "...query execution took: 0.01 seconds...\n",
      "...query execution took: 0.0 seconds...\n",
      "...query execution took: 0.01 seconds...\n",
      "...query execution took: 0.0 seconds...\n",
      "...query execution took: 0.01 seconds...\n",
      "...query execution took: 0.01 seconds...\n",
      "...query execution took: 0.01 seconds...\n",
      "...query execution took: 0.01 seconds...\n",
      "...query execution took: 0.01 seconds...\n",
      "...query execution took: 0.01 seconds...\n",
      "...query execution took: 0.01 seconds...\n",
      "...query execution took: 0.0 seconds...\n",
      "...query execution took: 0.01 seconds...\n",
      "...query execution took: 0.01 seconds...\n",
      "...query execution took: 0.01 seconds...\n",
      "...query execution took: 0.02 seconds...\n",
      "...query execution took: 0.01 seconds...\n",
      "...query execution took: 0.02 seconds...\n",
      "...query execution took: 0.01 seconds...\n",
      "...query execution took: 0.01 seconds...\n",
      "...query execution took: 0.01 seconds...\n",
      "...query execution took: 0.02 seconds...\n",
      "...query execution took: 0.0 seconds...\n",
      "...query execution took: 0.0 seconds...\n",
      "...query execution took: 0.0 seconds...\n",
      "...query execution took: 0.0 seconds...\n",
      "...query execution took: 0.0 seconds...\n",
      "...query execution took: 0.0 seconds...\n",
      "...query execution took: 0.0 seconds...\n",
      "...query execution took: 0.0 seconds...\n",
      "...query execution took: 0.0 seconds...\n",
      "...query execution took: 0.0 seconds...\n",
      "...query execution took: 0.0 seconds...\n",
      "...query execution took: 0.0 seconds...\n",
      "...query execution took: 0.0 seconds...\n",
      "...query execution took: 0.0 seconds...\n",
      "...query execution took: 0.0 seconds...\n",
      "...query execution took: 0.0 seconds...\n",
      "...query execution took: 0.01 seconds...\n",
      "...query execution took: 0.0 seconds...\n",
      "...query execution took: 0.0 seconds...\n",
      "...query execution took: 0.0 seconds...\n",
      "...query execution took: 0.0 seconds...\n",
      "...query execution took: 0.0 seconds...\n",
      "...query execution took: 0.0 seconds...\n",
      "...query execution took: 0.0 seconds...\n",
      "...query execution took: 0.0 seconds...\n",
      "...query execution took: 0.0 seconds...\n",
      "...query execution took: 0.0 seconds...\n",
      "...query execution took: 0.01 seconds...\n",
      "...query execution took: 0.01 seconds...\n",
      "...query execution took: 0.0 seconds...\n",
      "...query execution took: 0.0 seconds...\n",
      "...query execution took: 0.01 seconds...\n",
      "...query execution took: 0.01 seconds...\n",
      "...query execution took: 0.0 seconds...\n",
      "...query execution took: 0.0 seconds...\n",
      "...query execution took: 0.0 seconds...\n",
      "...query execution took: 0.0 seconds...\n",
      "...query execution took: 0.01 seconds...\n",
      "...query execution took: 0.01 seconds...\n",
      "...query execution took: 0.01 seconds...\n",
      "...query execution took: 0.0 seconds...\n",
      "...query execution took: 0.0 seconds...\n",
      "...query execution took: 0.01 seconds...\n",
      "...query execution took: 0.01 seconds...\n",
      "...query execution took: 0.0 seconds...\n",
      "...query execution took: 0.0 seconds...\n",
      "...query execution took: 0.0 seconds...\n",
      "...query execution took: 0.01 seconds...\n",
      "...query execution took: 0.01 seconds...\n",
      "...query execution took: 0.01 seconds...\n",
      "...query execution took: 0.01 seconds...\n",
      "...query execution took: 0.01 seconds...\n",
      "...query execution took: 0.0 seconds...\n",
      "...query execution took: 0.01 seconds...\n",
      "...query execution took: 0.01 seconds...\n",
      "...query execution took: 0.01 seconds...\n",
      "...query execution took: 0.01 seconds...\n",
      "...query execution took: 0.01 seconds...\n",
      "...query execution took: 0.01 seconds...\n",
      "...query execution took: 0.01 seconds...\n",
      "...query execution took: 0.0 seconds...\n",
      "...query execution took: 0.0 seconds...\n",
      "...query execution took: 0.0 seconds...\n",
      "...query execution took: 0.0 seconds...\n",
      "...query execution took: 0.0 seconds...\n",
      "...query execution took: 0.0 seconds...\n",
      "...query execution took: 0.0 seconds...\n",
      "...query execution took: 0.0 seconds...\n",
      "...query execution took: 0.0 seconds...\n",
      "...query execution took: 0.0 seconds...\n",
      "...query execution took: 0.0 seconds...\n",
      "...query execution took: 0.0 seconds...\n",
      "...query execution took: 0.0 seconds...\n",
      "...query execution took: 0.0 seconds...\n",
      "...query execution took: 0.0 seconds...\n",
      "...query execution took: 0.0 seconds...\n",
      "...query execution took: 0.0 seconds...\n",
      "...query execution took: 0.0 seconds...\n",
      "...query execution took: 0.0 seconds...\n",
      "...query execution took: 0.0 seconds...\n",
      "...query execution took: 0.0 seconds...\n",
      "...query execution took: 0.0 seconds...\n",
      "...query execution took: 0.0 seconds...\n",
      "...query execution took: 0.0 seconds...\n",
      "...query execution took: 0.0 seconds...\n",
      "...query execution took: 0.0 seconds...\n",
      "...query execution took: 0.0 seconds...\n",
      "...query execution took: 0.0 seconds...\n",
      "...query execution took: 0.0 seconds...\n",
      "...query execution took: 0.0 seconds...\n",
      "...query execution took: 0.0 seconds...\n",
      "...query execution took: 0.0 seconds...\n",
      "...query execution took: 0.0 seconds...\n",
      "...query execution took: 0.0 seconds...\n",
      "...query execution took: 0.0 seconds...\n",
      "...query execution took: 0.0 seconds...\n",
      "...query execution took: 0.01 seconds...\n",
      "...query execution took: 0.0 seconds...\n",
      "...query execution took: 0.0 seconds...\n",
      "...query execution took: 0.0 seconds...\n",
      "...query execution took: 0.01 seconds...\n",
      "...query execution took: 0.01 seconds...\n",
      "...query execution took: 0.0 seconds...\n",
      "...query execution took: 0.01 seconds...\n",
      "...query execution took: 0.0 seconds...\n",
      "...query execution took: 0.01 seconds...\n",
      "...query execution took: 0.01 seconds...\n",
      "...query execution took: 0.01 seconds...\n",
      "...query execution took: 0.0 seconds...\n",
      "...query execution took: 0.0 seconds...\n",
      "...query execution took: 0.01 seconds...\n",
      "...query execution took: 0.01 seconds...\n",
      "...query execution took: 0.01 seconds...\n",
      "...query execution took: 0.01 seconds...\n",
      "...query execution took: 0.0 seconds...\n",
      "...query execution took: 0.01 seconds...\n",
      "...query execution took: 0.0 seconds...\n",
      "...query execution took: 0.0 seconds...\n",
      "...query execution took: 0.0 seconds...\n",
      "...query execution took: 0.01 seconds...\n",
      "...query execution took: 0.01 seconds...\n",
      "...query execution took: 0.01 seconds...\n",
      "...query execution took: 0.01 seconds...\n",
      "...query execution took: 0.01 seconds...\n",
      "...query execution took: 0.01 seconds...\n",
      "...query execution took: 0.01 seconds...\n",
      "...query execution took: 0.0 seconds...\n",
      "...query execution took: 0.03 seconds...\n"
     ]
    }
   ],
   "source": [
    "# now, iterate through all of the to words to find the complete graph of relationships from the word 'terminator'\n",
    "pw_df_list = [pw_df]\n",
    "for focal_wg_id in pw_df['to_word_group_id']:    \n",
    "    pw_df = query_db(sql = sql, db_path = rc.db_path, db_name = rc.db_name, params = (int(focal_wg_id),))\n",
    "    pw_df_list.append(pw_df)"
   ]
  },
  {
   "cell_type": "code",
   "execution_count": 18,
   "metadata": {
    "scrolled": true
   },
   "outputs": [],
   "source": [
    "pw_df = pd.concat(objs = pw_df_list)"
   ]
  },
  {
   "cell_type": "code",
   "execution_count": 19,
   "metadata": {},
   "outputs": [
    {
     "data": {
      "text/plain": [
       "(8564, 2)"
      ]
     },
     "execution_count": 19,
     "metadata": {},
     "output_type": "execute_result"
    }
   ],
   "source": [
    "pw_df.shape"
   ]
  },
  {
   "cell_type": "code",
   "execution_count": 20,
   "metadata": {},
   "outputs": [
    {
     "data": {
      "text/html": [
       "<div>\n",
       "<style scoped>\n",
       "    .dataframe tbody tr th:only-of-type {\n",
       "        vertical-align: middle;\n",
       "    }\n",
       "\n",
       "    .dataframe tbody tr th {\n",
       "        vertical-align: top;\n",
       "    }\n",
       "\n",
       "    .dataframe thead th {\n",
       "        text-align: right;\n",
       "    }\n",
       "</style>\n",
       "<table border=\"1\" class=\"dataframe\">\n",
       "  <thead>\n",
       "    <tr style=\"text-align: right;\">\n",
       "      <th></th>\n",
       "      <th>from_word_group_id</th>\n",
       "      <th>to_word_group_id</th>\n",
       "    </tr>\n",
       "  </thead>\n",
       "  <tbody>\n",
       "    <tr>\n",
       "      <th>0</th>\n",
       "      <td>183984</td>\n",
       "      <td>114621</td>\n",
       "    </tr>\n",
       "    <tr>\n",
       "      <th>1</th>\n",
       "      <td>183984</td>\n",
       "      <td>116882</td>\n",
       "    </tr>\n",
       "    <tr>\n",
       "      <th>2</th>\n",
       "      <td>183984</td>\n",
       "      <td>115538</td>\n",
       "    </tr>\n",
       "    <tr>\n",
       "      <th>3</th>\n",
       "      <td>183984</td>\n",
       "      <td>116883</td>\n",
       "    </tr>\n",
       "    <tr>\n",
       "      <th>4</th>\n",
       "      <td>183984</td>\n",
       "      <td>119843</td>\n",
       "    </tr>\n",
       "  </tbody>\n",
       "</table>\n",
       "</div>"
      ],
      "text/plain": [
       "   from_word_group_id  to_word_group_id\n",
       "0              183984            114621\n",
       "1              183984            116882\n",
       "2              183984            115538\n",
       "3              183984            116883\n",
       "4              183984            119843"
      ]
     },
     "execution_count": 20,
     "metadata": {},
     "output_type": "execute_result"
    }
   ],
   "source": [
    "pw_df.head()"
   ]
  },
  {
   "cell_type": "code",
   "execution_count": 21,
   "metadata": {},
   "outputs": [],
   "source": [
    "# join things together: From words"
   ]
  },
  {
   "cell_type": "code",
   "execution_count": 22,
   "metadata": {},
   "outputs": [
    {
     "data": {
      "text/html": [
       "<div>\n",
       "<style scoped>\n",
       "    .dataframe tbody tr th:only-of-type {\n",
       "        vertical-align: middle;\n",
       "    }\n",
       "\n",
       "    .dataframe tbody tr th {\n",
       "        vertical-align: top;\n",
       "    }\n",
       "\n",
       "    .dataframe thead th {\n",
       "        text-align: right;\n",
       "    }\n",
       "</style>\n",
       "<table border=\"1\" class=\"dataframe\">\n",
       "  <thead>\n",
       "    <tr style=\"text-align: right;\">\n",
       "      <th></th>\n",
       "      <th>from_word</th>\n",
       "      <th>from_word_id</th>\n",
       "      <th>from_word_group_id</th>\n",
       "    </tr>\n",
       "  </thead>\n",
       "  <tbody>\n",
       "    <tr>\n",
       "      <th>0</th>\n",
       "      <td>a</td>\n",
       "      <td>0</td>\n",
       "      <td>0</td>\n",
       "    </tr>\n",
       "    <tr>\n",
       "      <th>1</th>\n",
       "      <td>aa</td>\n",
       "      <td>1</td>\n",
       "      <td>1</td>\n",
       "    </tr>\n",
       "    <tr>\n",
       "      <th>2</th>\n",
       "      <td>aal</td>\n",
       "      <td>2</td>\n",
       "      <td>2</td>\n",
       "    </tr>\n",
       "    <tr>\n",
       "      <th>3</th>\n",
       "      <td>aalii</td>\n",
       "      <td>3</td>\n",
       "      <td>3</td>\n",
       "    </tr>\n",
       "    <tr>\n",
       "      <th>4</th>\n",
       "      <td>aam</td>\n",
       "      <td>4</td>\n",
       "      <td>4</td>\n",
       "    </tr>\n",
       "  </tbody>\n",
       "</table>\n",
       "</div>"
      ],
      "text/plain": [
       "  from_word  from_word_id  from_word_group_id\n",
       "0         a             0                   0\n",
       "1        aa             1                   1\n",
       "2       aal             2                   2\n",
       "3     aalii             3                   3\n",
       "4       aam             4                   4"
      ]
     },
     "execution_count": 22,
     "metadata": {},
     "output_type": "execute_result"
    }
   ],
   "source": [
    "from_word_df.head()"
   ]
  },
  {
   "cell_type": "code",
   "execution_count": 23,
   "metadata": {},
   "outputs": [],
   "source": [
    "anagram_df = pd.merge(left = pw_df, right = from_word_df)"
   ]
  },
  {
   "cell_type": "code",
   "execution_count": 24,
   "metadata": {},
   "outputs": [],
   "source": [
    "# to words\n",
    "anagram_df = pd.merge(left = anagram_df, right = to_word_df)"
   ]
  },
  {
   "cell_type": "code",
   "execution_count": 25,
   "metadata": {},
   "outputs": [
    {
     "data": {
      "text/html": [
       "<div>\n",
       "<style scoped>\n",
       "    .dataframe tbody tr th:only-of-type {\n",
       "        vertical-align: middle;\n",
       "    }\n",
       "\n",
       "    .dataframe tbody tr th {\n",
       "        vertical-align: top;\n",
       "    }\n",
       "\n",
       "    .dataframe thead th {\n",
       "        text-align: right;\n",
       "    }\n",
       "</style>\n",
       "<table border=\"1\" class=\"dataframe\">\n",
       "  <thead>\n",
       "    <tr style=\"text-align: right;\">\n",
       "      <th></th>\n",
       "      <th>from_word_group_id</th>\n",
       "      <th>to_word_group_id</th>\n",
       "      <th>from_word</th>\n",
       "      <th>from_word_id</th>\n",
       "      <th>to_word</th>\n",
       "      <th>to_word_id</th>\n",
       "    </tr>\n",
       "  </thead>\n",
       "  <tbody>\n",
       "    <tr>\n",
       "      <th>0</th>\n",
       "      <td>183984</td>\n",
       "      <td>114621</td>\n",
       "      <td>terminator</td>\n",
       "      <td>198967</td>\n",
       "      <td>n</td>\n",
       "      <td>121240</td>\n",
       "    </tr>\n",
       "    <tr>\n",
       "      <th>1</th>\n",
       "      <td>183984</td>\n",
       "      <td>116882</td>\n",
       "      <td>terminator</td>\n",
       "      <td>198967</td>\n",
       "      <td>no</td>\n",
       "      <td>123918</td>\n",
       "    </tr>\n",
       "    <tr>\n",
       "      <th>2</th>\n",
       "      <td>183984</td>\n",
       "      <td>116882</td>\n",
       "      <td>terminator</td>\n",
       "      <td>198967</td>\n",
       "      <td>on</td>\n",
       "      <td>129913</td>\n",
       "    </tr>\n",
       "    <tr>\n",
       "      <th>3</th>\n",
       "      <td>183984</td>\n",
       "      <td>115538</td>\n",
       "      <td>terminator</td>\n",
       "      <td>198967</td>\n",
       "      <td>nei</td>\n",
       "      <td>122394</td>\n",
       "    </tr>\n",
       "    <tr>\n",
       "      <th>4</th>\n",
       "      <td>183984</td>\n",
       "      <td>116883</td>\n",
       "      <td>terminator</td>\n",
       "      <td>198967</td>\n",
       "      <td>noa</td>\n",
       "      <td>123919</td>\n",
       "    </tr>\n",
       "  </tbody>\n",
       "</table>\n",
       "</div>"
      ],
      "text/plain": [
       "   from_word_group_id  to_word_group_id   from_word  from_word_id to_word  \\\n",
       "0              183984            114621  terminator        198967       n   \n",
       "1              183984            116882  terminator        198967      no   \n",
       "2              183984            116882  terminator        198967      on   \n",
       "3              183984            115538  terminator        198967     nei   \n",
       "4              183984            116883  terminator        198967     noa   \n",
       "\n",
       "   to_word_id  \n",
       "0      121240  \n",
       "1      123918  \n",
       "2      129913  \n",
       "3      122394  \n",
       "4      123919  "
      ]
     },
     "execution_count": 25,
     "metadata": {},
     "output_type": "execute_result"
    }
   ],
   "source": [
    "anagram_df.head()"
   ]
  },
  {
   "cell_type": "code",
   "execution_count": 26,
   "metadata": {},
   "outputs": [
    {
     "data": {
      "text/plain": [
       "(37335, 6)"
      ]
     },
     "execution_count": 26,
     "metadata": {},
     "output_type": "execute_result"
    }
   ],
   "source": [
    "anagram_df.shape"
   ]
  },
  {
   "cell_type": "code",
   "execution_count": 27,
   "metadata": {},
   "outputs": [],
   "source": [
    "# duplicates are coming from the word groups\n",
    "# item, mite, etc... have the same word group id\n",
    "anagram_df = anagram_df.drop_duplicates()"
   ]
  },
  {
   "cell_type": "code",
   "execution_count": 28,
   "metadata": {},
   "outputs": [
    {
     "data": {
      "text/plain": [
       "(36658, 6)"
      ]
     },
     "execution_count": 28,
     "metadata": {},
     "output_type": "execute_result"
    }
   ],
   "source": [
    "anagram_df.shape"
   ]
  },
  {
   "cell_type": "code",
   "execution_count": 29,
   "metadata": {},
   "outputs": [],
   "source": [
    "focal_word_list = ['it', 'tie', 'item', 'mite', 'time', 'emit', 'rite', 'terminator']"
   ]
  },
  {
   "cell_type": "code",
   "execution_count": null,
   "metadata": {},
   "outputs": [],
   "source": []
  },
  {
   "cell_type": "markdown",
   "metadata": {},
   "source": [
    "### focus only on a few words"
   ]
  },
  {
   "cell_type": "code",
   "execution_count": 30,
   "metadata": {},
   "outputs": [],
   "source": [
    "# let's focus on just our words of interest\n",
    "anagram_df = anagram_df.loc[anagram_df['from_word'].isin(focal_word_list), ]\n",
    "anagram_df = anagram_df.loc[anagram_df['to_word'].isin(focal_word_list), ]"
   ]
  },
  {
   "cell_type": "code",
   "execution_count": 31,
   "metadata": {},
   "outputs": [],
   "source": [
    "# sort the values\n",
    "anagram_df = anagram_df.sort_values(by = ['from_word_id', 'to_word_id'])"
   ]
  },
  {
   "cell_type": "markdown",
   "metadata": {},
   "source": [
    "### create and save graph"
   ]
  },
  {
   "cell_type": "code",
   "execution_count": 32,
   "metadata": {},
   "outputs": [
    {
     "data": {
      "text/plain": [
       "38"
      ]
     },
     "execution_count": 32,
     "metadata": {},
     "output_type": "execute_result"
    }
   ],
   "source": [
    "len(anagram_df)"
   ]
  },
  {
   "cell_type": "code",
   "execution_count": 33,
   "metadata": {},
   "outputs": [],
   "source": [
    "# create a directed graph using networkx\n",
    "# https://networkx.org/\n",
    "my_graph = nx.from_pandas_edgelist(df=anagram_df,source = 'from_word',\n",
    "                                    target = 'to_word', create_using = nx.DiGraph())"
   ]
  },
  {
   "cell_type": "code",
   "execution_count": 34,
   "metadata": {},
   "outputs": [],
   "source": [
    "# save to disk as a GEXF for visualization in Gephi\n",
    "# https://gephi.org/\n",
    "nx.write_gexf(G=my_graph, path = ofpn)"
   ]
  },
  {
   "cell_type": "code",
   "execution_count": null,
   "metadata": {},
   "outputs": [],
   "source": []
  },
  {
   "cell_type": "code",
   "execution_count": null,
   "metadata": {},
   "outputs": [],
   "source": []
  }
 ],
 "metadata": {
  "kernelspec": {
   "display_name": "Python 3 (ipykernel)",
   "language": "python",
   "name": "python3"
  },
  "language_info": {
   "codemirror_mode": {
    "name": "ipython",
    "version": 3
   },
   "file_extension": ".py",
   "mimetype": "text/x-python",
   "name": "python",
   "nbconvert_exporter": "python",
   "pygments_lexer": "ipython3",
   "version": "3.12.4"
  }
 },
 "nbformat": 4,
 "nbformat_minor": 4
}
