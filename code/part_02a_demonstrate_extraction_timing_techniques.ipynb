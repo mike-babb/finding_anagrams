{
 "cells": [
  {
   "cell_type": "markdown",
   "metadata": {},
   "source": [
    "# Mike Babb\n",
    "# babbm@uw.edu\n",
    "# Find anagrams\n",
    "## Part 2: Generate and store the anagrams v2.0"
   ]
  },
  {
   "cell_type": "code",
   "execution_count": 1,
   "metadata": {
    "tags": []
   },
   "outputs": [],
   "source": [
    "# standard libraries - installed by default\n",
    "import collections\n",
    "import datetime\n",
    "from itertools import product\n",
    "import pickle\n",
    "import sqlite3\n",
    "import string\n",
    "import os\n",
    "import timeit"
   ]
  },
  {
   "cell_type": "code",
   "execution_count": 2,
   "metadata": {
    "tags": []
   },
   "outputs": [],
   "source": [
    "# external libraries - not installed by default\n",
    "import numpy as np\n",
    "import pandas as pd"
   ]
  },
  {
   "cell_type": "code",
   "execution_count": 3,
   "metadata": {
    "tags": []
   },
   "outputs": [],
   "source": [
    "from part_00_file_db_utils import *\n",
    "from part_00_process_functions import *"
   ]
  },
  {
   "cell_type": "markdown",
   "metadata": {},
   "source": [
    "### set input and output paths"
   ]
  },
  {
   "cell_type": "code",
   "execution_count": 4,
   "metadata": {
    "tags": []
   },
   "outputs": [],
   "source": [
    "# base file path\n",
    "base_file_path = '/project/finding_anagrams'"
   ]
  },
  {
   "cell_type": "code",
   "execution_count": 5,
   "metadata": {
    "tags": []
   },
   "outputs": [],
   "source": [
    "# input path\n",
    "in_file_path = 'data'\n",
    "in_file_path = os.path.join(base_file_path, in_file_path)"
   ]
  },
  {
   "cell_type": "code",
   "execution_count": 6,
   "metadata": {
    "tags": []
   },
   "outputs": [],
   "source": [
    "# output db path and name\n",
    "db_path = 'db'\n",
    "db_path = os.path.join(base_file_path, db_path)"
   ]
  },
  {
   "cell_type": "code",
   "execution_count": 7,
   "metadata": {
    "tags": []
   },
   "outputs": [],
   "source": [
    "if os.path.exists(db_path):\n",
    "    pass\n",
    "else:\n",
    "    os.makedirs(db_path)"
   ]
  },
  {
   "cell_type": "code",
   "execution_count": 8,
   "metadata": {
    "tags": []
   },
   "outputs": [],
   "source": [
    "db_name = 'words.db'"
   ]
  },
  {
   "cell_type": "markdown",
   "metadata": {},
   "source": [
    "### process control flags"
   ]
  },
  {
   "cell_type": "code",
   "execution_count": 9,
   "metadata": {
    "tags": []
   },
   "outputs": [],
   "source": [
    "# max number of letters to slice to use for the generation of sub-matrices for\n",
    "# options 5 and 6. More letters means more sub-matrices\n",
    "# 3 seems to be the sweet spot\n",
    "n_subset_letters = 3\n",
    "\n",
    "# set write_data to True to store the generated list of anagrams\n",
    "write_data = False"
   ]
  },
  {
   "cell_type": "code",
   "execution_count": 10,
   "metadata": {
    "tags": []
   },
   "outputs": [],
   "source": [
    "# start a timer to record the entire operation\n",
    "total_time_start = datetime.datetime.now()"
   ]
  },
  {
   "cell_type": "markdown",
   "metadata": {},
   "source": [
    "### load input data"
   ]
  },
  {
   "cell_type": "code",
   "execution_count": 11,
   "metadata": {},
   "outputs": [
    {
     "name": "stdout",
     "output_type": "stream",
     "text": [
      "...loading words into a dataframe...\n",
      "...query execution took: 1.685907 seconds...\n",
      "...loading word groups into a dataframe...\n",
      "...query execution took: 1.923813 seconds...\n",
      "...loading the letter dictionary...\n",
      "...loading the char matrix...\n",
      "...subsetting the char matrix...\n"
     ]
    }
   ],
   "source": [
    "word_df, wg_df, letter_dict, char_matrix, word_group_id_list, word_id_list, wchar_matrix = load_input_data(db_path = db_path, db_name = db_name, in_file_path = in_file_path)"
   ]
  },
  {
   "cell_type": "markdown",
   "metadata": {},
   "source": [
    "# Test the different matrix splitting techniques"
   ]
  },
  {
   "cell_type": "code",
   "execution_count": 12,
   "metadata": {},
   "outputs": [],
   "source": [
    "# There are 6 different matrix extraction techniques:\n",
    "# Option 1: No sub-matrices\n",
    "# Option 2: Word-length\n",
    "# Option 3: First letter\n",
    "# Option 4: Single-least common letter\n",
    "# Option 5: n least common letters\n",
    "# Option 6: word-length and n least common letters\n",
    "# See split_matrix() for a more elaborate description. \n",
    "# test_matrix_extraction_option() invokes the split_matrix() function 7 times to demonstrate the\n",
    "# differences in timing and split_matrix() function output. \n",
    "# The table below showcases which objects are populated by different matrix extraction options"
   ]
  },
  {
   "cell_type": "markdown",
   "metadata": {},
   "source": [
    "| Is object populated by matrix extraction technique?|\n",
    "|----------------------------------------------------|  \n",
    "\n",
    "\n",
    "| Object                      | 0 | 1 | 2 | 3 | 4 | 5 | 6 |\n",
    "|----------------------------:|---|---|---|---|---|---|---|\n",
    "| n_char_matrix_dict          | Y | N | Y | N | N | N | N |\n",
    "| single_letter_matrix_dict   | Y | N | N | Y | Y | N | N |\n",
    "| letter_selector_matrix_dict | Y | N | N | N | N | Y | N |\n",
    "| nc_ls_matrix_dict           | Y | N | N | N | N | N | Y |\n"
   ]
  },
  {
   "cell_type": "code",
   "execution_count": 13,
   "metadata": {
    "scrolled": true
   },
   "outputs": [
    {
     "name": "stdout",
     "output_type": "stream",
     "text": [
      "*** matrix extraction option: 0 ***\n",
      "...enumerating 16,101 records...\n",
      "...1,000 records enumerated...\n",
      "...2,000 records enumerated...\n",
      "...3,000 records enumerated...\n",
      "...4,000 records enumerated...\n",
      "...5,000 records enumerated...\n",
      "...6,000 records enumerated...\n",
      "...7,000 records enumerated...\n",
      "...8,000 records enumerated...\n",
      "...9,000 records enumerated...\n",
      "...10,000 records enumerated...\n",
      "...11,000 records enumerated...\n",
      "...12,000 records enumerated...\n",
      "...13,000 records enumerated...\n",
      "...14,000 records enumerated...\n",
      "...15,000 records enumerated...\n",
      "...16,000 records enumerated...\n",
      "...16,101 sub-matrices created...\n",
      "Total extraction time: 44.4 seconds.\n",
      "n_char_matrix_dict: <class 'dict'>\n",
      "single_letter_matrix_dict: <class 'dict'>\n",
      "letter_selector_matrix_dict: <class 'dict'>\n",
      "nc_ls_matrix_dict: <class 'dict'>\n",
      "    word  lcase  n_chars first_letter  word_id  word_group_id letter_group  \\\n",
      "0      A      a        1            a        0              0            a   \n",
      "1     aa     aa        2            a        1              1            a   \n",
      "2    aal    aal        3            a        2              2           al   \n",
      "3    all    all        3            a     5394           5305           al   \n",
      "4  aalii  aalii        5            a        3              3          ail   \n",
      "\n",
      "  letter_group_ranked  word_group_count letter_selector  first_letter_id  \\\n",
      "0                   a                 1               a                0   \n",
      "1                   a                 1               a                0   \n",
      "2                  la                 2              la                0   \n",
      "3                  la                 1              la                0   \n",
      "4                 lai                 1             lai                0   \n",
      "\n",
      "   single_letter_id  letter_selector_id  nc_ls_id  \n",
      "0                 0                   0         0  \n",
      "1                 0                   0         1  \n",
      "2                11                1081         2  \n",
      "3                11                1081         2  \n",
      "4                11                1083         3  \n",
      "*** matrix extraction option: 1 ***\n",
      "n_char_matrix_dict: <class 'NoneType'>\n",
      "single_letter_matrix_dict: <class 'NoneType'>\n",
      "letter_selector_matrix_dict: <class 'NoneType'>\n",
      "nc_ls_matrix_dict: <class 'NoneType'>\n",
      "    word  lcase  n_chars first_letter  word_id  word_group_id letter_group  \\\n",
      "0      A      a        1            a        0              0            a   \n",
      "1     aa     aa        2            a        1              1            a   \n",
      "2    aal    aal        3            a        2              2           al   \n",
      "3    all    all        3            a     5394           5305           al   \n",
      "4  aalii  aalii        5            a        3              3          ail   \n",
      "\n",
      "  letter_group_ranked  word_group_count letter_selector  first_letter_id  \\\n",
      "0                   a                 1               a                0   \n",
      "1                   a                 1               a                0   \n",
      "2                  la                 2              la                0   \n",
      "3                  la                 1              la                0   \n",
      "4                 lai                 1             lai                0   \n",
      "\n",
      "   single_letter_id  letter_selector_id  nc_ls_id  \n",
      "0                 0                   0         0  \n",
      "1                 0                   0         1  \n",
      "2                11                1081         2  \n",
      "3                11                1081         2  \n",
      "4                11                1083         3  \n",
      "*** matrix extraction option: 2 ***\n",
      "...enumerating 16,101 records...\n",
      "...1,000 records enumerated...\n",
      "...2,000 records enumerated...\n",
      "...3,000 records enumerated...\n",
      "...4,000 records enumerated...\n",
      "...5,000 records enumerated...\n",
      "...6,000 records enumerated...\n",
      "...7,000 records enumerated...\n",
      "...8,000 records enumerated...\n",
      "...9,000 records enumerated...\n",
      "...10,000 records enumerated...\n",
      "...11,000 records enumerated...\n",
      "...12,000 records enumerated...\n",
      "...13,000 records enumerated...\n",
      "...14,000 records enumerated...\n",
      "...15,000 records enumerated...\n",
      "...16,000 records enumerated...\n",
      "...24 sub-matrices created...\n",
      "Total extraction time: 12.2 seconds.\n",
      "n_char_matrix_dict: <class 'dict'>\n",
      "single_letter_matrix_dict: <class 'NoneType'>\n",
      "letter_selector_matrix_dict: <class 'NoneType'>\n",
      "nc_ls_matrix_dict: <class 'NoneType'>\n",
      "    word  lcase  n_chars first_letter  word_id  word_group_id letter_group  \\\n",
      "0      A      a        1            a        0              0            a   \n",
      "1     aa     aa        2            a        1              1            a   \n",
      "2    aal    aal        3            a        2              2           al   \n",
      "3    all    all        3            a     5394           5305           al   \n",
      "4  aalii  aalii        5            a        3              3          ail   \n",
      "\n",
      "  letter_group_ranked  word_group_count letter_selector  first_letter_id  \\\n",
      "0                   a                 1               a                0   \n",
      "1                   a                 1               a                0   \n",
      "2                  la                 2              la                0   \n",
      "3                  la                 1              la                0   \n",
      "4                 lai                 1             lai                0   \n",
      "\n",
      "   single_letter_id  letter_selector_id  nc_ls_id  \n",
      "0                 0                   0         0  \n",
      "1                 0                   0         1  \n",
      "2                11                1081         2  \n",
      "3                11                1081         2  \n",
      "4                11                1083         3  \n",
      "*** matrix extraction option: 3 ***\n",
      "...enumerating 16,101 records...\n",
      "...1,000 records enumerated...\n",
      "...2,000 records enumerated...\n",
      "...3,000 records enumerated...\n",
      "...4,000 records enumerated...\n",
      "...5,000 records enumerated...\n",
      "...6,000 records enumerated...\n",
      "...7,000 records enumerated...\n",
      "...8,000 records enumerated...\n",
      "...9,000 records enumerated...\n",
      "...10,000 records enumerated...\n",
      "...11,000 records enumerated...\n",
      "...12,000 records enumerated...\n",
      "...13,000 records enumerated...\n",
      "...14,000 records enumerated...\n",
      "...15,000 records enumerated...\n",
      "...16,000 records enumerated...\n",
      "...26 sub-matrices created...\n",
      "Total extraction time: 11.72 seconds.\n",
      "n_char_matrix_dict: <class 'NoneType'>\n",
      "single_letter_matrix_dict: <class 'dict'>\n",
      "letter_selector_matrix_dict: <class 'NoneType'>\n",
      "nc_ls_matrix_dict: <class 'NoneType'>\n",
      "    word  lcase  n_chars first_letter  word_id  word_group_id letter_group  \\\n",
      "0      A      a        1            a        0              0            a   \n",
      "1     aa     aa        2            a        1              1            a   \n",
      "2    aal    aal        3            a        2              2           al   \n",
      "3    all    all        3            a     5394           5305           al   \n",
      "4  aalii  aalii        5            a        3              3          ail   \n",
      "\n",
      "  letter_group_ranked  word_group_count letter_selector  first_letter_id  \\\n",
      "0                   a                 1               a                0   \n",
      "1                   a                 1               a                0   \n",
      "2                  la                 2              la                0   \n",
      "3                  la                 1              la                0   \n",
      "4                 lai                 1             lai                0   \n",
      "\n",
      "   single_letter_id  letter_selector_id  nc_ls_id  \n",
      "0                 0                   0         0  \n",
      "1                 0                   0         1  \n",
      "2                11                1081         2  \n",
      "3                11                1081         2  \n",
      "4                11                1083         3  \n",
      "*** matrix extraction option: 4 ***\n",
      "...enumerating 16,101 records...\n",
      "...1,000 records enumerated...\n",
      "...2,000 records enumerated...\n",
      "...3,000 records enumerated...\n",
      "...4,000 records enumerated...\n",
      "...5,000 records enumerated...\n",
      "...6,000 records enumerated...\n",
      "...7,000 records enumerated...\n",
      "...8,000 records enumerated...\n",
      "...9,000 records enumerated...\n",
      "...10,000 records enumerated...\n",
      "...11,000 records enumerated...\n",
      "...12,000 records enumerated...\n",
      "...13,000 records enumerated...\n",
      "...14,000 records enumerated...\n",
      "...15,000 records enumerated...\n",
      "...16,000 records enumerated...\n",
      "...26 sub-matrices created...\n",
      "Total extraction time: 8.91 seconds.\n",
      "n_char_matrix_dict: <class 'NoneType'>\n",
      "single_letter_matrix_dict: <class 'dict'>\n",
      "letter_selector_matrix_dict: <class 'NoneType'>\n",
      "nc_ls_matrix_dict: <class 'NoneType'>\n",
      "    word  lcase  n_chars first_letter  word_id  word_group_id letter_group  \\\n",
      "0      A      a        1            a        0              0            a   \n",
      "1     aa     aa        2            a        1              1            a   \n",
      "2    aal    aal        3            a        2              2           al   \n",
      "3    all    all        3            a     5394           5305           al   \n",
      "4  aalii  aalii        5            a        3              3          ail   \n",
      "\n",
      "  letter_group_ranked  word_group_count letter_selector  first_letter_id  \\\n",
      "0                   a                 1               a                0   \n",
      "1                   a                 1               a                0   \n",
      "2                  la                 2              la                0   \n",
      "3                  la                 1              la                0   \n",
      "4                 lai                 1             lai                0   \n",
      "\n",
      "   single_letter_id  letter_selector_id  nc_ls_id  \n",
      "0                 0                   0         0  \n",
      "1                 0                   0         1  \n",
      "2                11                1081         2  \n",
      "3                11                1081         2  \n",
      "4                11                1083         3  \n",
      "*** matrix extraction option: 5 ***\n",
      "...enumerating 16,101 records...\n",
      "...1,000 records enumerated...\n",
      "...2,000 records enumerated...\n",
      "...3,000 records enumerated...\n",
      "...4,000 records enumerated...\n",
      "...5,000 records enumerated...\n",
      "...6,000 records enumerated...\n",
      "...7,000 records enumerated...\n",
      "...8,000 records enumerated...\n",
      "...9,000 records enumerated...\n",
      "...10,000 records enumerated...\n",
      "...11,000 records enumerated...\n",
      "...12,000 records enumerated...\n",
      "...13,000 records enumerated...\n",
      "...14,000 records enumerated...\n",
      "...15,000 records enumerated...\n",
      "...16,000 records enumerated...\n",
      "...2,387 sub-matrices created...\n",
      "Total extraction time: 8.83 seconds.\n",
      "n_char_matrix_dict: <class 'NoneType'>\n",
      "single_letter_matrix_dict: <class 'NoneType'>\n",
      "letter_selector_matrix_dict: <class 'dict'>\n",
      "nc_ls_matrix_dict: <class 'NoneType'>\n",
      "    word  lcase  n_chars first_letter  word_id  word_group_id letter_group  \\\n",
      "0      A      a        1            a        0              0            a   \n",
      "1     aa     aa        2            a        1              1            a   \n",
      "2    aal    aal        3            a        2              2           al   \n",
      "3    all    all        3            a     5394           5305           al   \n",
      "4  aalii  aalii        5            a        3              3          ail   \n",
      "\n",
      "  letter_group_ranked  word_group_count letter_selector  first_letter_id  \\\n",
      "0                   a                 1               a                0   \n",
      "1                   a                 1               a                0   \n",
      "2                  la                 2              la                0   \n",
      "3                  la                 1              la                0   \n",
      "4                 lai                 1             lai                0   \n",
      "\n",
      "   single_letter_id  letter_selector_id  nc_ls_id  \n",
      "0                 0                   0         0  \n",
      "1                 0                   0         1  \n",
      "2                11                1081         2  \n",
      "3                11                1081         2  \n",
      "4                11                1083         3  \n",
      "*** matrix extraction option: 6 ***\n",
      "...enumerating 16,101 records...\n",
      "...1,000 records enumerated...\n",
      "...2,000 records enumerated...\n",
      "...3,000 records enumerated...\n",
      "...4,000 records enumerated...\n",
      "...5,000 records enumerated...\n",
      "...6,000 records enumerated...\n",
      "...7,000 records enumerated...\n",
      "...8,000 records enumerated...\n",
      "...9,000 records enumerated...\n",
      "...10,000 records enumerated...\n",
      "...11,000 records enumerated...\n",
      "...12,000 records enumerated...\n",
      "...13,000 records enumerated...\n",
      "...14,000 records enumerated...\n",
      "...15,000 records enumerated...\n",
      "...16,000 records enumerated...\n",
      "...16,101 sub-matrices created...\n",
      "Total extraction time: 65.35 seconds.\n",
      "n_char_matrix_dict: <class 'NoneType'>\n",
      "single_letter_matrix_dict: <class 'NoneType'>\n",
      "letter_selector_matrix_dict: <class 'NoneType'>\n",
      "nc_ls_matrix_dict: <class 'dict'>\n",
      "    word  lcase  n_chars first_letter  word_id  word_group_id letter_group  \\\n",
      "0      A      a        1            a        0              0            a   \n",
      "1     aa     aa        2            a        1              1            a   \n",
      "2    aal    aal        3            a        2              2           al   \n",
      "3    all    all        3            a     5394           5305           al   \n",
      "4  aalii  aalii        5            a        3              3          ail   \n",
      "\n",
      "  letter_group_ranked  word_group_count letter_selector  first_letter_id  \\\n",
      "0                   a                 1               a                0   \n",
      "1                   a                 1               a                0   \n",
      "2                  la                 2              la                0   \n",
      "3                  la                 1              la                0   \n",
      "4                 lai                 1             lai                0   \n",
      "\n",
      "   single_letter_id  letter_selector_id  nc_ls_id  \n",
      "0                 0                   0         0  \n",
      "1                 0                   0         1  \n",
      "2                11                1081         2  \n",
      "3                11                1081         2  \n",
      "4                11                1083         3  \n"
     ]
    }
   ],
   "source": [
    "test_matrix_extraction_option(wg_df = wg_df,\n",
    "                                  letter_dict = letter_dict,\n",
    "                                  word_group_id_list = word_group_id_list,\n",
    "                                  wchar_matrix = wchar_matrix,\n",
    "                                  n_subset_letters = n_subset_letters)"
   ]
  },
  {
   "cell_type": "code",
   "execution_count": 14,
   "metadata": {},
   "outputs": [],
   "source": [
    "# scrolling through this output, it looks options 1-5 take about 10 seconds while\n",
    "# options 0 and 6 take about 60 seconds. We'll address that later through some profiling and\n",
    "# using snakeviz. "
   ]
  },
  {
   "cell_type": "code",
   "execution_count": 15,
   "metadata": {},
   "outputs": [
    {
     "name": "stdout",
     "output_type": "stream",
     "text": [
      "...enumerating 16,101 records...\n",
      "...1,000 records enumerated...\n",
      "...2,000 records enumerated...\n",
      "...3,000 records enumerated...\n",
      "...4,000 records enumerated...\n",
      "...5,000 records enumerated...\n",
      "...6,000 records enumerated...\n",
      "...7,000 records enumerated...\n",
      "...8,000 records enumerated...\n",
      "...9,000 records enumerated...\n",
      "...10,000 records enumerated...\n",
      "...11,000 records enumerated...\n",
      "...12,000 records enumerated...\n",
      "...13,000 records enumerated...\n",
      "...14,000 records enumerated...\n",
      "...15,000 records enumerated...\n",
      "...16,000 records enumerated...\n",
      "...16,101 sub-matrices created...\n",
      "Total extraction time: 45.33 seconds.\n"
     ]
    }
   ],
   "source": [
    "# Leaving the matrix extracton blank defaults to option 0: prepare all outputs\n",
    "wg_df, n_char_matrix_dict, single_letter_matrix_dict, letter_selector_matrix_dict, nc_ls_matrix_dict= split_matrix(\n",
    "    letter_dict = letter_dict,\n",
    "    word_group_id_list = word_group_id_list,\n",
    "        wg_df = wg_df,\n",
    "    wchar_matrix = wchar_matrix, \n",
    "    n_subset_letters = n_subset_letters    \n",
    ")"
   ]
  },
  {
   "cell_type": "code",
   "execution_count": 16,
   "metadata": {},
   "outputs": [],
   "source": [
    "# Compute the search space for each matrix extraction option.\n",
    "# The search space is how many candidates have to be evaluated\n",
    "# when finding parent/child word relationships. \n",
    "# The smaller the search space for a given word, the faster the\n",
    "# actual relationship determination. \n",
    "# compute_lookups() calculates this using the number of rows in each of the different matrices and sub-matrices"
   ]
  },
  {
   "cell_type": "code",
   "execution_count": 17,
   "metadata": {},
   "outputs": [
    {
     "name": "stdout",
     "output_type": "stream",
     "text": [
      "...now writing: word_group_lookup_counts\n"
     ]
    }
   ],
   "source": [
    "wg_lu_df = compute_lookups(wg_df=wg_df,\n",
    "                    n_char_matrix_dict = n_char_matrix_dict,\n",
    "                    single_letter_matrix_dict = single_letter_matrix_dict,\n",
    "                    letter_selector_matrix_dict = letter_selector_matrix_dict,\n",
    "                    nc_ls_matrix_dict = nc_ls_matrix_dict,\n",
    "                          db_path = db_path, db_name = db_name)"
   ]
  },
  {
   "cell_type": "markdown",
   "metadata": {
    "tags": []
   },
   "source": [
    "# demonstrate the different matrix extraction options using the word 'achiever'"
   ]
  },
  {
   "cell_type": "code",
   "execution_count": 18,
   "metadata": {},
   "outputs": [
    {
     "data": {
      "text/html": [
       "<div>\n",
       "<style scoped>\n",
       "    .dataframe tbody tr th:only-of-type {\n",
       "        vertical-align: middle;\n",
       "    }\n",
       "\n",
       "    .dataframe tbody tr th {\n",
       "        vertical-align: top;\n",
       "    }\n",
       "\n",
       "    .dataframe thead th {\n",
       "        text-align: right;\n",
       "    }\n",
       "</style>\n",
       "<table border=\"1\" class=\"dataframe\">\n",
       "  <thead>\n",
       "    <tr style=\"text-align: right;\">\n",
       "      <th></th>\n",
       "      <th>word</th>\n",
       "      <th>lcase</th>\n",
       "      <th>n_chars</th>\n",
       "      <th>first_letter</th>\n",
       "      <th>word_id</th>\n",
       "      <th>word_group_id</th>\n",
       "      <th>letter_group</th>\n",
       "      <th>letter_group_ranked</th>\n",
       "      <th>word_group_count</th>\n",
       "      <th>letter_selector</th>\n",
       "      <th>first_letter_id</th>\n",
       "      <th>single_letter_id</th>\n",
       "      <th>letter_selector_id</th>\n",
       "      <th>nc_ls_id</th>\n",
       "    </tr>\n",
       "  </thead>\n",
       "  <tbody>\n",
       "    <tr>\n",
       "      <th>0</th>\n",
       "      <td>A</td>\n",
       "      <td>a</td>\n",
       "      <td>1</td>\n",
       "      <td>a</td>\n",
       "      <td>0</td>\n",
       "      <td>0</td>\n",
       "      <td>a</td>\n",
       "      <td>a</td>\n",
       "      <td>1</td>\n",
       "      <td>a</td>\n",
       "      <td>0</td>\n",
       "      <td>0</td>\n",
       "      <td>0</td>\n",
       "      <td>0</td>\n",
       "    </tr>\n",
       "    <tr>\n",
       "      <th>1</th>\n",
       "      <td>aa</td>\n",
       "      <td>aa</td>\n",
       "      <td>2</td>\n",
       "      <td>a</td>\n",
       "      <td>1</td>\n",
       "      <td>1</td>\n",
       "      <td>a</td>\n",
       "      <td>a</td>\n",
       "      <td>1</td>\n",
       "      <td>a</td>\n",
       "      <td>0</td>\n",
       "      <td>0</td>\n",
       "      <td>0</td>\n",
       "      <td>1</td>\n",
       "    </tr>\n",
       "    <tr>\n",
       "      <th>2</th>\n",
       "      <td>aal</td>\n",
       "      <td>aal</td>\n",
       "      <td>3</td>\n",
       "      <td>a</td>\n",
       "      <td>2</td>\n",
       "      <td>2</td>\n",
       "      <td>al</td>\n",
       "      <td>la</td>\n",
       "      <td>2</td>\n",
       "      <td>la</td>\n",
       "      <td>0</td>\n",
       "      <td>11</td>\n",
       "      <td>1081</td>\n",
       "      <td>2</td>\n",
       "    </tr>\n",
       "    <tr>\n",
       "      <th>3</th>\n",
       "      <td>all</td>\n",
       "      <td>all</td>\n",
       "      <td>3</td>\n",
       "      <td>a</td>\n",
       "      <td>5394</td>\n",
       "      <td>5305</td>\n",
       "      <td>al</td>\n",
       "      <td>la</td>\n",
       "      <td>1</td>\n",
       "      <td>la</td>\n",
       "      <td>0</td>\n",
       "      <td>11</td>\n",
       "      <td>1081</td>\n",
       "      <td>2</td>\n",
       "    </tr>\n",
       "    <tr>\n",
       "      <th>4</th>\n",
       "      <td>aalii</td>\n",
       "      <td>aalii</td>\n",
       "      <td>5</td>\n",
       "      <td>a</td>\n",
       "      <td>3</td>\n",
       "      <td>3</td>\n",
       "      <td>ail</td>\n",
       "      <td>lai</td>\n",
       "      <td>1</td>\n",
       "      <td>lai</td>\n",
       "      <td>0</td>\n",
       "      <td>11</td>\n",
       "      <td>1083</td>\n",
       "      <td>3</td>\n",
       "    </tr>\n",
       "  </tbody>\n",
       "</table>\n",
       "</div>"
      ],
      "text/plain": [
       "    word  lcase  n_chars first_letter  word_id  word_group_id letter_group  \\\n",
       "0      A      a        1            a        0              0            a   \n",
       "1     aa     aa        2            a        1              1            a   \n",
       "2    aal    aal        3            a        2              2           al   \n",
       "3    all    all        3            a     5394           5305           al   \n",
       "4  aalii  aalii        5            a        3              3          ail   \n",
       "\n",
       "  letter_group_ranked  word_group_count letter_selector  first_letter_id  \\\n",
       "0                   a                 1               a                0   \n",
       "1                   a                 1               a                0   \n",
       "2                  la                 2              la                0   \n",
       "3                  la                 1              la                0   \n",
       "4                 lai                 1             lai                0   \n",
       "\n",
       "   single_letter_id  letter_selector_id  nc_ls_id  \n",
       "0                 0                   0         0  \n",
       "1                 0                   0         1  \n",
       "2                11                1081         2  \n",
       "3                11                1081         2  \n",
       "4                11                1083         3  "
      ]
     },
     "execution_count": 18,
     "metadata": {},
     "output_type": "execute_result"
    }
   ],
   "source": [
    "wg_df.head()"
   ]
  },
  {
   "cell_type": "code",
   "execution_count": 19,
   "metadata": {
    "tags": []
   },
   "outputs": [],
   "source": [
    "demo_word = 'achiever'\n",
    "\n",
    "wg_id = word_df.loc[word_df['lcase'] == demo_word, 'word_group_id'].iloc[0]\n",
    "\n",
    "demo_wg_df = wg_df.loc[wg_df['word_group_id'] == wg_id, : ]\n",
    "\n",
    "# option 1 - Full matrix\n",
    "# No additional data needed\n",
    "\n",
    "# option 2 -  Number of characters\n",
    "n_char = demo_wg_df['n_chars'].iloc[0]\n",
    "\n",
    "# option 3 - First letter\n",
    "first_letter_id = demo_wg_df['first_letter_id'].iloc[0]\n",
    "\n",
    "# option 4 - Least common letter\n",
    "single_letter_id = demo_wg_df['single_letter_id'].iloc[0]\n",
    "\n",
    "# option 5 - Multiple least common letters\n",
    "letter_selector_id = demo_wg_df['letter_selector_id'].iloc[0]\n",
    "\n",
    "# option 6 - Number of characters and multiple least common letters\n",
    "nc_ls_id = demo_wg_df['nc_ls_id'].iloc[0]\n"
   ]
  },
  {
   "cell_type": "markdown",
   "metadata": {},
   "source": [
    "## Demontrate that the different matrix extraction options return identical results"
   ]
  },
  {
   "cell_type": "markdown",
   "metadata": {},
   "source": [
    "### Select on the full matrix: option 1"
   ]
  },
  {
   "cell_type": "code",
   "execution_count": 20,
   "metadata": {
    "tags": []
   },
   "outputs": [
    {
     "name": "stdout",
     "output_type": "stream",
     "text": [
      "There are 45 parent/from word groups for the word achiever\n",
      "There are 46 parent/from words for the word achiever\n",
      "The first five words are:\n",
      "1348               achiever\n",
      "12440          archdeceiver\n",
      "12445         archdetective\n",
      "12624          architective\n",
      "12737    archrepresentative\n",
      "Name: lcase, dtype: object\n",
      "The last five words are:\n",
      "224512       urethrovesical\n",
      "225856        vaucheriaceae\n",
      "225857       vaucheriaceous\n",
      "227047    vibrotherapeutics\n",
      "233655       zepharovichite\n",
      "Name: lcase, dtype: object\n"
     ]
    }
   ],
   "source": [
    "# demo the full matrix selection\n",
    "output = get_values_full_matrix(wg_id = wg_id, \n",
    "                    wchar_matrix = wchar_matrix,\n",
    "                   word_group_id_list = word_group_id_list)\n",
    "\n",
    "# this is an array of from words to the word 'achiever'\n",
    "format_demo_output(demo_word = demo_word,\n",
    "                   word_df = word_df,\n",
    "                   demo_output = output)"
   ]
  },
  {
   "cell_type": "markdown",
   "metadata": {},
   "source": [
    "### Select on the matrices split by word-length: option 2"
   ]
  },
  {
   "cell_type": "code",
   "execution_count": 21,
   "metadata": {},
   "outputs": [
    {
     "name": "stdout",
     "output_type": "stream",
     "text": [
      "There are 45 parent/from word groups for the word achiever\n",
      "There are 46 parent/from words for the word achiever\n",
      "The first five words are:\n",
      "1348               achiever\n",
      "12440          archdeceiver\n",
      "12445         archdetective\n",
      "12624          architective\n",
      "12737    archrepresentative\n",
      "Name: lcase, dtype: object\n",
      "The last five words are:\n",
      "224512       urethrovesical\n",
      "225856        vaucheriaceae\n",
      "225857       vaucheriaceous\n",
      "227047    vibrotherapeutics\n",
      "233655       zepharovichite\n",
      "Name: lcase, dtype: object\n"
     ]
    }
   ],
   "source": [
    "# demo the n char selection\n",
    "output = get_values_n_char(wg_id = wg_id,\n",
    "                      n_char = n_char,\n",
    "                      n_char_matrix_dict = n_char_matrix_dict)\n",
    "\n",
    "# this is an array of from words to the word 'achiever'\n",
    "format_demo_output(demo_word = demo_word,\n",
    "                   word_df = word_df,\n",
    "                   demo_output = output)"
   ]
  },
  {
   "cell_type": "markdown",
   "metadata": {},
   "source": [
    "### Select on the matrices split by the first letter: option 3"
   ]
  },
  {
   "cell_type": "code",
   "execution_count": 22,
   "metadata": {},
   "outputs": [
    {
     "name": "stdout",
     "output_type": "stream",
     "text": [
      "There are 45 parent/from word groups for the word achiever\n",
      "There are 46 parent/from words for the word achiever\n",
      "The first five words are:\n",
      "1348               achiever\n",
      "12440          archdeceiver\n",
      "12445         archdetective\n",
      "12624          architective\n",
      "12737    archrepresentative\n",
      "Name: lcase, dtype: object\n",
      "The last five words are:\n",
      "224512       urethrovesical\n",
      "225856        vaucheriaceae\n",
      "225857       vaucheriaceous\n",
      "227047    vibrotherapeutics\n",
      "233655       zepharovichite\n",
      "Name: lcase, dtype: object\n"
     ]
    }
   ],
   "source": [
    "# demo the first letter selection\n",
    "output = get_values_single_letter(wg_id = wg_id, single_letter_id = first_letter_id,\n",
    "                                                           single_letter_matrix_dict = single_letter_matrix_dict)         \n",
    "\n",
    "# this is an array of from words to the word 'achiever'\n",
    "format_demo_output(demo_word = demo_word,\n",
    "                   word_df = word_df,\n",
    "                   demo_output = output)"
   ]
  },
  {
   "cell_type": "markdown",
   "metadata": {},
   "source": [
    "### Select on the matrices split by the single least common letter: option 4"
   ]
  },
  {
   "cell_type": "code",
   "execution_count": 23,
   "metadata": {},
   "outputs": [
    {
     "name": "stdout",
     "output_type": "stream",
     "text": [
      "There are 45 parent/from word groups for the word achiever\n",
      "There are 46 parent/from words for the word achiever\n",
      "The first five words are:\n",
      "1348               achiever\n",
      "12440          archdeceiver\n",
      "12445         archdetective\n",
      "12624          architective\n",
      "12737    archrepresentative\n",
      "Name: lcase, dtype: object\n",
      "The last five words are:\n",
      "224512       urethrovesical\n",
      "225856        vaucheriaceae\n",
      "225857       vaucheriaceous\n",
      "227047    vibrotherapeutics\n",
      "233655       zepharovichite\n",
      "Name: lcase, dtype: object\n"
     ]
    }
   ],
   "source": [
    "# demo the first letter selection\n",
    "output = get_values_single_letter(wg_id = wg_id, single_letter_id = single_letter_id,\n",
    "                                                           single_letter_matrix_dict = single_letter_matrix_dict)         \n",
    "\n",
    "# this is an array of from words to the word 'achiever'\n",
    "format_demo_output(demo_word = demo_word,\n",
    "                   word_df = word_df,\n",
    "                   demo_output = output)"
   ]
  },
  {
   "cell_type": "markdown",
   "metadata": {},
   "source": [
    "### Select on the matrices split by the letter selector: option 5"
   ]
  },
  {
   "cell_type": "code",
   "execution_count": 24,
   "metadata": {},
   "outputs": [
    {
     "name": "stdout",
     "output_type": "stream",
     "text": [
      "There are 45 parent/from word groups for the word achiever\n",
      "There are 46 parent/from words for the word achiever\n",
      "The first five words are:\n",
      "1348               achiever\n",
      "12440          archdeceiver\n",
      "12445         archdetective\n",
      "12624          architective\n",
      "12737    archrepresentative\n",
      "Name: lcase, dtype: object\n",
      "The last five words are:\n",
      "224512       urethrovesical\n",
      "225856        vaucheriaceae\n",
      "225857       vaucheriaceous\n",
      "227047    vibrotherapeutics\n",
      "233655       zepharovichite\n",
      "Name: lcase, dtype: object\n"
     ]
    }
   ],
   "source": [
    "# demo with the letter selector\n",
    "output = get_values_letter_selector(wg_id = wg_id,\n",
    "                      letter_selector_id = letter_selector_id,\n",
    "                      letter_selector_matrix_dict = letter_selector_matrix_dict)\n",
    "\n",
    "# this is an array of from words to the word 'achiever'\n",
    "format_demo_output(demo_word = demo_word,\n",
    "                   word_df = word_df,\n",
    "                   demo_output = output)"
   ]
  },
  {
   "cell_type": "markdown",
   "metadata": {},
   "source": [
    "### Select on the matrices split by word-length and the letter selector: option 6"
   ]
  },
  {
   "cell_type": "code",
   "execution_count": 25,
   "metadata": {},
   "outputs": [
    {
     "name": "stdout",
     "output_type": "stream",
     "text": [
      "There are 45 parent/from word groups for the word achiever\n",
      "There are 46 parent/from words for the word achiever\n",
      "The first five words are:\n",
      "1348               achiever\n",
      "12440          archdeceiver\n",
      "12445         archdetective\n",
      "12624          architective\n",
      "12737    archrepresentative\n",
      "Name: lcase, dtype: object\n",
      "The last five words are:\n",
      "224512       urethrovesical\n",
      "225856        vaucheriaceae\n",
      "225857       vaucheriaceous\n",
      "227047    vibrotherapeutics\n",
      "233655       zepharovichite\n",
      "Name: lcase, dtype: object\n"
     ]
    }
   ],
   "source": [
    "# demo with the n_char letter selector\n",
    "output = get_values_n_char_letter_selector(wg_id = wg_id,\n",
    "                           nc_ls_id = nc_ls_id,                           \n",
    "                           nc_ls_matrix_dict=nc_ls_matrix_dict)\n",
    "\n",
    "# this is an array of from words to the word 'achiever'\n",
    "format_demo_output(demo_word = demo_word,\n",
    "                   word_df = word_df,\n",
    "                   demo_output = output)"
   ]
  },
  {
   "cell_type": "code",
   "execution_count": 26,
   "metadata": {},
   "outputs": [
    {
     "name": "stdout",
     "output_type": "stream",
     "text": [
      "Matrix Selection Option 1: Selecting by full matrix\n",
      "Total time: 2.4472 seconds. Average time: 0.024472 seconds.\n",
      "\n",
      "Matrix Selection Option 2: Selecting by word length\n",
      "Total time: 2.0481 seconds. Average time: 0.020481 seconds.\n",
      "\n",
      "Matrix Selection Option 3: Selecting by first letter\n",
      "Total time: 1.6545 seconds. Average time: 0.016545 seconds.\n",
      "\n",
      "Matrix Selection Option 4: Selecting by single least common letter\n",
      "Total time: 0.25 seconds. Average time: 0.0025 seconds.\n",
      "\n",
      "Matrix Selection Option 5: Selecting by letter selector\n",
      "Total time: 0.0158 seconds. Average time: 0.000158 seconds.\n",
      "\n",
      "Matrix Selection Option 6: Selecting by word length and letter selector\n",
      "Total time: 0.0147 seconds. Average time: 0.000147 seconds.\n",
      "\n"
     ]
    }
   ],
   "source": [
    "# we've tested with one word, let's time many evaluations to get a sense of how quickly \n",
    "# the different matrix extraction options work\n",
    "# use the timeit() function to evaluate how long, on average, a single matrix operation\n",
    "# takes to complete\n",
    "# we do this by writing python code encapsulated in quotes which is then sent to the function\n",
    "# we can store the quoted code in a dictionary and then enumerate. \n",
    "# we'll run each code chunk 100 times and then compute the average\n",
    "\n",
    "n_trials = 100\n",
    "\n",
    "code_snippet_dict = {\n",
    "    'Matrix Selection Option 1: Selecting by full matrix':\n",
    "\"\"\"get_values_full_matrix(wg_id = wg_id, wchar_matrix = wchar_matrix, word_group_id_list = word_group_id_list)\"\"\",\n",
    "    'Matrix Selection Option 2: Selecting by word length':\n",
    "\"\"\"get_values_n_char(wg_id = wg_id, n_char = n_char, n_char_matrix_dict = n_char_matrix_dict)\"\"\",\n",
    "    'Matrix Selection Option 3: Selecting by first letter':\n",
    "\"\"\"get_values_single_letter(wg_id = wg_id, single_letter_id = first_letter_id, single_letter_matrix_dict = single_letter_matrix_dict)\"\"\",    \n",
    "    'Matrix Selection Option 4: Selecting by single least common letter':\n",
    "\"\"\"get_values_single_letter(wg_id = wg_id, single_letter_id = single_letter_id, single_letter_matrix_dict = single_letter_matrix_dict)\"\"\",\n",
    "    'Matrix Selection Option 5: Selecting by letter selector':\n",
    "\"\"\"get_values_letter_selector(wg_id = wg_id, letter_selector_id = letter_selector_id, letter_selector_matrix_dict = letter_selector_matrix_dict)\"\"\",\n",
    "    'Matrix Selection Option 6: Selecting by word length and letter selector':\n",
    "\"\"\"get_values_n_char_letter_selector(wg_id = wg_id, nc_ls_id = nc_ls_id, nc_ls_matrix_dict=nc_ls_matrix_dict)\"\"\"\n",
    "}\n",
    "\n",
    "timing_list = []\n",
    "for csd, cs in code_snippet_dict.items():    \n",
    "\n",
    "    # here we time the code execution\n",
    "    total_time = timeit.timeit(cs, number=n_trials, globals=globals())\n",
    "    timing_list.append([csd, total_time])\n",
    "\n",
    "    # total time    \n",
    "    total_time_formatted = '{:,}'.format(round(total_time, 2))    \n",
    "\n",
    "    # average time\n",
    "    avg_time = total_time / n_trials\n",
    "    avg_time_formatted = '{:,}'.format(round(avg_time, 2)) \n",
    "        \n",
    "    print(csd)\n",
    "    # average number of seconds per trial\n",
    "    print('Total time:', total_time_formatted, 'seconds. Average time:', avg_time_formatted, 'seconds.')\n",
    "\n",
    "    # add a line break to make it easier to read\n",
    "    print()\n",
    "    \n",
    "    "
   ]
  },
  {
   "cell_type": "code",
   "execution_count": 27,
   "metadata": {},
   "outputs": [],
   "source": [
    "# the combination of the word length and letter selector is the fastest"
   ]
  },
  {
   "cell_type": "code",
   "execution_count": 28,
   "metadata": {},
   "outputs": [],
   "source": [
    "# these numbers are orders of magnitude different and therefore hard to interpret.\n",
    "# let's rescale."
   ]
  },
  {
   "cell_type": "code",
   "execution_count": 29,
   "metadata": {},
   "outputs": [],
   "source": [
    "# we'll use product() to compute the cartersian product of the list of timings\n",
    "# from the timing list, we can compute the ratio of one timing to another\n",
    "# we can then build a dataframe and cross-tab\n",
    "\n",
    "expanded_timing_list = []\n",
    "for me_source, me_target in product(timing_list, repeat=2):    \n",
    "    # let's unpack this\n",
    "    me_source_option, me_source_timing = me_source\n",
    "    me_target_option, me_target_timing = me_target\n",
    "\n",
    "    me_source_option = me_source_option[17:25]\n",
    "    me_target_option = me_target_option[17:25]\n",
    "    me_source_target_timing_ratio = me_source_timing / me_target_timing\n",
    "    \n",
    "    # add to the list\n",
    "    expanded_timing_list.append([me_source_option, me_target_option, me_source_timing, me_target_timing, me_source_target_timing_ratio])    "
   ]
  },
  {
   "cell_type": "code",
   "execution_count": 30,
   "metadata": {},
   "outputs": [],
   "source": [
    "col_names = ['meo_source', 'meo_target', 'meo_source_timing', 'meo_target_timing', 'meo_timing_ratio']"
   ]
  },
  {
   "cell_type": "code",
   "execution_count": 31,
   "metadata": {},
   "outputs": [],
   "source": [
    "timing_df = pd.DataFrame(data = expanded_timing_list, columns = col_names)"
   ]
  },
  {
   "cell_type": "code",
   "execution_count": 32,
   "metadata": {},
   "outputs": [],
   "source": [
    "# use the pd.pivot_table() function to display the ratios"
   ]
  },
  {
   "cell_type": "code",
   "execution_count": 33,
   "metadata": {},
   "outputs": [],
   "source": [
    "# we computed the product so all cells will be filled\n",
    "# but we only need to look at the top-diagonal\n",
    "# from left to right: we can see how much faster option 5 is than option 1\n",
    "# or how much faster option 4 is than option 3\n",
    "timing_table = timing_df.pivot_table(index = ['meo_source'], columns = ['meo_target'],\n",
    "                           values =['meo_timing_ratio']).reset_index()"
   ]
  },
  {
   "cell_type": "code",
   "execution_count": 34,
   "metadata": {},
   "outputs": [
    {
     "data": {
      "text/html": [
       "<div>\n",
       "<style scoped>\n",
       "    .dataframe tbody tr th:only-of-type {\n",
       "        vertical-align: middle;\n",
       "    }\n",
       "\n",
       "    .dataframe tbody tr th {\n",
       "        vertical-align: top;\n",
       "    }\n",
       "\n",
       "    .dataframe thead tr th {\n",
       "        text-align: left;\n",
       "    }\n",
       "</style>\n",
       "<table border=\"1\" class=\"dataframe\">\n",
       "  <thead>\n",
       "    <tr>\n",
       "      <th></th>\n",
       "      <th>meo_source</th>\n",
       "      <th colspan=\"6\" halign=\"left\">meo_timing_ratio</th>\n",
       "    </tr>\n",
       "    <tr>\n",
       "      <th>meo_target</th>\n",
       "      <th></th>\n",
       "      <th>Option 1</th>\n",
       "      <th>Option 2</th>\n",
       "      <th>Option 3</th>\n",
       "      <th>Option 4</th>\n",
       "      <th>Option 5</th>\n",
       "      <th>Option 6</th>\n",
       "    </tr>\n",
       "  </thead>\n",
       "  <tbody>\n",
       "    <tr>\n",
       "      <th>0</th>\n",
       "      <td>Option 1</td>\n",
       "      <td>1.000000</td>\n",
       "      <td>1.194855</td>\n",
       "      <td>1.479058</td>\n",
       "      <td>9.788773</td>\n",
       "      <td>154.432836</td>\n",
       "      <td>166.027138</td>\n",
       "    </tr>\n",
       "    <tr>\n",
       "      <th>1</th>\n",
       "      <td>Option 2</td>\n",
       "      <td>0.836922</td>\n",
       "      <td>1.000000</td>\n",
       "      <td>1.237856</td>\n",
       "      <td>8.192437</td>\n",
       "      <td>129.248205</td>\n",
       "      <td>138.951729</td>\n",
       "    </tr>\n",
       "    <tr>\n",
       "      <th>2</th>\n",
       "      <td>Option 3</td>\n",
       "      <td>0.676106</td>\n",
       "      <td>0.807848</td>\n",
       "      <td>1.000000</td>\n",
       "      <td>6.618247</td>\n",
       "      <td>104.412944</td>\n",
       "      <td>112.251920</td>\n",
       "    </tr>\n",
       "    <tr>\n",
       "      <th>3</th>\n",
       "      <td>Option 4</td>\n",
       "      <td>0.102158</td>\n",
       "      <td>0.122064</td>\n",
       "      <td>0.151097</td>\n",
       "      <td>1.000000</td>\n",
       "      <td>15.776527</td>\n",
       "      <td>16.960976</td>\n",
       "    </tr>\n",
       "    <tr>\n",
       "      <th>4</th>\n",
       "      <td>Option 5</td>\n",
       "      <td>0.006475</td>\n",
       "      <td>0.007737</td>\n",
       "      <td>0.009577</td>\n",
       "      <td>0.063385</td>\n",
       "      <td>1.000000</td>\n",
       "      <td>1.075077</td>\n",
       "    </tr>\n",
       "    <tr>\n",
       "      <th>5</th>\n",
       "      <td>Option 6</td>\n",
       "      <td>0.006023</td>\n",
       "      <td>0.007197</td>\n",
       "      <td>0.008909</td>\n",
       "      <td>0.058959</td>\n",
       "      <td>0.930166</td>\n",
       "      <td>1.000000</td>\n",
       "    </tr>\n",
       "  </tbody>\n",
       "</table>\n",
       "</div>"
      ],
      "text/plain": [
       "           meo_source meo_timing_ratio                                \\\n",
       "meo_target                    Option 1  Option 2  Option 3  Option 4   \n",
       "0            Option 1         1.000000  1.194855  1.479058  9.788773   \n",
       "1            Option 2         0.836922  1.000000  1.237856  8.192437   \n",
       "2            Option 3         0.676106  0.807848  1.000000  6.618247   \n",
       "3            Option 4         0.102158  0.122064  0.151097  1.000000   \n",
       "4            Option 5         0.006475  0.007737  0.009577  0.063385   \n",
       "5            Option 6         0.006023  0.007197  0.008909  0.058959   \n",
       "\n",
       "                                    \n",
       "meo_target    Option 5    Option 6  \n",
       "0           154.432836  166.027138  \n",
       "1           129.248205  138.951729  \n",
       "2           104.412944  112.251920  \n",
       "3            15.776527   16.960976  \n",
       "4             1.000000    1.075077  \n",
       "5             0.930166    1.000000  "
      ]
     },
     "execution_count": 34,
     "metadata": {},
     "output_type": "execute_result"
    }
   ],
   "source": [
    "timing_table"
   ]
  },
  {
   "cell_type": "code",
   "execution_count": 35,
   "metadata": {},
   "outputs": [],
   "source": [
    "# wow. So, based on this analysis of the different \n",
    "# matrix extraction options using the word 'achiever':\n",
    "# option 5 and 6 are the fastest, each over 100 times faster than option 1\n",
    "# option 4 - just using the single least common letter - is 10X faster than option 1\n",
    "# and 6X faster than option 3 - using the starting the letter of the word. \n"
   ]
  }
 ],
 "metadata": {
  "kernelspec": {
   "display_name": "Python 3 (ipykernel)",
   "language": "python",
   "name": "python3"
  },
  "language_info": {
   "codemirror_mode": {
    "name": "ipython",
    "version": 3
   },
   "file_extension": ".py",
   "mimetype": "text/x-python",
   "name": "python",
   "nbconvert_exporter": "python",
   "pygments_lexer": "ipython3",
   "version": "3.11.5"
  }
 },
 "nbformat": 4,
 "nbformat_minor": 4
}
