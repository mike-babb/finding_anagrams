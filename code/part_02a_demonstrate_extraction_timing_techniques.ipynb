{
 "cells": [
  {
   "cell_type": "markdown",
   "metadata": {},
   "source": [
    "# Mike Babb\n",
    "# babbm@uw.edu\n",
    "# Find anagrams\n",
    "## Part 2: Generate and store the anagrams v2.0"
   ]
  },
  {
   "cell_type": "code",
   "execution_count": 1,
   "metadata": {
    "tags": []
   },
   "outputs": [],
   "source": [
    "# standard libraries - installed by default\n",
    "import collections\n",
    "import datetime\n",
    "from itertools import product\n",
    "import pickle\n",
    "import sqlite3\n",
    "import string\n",
    "import os\n",
    "import timeit"
   ]
  },
  {
   "cell_type": "code",
   "execution_count": 2,
   "metadata": {
    "tags": []
   },
   "outputs": [],
   "source": [
    "# external libraries - not installed by default\n",
    "import numpy as np\n",
    "import pandas as pd"
   ]
  },
  {
   "cell_type": "code",
   "execution_count": 3,
   "metadata": {
    "tags": []
   },
   "outputs": [],
   "source": [
    "from part_00_file_db_utils import *\n",
    "from part_00_process_functions import *"
   ]
  },
  {
   "cell_type": "markdown",
   "metadata": {},
   "source": [
    "### set input and output paths"
   ]
  },
  {
   "cell_type": "code",
   "execution_count": 4,
   "metadata": {
    "tags": []
   },
   "outputs": [],
   "source": [
    "# base file path\n",
    "base_file_path = '/project/finding_anagrams'"
   ]
  },
  {
   "cell_type": "code",
   "execution_count": 5,
   "metadata": {
    "tags": []
   },
   "outputs": [],
   "source": [
    "# input path\n",
    "in_file_path = 'data'\n",
    "in_file_path = os.path.join(base_file_path, in_file_path)"
   ]
  },
  {
   "cell_type": "code",
   "execution_count": 6,
   "metadata": {
    "tags": []
   },
   "outputs": [],
   "source": [
    "# output db path and name\n",
    "db_path = 'db'\n",
    "db_path = os.path.join(base_file_path, db_path)"
   ]
  },
  {
   "cell_type": "code",
   "execution_count": 7,
   "metadata": {
    "tags": []
   },
   "outputs": [],
   "source": [
    "if os.path.exists(db_path):\n",
    "    pass\n",
    "else:\n",
    "    os.makedirs(db_path)"
   ]
  },
  {
   "cell_type": "code",
   "execution_count": 8,
   "metadata": {
    "tags": []
   },
   "outputs": [],
   "source": [
    "db_name = 'words.db'"
   ]
  },
  {
   "cell_type": "markdown",
   "metadata": {},
   "source": [
    "### process control flags"
   ]
  },
  {
   "cell_type": "code",
   "execution_count": 9,
   "metadata": {
    "tags": []
   },
   "outputs": [],
   "source": [
    "# Use numpy to perform matrix opertions and determine from/to and exact anagram relationships\n",
    "# Option 1: Full matrix\n",
    "# Option 2: Word-length\n",
    "# Option 3: First letter\n",
    "# Option 4: Single-least common letter\n",
    "# Option 5: n least common letters\n",
    "# Option 6: word-length and n least common letters\n",
    "\n",
    "matrix_extraction_option = 6\n",
    "\n",
    "# max number of letters to slice to use for the generation of sub-matrices for\n",
    "# options 5 and 6. More letters means more sub-matrices\n",
    "# 3 seems to be the sweet spot\n",
    "n_subset_letters = 3\n",
    "\n",
    "# set write_data to True to store the generated list of anagrams\n",
    "write_data = False\n",
    "\n",
    "# set to None to include all letters\n",
    "# test with a subset of letters by setting the letter_subset_list to ['q', 'x'] or \n",
    "# a different set of letters\n",
    "letter_subset_list = ['x']\n",
    "# letter_subset_list = None\n",
    "\n",
    "# generate a sample dataset of ten words that start with each letter\n",
    "\n",
    "# testo = wg_df.groupby(['first_letter']).sample(n = 10, random_state = 123)\n"
   ]
  },
  {
   "cell_type": "code",
   "execution_count": 10,
   "metadata": {
    "tags": []
   },
   "outputs": [],
   "source": [
    "# start a timer to record the entire operation\n",
    "total_time_start = datetime.datetime.now()"
   ]
  },
  {
   "cell_type": "markdown",
   "metadata": {},
   "source": [
    "### load input data"
   ]
  },
  {
   "cell_type": "code",
   "execution_count": 11,
   "metadata": {},
   "outputs": [
    {
     "name": "stdout",
     "output_type": "stream",
     "text": [
      "...loading words into a dataframe...\n",
      "...query execution took: 1.76776 seconds...\n",
      "...loading word groups into a dataframe...\n",
      "...query execution took: 1.727285 seconds...\n",
      "...loading the letter dictionary...\n",
      "...loading the char matrix...\n",
      "...subsetting the char matrix...\n"
     ]
    }
   ],
   "source": [
    "word_df, wg_df, letter_dict, char_matrix, word_group_id_list, word_id_list, wchar_matrix = load_input_data(db_path = db_path, db_name = db_name, in_file_path = in_file_path)"
   ]
  },
  {
   "cell_type": "code",
   "execution_count": 12,
   "metadata": {},
   "outputs": [],
   "source": [
    "# Split the char_matrix into N sub matrices\n",
    "# See split_matrix() for a more elaborate description. \n",
    "# This function does a lot of things. Effectively, it computes and stores values in the wg_df, and splits the matrix into various components."
   ]
  },
  {
   "cell_type": "code",
   "execution_count": 13,
   "metadata": {},
   "outputs": [
    {
     "name": "stdout",
     "output_type": "stream",
     "text": [
      "...creating 16,101 sub-matrices...\n",
      "...1,000 sub-matrices created...\n",
      "...2,000 sub-matrices created...\n",
      "...3,000 sub-matrices created...\n",
      "...4,000 sub-matrices created...\n",
      "...5,000 sub-matrices created...\n",
      "...6,000 sub-matrices created...\n",
      "...7,000 sub-matrices created...\n",
      "...8,000 sub-matrices created...\n",
      "...9,000 sub-matrices created...\n",
      "...10,000 sub-matrices created...\n",
      "...11,000 sub-matrices created...\n",
      "...12,000 sub-matrices created...\n",
      "...13,000 sub-matrices created...\n",
      "...14,000 sub-matrices created...\n",
      "...15,000 sub-matrices created...\n",
      "...16,000 sub-matrices created...\n",
      "... 16,101 sub-matrices created...\n",
      "Total extraction time: 59.39 seconds.\n"
     ]
    }
   ],
   "source": [
    "wg_df, n_char_matrix_dict, single_letter_matrix_dict, letter_selector_matrix_dict, nc_ls_matrix_dict= split_matrix(\n",
    "    letter_dict = letter_dict,\n",
    "    word_group_id_list = word_group_id_list,\n",
    "        wg_df = wg_df,\n",
    "    wchar_matrix = wchar_matrix, \n",
    "    n_subset_letters = n_subset_letters,\n",
    ")"
   ]
  },
  {
   "cell_type": "code",
   "execution_count": null,
   "metadata": {},
   "outputs": [],
   "source": [
    "test_matrix_extraction_option(wg_df = wg_df,\n",
    "                                  letter_dict = letter_dict,\n",
    "                                  word_group_id_list = word_group_id_list,\n",
    "                                  wchar_matrix = wchar_matrix,\n",
    "                                  n_subset_letters = n_subset_letter):"
   ]
  },
  {
   "cell_type": "code",
   "execution_count": null,
   "metadata": {},
   "outputs": [],
   "source": [
    "wg_lu_df = compute_lookups(wg_df=wg_df,\n",
    "                    n_char_matrix_dict = n_char_matrix_dict,\n",
    "                    single_letter_matrix_dict = single_letter_matrix_dict,\n",
    "                    letter_selector_matrix_dict = letter_selector_matrix_dict,\n",
    "                    nc_ls_matrix_dict = nc_ls_matrix_dict,\n",
    "                          db_path = db_path, db_name = db_name)"
   ]
  },
  {
   "cell_type": "markdown",
   "metadata": {
    "tags": []
   },
   "source": [
    "# demonstrate the different matrix extraction options with the word 'achiever'"
   ]
  },
  {
   "cell_type": "code",
   "execution_count": 14,
   "metadata": {
    "tags": []
   },
   "outputs": [],
   "source": [
    "demo_word = 'achiever'\n",
    "\n",
    "wg_id = word_df.loc[word_df['lcase'] == demo_word, 'word_group_id'].iloc[0]\n",
    "\n",
    "demo_wg_df = wg_df.loc[wg_df['word_group_id'] == wg_id, : ]\n",
    "\n",
    "# option 1 - Full matrix\n",
    "# No additional data needed\n",
    "\n",
    "# option 2 -  Number of characters\n",
    "n_char = demo_wg_df['n_chars'].iloc[0]\n",
    "\n",
    "# option 3 - First letter\n",
    "first_letter = demo_wg_df['first_letter'].iloc[0]\n",
    "\n",
    "# option 4 - Least common letter\n",
    "least_common_letter = demo_wg_df['letter_selector'].iloc[0][0]\n",
    "\n",
    "# option 5 - Multiple least common letters\n",
    "letter_selector = demo_wg_df['letter_selector'].iloc[0]\n",
    "\n",
    "# option 6 - Number of characters and multiple least common letters\n",
    "nc_ls_tuple = demo_wg_df['nc_ls_tuple'].iloc[0]\n"
   ]
  },
  {
   "cell_type": "markdown",
   "metadata": {},
   "source": [
    "## Select on the full matrix: option 1"
   ]
  },
  {
   "cell_type": "code",
   "execution_count": 15,
   "metadata": {
    "tags": []
   },
   "outputs": [
    {
     "name": "stdout",
     "output_type": "stream",
     "text": [
      "There are 45 parent/from word groups for the word achiever\n",
      "There are 46 parent/from words for the word achiever\n",
      "The first five words are:\n",
      "1348               achiever\n",
      "12440          archdeceiver\n",
      "12445         archdetective\n",
      "12624          architective\n",
      "12737    archrepresentative\n",
      "Name: lcase, dtype: object\n",
      "The last five words are:\n",
      "224512       urethrovesical\n",
      "225856        vaucheriaceae\n",
      "225857       vaucheriaceous\n",
      "227047    vibrotherapeutics\n",
      "233655       zepharovichite\n",
      "Name: lcase, dtype: object\n"
     ]
    }
   ],
   "source": [
    "# demo the full matrix selection\n",
    "output = get_values_full_matrix(wg_id = wg_id, \n",
    "                    wchar_matrix = wchar_matrix,\n",
    "                   word_group_id_list = word_group_id_list)\n",
    "\n",
    "# this is an array of from words to the word 'achiever'\n",
    "format_demo_output(demo_word = demo_word,\n",
    "                   word_df = word_df,\n",
    "                   demo_output = output)"
   ]
  },
  {
   "cell_type": "markdown",
   "metadata": {},
   "source": [
    "## Select on the matrices split by word-length: option 2"
   ]
  },
  {
   "cell_type": "code",
   "execution_count": 16,
   "metadata": {},
   "outputs": [
    {
     "name": "stdout",
     "output_type": "stream",
     "text": [
      "There are 45 parent/from word groups for the word achiever\n",
      "There are 46 parent/from words for the word achiever\n",
      "The first five words are:\n",
      "1348               achiever\n",
      "12440          archdeceiver\n",
      "12445         archdetective\n",
      "12624          architective\n",
      "12737    archrepresentative\n",
      "Name: lcase, dtype: object\n",
      "The last five words are:\n",
      "224512       urethrovesical\n",
      "225856        vaucheriaceae\n",
      "225857       vaucheriaceous\n",
      "227047    vibrotherapeutics\n",
      "233655       zepharovichite\n",
      "Name: lcase, dtype: object\n"
     ]
    }
   ],
   "source": [
    "# demo the n char selection\n",
    "output = get_values_n_char(wg_id = wg_id,\n",
    "                      n_char = n_char,\n",
    "                      n_char_matrix_dict = n_char_matrix_dict)\n",
    "\n",
    "# this is an array of from words to the word 'achiever'\n",
    "format_demo_output(demo_word = demo_word,\n",
    "                   word_df = word_df,\n",
    "                   demo_output = output)"
   ]
  },
  {
   "cell_type": "markdown",
   "metadata": {},
   "source": [
    "## Select on the matrices split by the first letter: option 3"
   ]
  },
  {
   "cell_type": "code",
   "execution_count": 17,
   "metadata": {},
   "outputs": [
    {
     "name": "stdout",
     "output_type": "stream",
     "text": [
      "There are 45 parent/from word groups for the word achiever\n",
      "There are 46 parent/from words for the word achiever\n",
      "The first five words are:\n",
      "1348               achiever\n",
      "12440          archdeceiver\n",
      "12445         archdetective\n",
      "12624          architective\n",
      "12737    archrepresentative\n",
      "Name: lcase, dtype: object\n",
      "The last five words are:\n",
      "224512       urethrovesical\n",
      "225856        vaucheriaceae\n",
      "225857       vaucheriaceous\n",
      "227047    vibrotherapeutics\n",
      "233655       zepharovichite\n",
      "Name: lcase, dtype: object\n"
     ]
    }
   ],
   "source": [
    "# demo the first letter selection\n",
    "output = get_values_single_letter(wg_id = wg_id, single_letter = least_common_letter,\n",
    "                                                           single_letter_matrix_dict = single_letter_matrix_dict)         \n",
    "\n",
    "# this is an array of from words to the word 'achiever'\n",
    "format_demo_output(demo_word = demo_word,\n",
    "                   word_df = word_df,\n",
    "                   demo_output = output)"
   ]
  },
  {
   "cell_type": "markdown",
   "metadata": {},
   "source": [
    "## Select on the matrices split by the single least common letter: option 4"
   ]
  },
  {
   "cell_type": "code",
   "execution_count": 18,
   "metadata": {},
   "outputs": [
    {
     "name": "stdout",
     "output_type": "stream",
     "text": [
      "There are 45 parent/from word groups for the word achiever\n",
      "There are 46 parent/from words for the word achiever\n",
      "The first five words are:\n",
      "1348               achiever\n",
      "12440          archdeceiver\n",
      "12445         archdetective\n",
      "12624          architective\n",
      "12737    archrepresentative\n",
      "Name: lcase, dtype: object\n",
      "The last five words are:\n",
      "224512       urethrovesical\n",
      "225856        vaucheriaceae\n",
      "225857       vaucheriaceous\n",
      "227047    vibrotherapeutics\n",
      "233655       zepharovichite\n",
      "Name: lcase, dtype: object\n"
     ]
    }
   ],
   "source": [
    "# demo the first letter selection\n",
    "output = get_values_single_letter(wg_id = wg_id, single_letter = least_common_letter,\n",
    "                                                           single_letter_matrix_dict = single_letter_matrix_dict)         \n",
    "\n",
    "# this is an array of from words to the word 'achiever'\n",
    "format_demo_output(demo_word = demo_word,\n",
    "                   word_df = word_df,\n",
    "                   demo_output = output)"
   ]
  },
  {
   "cell_type": "markdown",
   "metadata": {},
   "source": [
    "## Select on the matrices split by the letter selector: option 5"
   ]
  },
  {
   "cell_type": "code",
   "execution_count": 19,
   "metadata": {},
   "outputs": [
    {
     "name": "stdout",
     "output_type": "stream",
     "text": [
      "There are 45 parent/from word groups for the word achiever\n",
      "There are 46 parent/from words for the word achiever\n",
      "The first five words are:\n",
      "1348               achiever\n",
      "12440          archdeceiver\n",
      "12445         archdetective\n",
      "12624          architective\n",
      "12737    archrepresentative\n",
      "Name: lcase, dtype: object\n",
      "The last five words are:\n",
      "224512       urethrovesical\n",
      "225856        vaucheriaceae\n",
      "225857       vaucheriaceous\n",
      "227047    vibrotherapeutics\n",
      "233655       zepharovichite\n",
      "Name: lcase, dtype: object\n"
     ]
    }
   ],
   "source": [
    "# demo with the letter selector\n",
    "output = get_values_letter_selector(wg_id = wg_id,\n",
    "                      letter_selector = letter_selector,\n",
    "                      letter_selector_matrix_dict = letter_selector_matrix_dict)\n",
    "\n",
    "# this is an array of from words to the word 'achiever'\n",
    "format_demo_output(demo_word = demo_word,\n",
    "                   word_df = word_df,\n",
    "                   demo_output = output)"
   ]
  },
  {
   "cell_type": "markdown",
   "metadata": {},
   "source": [
    "## Select on the matrices split by word-length and the letter selector: option 6"
   ]
  },
  {
   "cell_type": "code",
   "execution_count": 20,
   "metadata": {},
   "outputs": [
    {
     "name": "stdout",
     "output_type": "stream",
     "text": [
      "There are 45 parent/from word groups for the word achiever\n",
      "There are 46 parent/from words for the word achiever\n",
      "The first five words are:\n",
      "1348               achiever\n",
      "12440          archdeceiver\n",
      "12445         archdetective\n",
      "12624          architective\n",
      "12737    archrepresentative\n",
      "Name: lcase, dtype: object\n",
      "The last five words are:\n",
      "224512       urethrovesical\n",
      "225856        vaucheriaceae\n",
      "225857       vaucheriaceous\n",
      "227047    vibrotherapeutics\n",
      "233655       zepharovichite\n",
      "Name: lcase, dtype: object\n"
     ]
    }
   ],
   "source": [
    "# demo with the n_char letter selector\n",
    "output = get_values_n_char_letter_selector(wg_id = wg_id,\n",
    "                           nc_ls_tuple = nc_ls_tuple,                           \n",
    "                           nc_ls_matrix_dict=nc_ls_matrix_dict)\n",
    "\n",
    "# this is an array of from words to the word 'achiever'\n",
    "format_demo_output(demo_word = demo_word,\n",
    "                   word_df = word_df,\n",
    "                   demo_output = output)"
   ]
  },
  {
   "cell_type": "code",
   "execution_count": 21,
   "metadata": {},
   "outputs": [
    {
     "name": "stdout",
     "output_type": "stream",
     "text": [
      "Matrix Selection Option 1: Selecting by full matrix\n",
      "Total time: 2.6046 seconds. Average time: 0.260464 seconds.\n",
      "\n",
      "Matrix Selection Option 2: Selecting by word length\n",
      "Total time: 1.9373 seconds. Average time: 0.193727 seconds.\n",
      "\n",
      "Matrix Selection Option 3: Selecting by first letter\n",
      "Total time: 1.9006 seconds. Average time: 0.190056 seconds.\n",
      "\n",
      "Matrix Selection Option 4: Selecting by single least common letter\n",
      "Total time: 0.1877 seconds. Average time: 0.018774 seconds.\n",
      "\n",
      "Matrix Selection Option 5: Selecting by letter selector\n",
      "Total time: 0.0016 seconds. Average time: 0.000163 seconds.\n",
      "\n",
      "Matrix Selection Option 6: Selecting by word length and letter selector\n",
      "Total time: 0.0018 seconds. Average time: 0.000177 seconds.\n",
      "\n"
     ]
    }
   ],
   "source": [
    "# we've tested with one word, let's time many evaluations to get a sense of how quickly \n",
    "# the different matrix extraction options work\n",
    "# use the timeit() function to evaluate how long, on average, a single matrix operation\n",
    "# takes to complete\n",
    "# we do this by writing python code encapsulated in quotes which is then sent to the function\n",
    "# we can store the quoted code in dictionary and then enumerate. \n",
    "\n",
    "n_trials = 10\n",
    "\n",
    "code_snippet_dict = {\n",
    "    'Matrix Selection Option 1: Selecting by full matrix':\n",
    "\"\"\"get_values_full_matrix(wg_id = wg_id, wchar_matrix = wchar_matrix, word_group_id_list = word_group_id_list)\"\"\",\n",
    "    'Matrix Selection Option 2: Selecting by word length':\n",
    "\"\"\"get_values_n_char(wg_id = wg_id, n_char = n_char, n_char_matrix_dict = n_char_matrix_dict)\"\"\",\n",
    "    'Matrix Selection Option 3: Selecting by first letter':\n",
    "\"\"\"get_values_single_letter(wg_id = wg_id, single_letter = first_letter, single_letter_matrix_dict = single_letter_matrix_dict)\"\"\",    \n",
    "    'Matrix Selection Option 4: Selecting by single least common letter':\n",
    "\"\"\"get_values_single_letter(wg_id = wg_id, single_letter = least_common_letter, single_letter_matrix_dict = single_letter_matrix_dict)\"\"\",\n",
    "    'Matrix Selection Option 5: Selecting by letter selector':\n",
    "\"\"\"get_values_letter_selector(wg_id = wg_id, letter_selector = letter_selector, letter_selector_matrix_dict = letter_selector_matrix_dict)\"\"\",\n",
    "    'Matrix Selection Option 6: Selecting by word length and letter selector':\n",
    "\"\"\"get_values_n_char_letter_selector(wg_id = wg_id, nc_ls_tuple = nc_ls_tuple, nc_ls_matrix_dict=nc_ls_matrix_dict)\"\"\"\n",
    "}\n",
    "\n",
    "timing_list = []\n",
    "for csd, cs in code_snippet_dict.items():    \n",
    "\n",
    "    # here we time the code execution\n",
    "    total_time = timeit.timeit(cs, number=n_trials, globals=globals())\n",
    "    timing_list.append([csd, total_time])\n",
    "\n",
    "    # total time    \n",
    "    total_time_formatted = '{:,}'.format(round(total_time, 4))    \n",
    "\n",
    "    # average time\n",
    "    avg_time = total_time / n_trials\n",
    "    avg_time_formatted = '{:,}'.format(round(avg_time, 6)) \n",
    "        \n",
    "    print(csd)\n",
    "    # average number of seconds per trial\n",
    "    print('Total time:', total_time_formatted, 'seconds. Average time:', avg_time_formatted, 'seconds.')\n",
    "\n",
    "    # add a line break to make it easier to read\n",
    "    print()\n",
    "    \n",
    "    "
   ]
  },
  {
   "cell_type": "code",
   "execution_count": 22,
   "metadata": {},
   "outputs": [],
   "source": [
    "# the combination of the word length and letter selector is the fastest"
   ]
  },
  {
   "cell_type": "code",
   "execution_count": 23,
   "metadata": {},
   "outputs": [],
   "source": [
    "# these numbers are orders of magnitude different and therefore hard to interpret.\n",
    "# let's rescale."
   ]
  },
  {
   "cell_type": "code",
   "execution_count": 34,
   "metadata": {},
   "outputs": [],
   "source": [
    "# we'll use product() to compute the cartersian product of the list of timings\n",
    "# from the timing list, we can compute the ratio of one timing to another\n",
    "# we can then build a dataframe and cross-tab\n",
    "\n",
    "expanded_timing_list = []\n",
    "for me_source, me_target in product(timing_list, repeat=2):    \n",
    "    # let's unpack this\n",
    "    me_source_option, me_source_timing = me_source\n",
    "    me_target_option, me_target_timing = me_target\n",
    "\n",
    "    me_source_option = me_source_option[17:25]\n",
    "    me_target_option = me_target_option[17:25]\n",
    "    me_source_target_timing_ratio = me_source_timing / me_target_timing\n",
    "    \n",
    "    # add to the list\n",
    "    expanded_timing_list.append([me_source_option, me_target_option, me_source_timing, me_target_timing, me_source_target_timing_ratio])\n",
    "\n",
    "\n",
    "\n",
    "    "
   ]
  },
  {
   "cell_type": "code",
   "execution_count": 35,
   "metadata": {},
   "outputs": [],
   "source": [
    "col_names = ['me_source', 'me_target', 'me_source_timing', 'me_target_timing', 'me_timing_ratio']"
   ]
  },
  {
   "cell_type": "code",
   "execution_count": 36,
   "metadata": {},
   "outputs": [],
   "source": [
    "timing_df = pd.DataFrame(data = expanded_timing_list, columns = col_names)"
   ]
  },
  {
   "cell_type": "code",
   "execution_count": 37,
   "metadata": {},
   "outputs": [],
   "source": [
    "# use the pd.pivot_table() function to display the ratios"
   ]
  },
  {
   "cell_type": "code",
   "execution_count": 49,
   "metadata": {},
   "outputs": [],
   "source": [
    "# we computed the product so all cells will be filled\n",
    "# but we only need to look at the top-diagonal\n",
    "# from left to right: we can see how much faster option 5 is than option 1\n",
    "# or how much faster option 4 is than option 3\n",
    "timing_table = timing_df.pivot_table(index = ['me_source'], columns = ['me_target'],\n",
    "                           values =['me_timing_ratio'])"
   ]
  },
  {
   "cell_type": "code",
   "execution_count": 48,
   "metadata": {},
   "outputs": [
    {
     "data": {
      "text/html": [
       "<div>\n",
       "<style scoped>\n",
       "    .dataframe tbody tr th:only-of-type {\n",
       "        vertical-align: middle;\n",
       "    }\n",
       "\n",
       "    .dataframe tbody tr th {\n",
       "        vertical-align: top;\n",
       "    }\n",
       "\n",
       "    .dataframe thead tr th {\n",
       "        text-align: left;\n",
       "    }\n",
       "</style>\n",
       "<table border=\"1\" class=\"dataframe\">\n",
       "  <thead>\n",
       "    <tr>\n",
       "      <th></th>\n",
       "      <th>me_source</th>\n",
       "      <th colspan=\"6\" halign=\"left\">me_timing_ratio</th>\n",
       "    </tr>\n",
       "    <tr>\n",
       "      <th>me_target</th>\n",
       "      <th></th>\n",
       "      <th>Option 1</th>\n",
       "      <th>Option 2</th>\n",
       "      <th>Option 3</th>\n",
       "      <th>Option 4</th>\n",
       "      <th>Option 5</th>\n",
       "      <th>Option 6</th>\n",
       "    </tr>\n",
       "  </thead>\n",
       "  <tbody>\n",
       "    <tr>\n",
       "      <th>0</th>\n",
       "      <td>Option 1</td>\n",
       "      <td>1.000000</td>\n",
       "      <td>1.344492</td>\n",
       "      <td>1.370459</td>\n",
       "      <td>13.873856</td>\n",
       "      <td>1595.099204</td>\n",
       "      <td>1475.213810</td>\n",
       "    </tr>\n",
       "    <tr>\n",
       "      <th>1</th>\n",
       "      <td>Option 2</td>\n",
       "      <td>0.743776</td>\n",
       "      <td>1.000000</td>\n",
       "      <td>1.019314</td>\n",
       "      <td>10.319036</td>\n",
       "      <td>1186.395855</td>\n",
       "      <td>1097.228026</td>\n",
       "    </tr>\n",
       "    <tr>\n",
       "      <th>2</th>\n",
       "      <td>Option 3</td>\n",
       "      <td>0.729682</td>\n",
       "      <td>0.981052</td>\n",
       "      <td>1.000000</td>\n",
       "      <td>10.123510</td>\n",
       "      <td>1163.915973</td>\n",
       "      <td>1076.437699</td>\n",
       "    </tr>\n",
       "    <tr>\n",
       "      <th>3</th>\n",
       "      <td>Option 4</td>\n",
       "      <td>0.072078</td>\n",
       "      <td>0.096908</td>\n",
       "      <td>0.098780</td>\n",
       "      <td>1.000000</td>\n",
       "      <td>114.971584</td>\n",
       "      <td>106.330483</td>\n",
       "    </tr>\n",
       "    <tr>\n",
       "      <th>4</th>\n",
       "      <td>Option 5</td>\n",
       "      <td>0.000627</td>\n",
       "      <td>0.000843</td>\n",
       "      <td>0.000859</td>\n",
       "      <td>0.008698</td>\n",
       "      <td>1.000000</td>\n",
       "      <td>0.924841</td>\n",
       "    </tr>\n",
       "    <tr>\n",
       "      <th>5</th>\n",
       "      <td>Option 6</td>\n",
       "      <td>0.000678</td>\n",
       "      <td>0.000911</td>\n",
       "      <td>0.000929</td>\n",
       "      <td>0.009405</td>\n",
       "      <td>1.081266</td>\n",
       "      <td>1.000000</td>\n",
       "    </tr>\n",
       "  </tbody>\n",
       "</table>\n",
       "</div>"
      ],
      "text/plain": [
       "          me_source me_timing_ratio                                 \\\n",
       "me_target                  Option 1  Option 2  Option 3   Option 4   \n",
       "0          Option 1        1.000000  1.344492  1.370459  13.873856   \n",
       "1          Option 2        0.743776  1.000000  1.019314  10.319036   \n",
       "2          Option 3        0.729682  0.981052  1.000000  10.123510   \n",
       "3          Option 4        0.072078  0.096908  0.098780   1.000000   \n",
       "4          Option 5        0.000627  0.000843  0.000859   0.008698   \n",
       "5          Option 6        0.000678  0.000911  0.000929   0.009405   \n",
       "\n",
       "                                     \n",
       "me_target     Option 5     Option 6  \n",
       "0          1595.099204  1475.213810  \n",
       "1          1186.395855  1097.228026  \n",
       "2          1163.915973  1076.437699  \n",
       "3           114.971584   106.330483  \n",
       "4             1.000000     0.924841  \n",
       "5             1.081266     1.000000  "
      ]
     },
     "execution_count": 48,
     "metadata": {},
     "output_type": "execute_result"
    }
   ],
   "source": [
    "timing_table"
   ]
  },
  {
   "cell_type": "code",
   "execution_count": null,
   "metadata": {},
   "outputs": [],
   "source": []
  }
 ],
 "metadata": {
  "kernelspec": {
   "display_name": "Python 3 (ipykernel)",
   "language": "python",
   "name": "python3"
  },
  "language_info": {
   "codemirror_mode": {
    "name": "ipython",
    "version": 3
   },
   "file_extension": ".py",
   "mimetype": "text/x-python",
   "name": "python",
   "nbconvert_exporter": "python",
   "pygments_lexer": "ipython3",
   "version": "3.11.5"
  }
 },
 "nbformat": 4,
 "nbformat_minor": 4
}
