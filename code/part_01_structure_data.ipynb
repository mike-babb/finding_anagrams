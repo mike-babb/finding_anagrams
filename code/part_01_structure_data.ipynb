{
 "cells": [
  {
   "cell_type": "markdown",
   "metadata": {},
   "source": [
    "# Find Anagrams - Part 01\n",
    "# Structure the data\n",
    "Mike Babb  \n",
    "babb.mike@outlook.com"
   ]
  },
  {
   "cell_type": "code",
   "execution_count": 1,
   "metadata": {},
   "outputs": [],
   "source": [
    "# standard libraries\n",
    "import collections\n",
    "import string"
   ]
  },
  {
   "cell_type": "code",
   "execution_count": 2,
   "metadata": {},
   "outputs": [],
   "source": [
    "# external libraries\n",
    "import numpy as np\n",
    "import matplotlib.pyplot as plt\n",
    "import seaborn as sns"
   ]
  },
  {
   "cell_type": "code",
   "execution_count": 3,
   "metadata": {},
   "outputs": [],
   "source": [
    "# custom, user-defined functions\n",
    "import _run_constants as rc\n",
    "from part_00_file_db_utils import *"
   ]
  },
  {
   "cell_type": "markdown",
   "metadata": {},
   "source": [
    "### set input and output paths"
   ]
  },
  {
   "cell_type": "code",
   "execution_count": 4,
   "metadata": {},
   "outputs": [
    {
     "name": "stdout",
     "output_type": "stream",
     "text": [
      "\\project\\finding_anagrams\\data exists\n"
     ]
    }
   ],
   "source": [
    "create_path(data_output_file_path=rc.DATA_OUTPUT_FILE_PATH)"
   ]
  },
  {
   "cell_type": "code",
   "execution_count": 5,
   "metadata": {},
   "outputs": [],
   "source": [
    "# construct the input file path using the information in the run constants\n",
    "in_fpn = os.path.join(rc.IN_FILE_PATH, rc.IN_FILE_NAME)"
   ]
  },
  {
   "cell_type": "markdown",
   "metadata": {},
   "source": [
    "### import list of words, shape data"
   ]
  },
  {
   "cell_type": "code",
   "execution_count": 6,
   "metadata": {},
   "outputs": [
    {
     "name": "stdout",
     "output_type": "stream",
     "text": [
      "...Reading in list of words...\n"
     ]
    }
   ],
   "source": [
    "# use pandas to load the data\n",
    "# htps://pandas.pydata.org/pandas-docs/stable/reference/api/pandas.read_csv.html\n",
    "print('...Reading in list of words...')\n",
    "word_df = pd.read_csv(filepath_or_buffer=in_fpn, sep=',',\n",
    "                      header=None, names=['word'])"
   ]
  },
  {
   "cell_type": "code",
   "execution_count": 7,
   "metadata": {},
   "outputs": [
    {
     "data": {
      "text/html": [
       "<div>\n",
       "<style scoped>\n",
       "    .dataframe tbody tr th:only-of-type {\n",
       "        vertical-align: middle;\n",
       "    }\n",
       "\n",
       "    .dataframe tbody tr th {\n",
       "        vertical-align: top;\n",
       "    }\n",
       "\n",
       "    .dataframe thead th {\n",
       "        text-align: right;\n",
       "    }\n",
       "</style>\n",
       "<table border=\"1\" class=\"dataframe\">\n",
       "  <thead>\n",
       "    <tr style=\"text-align: right;\">\n",
       "      <th></th>\n",
       "      <th>word</th>\n",
       "    </tr>\n",
       "  </thead>\n",
       "  <tbody>\n",
       "    <tr>\n",
       "      <th>0</th>\n",
       "      <td>A</td>\n",
       "    </tr>\n",
       "    <tr>\n",
       "      <th>1</th>\n",
       "      <td>a</td>\n",
       "    </tr>\n",
       "    <tr>\n",
       "      <th>2</th>\n",
       "      <td>aa</td>\n",
       "    </tr>\n",
       "    <tr>\n",
       "      <th>3</th>\n",
       "      <td>aal</td>\n",
       "    </tr>\n",
       "    <tr>\n",
       "      <th>4</th>\n",
       "      <td>aalii</td>\n",
       "    </tr>\n",
       "  </tbody>\n",
       "</table>\n",
       "</div>"
      ],
      "text/plain": [
       "    word\n",
       "0      A\n",
       "1      a\n",
       "2     aa\n",
       "3    aal\n",
       "4  aalii"
      ]
     },
     "execution_count": 7,
     "metadata": {},
     "output_type": "execute_result"
    }
   ],
   "source": [
    "# check the first few rows\n",
    "word_df.head()"
   ]
  },
  {
   "cell_type": "code",
   "execution_count": 8,
   "metadata": {},
   "outputs": [
    {
     "name": "stdout",
     "output_type": "stream",
     "text": [
      "...found 235,886 words to find anagrams for...\n"
     ]
    }
   ],
   "source": [
    "# how many words are we working with?\n",
    "n_words = len(word_df)\n",
    "print('...found', '{:,}'.format(n_words), 'words to find anagrams for...')"
   ]
  },
  {
   "cell_type": "code",
   "execution_count": 9,
   "metadata": {},
   "outputs": [],
   "source": [
    "# convert the only column to a string - just to be safe.\n",
    "# 'nan' is a word in the dictionary. nan is an internal python value.\n",
    "# same with 'null'\n",
    "word_df['word'] = word_df['word'].astype(str)"
   ]
  },
  {
   "cell_type": "code",
   "execution_count": 10,
   "metadata": {},
   "outputs": [],
   "source": [
    "# create lower case values of the words\n",
    "word_df['lcase'] = word_df['word'].str.lower()"
   ]
  },
  {
   "cell_type": "code",
   "execution_count": 11,
   "metadata": {},
   "outputs": [],
   "source": [
    "# remove hyphens\n",
    "word_df['lcase'] = word_df['lcase'].str.replace('-', '')"
   ]
  },
  {
   "cell_type": "code",
   "execution_count": 12,
   "metadata": {},
   "outputs": [],
   "source": [
    "# and now drop duplicates, based on the lowercase version of each word\n",
    "word_df = word_df.drop_duplicates('lcase')"
   ]
  },
  {
   "cell_type": "code",
   "execution_count": 13,
   "metadata": {},
   "outputs": [
    {
     "data": {
      "text/plain": [
       "(234370, 2)"
      ]
     },
     "execution_count": 13,
     "metadata": {},
     "output_type": "execute_result"
    }
   ],
   "source": [
    "word_df.shape"
   ]
  },
  {
   "cell_type": "code",
   "execution_count": 14,
   "metadata": {},
   "outputs": [],
   "source": [
    "# Approximately 234K words. That's a lot of words."
   ]
  },
  {
   "cell_type": "code",
   "execution_count": 15,
   "metadata": {},
   "outputs": [],
   "source": [
    "# find word length\n",
    "word_df['n_chars'] = word_df['lcase'].str.len()"
   ]
  },
  {
   "cell_type": "code",
   "execution_count": 16,
   "metadata": {},
   "outputs": [],
   "source": [
    "# extract the first letter of each word\n",
    "word_df['first_letter'] = word_df['lcase'].str[:1]"
   ]
  },
  {
   "cell_type": "code",
   "execution_count": 17,
   "metadata": {},
   "outputs": [],
   "source": [
    "# create an id\n",
    "word_df['word_id'] = range(0, len(word_df))"
   ]
  },
  {
   "cell_type": "code",
   "execution_count": 18,
   "metadata": {},
   "outputs": [],
   "source": [
    "# add a hash id to capture the sorted letters in each word\n",
    "# use map() with a lambda function to chain several operations together\n",
    "# https://pandas.pydata.org/pandas-docs/stable/reference/api/pandas.Series.map.html\n",
    "# as an example of what this is doing..."
   ]
  },
  {
   "cell_type": "code",
   "execution_count": 19,
   "metadata": {},
   "outputs": [
    {
     "data": {
      "text/plain": [
       "['a', 'e', 'e', 'l', 'm', 'p', 'x']"
      ]
     },
     "execution_count": 19,
     "metadata": {},
     "output_type": "execute_result"
    }
   ],
   "source": [
    "# sort\n",
    "sorted('example')"
   ]
  },
  {
   "cell_type": "code",
   "execution_count": 20,
   "metadata": {},
   "outputs": [
    {
     "data": {
      "text/plain": [
       "'aeelmpx'"
      ]
     },
     "execution_count": 20,
     "metadata": {},
     "output_type": "execute_result"
    }
   ],
   "source": [
    "# join individual letters into a string\n",
    "''.join(sorted('example'))"
   ]
  },
  {
   "cell_type": "code",
   "execution_count": 21,
   "metadata": {},
   "outputs": [
    {
     "data": {
      "text/plain": [
       "-4541243685954599731"
      ]
     },
     "execution_count": 21,
     "metadata": {},
     "output_type": "execute_result"
    }
   ],
   "source": [
    "# combine all of the steps into\n",
    "hash(''.join(sorted('example')))"
   ]
  },
  {
   "cell_type": "code",
   "execution_count": 22,
   "metadata": {},
   "outputs": [],
   "source": [
    "# now, do this for all 234K words.\n",
    "word_df['hash_id'] = word_df['lcase'].map(lambda x: hash(''.join(sorted(x))))"
   ]
  },
  {
   "cell_type": "code",
   "execution_count": 23,
   "metadata": {},
   "outputs": [
    {
     "data": {
      "text/html": [
       "<div>\n",
       "<style scoped>\n",
       "    .dataframe tbody tr th:only-of-type {\n",
       "        vertical-align: middle;\n",
       "    }\n",
       "\n",
       "    .dataframe tbody tr th {\n",
       "        vertical-align: top;\n",
       "    }\n",
       "\n",
       "    .dataframe thead th {\n",
       "        text-align: right;\n",
       "    }\n",
       "</style>\n",
       "<table border=\"1\" class=\"dataframe\">\n",
       "  <thead>\n",
       "    <tr style=\"text-align: right;\">\n",
       "      <th></th>\n",
       "      <th>word</th>\n",
       "      <th>lcase</th>\n",
       "      <th>n_chars</th>\n",
       "      <th>first_letter</th>\n",
       "      <th>word_id</th>\n",
       "      <th>hash_id</th>\n",
       "    </tr>\n",
       "  </thead>\n",
       "  <tbody>\n",
       "    <tr>\n",
       "      <th>0</th>\n",
       "      <td>A</td>\n",
       "      <td>a</td>\n",
       "      <td>1</td>\n",
       "      <td>a</td>\n",
       "      <td>0</td>\n",
       "      <td>8392623377410914431</td>\n",
       "    </tr>\n",
       "    <tr>\n",
       "      <th>2</th>\n",
       "      <td>aa</td>\n",
       "      <td>aa</td>\n",
       "      <td>2</td>\n",
       "      <td>a</td>\n",
       "      <td>1</td>\n",
       "      <td>1862947001004379689</td>\n",
       "    </tr>\n",
       "    <tr>\n",
       "      <th>3</th>\n",
       "      <td>aal</td>\n",
       "      <td>aal</td>\n",
       "      <td>3</td>\n",
       "      <td>a</td>\n",
       "      <td>2</td>\n",
       "      <td>5232638623450174623</td>\n",
       "    </tr>\n",
       "    <tr>\n",
       "      <th>4</th>\n",
       "      <td>aalii</td>\n",
       "      <td>aalii</td>\n",
       "      <td>5</td>\n",
       "      <td>a</td>\n",
       "      <td>3</td>\n",
       "      <td>1358580059351371399</td>\n",
       "    </tr>\n",
       "    <tr>\n",
       "      <th>5</th>\n",
       "      <td>aam</td>\n",
       "      <td>aam</td>\n",
       "      <td>3</td>\n",
       "      <td>a</td>\n",
       "      <td>4</td>\n",
       "      <td>-2719937470045982907</td>\n",
       "    </tr>\n",
       "  </tbody>\n",
       "</table>\n",
       "</div>"
      ],
      "text/plain": [
       "    word  lcase  n_chars first_letter  word_id              hash_id\n",
       "0      A      a        1            a        0  8392623377410914431\n",
       "2     aa     aa        2            a        1  1862947001004379689\n",
       "3    aal    aal        3            a        2  5232638623450174623\n",
       "4  aalii  aalii        5            a        3  1358580059351371399\n",
       "5    aam    aam        3            a        4 -2719937470045982907"
      ]
     },
     "execution_count": 23,
     "metadata": {},
     "output_type": "execute_result"
    }
   ],
   "source": [
    "word_df.head()"
   ]
  },
  {
   "cell_type": "code",
   "execution_count": 24,
   "metadata": {},
   "outputs": [
    {
     "data": {
      "text/plain": [
       "(215842,)"
      ]
     },
     "execution_count": 24,
     "metadata": {},
     "output_type": "execute_result"
    }
   ],
   "source": [
    "# 234K words, but after sorting the letters in each word, there are about 216K unique words.\n",
    "word_df['hash_id'].unique().shape"
   ]
  },
  {
   "cell_type": "code",
   "execution_count": 25,
   "metadata": {},
   "outputs": [
    {
     "data": {
      "text/plain": [
       "0.9209455135042881"
      ]
     },
     "execution_count": 25,
     "metadata": {},
     "output_type": "execute_result"
    }
   ],
   "source": [
    "# what is the percentage?\n",
    "word_df['hash_id'].unique().shape[0] / word_df.shape[0]"
   ]
  },
  {
   "cell_type": "code",
   "execution_count": 26,
   "metadata": {},
   "outputs": [],
   "source": [
    "# about 8% of words are in word groups"
   ]
  },
  {
   "cell_type": "code",
   "execution_count": 27,
   "metadata": {},
   "outputs": [],
   "source": [
    "# create a dataframe of the unique, hashed values\n",
    "word_id_hash_id_df = word_df['hash_id'].drop_duplicates().to_frame()"
   ]
  },
  {
   "cell_type": "code",
   "execution_count": 28,
   "metadata": {},
   "outputs": [],
   "source": [
    "# add a unique id\n",
    "word_id_hash_id_df['word_group_id'] = range(0, len(word_id_hash_id_df))"
   ]
  },
  {
   "cell_type": "code",
   "execution_count": 29,
   "metadata": {},
   "outputs": [
    {
     "data": {
      "text/plain": [
       "(215842, 2)"
      ]
     },
     "execution_count": 29,
     "metadata": {},
     "output_type": "execute_result"
    }
   ],
   "source": [
    "word_id_hash_id_df.shape"
   ]
  },
  {
   "cell_type": "code",
   "execution_count": 30,
   "metadata": {},
   "outputs": [],
   "source": [
    "# create a dictionary using dictionary comprehension of the hash values using zip\n",
    "# https://docs.python.org/3/library/functions.html#zip\n",
    "hash_id_dict = {hash_id: word_group_id for word_group_id, hash_id in zip(\n",
    "    word_id_hash_id_df['word_group_id'], word_id_hash_id_df['hash_id'])}"
   ]
  },
  {
   "cell_type": "code",
   "execution_count": 31,
   "metadata": {},
   "outputs": [],
   "source": [
    "# apply the word group id to the\n",
    "word_df['word_group_id'] = word_df['hash_id'].map(hash_id_dict)"
   ]
  },
  {
   "cell_type": "code",
   "execution_count": 32,
   "metadata": {},
   "outputs": [],
   "source": [
    "# drop the hash id, no longer needed\n",
    "word_df = word_df.drop(labels='hash_id', axis=1)"
   ]
  },
  {
   "cell_type": "code",
   "execution_count": 33,
   "metadata": {},
   "outputs": [
    {
     "data": {
      "text/html": [
       "<div>\n",
       "<style scoped>\n",
       "    .dataframe tbody tr th:only-of-type {\n",
       "        vertical-align: middle;\n",
       "    }\n",
       "\n",
       "    .dataframe tbody tr th {\n",
       "        vertical-align: top;\n",
       "    }\n",
       "\n",
       "    .dataframe thead th {\n",
       "        text-align: right;\n",
       "    }\n",
       "</style>\n",
       "<table border=\"1\" class=\"dataframe\">\n",
       "  <thead>\n",
       "    <tr style=\"text-align: right;\">\n",
       "      <th></th>\n",
       "      <th>word</th>\n",
       "      <th>lcase</th>\n",
       "      <th>n_chars</th>\n",
       "      <th>first_letter</th>\n",
       "      <th>word_id</th>\n",
       "      <th>word_group_id</th>\n",
       "    </tr>\n",
       "  </thead>\n",
       "  <tbody>\n",
       "    <tr>\n",
       "      <th>235881</th>\n",
       "      <td>zythem</td>\n",
       "      <td>zythem</td>\n",
       "      <td>6</td>\n",
       "      <td>z</td>\n",
       "      <td>234365</td>\n",
       "      <td>215837</td>\n",
       "    </tr>\n",
       "    <tr>\n",
       "      <th>235882</th>\n",
       "      <td>Zythia</td>\n",
       "      <td>zythia</td>\n",
       "      <td>6</td>\n",
       "      <td>z</td>\n",
       "      <td>234366</td>\n",
       "      <td>215838</td>\n",
       "    </tr>\n",
       "    <tr>\n",
       "      <th>235883</th>\n",
       "      <td>zythum</td>\n",
       "      <td>zythum</td>\n",
       "      <td>6</td>\n",
       "      <td>z</td>\n",
       "      <td>234367</td>\n",
       "      <td>215839</td>\n",
       "    </tr>\n",
       "    <tr>\n",
       "      <th>235884</th>\n",
       "      <td>Zyzomys</td>\n",
       "      <td>zyzomys</td>\n",
       "      <td>7</td>\n",
       "      <td>z</td>\n",
       "      <td>234368</td>\n",
       "      <td>215840</td>\n",
       "    </tr>\n",
       "    <tr>\n",
       "      <th>235885</th>\n",
       "      <td>Zyzzogeton</td>\n",
       "      <td>zyzzogeton</td>\n",
       "      <td>10</td>\n",
       "      <td>z</td>\n",
       "      <td>234369</td>\n",
       "      <td>215841</td>\n",
       "    </tr>\n",
       "  </tbody>\n",
       "</table>\n",
       "</div>"
      ],
      "text/plain": [
       "              word       lcase  n_chars first_letter  word_id  word_group_id\n",
       "235881      zythem      zythem        6            z   234365         215837\n",
       "235882      Zythia      zythia        6            z   234366         215838\n",
       "235883      zythum      zythum        6            z   234367         215839\n",
       "235884     Zyzomys     zyzomys        7            z   234368         215840\n",
       "235885  Zyzzogeton  zyzzogeton       10            z   234369         215841"
      ]
     },
     "execution_count": 33,
     "metadata": {},
     "output_type": "execute_result"
    }
   ],
   "source": [
    "word_df.tail()"
   ]
  },
  {
   "cell_type": "markdown",
   "metadata": {},
   "source": [
    "# create dictionaries for fast look ups "
   ]
  },
  {
   "cell_type": "code",
   "execution_count": 34,
   "metadata": {},
   "outputs": [],
   "source": [
    "# use dictionary comprehension to store the letter and letter index\n",
    "# of the letter for fast look ups\n",
    "# we'll import the letters from string.ascii_lowercase\n",
    "letter_dict = {l: li for li, l in enumerate(string.ascii_lowercase)}"
   ]
  },
  {
   "cell_type": "code",
   "execution_count": 35,
   "metadata": {},
   "outputs": [],
   "source": [
    "# generate a list of letters from the string.ascii_lowercase\n",
    "letters = string.ascii_lowercase"
   ]
  },
  {
   "cell_type": "markdown",
   "metadata": {},
   "source": [
    "# create the letter groups"
   ]
  },
  {
   "cell_type": "code",
   "execution_count": 36,
   "metadata": {},
   "outputs": [],
   "source": [
    "# get the unique letters in each word and then sort those letters\n",
    "word_df['letter_group'] = word_df['lcase'].map(\n",
    "    lambda x: ''.join(sorted(set(x))))"
   ]
  },
  {
   "cell_type": "code",
   "execution_count": 37,
   "metadata": {},
   "outputs": [
    {
     "data": {
      "text/html": [
       "<div>\n",
       "<style scoped>\n",
       "    .dataframe tbody tr th:only-of-type {\n",
       "        vertical-align: middle;\n",
       "    }\n",
       "\n",
       "    .dataframe tbody tr th {\n",
       "        vertical-align: top;\n",
       "    }\n",
       "\n",
       "    .dataframe thead th {\n",
       "        text-align: right;\n",
       "    }\n",
       "</style>\n",
       "<table border=\"1\" class=\"dataframe\">\n",
       "  <thead>\n",
       "    <tr style=\"text-align: right;\">\n",
       "      <th></th>\n",
       "      <th>word</th>\n",
       "      <th>lcase</th>\n",
       "      <th>n_chars</th>\n",
       "      <th>first_letter</th>\n",
       "      <th>word_id</th>\n",
       "      <th>word_group_id</th>\n",
       "      <th>letter_group</th>\n",
       "    </tr>\n",
       "  </thead>\n",
       "  <tbody>\n",
       "    <tr>\n",
       "      <th>0</th>\n",
       "      <td>A</td>\n",
       "      <td>a</td>\n",
       "      <td>1</td>\n",
       "      <td>a</td>\n",
       "      <td>0</td>\n",
       "      <td>0</td>\n",
       "      <td>a</td>\n",
       "    </tr>\n",
       "    <tr>\n",
       "      <th>2</th>\n",
       "      <td>aa</td>\n",
       "      <td>aa</td>\n",
       "      <td>2</td>\n",
       "      <td>a</td>\n",
       "      <td>1</td>\n",
       "      <td>1</td>\n",
       "      <td>a</td>\n",
       "    </tr>\n",
       "    <tr>\n",
       "      <th>3</th>\n",
       "      <td>aal</td>\n",
       "      <td>aal</td>\n",
       "      <td>3</td>\n",
       "      <td>a</td>\n",
       "      <td>2</td>\n",
       "      <td>2</td>\n",
       "      <td>al</td>\n",
       "    </tr>\n",
       "    <tr>\n",
       "      <th>4</th>\n",
       "      <td>aalii</td>\n",
       "      <td>aalii</td>\n",
       "      <td>5</td>\n",
       "      <td>a</td>\n",
       "      <td>3</td>\n",
       "      <td>3</td>\n",
       "      <td>ail</td>\n",
       "    </tr>\n",
       "    <tr>\n",
       "      <th>5</th>\n",
       "      <td>aam</td>\n",
       "      <td>aam</td>\n",
       "      <td>3</td>\n",
       "      <td>a</td>\n",
       "      <td>4</td>\n",
       "      <td>4</td>\n",
       "      <td>am</td>\n",
       "    </tr>\n",
       "  </tbody>\n",
       "</table>\n",
       "</div>"
      ],
      "text/plain": [
       "    word  lcase  n_chars first_letter  word_id  word_group_id letter_group\n",
       "0      A      a        1            a        0              0            a\n",
       "2     aa     aa        2            a        1              1            a\n",
       "3    aal    aal        3            a        2              2           al\n",
       "4  aalii  aalii        5            a        3              3          ail\n",
       "5    aam    aam        3            a        4              4           am"
      ]
     },
     "execution_count": 37,
     "metadata": {},
     "output_type": "execute_result"
    }
   ],
   "source": [
    "word_df.head()"
   ]
  },
  {
   "cell_type": "markdown",
   "metadata": {},
   "source": [
    "### count letter frequency"
   ]
  },
  {
   "cell_type": "code",
   "execution_count": 38,
   "metadata": {},
   "outputs": [],
   "source": [
    "# several versions of the anagram determination technique require subsetting by letters in each word.\n",
    "# generate those data and use a ranking technique to help with anagram group identification"
   ]
  },
  {
   "cell_type": "code",
   "execution_count": 39,
   "metadata": {},
   "outputs": [],
   "source": [
    "# use a counter object to count the total occurences of each letter AND\n",
    "# a counter to count the number of words that feature each letter\n",
    "# counters are a special type of dictionary.\n",
    "# https://docs.python.org/3/library/collections.html#collections.Counter\n",
    "# very fast\n",
    "total_letter_counter = collections.Counter()\n",
    "single_letter_counter = collections.Counter()\n",
    "\n",
    "# enumerate each word and then each letter\n",
    "for curr_word in word_df['lcase'].to_numpy():\n",
    "    total_letter_counter.update(list(curr_word))\n",
    "\n",
    "for curr_letter_group in word_df['letter_group'].to_numpy():\n",
    "    single_letter_counter.update(list(curr_letter_group))"
   ]
  },
  {
   "cell_type": "code",
   "execution_count": 40,
   "metadata": {},
   "outputs": [],
   "source": [
    "# make a dataframe from the counter object\n",
    "letter_count_df = pd.DataFrame.from_dict(data=total_letter_counter, orient='index', columns=[\n",
    "                                         'total_letter_count']).reset_index(names=['letter'])"
   ]
  },
  {
   "cell_type": "code",
   "execution_count": 41,
   "metadata": {},
   "outputs": [
    {
     "data": {
      "text/html": [
       "<div>\n",
       "<style scoped>\n",
       "    .dataframe tbody tr th:only-of-type {\n",
       "        vertical-align: middle;\n",
       "    }\n",
       "\n",
       "    .dataframe tbody tr th {\n",
       "        vertical-align: top;\n",
       "    }\n",
       "\n",
       "    .dataframe thead th {\n",
       "        text-align: right;\n",
       "    }\n",
       "</style>\n",
       "<table border=\"1\" class=\"dataframe\">\n",
       "  <thead>\n",
       "    <tr style=\"text-align: right;\">\n",
       "      <th></th>\n",
       "      <th>letter</th>\n",
       "      <th>total_letter_count</th>\n",
       "    </tr>\n",
       "  </thead>\n",
       "  <tbody>\n",
       "    <tr>\n",
       "      <th>0</th>\n",
       "      <td>a</td>\n",
       "      <td>198359</td>\n",
       "    </tr>\n",
       "    <tr>\n",
       "      <th>1</th>\n",
       "      <td>l</td>\n",
       "      <td>129962</td>\n",
       "    </tr>\n",
       "    <tr>\n",
       "      <th>2</th>\n",
       "      <td>i</td>\n",
       "      <td>200272</td>\n",
       "    </tr>\n",
       "    <tr>\n",
       "      <th>3</th>\n",
       "      <td>m</td>\n",
       "      <td>70358</td>\n",
       "    </tr>\n",
       "    <tr>\n",
       "      <th>4</th>\n",
       "      <td>n</td>\n",
       "      <td>158116</td>\n",
       "    </tr>\n",
       "    <tr>\n",
       "      <th>5</th>\n",
       "      <td>r</td>\n",
       "      <td>160284</td>\n",
       "    </tr>\n",
       "    <tr>\n",
       "      <th>6</th>\n",
       "      <td>d</td>\n",
       "      <td>67966</td>\n",
       "    </tr>\n",
       "    <tr>\n",
       "      <th>7</th>\n",
       "      <td>v</td>\n",
       "      <td>20109</td>\n",
       "    </tr>\n",
       "    <tr>\n",
       "      <th>8</th>\n",
       "      <td>k</td>\n",
       "      <td>16032</td>\n",
       "    </tr>\n",
       "    <tr>\n",
       "      <th>9</th>\n",
       "      <td>w</td>\n",
       "      <td>13803</td>\n",
       "    </tr>\n",
       "    <tr>\n",
       "      <th>10</th>\n",
       "      <td>o</td>\n",
       "      <td>170115</td>\n",
       "    </tr>\n",
       "    <tr>\n",
       "      <th>11</th>\n",
       "      <td>f</td>\n",
       "      <td>24104</td>\n",
       "    </tr>\n",
       "    <tr>\n",
       "      <th>12</th>\n",
       "      <td>c</td>\n",
       "      <td>103021</td>\n",
       "    </tr>\n",
       "    <tr>\n",
       "      <th>13</th>\n",
       "      <td>t</td>\n",
       "      <td>152237</td>\n",
       "    </tr>\n",
       "    <tr>\n",
       "      <th>14</th>\n",
       "      <td>e</td>\n",
       "      <td>234526</td>\n",
       "    </tr>\n",
       "    <tr>\n",
       "      <th>15</th>\n",
       "      <td>u</td>\n",
       "      <td>87021</td>\n",
       "    </tr>\n",
       "    <tr>\n",
       "      <th>16</th>\n",
       "      <td>b</td>\n",
       "      <td>40214</td>\n",
       "    </tr>\n",
       "    <tr>\n",
       "      <th>17</th>\n",
       "      <td>h</td>\n",
       "      <td>64115</td>\n",
       "    </tr>\n",
       "    <tr>\n",
       "      <th>18</th>\n",
       "      <td>y</td>\n",
       "      <td>51475</td>\n",
       "    </tr>\n",
       "    <tr>\n",
       "      <th>19</th>\n",
       "      <td>s</td>\n",
       "      <td>138993</td>\n",
       "    </tr>\n",
       "    <tr>\n",
       "      <th>20</th>\n",
       "      <td>p</td>\n",
       "      <td>77879</td>\n",
       "    </tr>\n",
       "    <tr>\n",
       "      <th>21</th>\n",
       "      <td>g</td>\n",
       "      <td>46889</td>\n",
       "    </tr>\n",
       "    <tr>\n",
       "      <th>22</th>\n",
       "      <td>z</td>\n",
       "      <td>8428</td>\n",
       "    </tr>\n",
       "    <tr>\n",
       "      <th>23</th>\n",
       "      <td>x</td>\n",
       "      <td>6898</td>\n",
       "    </tr>\n",
       "    <tr>\n",
       "      <th>24</th>\n",
       "      <td>j</td>\n",
       "      <td>3112</td>\n",
       "    </tr>\n",
       "    <tr>\n",
       "      <th>25</th>\n",
       "      <td>q</td>\n",
       "      <td>3717</td>\n",
       "    </tr>\n",
       "  </tbody>\n",
       "</table>\n",
       "</div>"
      ],
      "text/plain": [
       "   letter  total_letter_count\n",
       "0       a              198359\n",
       "1       l              129962\n",
       "2       i              200272\n",
       "3       m               70358\n",
       "4       n              158116\n",
       "5       r              160284\n",
       "6       d               67966\n",
       "7       v               20109\n",
       "8       k               16032\n",
       "9       w               13803\n",
       "10      o              170115\n",
       "11      f               24104\n",
       "12      c              103021\n",
       "13      t              152237\n",
       "14      e              234526\n",
       "15      u               87021\n",
       "16      b               40214\n",
       "17      h               64115\n",
       "18      y               51475\n",
       "19      s              138993\n",
       "20      p               77879\n",
       "21      g               46889\n",
       "22      z                8428\n",
       "23      x                6898\n",
       "24      j                3112\n",
       "25      q                3717"
      ]
     },
     "execution_count": 41,
     "metadata": {},
     "output_type": "execute_result"
    }
   ],
   "source": [
    "letter_count_df"
   ]
  },
  {
   "cell_type": "code",
   "execution_count": 42,
   "metadata": {},
   "outputs": [],
   "source": [
    "# 'a' is used 198,359 times in total.\n",
    "# This is different than the number of words that feature the letter a at least once"
   ]
  },
  {
   "cell_type": "code",
   "execution_count": 43,
   "metadata": {},
   "outputs": [],
   "source": [
    "# this ration indicates how often a letter is used only once or multiple times\n",
    "letter_count_df['single_letter_count'] = letter_count_df['letter'].map(\n",
    "    single_letter_counter)"
   ]
  },
  {
   "cell_type": "code",
   "execution_count": 44,
   "metadata": {},
   "outputs": [
    {
     "data": {
      "text/html": [
       "<div>\n",
       "<style scoped>\n",
       "    .dataframe tbody tr th:only-of-type {\n",
       "        vertical-align: middle;\n",
       "    }\n",
       "\n",
       "    .dataframe tbody tr th {\n",
       "        vertical-align: top;\n",
       "    }\n",
       "\n",
       "    .dataframe thead th {\n",
       "        text-align: right;\n",
       "    }\n",
       "</style>\n",
       "<table border=\"1\" class=\"dataframe\">\n",
       "  <thead>\n",
       "    <tr style=\"text-align: right;\">\n",
       "      <th></th>\n",
       "      <th>letter</th>\n",
       "      <th>total_letter_count</th>\n",
       "      <th>single_letter_count</th>\n",
       "    </tr>\n",
       "  </thead>\n",
       "  <tbody>\n",
       "    <tr>\n",
       "      <th>0</th>\n",
       "      <td>a</td>\n",
       "      <td>198359</td>\n",
       "      <td>144511</td>\n",
       "    </tr>\n",
       "    <tr>\n",
       "      <th>1</th>\n",
       "      <td>l</td>\n",
       "      <td>129962</td>\n",
       "      <td>104989</td>\n",
       "    </tr>\n",
       "    <tr>\n",
       "      <th>2</th>\n",
       "      <td>i</td>\n",
       "      <td>200272</td>\n",
       "      <td>144651</td>\n",
       "    </tr>\n",
       "    <tr>\n",
       "      <th>3</th>\n",
       "      <td>m</td>\n",
       "      <td>70358</td>\n",
       "      <td>62486</td>\n",
       "    </tr>\n",
       "    <tr>\n",
       "      <th>4</th>\n",
       "      <td>n</td>\n",
       "      <td>158116</td>\n",
       "      <td>120538</td>\n",
       "    </tr>\n",
       "  </tbody>\n",
       "</table>\n",
       "</div>"
      ],
      "text/plain": [
       "  letter  total_letter_count  single_letter_count\n",
       "0      a              198359               144511\n",
       "1      l              129962               104989\n",
       "2      i              200272               144651\n",
       "3      m               70358                62486\n",
       "4      n              158116               120538"
      ]
     },
     "execution_count": 44,
     "metadata": {},
     "output_type": "execute_result"
    }
   ],
   "source": [
    "letter_count_df.head()"
   ]
  },
  {
   "cell_type": "code",
   "execution_count": 45,
   "metadata": {},
   "outputs": [],
   "source": [
    "letter_count_df['sl_tl_ratio'] = letter_count_df['single_letter_count'] / \\\n",
    "    letter_count_df['total_letter_count']"
   ]
  },
  {
   "cell_type": "code",
   "execution_count": 46,
   "metadata": {},
   "outputs": [
    {
     "data": {
      "text/html": [
       "<div>\n",
       "<style scoped>\n",
       "    .dataframe tbody tr th:only-of-type {\n",
       "        vertical-align: middle;\n",
       "    }\n",
       "\n",
       "    .dataframe tbody tr th {\n",
       "        vertical-align: top;\n",
       "    }\n",
       "\n",
       "    .dataframe thead th {\n",
       "        text-align: right;\n",
       "    }\n",
       "</style>\n",
       "<table border=\"1\" class=\"dataframe\">\n",
       "  <thead>\n",
       "    <tr style=\"text-align: right;\">\n",
       "      <th></th>\n",
       "      <th>letter</th>\n",
       "      <th>total_letter_count</th>\n",
       "      <th>single_letter_count</th>\n",
       "      <th>sl_tl_ratio</th>\n",
       "    </tr>\n",
       "  </thead>\n",
       "  <tbody>\n",
       "    <tr>\n",
       "      <th>0</th>\n",
       "      <td>a</td>\n",
       "      <td>198359</td>\n",
       "      <td>144511</td>\n",
       "      <td>0.728533</td>\n",
       "    </tr>\n",
       "    <tr>\n",
       "      <th>1</th>\n",
       "      <td>l</td>\n",
       "      <td>129962</td>\n",
       "      <td>104989</td>\n",
       "      <td>0.807844</td>\n",
       "    </tr>\n",
       "    <tr>\n",
       "      <th>2</th>\n",
       "      <td>i</td>\n",
       "      <td>200272</td>\n",
       "      <td>144651</td>\n",
       "      <td>0.722273</td>\n",
       "    </tr>\n",
       "    <tr>\n",
       "      <th>3</th>\n",
       "      <td>m</td>\n",
       "      <td>70358</td>\n",
       "      <td>62486</td>\n",
       "      <td>0.888115</td>\n",
       "    </tr>\n",
       "    <tr>\n",
       "      <th>4</th>\n",
       "      <td>n</td>\n",
       "      <td>158116</td>\n",
       "      <td>120538</td>\n",
       "      <td>0.762339</td>\n",
       "    </tr>\n",
       "    <tr>\n",
       "      <th>5</th>\n",
       "      <td>r</td>\n",
       "      <td>160284</td>\n",
       "      <td>128458</td>\n",
       "      <td>0.801440</td>\n",
       "    </tr>\n",
       "    <tr>\n",
       "      <th>6</th>\n",
       "      <td>d</td>\n",
       "      <td>67966</td>\n",
       "      <td>60650</td>\n",
       "      <td>0.892358</td>\n",
       "    </tr>\n",
       "    <tr>\n",
       "      <th>7</th>\n",
       "      <td>v</td>\n",
       "      <td>20109</td>\n",
       "      <td>19346</td>\n",
       "      <td>0.962057</td>\n",
       "    </tr>\n",
       "    <tr>\n",
       "      <th>8</th>\n",
       "      <td>k</td>\n",
       "      <td>16032</td>\n",
       "      <td>15153</td>\n",
       "      <td>0.945172</td>\n",
       "    </tr>\n",
       "    <tr>\n",
       "      <th>9</th>\n",
       "      <td>w</td>\n",
       "      <td>13803</td>\n",
       "      <td>13158</td>\n",
       "      <td>0.953271</td>\n",
       "    </tr>\n",
       "    <tr>\n",
       "      <th>10</th>\n",
       "      <td>o</td>\n",
       "      <td>170115</td>\n",
       "      <td>122891</td>\n",
       "      <td>0.722400</td>\n",
       "    </tr>\n",
       "    <tr>\n",
       "      <th>11</th>\n",
       "      <td>f</td>\n",
       "      <td>24104</td>\n",
       "      <td>21743</td>\n",
       "      <td>0.902049</td>\n",
       "    </tr>\n",
       "    <tr>\n",
       "      <th>12</th>\n",
       "      <td>c</td>\n",
       "      <td>103021</td>\n",
       "      <td>85776</td>\n",
       "      <td>0.832607</td>\n",
       "    </tr>\n",
       "    <tr>\n",
       "      <th>13</th>\n",
       "      <td>t</td>\n",
       "      <td>152237</td>\n",
       "      <td>119832</td>\n",
       "      <td>0.787141</td>\n",
       "    </tr>\n",
       "    <tr>\n",
       "      <th>14</th>\n",
       "      <td>e</td>\n",
       "      <td>234526</td>\n",
       "      <td>157437</td>\n",
       "      <td>0.671299</td>\n",
       "    </tr>\n",
       "    <tr>\n",
       "      <th>15</th>\n",
       "      <td>u</td>\n",
       "      <td>87021</td>\n",
       "      <td>75262</td>\n",
       "      <td>0.864872</td>\n",
       "    </tr>\n",
       "    <tr>\n",
       "      <th>16</th>\n",
       "      <td>b</td>\n",
       "      <td>40214</td>\n",
       "      <td>37353</td>\n",
       "      <td>0.928856</td>\n",
       "    </tr>\n",
       "    <tr>\n",
       "      <th>17</th>\n",
       "      <td>h</td>\n",
       "      <td>64115</td>\n",
       "      <td>56937</td>\n",
       "      <td>0.888045</td>\n",
       "    </tr>\n",
       "    <tr>\n",
       "      <th>18</th>\n",
       "      <td>y</td>\n",
       "      <td>51475</td>\n",
       "      <td>48370</td>\n",
       "      <td>0.939679</td>\n",
       "    </tr>\n",
       "    <tr>\n",
       "      <th>19</th>\n",
       "      <td>s</td>\n",
       "      <td>138993</td>\n",
       "      <td>103107</td>\n",
       "      <td>0.741814</td>\n",
       "    </tr>\n",
       "    <tr>\n",
       "      <th>20</th>\n",
       "      <td>p</td>\n",
       "      <td>77879</td>\n",
       "      <td>67333</td>\n",
       "      <td>0.864585</td>\n",
       "    </tr>\n",
       "    <tr>\n",
       "      <th>21</th>\n",
       "      <td>g</td>\n",
       "      <td>46889</td>\n",
       "      <td>43074</td>\n",
       "      <td>0.918638</td>\n",
       "    </tr>\n",
       "    <tr>\n",
       "      <th>22</th>\n",
       "      <td>z</td>\n",
       "      <td>8428</td>\n",
       "      <td>8012</td>\n",
       "      <td>0.950641</td>\n",
       "    </tr>\n",
       "    <tr>\n",
       "      <th>23</th>\n",
       "      <td>x</td>\n",
       "      <td>6898</td>\n",
       "      <td>6870</td>\n",
       "      <td>0.995941</td>\n",
       "    </tr>\n",
       "    <tr>\n",
       "      <th>24</th>\n",
       "      <td>j</td>\n",
       "      <td>3112</td>\n",
       "      <td>3073</td>\n",
       "      <td>0.987468</td>\n",
       "    </tr>\n",
       "    <tr>\n",
       "      <th>25</th>\n",
       "      <td>q</td>\n",
       "      <td>3717</td>\n",
       "      <td>3624</td>\n",
       "      <td>0.974980</td>\n",
       "    </tr>\n",
       "  </tbody>\n",
       "</table>\n",
       "</div>"
      ],
      "text/plain": [
       "   letter  total_letter_count  single_letter_count  sl_tl_ratio\n",
       "0       a              198359               144511     0.728533\n",
       "1       l              129962               104989     0.807844\n",
       "2       i              200272               144651     0.722273\n",
       "3       m               70358                62486     0.888115\n",
       "4       n              158116               120538     0.762339\n",
       "5       r              160284               128458     0.801440\n",
       "6       d               67966                60650     0.892358\n",
       "7       v               20109                19346     0.962057\n",
       "8       k               16032                15153     0.945172\n",
       "9       w               13803                13158     0.953271\n",
       "10      o              170115               122891     0.722400\n",
       "11      f               24104                21743     0.902049\n",
       "12      c              103021                85776     0.832607\n",
       "13      t              152237               119832     0.787141\n",
       "14      e              234526               157437     0.671299\n",
       "15      u               87021                75262     0.864872\n",
       "16      b               40214                37353     0.928856\n",
       "17      h               64115                56937     0.888045\n",
       "18      y               51475                48370     0.939679\n",
       "19      s              138993               103107     0.741814\n",
       "20      p               77879                67333     0.864585\n",
       "21      g               46889                43074     0.918638\n",
       "22      z                8428                 8012     0.950641\n",
       "23      x                6898                 6870     0.995941\n",
       "24      j                3112                 3073     0.987468\n",
       "25      q                3717                 3624     0.974980"
      ]
     },
     "execution_count": 46,
     "metadata": {},
     "output_type": "execute_result"
    }
   ],
   "source": [
    "letter_count_df"
   ]
  },
  {
   "cell_type": "code",
   "execution_count": 47,
   "metadata": {},
   "outputs": [],
   "source": [
    "# in this case, 'a' is featured in 144,511 words, but used 198,359 times\n",
    "# across all wors"
   ]
  },
  {
   "cell_type": "code",
   "execution_count": 48,
   "metadata": {},
   "outputs": [],
   "source": [
    "# compute the total letter rank and the single_letter_count\n",
    "letter_count_df['total_letter_rank'] = letter_count_df['total_letter_count'].rank(\n",
    "    ascending=False).astype(int)\n",
    "letter_count_df['single_letter_rank'] = letter_count_df['single_letter_count'].rank(\n",
    "    ascending=False).astype(int)"
   ]
  },
  {
   "cell_type": "code",
   "execution_count": 49,
   "metadata": {},
   "outputs": [
    {
     "data": {
      "text/html": [
       "<div>\n",
       "<style scoped>\n",
       "    .dataframe tbody tr th:only-of-type {\n",
       "        vertical-align: middle;\n",
       "    }\n",
       "\n",
       "    .dataframe tbody tr th {\n",
       "        vertical-align: top;\n",
       "    }\n",
       "\n",
       "    .dataframe thead th {\n",
       "        text-align: right;\n",
       "    }\n",
       "</style>\n",
       "<table border=\"1\" class=\"dataframe\">\n",
       "  <thead>\n",
       "    <tr style=\"text-align: right;\">\n",
       "      <th></th>\n",
       "      <th>letter</th>\n",
       "      <th>total_letter_count</th>\n",
       "      <th>single_letter_count</th>\n",
       "      <th>sl_tl_ratio</th>\n",
       "      <th>total_letter_rank</th>\n",
       "      <th>single_letter_rank</th>\n",
       "    </tr>\n",
       "  </thead>\n",
       "  <tbody>\n",
       "    <tr>\n",
       "      <th>0</th>\n",
       "      <td>a</td>\n",
       "      <td>198359</td>\n",
       "      <td>144511</td>\n",
       "      <td>0.728533</td>\n",
       "      <td>3</td>\n",
       "      <td>3</td>\n",
       "    </tr>\n",
       "    <tr>\n",
       "      <th>1</th>\n",
       "      <td>l</td>\n",
       "      <td>129962</td>\n",
       "      <td>104989</td>\n",
       "      <td>0.807844</td>\n",
       "      <td>9</td>\n",
       "      <td>8</td>\n",
       "    </tr>\n",
       "    <tr>\n",
       "      <th>2</th>\n",
       "      <td>i</td>\n",
       "      <td>200272</td>\n",
       "      <td>144651</td>\n",
       "      <td>0.722273</td>\n",
       "      <td>2</td>\n",
       "      <td>2</td>\n",
       "    </tr>\n",
       "    <tr>\n",
       "      <th>3</th>\n",
       "      <td>m</td>\n",
       "      <td>70358</td>\n",
       "      <td>62486</td>\n",
       "      <td>0.888115</td>\n",
       "      <td>13</td>\n",
       "      <td>13</td>\n",
       "    </tr>\n",
       "    <tr>\n",
       "      <th>4</th>\n",
       "      <td>n</td>\n",
       "      <td>158116</td>\n",
       "      <td>120538</td>\n",
       "      <td>0.762339</td>\n",
       "      <td>6</td>\n",
       "      <td>6</td>\n",
       "    </tr>\n",
       "  </tbody>\n",
       "</table>\n",
       "</div>"
      ],
      "text/plain": [
       "  letter  total_letter_count  single_letter_count  sl_tl_ratio  \\\n",
       "0      a              198359               144511     0.728533   \n",
       "1      l              129962               104989     0.807844   \n",
       "2      i              200272               144651     0.722273   \n",
       "3      m               70358                62486     0.888115   \n",
       "4      n              158116               120538     0.762339   \n",
       "\n",
       "   total_letter_rank  single_letter_rank  \n",
       "0                  3                   3  \n",
       "1                  9                   8  \n",
       "2                  2                   2  \n",
       "3                 13                  13  \n",
       "4                  6                   6  "
      ]
     },
     "execution_count": 49,
     "metadata": {},
     "output_type": "execute_result"
    }
   ],
   "source": [
    "letter_count_df.head()"
   ]
  },
  {
   "cell_type": "code",
   "execution_count": 50,
   "metadata": {},
   "outputs": [],
   "source": [
    "# sort by letter count\n",
    "letter_count_df = letter_count_df.sort_values(\n",
    "    by='total_letter_count', ascending=False)"
   ]
  },
  {
   "cell_type": "code",
   "execution_count": 51,
   "metadata": {},
   "outputs": [],
   "source": [
    "letter_count_df['total_letter_percent'] = letter_count_df['total_letter_count'] / \\\n",
    "    letter_count_df['total_letter_count'].sum()\n",
    "\n",
    "\n",
    "# note the denomiantor - we are computing which wo rds have a letter, most words have multiple letters.\n",
    "\n",
    "# two thirds of words feature the letter 'e'. Wow.\n",
    "\n",
    "letter_count_df['single_letter_percent'] = letter_count_df['single_letter_count'] / word_df.shape[0]"
   ]
  },
  {
   "cell_type": "code",
   "execution_count": 52,
   "metadata": {},
   "outputs": [
    {
     "data": {
      "text/html": [
       "<div>\n",
       "<style scoped>\n",
       "    .dataframe tbody tr th:only-of-type {\n",
       "        vertical-align: middle;\n",
       "    }\n",
       "\n",
       "    .dataframe tbody tr th {\n",
       "        vertical-align: top;\n",
       "    }\n",
       "\n",
       "    .dataframe thead th {\n",
       "        text-align: right;\n",
       "    }\n",
       "</style>\n",
       "<table border=\"1\" class=\"dataframe\">\n",
       "  <thead>\n",
       "    <tr style=\"text-align: right;\">\n",
       "      <th></th>\n",
       "      <th>letter</th>\n",
       "      <th>total_letter_count</th>\n",
       "      <th>single_letter_count</th>\n",
       "      <th>sl_tl_ratio</th>\n",
       "      <th>total_letter_rank</th>\n",
       "      <th>single_letter_rank</th>\n",
       "      <th>total_letter_percent</th>\n",
       "      <th>single_letter_percent</th>\n",
       "    </tr>\n",
       "  </thead>\n",
       "  <tbody>\n",
       "    <tr>\n",
       "      <th>14</th>\n",
       "      <td>e</td>\n",
       "      <td>234526</td>\n",
       "      <td>157437</td>\n",
       "      <td>0.671299</td>\n",
       "      <td>1</td>\n",
       "      <td>1</td>\n",
       "      <td>0.104326</td>\n",
       "      <td>0.671746</td>\n",
       "    </tr>\n",
       "    <tr>\n",
       "      <th>2</th>\n",
       "      <td>i</td>\n",
       "      <td>200272</td>\n",
       "      <td>144651</td>\n",
       "      <td>0.722273</td>\n",
       "      <td>2</td>\n",
       "      <td>2</td>\n",
       "      <td>0.089089</td>\n",
       "      <td>0.617191</td>\n",
       "    </tr>\n",
       "    <tr>\n",
       "      <th>0</th>\n",
       "      <td>a</td>\n",
       "      <td>198359</td>\n",
       "      <td>144511</td>\n",
       "      <td>0.728533</td>\n",
       "      <td>3</td>\n",
       "      <td>3</td>\n",
       "      <td>0.088238</td>\n",
       "      <td>0.616593</td>\n",
       "    </tr>\n",
       "    <tr>\n",
       "      <th>10</th>\n",
       "      <td>o</td>\n",
       "      <td>170115</td>\n",
       "      <td>122891</td>\n",
       "      <td>0.722400</td>\n",
       "      <td>4</td>\n",
       "      <td>5</td>\n",
       "      <td>0.075674</td>\n",
       "      <td>0.524346</td>\n",
       "    </tr>\n",
       "    <tr>\n",
       "      <th>5</th>\n",
       "      <td>r</td>\n",
       "      <td>160284</td>\n",
       "      <td>128458</td>\n",
       "      <td>0.801440</td>\n",
       "      <td>5</td>\n",
       "      <td>4</td>\n",
       "      <td>0.071301</td>\n",
       "      <td>0.548099</td>\n",
       "    </tr>\n",
       "    <tr>\n",
       "      <th>4</th>\n",
       "      <td>n</td>\n",
       "      <td>158116</td>\n",
       "      <td>120538</td>\n",
       "      <td>0.762339</td>\n",
       "      <td>6</td>\n",
       "      <td>6</td>\n",
       "      <td>0.070336</td>\n",
       "      <td>0.514306</td>\n",
       "    </tr>\n",
       "    <tr>\n",
       "      <th>13</th>\n",
       "      <td>t</td>\n",
       "      <td>152237</td>\n",
       "      <td>119832</td>\n",
       "      <td>0.787141</td>\n",
       "      <td>7</td>\n",
       "      <td>7</td>\n",
       "      <td>0.067721</td>\n",
       "      <td>0.511294</td>\n",
       "    </tr>\n",
       "    <tr>\n",
       "      <th>19</th>\n",
       "      <td>s</td>\n",
       "      <td>138993</td>\n",
       "      <td>103107</td>\n",
       "      <td>0.741814</td>\n",
       "      <td>8</td>\n",
       "      <td>9</td>\n",
       "      <td>0.061829</td>\n",
       "      <td>0.439933</td>\n",
       "    </tr>\n",
       "    <tr>\n",
       "      <th>1</th>\n",
       "      <td>l</td>\n",
       "      <td>129962</td>\n",
       "      <td>104989</td>\n",
       "      <td>0.807844</td>\n",
       "      <td>9</td>\n",
       "      <td>8</td>\n",
       "      <td>0.057812</td>\n",
       "      <td>0.447963</td>\n",
       "    </tr>\n",
       "    <tr>\n",
       "      <th>12</th>\n",
       "      <td>c</td>\n",
       "      <td>103021</td>\n",
       "      <td>85776</td>\n",
       "      <td>0.832607</td>\n",
       "      <td>10</td>\n",
       "      <td>10</td>\n",
       "      <td>0.045828</td>\n",
       "      <td>0.365985</td>\n",
       "    </tr>\n",
       "    <tr>\n",
       "      <th>15</th>\n",
       "      <td>u</td>\n",
       "      <td>87021</td>\n",
       "      <td>75262</td>\n",
       "      <td>0.864872</td>\n",
       "      <td>11</td>\n",
       "      <td>11</td>\n",
       "      <td>0.038710</td>\n",
       "      <td>0.321125</td>\n",
       "    </tr>\n",
       "    <tr>\n",
       "      <th>20</th>\n",
       "      <td>p</td>\n",
       "      <td>77879</td>\n",
       "      <td>67333</td>\n",
       "      <td>0.864585</td>\n",
       "      <td>12</td>\n",
       "      <td>12</td>\n",
       "      <td>0.034644</td>\n",
       "      <td>0.287294</td>\n",
       "    </tr>\n",
       "    <tr>\n",
       "      <th>3</th>\n",
       "      <td>m</td>\n",
       "      <td>70358</td>\n",
       "      <td>62486</td>\n",
       "      <td>0.888115</td>\n",
       "      <td>13</td>\n",
       "      <td>13</td>\n",
       "      <td>0.031298</td>\n",
       "      <td>0.266613</td>\n",
       "    </tr>\n",
       "    <tr>\n",
       "      <th>6</th>\n",
       "      <td>d</td>\n",
       "      <td>67966</td>\n",
       "      <td>60650</td>\n",
       "      <td>0.892358</td>\n",
       "      <td>14</td>\n",
       "      <td>14</td>\n",
       "      <td>0.030234</td>\n",
       "      <td>0.258779</td>\n",
       "    </tr>\n",
       "    <tr>\n",
       "      <th>17</th>\n",
       "      <td>h</td>\n",
       "      <td>64115</td>\n",
       "      <td>56937</td>\n",
       "      <td>0.888045</td>\n",
       "      <td>15</td>\n",
       "      <td>15</td>\n",
       "      <td>0.028521</td>\n",
       "      <td>0.242936</td>\n",
       "    </tr>\n",
       "    <tr>\n",
       "      <th>18</th>\n",
       "      <td>y</td>\n",
       "      <td>51475</td>\n",
       "      <td>48370</td>\n",
       "      <td>0.939679</td>\n",
       "      <td>16</td>\n",
       "      <td>16</td>\n",
       "      <td>0.022898</td>\n",
       "      <td>0.206383</td>\n",
       "    </tr>\n",
       "    <tr>\n",
       "      <th>21</th>\n",
       "      <td>g</td>\n",
       "      <td>46889</td>\n",
       "      <td>43074</td>\n",
       "      <td>0.918638</td>\n",
       "      <td>17</td>\n",
       "      <td>17</td>\n",
       "      <td>0.020858</td>\n",
       "      <td>0.183786</td>\n",
       "    </tr>\n",
       "    <tr>\n",
       "      <th>16</th>\n",
       "      <td>b</td>\n",
       "      <td>40214</td>\n",
       "      <td>37353</td>\n",
       "      <td>0.928856</td>\n",
       "      <td>18</td>\n",
       "      <td>18</td>\n",
       "      <td>0.017889</td>\n",
       "      <td>0.159376</td>\n",
       "    </tr>\n",
       "    <tr>\n",
       "      <th>11</th>\n",
       "      <td>f</td>\n",
       "      <td>24104</td>\n",
       "      <td>21743</td>\n",
       "      <td>0.902049</td>\n",
       "      <td>19</td>\n",
       "      <td>19</td>\n",
       "      <td>0.010722</td>\n",
       "      <td>0.092772</td>\n",
       "    </tr>\n",
       "    <tr>\n",
       "      <th>7</th>\n",
       "      <td>v</td>\n",
       "      <td>20109</td>\n",
       "      <td>19346</td>\n",
       "      <td>0.962057</td>\n",
       "      <td>20</td>\n",
       "      <td>20</td>\n",
       "      <td>0.008945</td>\n",
       "      <td>0.082545</td>\n",
       "    </tr>\n",
       "    <tr>\n",
       "      <th>8</th>\n",
       "      <td>k</td>\n",
       "      <td>16032</td>\n",
       "      <td>15153</td>\n",
       "      <td>0.945172</td>\n",
       "      <td>21</td>\n",
       "      <td>21</td>\n",
       "      <td>0.007132</td>\n",
       "      <td>0.064654</td>\n",
       "    </tr>\n",
       "    <tr>\n",
       "      <th>9</th>\n",
       "      <td>w</td>\n",
       "      <td>13803</td>\n",
       "      <td>13158</td>\n",
       "      <td>0.953271</td>\n",
       "      <td>22</td>\n",
       "      <td>22</td>\n",
       "      <td>0.006140</td>\n",
       "      <td>0.056142</td>\n",
       "    </tr>\n",
       "    <tr>\n",
       "      <th>22</th>\n",
       "      <td>z</td>\n",
       "      <td>8428</td>\n",
       "      <td>8012</td>\n",
       "      <td>0.950641</td>\n",
       "      <td>23</td>\n",
       "      <td>23</td>\n",
       "      <td>0.003749</td>\n",
       "      <td>0.034185</td>\n",
       "    </tr>\n",
       "    <tr>\n",
       "      <th>23</th>\n",
       "      <td>x</td>\n",
       "      <td>6898</td>\n",
       "      <td>6870</td>\n",
       "      <td>0.995941</td>\n",
       "      <td>24</td>\n",
       "      <td>24</td>\n",
       "      <td>0.003068</td>\n",
       "      <td>0.029313</td>\n",
       "    </tr>\n",
       "    <tr>\n",
       "      <th>25</th>\n",
       "      <td>q</td>\n",
       "      <td>3717</td>\n",
       "      <td>3624</td>\n",
       "      <td>0.974980</td>\n",
       "      <td>25</td>\n",
       "      <td>25</td>\n",
       "      <td>0.001653</td>\n",
       "      <td>0.015463</td>\n",
       "    </tr>\n",
       "    <tr>\n",
       "      <th>24</th>\n",
       "      <td>j</td>\n",
       "      <td>3112</td>\n",
       "      <td>3073</td>\n",
       "      <td>0.987468</td>\n",
       "      <td>26</td>\n",
       "      <td>26</td>\n",
       "      <td>0.001384</td>\n",
       "      <td>0.013112</td>\n",
       "    </tr>\n",
       "  </tbody>\n",
       "</table>\n",
       "</div>"
      ],
      "text/plain": [
       "   letter  total_letter_count  single_letter_count  sl_tl_ratio  \\\n",
       "14      e              234526               157437     0.671299   \n",
       "2       i              200272               144651     0.722273   \n",
       "0       a              198359               144511     0.728533   \n",
       "10      o              170115               122891     0.722400   \n",
       "5       r              160284               128458     0.801440   \n",
       "4       n              158116               120538     0.762339   \n",
       "13      t              152237               119832     0.787141   \n",
       "19      s              138993               103107     0.741814   \n",
       "1       l              129962               104989     0.807844   \n",
       "12      c              103021                85776     0.832607   \n",
       "15      u               87021                75262     0.864872   \n",
       "20      p               77879                67333     0.864585   \n",
       "3       m               70358                62486     0.888115   \n",
       "6       d               67966                60650     0.892358   \n",
       "17      h               64115                56937     0.888045   \n",
       "18      y               51475                48370     0.939679   \n",
       "21      g               46889                43074     0.918638   \n",
       "16      b               40214                37353     0.928856   \n",
       "11      f               24104                21743     0.902049   \n",
       "7       v               20109                19346     0.962057   \n",
       "8       k               16032                15153     0.945172   \n",
       "9       w               13803                13158     0.953271   \n",
       "22      z                8428                 8012     0.950641   \n",
       "23      x                6898                 6870     0.995941   \n",
       "25      q                3717                 3624     0.974980   \n",
       "24      j                3112                 3073     0.987468   \n",
       "\n",
       "    total_letter_rank  single_letter_rank  total_letter_percent  \\\n",
       "14                  1                   1              0.104326   \n",
       "2                   2                   2              0.089089   \n",
       "0                   3                   3              0.088238   \n",
       "10                  4                   5              0.075674   \n",
       "5                   5                   4              0.071301   \n",
       "4                   6                   6              0.070336   \n",
       "13                  7                   7              0.067721   \n",
       "19                  8                   9              0.061829   \n",
       "1                   9                   8              0.057812   \n",
       "12                 10                  10              0.045828   \n",
       "15                 11                  11              0.038710   \n",
       "20                 12                  12              0.034644   \n",
       "3                  13                  13              0.031298   \n",
       "6                  14                  14              0.030234   \n",
       "17                 15                  15              0.028521   \n",
       "18                 16                  16              0.022898   \n",
       "21                 17                  17              0.020858   \n",
       "16                 18                  18              0.017889   \n",
       "11                 19                  19              0.010722   \n",
       "7                  20                  20              0.008945   \n",
       "8                  21                  21              0.007132   \n",
       "9                  22                  22              0.006140   \n",
       "22                 23                  23              0.003749   \n",
       "23                 24                  24              0.003068   \n",
       "25                 25                  25              0.001653   \n",
       "24                 26                  26              0.001384   \n",
       "\n",
       "    single_letter_percent  \n",
       "14               0.671746  \n",
       "2                0.617191  \n",
       "0                0.616593  \n",
       "10               0.524346  \n",
       "5                0.548099  \n",
       "4                0.514306  \n",
       "13               0.511294  \n",
       "19               0.439933  \n",
       "1                0.447963  \n",
       "12               0.365985  \n",
       "15               0.321125  \n",
       "20               0.287294  \n",
       "3                0.266613  \n",
       "6                0.258779  \n",
       "17               0.242936  \n",
       "18               0.206383  \n",
       "21               0.183786  \n",
       "16               0.159376  \n",
       "11               0.092772  \n",
       "7                0.082545  \n",
       "8                0.064654  \n",
       "9                0.056142  \n",
       "22               0.034185  \n",
       "23               0.029313  \n",
       "25               0.015463  \n",
       "24               0.013112  "
      ]
     },
     "execution_count": 52,
     "metadata": {},
     "output_type": "execute_result"
    }
   ],
   "source": [
    "letter_count_df.head(n=26)\n",
    "# 'j' is the least common letter while 'e' is the most common letter"
   ]
  },
  {
   "cell_type": "code",
   "execution_count": 53,
   "metadata": {
    "tags": []
   },
   "outputs": [
    {
     "data": {
      "text/plain": [
       "2248005"
      ]
     },
     "execution_count": 53,
     "metadata": {},
     "output_type": "execute_result"
    }
   ],
   "source": [
    "# across all words, how many letters are used?\n",
    "letter_count_df['total_letter_count'].sum()"
   ]
  },
  {
   "cell_type": "code",
   "execution_count": 54,
   "metadata": {},
   "outputs": [],
   "source": [
    "# join with the count of words that start with a focal letter."
   ]
  },
  {
   "cell_type": "code",
   "execution_count": 55,
   "metadata": {},
   "outputs": [],
   "source": [
    "fl_count_df = word_df['first_letter'].groupby(word_df['first_letter']).agg(\n",
    "    np.size).to_frame(name='first_letter_word_count').reset_index(names=['letter'])"
   ]
  },
  {
   "cell_type": "code",
   "execution_count": 56,
   "metadata": {},
   "outputs": [
    {
     "data": {
      "text/html": [
       "<div>\n",
       "<style scoped>\n",
       "    .dataframe tbody tr th:only-of-type {\n",
       "        vertical-align: middle;\n",
       "    }\n",
       "\n",
       "    .dataframe tbody tr th {\n",
       "        vertical-align: top;\n",
       "    }\n",
       "\n",
       "    .dataframe thead th {\n",
       "        text-align: right;\n",
       "    }\n",
       "</style>\n",
       "<table border=\"1\" class=\"dataframe\">\n",
       "  <thead>\n",
       "    <tr style=\"text-align: right;\">\n",
       "      <th></th>\n",
       "      <th>letter</th>\n",
       "      <th>first_letter_word_count</th>\n",
       "    </tr>\n",
       "  </thead>\n",
       "  <tbody>\n",
       "    <tr>\n",
       "      <th>0</th>\n",
       "      <td>a</td>\n",
       "      <td>16974</td>\n",
       "    </tr>\n",
       "    <tr>\n",
       "      <th>1</th>\n",
       "      <td>b</td>\n",
       "      <td>10963</td>\n",
       "    </tr>\n",
       "    <tr>\n",
       "      <th>2</th>\n",
       "      <td>c</td>\n",
       "      <td>19783</td>\n",
       "    </tr>\n",
       "    <tr>\n",
       "      <th>3</th>\n",
       "      <td>d</td>\n",
       "      <td>10849</td>\n",
       "    </tr>\n",
       "    <tr>\n",
       "      <th>4</th>\n",
       "      <td>e</td>\n",
       "      <td>8703</td>\n",
       "    </tr>\n",
       "  </tbody>\n",
       "</table>\n",
       "</div>"
      ],
      "text/plain": [
       "  letter  first_letter_word_count\n",
       "0      a                    16974\n",
       "1      b                    10963\n",
       "2      c                    19783\n",
       "3      d                    10849\n",
       "4      e                     8703"
      ]
     },
     "execution_count": 56,
     "metadata": {},
     "output_type": "execute_result"
    }
   ],
   "source": [
    "fl_count_df.head()"
   ]
  },
  {
   "cell_type": "code",
   "execution_count": 57,
   "metadata": {},
   "outputs": [],
   "source": [
    "fl_count_df['first_letter_word_percent'] = fl_count_df['first_letter_word_count'] / \\\n",
    "    fl_count_df['first_letter_word_count'].sum()"
   ]
  },
  {
   "cell_type": "code",
   "execution_count": 58,
   "metadata": {},
   "outputs": [
    {
     "data": {
      "text/html": [
       "<div>\n",
       "<style scoped>\n",
       "    .dataframe tbody tr th:only-of-type {\n",
       "        vertical-align: middle;\n",
       "    }\n",
       "\n",
       "    .dataframe tbody tr th {\n",
       "        vertical-align: top;\n",
       "    }\n",
       "\n",
       "    .dataframe thead th {\n",
       "        text-align: right;\n",
       "    }\n",
       "</style>\n",
       "<table border=\"1\" class=\"dataframe\">\n",
       "  <thead>\n",
       "    <tr style=\"text-align: right;\">\n",
       "      <th></th>\n",
       "      <th>letter</th>\n",
       "      <th>first_letter_word_count</th>\n",
       "      <th>first_letter_word_percent</th>\n",
       "    </tr>\n",
       "  </thead>\n",
       "  <tbody>\n",
       "    <tr>\n",
       "      <th>0</th>\n",
       "      <td>a</td>\n",
       "      <td>16974</td>\n",
       "      <td>0.072424</td>\n",
       "    </tr>\n",
       "    <tr>\n",
       "      <th>1</th>\n",
       "      <td>b</td>\n",
       "      <td>10963</td>\n",
       "      <td>0.046776</td>\n",
       "    </tr>\n",
       "    <tr>\n",
       "      <th>2</th>\n",
       "      <td>c</td>\n",
       "      <td>19783</td>\n",
       "      <td>0.084409</td>\n",
       "    </tr>\n",
       "    <tr>\n",
       "      <th>3</th>\n",
       "      <td>d</td>\n",
       "      <td>10849</td>\n",
       "      <td>0.046290</td>\n",
       "    </tr>\n",
       "    <tr>\n",
       "      <th>4</th>\n",
       "      <td>e</td>\n",
       "      <td>8703</td>\n",
       "      <td>0.037134</td>\n",
       "    </tr>\n",
       "  </tbody>\n",
       "</table>\n",
       "</div>"
      ],
      "text/plain": [
       "  letter  first_letter_word_count  first_letter_word_percent\n",
       "0      a                    16974                   0.072424\n",
       "1      b                    10963                   0.046776\n",
       "2      c                    19783                   0.084409\n",
       "3      d                    10849                   0.046290\n",
       "4      e                     8703                   0.037134"
      ]
     },
     "execution_count": 58,
     "metadata": {},
     "output_type": "execute_result"
    }
   ],
   "source": [
    "fl_count_df.head()"
   ]
  },
  {
   "cell_type": "code",
   "execution_count": 59,
   "metadata": {},
   "outputs": [],
   "source": [
    "fl_count_df['first_letter_rank'] = fl_count_df['first_letter_word_count'].rank(\n",
    "    ascending=False).astype(int)"
   ]
  },
  {
   "cell_type": "code",
   "execution_count": 60,
   "metadata": {},
   "outputs": [
    {
     "data": {
      "text/html": [
       "<div>\n",
       "<style scoped>\n",
       "    .dataframe tbody tr th:only-of-type {\n",
       "        vertical-align: middle;\n",
       "    }\n",
       "\n",
       "    .dataframe tbody tr th {\n",
       "        vertical-align: top;\n",
       "    }\n",
       "\n",
       "    .dataframe thead th {\n",
       "        text-align: right;\n",
       "    }\n",
       "</style>\n",
       "<table border=\"1\" class=\"dataframe\">\n",
       "  <thead>\n",
       "    <tr style=\"text-align: right;\">\n",
       "      <th></th>\n",
       "      <th>letter</th>\n",
       "      <th>first_letter_word_count</th>\n",
       "      <th>first_letter_word_percent</th>\n",
       "      <th>first_letter_rank</th>\n",
       "    </tr>\n",
       "  </thead>\n",
       "  <tbody>\n",
       "    <tr>\n",
       "      <th>0</th>\n",
       "      <td>a</td>\n",
       "      <td>16974</td>\n",
       "      <td>0.072424</td>\n",
       "      <td>4</td>\n",
       "    </tr>\n",
       "    <tr>\n",
       "      <th>1</th>\n",
       "      <td>b</td>\n",
       "      <td>10963</td>\n",
       "      <td>0.046776</td>\n",
       "      <td>8</td>\n",
       "    </tr>\n",
       "    <tr>\n",
       "      <th>2</th>\n",
       "      <td>c</td>\n",
       "      <td>19783</td>\n",
       "      <td>0.084409</td>\n",
       "      <td>3</td>\n",
       "    </tr>\n",
       "    <tr>\n",
       "      <th>3</th>\n",
       "      <td>d</td>\n",
       "      <td>10849</td>\n",
       "      <td>0.046290</td>\n",
       "      <td>9</td>\n",
       "    </tr>\n",
       "    <tr>\n",
       "      <th>4</th>\n",
       "      <td>e</td>\n",
       "      <td>8703</td>\n",
       "      <td>0.037134</td>\n",
       "      <td>13</td>\n",
       "    </tr>\n",
       "  </tbody>\n",
       "</table>\n",
       "</div>"
      ],
      "text/plain": [
       "  letter  first_letter_word_count  first_letter_word_percent  \\\n",
       "0      a                    16974                   0.072424   \n",
       "1      b                    10963                   0.046776   \n",
       "2      c                    19783                   0.084409   \n",
       "3      d                    10849                   0.046290   \n",
       "4      e                     8703                   0.037134   \n",
       "\n",
       "   first_letter_rank  \n",
       "0                  4  \n",
       "1                  8  \n",
       "2                  3  \n",
       "3                  9  \n",
       "4                 13  "
      ]
     },
     "execution_count": 60,
     "metadata": {},
     "output_type": "execute_result"
    }
   ],
   "source": [
    "fl_count_df.head()"
   ]
  },
  {
   "cell_type": "code",
   "execution_count": 61,
   "metadata": {},
   "outputs": [
    {
     "data": {
      "text/html": [
       "<div>\n",
       "<style scoped>\n",
       "    .dataframe tbody tr th:only-of-type {\n",
       "        vertical-align: middle;\n",
       "    }\n",
       "\n",
       "    .dataframe tbody tr th {\n",
       "        vertical-align: top;\n",
       "    }\n",
       "\n",
       "    .dataframe thead th {\n",
       "        text-align: right;\n",
       "    }\n",
       "</style>\n",
       "<table border=\"1\" class=\"dataframe\">\n",
       "  <thead>\n",
       "    <tr style=\"text-align: right;\">\n",
       "      <th></th>\n",
       "      <th>letter</th>\n",
       "      <th>total_letter_count</th>\n",
       "      <th>single_letter_count</th>\n",
       "      <th>sl_tl_ratio</th>\n",
       "      <th>total_letter_rank</th>\n",
       "      <th>single_letter_rank</th>\n",
       "      <th>total_letter_percent</th>\n",
       "      <th>single_letter_percent</th>\n",
       "    </tr>\n",
       "  </thead>\n",
       "  <tbody>\n",
       "    <tr>\n",
       "      <th>14</th>\n",
       "      <td>e</td>\n",
       "      <td>234526</td>\n",
       "      <td>157437</td>\n",
       "      <td>0.671299</td>\n",
       "      <td>1</td>\n",
       "      <td>1</td>\n",
       "      <td>0.104326</td>\n",
       "      <td>0.671746</td>\n",
       "    </tr>\n",
       "    <tr>\n",
       "      <th>2</th>\n",
       "      <td>i</td>\n",
       "      <td>200272</td>\n",
       "      <td>144651</td>\n",
       "      <td>0.722273</td>\n",
       "      <td>2</td>\n",
       "      <td>2</td>\n",
       "      <td>0.089089</td>\n",
       "      <td>0.617191</td>\n",
       "    </tr>\n",
       "    <tr>\n",
       "      <th>0</th>\n",
       "      <td>a</td>\n",
       "      <td>198359</td>\n",
       "      <td>144511</td>\n",
       "      <td>0.728533</td>\n",
       "      <td>3</td>\n",
       "      <td>3</td>\n",
       "      <td>0.088238</td>\n",
       "      <td>0.616593</td>\n",
       "    </tr>\n",
       "    <tr>\n",
       "      <th>10</th>\n",
       "      <td>o</td>\n",
       "      <td>170115</td>\n",
       "      <td>122891</td>\n",
       "      <td>0.722400</td>\n",
       "      <td>4</td>\n",
       "      <td>5</td>\n",
       "      <td>0.075674</td>\n",
       "      <td>0.524346</td>\n",
       "    </tr>\n",
       "    <tr>\n",
       "      <th>5</th>\n",
       "      <td>r</td>\n",
       "      <td>160284</td>\n",
       "      <td>128458</td>\n",
       "      <td>0.801440</td>\n",
       "      <td>5</td>\n",
       "      <td>4</td>\n",
       "      <td>0.071301</td>\n",
       "      <td>0.548099</td>\n",
       "    </tr>\n",
       "  </tbody>\n",
       "</table>\n",
       "</div>"
      ],
      "text/plain": [
       "   letter  total_letter_count  single_letter_count  sl_tl_ratio  \\\n",
       "14      e              234526               157437     0.671299   \n",
       "2       i              200272               144651     0.722273   \n",
       "0       a              198359               144511     0.728533   \n",
       "10      o              170115               122891     0.722400   \n",
       "5       r              160284               128458     0.801440   \n",
       "\n",
       "    total_letter_rank  single_letter_rank  total_letter_percent  \\\n",
       "14                  1                   1              0.104326   \n",
       "2                   2                   2              0.089089   \n",
       "0                   3                   3              0.088238   \n",
       "10                  4                   5              0.075674   \n",
       "5                   5                   4              0.071301   \n",
       "\n",
       "    single_letter_percent  \n",
       "14               0.671746  \n",
       "2                0.617191  \n",
       "0                0.616593  \n",
       "10               0.524346  \n",
       "5                0.548099  "
      ]
     },
     "execution_count": 61,
     "metadata": {},
     "output_type": "execute_result"
    }
   ],
   "source": [
    "letter_count_df.head()"
   ]
  },
  {
   "cell_type": "code",
   "execution_count": 62,
   "metadata": {},
   "outputs": [],
   "source": [
    "# joins\n",
    "letter_count_df = pd.merge(left=letter_count_df, right=fl_count_df,\n",
    "                           left_on=['letter'], right_on=['letter'])"
   ]
  },
  {
   "cell_type": "code",
   "execution_count": 63,
   "metadata": {},
   "outputs": [
    {
     "data": {
      "text/html": [
       "<div>\n",
       "<style scoped>\n",
       "    .dataframe tbody tr th:only-of-type {\n",
       "        vertical-align: middle;\n",
       "    }\n",
       "\n",
       "    .dataframe tbody tr th {\n",
       "        vertical-align: top;\n",
       "    }\n",
       "\n",
       "    .dataframe thead th {\n",
       "        text-align: right;\n",
       "    }\n",
       "</style>\n",
       "<table border=\"1\" class=\"dataframe\">\n",
       "  <thead>\n",
       "    <tr style=\"text-align: right;\">\n",
       "      <th></th>\n",
       "      <th>letter</th>\n",
       "      <th>total_letter_count</th>\n",
       "      <th>single_letter_count</th>\n",
       "      <th>sl_tl_ratio</th>\n",
       "      <th>total_letter_rank</th>\n",
       "      <th>single_letter_rank</th>\n",
       "      <th>total_letter_percent</th>\n",
       "      <th>single_letter_percent</th>\n",
       "      <th>first_letter_word_count</th>\n",
       "      <th>first_letter_word_percent</th>\n",
       "      <th>first_letter_rank</th>\n",
       "    </tr>\n",
       "  </thead>\n",
       "  <tbody>\n",
       "    <tr>\n",
       "      <th>0</th>\n",
       "      <td>e</td>\n",
       "      <td>234526</td>\n",
       "      <td>157437</td>\n",
       "      <td>0.671299</td>\n",
       "      <td>1</td>\n",
       "      <td>1</td>\n",
       "      <td>0.104326</td>\n",
       "      <td>0.671746</td>\n",
       "      <td>8703</td>\n",
       "      <td>0.037134</td>\n",
       "      <td>13</td>\n",
       "    </tr>\n",
       "    <tr>\n",
       "      <th>1</th>\n",
       "      <td>i</td>\n",
       "      <td>200272</td>\n",
       "      <td>144651</td>\n",
       "      <td>0.722273</td>\n",
       "      <td>2</td>\n",
       "      <td>2</td>\n",
       "      <td>0.089089</td>\n",
       "      <td>0.617191</td>\n",
       "      <td>8786</td>\n",
       "      <td>0.037488</td>\n",
       "      <td>12</td>\n",
       "    </tr>\n",
       "    <tr>\n",
       "      <th>2</th>\n",
       "      <td>a</td>\n",
       "      <td>198359</td>\n",
       "      <td>144511</td>\n",
       "      <td>0.728533</td>\n",
       "      <td>3</td>\n",
       "      <td>3</td>\n",
       "      <td>0.088238</td>\n",
       "      <td>0.616593</td>\n",
       "      <td>16974</td>\n",
       "      <td>0.072424</td>\n",
       "      <td>4</td>\n",
       "    </tr>\n",
       "    <tr>\n",
       "      <th>3</th>\n",
       "      <td>o</td>\n",
       "      <td>170115</td>\n",
       "      <td>122891</td>\n",
       "      <td>0.722400</td>\n",
       "      <td>4</td>\n",
       "      <td>5</td>\n",
       "      <td>0.075674</td>\n",
       "      <td>0.524346</td>\n",
       "      <td>7830</td>\n",
       "      <td>0.033409</td>\n",
       "      <td>14</td>\n",
       "    </tr>\n",
       "    <tr>\n",
       "      <th>4</th>\n",
       "      <td>r</td>\n",
       "      <td>160284</td>\n",
       "      <td>128458</td>\n",
       "      <td>0.801440</td>\n",
       "      <td>5</td>\n",
       "      <td>4</td>\n",
       "      <td>0.071301</td>\n",
       "      <td>0.548099</td>\n",
       "      <td>9613</td>\n",
       "      <td>0.041016</td>\n",
       "      <td>10</td>\n",
       "    </tr>\n",
       "  </tbody>\n",
       "</table>\n",
       "</div>"
      ],
      "text/plain": [
       "  letter  total_letter_count  single_letter_count  sl_tl_ratio  \\\n",
       "0      e              234526               157437     0.671299   \n",
       "1      i              200272               144651     0.722273   \n",
       "2      a              198359               144511     0.728533   \n",
       "3      o              170115               122891     0.722400   \n",
       "4      r              160284               128458     0.801440   \n",
       "\n",
       "   total_letter_rank  single_letter_rank  total_letter_percent  \\\n",
       "0                  1                   1              0.104326   \n",
       "1                  2                   2              0.089089   \n",
       "2                  3                   3              0.088238   \n",
       "3                  4                   5              0.075674   \n",
       "4                  5                   4              0.071301   \n",
       "\n",
       "   single_letter_percent  first_letter_word_count  first_letter_word_percent  \\\n",
       "0               0.671746                     8703                   0.037134   \n",
       "1               0.617191                     8786                   0.037488   \n",
       "2               0.616593                    16974                   0.072424   \n",
       "3               0.524346                     7830                   0.033409   \n",
       "4               0.548099                     9613                   0.041016   \n",
       "\n",
       "   first_letter_rank  \n",
       "0                 13  \n",
       "1                 12  \n",
       "2                  4  \n",
       "3                 14  \n",
       "4                 10  "
      ]
     },
     "execution_count": 63,
     "metadata": {},
     "output_type": "execute_result"
    }
   ],
   "source": [
    "letter_count_df.head()"
   ]
  },
  {
   "cell_type": "code",
   "execution_count": 64,
   "metadata": {},
   "outputs": [
    {
     "data": {
      "text/plain": [
       "['letter',\n",
       " 'total_letter_count',\n",
       " 'single_letter_count',\n",
       " 'sl_tl_ratio',\n",
       " 'total_letter_rank',\n",
       " 'single_letter_rank',\n",
       " 'total_letter_percent',\n",
       " 'single_letter_percent',\n",
       " 'first_letter_word_count',\n",
       " 'first_letter_word_percent',\n",
       " 'first_letter_rank']"
      ]
     },
     "execution_count": 64,
     "metadata": {},
     "output_type": "execute_result"
    }
   ],
   "source": [
    "letter_count_df.columns.tolist()"
   ]
  },
  {
   "cell_type": "code",
   "execution_count": 65,
   "metadata": {},
   "outputs": [],
   "source": [
    "# sort the records\n",
    "letter_count_df = letter_count_df.sort_values(by='letter')"
   ]
  },
  {
   "cell_type": "code",
   "execution_count": 66,
   "metadata": {},
   "outputs": [],
   "source": [
    "# reorder columns\n",
    "col_names = ['letter',\n",
    "             'total_letter_count',\n",
    "             'single_letter_count',\n",
    "             'sl_tl_ratio',\n",
    "             'first_letter_word_count',\n",
    "             'total_letter_percent',\n",
    "             'single_letter_percent',\n",
    "             'first_letter_word_percent',\n",
    "             'total_letter_rank',\n",
    "             'single_letter_rank',\n",
    "             'first_letter_rank']\n",
    "letter_count_df = letter_count_df[col_names]"
   ]
  },
  {
   "cell_type": "code",
   "execution_count": 67,
   "metadata": {},
   "outputs": [
    {
     "data": {
      "text/html": [
       "<div>\n",
       "<style scoped>\n",
       "    .dataframe tbody tr th:only-of-type {\n",
       "        vertical-align: middle;\n",
       "    }\n",
       "\n",
       "    .dataframe tbody tr th {\n",
       "        vertical-align: top;\n",
       "    }\n",
       "\n",
       "    .dataframe thead th {\n",
       "        text-align: right;\n",
       "    }\n",
       "</style>\n",
       "<table border=\"1\" class=\"dataframe\">\n",
       "  <thead>\n",
       "    <tr style=\"text-align: right;\">\n",
       "      <th></th>\n",
       "      <th>letter</th>\n",
       "      <th>total_letter_count</th>\n",
       "      <th>single_letter_count</th>\n",
       "      <th>sl_tl_ratio</th>\n",
       "      <th>first_letter_word_count</th>\n",
       "      <th>total_letter_percent</th>\n",
       "      <th>single_letter_percent</th>\n",
       "      <th>first_letter_word_percent</th>\n",
       "      <th>total_letter_rank</th>\n",
       "      <th>single_letter_rank</th>\n",
       "      <th>first_letter_rank</th>\n",
       "    </tr>\n",
       "  </thead>\n",
       "  <tbody>\n",
       "    <tr>\n",
       "      <th>2</th>\n",
       "      <td>a</td>\n",
       "      <td>198359</td>\n",
       "      <td>144511</td>\n",
       "      <td>0.728533</td>\n",
       "      <td>16974</td>\n",
       "      <td>0.088238</td>\n",
       "      <td>0.616593</td>\n",
       "      <td>0.072424</td>\n",
       "      <td>3</td>\n",
       "      <td>3</td>\n",
       "      <td>4</td>\n",
       "    </tr>\n",
       "    <tr>\n",
       "      <th>17</th>\n",
       "      <td>b</td>\n",
       "      <td>40214</td>\n",
       "      <td>37353</td>\n",
       "      <td>0.928856</td>\n",
       "      <td>10963</td>\n",
       "      <td>0.017889</td>\n",
       "      <td>0.159376</td>\n",
       "      <td>0.046776</td>\n",
       "      <td>18</td>\n",
       "      <td>18</td>\n",
       "      <td>8</td>\n",
       "    </tr>\n",
       "    <tr>\n",
       "      <th>9</th>\n",
       "      <td>c</td>\n",
       "      <td>103021</td>\n",
       "      <td>85776</td>\n",
       "      <td>0.832607</td>\n",
       "      <td>19783</td>\n",
       "      <td>0.045828</td>\n",
       "      <td>0.365985</td>\n",
       "      <td>0.084409</td>\n",
       "      <td>10</td>\n",
       "      <td>10</td>\n",
       "      <td>3</td>\n",
       "    </tr>\n",
       "    <tr>\n",
       "      <th>13</th>\n",
       "      <td>d</td>\n",
       "      <td>67966</td>\n",
       "      <td>60650</td>\n",
       "      <td>0.892358</td>\n",
       "      <td>10849</td>\n",
       "      <td>0.030234</td>\n",
       "      <td>0.258779</td>\n",
       "      <td>0.046290</td>\n",
       "      <td>14</td>\n",
       "      <td>14</td>\n",
       "      <td>9</td>\n",
       "    </tr>\n",
       "    <tr>\n",
       "      <th>0</th>\n",
       "      <td>e</td>\n",
       "      <td>234526</td>\n",
       "      <td>157437</td>\n",
       "      <td>0.671299</td>\n",
       "      <td>8703</td>\n",
       "      <td>0.104326</td>\n",
       "      <td>0.671746</td>\n",
       "      <td>0.037134</td>\n",
       "      <td>1</td>\n",
       "      <td>1</td>\n",
       "      <td>13</td>\n",
       "    </tr>\n",
       "  </tbody>\n",
       "</table>\n",
       "</div>"
      ],
      "text/plain": [
       "   letter  total_letter_count  single_letter_count  sl_tl_ratio  \\\n",
       "2       a              198359               144511     0.728533   \n",
       "17      b               40214                37353     0.928856   \n",
       "9       c              103021                85776     0.832607   \n",
       "13      d               67966                60650     0.892358   \n",
       "0       e              234526               157437     0.671299   \n",
       "\n",
       "    first_letter_word_count  total_letter_percent  single_letter_percent  \\\n",
       "2                     16974              0.088238               0.616593   \n",
       "17                    10963              0.017889               0.159376   \n",
       "9                     19783              0.045828               0.365985   \n",
       "13                    10849              0.030234               0.258779   \n",
       "0                      8703              0.104326               0.671746   \n",
       "\n",
       "    first_letter_word_percent  total_letter_rank  single_letter_rank  \\\n",
       "2                    0.072424                  3                   3   \n",
       "17                   0.046776                 18                  18   \n",
       "9                    0.084409                 10                  10   \n",
       "13                   0.046290                 14                  14   \n",
       "0                    0.037134                  1                   1   \n",
       "\n",
       "    first_letter_rank  \n",
       "2                   4  \n",
       "17                  8  \n",
       "9                   3  \n",
       "13                  9  \n",
       "0                  13  "
      ]
     },
     "execution_count": 67,
     "metadata": {},
     "output_type": "execute_result"
    }
   ],
   "source": [
    "letter_count_df.head()"
   ]
  },
  {
   "cell_type": "code",
   "execution_count": 68,
   "metadata": {},
   "outputs": [],
   "source": [
    "# place the letter and its rank into a dictionary\n",
    "# as well as the rank and the corresponding letter\n",
    "# {'k':21, 21:'k'}\n",
    "letter_count_rank_dict = {}\n",
    "for cl, clr in zip(letter_count_df['letter'], letter_count_df['total_letter_rank']):\n",
    "    letter_count_rank_dict[cl] = clr\n",
    "    letter_count_rank_dict[clr] = cl"
   ]
  },
  {
   "cell_type": "code",
   "execution_count": 69,
   "metadata": {},
   "outputs": [
    {
     "data": {
      "text/plain": [
       "'k'"
      ]
     },
     "execution_count": 69,
     "metadata": {},
     "output_type": "execute_result"
    }
   ],
   "source": [
    "# what letter is ranked 21st?\n",
    "letter_count_rank_dict[21]"
   ]
  },
  {
   "cell_type": "code",
   "execution_count": 70,
   "metadata": {},
   "outputs": [
    {
     "data": {
      "text/plain": [
       "21"
      ]
     },
     "execution_count": 70,
     "metadata": {},
     "output_type": "execute_result"
    }
   ],
   "source": [
    "# what is the rank of letter k?\n",
    "letter_count_rank_dict['k']"
   ]
  },
  {
   "cell_type": "code",
   "execution_count": 71,
   "metadata": {},
   "outputs": [],
   "source": [
    "# write a function to order the unique letters in each word by\n",
    "# least common letter to most common letter\n",
    "def get_least_common_letters(x):\n",
    "    if len(x) == 1:\n",
    "        lcl = x\n",
    "    else:\n",
    "        # ranking of each letter\n",
    "        rank_list = [letter_count_rank_dict[curr_letter] for curr_letter in x]\n",
    "        # sort the ranking\n",
    "        rank_list = sorted(rank_list, reverse=True)\n",
    "        # generate the letters sorted by rank\n",
    "        rank_list = [letter_count_rank_dict[curr_letter]\n",
    "                     for curr_letter in rank_list]\n",
    "        lcl = ''.join(rank_list)\n",
    "    return lcl"
   ]
  },
  {
   "cell_type": "code",
   "execution_count": 72,
   "metadata": {},
   "outputs": [],
   "source": [
    "# extract letters by ranking\n",
    "word_df['letter_group_ranked'] = word_df['letter_group'].map(\n",
    "    get_least_common_letters)"
   ]
  },
  {
   "cell_type": "code",
   "execution_count": 73,
   "metadata": {},
   "outputs": [
    {
     "data": {
      "text/html": [
       "<div>\n",
       "<style scoped>\n",
       "    .dataframe tbody tr th:only-of-type {\n",
       "        vertical-align: middle;\n",
       "    }\n",
       "\n",
       "    .dataframe tbody tr th {\n",
       "        vertical-align: top;\n",
       "    }\n",
       "\n",
       "    .dataframe thead th {\n",
       "        text-align: right;\n",
       "    }\n",
       "</style>\n",
       "<table border=\"1\" class=\"dataframe\">\n",
       "  <thead>\n",
       "    <tr style=\"text-align: right;\">\n",
       "      <th></th>\n",
       "      <th>word</th>\n",
       "      <th>lcase</th>\n",
       "      <th>n_chars</th>\n",
       "      <th>first_letter</th>\n",
       "      <th>word_id</th>\n",
       "      <th>word_group_id</th>\n",
       "      <th>letter_group</th>\n",
       "      <th>letter_group_ranked</th>\n",
       "    </tr>\n",
       "  </thead>\n",
       "  <tbody>\n",
       "    <tr>\n",
       "      <th>0</th>\n",
       "      <td>A</td>\n",
       "      <td>a</td>\n",
       "      <td>1</td>\n",
       "      <td>a</td>\n",
       "      <td>0</td>\n",
       "      <td>0</td>\n",
       "      <td>a</td>\n",
       "      <td>a</td>\n",
       "    </tr>\n",
       "    <tr>\n",
       "      <th>2</th>\n",
       "      <td>aa</td>\n",
       "      <td>aa</td>\n",
       "      <td>2</td>\n",
       "      <td>a</td>\n",
       "      <td>1</td>\n",
       "      <td>1</td>\n",
       "      <td>a</td>\n",
       "      <td>a</td>\n",
       "    </tr>\n",
       "    <tr>\n",
       "      <th>3</th>\n",
       "      <td>aal</td>\n",
       "      <td>aal</td>\n",
       "      <td>3</td>\n",
       "      <td>a</td>\n",
       "      <td>2</td>\n",
       "      <td>2</td>\n",
       "      <td>al</td>\n",
       "      <td>la</td>\n",
       "    </tr>\n",
       "    <tr>\n",
       "      <th>4</th>\n",
       "      <td>aalii</td>\n",
       "      <td>aalii</td>\n",
       "      <td>5</td>\n",
       "      <td>a</td>\n",
       "      <td>3</td>\n",
       "      <td>3</td>\n",
       "      <td>ail</td>\n",
       "      <td>lai</td>\n",
       "    </tr>\n",
       "    <tr>\n",
       "      <th>5</th>\n",
       "      <td>aam</td>\n",
       "      <td>aam</td>\n",
       "      <td>3</td>\n",
       "      <td>a</td>\n",
       "      <td>4</td>\n",
       "      <td>4</td>\n",
       "      <td>am</td>\n",
       "      <td>ma</td>\n",
       "    </tr>\n",
       "  </tbody>\n",
       "</table>\n",
       "</div>"
      ],
      "text/plain": [
       "    word  lcase  n_chars first_letter  word_id  word_group_id letter_group  \\\n",
       "0      A      a        1            a        0              0            a   \n",
       "2     aa     aa        2            a        1              1            a   \n",
       "3    aal    aal        3            a        2              2           al   \n",
       "4  aalii  aalii        5            a        3              3          ail   \n",
       "5    aam    aam        3            a        4              4           am   \n",
       "\n",
       "  letter_group_ranked  \n",
       "0                   a  \n",
       "2                   a  \n",
       "3                  la  \n",
       "4                 lai  \n",
       "5                  ma  "
      ]
     },
     "execution_count": 73,
     "metadata": {},
     "output_type": "execute_result"
    }
   ],
   "source": [
    "word_df.head()"
   ]
  },
  {
   "cell_type": "code",
   "execution_count": 74,
   "metadata": {},
   "outputs": [],
   "source": [
    "# we have now computed some statistics about each letter, but we need an object\n",
    "# to track occurences and indices of each letter across all words.\n",
    "# for that, we'll use a matrix. Technically, a numpy array.\n",
    "# we'll call this object the character matrix or the char_matrix\n",
    "# this object will be used heavily in subsequent steps and in general it powers\n",
    "# this analysis."
   ]
  },
  {
   "cell_type": "markdown",
   "metadata": {},
   "source": [
    "### generate and populate the character matrix"
   ]
  },
  {
   "cell_type": "code",
   "execution_count": 75,
   "metadata": {},
   "outputs": [],
   "source": [
    "# count the occurences of each letter in each word and store the results in a matrix\n",
    "# populate the char_matrix and the word_id dictionary\n",
    "# Apply a function to each row in the dataframe\n",
    "# https://pandas.pydata.org/pandas-docs/stable/reference/api/pandas.DataFrame.apply.html\n",
    "\n",
    "# Upon intialization, the char_matrix is zero-filled.\n",
    "# Each row in the char_matrix corresponds to a word.\n",
    "# The char_matrix is 26 columns wide. Each column corresponds to a letter.\n",
    "# ['a','b','c','d','e','f','g','h','i','j','k','l','m','n','o','p','q','r','s','t','u','v','w','x','y','z']\n",
    "# Each cell is a count of the number of times each letter occurs in each word.\n",
    "# the entry for emit (as do the entriees for time, mite, item) has the following value:\n",
    "# [0, 0, 0, 0, 1, 0, 0, 0, 1, 0, 0, 0, 1, 0, 0, 0, 0, 0, 0, 1, 0, 0, 0, 0, 0, 0]\n",
    "# we need to find all words that have matching rows with at least these values.\n",
    "# for example, 'terminator'.\n",
    "# ['a','b','c','d','e','f','g','h','i','j','k','l','m','n','o','p','q','r','s','t','u','v','w','x','y','z']\n",
    "# [1, 0, 0, 0, 1, 0, 0, 0, 1, 0, 0, 0, 1, 1, 1, 0, 0, 2, 0, 2, 0, 0, 0, 0, 0, 0]\n",
    "\n",
    "# the zero-filled matrix will be populated once the\n",
    "# fill_char_matrix() function is applied to the word_df\n",
    "char_matrix = np.zeros(shape=(len(word_df), 26), dtype=int)\n",
    "\n",
    "\n",
    "def fill_char_matrix(row):\n",
    "    # get a word from the current row\n",
    "    curr_word = row['lcase']\n",
    "    ri = row['word_id']  # row index / word index\n",
    "    # populate the char matrix\n",
    "    for i_letter, letter in enumerate(curr_word):\n",
    "        if letter in letter_dict:\n",
    "            # find the corresponding column index of that letter\n",
    "            li = letter_dict[letter]\n",
    "            # increment the count of letters in the current row and current column\n",
    "            char_matrix[ri, li] += 1\n",
    "    return None\n",
    "\n",
    "\n",
    "# catch the output from the function and delete\n",
    "output = word_df.apply(fill_char_matrix, 1)\n",
    "del output"
   ]
  },
  {
   "cell_type": "code",
   "execution_count": 76,
   "metadata": {
    "tags": []
   },
   "outputs": [
    {
     "data": {
      "text/plain": [
       "array([[1, 0, 0, ..., 0, 0, 0],\n",
       "       [2, 0, 0, ..., 0, 0, 0],\n",
       "       [2, 0, 0, ..., 0, 0, 0],\n",
       "       ...,\n",
       "       [0, 0, 0, ..., 0, 1, 1],\n",
       "       [0, 0, 0, ..., 0, 2, 2],\n",
       "       [0, 0, 0, ..., 0, 1, 3]])"
      ]
     },
     "execution_count": 76,
     "metadata": {},
     "output_type": "execute_result"
    }
   ],
   "source": [
    "# what does it look like?\n",
    "char_matrix"
   ]
  },
  {
   "cell_type": "code",
   "execution_count": 77,
   "metadata": {},
   "outputs": [
    {
     "data": {
      "text/plain": [
       "2248005"
      ]
     },
     "execution_count": 77,
     "metadata": {},
     "output_type": "execute_result"
    }
   ],
   "source": [
    "# how many letters are in use in our words?\n",
    "char_matrix.sum()"
   ]
  },
  {
   "cell_type": "code",
   "execution_count": 78,
   "metadata": {},
   "outputs": [
    {
     "data": {
      "text/plain": [
       "2248005"
      ]
     },
     "execution_count": 78,
     "metadata": {},
     "output_type": "execute_result"
    }
   ],
   "source": [
    "# across all words, how many letters are used?\n",
    "letter_count_df['total_letter_count'].sum()"
   ]
  },
  {
   "cell_type": "code",
   "execution_count": 79,
   "metadata": {},
   "outputs": [
    {
     "data": {
      "text/plain": [
       "234526"
      ]
     },
     "execution_count": 79,
     "metadata": {},
     "output_type": "execute_result"
    }
   ],
   "source": [
    "# what if we wanted to see how many times the letter 'e' is used?\n",
    "char_matrix[:, 4].sum()"
   ]
  },
  {
   "cell_type": "code",
   "execution_count": 80,
   "metadata": {},
   "outputs": [
    {
     "data": {
      "text/plain": [
       "234526"
      ]
     },
     "execution_count": 80,
     "metadata": {},
     "output_type": "execute_result"
    }
   ],
   "source": [
    "# this is the same as:\n",
    "total_letter_counter['e']"
   ]
  },
  {
   "cell_type": "code",
   "execution_count": 81,
   "metadata": {},
   "outputs": [
    {
     "data": {
      "text/plain": [
       "0.10432628041307737"
      ]
     },
     "execution_count": 81,
     "metadata": {},
     "output_type": "execute_result"
    }
   ],
   "source": [
    "# what is the percentage of characters that feature the letter 'e'?\n",
    "char_matrix[:, 4].sum() / char_matrix.sum()"
   ]
  },
  {
   "cell_type": "code",
   "execution_count": 82,
   "metadata": {},
   "outputs": [
    {
     "data": {
      "text/html": [
       "<div>\n",
       "<style scoped>\n",
       "    .dataframe tbody tr th:only-of-type {\n",
       "        vertical-align: middle;\n",
       "    }\n",
       "\n",
       "    .dataframe tbody tr th {\n",
       "        vertical-align: top;\n",
       "    }\n",
       "\n",
       "    .dataframe thead th {\n",
       "        text-align: right;\n",
       "    }\n",
       "</style>\n",
       "<table border=\"1\" class=\"dataframe\">\n",
       "  <thead>\n",
       "    <tr style=\"text-align: right;\">\n",
       "      <th></th>\n",
       "      <th>letter</th>\n",
       "      <th>total_letter_count</th>\n",
       "      <th>single_letter_count</th>\n",
       "      <th>sl_tl_ratio</th>\n",
       "      <th>first_letter_word_count</th>\n",
       "      <th>total_letter_percent</th>\n",
       "      <th>single_letter_percent</th>\n",
       "      <th>first_letter_word_percent</th>\n",
       "      <th>total_letter_rank</th>\n",
       "      <th>single_letter_rank</th>\n",
       "      <th>first_letter_rank</th>\n",
       "    </tr>\n",
       "  </thead>\n",
       "  <tbody>\n",
       "    <tr>\n",
       "      <th>2</th>\n",
       "      <td>a</td>\n",
       "      <td>198359</td>\n",
       "      <td>144511</td>\n",
       "      <td>0.728533</td>\n",
       "      <td>16974</td>\n",
       "      <td>0.088238</td>\n",
       "      <td>0.616593</td>\n",
       "      <td>0.072424</td>\n",
       "      <td>3</td>\n",
       "      <td>3</td>\n",
       "      <td>4</td>\n",
       "    </tr>\n",
       "    <tr>\n",
       "      <th>17</th>\n",
       "      <td>b</td>\n",
       "      <td>40214</td>\n",
       "      <td>37353</td>\n",
       "      <td>0.928856</td>\n",
       "      <td>10963</td>\n",
       "      <td>0.017889</td>\n",
       "      <td>0.159376</td>\n",
       "      <td>0.046776</td>\n",
       "      <td>18</td>\n",
       "      <td>18</td>\n",
       "      <td>8</td>\n",
       "    </tr>\n",
       "    <tr>\n",
       "      <th>9</th>\n",
       "      <td>c</td>\n",
       "      <td>103021</td>\n",
       "      <td>85776</td>\n",
       "      <td>0.832607</td>\n",
       "      <td>19783</td>\n",
       "      <td>0.045828</td>\n",
       "      <td>0.365985</td>\n",
       "      <td>0.084409</td>\n",
       "      <td>10</td>\n",
       "      <td>10</td>\n",
       "      <td>3</td>\n",
       "    </tr>\n",
       "    <tr>\n",
       "      <th>13</th>\n",
       "      <td>d</td>\n",
       "      <td>67966</td>\n",
       "      <td>60650</td>\n",
       "      <td>0.892358</td>\n",
       "      <td>10849</td>\n",
       "      <td>0.030234</td>\n",
       "      <td>0.258779</td>\n",
       "      <td>0.046290</td>\n",
       "      <td>14</td>\n",
       "      <td>14</td>\n",
       "      <td>9</td>\n",
       "    </tr>\n",
       "    <tr>\n",
       "      <th>0</th>\n",
       "      <td>e</td>\n",
       "      <td>234526</td>\n",
       "      <td>157437</td>\n",
       "      <td>0.671299</td>\n",
       "      <td>8703</td>\n",
       "      <td>0.104326</td>\n",
       "      <td>0.671746</td>\n",
       "      <td>0.037134</td>\n",
       "      <td>1</td>\n",
       "      <td>1</td>\n",
       "      <td>13</td>\n",
       "    </tr>\n",
       "    <tr>\n",
       "      <th>18</th>\n",
       "      <td>f</td>\n",
       "      <td>24104</td>\n",
       "      <td>21743</td>\n",
       "      <td>0.902049</td>\n",
       "      <td>6836</td>\n",
       "      <td>0.010722</td>\n",
       "      <td>0.092772</td>\n",
       "      <td>0.029168</td>\n",
       "      <td>19</td>\n",
       "      <td>19</td>\n",
       "      <td>15</td>\n",
       "    </tr>\n",
       "    <tr>\n",
       "      <th>16</th>\n",
       "      <td>g</td>\n",
       "      <td>46889</td>\n",
       "      <td>43074</td>\n",
       "      <td>0.918638</td>\n",
       "      <td>6771</td>\n",
       "      <td>0.020858</td>\n",
       "      <td>0.183786</td>\n",
       "      <td>0.028890</td>\n",
       "      <td>17</td>\n",
       "      <td>17</td>\n",
       "      <td>16</td>\n",
       "    </tr>\n",
       "    <tr>\n",
       "      <th>14</th>\n",
       "      <td>h</td>\n",
       "      <td>64115</td>\n",
       "      <td>56937</td>\n",
       "      <td>0.888045</td>\n",
       "      <td>8992</td>\n",
       "      <td>0.028521</td>\n",
       "      <td>0.242936</td>\n",
       "      <td>0.038367</td>\n",
       "      <td>15</td>\n",
       "      <td>15</td>\n",
       "      <td>11</td>\n",
       "    </tr>\n",
       "    <tr>\n",
       "      <th>1</th>\n",
       "      <td>i</td>\n",
       "      <td>200272</td>\n",
       "      <td>144651</td>\n",
       "      <td>0.722273</td>\n",
       "      <td>8786</td>\n",
       "      <td>0.089089</td>\n",
       "      <td>0.617191</td>\n",
       "      <td>0.037488</td>\n",
       "      <td>2</td>\n",
       "      <td>2</td>\n",
       "      <td>12</td>\n",
       "    </tr>\n",
       "    <tr>\n",
       "      <th>25</th>\n",
       "      <td>j</td>\n",
       "      <td>3112</td>\n",
       "      <td>3073</td>\n",
       "      <td>0.987468</td>\n",
       "      <td>1603</td>\n",
       "      <td>0.001384</td>\n",
       "      <td>0.013112</td>\n",
       "      <td>0.006840</td>\n",
       "      <td>26</td>\n",
       "      <td>26</td>\n",
       "      <td>22</td>\n",
       "    </tr>\n",
       "  </tbody>\n",
       "</table>\n",
       "</div>"
      ],
      "text/plain": [
       "   letter  total_letter_count  single_letter_count  sl_tl_ratio  \\\n",
       "2       a              198359               144511     0.728533   \n",
       "17      b               40214                37353     0.928856   \n",
       "9       c              103021                85776     0.832607   \n",
       "13      d               67966                60650     0.892358   \n",
       "0       e              234526               157437     0.671299   \n",
       "18      f               24104                21743     0.902049   \n",
       "16      g               46889                43074     0.918638   \n",
       "14      h               64115                56937     0.888045   \n",
       "1       i              200272               144651     0.722273   \n",
       "25      j                3112                 3073     0.987468   \n",
       "\n",
       "    first_letter_word_count  total_letter_percent  single_letter_percent  \\\n",
       "2                     16974              0.088238               0.616593   \n",
       "17                    10963              0.017889               0.159376   \n",
       "9                     19783              0.045828               0.365985   \n",
       "13                    10849              0.030234               0.258779   \n",
       "0                      8703              0.104326               0.671746   \n",
       "18                     6836              0.010722               0.092772   \n",
       "16                     6771              0.020858               0.183786   \n",
       "14                     8992              0.028521               0.242936   \n",
       "1                      8786              0.089089               0.617191   \n",
       "25                     1603              0.001384               0.013112   \n",
       "\n",
       "    first_letter_word_percent  total_letter_rank  single_letter_rank  \\\n",
       "2                    0.072424                  3                   3   \n",
       "17                   0.046776                 18                  18   \n",
       "9                    0.084409                 10                  10   \n",
       "13                   0.046290                 14                  14   \n",
       "0                    0.037134                  1                   1   \n",
       "18                   0.029168                 19                  19   \n",
       "16                   0.028890                 17                  17   \n",
       "14                   0.038367                 15                  15   \n",
       "1                    0.037488                  2                   2   \n",
       "25                   0.006840                 26                  26   \n",
       "\n",
       "    first_letter_rank  \n",
       "2                   4  \n",
       "17                  8  \n",
       "9                   3  \n",
       "13                  9  \n",
       "0                  13  \n",
       "18                 15  \n",
       "16                 16  \n",
       "14                 11  \n",
       "1                  12  \n",
       "25                 22  "
      ]
     },
     "execution_count": 82,
     "metadata": {},
     "output_type": "execute_result"
    }
   ],
   "source": [
    "letter_count_df.head(n=10)"
   ]
  },
  {
   "cell_type": "code",
   "execution_count": 83,
   "metadata": {},
   "outputs": [
    {
     "name": "stdout",
     "output_type": "stream",
     "text": [
      "a 144511\n",
      "b 37353\n",
      "c 85776\n",
      "d 60650\n",
      "e 157437\n",
      "f 21743\n",
      "g 43074\n",
      "h 56937\n",
      "i 144651\n",
      "j 3073\n",
      "k 15153\n",
      "l 104989\n",
      "m 62486\n",
      "n 120538\n",
      "o 122891\n",
      "p 67333\n",
      "q 3624\n",
      "r 128458\n",
      "s 103107\n",
      "t 119832\n",
      "u 75262\n",
      "v 19346\n",
      "w 13158\n",
      "x 6870\n",
      "y 48370\n",
      "z 8012\n"
     ]
    }
   ],
   "source": [
    "# let's use the char matrix to compute how many words have the letter 'a' in them or the letter 's'.\n",
    "# this is different than the number of times each letter is used\n",
    "# we can save this to our dataframe\n",
    "single_letter_count = []\n",
    "for curr_letter, letter_index in letter_dict.items():\n",
    "    outcome = np.where(char_matrix[:, letter_index] > 0)\n",
    "    n_rows = np.shape(outcome)[1]\n",
    "    print(curr_letter, n_rows)\n",
    "    single_letter_count.append(n_rows)"
   ]
  },
  {
   "cell_type": "code",
   "execution_count": 84,
   "metadata": {},
   "outputs": [
    {
     "data": {
      "text/html": [
       "<div>\n",
       "<style scoped>\n",
       "    .dataframe tbody tr th:only-of-type {\n",
       "        vertical-align: middle;\n",
       "    }\n",
       "\n",
       "    .dataframe tbody tr th {\n",
       "        vertical-align: top;\n",
       "    }\n",
       "\n",
       "    .dataframe thead th {\n",
       "        text-align: right;\n",
       "    }\n",
       "</style>\n",
       "<table border=\"1\" class=\"dataframe\">\n",
       "  <thead>\n",
       "    <tr style=\"text-align: right;\">\n",
       "      <th></th>\n",
       "      <th>letter</th>\n",
       "      <th>single_letter_count</th>\n",
       "    </tr>\n",
       "  </thead>\n",
       "  <tbody>\n",
       "    <tr>\n",
       "      <th>2</th>\n",
       "      <td>a</td>\n",
       "      <td>144511</td>\n",
       "    </tr>\n",
       "    <tr>\n",
       "      <th>17</th>\n",
       "      <td>b</td>\n",
       "      <td>37353</td>\n",
       "    </tr>\n",
       "    <tr>\n",
       "      <th>9</th>\n",
       "      <td>c</td>\n",
       "      <td>85776</td>\n",
       "    </tr>\n",
       "    <tr>\n",
       "      <th>13</th>\n",
       "      <td>d</td>\n",
       "      <td>60650</td>\n",
       "    </tr>\n",
       "    <tr>\n",
       "      <th>0</th>\n",
       "      <td>e</td>\n",
       "      <td>157437</td>\n",
       "    </tr>\n",
       "    <tr>\n",
       "      <th>18</th>\n",
       "      <td>f</td>\n",
       "      <td>21743</td>\n",
       "    </tr>\n",
       "    <tr>\n",
       "      <th>16</th>\n",
       "      <td>g</td>\n",
       "      <td>43074</td>\n",
       "    </tr>\n",
       "    <tr>\n",
       "      <th>14</th>\n",
       "      <td>h</td>\n",
       "      <td>56937</td>\n",
       "    </tr>\n",
       "    <tr>\n",
       "      <th>1</th>\n",
       "      <td>i</td>\n",
       "      <td>144651</td>\n",
       "    </tr>\n",
       "    <tr>\n",
       "      <th>25</th>\n",
       "      <td>j</td>\n",
       "      <td>3073</td>\n",
       "    </tr>\n",
       "    <tr>\n",
       "      <th>20</th>\n",
       "      <td>k</td>\n",
       "      <td>15153</td>\n",
       "    </tr>\n",
       "    <tr>\n",
       "      <th>8</th>\n",
       "      <td>l</td>\n",
       "      <td>104989</td>\n",
       "    </tr>\n",
       "    <tr>\n",
       "      <th>12</th>\n",
       "      <td>m</td>\n",
       "      <td>62486</td>\n",
       "    </tr>\n",
       "    <tr>\n",
       "      <th>5</th>\n",
       "      <td>n</td>\n",
       "      <td>120538</td>\n",
       "    </tr>\n",
       "    <tr>\n",
       "      <th>3</th>\n",
       "      <td>o</td>\n",
       "      <td>122891</td>\n",
       "    </tr>\n",
       "    <tr>\n",
       "      <th>11</th>\n",
       "      <td>p</td>\n",
       "      <td>67333</td>\n",
       "    </tr>\n",
       "    <tr>\n",
       "      <th>24</th>\n",
       "      <td>q</td>\n",
       "      <td>3624</td>\n",
       "    </tr>\n",
       "    <tr>\n",
       "      <th>4</th>\n",
       "      <td>r</td>\n",
       "      <td>128458</td>\n",
       "    </tr>\n",
       "    <tr>\n",
       "      <th>7</th>\n",
       "      <td>s</td>\n",
       "      <td>103107</td>\n",
       "    </tr>\n",
       "    <tr>\n",
       "      <th>6</th>\n",
       "      <td>t</td>\n",
       "      <td>119832</td>\n",
       "    </tr>\n",
       "    <tr>\n",
       "      <th>10</th>\n",
       "      <td>u</td>\n",
       "      <td>75262</td>\n",
       "    </tr>\n",
       "    <tr>\n",
       "      <th>19</th>\n",
       "      <td>v</td>\n",
       "      <td>19346</td>\n",
       "    </tr>\n",
       "    <tr>\n",
       "      <th>21</th>\n",
       "      <td>w</td>\n",
       "      <td>13158</td>\n",
       "    </tr>\n",
       "    <tr>\n",
       "      <th>23</th>\n",
       "      <td>x</td>\n",
       "      <td>6870</td>\n",
       "    </tr>\n",
       "    <tr>\n",
       "      <th>15</th>\n",
       "      <td>y</td>\n",
       "      <td>48370</td>\n",
       "    </tr>\n",
       "    <tr>\n",
       "      <th>22</th>\n",
       "      <td>z</td>\n",
       "      <td>8012</td>\n",
       "    </tr>\n",
       "  </tbody>\n",
       "</table>\n",
       "</div>"
      ],
      "text/plain": [
       "   letter  single_letter_count\n",
       "2       a               144511\n",
       "17      b                37353\n",
       "9       c                85776\n",
       "13      d                60650\n",
       "0       e               157437\n",
       "18      f                21743\n",
       "16      g                43074\n",
       "14      h                56937\n",
       "1       i               144651\n",
       "25      j                 3073\n",
       "20      k                15153\n",
       "8       l               104989\n",
       "12      m                62486\n",
       "5       n               120538\n",
       "3       o               122891\n",
       "11      p                67333\n",
       "24      q                 3624\n",
       "4       r               128458\n",
       "7       s               103107\n",
       "6       t               119832\n",
       "10      u                75262\n",
       "19      v                19346\n",
       "21      w                13158\n",
       "23      x                 6870\n",
       "15      y                48370\n",
       "22      z                 8012"
      ]
     },
     "execution_count": 84,
     "metadata": {},
     "output_type": "execute_result"
    }
   ],
   "source": [
    "# these are the same values as:\n",
    "letter_count_df[['letter', 'single_letter_count']].head(n=26)"
   ]
  },
  {
   "cell_type": "markdown",
   "metadata": {},
   "source": [
    "# Extract and save the word_group dataframes"
   ]
  },
  {
   "cell_type": "code",
   "execution_count": 85,
   "metadata": {},
   "outputs": [],
   "source": [
    "# drop duplicates based on the word group.\n",
    "# by default, this will only keep the first record and it will drop all others\n",
    "wg_df = word_df.drop_duplicates(subset=['word_group_id']).copy()"
   ]
  },
  {
   "cell_type": "code",
   "execution_count": 86,
   "metadata": {},
   "outputs": [],
   "source": [
    "word_group_counter = collections.Counter(word_df['word_group_id'])"
   ]
  },
  {
   "cell_type": "code",
   "execution_count": 87,
   "metadata": {},
   "outputs": [],
   "source": [
    "wg_df['word_group_count'] = wg_df['word_group_id'].map(word_group_counter)"
   ]
  },
  {
   "cell_type": "markdown",
   "metadata": {},
   "source": [
    "### save data to disk - first the char matrix and the letter dictionary"
   ]
  },
  {
   "cell_type": "code",
   "execution_count": 88,
   "metadata": {},
   "outputs": [],
   "source": [
    "# save the char matrix\n",
    "output_name = 'char_matrix.npy'\n",
    "opn = os.path.join(rc.DATA_OUTPUT_FILE_PATH, output_name)\n",
    "np.save(file=opn, arr=char_matrix)"
   ]
  },
  {
   "cell_type": "code",
   "execution_count": 89,
   "metadata": {},
   "outputs": [],
   "source": [
    "# letter dictionary\n",
    "output_name = 'letter_dict.pkl'\n",
    "save_pickle(file_path=rc.DATA_OUTPUT_FILE_PATH,\n",
    "            file_name=output_name, obj=letter_dict)"
   ]
  },
  {
   "cell_type": "code",
   "execution_count": 90,
   "metadata": {},
   "outputs": [],
   "source": [
    "# Now, the dataframes"
   ]
  },
  {
   "cell_type": "code",
   "execution_count": 91,
   "metadata": {},
   "outputs": [],
   "source": [
    "# save the word df to sqlite db"
   ]
  },
  {
   "cell_type": "code",
   "execution_count": 92,
   "metadata": {},
   "outputs": [
    {
     "name": "stdout",
     "output_type": "stream",
     "text": [
      "...now writing: words\n"
     ]
    }
   ],
   "source": [
    "write_data_to_sqlite(df=word_df, table_name='words',\n",
    "                     db_path=rc.DB_PATH, db_name=rc.DB_NAME)"
   ]
  },
  {
   "cell_type": "code",
   "execution_count": 93,
   "metadata": {},
   "outputs": [
    {
     "name": "stdout",
     "output_type": "stream",
     "text": [
      "...now writing: word_groups\n"
     ]
    }
   ],
   "source": [
    "write_data_to_sqlite(df=wg_df, table_name='word_groups',\n",
    "                     db_path=rc.DB_PATH, db_name=rc.DB_NAME)"
   ]
  },
  {
   "cell_type": "code",
   "execution_count": 94,
   "metadata": {},
   "outputs": [
    {
     "name": "stdout",
     "output_type": "stream",
     "text": [
      "...now writing: letter_count\n"
     ]
    }
   ],
   "source": [
    "# now, the word / letter count\n",
    "write_data_to_sqlite(df=letter_count_df, table_name='letter_count',\n",
    "                     db_path=rc.DB_PATH, db_name=rc.DB_NAME)"
   ]
  },
  {
   "cell_type": "markdown",
   "metadata": {},
   "source": [
    "# Plot the number of word groups by word group size"
   ]
  },
  {
   "cell_type": "code",
   "execution_count": 98,
   "metadata": {},
   "outputs": [
    {
     "data": {
      "text/plain": [
       "234370"
      ]
     },
     "execution_count": 98,
     "metadata": {},
     "output_type": "execute_result"
    }
   ],
   "source": [
    "# the number of unique words:\n",
    "word_df.shape[0]"
   ]
  },
  {
   "cell_type": "code",
   "execution_count": 99,
   "metadata": {},
   "outputs": [
    {
     "data": {
      "text/plain": [
       "215842"
      ]
     },
     "execution_count": 99,
     "metadata": {},
     "output_type": "execute_result"
    }
   ],
   "source": [
    "# the number of unique word groups\n",
    "wg_df.shape[0]"
   ]
  },
  {
   "cell_type": "code",
   "execution_count": 100,
   "metadata": {},
   "outputs": [],
   "source": [
    "# word groups by word group size"
   ]
  },
  {
   "cell_type": "code",
   "execution_count": 111,
   "metadata": {},
   "outputs": [],
   "source": [
    "# filter, select columns, and aggregate\n",
    "agg_wg_df = wg_df.groupby(by = 'word_group_count').agg(n_words = ('word_group_count', 'size')).reset_index()"
   ]
  },
  {
   "cell_type": "code",
   "execution_count": 112,
   "metadata": {},
   "outputs": [
    {
     "data": {
      "text/html": [
       "<div>\n",
       "<style scoped>\n",
       "    .dataframe tbody tr th:only-of-type {\n",
       "        vertical-align: middle;\n",
       "    }\n",
       "\n",
       "    .dataframe tbody tr th {\n",
       "        vertical-align: top;\n",
       "    }\n",
       "\n",
       "    .dataframe thead th {\n",
       "        text-align: right;\n",
       "    }\n",
       "</style>\n",
       "<table border=\"1\" class=\"dataframe\">\n",
       "  <thead>\n",
       "    <tr style=\"text-align: right;\">\n",
       "      <th></th>\n",
       "      <th>word_group_count</th>\n",
       "      <th>n_words</th>\n",
       "    </tr>\n",
       "  </thead>\n",
       "  <tbody>\n",
       "    <tr>\n",
       "      <th>0</th>\n",
       "      <td>1</td>\n",
       "      <td>201480</td>\n",
       "    </tr>\n",
       "    <tr>\n",
       "      <th>1</th>\n",
       "      <td>2</td>\n",
       "      <td>11447</td>\n",
       "    </tr>\n",
       "    <tr>\n",
       "      <th>2</th>\n",
       "      <td>3</td>\n",
       "      <td>2072</td>\n",
       "    </tr>\n",
       "    <tr>\n",
       "      <th>3</th>\n",
       "      <td>4</td>\n",
       "      <td>575</td>\n",
       "    </tr>\n",
       "    <tr>\n",
       "      <th>4</th>\n",
       "      <td>5</td>\n",
       "      <td>177</td>\n",
       "    </tr>\n",
       "  </tbody>\n",
       "</table>\n",
       "</div>"
      ],
      "text/plain": [
       "   word_group_count  n_words\n",
       "0                 1   201480\n",
       "1                 2    11447\n",
       "2                 3     2072\n",
       "3                 4      575\n",
       "4                 5      177"
      ]
     },
     "execution_count": 112,
     "metadata": {},
     "output_type": "execute_result"
    }
   ],
   "source": [
    "agg_wg_df.head()"
   ]
  },
  {
   "cell_type": "code",
   "execution_count": 113,
   "metadata": {},
   "outputs": [],
   "source": [
    "# let's do a check of counts\n",
    "agg_wg_df['total_words'] = agg_wg_df['n_words'] * agg_wg_df['word_group_count']"
   ]
  },
  {
   "cell_type": "code",
   "execution_count": 114,
   "metadata": {},
   "outputs": [
    {
     "data": {
      "text/plain": [
       "234370"
      ]
     },
     "execution_count": 114,
     "metadata": {},
     "output_type": "execute_result"
    }
   ],
   "source": [
    "agg_wg_df['total_words'].sum()"
   ]
  },
  {
   "cell_type": "code",
   "execution_count": 117,
   "metadata": {},
   "outputs": [],
   "source": [
    "# select records with a count GTE 2\n",
    "agg_wg_df = agg_wg_df.loc[agg_wg_df['word_group_count'] > 1, ]"
   ]
  },
  {
   "cell_type": "code",
   "execution_count": 119,
   "metadata": {},
   "outputs": [
    {
     "data": {
      "image/png": "[encoded data removed]",
      "text/plain": [
       "<Figure size 2000x500 with 1 Axes>"
      ]
     },
     "metadata": {},
     "output_type": "display_data"
    }
   ],
   "source": [
    "# Create a barplot showing the counts of word groups with at least 2 letters\n",
    "sns.set_theme(style = \"whitegrid\")\n",
    "f, ax = plt.subplots(figsize = (20, 5))\n",
    "my_plot = sns.barplot(data = agg_wg_df, x=\"word_group_count\", y=\"n_words\",color = 'Gray')\n",
    "\n",
    "y_tick_labels = list(range(0, 12001, 1000))\n",
    "y_tick_labels_formatted = ['{:,}'.format(ytl) for ytl in y_tick_labels]   \n",
    "\n",
    "my_plot.set_yticks(ticks = y_tick_labels)\n",
    "my_plot.set_yticklabels(labels = y_tick_labels_formatted, rotation=0)\n",
    "\n",
    "# Annotate bars with values\n",
    "for c in ax.containers:\n",
    "    ax.bar_label(c, fmt='{:,.0f}')\n",
    "\n",
    "#ax.bar_label(ax.containers[0], fontsize=10)\n",
    "plt.title(label = \"Number of word groups by word group size\")\n",
    "plt.xlabel(xlabel = 'Word group size')\n",
    "plt.ylabel(ylabel = \"Number of word groups\")\n",
    "\n",
    "plt.show()"
   ]
  },
  {
   "cell_type": "code",
   "execution_count": null,
   "metadata": {},
   "outputs": [],
   "source": []
  }
 ],
 "metadata": {
  "kernelspec": {
   "display_name": "analysis",
   "language": "python",
   "name": "python3"
  },
  "language_info": {
   "codemirror_mode": {
    "name": "ipython",
    "version": 3
   },
   "file_extension": ".py",
   "mimetype": "text/x-python",
   "name": "python",
   "nbconvert_exporter": "python",
   "pygments_lexer": "ipython3",
   "version": "3.12.7"
  }
 },
 "nbformat": 4,
 "nbformat_minor": 4
}
